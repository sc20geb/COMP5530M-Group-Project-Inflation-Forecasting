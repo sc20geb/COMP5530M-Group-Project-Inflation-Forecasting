{
 "cells": [
  {
   "cell_type": "markdown",
   "metadata": {},
   "source": [
    "# Evalution"
   ]
  },
  {
   "cell_type": "markdown",
   "metadata": {},
   "source": [
    "## Imports:"
   ]
  },
  {
   "cell_type": "code",
   "execution_count": 12,
   "metadata": {},
   "outputs": [],
   "source": [
    "import pandas as p\n",
    "from pathlib import Path\n",
    "import re"
   ]
  },
  {
   "cell_type": "markdown",
   "metadata": {},
   "source": [
    "## Get Models:"
   ]
  },
  {
   "cell_type": "code",
   "execution_count": null,
   "metadata": {},
   "outputs": [],
   "source": [
    "modelsPath= Path('../Models/Weights/')\n",
    "+ list(modelsPath.glob('*.pkl'))"
   ]
  },
  {
   "cell_type": "code",
   "execution_count": null,
   "metadata": {},
   "outputs": [
    {
     "name": "stdout",
     "output_type": "stream",
     "text": [
      "..\\Models\\Weights\\model1.pth\n",
      "..\\Models\\Weights\\model2.pkl\n"
     ]
    }
   ],
   "source": [
    "def evaluate_pytorch_models(models_path:Path):\n",
    "    for i in list(modelsPath.glob('*.pth')):\n",
    "        # extract model name from file name\n",
    "        #eval(model_name)().load_state_dict(torch.load(i))\n",
    "        # perform evaluation......\n",
    "        print(i)\n",
    "\n",
    "def evaluate_pkl_models(models_path:Path):\n",
    "    for i in list(modelsPath.glob('*.pkl')):\n",
    "        # load pkl file\n",
    "        # perfom evaluation....\n",
    "        print(i)\n",
    "def evaluate_models(models_path:Path):\n",
    "    get_pytorch_models(models_path)\n",
    "    get_pkl_models(modelsPath)\n",
    "        \n",
    "get_model_weights(modelsPath)"
   ]
  }
 ],
 "metadata": {
  "kernelspec": {
   "display_name": "Python 3",
   "language": "python",
   "name": "python3"
  },
  "language_info": {
   "codemirror_mode": {
    "name": "ipython",
    "version": 3
   },
   "file_extension": ".py",
   "mimetype": "text/x-python",
   "name": "python",
   "nbconvert_exporter": "python",
   "pygments_lexer": "ipython3",
   "version": "3.12.2"
  }
 },
 "nbformat": 4,
 "nbformat_minor": 2
}
