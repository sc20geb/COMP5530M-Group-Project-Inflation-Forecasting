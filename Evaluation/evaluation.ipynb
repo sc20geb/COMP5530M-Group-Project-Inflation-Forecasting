{
 "cells": [
  {
   "cell_type": "markdown",
   "metadata": {},
   "source": [
    "# Evalution and Analysis"
   ]
  },
  {
   "cell_type": "markdown",
   "metadata": {},
   "source": [
    "## Imports:"
   ]
  },
  {
   "cell_type": "code",
   "execution_count": 1,
   "metadata": {},
   "outputs": [],
   "source": [
    "from pathlib import Path\n",
    "from Helper.evaluation_helpers import get_predictions, calc_metrics, error_plot\n",
    "import warnings\n",
    "from matplotlib import pyplot as plt"
   ]
  },
  {
   "cell_type": "markdown",
   "metadata": {},
   "source": [
    "### Supress warnings"
   ]
  },
  {
   "cell_type": "code",
   "execution_count": 2,
   "metadata": {},
   "outputs": [],
   "source": [
    "warnings.filterwarnings(\"ignore\") "
   ]
  },
  {
   "cell_type": "code",
   "execution_count": 3,
   "metadata": {},
   "outputs": [
    {
     "name": "stdout",
     "output_type": "stream",
     "text": [
      " ARDL.npy has 12 values\n",
      " ARIMA1990.npy has 12 values\n",
      " ARIMA2000.npy has 12 values\n",
      " ARIMAX1990.npy has 12 values\n",
      " ARIMAX2000.npy has 12 values\n",
      " GRU.npy has 48 values\n",
      " LSTM.npy has 12 values\n",
      " MLR.npy has 48 values\n",
      " Naive.npy has 48 values\n",
      " NBEATSx.npy has 12 values\n",
      " NHITS.npy has 12 values\n",
      " Random_Forest_X.npy has 12 values\n",
      " SARIMA1990.npy has 12 values\n",
      " SARIMA2000.npy has 12 values\n",
      " SARIMAX1990.npy has 12 values\n",
      " SARIMAX2000.npy has 12 values\n",
      " Tide.npy has 12 values\n",
      " VAR.npy has 12 values\n"
     ]
    }
   ],
   "source": [
    "import numpy as np\n",
    "from pathlib import Path\n",
    "\n",
    "predsPath = Path('../Predictions/')\n",
    "for i in list(predsPath.glob('*.npy')):\n",
    "    data = np.load(i)\n",
    "    print(f\" {i.name} has {len(data)} values\")  # Show length of each prediction file\n"
   ]
  },
  {
   "cell_type": "code",
   "execution_count": 4,
   "metadata": {},
   "outputs": [],
   "source": [
    "# metric DataFrames are sorted by the main metric before being displayed\n",
    "main_metric = 'RMSE'"
   ]
  },
  {
   "cell_type": "markdown",
   "metadata": {},
   "source": [
    "# Horizon = 1:"
   ]
  },
  {
   "cell_type": "code",
   "execution_count": 5,
   "metadata": {},
   "outputs": [
    {
     "data": {
      "text/html": [
       "<div>\n",
       "<style scoped>\n",
       "    .dataframe tbody tr th:only-of-type {\n",
       "        vertical-align: middle;\n",
       "    }\n",
       "\n",
       "    .dataframe tbody tr th {\n",
       "        vertical-align: top;\n",
       "    }\n",
       "\n",
       "    .dataframe thead th {\n",
       "        text-align: right;\n",
       "    }\n",
       "</style>\n",
       "<table border=\"1\" class=\"dataframe\">\n",
       "  <thead>\n",
       "    <tr style=\"text-align: right;\">\n",
       "      <th></th>\n",
       "      <th>ground_truth</th>\n",
       "      <th>ARIMA1990</th>\n",
       "    </tr>\n",
       "    <tr>\n",
       "      <th>observation_date</th>\n",
       "      <th></th>\n",
       "      <th></th>\n",
       "    </tr>\n",
       "  </thead>\n",
       "  <tbody>\n",
       "    <tr>\n",
       "      <th>01/2024</th>\n",
       "      <td>122.115</td>\n",
       "      <td>121.865489</td>\n",
       "    </tr>\n",
       "    <tr>\n",
       "      <th>02/2024</th>\n",
       "      <td>122.494</td>\n",
       "      <td>122.135733</td>\n",
       "    </tr>\n",
       "    <tr>\n",
       "      <th>03/2024</th>\n",
       "      <td>122.912</td>\n",
       "      <td>122.405977</td>\n",
       "    </tr>\n",
       "    <tr>\n",
       "      <th>04/2024</th>\n",
       "      <td>123.234</td>\n",
       "      <td>122.676221</td>\n",
       "    </tr>\n",
       "    <tr>\n",
       "      <th>05/2024</th>\n",
       "      <td>123.224</td>\n",
       "      <td>122.946465</td>\n",
       "    </tr>\n",
       "    <tr>\n",
       "      <th>06/2024</th>\n",
       "      <td>123.369</td>\n",
       "      <td>123.216709</td>\n",
       "    </tr>\n",
       "    <tr>\n",
       "      <th>07/2024</th>\n",
       "      <td>123.575</td>\n",
       "      <td>123.486953</td>\n",
       "    </tr>\n",
       "    <tr>\n",
       "      <th>08/2024</th>\n",
       "      <td>123.727</td>\n",
       "      <td>123.757197</td>\n",
       "    </tr>\n",
       "    <tr>\n",
       "      <th>09/2024</th>\n",
       "      <td>123.939</td>\n",
       "      <td>124.027441</td>\n",
       "    </tr>\n",
       "    <tr>\n",
       "      <th>10/2024</th>\n",
       "      <td>124.235</td>\n",
       "      <td>124.297685</td>\n",
       "    </tr>\n",
       "    <tr>\n",
       "      <th>11/2024</th>\n",
       "      <td>124.387</td>\n",
       "      <td>124.567929</td>\n",
       "    </tr>\n",
       "    <tr>\n",
       "      <th>12/2024</th>\n",
       "      <td>124.705</td>\n",
       "      <td>124.838173</td>\n",
       "    </tr>\n",
       "  </tbody>\n",
       "</table>\n",
       "</div>"
      ],
      "text/plain": [
       "                  ground_truth   ARIMA1990\n",
       "observation_date                          \n",
       "01/2024                122.115  121.865489\n",
       "02/2024                122.494  122.135733\n",
       "03/2024                122.912  122.405977\n",
       "04/2024                123.234  122.676221\n",
       "05/2024                123.224  122.946465\n",
       "06/2024                123.369  123.216709\n",
       "07/2024                123.575  123.486953\n",
       "08/2024                123.727  123.757197\n",
       "09/2024                123.939  124.027441\n",
       "10/2024                124.235  124.297685\n",
       "11/2024                124.387  124.567929\n",
       "12/2024                124.705  124.838173"
      ]
     },
     "metadata": {},
     "output_type": "display_data"
    },
    {
     "data": {
      "text/html": [
       "<div>\n",
       "<style scoped>\n",
       "    .dataframe tbody tr th:only-of-type {\n",
       "        vertical-align: middle;\n",
       "    }\n",
       "\n",
       "    .dataframe tbody tr th {\n",
       "        vertical-align: top;\n",
       "    }\n",
       "\n",
       "    .dataframe thead th {\n",
       "        text-align: right;\n",
       "    }\n",
       "</style>\n",
       "<table border=\"1\" class=\"dataframe\">\n",
       "  <thead>\n",
       "    <tr style=\"text-align: right;\">\n",
       "      <th></th>\n",
       "      <th>RMSE</th>\n",
       "      <th>MAE</th>\n",
       "      <th>r2</th>\n",
       "    </tr>\n",
       "  </thead>\n",
       "  <tbody>\n",
       "    <tr>\n",
       "      <th>ARIMA1990</th>\n",
       "      <td>0.278222</td>\n",
       "      <td>0.22374</td>\n",
       "      <td>0.856396</td>\n",
       "    </tr>\n",
       "  </tbody>\n",
       "</table>\n",
       "</div>"
      ],
      "text/plain": [
       "               RMSE      MAE        r2\n",
       "ARIMA1990  0.278222  0.22374  0.856396"
      ]
     },
     "metadata": {},
     "output_type": "display_data"
    },
    {
     "name": "stderr",
     "output_type": "stream",
     "text": [
      "2025-04-18 12:24:16,718 - INFO - Using categorical units to plot a list of strings that are all parsable as floats or dates. If these strings should be plotted as numbers, cast to the appropriate data type before plotting.\n",
      "2025-04-18 12:24:16,723 - INFO - Using categorical units to plot a list of strings that are all parsable as floats or dates. If these strings should be plotted as numbers, cast to the appropriate data type before plotting.\n"
     ]
    },
    {
     "data": {
      "image/png": "[encoded data removed]",
      "text/plain": [
       "<Figure size 1000x500 with 1 Axes>"
      ]
     },
     "metadata": {},
     "output_type": "display_data"
    }
   ],
   "source": [
    "predsPath= Path('../Predictions/Horizon1')\n",
    "predsDf=get_predictions(predsPath)\n",
    "display(predsDf)\n",
    "\n",
    "metrics_1= calc_metrics(predsDf)\n",
    "display(metrics_1.sort_values(main_metric, axis=0))\n",
    "\n",
    "error_plot(predsDf,model='all')"
   ]
  },
  {
   "cell_type": "markdown",
   "metadata": {},
   "source": [
    "# Horizon = 3:"
   ]
  },
  {
   "cell_type": "code",
   "execution_count": 6,
   "metadata": {},
   "outputs": [
    {
     "data": {
      "text/html": [
       "<div>\n",
       "<style scoped>\n",
       "    .dataframe tbody tr th:only-of-type {\n",
       "        vertical-align: middle;\n",
       "    }\n",
       "\n",
       "    .dataframe tbody tr th {\n",
       "        vertical-align: top;\n",
       "    }\n",
       "\n",
       "    .dataframe thead th {\n",
       "        text-align: right;\n",
       "    }\n",
       "</style>\n",
       "<table border=\"1\" class=\"dataframe\">\n",
       "  <thead>\n",
       "    <tr style=\"text-align: right;\">\n",
       "      <th></th>\n",
       "      <th>ground_truth</th>\n",
       "      <th>ARIMA1990</th>\n",
       "    </tr>\n",
       "    <tr>\n",
       "      <th>observation_date</th>\n",
       "      <th></th>\n",
       "      <th></th>\n",
       "    </tr>\n",
       "  </thead>\n",
       "  <tbody>\n",
       "    <tr>\n",
       "      <th>01/2024</th>\n",
       "      <td>122.115</td>\n",
       "      <td>121.865489</td>\n",
       "    </tr>\n",
       "    <tr>\n",
       "      <th>02/2024</th>\n",
       "      <td>122.494</td>\n",
       "      <td>122.135733</td>\n",
       "    </tr>\n",
       "    <tr>\n",
       "      <th>03/2024</th>\n",
       "      <td>122.912</td>\n",
       "      <td>122.405977</td>\n",
       "    </tr>\n",
       "    <tr>\n",
       "      <th>04/2024</th>\n",
       "      <td>123.234</td>\n",
       "      <td>122.676221</td>\n",
       "    </tr>\n",
       "    <tr>\n",
       "      <th>05/2024</th>\n",
       "      <td>123.224</td>\n",
       "      <td>122.946465</td>\n",
       "    </tr>\n",
       "    <tr>\n",
       "      <th>06/2024</th>\n",
       "      <td>123.369</td>\n",
       "      <td>123.216709</td>\n",
       "    </tr>\n",
       "    <tr>\n",
       "      <th>07/2024</th>\n",
       "      <td>123.575</td>\n",
       "      <td>123.486953</td>\n",
       "    </tr>\n",
       "    <tr>\n",
       "      <th>08/2024</th>\n",
       "      <td>123.727</td>\n",
       "      <td>123.757197</td>\n",
       "    </tr>\n",
       "    <tr>\n",
       "      <th>09/2024</th>\n",
       "      <td>123.939</td>\n",
       "      <td>124.027441</td>\n",
       "    </tr>\n",
       "    <tr>\n",
       "      <th>10/2024</th>\n",
       "      <td>124.235</td>\n",
       "      <td>124.297685</td>\n",
       "    </tr>\n",
       "    <tr>\n",
       "      <th>11/2024</th>\n",
       "      <td>124.387</td>\n",
       "      <td>124.567929</td>\n",
       "    </tr>\n",
       "    <tr>\n",
       "      <th>12/2024</th>\n",
       "      <td>124.705</td>\n",
       "      <td>124.838173</td>\n",
       "    </tr>\n",
       "  </tbody>\n",
       "</table>\n",
       "</div>"
      ],
      "text/plain": [
       "                  ground_truth   ARIMA1990\n",
       "observation_date                          \n",
       "01/2024                122.115  121.865489\n",
       "02/2024                122.494  122.135733\n",
       "03/2024                122.912  122.405977\n",
       "04/2024                123.234  122.676221\n",
       "05/2024                123.224  122.946465\n",
       "06/2024                123.369  123.216709\n",
       "07/2024                123.575  123.486953\n",
       "08/2024                123.727  123.757197\n",
       "09/2024                123.939  124.027441\n",
       "10/2024                124.235  124.297685\n",
       "11/2024                124.387  124.567929\n",
       "12/2024                124.705  124.838173"
      ]
     },
     "metadata": {},
     "output_type": "display_data"
    }
   ],
   "source": [
    "predsPath= Path('../Predictions/Horizon3')\n",
    "predsDf=get_predictions(predsPath)\n",
    "display(predsDf)"
   ]
  },
  {
   "cell_type": "markdown",
   "metadata": {},
   "source": [
    "# Horizon = 6:"
   ]
  },
  {
   "cell_type": "code",
   "execution_count": 7,
   "metadata": {},
   "outputs": [
    {
     "data": {
      "text/html": [
       "<div>\n",
       "<style scoped>\n",
       "    .dataframe tbody tr th:only-of-type {\n",
       "        vertical-align: middle;\n",
       "    }\n",
       "\n",
       "    .dataframe tbody tr th {\n",
       "        vertical-align: top;\n",
       "    }\n",
       "\n",
       "    .dataframe thead th {\n",
       "        text-align: right;\n",
       "    }\n",
       "</style>\n",
       "<table border=\"1\" class=\"dataframe\">\n",
       "  <thead>\n",
       "    <tr style=\"text-align: right;\">\n",
       "      <th></th>\n",
       "      <th>ground_truth</th>\n",
       "      <th>ARIMA1990</th>\n",
       "    </tr>\n",
       "    <tr>\n",
       "      <th>observation_date</th>\n",
       "      <th></th>\n",
       "      <th></th>\n",
       "    </tr>\n",
       "  </thead>\n",
       "  <tbody>\n",
       "    <tr>\n",
       "      <th>01/2024</th>\n",
       "      <td>122.115</td>\n",
       "      <td>121.865489</td>\n",
       "    </tr>\n",
       "    <tr>\n",
       "      <th>02/2024</th>\n",
       "      <td>122.494</td>\n",
       "      <td>122.135733</td>\n",
       "    </tr>\n",
       "    <tr>\n",
       "      <th>03/2024</th>\n",
       "      <td>122.912</td>\n",
       "      <td>122.405977</td>\n",
       "    </tr>\n",
       "    <tr>\n",
       "      <th>04/2024</th>\n",
       "      <td>123.234</td>\n",
       "      <td>122.676221</td>\n",
       "    </tr>\n",
       "    <tr>\n",
       "      <th>05/2024</th>\n",
       "      <td>123.224</td>\n",
       "      <td>122.946465</td>\n",
       "    </tr>\n",
       "    <tr>\n",
       "      <th>06/2024</th>\n",
       "      <td>123.369</td>\n",
       "      <td>123.216709</td>\n",
       "    </tr>\n",
       "    <tr>\n",
       "      <th>07/2024</th>\n",
       "      <td>123.575</td>\n",
       "      <td>123.486953</td>\n",
       "    </tr>\n",
       "    <tr>\n",
       "      <th>08/2024</th>\n",
       "      <td>123.727</td>\n",
       "      <td>123.757197</td>\n",
       "    </tr>\n",
       "    <tr>\n",
       "      <th>09/2024</th>\n",
       "      <td>123.939</td>\n",
       "      <td>124.027441</td>\n",
       "    </tr>\n",
       "    <tr>\n",
       "      <th>10/2024</th>\n",
       "      <td>124.235</td>\n",
       "      <td>124.297685</td>\n",
       "    </tr>\n",
       "    <tr>\n",
       "      <th>11/2024</th>\n",
       "      <td>124.387</td>\n",
       "      <td>124.567929</td>\n",
       "    </tr>\n",
       "    <tr>\n",
       "      <th>12/2024</th>\n",
       "      <td>124.705</td>\n",
       "      <td>124.838173</td>\n",
       "    </tr>\n",
       "  </tbody>\n",
       "</table>\n",
       "</div>"
      ],
      "text/plain": [
       "                  ground_truth   ARIMA1990\n",
       "observation_date                          \n",
       "01/2024                122.115  121.865489\n",
       "02/2024                122.494  122.135733\n",
       "03/2024                122.912  122.405977\n",
       "04/2024                123.234  122.676221\n",
       "05/2024                123.224  122.946465\n",
       "06/2024                123.369  123.216709\n",
       "07/2024                123.575  123.486953\n",
       "08/2024                123.727  123.757197\n",
       "09/2024                123.939  124.027441\n",
       "10/2024                124.235  124.297685\n",
       "11/2024                124.387  124.567929\n",
       "12/2024                124.705  124.838173"
      ]
     },
     "metadata": {},
     "output_type": "display_data"
    }
   ],
   "source": [
    "predsPath= Path('../Predictions/Horizon6')\n",
    "predsDf=get_predictions(predsPath)\n",
    "display(predsDf)"
   ]
  },
  {
   "cell_type": "markdown",
   "metadata": {},
   "source": [
    "# Horizon = 12:"
   ]
  },
  {
   "cell_type": "code",
   "execution_count": 8,
   "metadata": {},
   "outputs": [
    {
     "data": {
      "text/html": [
       "<div>\n",
       "<style scoped>\n",
       "    .dataframe tbody tr th:only-of-type {\n",
       "        vertical-align: middle;\n",
       "    }\n",
       "\n",
       "    .dataframe tbody tr th {\n",
       "        vertical-align: top;\n",
       "    }\n",
       "\n",
       "    .dataframe thead th {\n",
       "        text-align: right;\n",
       "    }\n",
       "</style>\n",
       "<table border=\"1\" class=\"dataframe\">\n",
       "  <thead>\n",
       "    <tr style=\"text-align: right;\">\n",
       "      <th></th>\n",
       "      <th>ground_truth</th>\n",
       "      <th>ARIMA1990</th>\n",
       "    </tr>\n",
       "    <tr>\n",
       "      <th>observation_date</th>\n",
       "      <th></th>\n",
       "      <th></th>\n",
       "    </tr>\n",
       "  </thead>\n",
       "  <tbody>\n",
       "    <tr>\n",
       "      <th>01/2024</th>\n",
       "      <td>122.115</td>\n",
       "      <td>121.865489</td>\n",
       "    </tr>\n",
       "    <tr>\n",
       "      <th>02/2024</th>\n",
       "      <td>122.494</td>\n",
       "      <td>122.135733</td>\n",
       "    </tr>\n",
       "    <tr>\n",
       "      <th>03/2024</th>\n",
       "      <td>122.912</td>\n",
       "      <td>122.405977</td>\n",
       "    </tr>\n",
       "    <tr>\n",
       "      <th>04/2024</th>\n",
       "      <td>123.234</td>\n",
       "      <td>122.676221</td>\n",
       "    </tr>\n",
       "    <tr>\n",
       "      <th>05/2024</th>\n",
       "      <td>123.224</td>\n",
       "      <td>122.946465</td>\n",
       "    </tr>\n",
       "    <tr>\n",
       "      <th>06/2024</th>\n",
       "      <td>123.369</td>\n",
       "      <td>123.216709</td>\n",
       "    </tr>\n",
       "    <tr>\n",
       "      <th>07/2024</th>\n",
       "      <td>123.575</td>\n",
       "      <td>123.486953</td>\n",
       "    </tr>\n",
       "    <tr>\n",
       "      <th>08/2024</th>\n",
       "      <td>123.727</td>\n",
       "      <td>123.757197</td>\n",
       "    </tr>\n",
       "    <tr>\n",
       "      <th>09/2024</th>\n",
       "      <td>123.939</td>\n",
       "      <td>124.027441</td>\n",
       "    </tr>\n",
       "    <tr>\n",
       "      <th>10/2024</th>\n",
       "      <td>124.235</td>\n",
       "      <td>124.297685</td>\n",
       "    </tr>\n",
       "    <tr>\n",
       "      <th>11/2024</th>\n",
       "      <td>124.387</td>\n",
       "      <td>124.567929</td>\n",
       "    </tr>\n",
       "    <tr>\n",
       "      <th>12/2024</th>\n",
       "      <td>124.705</td>\n",
       "      <td>124.838173</td>\n",
       "    </tr>\n",
       "  </tbody>\n",
       "</table>\n",
       "</div>"
      ],
      "text/plain": [
       "                  ground_truth   ARIMA1990\n",
       "observation_date                          \n",
       "01/2024                122.115  121.865489\n",
       "02/2024                122.494  122.135733\n",
       "03/2024                122.912  122.405977\n",
       "04/2024                123.234  122.676221\n",
       "05/2024                123.224  122.946465\n",
       "06/2024                123.369  123.216709\n",
       "07/2024                123.575  123.486953\n",
       "08/2024                123.727  123.757197\n",
       "09/2024                123.939  124.027441\n",
       "10/2024                124.235  124.297685\n",
       "11/2024                124.387  124.567929\n",
       "12/2024                124.705  124.838173"
      ]
     },
     "metadata": {},
     "output_type": "display_data"
    }
   ],
   "source": [
    "predsPath= Path('../Predictions/Horizon12')\n",
    "predsDf=get_predictions(predsPath)\n",
    "display(predsDf)"
   ]
  },
  {
   "cell_type": "markdown",
   "metadata": {},
   "source": [
    "# Analysis:"
   ]
  },
  {
   "cell_type": "code",
   "execution_count": null,
   "metadata": {},
   "outputs": [],
   "source": []
  },
  {
   "cell_type": "code",
   "execution_count": 9,
   "metadata": {},
   "outputs": [
    {
     "name": "stderr",
     "output_type": "stream",
     "text": [
      "2025-04-18 12:24:17,052 - INFO - Using categorical units to plot a list of strings that are all parsable as floats or dates. If these strings should be plotted as numbers, cast to the appropriate data type before plotting.\n",
      "2025-04-18 12:24:17,055 - INFO - Using categorical units to plot a list of strings that are all parsable as floats or dates. If these strings should be plotted as numbers, cast to the appropriate data type before plotting.\n",
      "2025-04-18 12:24:17,058 - INFO - Using categorical units to plot a list of strings that are all parsable as floats or dates. If these strings should be plotted as numbers, cast to the appropriate data type before plotting.\n",
      "2025-04-18 12:24:17,059 - INFO - Using categorical units to plot a list of strings that are all parsable as floats or dates. If these strings should be plotted as numbers, cast to the appropriate data type before plotting.\n"
     ]
    },
    {
     "data": {
      "image/png": "[encoded data removed]",
      "text/plain": [
       "<Figure size 1000x500 with 1 Axes>"
      ]
     },
     "metadata": {},
     "output_type": "display_data"
    }
   ],
   "source": [
    "from matplotlib import pyplot as plt\n",
    "\n",
    "plt.figure(figsize=(10, 5))\n",
    "ax = plt.axes()\n",
    "ax.xaxis.set_major_locator(plt.MaxNLocator(10))\n",
    "plt.locator_params(axis='x', nbins=10)\n",
    "\n",
    "for model in predsDf.columns:\n",
    "    plt.plot(predsDf.index[:int(len(predsDf)/4)], predsDf[model][:int(len(predsDf)/4)])\n",
    "\n",
    "plt.legend(predsDf.columns)\n",
    "plt.show()"
   ]
  }
 ],
 "metadata": {
  "kernelspec": {
   "display_name": "Python 3",
   "language": "python",
   "name": "python3"
  },
  "language_info": {
   "codemirror_mode": {
    "name": "ipython",
    "version": 3
   },
   "file_extension": ".py",
   "mimetype": "text/x-python",
   "name": "python",
   "nbconvert_exporter": "python",
   "pygments_lexer": "ipython3",
   "version": "3.12.2"
  }
 },
 "nbformat": 4,
 "nbformat_minor": 2
}
