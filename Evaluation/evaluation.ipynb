{
 "cells": [
  {
   "cell_type": "markdown",
   "metadata": {},
   "source": [
    "# Evalution and Analysis"
   ]
  },
  {
   "cell_type": "markdown",
   "metadata": {},
   "source": [
    "## Imports:"
   ]
  },
  {
   "cell_type": "code",
   "metadata": {},
   "outputs": [],
   "source": [
    "from pathlib import Path\n",
    "from Helper.evaluation_helpers import get_predictions, calc_metrics, error_plot,plot_metric\n",
    "from Training.Helper.PyTorchModular import HORIZONS\n",
    "import warnings\n",
    "from matplotlib import pyplot as plt"
   ]
  },
  {
   "cell_type": "markdown",
   "metadata": {},
   "source": [
    "### Supress warnings"
   ]
  },
  {
   "cell_type": "code",
   "metadata": {},
   "outputs": [],
   "source": [
    "warnings.filterwarnings(\"ignore\") "
   ]
  },
  {
   "cell_type": "code",
   "metadata": {},
   "outputs": [
    {
     "name": "stdout",
     "output_type": "stream",
     "text": [
     ]
    }
   ],
   "source": [
    "import numpy as np\n",
    "import os\n",
    "from pathlib import Path\n",
    "\n",
    "predsPath = os.path.join('..', 'Predictions')\n",
    "horizonPaths = [f'Horizon{horizon}' for horizon in HORIZONS]\n",
    "for horizonPath in horizonPaths:\n",
    "    print(f'{horizonPath}:')\n",
    "    for i in list(Path(os.path.join(predsPath, horizonPath)).glob('*.npy')):\n",
    "        data = np.load(i)\n",
    "        print(f\" {i.name} has {len(data)} values\")  # Show length of each prediction file\n"
   ]
  },
  {
   "cell_type": "code",
   "metadata": {},
   "outputs": [],
   "source": [
    "# metric DataFrames are sorted by the main metric before being displayed\n",
    "main_metric = 'RMSE'"
   ]
  },
  {
   "cell_type": "markdown",
   "metadata": {},
   "source": [
    "# Horizon = 1:"
   ]
  },
  {
   "cell_type": "code",
   "metadata": {},
   "outputs": [
    {
     "data": {
      "text/html": [
       "<div>\n",
       "<style scoped>\n",
       "    .dataframe tbody tr th:only-of-type {\n",
       "        vertical-align: middle;\n",
       "    }\n",
       "\n",
       "    .dataframe tbody tr th {\n",
       "        vertical-align: top;\n",
       "    }\n",
       "\n",
       "    .dataframe thead th {\n",
       "        text-align: right;\n",
       "    }\n",
       "</style>\n",
       "<table border=\"1\" class=\"dataframe\">\n",
       "  <thead>\n",
       "    <tr style=\"text-align: right;\">\n",
       "      <th></th>\n",
       "      <th>RMSE</th>\n",
       "      <th>MAE</th>\n",
       "      <th>r2</th>\n",
       "    </tr>\n",
       "  </thead>\n",
       "  <tbody>\n",
       "    <tr>\n",
       "      <th>ARIMAX1990</th>\n",
       "      <td>0.261509</td>\n",
       "      <td>0.215859</td>\n",
       "      <td>0.873131</td>\n",
       "    </tr>\n",
       "    <tr>\n",
       "      <th>SARIMAX1990</th>\n",
       "      <td>0.269689</td>\n",
       "      <td>0.25457</td>\n",
       "      <td>0.865069</td>\n",
       "    </tr>\n",
       "    <tr>\n",
       "      <th>ARIMA1990</th>\n",
       "      <td>0.278222</td>\n",
       "      <td>0.22374</td>\n",
       "      <td>0.856396</td>\n",
       "    </tr>\n",
       "    <tr>\n",
       "      <th>Naive</th>\n",
       "      <td>0.292784</td>\n",
       "      <td>0.26025</td>\n",
       "      <td>0.84097</td>\n",
       "    </tr>\n",
       "    <tr>\n",
       "      <th>RFX</th>\n",
       "      <td>0.311292</td>\n",
       "      <td>0.276283</td>\n",
       "      <td>0.820229</td>\n",
       "    </tr>\n",
       "    <tr>\n",
       "      <th>SARIMA1990</th>\n",
       "      <td>0.33694</td>\n",
       "      <td>0.285122</td>\n",
       "      <td>0.789385</td>\n",
       "    </tr>\n",
       "    <tr>\n",
       "      <th>TCN</th>\n",
       "      <td>0.471641</td>\n",
       "      <td>0.399372</td>\n",
       "      <td>0.587325</td>\n",
       "    </tr>\n",
       "    <tr>\n",
       "      <th>VARcointegration</th>\n",
       "      <td>0.558785</td>\n",
       "      <td>0.505504</td>\n",
       "      <td>0.420741</td>\n",
       "    </tr>\n",
       "    <tr>\n",
       "      <th>VARccf</th>\n",
       "      <td>0.626305</td>\n",
       "      <td>0.611547</td>\n",
       "      <td>0.272295</td>\n",
       "    </tr>\n",
       "    <tr>\n",
       "      <th>LSTM</th>\n",
       "      <td>1.602009</td>\n",
       "      <td>1.278878</td>\n",
       "      <td>-3.761173</td>\n",
       "    </tr>\n",
       "    <tr>\n",
       "      <th>ARDL</th>\n",
       "      <td>2.640828</td>\n",
       "      <td>2.610789</td>\n",
       "      <td>-11.937913</td>\n",
       "    </tr>\n",
       "    <tr>\n",
       "      <th>TFT</th>\n",
       "      <td>2.680355</td>\n",
       "      <td>2.576154</td>\n",
       "      <td>-12.32812</td>\n",
       "    </tr>\n",
       "    <tr>\n",
       "      <th>MARS</th>\n",
       "      <td>2.998218</td>\n",
       "      <td>2.866051</td>\n",
       "      <td>-15.676713</td>\n",
       "    </tr>\n",
       "    <tr>\n",
       "      <th>NBEATSx1990</th>\n",
       "      <td>3.099433</td>\n",
       "      <td>3.085965</td>\n",
       "      <td>-16.821684</td>\n",
       "    </tr>\n",
       "    <tr>\n",
       "      <th>NHITS1990</th>\n",
       "      <td>3.145882</td>\n",
       "      <td>3.132527</td>\n",
       "      <td>-17.359842</td>\n",
       "    </tr>\n",
       "    <tr>\n",
       "      <th>RNN1990</th>\n",
       "      <td>4.488803</td>\n",
       "      <td>4.477544</td>\n",
       "      <td>-36.380507</td>\n",
       "    </tr>\n",
       "    <tr>\n",
       "      <th>GRU1990</th>\n",
       "      <td>7.330213</td>\n",
       "      <td>7.303576</td>\n",
       "      <td>-98.68212</td>\n",
       "    </tr>\n",
       "    <tr>\n",
       "      <th>MLR</th>\n",
       "      <td>9.762532</td>\n",
       "      <td>9.758387</td>\n",
       "      <td>-175.810911</td>\n",
       "    </tr>\n",
       "    <tr>\n",
       "      <th>XGB1990</th>\n",
       "      <td>23.767921</td>\n",
       "      <td>23.756879</td>\n",
       "      <td>-1047.012569</td>\n",
       "    </tr>\n",
       "  </tbody>\n",
       "</table>\n",
       "</div>"
      ],
      "text/plain": [
       "                       RMSE        MAE           r2\n",
       "ARIMAX1990         0.261509   0.215859     0.873131\n",
       "SARIMAX1990        0.269689    0.25457     0.865069\n",
       "ARIMA1990          0.278222    0.22374     0.856396\n",
       "Naive              0.292784    0.26025      0.84097\n",
       "RFX                0.311292   0.276283     0.820229\n",
       "SARIMA1990          0.33694   0.285122     0.789385\n",
       "TCN                0.471641   0.399372     0.587325\n",
       "VARcointegration   0.558785   0.505504     0.420741\n",
       "VARccf             0.626305   0.611547     0.272295\n",
       "LSTM               1.602009   1.278878    -3.761173\n",
       "ARDL               2.640828   2.610789   -11.937913\n",
       "TFT                2.680355   2.576154    -12.32812\n",
       "MARS               2.998218   2.866051   -15.676713\n",
       "NBEATSx1990        3.099433   3.085965   -16.821684\n",
       "NHITS1990          3.145882   3.132527   -17.359842\n",
       "RNN1990            4.488803   4.477544   -36.380507\n",
       "GRU1990            7.330213   7.303576    -98.68212\n",
       "MLR                9.762532   9.758387  -175.810911\n",
       "XGB1990           23.767921  23.756879 -1047.012569"
      ]
     },
     "metadata": {},
     "output_type": "display_data"
    },
    {
     "data": {
      "text/plain": [
       "<Figure size 1000x500 with 1 Axes>"
      ]
     },
     "metadata": {},
     "output_type": "display_data"
    },
    {
     "data": {
      "text/plain": [
       "<Figure size 640x480 with 1 Axes>"
      ]
     },
     "metadata": {},
     "output_type": "display_data"
    },
    {
     "data": {
      "text/plain": [
       "<Figure size 640x480 with 1 Axes>"
      ]
     },
     "metadata": {},
     "output_type": "display_data"
    },
    {
     "data": {
      "text/plain": [
       "<Figure size 640x480 with 1 Axes>"
      ]
     },
     "metadata": {},
     "output_type": "display_data"
    }
   ],
   "source": [
    "predsPath_1= Path('../Predictions/Horizon1')\n",
    "predsDf_1=get_predictions(predsPath_1)\n",
    "\n",
    "metrics_1= calc_metrics(predsDf_1)\n",
    "display(metrics_1.sort_values(main_metric, axis=0))\n",
    "\n",
    "error_plot(predsDf_1,model='all',absolute=False, title= 'Horizon 1 Error plot:')\n",
    "\n",
    "for i in metrics_1.columns:\n",
    "    plot_metric(metrics_1,i,model='all', title='Horizon 1:')"
   ]
  },
  {
   "cell_type": "markdown",
   "metadata": {},
   "source": [
    "# Horizon = 3:"
   ]
  },
  {
   "cell_type": "code",
   "metadata": {},
   "outputs": [
    {
     "data": {
      "text/html": [
       "<div>\n",
       "<style scoped>\n",
       "    .dataframe tbody tr th:only-of-type {\n",
       "        vertical-align: middle;\n",
       "    }\n",
       "\n",
       "    .dataframe tbody tr th {\n",
       "        vertical-align: top;\n",
       "    }\n",
       "\n",
       "    .dataframe thead th {\n",
       "        text-align: right;\n",
       "    }\n",
       "</style>\n",
       "<table border=\"1\" class=\"dataframe\">\n",
       "  <thead>\n",
       "    <tr style=\"text-align: right;\">\n",
       "      <th></th>\n",
       "      <th>RMSE</th>\n",
       "      <th>MAE</th>\n",
       "      <th>r2</th>\n",
       "    </tr>\n",
       "  </thead>\n",
       "  <tbody>\n",
       "    <tr>\n",
       "      <th>RFX</th>\n",
       "      <td>0.490925</td>\n",
       "      <td>0.419944</td>\n",
       "      <td>0.552889</td>\n",
       "    </tr>\n",
       "    <tr>\n",
       "      <th>Naive</th>\n",
       "      <td>0.616129</td>\n",
       "      <td>0.5375</td>\n",
       "      <td>0.295748</td>\n",
       "    </tr>\n",
       "    <tr>\n",
       "      <th>TCN</th>\n",
       "      <td>0.803654</td>\n",
       "      <td>0.692917</td>\n",
       "      <td>-0.198181</td>\n",
       "    </tr>\n",
       "    <tr>\n",
       "      <th>VARccf</th>\n",
       "      <td>0.835942</td>\n",
       "      <td>0.798191</td>\n",
       "      <td>-0.296393</td>\n",
       "    </tr>\n",
       "    <tr>\n",
       "      <th>VARcointegration</th>\n",
       "      <td>0.939982</td>\n",
       "      <td>0.879776</td>\n",
       "      <td>-0.639167</td>\n",
       "    </tr>\n",
       "    <tr>\n",
       "      <th>LSTM</th>\n",
       "      <td>0.960128</td>\n",
       "      <td>0.758273</td>\n",
       "      <td>-0.710182</td>\n",
       "    </tr>\n",
       "    <tr>\n",
       "      <th>TFT</th>\n",
       "      <td>2.067248</td>\n",
       "      <td>1.758727</td>\n",
       "      <td>-6.928104</td>\n",
       "    </tr>\n",
       "    <tr>\n",
       "      <th>ARDL</th>\n",
       "      <td>2.537766</td>\n",
       "      <td>2.492736</td>\n",
       "      <td>-10.947779</td>\n",
       "    </tr>\n",
       "    <tr>\n",
       "      <th>MARS</th>\n",
       "      <td>2.998218</td>\n",
       "      <td>2.866051</td>\n",
       "      <td>-15.676713</td>\n",
       "    </tr>\n",
       "    <tr>\n",
       "      <th>NBEATSx1990</th>\n",
       "      <td>3.24316</td>\n",
       "      <td>3.212337</td>\n",
       "      <td>-18.512858</td>\n",
       "    </tr>\n",
       "    <tr>\n",
       "      <th>NHITS1990</th>\n",
       "      <td>3.245888</td>\n",
       "      <td>3.214122</td>\n",
       "      <td>-18.545702</td>\n",
       "    </tr>\n",
       "    <tr>\n",
       "      <th>GRU1990</th>\n",
       "      <td>7.344475</td>\n",
       "      <td>7.324929</td>\n",
       "      <td>-99.070388</td>\n",
       "    </tr>\n",
       "    <tr>\n",
       "      <th>RNN1990</th>\n",
       "      <td>7.866641</td>\n",
       "      <td>7.860677</td>\n",
       "      <td>-113.805507</td>\n",
       "    </tr>\n",
       "    <tr>\n",
       "      <th>MLR</th>\n",
       "      <td>9.762532</td>\n",
       "      <td>9.758387</td>\n",
       "      <td>-175.810911</td>\n",
       "    </tr>\n",
       "    <tr>\n",
       "      <th>XGB1990</th>\n",
       "      <td>23.797392</td>\n",
       "      <td>23.786049</td>\n",
       "      <td>-1049.613184</td>\n",
       "    </tr>\n",
       "  </tbody>\n",
       "</table>\n",
       "</div>"
      ],
      "text/plain": [
       "                       RMSE        MAE           r2\n",
       "RFX                0.490925   0.419944     0.552889\n",
       "Naive              0.616129     0.5375     0.295748\n",
       "TCN                0.803654   0.692917    -0.198181\n",
       "VARccf             0.835942   0.798191    -0.296393\n",
       "VARcointegration   0.939982   0.879776    -0.639167\n",
       "LSTM               0.960128   0.758273    -0.710182\n",
       "TFT                2.067248   1.758727    -6.928104\n",
       "ARDL               2.537766   2.492736   -10.947779\n",
       "MARS               2.998218   2.866051   -15.676713\n",
       "NBEATSx1990         3.24316   3.212337   -18.512858\n",
       "NHITS1990          3.245888   3.214122   -18.545702\n",
       "GRU1990            7.344475   7.324929   -99.070388\n",
       "RNN1990            7.866641   7.860677  -113.805507\n",
       "MLR                9.762532   9.758387  -175.810911\n",
       "XGB1990           23.797392  23.786049 -1049.613184"
      ]
     },
     "metadata": {},
     "output_type": "display_data"
    },
    {
     "data": {
      "text/plain": [
       "<Figure size 1000x500 with 1 Axes>"
      ]
     },
     "metadata": {},
     "output_type": "display_data"
    },
    {
     "data": {
      "text/plain": [
       "<Figure size 640x480 with 1 Axes>"
      ]
     },
     "metadata": {},
     "output_type": "display_data"
    },
    {
     "data": {
      "text/plain": [
       "<Figure size 640x480 with 1 Axes>"
      ]
     },
     "metadata": {},
     "output_type": "display_data"
    },
    {
     "data": {
      "text/plain": [
       "<Figure size 640x480 with 1 Axes>"
      ]
     },
     "metadata": {},
     "output_type": "display_data"
    }
   ],
   "source": [
    "predsPath_3= Path('../Predictions/Horizon3')\n",
    "predsDf_3=get_predictions(predsPath_3)\n",
    "\n",
    "metrics_3= calc_metrics(predsDf_3)\n",
    "display(metrics_3.sort_values(main_metric, axis=0))\n",
    "\n",
    "error_plot(predsDf_3,model='all',absolute=False, title= 'Horizon 3 Error plot:')\n",
    "for i in metrics_3.columns:\n",
    "    plot_metric(metrics_3,i, title='Horizon 3:')"
   ]
  },
  {
   "cell_type": "markdown",
   "metadata": {},
   "source": [
    "# Horizon = 6:"
   ]
  },
  {
   "cell_type": "code",
   "metadata": {},
   "outputs": [
    {
     "data": {
      "text/html": [
       "<div>\n",
       "<style scoped>\n",
       "    .dataframe tbody tr th:only-of-type {\n",
       "        vertical-align: middle;\n",
       "    }\n",
       "\n",
       "    .dataframe tbody tr th {\n",
       "        vertical-align: top;\n",
       "    }\n",
       "\n",
       "    .dataframe thead th {\n",
       "        text-align: right;\n",
       "    }\n",
       "</style>\n",
       "<table border=\"1\" class=\"dataframe\">\n",
       "  <thead>\n",
       "    <tr style=\"text-align: right;\">\n",
       "      <th></th>\n",
       "      <th>RMSE</th>\n",
       "      <th>MAE</th>\n",
       "      <th>r2</th>\n",
       "    </tr>\n",
       "  </thead>\n",
       "  <tbody>\n",
       "    <tr>\n",
       "    </tr>\n",
       "    <tr>\n",
       "      <th>Naive</th>\n",
       "      <td>1.127616</td>\n",
       "      <td>1.0075</td>\n",
       "      <td>-1.358883</td>\n",
       "    </tr>\n",
       "    <tr>\n",
       "      <th>VARccf</th>\n",
       "      <td>1.17718</td>\n",
       "      <td>1.109972</td>\n",
       "      <td>-1.570811</td>\n",
       "    </tr>\n",
       "    <tr>\n",
       "      <th>VARcointegration</th>\n",
       "      <td>1.21846</td>\n",
       "      <td>1.12629</td>\n",
       "      <td>-1.754269</td>\n",
       "    </tr>\n",
       "    <tr>\n",
       "      <th>ARDL</th>\n",
       "      <td>2.271809</td>\n",
       "      <td>2.233214</td>\n",
       "      <td>-8.574754</td>\n",
       "    </tr>\n",
       "    <tr>\n",
       "      <th>MARS</th>\n",
       "      <td>2.998218</td>\n",
       "      <td>2.866051</td>\n",
       "      <td>-15.676713</td>\n",
       "    </tr>\n",
       "    <tr>\n",
       "      <th>NHITS1990</th>\n",
       "      <td>3.326016</td>\n",
       "      <td>3.300174</td>\n",
       "      <td>-19.522616</td>\n",
       "    </tr>\n",
       "    <tr>\n",
       "      <th>NBEATSx1990</th>\n",
       "      <td>3.476542</td>\n",
       "      <td>3.450648</td>\n",
       "      <td>-21.422246</td>\n",
       "    </tr>\n",
       "    <tr>\n",
       "      <th>TFT</th>\n",
       "      <td>4.017051</td>\n",
       "      <td>3.970676</td>\n",
       "      <td>-28.93634</td>\n",
       "    </tr>\n",
       "    <tr>\n",
       "      <th>GRU1990</th>\n",
       "      <td>4.272294</td>\n",
       "      <td>3.82898</td>\n",
       "      <td>-32.861521</td>\n",
       "    </tr>\n",
       "    <tr>\n",
       "      <th>LSTM</th>\n",
       "      <td>5.346032</td>\n",
       "      <td>4.639163</td>\n",
       "      <td>-52.02092</td>\n",
       "    </tr>\n",
       "    <tr>\n",
       "      <th>RNN1990</th>\n",
       "      <td>8.525767</td>\n",
       "      <td>8.523391</td>\n",
       "      <td>-133.850032</td>\n",
       "    </tr>\n",
       "    <tr>\n",
       "      <th>MLR</th>\n",
       "      <td>9.762532</td>\n",
       "      <td>9.758387</td>\n",
       "      <td>-175.810911</td>\n",
       "    </tr>\n",
       "    <tr>\n",
       "      <th>XGB1990</th>\n",
       "      <td>23.794792</td>\n",
       "      <td>23.783445</td>\n",
       "      <td>-1049.383597</td>\n",
       "    </tr>\n",
       "  </tbody>\n",
       "</table>\n",
       "</div>"
      ],
      "text/plain": [
       "                       RMSE        MAE           r2\n",
       "Naive              1.127616     1.0075    -1.358883\n",
       "VARccf              1.17718   1.109972    -1.570811\n",
       "VARcointegration    1.21846    1.12629    -1.754269\n",
       "ARDL               2.271809   2.233214    -8.574754\n",
       "MARS               2.998218   2.866051   -15.676713\n",
       "NHITS1990          3.326016   3.300174   -19.522616\n",
       "NBEATSx1990        3.476542   3.450648   -21.422246\n",
       "TFT                4.017051   3.970676    -28.93634\n",
       "GRU1990            4.272294    3.82898   -32.861521\n",
       "LSTM               5.346032   4.639163    -52.02092\n",
       "RNN1990            8.525767   8.523391  -133.850032\n",
       "MLR                9.762532   9.758387  -175.810911\n",
       "XGB1990           23.794792  23.783445 -1049.383597"
      ]
     },
     "metadata": {},
     "output_type": "display_data"
    },
    {
     "data": {
      "text/plain": [
       "<Figure size 1000x500 with 1 Axes>"
      ]
     },
     "metadata": {},
     "output_type": "display_data"
    },
    {
     "data": {
      "text/plain": [
       "<Figure size 640x480 with 1 Axes>"
      ]
     },
     "metadata": {},
     "output_type": "display_data"
    },
    {
     "data": {
      "text/plain": [
       "<Figure size 640x480 with 1 Axes>"
      ]
     },
     "metadata": {},
     "output_type": "display_data"
    },
    {
     "data": {
      "text/plain": [
       "<Figure size 640x480 with 1 Axes>"
      ]
     },
     "metadata": {},
     "output_type": "display_data"
    }
   ],
   "source": [
    "predsPath_6= Path('../Predictions/Horizon6')\n",
    "predsDf_6=get_predictions(predsPath_6)\n",
    "\n",
    "metrics_6= calc_metrics(predsDf_6)\n",
    "display(metrics_6.sort_values(main_metric, axis=0))\n",
    "\n",
    "error_plot(predsDf_6,model='all',absolute=False, title= 'Horizon 6 Error plot:')\n",
    "for i in metrics_6.columns:\n",
    "    plot_metric(metrics_6,i, title='Horizon 6:')"
   ]
  },
  {
   "cell_type": "markdown",
   "metadata": {},
   "source": [
    "# Horizon = 12:"
   ]
  },
  {
   "cell_type": "code",
   "metadata": {},
   "outputs": [
    {
     "data": {
      "text/html": [
       "<div>\n",
       "<style scoped>\n",
       "    .dataframe tbody tr th:only-of-type {\n",
       "        vertical-align: middle;\n",
       "    }\n",
       "\n",
       "    .dataframe tbody tr th {\n",
       "        vertical-align: top;\n",
       "    }\n",
       "\n",
       "    .dataframe thead th {\n",
       "        text-align: right;\n",
       "    }\n",
       "</style>\n",
       "<table border=\"1\" class=\"dataframe\">\n",
       "  <thead>\n",
       "    <tr style=\"text-align: right;\">\n",
       "      <th></th>\n",
       "      <th>RMSE</th>\n",
       "      <th>MAE</th>\n",
       "      <th>r2</th>\n",
       "    </tr>\n",
       "  </thead>\n",
       "  <tbody>\n",
       "    <tr>\n",
       "      <th>RFX</th>\n",
       "      <td>1.657274</td>\n",
       "      <td>1.485774</td>\n",
       "      <td>-4.095336</td>\n",
       "    </tr>\n",
       "    <tr>\n",
       "      <th>VARcointegration</th>\n",
       "      <td>1.780569</td>\n",
       "      <td>1.622156</td>\n",
       "      <td>-4.881682</td>\n",
       "    </tr>\n",
       "    <tr>\n",
       "      <th>VARccf</th>\n",
       "      <td>1.785207</td>\n",
       "      <td>1.627247</td>\n",
       "      <td>-4.912367</td>\n",
       "    </tr>\n",
       "    <tr>\n",
       "      <th>Naive</th>\n",
       "      <td>2.028525</td>\n",
       "      <td>1.891</td>\n",
       "      <td>-6.633873</td>\n",
       "    </tr>\n",
       "    <tr>\n",
       "      <th>ARDL</th>\n",
       "      <td>2.108911</td>\n",
       "      <td>2.017296</td>\n",
       "      <td>-7.250887</td>\n",
       "    </tr>\n",
       "    <tr>\n",
       "    </tr>\n",
       "    <tr>\n",
       "      <th>NHITS1990</th>\n",
       "      <td>3.817656</td>\n",
       "      <td>3.814612</td>\n",
       "      <td>-26.038188</td>\n",
       "    </tr>\n",
       "    <tr>\n",
       "      <th>NBEATSx1990</th>\n",
       "      <td>4.143827</td>\n",
       "      <td>4.138137</td>\n",
       "      <td>-30.855714</td>\n",
       "    </tr>\n",
       "    <tr>\n",
       "      <th>TFT</th>\n",
       "      <td>4.180308</td>\n",
       "      <td>3.922822</td>\n",
       "      <td>-31.419083</td>\n",
       "    </tr>\n",
       "    <tr>\n",
       "      <th>MLR</th>\n",
       "      <td>9.762532</td>\n",
       "      <td>9.758387</td>\n",
       "      <td>-175.810911</td>\n",
       "    </tr>\n",
       "    <tr>\n",
       "      <th>RNN1990</th>\n",
       "      <td>12.668438</td>\n",
       "      <td>12.660472</td>\n",
       "      <td>-296.735249</td>\n",
       "    </tr>\n",
       "    <tr>\n",
       "      <th>GRU1990</th>\n",
       "      <td>12.949819</td>\n",
       "      <td>12.847308</td>\n",
       "      <td>-310.108247</td>\n",
       "    </tr>\n",
       "    <tr>\n",
       "      <th>LSTM</th>\n",
       "      <td>15.231358</td>\n",
       "      <td>13.187456</td>\n",
       "      <td>-429.389224</td>\n",
       "    </tr>\n",
       "    <tr>\n",
       "      <th>XGB1990</th>\n",
       "      <td>23.904885</td>\n",
       "      <td>23.893483</td>\n",
       "      <td>-1059.125873</td>\n",
       "    </tr>\n",
       "  </tbody>\n",
       "</table>\n",
       "</div>"
      ],
      "text/plain": [
       "                       RMSE        MAE           r2\n",
       "RFX                1.657274   1.485774    -4.095336\n",
       "VARcointegration   1.780569   1.622156    -4.881682\n",
       "VARccf             1.785207   1.627247    -4.912367\n",
       "Naive              2.028525      1.891    -6.633873\n",
       "ARDL               2.108911   2.017296    -7.250887\n",
       "NHITS1990          3.817656   3.814612   -26.038188\n",
       "NBEATSx1990        4.143827   4.138137   -30.855714\n",
       "TFT                4.180308   3.922822   -31.419083\n",
       "MLR                9.762532   9.758387  -175.810911\n",
       "RNN1990           12.668438  12.660472  -296.735249\n",
       "GRU1990           12.949819  12.847308  -310.108247\n",
       "LSTM              15.231358  13.187456  -429.389224\n",
       "XGB1990           23.904885  23.893483 -1059.125873"
      ]
     },
     "metadata": {},
     "output_type": "display_data"
    },
    {
     "data": {
      "text/plain": [
       "<Figure size 1000x500 with 1 Axes>"
      ]
     },
     "metadata": {},
     "output_type": "display_data"
    },
    {
     "data": {
      "text/plain": [
       "<Figure size 640x480 with 1 Axes>"
      ]
     },
     "metadata": {},
     "output_type": "display_data"
    },
    {
     "data": {
      "text/plain": [
       "<Figure size 640x480 with 1 Axes>"
      ]
     },
     "metadata": {},
     "output_type": "display_data"
    },
    {
     "data": {
      "text/plain": [
       "<Figure size 640x480 with 1 Axes>"
      ]
     },
     "metadata": {},
     "output_type": "display_data"
    }
   ],
   "source": [
    "predsPath_12= Path('../Predictions/Horizon12')\n",
    "predsDf_12=get_predictions(predsPath_12)\n",
    "\n",
    "metrics_12= calc_metrics(predsDf_12)\n",
    "display(metrics_12.sort_values(main_metric, axis=0))\n",
    "\n",
    "error_plot(predsDf_12,model='all',absolute=False, title= 'Horizon 12 Error plot:')\n",
    "for i in metrics_12.columns:\n",
    "    plot_metric(metrics_12,i, title='Horizon 12:')"
   ]
  },
  {
   "cell_type": "code",
   "execution_count": null,
   "metadata": {},
   "outputs": [],
   "source": []
  }
 ],
 "metadata": {
  "kernelspec": {
   "language": "python",
   "name": "python3"
  },
  "language_info": {
   "codemirror_mode": {
    "name": "ipython",
    "version": 3
   },
   "file_extension": ".py",
   "mimetype": "text/x-python",
   "name": "python",
   "nbconvert_exporter": "python",
   "pygments_lexer": "ipython3",
  }
 },
 "nbformat": 4,
 "nbformat_minor": 4
}
