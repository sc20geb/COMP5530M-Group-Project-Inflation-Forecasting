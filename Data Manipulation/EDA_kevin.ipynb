{
 "cells": [
  {
   "cell_type": "markdown",
   "metadata": {},
   "source": [
    "# EDA\n",
    "Exploratory Data Analysis is typically undergone before developing machine learning algorithms. Its important to understand the data before using it in machine learning algorithms, which often make assumptions about the data.\n",
    "\n",
    "**This notebook achieves the following:**\n",
    "* Autocorrelation of time-lags (kevin)\n",
    "* determine stationarity\n",
    "    * Dickey-fuller test (kevin)\n",
    "    * Time series decomposition into: trend, seasonal, residual, using the appropiate model (additive or multiplicative) (kevin)\n",
    "    * heteroskedasticity\n",
    "* Cointegration between exogenous variables and target (natalie)\n",
    "* Cross correlation between target and exogenous variables (Muhammed)\n",
    "* constant time series (kevin)\n",
    "* ACF/PACF (Natalie)\n",
    "* ANOVA (Muhammed)"
   ]
  },
  {
   "cell_type": "markdown",
   "metadata": {},
   "source": [
    "## Imports:"
   ]
  },
  {
   "cell_type": "code",
   "execution_count": 78,
   "metadata": {},
   "outputs": [],
   "source": [
    "import pandas as pd\n",
    "from pathlib import Path\n",
    "import re\n",
    "from statsmodels.tsa.seasonal import seasonal_decompose\n",
    "from statsmodels.tsa.stattools import adfuller\n",
    "from statsmodels.tsa.stattools import acf,pacf\n",
    "from statsmodels.graphics.tsaplots import plot_pacf,plot_acf\n",
    "import matplotlib.pyplot as plt\n",
    "import numpy as np\n",
    "from IPython.display import Markdown"
   ]
  },
  {
   "cell_type": "markdown",
   "metadata": {},
   "source": [
    "## Data"
   ]
  },
  {
   "cell_type": "code",
   "execution_count": null,
   "metadata": {},
   "outputs": [],
   "source": [
    "cwd=Path.cwd()\n",
    "data= pd.read_csv(cwd.parent / 'Data' /'Train'/'train1990s.csv',parse_dates=[0],date_format='%m%Y',index_col=0)\n",
    "display(data)"
   ]
  },
  {
   "cell_type": "markdown",
   "metadata": {},
   "source": [
    "## Get untransformed variables:\n",
    "\n",
    "fred has applied transformations to the orginal data (such as using a log transformation to remove heterskedascisity) however we need to analyze the original data. To do this we need to remove the transformed variables (contains fred_\\<name of varibale\\>_\\<name of transform\\>) and consider the untransformed data first."
   ]
  },
  {
   "cell_type": "code",
   "execution_count": null,
   "metadata": {},
   "outputs": [],
   "source": [
    "transformedCols=[]\n",
    "for i in data.columns:\n",
    "    match=re.findall(r'fred_.*_.*',i)\n",
    "    if match!=[]:\n",
    "        transformedCols.append(match[0])\n",
    "\n",
    "unmodifiedDf= data.drop(transformedCols,axis=1)\n",
    "display(unmodifiedDf)"
   ]
  },
  {
   "cell_type": "markdown",
   "metadata": {},
   "source": [
    "# EDA:"
   ]
  },
  {
   "cell_type": "markdown",
   "metadata": {},
   "source": [
    "## Display the graphs:"
   ]
  },
  {
   "cell_type": "code",
   "execution_count": 153,
   "metadata": {},
   "outputs": [],
   "source": [
    "def display_series(series, decompose=False, title=None):\n",
    "\n",
    "\n",
    "    if decompose:\n",
    "        decomp= seasonal_decompose(series,period=12)\n",
    "\n",
    "        fig,ax= plt.subplots(4,sharex=True)\n",
    "        \n",
    "        ax[0].plot(series, c='black')\n",
    "        ax[0].set_ylabel('Original')\n",
    "\n",
    "        ax[1].plot(decomp.trend, c='green')\n",
    "        ax[1].set_ylabel('Trend')\n",
    "\n",
    "        ax[2].plot(decomp.seasonal, c='orange')\n",
    "        ax[2].set_ylabel('Seasonality')\n",
    "\n",
    "        ax[3].plot(decomp.resid,c='blue')\n",
    "        ax[3].set_ylabel('Residual')\n",
    "\n",
    "\n",
    "        if title is not None:\n",
    "            fig.suptitle(title)\n",
    "\n",
    "        \n",
    "        fig.supxlabel('Time')\n",
    "        fig.subplots_adjust(wspace=0, hspace=0.15)\n",
    "        plt.xticks([])\n",
    "        plt.show()\n",
    "    else:\n",
    "        plt.plot(series, c='black')\n",
    "        plt.ylabel('Level')\n",
    "        plt.xlabel('Time')\n",
    "        plt.xticks([])\n",
    "\n",
    "        if title is not None:\n",
    "            plt.title(title)\n",
    "\n",
    "        plt.show()\n",
    "\n",
    "def is_stationary(series,sig_level=0.05):\n",
    "\n",
    "    return adfuller(series)[1]<sig_level\n",
    "\n",
    "def get_mean_std(series):\n",
    "\n",
    "    return np.mean(series), np.std(series)"
   ]
  },
  {
   "cell_type": "code",
   "execution_count": null,
   "metadata": {},
   "outputs": [],
   "source": [
    "for col in unmodifiedDf.columns:\n",
    "    \n",
    "    stationary=is_stationary(unmodifiedDf[col])\n",
    "    display_series(unmodifiedDf[col],decompose=(not stationary),title=col)\n",
    "    mean,std=get_mean_std(unmodifiedDf[col])\n",
    "    display(Markdown(f\"**Stationary:** {stationary}   <br>**Mean:** {mean}<br>**Std:** {std}\"))\n",
    "    \n"
   ]
  }
 ],
 "metadata": {
  "kernelspec": {
   "display_name": "Python 3",
   "language": "python",
   "name": "python3"
  },
  "language_info": {
   "codemirror_mode": {
    "name": "ipython",
    "version": 3
   },
   "file_extension": ".py",
   "mimetype": "text/x-python",
   "name": "python",
   "nbconvert_exporter": "python",
   "pygments_lexer": "ipython3",
   "version": "3.12.2"
  }
 },
 "nbformat": 4,
 "nbformat_minor": 2
}
