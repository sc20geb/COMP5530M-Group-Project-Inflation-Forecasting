{
 "cells": [
  {
   "cell_type": "code",
   "execution_count": null,
   "id": "ad5d5f80-a081-4c39-bbd6-20d2c99d7c93",
   "metadata": {},
   "outputs": [],
   "source": [
    "import sys\n",
    "import os\n",
    "\n",
    "project_root = os.path.abspath(os.path.join(os.getcwd(), \"../..\"))\n",
    "sys.path.append(project_root)\n",
    "\n",
    "print(\"Project root added to sys.path:\", project_root)\n",
    "\n",
    "model_save_path = os.path.join(project_root, 'Training', 'Random_Forest')\n",
    "os.makedirs(model_save_path, exist_ok=True)\n",
    "\n",
    "predictions_save_path = os.path.join(project_root, 'Predictions')\n",
    "os.makedirs(predictions_save_path, exist_ok=True)\n"
   ]
  },
  {
   "cell_type": "code",
   "execution_count": null,
   "id": "0465afa7-c872-4fa9-9159-5e0346de1f92",
   "metadata": {},
   "outputs": [],
   "source": [
    "import numpy as np\n",
    "import pandas as pd\n",
    "\n",
    "from sklearn.ensemble import RandomForestRegressor\n",
    "from sklearn.metrics import mean_squared_error, r2_score\n",
    "\n",
    "import matplotlib.pyplot as plt\n"
   ]
  },
  {
   "cell_type": "code",
   "execution_count": null,
   "id": "4267a3c8-7034-440d-955b-b3e0e161d806",
   "metadata": {},
   "outputs": [],
   "source": [
    "# Paths to your CSV files\n",
    "TRAIN_DATA_PATH_1990S = os.path.join(project_root, 'Data', 'Train', 'train1990s.csv')\n",
    "\n",
    "date_col   = 'observation_date'\n",
    "target_col = 'fred_PCEPI'\n",
    "\n",
    "# 1) Load the training data\n",
    "df = pd.read_csv(TRAIN_DATA_PATH_1990S, parse_dates=[date_col], date_format='%m/%Y')\n",
    "df = df[df[date_col] >= '1990-01-01'].reset_index(drop=True)\n",
    "\n",
    "df = df.sort_values(by=date_col).reset_index(drop=True)\n"
   ]
  },
  {
   "cell_type": "code",
   "execution_count": null,
   "id": "1dbcd678-2be4-4be7-85b4-00a1b9a5ae4f",
   "metadata": {},
   "outputs": [],
   "source": [
    "# 1) Create 12 lag features for the target\n",
    "n_lags = 12\n",
    "for lag in range(1, n_lags + 1):\n",
    "    df[f'lag_{lag}'] = df[target_col].shift(lag)\n",
    "\n",
    "# 2) Exogenous features you identified:\n",
    "exog_cols = [\n",
    "    'fred_AHETPI',\n",
    "    'fred_GDP',\n",
    "    'fred_PCUOMFGOMFG',\n",
    "    'fred_A053RC1Q027SBEA',\n",
    "    'fred_PPIACO',\n",
    "    'fred_TERMCBPER24NS'\n",
    "]\n",
    "\n",
    "# 3) Drop rows made NaN by lagging (and ensure the exogenous columns exist too!)\n",
    "all_required_cols = [target_col] + exog_cols + [f'lag_{lag}' for lag in range(1, n_lags+1)]\n",
    "df = df.dropna(subset=all_required_cols).reset_index(drop=True)\n"
   ]
  },
  {
   "cell_type": "code",
   "execution_count": null,
   "id": "9397d089-a092-4224-8242-6369cde6e4ec",
   "metadata": {},
   "outputs": [],
   "source": [
    "# Combine the lag features + exogenous columns\n",
    "feature_cols = [f'lag_{lag}' for lag in range(1, n_lags + 1)] + exog_cols\n",
    "\n",
    "X = df[feature_cols]\n",
    "y = df[target_col]\n",
    "\n",
    "# 80% train, 20% validation (time-ordered, no shuffle)\n",
    "split_index = int(len(X) * 0.8)\n",
    "X_train, y_train = X.iloc[:split_index], y.iloc[:split_index]\n",
    "X_val,   y_val   = X.iloc[split_index:], y.iloc[split_index:]\n"
   ]
  },
  {
   "cell_type": "code",
   "execution_count": null,
   "id": "5a7e820f-6be6-4849-bd06-508f1a1e0b12",
   "metadata": {},
   "outputs": [],
   "source": [
    "rf_model = RandomForestRegressor(n_estimators=100, random_state=42)\n",
    "rf_model.fit(X_train, y_train)\n"
   ]
  },
  {
   "cell_type": "code",
   "execution_count": null,
   "id": "a0de72b9-61fc-4f5e-a410-26dde571f269",
   "metadata": {},
   "outputs": [],
   "source": [
    "y_val_pred = rf_model.predict(X_val)\n",
    "\n",
    "val_rmse = np.sqrt(mean_squared_error(y_val, y_val_pred))\n",
    "val_r2   = r2_score(y_val, y_val_pred)\n",
    "\n",
    "print(f\"Validation RMSE: {val_rmse:.4f}\")\n",
    "print(f\"Validation R²:   {val_r2:.4f}\")\n"
   ]
  },
  {
   "cell_type": "code",
   "execution_count": null,
   "id": "c67649fa-9b36-4682-99dc-98b143e5f853",
   "metadata": {},
   "outputs": [],
   "source": [
    "X_full = pd.concat([X_train, X_val], ignore_index=True)\n",
    "y_full = pd.concat([y_train, y_val], ignore_index=True)\n",
    "\n",
    "rf_model.fit(X_full, y_full)\n",
    "\n",
    "# Evaluate on full (train+val)\n",
    "y_full_pred = rf_model.predict(X_full)\n",
    "\n",
    "full_rmse = np.sqrt(mean_squared_error(y_full, y_full_pred))\n",
    "full_r2   = r2_score(y_full, y_full_pred)\n",
    "\n",
    "print(f\"Final Combined RMSE: {full_rmse:.4f}\")\n",
    "print(f\"Final Combined R²:   {full_r2:.4f}\")\n"
   ]
  },
  {
   "cell_type": "code",
   "execution_count": null,
   "id": "880f4ee7-5d64-4026-9a5d-efb3f903edc1",
   "metadata": {},
   "outputs": [],
   "source": [
    "# Reconstruct the actual target values in a single series\n",
    "y_all = pd.concat([y_train, y_val], ignore_index=True)\n",
    "\n",
    "# We also need corresponding dates in the same order\n",
    "dates_train = df.loc[X_train.index, date_col]\n",
    "dates_val   = df.loc[X_val.index,   date_col]\n",
    "dates_all   = pd.concat([dates_train, dates_val], ignore_index=True)\n",
    "\n",
    "plt.figure(figsize=(10, 5))\n",
    "plt.plot(dates_all, y_all, label='Actual PCEPI')\n",
    "plt.plot(dates_all, y_full_pred, label='RF (Multivariate) Prediction')\n",
    "plt.xlabel('Date')\n",
    "plt.ylabel('PCEPI')\n",
    "plt.title('Random Forest + Exogenous Variables (Train + Val)')\n",
    "plt.legend()\n",
    "plt.show()\n"
   ]
  },
  {
   "cell_type": "code",
   "execution_count": null,
   "id": "c9d2046a-dbc4-4ad4-8d8e-d8f16d968934",
   "metadata": {},
   "outputs": [],
   "source": [
    "import joblib\n",
    "\n",
    "# 1) Save final predictions\n",
    "output_path = os.path.join(predictions_save_path, \"Random_Forest_X.npy\")\n",
    "np.save(output_path, y_full_pred)\n",
    "print(\"Combined (train+val) multivariate predictions saved to:\", output_path)\n"
   ]
  },
  {
   "cell_type": "code",
   "execution_count": null,
   "id": "cbeb4c5b-570a-4f15-bfde-f2458894d701",
   "metadata": {},
   "outputs": [],
   "source": [
    "# 2) Save the Random Forest model itself\n",
    "model_filename = os.path.join(model_save_path, 'Random_Forest_X.pkl')\n",
    "joblib.dump(rf_model, model_filename)\n",
    "print(\"Random Forest multivariate model saved to:\", model_filename)"
   ]
  }
 ],
 "metadata": {
  "kernelspec": {
   "display_name": "Python 3 (ipykernel)",
   "language": "python",
   "name": "python3"
  },
  "language_info": {
   "codemirror_mode": {
    "name": "ipython",
    "version": 3
   },
   "file_extension": ".py",
   "mimetype": "text/x-python",
   "name": "python",
   "nbconvert_exporter": "python",
   "pygments_lexer": "ipython3",
   "version": "3.11.0"
  }
 },
 "nbformat": 4,
 "nbformat_minor": 5
}
