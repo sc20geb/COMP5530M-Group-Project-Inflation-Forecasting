{
 "cells": [
  {
   "cell_type": "code",
   "execution_count": null,
   "metadata": {},
   "outputs": [],
   "source": [
    "#allows imports from other folders in project\n",
    "import os\n",
    "import sys\n",
    "module_path = os.path.abspath(os.path.join('..'))\n",
    "if module_path not in sys.path:\n",
    "    sys.path.append(module_path)"
   ]
  },
  {
   "cell_type": "markdown",
   "metadata": {},
   "source": [
    "# NBEATSx MODEL"
   ]
  },
  {
   "cell_type": "markdown",
   "metadata": {},
   "source": [
    "## Load Data and Create Model"
   ]
  },
  {
   "cell_type": "code",
   "execution_count": null,
   "metadata": {},
   "outputs": [],
   "source": [
    "import torch\n",
    "import torch.nn as nn\n",
    "import torch.optim as optim\n",
    "import numpy as np\n",
    "import matplotlib.pyplot as plt\n",
    "import os\n",
    "from Models.NBEATSx import NBeatsx\n",
    "from dataPreprocessing import load_data, prepare_dataloader\n",
    "from PyTorchModular import train_model, loss_curve\n",
    "from EarlyStopping import EarlyStopping\n",
    "from Evaluation.evaluation_helpers import evaluate_model\n",
    "\n",
    "# Load Data with Exogenous & FFT Features\n",
    "train_file = \"../Data/Train/train1990s.csv\"\n",
    "sequence_length = 48\n",
    "config = {\n",
    "    \"use_fft\": False,  # Fourier Features Disabled\n",
    "    \"use_exog\": True   # Exogenous Variables Enabled\n",
    "}\n",
    "\n",
    "X_train, X_exog_train, y_train, X_valid, X_exog_valid, y_valid, \\\n",
    "X_test, X_exog_test, y_test, dates, X_scaler, exog_scaler, y_scaler = load_data(train_file, sequence_length=sequence_length, config=config)\n",
    "\n",
    "device = torch.device(\"cuda\" if torch.cuda.is_available() else \"cpu\")\n",
    "\n",
    "# Initialize Model\n",
    "model = NBeatsx(input_size=X_train.shape[1], exog_size=X_exog_train.shape[1] if X_exog_train is not None else 0).to(device)\n"
   ]
  },
  {
   "cell_type": "markdown",
   "metadata": {},
   "source": [
    "## Train"
   ]
  },
  {
   "cell_type": "code",
   "execution_count": null,
   "metadata": {},
   "outputs": [],
   "source": [
    "# Prepare DataLoaders\n",
    "batch_size = 128\n",
    "dataloader_train = prepare_dataloader(X_train, y_train, X_exog_train, batch_size)\n",
    "dataloader_valid = prepare_dataloader(X_valid, y_valid, X_exog_valid, batch_size)\n",
    "dataloader_test = prepare_dataloader(X_test, y_test, X_exog_test, batch_size)\n",
    "\n",
    "# Training Setup\n",
    "loss_fn = nn.SmoothL1Loss()  # Huber Loss (SmoothL1Loss) for Robust Training\n",
    "optimizer = optim.AdamW(model.parameters(), lr=1e-3, weight_decay=5e-4)\n",
    "scheduler = optim.lr_scheduler.ReduceLROnPlateau(optimizer, mode='min', factor=0.5, patience=5, verbose=True)\n",
    "savepath = '../Models/Weights/'\n",
    "\n",
    "# Train Model with Early Stopping\n",
    "trainingMetadata = train_model(\n",
    "    model=model, \n",
    "    maxEpochs=120, \n",
    "    modelSavePath=savepath, \n",
    "    modelName='nbeatsx', \n",
    "    dataLoaderTrain=dataloader_train, \n",
    "    dataLoaderValid=dataloader_valid, \n",
    "    lossFn=loss_fn, \n",
    "    optimizer=optimizer, \n",
    "    device=device, \n",
    "    scheduler=scheduler\n",
    ")"
   ]
  },
  {
   "cell_type": "markdown",
   "metadata": {},
   "source": [
    "## Visualise Output"
   ]
  },
  {
   "cell_type": "code",
   "execution_count": null,
   "metadata": {},
   "outputs": [],
   "source": [
    "# Load Best Model for Evaluation\n",
    "best_model_path = trainingMetadata.get(\"best_model_path\")\n",
    "if best_model_path and os.path.exists(best_model_path):\n",
    "    print(f\"Loading best model from: {best_model_path}\")\n",
    "    predictions = evaluate_model(model, best_model_path, X_test, X_exog_test, device, y_scaler)\n",
    "else:\n",
    "    raise FileNotFoundError(f\"Best model file not found: {best_model_path}\")\n",
    "\n",
    "# Convert y_test Back to Original Scale\n",
    "y_test_original = y_scaler.inverse_transform(y_test)\n",
    "\n",
    "# Plot Predictions vs Actual\n",
    "plt.figure(figsize=(16, 8))\n",
    "plt.plot(dates[-len(y_test_original):], y_test_original, label=\"Actual PCEPI\", color=\"blue\", linewidth=2)\n",
    "plt.plot(dates[-len(predictions):], predictions, label=\"Predicted PCEPI (N-BEATSx)\", linestyle=\"dashed\", color=\"orange\", linewidth=2)\n",
    "plt.xlabel(\"Date\")\n",
    "plt.ylabel(\"PCEPI\")\n",
    "plt.title(\"Final Optimized N-BEATSx PCE Prediction\")\n",
    "plt.legend()\n",
    "plt.grid()\n",
    "plt.show()"
   ]
  },
  {
   "cell_type": "markdown",
   "metadata": {},
   "source": [
    "## Evaluation"
   ]
  },
  {
   "cell_type": "code",
   "execution_count": null,
   "metadata": {},
   "outputs": [],
   "source": [
    "# Compute Evaluation Metrics\n",
    "from sklearn.metrics import mean_absolute_error, mean_squared_error\n",
    "\n",
    "mae = mean_absolute_error(y_test_original, predictions)\n",
    "rmse = np.sqrt(mean_squared_error(y_test_original, predictions))\n",
    "mape = np.mean(np.abs((y_test_original - predictions) / y_test_original)) * 100\n",
    "\n",
    "print(f\"Mean Absolute Error (MAE): {mae:.5f}\")\n",
    "print(f\"Root Mean Square Error (RMSE): {rmse:.5f}\")\n",
    "print(f\"Mean Absolute Percentage Error (MAPE): {mape:.2f}%\")"
   ]
  },
  {
   "cell_type": "code",
   "execution_count": null,
   "metadata": {},
   "outputs": [],
   "source": [
    "# Compute Residual Errors\n",
    "residuals = y_test_original - predictions\n",
    "\n",
    "# Visualize Residual Errors Over Time\n",
    "plt.figure(figsize=(16, 8))\n",
    "plt.plot(dates[-len(residuals):], residuals, label=\"Residual Errors\", color=\"red\", linewidth=2)\n",
    "plt.axhline(y=0, color='black', linestyle='dashed')  # Reference line at 0\n",
    "plt.xlabel(\"Date\")\n",
    "plt.ylabel(\"Residual Error\")\n",
    "plt.title(\"Residual Errors Over Time\")\n",
    "plt.legend()\n",
    "plt.grid()\n",
    "plt.show()"
   ]
  },
  {
   "cell_type": "code",
   "execution_count": null,
   "metadata": {},
   "outputs": [],
   "source": [
    "# Plot Histogram of Residuals\n",
    "plt.figure(figsize=(10, 6))\n",
    "plt.hist(residuals, bins=30, edgecolor='black', color='red', alpha=0.7)\n",
    "plt.xlabel(\"Residual Error\")\n",
    "plt.ylabel(\"Frequency\")\n",
    "plt.title(\"Histogram of Residuals\")\n",
    "plt.axvline(x=0, color='black', linestyle='dashed')  # Reference line at 0\n",
    "plt.grid()\n",
    "plt.show()\n"
   ]
  }
 ],
 "metadata": {
  "kernelspec": {
   "display_name": ".venv",
   "language": "python",
   "name": "python3"
  },
  "language_info": {
   "codemirror_mode": {
    "name": "ipython",
    "version": 3
   },
   "file_extension": ".py",
   "mimetype": "text/x-python",
   "name": "python",
   "nbconvert_exporter": "python",
   "pygments_lexer": "ipython3",
   "version": "3.8.8"
  },
  "orig_nbformat": 4
 },
 "nbformat": 4,
 "nbformat_minor": 2
}
