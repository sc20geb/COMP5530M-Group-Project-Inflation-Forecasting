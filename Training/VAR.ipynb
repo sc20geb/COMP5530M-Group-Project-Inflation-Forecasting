{
 "cells": [
  {
   "cell_type": "code",
   "execution_count": 16,
   "metadata": {},
   "outputs": [],
   "source": [
    "import pandas as pd\n",
    "import numpy as np\n",
    "import matplotlib.pyplot as plt\n",
    "from statsmodels.tsa.api import VAR\n",
    "from sklearn.metrics import mean_squared_error"
   ]
  },
  {
   "cell_type": "code",
   "execution_count": 17,
   "metadata": {},
   "outputs": [],
   "source": [
    "train_file = \"../Data/Train/trains1990s.csv\"\n",
    "\n",
    "# Load the data\n",
    "df = pd.read_csv(train_file, parse_dates=['observation_date'], date_format=\"%m/%y\"\n",
    ")\n",
    "df = df[['observation_date', 'fred_PCEPI', 'fred_AHETPI']] # Use average hourly earnings cause it is not possible to train VAR with only one variable\n",
    "df.set_index('observation_date', inplace=True)"
   ]
  },
  {
   "cell_type": "code",
   "execution_count": 18,
   "metadata": {},
   "outputs": [],
   "source": [
    "numVals = df.shape[0]\n",
    "valRatio = 0.2\n",
    "splitLoc = int(numVals * (1 - valRatio))\n",
    "\n",
    "train = df.iloc[:splitLoc]\n",
    "val = df.iloc[splitLoc:]"
   ]
  },
  {
   "cell_type": "code",
   "execution_count": 25,
   "metadata": {},
   "outputs": [
    {
     "name": "stdout",
     "output_type": "stream",
     "text": [
      "  Summary of Regression Results   \n",
      "==================================\n",
      "Model:                         VAR\n",
      "Method:                        OLS\n",
      "Date:           Mon, 17, Feb, 2025\n",
      "Time:                     22:19:14\n",
      "--------------------------------------------------------------------\n",
      "No. of Equations:         2.00000    BIC:                   -11.3638\n",
      "Nobs:                     292.000    HQIC:                  -11.5299\n",
      "Log likelihood:           892.901    FPE:                8.80001e-06\n",
      "AIC:                     -11.6408    Det(Omega_mle):     8.17266e-06\n",
      "--------------------------------------------------------------------\n",
      "Results for equation fred_PCEPI\n",
      "=================================================================================\n",
      "                    coefficient       std. error           t-stat            prob\n",
      "---------------------------------------------------------------------------------\n",
      "const                  0.647515         0.250999            2.580           0.010\n",
      "L1.fred_PCEPI          1.448072         0.059372           24.390           0.000\n",
      "L1.fred_AHETPI         0.172199         0.419095            0.411           0.681\n",
      "L2.fred_PCEPI         -0.546209         0.104481           -5.228           0.000\n",
      "L2.fred_AHETPI         0.251010         0.533500            0.470           0.638\n",
      "L3.fred_PCEPI          0.040856         0.109633            0.373           0.709\n",
      "L3.fred_AHETPI        -0.284148         0.537177           -0.529           0.597\n",
      "L4.fred_PCEPI          0.107890         0.104548            1.032           0.302\n",
      "L4.fred_AHETPI        -0.504414         0.537313           -0.939           0.348\n",
      "L5.fred_PCEPI         -0.072082         0.059285           -1.216           0.224\n",
      "L5.fred_AHETPI         0.438384         0.417114            1.051           0.293\n",
      "=================================================================================\n",
      "\n",
      "Results for equation fred_AHETPI\n",
      "=================================================================================\n",
      "                    coefficient       std. error           t-stat            prob\n",
      "---------------------------------------------------------------------------------\n",
      "const                 -0.055358         0.035399           -1.564           0.118\n",
      "L1.fred_PCEPI         -0.002718         0.008373           -0.325           0.745\n",
      "L1.fred_AHETPI         0.794777         0.059106           13.447           0.000\n",
      "L2.fred_PCEPI          0.008195         0.014735            0.556           0.578\n",
      "L2.fred_AHETPI         0.304577         0.075241            4.048           0.000\n",
      "L3.fred_PCEPI          0.007707         0.015462            0.498           0.618\n",
      "L3.fred_AHETPI         0.236388         0.075760            3.120           0.002\n",
      "L4.fred_PCEPI         -0.015705         0.014745           -1.065           0.287\n",
      "L4.fred_AHETPI        -0.153923         0.075779           -2.031           0.042\n",
      "L5.fred_PCEPI          0.004995         0.008361            0.597           0.550\n",
      "L5.fred_AHETPI        -0.189662         0.058827           -3.224           0.001\n",
      "=================================================================================\n",
      "\n",
      "Correlation matrix of residuals\n",
      "               fred_PCEPI  fred_AHETPI\n",
      "fred_PCEPI       1.000000     0.012887\n",
      "fred_AHETPI      0.012887     1.000000\n",
      "\n",
      "\n",
      "\n"
     ]
    },
    {
     "name": "stderr",
     "output_type": "stream",
     "text": [
      "/Users/natalieleung/miniforge3/envs/nat/lib/python3.8/site-packages/statsmodels/tsa/base/tsa_model.py:559: UserWarning: Could not infer format, so each element will be parsed individually, falling back to `dateutil`. To ensure parsing is consistent and as-expected, please specify a format.\n",
      "  _index = to_datetime(index)\n",
      "/Users/natalieleung/miniforge3/envs/nat/lib/python3.8/site-packages/statsmodels/tsa/base/tsa_model.py:473: ValueWarning: No frequency information was provided, so inferred frequency MS will be used.\n",
      "  self._init_dates(dates, freq)\n"
     ]
    }
   ],
   "source": [
    "# Prepare the VAR model with both variables\n",
    "model = VAR(train[['fred_PCEPI', 'fred_AHETPI']])\n",
    "# Let the model select the best lag up to 5.\n",
    "model_fit = model.fit(maxlags=5, ic='aic')\n",
    "print(model_fit.summary())"
   ]
  },
  {
   "cell_type": "code",
   "execution_count": 20,
   "metadata": {},
   "outputs": [
    {
     "name": "stdout",
     "output_type": "stream",
     "text": [
      "Using lag order: 5\n"
     ]
    }
   ],
   "source": [
    "lag_order = model_fit.k_ar  # number of lags used in the model\n",
    "print(f\"Using lag order: {lag_order}\")\n",
    "\n",
    "# Use the last lag_order from the training data to forecast\n",
    "forecast_input = train[['fred_PCEPI', 'fred_AHETPI']].values[-lag_order:]\n",
    "forecast_steps = len(val)\n",
    "forecast = model_fit.forecast(y=forecast_input, steps=forecast_steps)\n",
    "forecast = forecast.flatten()  # flatten to 1D array"
   ]
  },
  {
   "cell_type": "code",
   "execution_count": 24,
   "metadata": {},
   "outputs": [
    {
     "ename": "ValueError",
     "evalue": "Shape of passed values is (150, 1), indices imply (75, 2)",
     "output_type": "error",
     "traceback": [
      "\u001b[0;31m---------------------------------------------------------------------------\u001b[0m",
      "\u001b[0;31mValueError\u001b[0m                                Traceback (most recent call last)",
      "Cell \u001b[0;32mIn[24], line 2\u001b[0m\n\u001b[1;32m      1\u001b[0m \u001b[38;5;66;03m# Calculate RMSE for the Validation Period\u001b[39;00m\n\u001b[0;32m----> 2\u001b[0m forecast_df \u001b[38;5;241m=\u001b[39m \u001b[43mpd\u001b[49m\u001b[38;5;241;43m.\u001b[39;49m\u001b[43mDataFrame\u001b[49m\u001b[43m(\u001b[49m\u001b[43mforecast\u001b[49m\u001b[43m,\u001b[49m\u001b[43m \u001b[49m\u001b[43mindex\u001b[49m\u001b[38;5;241;43m=\u001b[39;49m\u001b[43mval\u001b[49m\u001b[38;5;241;43m.\u001b[39;49m\u001b[43mindex\u001b[49m\u001b[43m,\u001b[49m\u001b[43m \u001b[49m\u001b[43mcolumns\u001b[49m\u001b[38;5;241;43m=\u001b[39;49m\u001b[43m[\u001b[49m\u001b[38;5;124;43m'\u001b[39;49m\u001b[38;5;124;43mfred_PCEPI\u001b[39;49m\u001b[38;5;124;43m'\u001b[39;49m\u001b[43m,\u001b[49m\u001b[43m \u001b[49m\u001b[38;5;124;43m'\u001b[39;49m\u001b[38;5;124;43mfred_AHETPI\u001b[39;49m\u001b[38;5;124;43m'\u001b[39;49m\u001b[43m]\u001b[49m\u001b[43m)\u001b[49m\n\u001b[1;32m      3\u001b[0m rmse \u001b[38;5;241m=\u001b[39m np\u001b[38;5;241m.\u001b[39msqrt(mean_squared_error(val[\u001b[38;5;124m'\u001b[39m\u001b[38;5;124mfred_PCEPI\u001b[39m\u001b[38;5;124m'\u001b[39m]\u001b[38;5;241m.\u001b[39mvalues, forecast_df[\u001b[38;5;124m'\u001b[39m\u001b[38;5;124mfred_PCEPI\u001b[39m\u001b[38;5;124m'\u001b[39m]\u001b[38;5;241m.\u001b[39mvalues))\n\u001b[1;32m      4\u001b[0m \u001b[38;5;28mprint\u001b[39m(\u001b[38;5;124mf\u001b[39m\u001b[38;5;124m'\u001b[39m\u001b[38;5;124mValidation RMSE: \u001b[39m\u001b[38;5;132;01m{\u001b[39;00mrmse\u001b[38;5;132;01m}\u001b[39;00m\u001b[38;5;124m'\u001b[39m)\n",
      "File \u001b[0;32m~/miniforge3/envs/nat/lib/python3.8/site-packages/pandas/core/frame.py:758\u001b[0m, in \u001b[0;36mDataFrame.__init__\u001b[0;34m(self, data, index, columns, dtype, copy)\u001b[0m\n\u001b[1;32m    747\u001b[0m         mgr \u001b[38;5;241m=\u001b[39m dict_to_mgr(\n\u001b[1;32m    748\u001b[0m             \u001b[38;5;66;03m# error: Item \"ndarray\" of \"Union[ndarray, Series, Index]\" has no\u001b[39;00m\n\u001b[1;32m    749\u001b[0m             \u001b[38;5;66;03m# attribute \"name\"\u001b[39;00m\n\u001b[0;32m   (...)\u001b[0m\n\u001b[1;32m    755\u001b[0m             copy\u001b[38;5;241m=\u001b[39m_copy,\n\u001b[1;32m    756\u001b[0m         )\n\u001b[1;32m    757\u001b[0m     \u001b[38;5;28;01melse\u001b[39;00m:\n\u001b[0;32m--> 758\u001b[0m         mgr \u001b[38;5;241m=\u001b[39m \u001b[43mndarray_to_mgr\u001b[49m\u001b[43m(\u001b[49m\n\u001b[1;32m    759\u001b[0m \u001b[43m            \u001b[49m\u001b[43mdata\u001b[49m\u001b[43m,\u001b[49m\n\u001b[1;32m    760\u001b[0m \u001b[43m            \u001b[49m\u001b[43mindex\u001b[49m\u001b[43m,\u001b[49m\n\u001b[1;32m    761\u001b[0m \u001b[43m            \u001b[49m\u001b[43mcolumns\u001b[49m\u001b[43m,\u001b[49m\n\u001b[1;32m    762\u001b[0m \u001b[43m            \u001b[49m\u001b[43mdtype\u001b[49m\u001b[38;5;241;43m=\u001b[39;49m\u001b[43mdtype\u001b[49m\u001b[43m,\u001b[49m\n\u001b[1;32m    763\u001b[0m \u001b[43m            \u001b[49m\u001b[43mcopy\u001b[49m\u001b[38;5;241;43m=\u001b[39;49m\u001b[43mcopy\u001b[49m\u001b[43m,\u001b[49m\n\u001b[1;32m    764\u001b[0m \u001b[43m            \u001b[49m\u001b[43mtyp\u001b[49m\u001b[38;5;241;43m=\u001b[39;49m\u001b[43mmanager\u001b[49m\u001b[43m,\u001b[49m\n\u001b[1;32m    765\u001b[0m \u001b[43m        \u001b[49m\u001b[43m)\u001b[49m\n\u001b[1;32m    767\u001b[0m \u001b[38;5;66;03m# For data is list-like, or Iterable (will consume into list)\u001b[39;00m\n\u001b[1;32m    768\u001b[0m \u001b[38;5;28;01melif\u001b[39;00m is_list_like(data):\n",
      "File \u001b[0;32m~/miniforge3/envs/nat/lib/python3.8/site-packages/pandas/core/internals/construction.py:337\u001b[0m, in \u001b[0;36mndarray_to_mgr\u001b[0;34m(values, index, columns, dtype, copy, typ)\u001b[0m\n\u001b[1;32m    332\u001b[0m \u001b[38;5;66;03m# _prep_ndarraylike ensures that values.ndim == 2 at this point\u001b[39;00m\n\u001b[1;32m    333\u001b[0m index, columns \u001b[38;5;241m=\u001b[39m _get_axes(\n\u001b[1;32m    334\u001b[0m     values\u001b[38;5;241m.\u001b[39mshape[\u001b[38;5;241m0\u001b[39m], values\u001b[38;5;241m.\u001b[39mshape[\u001b[38;5;241m1\u001b[39m], index\u001b[38;5;241m=\u001b[39mindex, columns\u001b[38;5;241m=\u001b[39mcolumns\n\u001b[1;32m    335\u001b[0m )\n\u001b[0;32m--> 337\u001b[0m \u001b[43m_check_values_indices_shape_match\u001b[49m\u001b[43m(\u001b[49m\u001b[43mvalues\u001b[49m\u001b[43m,\u001b[49m\u001b[43m \u001b[49m\u001b[43mindex\u001b[49m\u001b[43m,\u001b[49m\u001b[43m \u001b[49m\u001b[43mcolumns\u001b[49m\u001b[43m)\u001b[49m\n\u001b[1;32m    339\u001b[0m \u001b[38;5;28;01mif\u001b[39;00m typ \u001b[38;5;241m==\u001b[39m \u001b[38;5;124m\"\u001b[39m\u001b[38;5;124marray\u001b[39m\u001b[38;5;124m\"\u001b[39m:\n\u001b[1;32m    340\u001b[0m     \u001b[38;5;28;01mif\u001b[39;00m \u001b[38;5;28missubclass\u001b[39m(values\u001b[38;5;241m.\u001b[39mdtype\u001b[38;5;241m.\u001b[39mtype, \u001b[38;5;28mstr\u001b[39m):\n",
      "File \u001b[0;32m~/miniforge3/envs/nat/lib/python3.8/site-packages/pandas/core/internals/construction.py:408\u001b[0m, in \u001b[0;36m_check_values_indices_shape_match\u001b[0;34m(values, index, columns)\u001b[0m\n\u001b[1;32m    406\u001b[0m passed \u001b[38;5;241m=\u001b[39m values\u001b[38;5;241m.\u001b[39mshape\n\u001b[1;32m    407\u001b[0m implied \u001b[38;5;241m=\u001b[39m (\u001b[38;5;28mlen\u001b[39m(index), \u001b[38;5;28mlen\u001b[39m(columns))\n\u001b[0;32m--> 408\u001b[0m \u001b[38;5;28;01mraise\u001b[39;00m \u001b[38;5;167;01mValueError\u001b[39;00m(\u001b[38;5;124mf\u001b[39m\u001b[38;5;124m\"\u001b[39m\u001b[38;5;124mShape of passed values is \u001b[39m\u001b[38;5;132;01m{\u001b[39;00mpassed\u001b[38;5;132;01m}\u001b[39;00m\u001b[38;5;124m, indices imply \u001b[39m\u001b[38;5;132;01m{\u001b[39;00mimplied\u001b[38;5;132;01m}\u001b[39;00m\u001b[38;5;124m\"\u001b[39m)\n",
      "\u001b[0;31mValueError\u001b[0m: Shape of passed values is (150, 1), indices imply (75, 2)"
     ]
    }
   ],
   "source": [
    "# Calculate RMSE for the Validation Period\n",
    "forecast_df = pd.DataFrame(forecast, index=val.index, columns=['fred_PCEPI', 'fred_AHETPI'])\n",
    "rmse = np.sqrt(mean_squared_error(val['fred_PCEPI'].values, forecast_df['fred_PCEPI'].values))\n",
    "print(f'Validation RMSE: {rmse}')"
   ]
  },
  {
   "cell_type": "code",
   "execution_count": null,
   "metadata": {},
   "outputs": [],
   "source": [
    "plt.figure(figsize=(12, 6))\n",
    "plt.plot(train.index, train['fred_PCEPI'], label='Train')\n",
    "plt.plot(val.index, val['fred_PCEPI'], label='Actual', color='blue')\n",
    "plt.plot(val.index, forecast, label='Forecast', linestyle='--', color='red')\n",
    "plt.title('VAR (AR) Model Forecast for fred_PCEPI')\n",
    "plt.xlabel('Date')\n",
    "plt.ylabel('fred_PCEPI')\n",
    "plt.legend()\n",
    "plt.show()"
   ]
  }
 ],
 "metadata": {
  "kernelspec": {
   "display_name": "nat",
   "language": "python",
   "name": "python3"
  },
  "language_info": {
   "codemirror_mode": {
    "name": "ipython",
    "version": 3
   },
   "file_extension": ".py",
   "mimetype": "text/x-python",
   "name": "python",
   "nbconvert_exporter": "python",
   "pygments_lexer": "ipython3",
   "version": "3.8.18"
  }
 },
 "nbformat": 4,
 "nbformat_minor": 2
}
