{
 "cells": [
  {
   "cell_type": "markdown",
   "metadata": {},
   "source": [
    "# N-HITS "
   ]
  },
  {
   "cell_type": "markdown",
   "metadata": {},
   "source": [
    "**NHITS (Neural Hierarchical Interpolation for Time Series)** is a deep learning-based forecasting model introduced as a successor to traditional N-BEATS and N-BEATSx architectures. It builds on key ideas from its predecessors but introduces significant improvements in terms of **scalability**, **forecast granularity**, and **hierarchical temporal aggregation**.\n",
    "\n",
    "---\n",
    "\n",
    "### Key Concepts\n",
    "\n",
    "- **Hierarchical Forecasting**: NHITS works by decomposing the forecast problem into **multiple resolution levels** (from coarse to fine). Each level produces forecasts at different temporal resolutions, allowing better long-term trend modeling.\n",
    "  \n",
    "- **Block-based Architecture**: Like N-BEATS, NHITS uses **residual blocks**. However, each block now generates **interpolation coefficients** used to reconstruct fine-grained predictions from coarse-level summaries.\n",
    "\n",
    "- **Interpolation Functions**: Instead of directly forecasting time steps, NHITS predicts parameters for a set of interpolation functions (e.g., basis expansions), leading to **more stable and smoother forecasts**.\n",
    "\n",
    "- **Scalability**: NHITS is designed to train and infer faster on long sequences, making it suitable for large-scale forecasting problems.\n",
    "\n",
    "---\n",
    "\n",
    "### Architecture Overview\n",
    "\n",
    "- Uses **multiple stack types**: `trend`, `seasonality`, and `identity`\n",
    "- Introduces **input size interpolation**, allowing efficient learning across multiple temporal contexts\n",
    "- Leverages **exogenous variables** via `hist_exog_list` and/or `futr_exog_list` for additional predictive power\n",
    "\n",
    "---\n",
    "\n",
    "### Strengths of NHITS\n",
    "\n",
    "- **Accurate on long horizons** due to multiscale aggregation\n",
    "- **Efficient** in training and inference\n",
    "- **Flexible**: supports both historical and future-known exogenous inputs\n",
    "- **Smooth Forecasts**: Ideal for macroeconomic indicators like inflation or GDP\n",
    "\n",
    "---\n",
    "\n",
    "### Reference\n",
    "> Borovykh, A., Montero-Manso, P., & Smyl, S. (2022).  \n",
    "> *NHITS: Neural Hierarchical Interpolation for Time Series Forecasting*  \n",
    "> [https://arxiv.org/abs/2201.12886](https://arxiv.org/abs/2201.12886)\n",
    "\n",
    "---\n",
    "\n"
   ]
  },
  {
   "cell_type": "markdown",
   "metadata": {},
   "source": [
    "### Loading Dataset"
   ]
  },
  {
   "cell_type": "code",
   "execution_count": 10,
   "metadata": {},
   "outputs": [],
   "source": [
    "# Imports\n",
    "import pandas as pd\n",
    "import numpy as np\n",
    "import matplotlib.pyplot as plt\n",
    "import seaborn as sns\n",
    "from sklearn.preprocessing import StandardScaler\n",
    "from sklearn.metrics import mean_absolute_error, mean_squared_error\n",
    "\n",
    "from neuralforecast.models import NHITS\n",
    "from neuralforecast.core import NeuralForecast\n",
    "from neuralforecast.losses.pytorch import SMAPE\n",
    "\n",
    "# Load Dataset\n",
    "df = pd.read_csv(\"../../Data/Train/train2000s.csv\")\n",
    "df['ds'] = pd.to_datetime(df['observation_date'], format='%m/%Y')\n",
    "df['unique_id'] = 'inflation'\n",
    "df = df.rename(columns={'fred_PCEPI': 'y'})\n",
    "df['y_original'] = df['y']"
   ]
  },
  {
   "cell_type": "markdown",
   "metadata": {},
   "source": [
    "### Feature Engineering"
   ]
  },
  {
   "cell_type": "code",
   "execution_count": 11,
   "metadata": {},
   "outputs": [],
   "source": [
    "# Feature Engineering\n",
    "df['month'] = df['ds'].dt.month\n",
    "\n",
    "# Fourier (seasonal): FUTURE\n",
    "for k in range(1, 4):\n",
    "    df[f'sin_{k}'] = np.sin(2 * np.pi * k * df['month'] / 12)\n",
    "    df[f'cos_{k}'] = np.cos(2 * np.pi * k * df['month'] / 12)\n",
    "\n",
    "# Lags, Rolling, Momentum: HISTORICAL\n",
    "for lag in [1, 6, 12, 24]:\n",
    "    df[f'y_lag_{lag}'] = df['y'].shift(lag)\n",
    "\n",
    "for window in [3, 6, 12]:\n",
    "    df[f'rolling_mean_{window}'] = df['y'].rolling(window).mean()\n",
    "    df[f'rolling_std_{window}'] = df['y'].rolling(window).std()\n",
    "\n",
    "df['rolling_skew_6'] = df['y'].rolling(6).skew()\n",
    "df['rolling_kurt_6'] = df['y'].rolling(6).kurt()\n",
    "df['y_pct_change'] = df['y'].pct_change()\n",
    "df['y_momentum'] = df['y_pct_change'].diff()\n",
    "\n",
    "# Drop NaNs\n",
    "df = df.dropna()"
   ]
  },
  {
   "cell_type": "code",
   "execution_count": 12,
   "metadata": {},
   "outputs": [],
   "source": [
    "# Feature Selection\n",
    "exclude = ['observation_date', 'ds', 'unique_id', 'y', 'y_original', 'month']\n",
    "feature_pool = [col for col in df.columns if col not in exclude]\n",
    "cor_matrix = df[feature_pool + ['y']].corr()\n",
    "selected_features = cor_matrix['y'].drop('y').loc[lambda x: x.abs() > 0.3].index.tolist()\n",
    "\n",
    "# Separate into future vs historical exog\n",
    "futr_exog = [f for f in selected_features if 'sin' in f or 'cos' in f]\n",
    "hist_exog = [f for f in selected_features if f not in futr_exog]"
   ]
  },
  {
   "cell_type": "markdown",
   "metadata": {},
   "source": [
    "### Scaling"
   ]
  },
  {
   "cell_type": "code",
   "execution_count": 13,
   "metadata": {},
   "outputs": [],
   "source": [
    "# Scaling\n",
    "x_scaler = StandardScaler()\n",
    "df[selected_features] = x_scaler.fit_transform(df[selected_features])\n",
    "\n",
    "y_scaler = StandardScaler()\n",
    "df['y'] = y_scaler.fit_transform(df[['y']])\n",
    "\n",
    "df_model = df[['unique_id', 'ds', 'y'] + selected_features]\n",
    "df_targets = df[['unique_id', 'ds', 'y_original']]\n"
   ]
  },
  {
   "cell_type": "markdown",
   "metadata": {},
   "source": [
    "## Defining model"
   ]
  },
  {
   "cell_type": "markdown",
   "metadata": {},
   "source": [
    "### Model Parameter Breakdown\n",
    "\n",
    "| Parameter              | Description                                                                                 |\n",
    "|------------------------|---------------------------------------------------------------------------------------------|\n",
    "| `h=HORIZON`            | The forecast horizon (6 months ahead in this case).                                          |\n",
    "| `input_size=72`        | The size of the historical context (lookback window). A larger value helps capture longer trends. |\n",
    "| `n_blocks=[2, 2, 2]`    | Number of blocks per stack type. NHITS uses three types of stacks: trend, seasonality, identity. |\n",
    "| `max_steps=500`        | Maximum number of gradient updates (training steps).                                        |\n",
    "| `val_check_steps=100`  | Frequency (in steps) at which validation loss is checked during training.                  |\n",
    "| `learning_rate=1e-4`   | Learning rate for the optimizer. Lower values may improve stability.                        |\n",
    "| `dropout_prob_theta=0.2` | Dropout regularization probability to reduce overfitting in the model's theta parameters. |\n",
    "| `futr_exog_list`       | List of exogenous variables known in the future (e.g., Fourier seasonality components).     |\n",
    "| `hist_exog_list`       | List of exogenous variables known only in the past (e.g., lag, rolling, momentum features). |\n",
    "| `scaler_type='robust'` | Robust scaling is applied to normalize input data, making training more stable.             |\n",
    "| `loss=SMAPE()`         | Symmetric Mean Absolute Percentage Error is used as the loss function during training.       |\n",
    "| `random_seed=42`       | Sets the random seed for reproducibility.                                                  |\n",
    "| `freq='M'`             | Monthly frequency for time series data.                                                     |\n",
    "\n",
    "\n",
    "### Why These Choices?\n",
    "\n",
    "- A **longer input size (72)** is used to allow the model to learn from more history, improving its ability to capture trend and seasonality.\n",
    "- The **SMAPE loss** is robust to scale and is more appropriate than MSE when dealing with inflation or economic indices.\n",
    "- **Separate historical and future exogenous variables** are used to inform the model about past behavior and future influences.\n",
    "- A **low learning rate** and **moderate dropout** are used to avoid overfitting and ensure generalization on unseen data.\n"
   ]
  },
  {
   "cell_type": "code",
   "execution_count": 14,
   "metadata": {},
   "outputs": [
    {
     "name": "stderr",
     "output_type": "stream",
     "text": [
      "Seed set to 42\n"
     ]
    }
   ],
   "source": [
    "# NHITS Model Definition\n",
    "HORIZON = 6\n",
    "model = NeuralForecast(\n",
    "    models=[\n",
    "        NHITS(\n",
    "            h=HORIZON,\n",
    "            input_size=72,  # longer receptive field\n",
    "            n_blocks=[2, 2, 2],\n",
    "            max_steps=500,\n",
    "            val_check_steps=100,\n",
    "            learning_rate=1e-4,\n",
    "            dropout_prob_theta=0.2,\n",
    "            futr_exog_list=futr_exog,\n",
    "            hist_exog_list=hist_exog,\n",
    "            scaler_type='robust',\n",
    "            loss=SMAPE(),\n",
    "            random_seed=42\n",
    "        )\n",
    "    ],\n",
    "    freq='M'\n",
    ")"
   ]
  },
  {
   "cell_type": "markdown",
   "metadata": {},
   "source": [
    "### Cross Validation"
   ]
  },
  {
   "cell_type": "code",
   "execution_count": 15,
   "metadata": {},
   "outputs": [
    {
     "name": "stderr",
     "output_type": "stream",
     "text": [
      "GPU available: False, used: False\n",
      "TPU available: False, using: 0 TPU cores\n",
      "HPU available: False, using: 0 HPUs\n",
      "\n",
      "  | Name         | Type          | Params | Mode \n",
      "-------------------------------------------------------\n",
      "0 | loss         | SMAPE         | 0      | train\n",
      "1 | padder_train | ConstantPad1d | 0      | train\n",
      "2 | scaler       | TemporalNorm  | 0      | train\n",
      "3 | blocks       | ModuleList    | 30.3 M | train\n",
      "-------------------------------------------------------\n",
      "30.3 M    Trainable params\n",
      "0         Non-trainable params\n",
      "30.3 M    Total params\n",
      "121.301   Total estimated model params size (MB)\n",
      "82        Modules in train mode\n",
      "0         Modules in eval mode\n"
     ]
    },
    {
     "name": "stdout",
     "output_type": "stream",
     "text": [
      "Epoch 499: 100%|██████████| 1/1 [00:02<00:00,  0.34it/s, v_num=0, train_loss_step=0.0103, train_loss_epoch=0.0103]  "
     ]
    },
    {
     "name": "stderr",
     "output_type": "stream",
     "text": [
      "`Trainer.fit` stopped: `max_steps=500` reached.\n"
     ]
    },
    {
     "name": "stdout",
     "output_type": "stream",
     "text": [
      "Epoch 499: 100%|██████████| 1/1 [00:02<00:00,  0.33it/s, v_num=0, train_loss_step=0.0103, train_loss_epoch=0.0103]\n"
     ]
    },
    {
     "name": "stderr",
     "output_type": "stream",
     "text": [
      "GPU available: False, used: False\n",
      "TPU available: False, using: 0 TPU cores\n",
      "HPU available: False, using: 0 HPUs\n"
     ]
    },
    {
     "name": "stdout",
     "output_type": "stream",
     "text": [
      "Predicting DataLoader 0: 100%|██████████| 1/1 [00:00<00:00, 17.16it/s]\n"
     ]
    }
   ],
   "source": [
    "# Cross-Validation Forecasting\n",
    "df_cv = model.cross_validation(\n",
    "    df=df_model,\n",
    "    n_windows=10,\n",
    "    step_size=HORIZON\n",
    ")\n"
   ]
  },
  {
   "cell_type": "markdown",
   "metadata": {},
   "source": [
    "## Evaluation"
   ]
  },
  {
   "cell_type": "code",
   "execution_count": 16,
   "metadata": {},
   "outputs": [
    {
     "name": "stdout",
     "output_type": "stream",
     "text": [
      "Cross-Validation MAE: 0.3255\n",
      "Cross-Validation RMSE: 0.4107\n"
     ]
    },
    {
     "data": {
      "image/png": "[encoded data removed]",
      "text/plain": [
       "<Figure size 1200x500 with 1 Axes>"
      ]
     },
     "metadata": {},
     "output_type": "display_data"
    }
   ],
   "source": [
    "# Evaluation\n",
    "merged = df_cv.merge(df_targets, on=[\"unique_id\", \"ds\"], how=\"left\")\n",
    "merged = merged.dropna(subset=[\"y_original\", \"NHITS\"])\n",
    "\n",
    "y_true = merged[\"y_original\"].values.reshape(-1, 1)\n",
    "y_pred = y_scaler.inverse_transform(merged[[\"NHITS\"]])\n",
    "\n",
    "mae = mean_absolute_error(y_true, y_pred)\n",
    "rmse = np.sqrt(mean_squared_error(y_true, y_pred))\n",
    "print(f\"Cross-Validation MAE: {mae:.4f}\")\n",
    "print(f\"Cross-Validation RMSE: {rmse:.4f}\")\n",
    "\n",
    "# Plot Results\n",
    "merged[\"y_inv\"] = y_true\n",
    "merged[\"pred_inv\"] = y_pred\n",
    "\n",
    "plt.figure(figsize=(12, 5))\n",
    "sns.lineplot(data=merged, x=\"ds\", y=\"y_inv\", label=\"Actual Inflation\", color=\"black\")\n",
    "sns.lineplot(data=merged, x=\"ds\", y=\"pred_inv\", label=\"Predicted Inflation (NHITS)\", linestyle=\"--\", color=\"blue\")\n",
    "plt.title(\"NHITS Forecast (Fourier + Lags + Rolling + Momentum + Exogenous)\")\n",
    "plt.xlabel(\"Date\")\n",
    "plt.ylabel(\"Inflation\")\n",
    "plt.grid(True)\n",
    "plt.tight_layout()\n",
    "plt.legend()\n",
    "plt.show()\n"
   ]
  },
  {
   "cell_type": "markdown",
   "metadata": {},
   "source": [
    "# **Updated Comparison: Model 4 (N-BEATSx) vs NHITS**\n",
    "\n",
    "| Feature | **Model 4: N-BEATSx** | **Model 5: NHITS** |\n",
    "|--------|------------------------|--------------------|\n",
    "| **Framework** | NeuralForecast | NeuralForecast |\n",
    "| **Model Type** | N-BEATSx | NHITS |\n",
    "| **Stack Types** | `[\"trend\", \"seasonality\"]` | `[\"trend\", \"seasonality\", \"identity\"]` |\n",
    "| **Number of Blocks** | `[2, 2]` | `[2, 2, 2]` |\n",
    "| **Input Size** | 48 | 72 |\n",
    "| **Horizon (h)** | 6 | 6 |\n",
    "| **Loss Function** | SMAPE | SMAPE |\n",
    "| **Dropout** | 0.3 | 0.2 |\n",
    "| **Learning Rate** | `5e-4` | `1e-4` |\n",
    "| **Max Steps** | 500 | 500 |\n",
    "| **Cross-Validation** | 10 rolling windows | 10 rolling windows |\n",
    "| **Exogenous Setup** | `hist_exog_list` | `futr_exog_list` + `hist_exog_list` |\n",
    "| **Feature Set Used** | Fourier + Lag 1 + Momentum | Fourier + Lag 1/6/12/24 + Rolling + Momentum |\n",
    "| **Feature Selection** | Correlation > 0.4 | Correlation > 0.3 |\n",
    "| **Target Scaler** | MinMaxScaler | StandardScaler |\n",
    "| **Exog Scaler** | StandardScaler | StandardScaler |\n",
    "| **MAE (↓ Better)** | **0.3002** | 0.3255 |\n",
    "| **RMSE (↓ Better)** | **0.3752** | 0.4107 |\n",
    "| **Prediction Style** | Crisp, low bias | Smooth but slight lag |\n",
    "| **Inference Style** | Purely block-based MLPs | Hierarchical basis with longer receptive field |\n",
    "| **Training Speed** | Fast (fewer blocks, smaller input) | Slower (more layers & blocks) |\n",
    "\n",
    "---\n",
    "\n",
    "- **Model 4 (N-BEATSx)** performs better in both MAE and RMSE.\n",
    "- NHITS may be better for **longer input windows** or **complex seasonal patterns**, but on this inflation dataset, **N-BEATSx wins** due to simpler structure and cleaner exogenous integration.\n",
    "- The slight lag in NHITS predictions is likely due to **smoother decomposition** and slower response to local changes."
   ]
  },
  {
   "cell_type": "markdown",
   "metadata": {},
   "source": [
    "## 12 MONTH"
   ]
  },
  {
   "cell_type": "code",
   "execution_count": 1,
   "metadata": {},
   "outputs": [],
   "source": [
    "import sys\n",
    "import os\n",
    "sys.path.append(os.path.abspath(os.path.join(\"..\", \"..\")))  # adds root of the project"
   ]
  },
  {
   "cell_type": "code",
   "execution_count": 2,
   "metadata": {},
   "outputs": [
    {
     "name": "stderr",
     "output_type": "stream",
     "text": [
      "/Library/Frameworks/Python.framework/Versions/3.11/lib/python3.11/site-packages/tqdm/auto.py:21: TqdmWarning: IProgress not found. Please update jupyter and ipywidgets. See https://ipywidgets.readthedocs.io/en/stable/user_install.html\n",
      "  from .autonotebook import tqdm as notebook_tqdm\n",
      "2025-03-29 18:40:33,663\tINFO util.py:154 -- Missing packages: ['ipywidgets']. Run `pip install -U ipywidgets`, then restart the notebook server for rich notebook output.\n",
      "2025-03-29 18:40:33,888\tINFO util.py:154 -- Missing packages: ['ipywidgets']. Run `pip install -U ipywidgets`, then restart the notebook server for rich notebook output.\n"
     ]
    }
   ],
   "source": [
    "import pandas as pd\n",
    "import numpy as np\n",
    "import os\n",
    "import matplotlib.pyplot as plt\n",
    "\n",
    "from sklearn.preprocessing import StandardScaler, MinMaxScaler\n",
    "from sklearn.metrics import mean_squared_error, mean_absolute_error\n",
    "\n",
    "from neuralforecast.models import NHITS\n",
    "from neuralforecast.core import NeuralForecast\n",
    "from neuralforecast.losses.pytorch import SMAPE\n",
    "\n",
    "from Training.Helper.dataPreprocessing import (\n",
    "    add_time_features,\n",
    "    add_lagged_features,\n",
    "    add_rolling_features,\n",
    "    rank_features_ccf,\n",
    "    sklearn_fit_transform,\n",
    "    integer_index,\n",
    "    TRAIN_DATA_PATH_1990S\n",
    ")\n",
    "\n",
    "# CONFIGURATION\n",
    "HORIZON = 12\n",
    "INPUT_SIZE = 96\n",
    "DATA_PATH = TRAIN_DATA_PATH_1990S\n",
    "PRED_SAVE_PATH = os.path.join(\"..\", \"..\", \"Predictions\", \"NHITS.npy\")"
   ]
  },
  {
   "cell_type": "markdown",
   "metadata": {},
   "source": [
    "## Load and Preprocess data"
   ]
  },
  {
   "cell_type": "code",
   "execution_count": 3,
   "metadata": {},
   "outputs": [],
   "source": [
    "# LOAD & PREPROCESS DATA\n",
    "df = pd.read_csv(DATA_PATH)\n",
    "df[\"ds\"] = pd.to_datetime(df[\"observation_date\"], format=\"%m/%Y\")\n",
    "df = df.rename(columns={\"fred_PCEPI\": \"y_original\"})\n",
    "df[\"unique_id\"] = \"inflation\""
   ]
  },
  {
   "cell_type": "code",
   "execution_count": 4,
   "metadata": {},
   "outputs": [
    {
     "name": "stderr",
     "output_type": "stream",
     "text": [
      "2025-03-29 18:40:34,984 - INFO - Added time features: year, month, quarter. DataFrame shape: (408, 365)\n"
     ]
    }
   ],
   "source": [
    "# TIME + FOURIER FEATURES\n",
    "df = add_time_features(df, date_col=\"ds\")\n",
    "for k in [1, 2, 3, 4]:\n",
    "    df[f\"sin_{k}\"] = np.sin(2 * np.pi * k * df[\"month\"] / 12)\n",
    "    df[f\"cos_{k}\"] = np.cos(2 * np.pi * k * df[\"month\"] / 12)"
   ]
  },
  {
   "cell_type": "code",
   "execution_count": 5,
   "metadata": {},
   "outputs": [],
   "source": [
    "# MOMENTUM + LAG + ROLLING \n",
    "df[\"pct_change\"] = df[\"y_original\"].pct_change()\n",
    "df[\"momentum\"] = df[\"pct_change\"].diff()\n",
    "df = add_lagged_features(df, [\"y_original\"], lags=[1, 6, 12, 24])\n",
    "df = add_rolling_features(df, \"y_original\", windows=[3, 6, 12])\n",
    "df[\"y_original_rolling_skew6\"] = df[\"y_original\"].rolling(6).skew()\n",
    "df[\"y_original_rolling_kurt6\"] = df[\"y_original\"].rolling(6).kurt()\n",
    "\n",
    "# Add rolling mean/std for important hist_exog features\n",
    "top_hist_feats = [\"momentum\", \"y_original_lag1\", \"y_original_lag6\", \"y_original_rolling_mean6\"]\n",
    "for feat in top_hist_feats:\n",
    "    df[f\"{feat}_roll_mean6\"] = df[feat].rolling(6).mean()\n",
    "    df[f\"{feat}_roll_std6\"] = df[feat].rolling(6).std()\n",
    "\n",
    "df.dropna(inplace=True)"
   ]
  },
  {
   "cell_type": "markdown",
   "metadata": {},
   "source": [
    "## Feature Selection"
   ]
  },
  {
   "cell_type": "code",
   "execution_count": 6,
   "metadata": {},
   "outputs": [
    {
     "name": "stdout",
     "output_type": "stream",
     "text": [
      "Selected top 25 features using CCF ranking\n",
      "Future Exogs: []\n",
      "Historical Exogs: ['y_original_lag6', 'y_original_lag1', 'fred_PCEPI_LOG', 'y_original_lag12', 'y_original_rolling_mean3', 'y_original_rolling_mean6_roll_mean6', 'y_original_lag6_roll_mean6', 'fred_PCUOMFGOMFG_LOG', 'fred_PCUOMFGOMFG', 'y_original_lag1_roll_mean6', 'y_original_rolling_mean6', 'fred_PPIACO', 'fred_APU000074714', 'fred_PPIACO_LOG', 'fred_APU000074714_LOG', 'y_original_rolling_mean12', 'momentum', 'BrentOil_Open', 'CrudeOilWTI_Open', 'fred_APU000074714_CH1', 'CMO-Historical-Data-Monthly_Total_Index', 'BrentOil_High', 'CMO-Historical-Data-Monthly_Energy', 'CrudeOilWTI_High', 'fred_DCOILWTICO']\n"
     ]
    }
   ],
   "source": [
    "# FEATURE SELECTION\n",
    "exog_df = df.drop(columns=[\"observation_date\", \"ds\", \"unique_id\", \"y_original\"])\n",
    "exog_df[\"fred_PCEPI\"] = df[\"y_original\"]\n",
    "selected_features = rank_features_ccf(exog_df, targetCol=\"fred_PCEPI\")[:25]\n",
    "\n",
    "# CLASSIFY EXOG FEATURES\n",
    "futr_exog = [f for f in selected_features if \"sin\" in f or \"cos\" in f]\n",
    "hist_exog = [f for f in selected_features if f not in futr_exog]\n",
    "\n",
    "print(f\"Selected top 25 features using CCF ranking\\nFuture Exogs: {futr_exog}\\nHistorical Exogs: {hist_exog}\")"
   ]
  },
  {
   "cell_type": "markdown",
   "metadata": {},
   "source": [
    "futr_exog is empty because seasonal features like sin_k and cos_k didn’t rank highly enough in the CCF process. It means the inflation signal is more strongly influenced by historical lags, oil prices, and rolling stats than by repeating seasonality."
   ]
  },
  {
   "cell_type": "code",
   "execution_count": 7,
   "metadata": {},
   "outputs": [],
   "source": [
    "# SCALE EXOGENOUS FEATURES\n",
    "x_transformed_list, x_scaler = sklearn_fit_transform(df[selected_features], StandardScaler())\n",
    "df[selected_features] = x_transformed_list[0]\n",
    "\n",
    "# LOG + NORMALIZE TARGET\n",
    "df[\"y_log\"] = np.log(df[\"y_original\"])\n",
    "df[\"y\"] = df[\"y_log\"]\n",
    "y_transformed_list, y_scaler = sklearn_fit_transform(df[[\"y\"]], MinMaxScaler())\n",
    "df[\"y\"] = y_transformed_list[0].iloc[:, 0]\n",
    "\n",
    "# FINAL MODEL DATAFRAME\n",
    "valid_features = [f for f in selected_features if f in df.columns]\n",
    "df_model = df[[\"unique_id\", \"ds\", \"y\"] + valid_features]\n",
    "df_model = integer_index(df_model)"
   ]
  },
  {
   "cell_type": "markdown",
   "metadata": {},
   "source": [
    "## Train/Val split"
   ]
  },
  {
   "cell_type": "code",
   "execution_count": 8,
   "metadata": {},
   "outputs": [
    {
     "name": "stdout",
     "output_type": "stream",
     "text": [
      "Split data → Train: 372, Val: 96\n"
     ]
    }
   ],
   "source": [
    "# TRAIN/VAL SPLIT\n",
    "train_df = df_model.iloc[:-HORIZON]\n",
    "val_df = df_model.iloc[-INPUT_SIZE:]\n",
    "print(f\"Split data → Train: {len(train_df)}, Val: {len(val_df)}\")"
   ]
  },
  {
   "cell_type": "markdown",
   "metadata": {},
   "source": [
    "## Define Model\n",
    "\n",
    "- Since no future exogenous variables (futr_exog) were selected during feature ranking, I omitted the futr_exog_list entirely from the model configuration. Instead, included only the top-ranked historical exogenous features (hist_exog_list) that were present in the final processed dataframe.\n",
    "\n",
    "### Model Parameter Breakdown\n",
    "\n",
    "| Parameter                 | Description                                                                                     |\n",
    "|---------------------------|-------------------------------------------------------------------------------------------------|\n",
    "| `h=HORIZON`               | Forecast horizon: 12 months ahead.                                                              |\n",
    "| `input_size=96`           | Historical context window. Allows the model to learn long-term inflation trends.               |\n",
    "| `n_blocks=[4, 4, 4]`      | Number of blocks in each NHITS stack (trend, seasonality, identity). Higher depth improves capacity. |\n",
    "| `mlp_units=[[256, 256]]*3`| MLP layer sizes for each block. A deeper MLP captures more complex temporal patterns.           |\n",
    "| `max_steps=500`           | Maximum number of training steps (gradient updates).                                            |\n",
    "| `val_check_steps=250`     | Validation is checked every 250 steps to monitor generalization.                               |\n",
    "| `learning_rate=3e-4`      | Learning rate for the optimizer. Balanced for stability and convergence.                        |\n",
    "| `dropout_prob_theta=0.3`  | Dropout regularization probability. Prevents overfitting by randomly disabling neurons.         |\n",
    "| `hist_exog_list`          | Includes selected lag, momentum, and rolling statistical features known from the past.         |\n",
    "| `scaler_type='robust'`    | Applies robust scaling to handle outliers in both target and exogenous variables.              |\n",
    "| `loss=SMAPE()`            | SMAPE is scale-invariant and suitable for percentage-based errors like inflation.              |\n",
    "| `random_seed=42`          | Ensures reproducible results across multiple runs.                                              |\n",
    "| `freq='M'`                | Time series is monthly (aligned with PCE inflation data granularity).                          |\n",
    "\n",
    "---\n",
    "\n",
    "### Why These Choices?\n",
    "\n",
    "- **12-month horizon** matches the evaluation target for inflation prediction accuracy over a year.\n",
    "- A **96-month input window** helps capture both short- and long-term inflation trends and cycles.\n",
    "- **Larger MLP units and more blocks** improve the model’s capacity to fit complex patterns without overfitting, especially when paired with dropout.\n",
    "- **SMAPE loss** is chosen over MAE or MSE to account for percentage differences, which is more interpretable in macroeconomic forecasting.\n",
    "- I **excluded futr_exog** after ranking, since none of the Fourier or future-known variables passed the correlation thresholds—preventing leakage or model noise.\n",
    "- **Robust scaling** ensures that heavy-tailed distributions and outliers in economic data don’t skew training."
   ]
  },
  {
   "cell_type": "code",
   "execution_count": 10,
   "metadata": {},
   "outputs": [
    {
     "name": "stderr",
     "output_type": "stream",
     "text": [
      "Seed set to 42\n",
      "GPU available: False, used: False\n",
      "TPU available: False, using: 0 TPU cores\n",
      "HPU available: False, using: 0 HPUs\n",
      "\n",
      "  | Name         | Type          | Params | Mode \n",
      "-------------------------------------------------------\n",
      "0 | loss         | SMAPE         | 0      | train\n",
      "1 | padder_train | ConstantPad1d | 0      | train\n",
      "2 | scaler       | TemporalNorm  | 0      | train\n",
      "3 | blocks       | ModuleList    | 7.8 M  | train\n",
      "-------------------------------------------------------\n",
      "7.8 M     Trainable params\n",
      "0         Non-trainable params\n",
      "7.8 M     Total params\n",
      "31.204    Total estimated model params size (MB)\n",
      "160       Modules in train mode\n",
      "0         Modules in eval mode\n"
     ]
    },
    {
     "name": "stdout",
     "output_type": "stream",
     "text": [
      "Epoch 499: 100%|██████████| 1/1 [00:00<00:00,  1.27it/s, v_num=34, train_loss_step=0.0114, train_loss_epoch=0.0114]"
     ]
    },
    {
     "name": "stderr",
     "output_type": "stream",
     "text": [
      "`Trainer.fit` stopped: `max_steps=500` reached.\n"
     ]
    },
    {
     "name": "stdout",
     "output_type": "stream",
     "text": [
      "Epoch 499: 100%|██████████| 1/1 [00:00<00:00,  1.26it/s, v_num=34, train_loss_step=0.0114, train_loss_epoch=0.0114]\n"
     ]
    }
   ],
   "source": [
    "# DEFINE MODEL\n",
    "model = NeuralForecast(\n",
    "    models=[\n",
    "        NHITS(\n",
    "            h=HORIZON,\n",
    "            input_size=INPUT_SIZE,\n",
    "            n_blocks=[4, 4, 4],\n",
    "            mlp_units=[[256, 256]] * 3,\n",
    "            learning_rate=3e-4,\n",
    "            max_steps=500,\n",
    "            val_check_steps=250,\n",
    "            dropout_prob_theta=0.3,\n",
    "            hist_exog_list=[f for f in hist_exog if f in df_model.columns],\n",
    "            scaler_type='robust',\n",
    "            loss=SMAPE(),\n",
    "            random_seed=42\n",
    "        )\n",
    "    ],\n",
    "    freq=\"M\"\n",
    ")\n",
    "\n",
    "# TRAIN MODEL\n",
    "model.fit(df=train_df)"
   ]
  },
  {
   "cell_type": "markdown",
   "metadata": {},
   "source": [
    "## Saving model based on 12 month prediction"
   ]
  },
  {
   "cell_type": "code",
   "execution_count": 11,
   "metadata": {},
   "outputs": [
    {
     "name": "stderr",
     "output_type": "stream",
     "text": [
      "/Library/Frameworks/Python.framework/Versions/3.11/lib/python3.11/site-packages/utilsforecast/processing.py:384: FutureWarning: 'M' is deprecated and will be removed in a future version, please use 'ME' instead.\n",
      "  freq = pd.tseries.frequencies.to_offset(freq)\n",
      "/Library/Frameworks/Python.framework/Versions/3.11/lib/python3.11/site-packages/utilsforecast/processing.py:440: FutureWarning: 'M' is deprecated and will be removed in a future version, please use 'ME' instead.\n",
      "  freq = pd.tseries.frequencies.to_offset(freq)\n",
      "GPU available: False, used: False\n",
      "TPU available: False, using: 0 TPU cores\n",
      "HPU available: False, using: 0 HPUs\n"
     ]
    },
    {
     "name": "stdout",
     "output_type": "stream",
     "text": [
      "Predicting DataLoader 0: 100%|██████████| 1/1 [00:00<00:00, 53.79it/s]\n",
      "\n",
      " Saved NHITS 12-month forecast to: ../../Predictions/NHITS.npy\n"
     ]
    }
   ],
   "source": [
    "# FORECAST\n",
    "forecast_df = model.predict(df=val_df)\n",
    "y_pred_scaled = forecast_df[\"NHITS\"].values.reshape(-1, 1)\n",
    "y_pred_log = y_scaler.inverse_transform(y_pred_scaled).flatten()\n",
    "y_pred = np.exp(y_pred_log)\n",
    "\n",
    "# GROUND TRUTH\n",
    "y_true = df[\"y_original\"].iloc[-HORIZON:].values\n",
    "val_dates = df[\"ds\"].iloc[-HORIZON:]\n",
    "\n",
    "# SAVE\n",
    "np.save(PRED_SAVE_PATH, y_pred[:HORIZON])\n",
    "print(f\"\\n Saved NHITS 12-month forecast to: {PRED_SAVE_PATH}\")\n"
   ]
  }
 ],
 "metadata": {
  "kernelspec": {
   "display_name": ".venv",
   "language": "python",
   "name": "python3"
  },
  "language_info": {
   "codemirror_mode": {
    "name": "ipython",
    "version": 3
   },
   "file_extension": ".py",
   "mimetype": "text/x-python",
   "name": "python",
   "nbconvert_exporter": "python",
   "pygments_lexer": "ipython3",
   "version": "3.11.7"
  },
  "orig_nbformat": 4
 },
 "nbformat": 4,
 "nbformat_minor": 2
}
