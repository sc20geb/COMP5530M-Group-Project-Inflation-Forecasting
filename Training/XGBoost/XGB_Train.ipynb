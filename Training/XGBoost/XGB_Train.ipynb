{
 "cells": [
  {
   "cell_type": "code",
   "execution_count": null,
   "metadata": {},
   "outputs": [],
   "source": [
    "pip install optuna\n",
    "pip install --upgrade xgboost"
   ]
  },
  {
   "cell_type": "markdown",
   "metadata": {},
   "source": [
    "Setup + Load + Preprocess"
   ]
  },
  {
   "cell_type": "code",
   "execution_count": null,
   "metadata": {},
   "outputs": [],
   "source": [
    "# ==== Setup Paths and Imports ====\n",
    "import os, sys\n",
    "import pandas as pd\n",
    "import numpy as np\n",
    "from sklearn.preprocessing import StandardScaler\n",
    "from sklearn.metrics import mean_squared_error\n",
    "from xgboost import XGBRegressor\n",
    "import optuna\n",
    "import json\n",
    "import matplotlib.pyplot as plt\n",
    "\n",
    "project_root = os.path.abspath(os.path.join(os.getcwd(), \"../..\"))\n",
    "sys.path.append(project_root)\n",
    "\n",
    "save_dir = os.path.join(project_root, \"Models\", \"Weights\", \"XGB\")\n",
    "os.makedirs(save_dir, exist_ok=True)\n",
    "\n",
    "# ==== Load Dataset ====\n",
    "train_file = os.path.join(project_root, \"Data\", \"Train\", \"train1990s.csv\")\n",
    "df = pd.read_csv(train_file, parse_dates=[\"observation_date\"])\n",
    "df.rename(columns={\"observation_date\": \"Date\", \"fred_PCEPI\": \"Inflation\"}, inplace=True)\n",
    "\n",
    "# ==== Feature Engineering ====\n",
    "from Training.Helper.dataPreprocessing import add_lagged_features\n",
    "df = add_lagged_features(df, target_cols=[\"Inflation\"], lags=[1, 2, 3, 5, 10])\n",
    "df[\"Target\"] = df[\"Inflation\"].shift(-1)\n",
    "df = df.dropna().reset_index(drop=True)\n",
    "\n",
    "# ==== Scaling ====\n",
    "feature_cols = [col for col in df.columns if col not in [\"Date\", \"Target\"]]\n",
    "scaler = StandardScaler()\n",
    "df[feature_cols] = scaler.fit_transform(df[feature_cols])\n"
   ]
  },
  {
   "cell_type": "markdown",
   "metadata": {},
   "source": [
    "Optuna Hyperparameter Tuning + Training"
   ]
  },
  {
   "cell_type": "code",
   "execution_count": null,
   "metadata": {},
   "outputs": [],
   "source": [
    "# ==== Train-Validation Split ====\n",
    "split_idx = int(len(df) * 0.8)\n",
    "X_train = df.iloc[:split_idx][feature_cols]\n",
    "y_train = df.iloc[:split_idx][\"Target\"]\n",
    "X_val = df.iloc[split_idx:][feature_cols]\n",
    "y_val = df.iloc[split_idx:][\"Target\"]\n",
    "\n",
    "# ==== Optuna Objective ====\n",
    "def objective(trial):\n",
    "    params = {\n",
    "        \"objective\": \"reg:squarederror\",\n",
    "        \"max_depth\": trial.suggest_int(\"max_depth\", 3, 10),\n",
    "        \"learning_rate\": trial.suggest_float(\"learning_rate\", 0.01, 0.3, log=True),\n",
    "        \"n_estimators\": trial.suggest_int(\"n_estimators\", 100, 500),\n",
    "        \"subsample\": trial.suggest_float(\"subsample\", 0.6, 1.0),\n",
    "        \"colsample_bytree\": trial.suggest_float(\"colsample_bytree\", 0.6, 1.0)\n",
    "    }\n",
    "    model = XGBRegressor(**params)\n",
    "    model.fit(X_train, y_train, verbose=False)\n",
    "    val_pred = model.predict(X_val)\n",
    "    return np.sqrt(mean_squared_error(y_val, val_pred))\n",
    "\n",
    "# ==== Run Study ====\n",
    "study = optuna.create_study(direction=\"minimize\")\n",
    "study.optimize(objective, n_trials=20)\n",
    "best_params = study.best_params\n",
    "print(f\"Best Hyperparameters: {best_params}\")\n"
   ]
  },
  {
   "cell_type": "markdown",
   "metadata": {},
   "source": [
    "Final Training + Save + Logging"
   ]
  },
  {
   "cell_type": "code",
   "execution_count": null,
   "metadata": {},
   "outputs": [],
   "source": [
    "# ==== Train Final Model ====\n",
    "best_params[\"eval_metric\"] = \"rmse\"\n",
    "best_xgb_model = XGBRegressor(**best_params)\n",
    "best_xgb_model.fit(X_train, y_train, verbose=True)\n",
    "\n",
    "# ==== Evaluate ====\n",
    "y_pred = best_xgb_model.predict(X_val)\n",
    "best_rmse = np.sqrt(mean_squared_error(y_val, y_pred))\n",
    "print(f\"\\n Final Validation RMSE: {best_rmse:.4f}\")\n",
    "\n",
    "# ==== Save Predictions ====\n",
    "preds_path = os.path.join(save_dir, \"XGB_val_preds.npy\")\n",
    "np.save(preds_path, y_pred)\n",
    "print(f\"Predictions saved to: {preds_path}\")\n",
    "\n",
    "# ==== Save Model & Log ====\n",
    "model_path = os.path.join(save_dir, \"XGB_best_model.model\")\n",
    "log_path = os.path.join(save_dir, \"XGB_training_log.json\")\n",
    "best_xgb_model.save_model(model_path)\n",
    "\n",
    "with open(log_path, \"w\") as f:\n",
    "    json.dump({\n",
    "        \"best_iteration\": best_params[\"n_estimators\"],\n",
    "        \"best_rmse\": best_rmse\n",
    "    }, f, indent=4)\n",
    "\n",
    "print(f\"Model saved to {model_path} | Log saved to {log_path}\")\n"
   ]
  },
  {
   "cell_type": "markdown",
   "metadata": {},
   "source": [
    "Save & Trim XGB Predictions for Compatibility"
   ]
  },
  {
   "cell_type": "code",
   "execution_count": null,
   "metadata": {},
   "outputs": [],
   "source": [
    "# ==== Save XGB Predictions (Same Format as GRU) ====\n",
    "def save_predictions(predictions, project_root):\n",
    "    pred_save_path = os.path.join(project_root, \"Predictions\", \"XGB.npy\")\n",
    "    np.save(pred_save_path, predictions)\n",
    "    print(f\"Saved XGB predictions to: {pred_save_path}\")\n",
    "\n",
    "def trim_and_save_predictions(predictions_path, n_trim=48):\n",
    "    xgb_preds = np.load(predictions_path)\n",
    "    xgb_preds_trimmed = xgb_preds[-n_trim:]\n",
    "    np.save(predictions_path, xgb_preds_trimmed)\n",
    "    print(f\"Trimmed XGB.npy to {len(xgb_preds_trimmed)} values and saved.\")\n",
    "\n",
    "# Save and trim\n",
    "predictions_dir = os.path.join(project_root, \"Predictions\")\n",
    "os.makedirs(predictions_dir, exist_ok=True)\n",
    "\n",
    "save_predictions(y_pred, project_root)\n",
    "trim_and_save_predictions(os.path.join(predictions_dir, \"XGB.npy\"), n_trim=48)\n"
   ]
  }
 ],
 "metadata": {
  "kernelspec": {
   "display_name": "Python 3",
   "language": "python",
   "name": "python3"
  },
  "language_info": {
   "codemirror_mode": {
    "name": "ipython",
    "version": 3
   },
   "file_extension": ".py",
   "mimetype": "text/x-python",
   "name": "python",
   "nbconvert_exporter": "python",
   "pygments_lexer": "ipython3",
   "version": "3.11.9"
  }
 },
 "nbformat": 4,
 "nbformat_minor": 2
}
