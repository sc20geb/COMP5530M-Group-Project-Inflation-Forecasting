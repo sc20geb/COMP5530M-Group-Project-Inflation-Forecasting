{
 "cells": [
  {
   "cell_type": "code",
   "execution_count": null,
   "metadata": {},
   "outputs": [],
   "source": [
    "import pandas as pd\n",
    "import numpy as np\n",
    "from pyearth import Earth\n",
    "from matplotlib import pyplot as plt\n",
    "\n",
    "dir = \"C:\\\\Users\\\\George\\\\source\\\\repos\\\\COMP5530M-Group-Project-Inflation-Forecasting\\\\Data\\\\Train\\\\trains1990s.csv\"\n",
    "\n",
    "train = pd.read_csv(dir)\n",
    "\n",
    "trainNoExogenous = train[['observation_date', 'fred_PCEPI']]\n",
    "\n",
    "display(trainNoExogenous.head())"
   ]
  },
  {
   "cell_type": "code",
   "execution_count": null,
   "metadata": {},
   "outputs": [],
   "source": [
    "from sklearn.model_selection import train_test_split\n",
    "\n",
    "#time series, so do not shuffle\n",
    "train, val = train_test_split(trainNoExogenous, train_size=0.7, shuffle=False)\n",
    "\n",
    "display(train.shape, val.shape, train.head(), val.head())"
   ]
  },
  {
   "cell_type": "code",
   "execution_count": null,
   "metadata": {},
   "outputs": [],
   "source": [
    "#consider encodings of dates at a later time\n",
    "trainX = train.index.values\n",
    "trainY = train['fred_PCEPI']\n",
    "\n",
    "#want to be able to predict future values, so allow missing\n",
    "model = Earth(allow_linear=False, allow_missing=True)\n",
    "model.fit(trainX,trainY)"
   ]
  },
  {
   "cell_type": "code",
   "execution_count": null,
   "metadata": {},
   "outputs": [],
   "source": [
    "#predict training data\n",
    "y_hat = model.predict(train.index)"
   ]
  },
  {
   "cell_type": "code",
   "execution_count": null,
   "metadata": {},
   "outputs": [],
   "source": [
    "display(train.head(), trainY.head())"
   ]
  },
  {
   "cell_type": "code",
   "execution_count": null,
   "metadata": {},
   "outputs": [],
   "source": [
    "print(model.trace())"
   ]
  },
  {
   "cell_type": "code",
   "execution_count": null,
   "metadata": {},
   "outputs": [],
   "source": [
    "print(model.summary())\n",
    "#print(model.get_params())"
   ]
  },
  {
   "cell_type": "code",
   "execution_count": null,
   "metadata": {},
   "outputs": [],
   "source": [
    "def hinge(x):\n",
    "    return max(0, x)\n",
    "\n",
    "def lastRegressor(x0, val):\n",
    "    return 0.167134*(val + hinge(x0-247))"
   ]
  },
  {
   "cell_type": "code",
   "execution_count": null,
   "metadata": {},
   "outputs": [],
   "source": [
    "display(trainX[0], trainY[0])\n",
    "display(lastRegressor(trainX[0], trainX[-1]))\n",
    "display(y_hat[-1])"
   ]
  },
  {
   "cell_type": "code",
   "execution_count": null,
   "metadata": {},
   "outputs": [],
   "source": [
    "def makeActualVsPredictedGraph(xvals : pd.Series, y : pd.Series, y_hat : np.ndarray):\n",
    "    plt.figure(figsize=(20, 10))\n",
    "    ax = plt.axes()\n",
    "    ax.xaxis.set_major_locator(plt.MaxNLocator(10))\n",
    "    plt.locator_params(axis='x', nbins=10)\n",
    "    plt.plot(xvals, y)\n",
    "    plt.plot(xvals, y_hat)\n",
    "    plt.xticks(rotation=90)\n",
    "    plt.xlabel('Date')\n",
    "    plt.ylabel('PCEPI')\n",
    "    plt.title(f'{xvals.iloc[0]} - {xvals.iloc[-1]} Actual vs. Predicted PCEPI')\n",
    "    plt.show()"
   ]
  },
  {
   "cell_type": "code",
   "execution_count": null,
   "metadata": {},
   "outputs": [],
   "source": [
    "makeActualVsPredictedGraph(train['observation_date'], trainY, y_hat)"
   ]
  },
  {
   "cell_type": "code",
   "execution_count": null,
   "metadata": {},
   "outputs": [],
   "source": [
    "valX = val.index.values\n",
    "valY = val['fred_PCEPI']\n",
    "\n",
    "y_hat_val = model.predict(valX, valY)"
   ]
  },
  {
   "cell_type": "code",
   "execution_count": null,
   "metadata": {},
   "outputs": [],
   "source": [
    "makeActualVsPredictedGraph(val['observation_date'], valY, y_hat_val)"
   ]
  },
  {
   "cell_type": "code",
   "execution_count": null,
   "metadata": {},
   "outputs": [],
   "source": [
    "makeActualVsPredictedGraph(trainNoExogenous['observation_date'], trainNoExogenous['fred_PCEPI'], np.concatenate((y_hat, y_hat_val)))"
   ]
  },
  {
   "cell_type": "code",
   "execution_count": null,
   "metadata": {},
   "outputs": [],
   "source": [
    "from sklearn.metrics import r2_score\n",
    "from sklearn.metrics import mean_squared_error\n",
    "\n",
    "trainRMSE = np.sqrt(mean_squared_error(trainY, y_hat))\n",
    "valRMSE = np.sqrt(mean_squared_error(valY, y_hat_val))\n",
    "trainR2 = r2_score(trainY, y_hat)\n",
    "valR2 = r2_score(valY, y_hat_val)\n",
    "RMSEDf = pd.DataFrame(np.concatenate((np.array(['MARS']), np.array([trainRMSE, valRMSE, trainR2, valR2]))).reshape(1, -1), columns=['Model', 'Training RMSE', 'Validation RMSE', 'Training R2', 'Validation R2'])"
   ]
  },
  {
   "cell_type": "code",
   "execution_count": null,
   "metadata": {},
   "outputs": [],
   "source": [
    "RMSEDf.to_csv('MARS_PCEPI_eval.csv')"
   ]
  }
 ],
 "metadata": {
  "kernelspec": {
   "display_name": "py_earth_env",
   "language": "python",
   "name": "python3"
  },
  "language_info": {
   "codemirror_mode": {
    "name": "ipython",
    "version": 3
   },
   "file_extension": ".py",
   "mimetype": "text/x-python",
   "name": "python",
   "nbconvert_exporter": "python",
   "pygments_lexer": "ipython3",
   "version": "3.6.4"
  }
 },
 "nbformat": 4,
 "nbformat_minor": 2
}
