{
 "cells": [
  {
   "cell_type": "code",
   "execution_count": null,
   "metadata": {},
   "outputs": [],
   "source": [
    "pip install torch optuna pandas numpy scikit-learn"
   ]
  },
  {
   "cell_type": "markdown",
   "metadata": {},
   "source": [
    "Setup and Project Root & Import Libraries"
   ]
  },
  {
   "cell_type": "code",
   "execution_count": null,
   "metadata": {},
   "outputs": [],
   "source": [
    "import sys, os\n",
    "\n",
    "# Set paths\n",
    "project_root = os.path.abspath(os.path.join(os.getcwd(), \"../..\"))\n",
    "sys.path.append(project_root)\n",
    "model_save_path = os.path.join(project_root, \"Models\", \"Weights\", \"RNN\")\n",
    "os.makedirs(model_save_path, exist_ok=True)\n",
    "\n",
    "import pandas as pd\n",
    "import numpy as np\n",
    "import torch\n",
    "from torch.utils.data import TensorDataset, DataLoader\n",
    "from sklearn.preprocessing import StandardScaler\n",
    "from sklearn.metrics import mean_squared_error\n",
    "import matplotlib.pyplot as plt\n",
    "\n",
    "from Models.RNN import RNNModel\n",
    "from Training.Helper.PyTorchModular import optuna_tune_and_train\n",
    "from Training.Helper.dataPreprocessing import create_sequences, add_lagged_features, add_rolling_features, add_time_features\n",
    "from Training.Helper.weightFileCleaner import cleanWeightFiles"
   ]
  },
  {
   "cell_type": "markdown",
   "metadata": {},
   "source": [
    "Load and Prepare Data & Feature Engineering"
   ]
  },
  {
   "cell_type": "code",
   "execution_count": null,
   "metadata": {},
   "outputs": [],
   "source": [
    "# Load dataset\n",
    "df = pd.read_csv(os.path.join(project_root, \"Data\", \"Train\", \"train1990s.csv\"))\n",
    "df[\"ds\"] = pd.to_datetime(df[\"observation_date\"], format=\"%m/%Y\")\n",
    "df = df.rename(columns={\"fred_PCEPI\": \"y\"})\n",
    "df[\"month\"] = df[\"ds\"].dt.month\n",
    "\n",
    "# Add seasonal features\n",
    "for k in range(1, 4):\n",
    "    df[f\"sin_{k}\"] = np.sin(2 * np.pi * k * df[\"month\"] / 12)\n",
    "    df[f\"cos_{k}\"] = np.cos(2 * np.pi * k * df[\"month\"] / 12)\n",
    "\n",
    "# Add lag, rolling, and time-based features\n",
    "df = add_lagged_features(df, target_cols=[\"y\"], lags=[1, 3, 6])\n",
    "df = add_rolling_features(df, target_col=\"y\", windows=[3, 6, 12])\n",
    "df = add_time_features(df, date_col=\"ds\")\n",
    "df = df.dropna().reset_index(drop=True)\n"
   ]
  },
  {
   "cell_type": "markdown",
   "metadata": {},
   "source": [
    "Scaling and Sequence Preparation & DataLoaders"
   ]
  },
  {
   "cell_type": "code",
   "execution_count": null,
   "metadata": {},
   "outputs": [],
   "source": [
    "# Feature selection\n",
    "feature_cols = ['y'] + [col for col in df.columns if col.startswith((\"sin_\", \"cos_\", \"y_lag_\", \"rolling_\"))]\n",
    "\n",
    "# Scale features\n",
    "scaler = StandardScaler()\n",
    "scaled = scaler.fit_transform(df[feature_cols])\n",
    "scaled_df = pd.DataFrame(scaled, columns=feature_cols)\n",
    "\n",
    "# Create sequences\n",
    "sequence_length = 12\n",
    "X, y = create_sequences(scaled_df[feature_cols].values, scaled_df[\"y\"].values, sequence_length)\n",
    "X = X.reshape((-1, sequence_length, len(feature_cols)))\n",
    "\n",
    "# Train/val split\n",
    "split_idx = int(0.8 * len(X))\n",
    "X_train, y_train = X[:split_idx], y[:split_idx]\n",
    "X_val, y_val = X[split_idx:], y[split_idx:]\n"
   ]
  },
  {
   "cell_type": "markdown",
   "metadata": {},
   "source": [
    "Set Device and Train with Optuna & Prediction Logic"
   ]
  },
  {
   "cell_type": "code",
   "execution_count": null,
   "metadata": {},
   "outputs": [],
   "source": [
    "# DataLoaders\n",
    "train_loader = DataLoader(TensorDataset(torch.tensor(X_train).float(), torch.tensor(y_train).float()), batch_size=32, shuffle=True)\n",
    "val_loader = DataLoader(TensorDataset(torch.tensor(X_val).float(), torch.tensor(y_val).float()), batch_size=32)\n",
    "\n",
    "# Device and clean weight files\n",
    "device = torch.device(\"cuda\" if torch.cuda.is_available() else \"cpu\")\n",
    "cleanWeightFiles(\"RNN\", dirPath=model_save_path, earlyStopped=False, verbose=True)\n",
    "\n",
    "# Optuna tuning and training\n",
    "best_model, best_params = optuna_tune_and_train(\n",
    "    model_class=RNNModel,\n",
    "    train_loader=train_loader,\n",
    "    val_loader=val_loader,\n",
    "    device=device,\n",
    "    input_size=len(feature_cols),\n",
    "    max_epochs=50,\n",
    "    model_save_path=model_save_path,\n",
    "    model_name=\"RNN_exog_Optuna\",\n",
    "    n_trials=30,\n",
    "    verbose=True\n",
    ")\n",
    "\n",
    "print(\"Training done. Best hyperparameters:\", best_params)\n",
    "\n",
    "# Model evaluation loop\n",
    "best_model.eval()\n",
    "predictions, actuals = [], []\n",
    "with torch.no_grad():\n",
    "    for X_batch, y_batch in val_loader:\n",
    "        preds = best_model(X_batch.to(device)).cpu().numpy().flatten()\n",
    "        predictions.extend(preds)\n",
    "        actuals.extend(y_batch.numpy().flatten())\n",
    "\n",
    "# Inverse transform helper\n",
    "def inverse_transform_single_column(values, scaler, target_index=0):\n",
    "    dummy = np.zeros((len(values), len(feature_cols)))\n",
    "    dummy[:, target_index] = values\n",
    "    return scaler.inverse_transform(dummy)[:, target_index]\n",
    "\n",
    "# Inverse transform\n",
    "y_pred_inv = inverse_transform_single_column(np.array(predictions), scaler)\n",
    "y_true_inv = inverse_transform_single_column(np.array(actuals), scaler)\n"
   ]
  },
  {
   "cell_type": "markdown",
   "metadata": {},
   "source": [
    "RMSE and Saving Predictions & Main Execution Function"
   ]
  },
  {
   "cell_type": "code",
   "execution_count": null,
   "metadata": {},
   "outputs": [],
   "source": [
    "# Save predictions\n",
    "pred_dir = os.path.join(project_root, \"Predictions\")\n",
    "os.makedirs(pred_dir, exist_ok=True)\n",
    "\n",
    "np.save(os.path.join(pred_dir, \"RNN.npy\"), y_pred_inv)\n",
    "np.save(os.path.join(pred_dir, \"RNN.npy\"), y_pred_inv[-48:])\n",
    "print(\"Trimmed and saved RNN.npy\")\n",
    "\n",
    "\n",
    "# Final metrics\n",
    "rmse = np.sqrt(mean_squared_error(y_true_inv, y_pred_inv))\n",
    "mae = np.mean(np.abs(y_true_inv - y_pred_inv))\n",
    "print(f\"Evaluation Metrics:\\nRMSE: {rmse:.4f} | MAE: {mae:.4f}\")\n"
   ]
  }
 ],
 "metadata": {
  "kernelspec": {
   "display_name": "Python 3",
   "language": "python",
   "name": "python3"
  },
  "language_info": {
   "codemirror_mode": {
    "name": "ipython",
    "version": 3
   },
   "file_extension": ".py",
   "mimetype": "text/x-python",
   "name": "python",
   "nbconvert_exporter": "python",
   "pygments_lexer": "ipython3",
   "version": "3.11.9"
  }
 },
 "nbformat": 4,
 "nbformat_minor": 2
}
