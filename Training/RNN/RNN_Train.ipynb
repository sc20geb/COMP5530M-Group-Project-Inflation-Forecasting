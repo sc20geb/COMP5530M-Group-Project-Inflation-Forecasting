{
 "cells": [
  {
   "cell_type": "code",
   "execution_count": null,
   "metadata": {},
   "outputs": [],
   "source": [
    "import sys\n",
    "import os\n",
    "# Manually set the project root directory (adjust if needed)\n",
    "project_root = os.path.abspath(os.path.join('..', '..'))  # Moves up one level to project root\n",
    "# Add the project directory to sys.path\n",
    "sys.path.append(project_root)"
   ]
  },
  {
   "cell_type": "markdown",
   "metadata": {},
   "source": [
    "### Create/ Clean Model Weight Directory"
   ]
  },
  {
   "cell_type": "code",
   "execution_count": null,
   "metadata": {},
   "outputs": [],
   "source": [
    "from Training.Helper.weightFileCleaner import cleanWeightFiles\n",
    "model_save_path = os.path.join('.')\n",
    "cleanWeightFiles('RNN', dirPath=model_save_path, earlyStopped=False, verbose=True)"
   ]
  },
  {
   "cell_type": "markdown",
   "metadata": {},
   "source": [
    "### Load Data"
   ]
  },
  {
   "cell_type": "code",
   "execution_count": null,
   "metadata": {},
   "outputs": [],
   "source": [
    "import pandas as pd\n",
    "\n",
    "# **Define relative file path for training data**\n",
    "train_file = os.path.join('..', '..', 'Data', 'Train', 'train1990s.csv')\n",
    "\n",
    "# **Load Training Data with Automatic Column Detection**\n",
    "train_df = pd.read_csv(train_file)\n",
    "#print(\"Columns in dataset:\", train_df.columns)  # Debugging: Show available columns"
   ]
  },
  {
   "cell_type": "code",
   "execution_count": null,
   "metadata": {},
   "outputs": [],
   "source": [
    "date_col = 'observation_date'\n",
    "target_col = 'fred_PCEPI'"
   ]
  },
  {
   "cell_type": "code",
   "execution_count": null,
   "metadata": {},
   "outputs": [],
   "source": [
    "from Training.Helper.dataPreprocessing import sklearn_fit_transform\n",
    "from sklearn.preprocessing import MinMaxScaler\n",
    " \n",
    "# **Normalize Data**\n",
    "# Perform min-max scaling on input data (no exogenous variables)\n",
    "train_dataframes, scaler = sklearn_fit_transform(pd.DataFrame(train_df[target_col]), MinMaxScaler())\n",
    "# Returns list of DataFrames, so extract correct DataFrame, then extract values, then reshape\n",
    "train_series = train_dataframes[0].values.reshape(1, -1)[0]"
   ]
  },
  {
   "cell_type": "code",
   "execution_count": null,
   "metadata": {},
   "outputs": [],
   "source": [
    "from Training.Helper.dataPreprocessing import create_sequences\n",
    "\n",
    "# **Set Sequence Length**\n",
    "# Create sequences from the training series\n",
    "sequence_length = 12\n",
    "X, y = create_sequences(train_series, train_series, sequence_length)"
   ]
  },
  {
   "cell_type": "code",
   "execution_count": null,
   "metadata": {},
   "outputs": [],
   "source": [
    "from sklearn.model_selection import train_test_split\n",
    "\n",
    "# **Train-Validation Split (80% Train, 20% Validation)**\n",
    "X_train, X_val, y_train, y_val = train_test_split(X, y, train_size=0.8, test_size=0.2, shuffle=False)"
   ]
  },
  {
   "cell_type": "code",
   "execution_count": null,
   "metadata": {},
   "outputs": [],
   "source": [
    "from Training.Helper.dataPreprocessing import add_dimension\n",
    "\n",
    "# Reshape data as expected\n",
    "X_train, y_train, X_val, y_val = [add_dimension(dataset) for dataset in [X_train, y_train, X_val, y_val]]"
   ]
  },
  {
   "cell_type": "code",
   "execution_count": null,
   "metadata": {},
   "outputs": [],
   "source": [
    "from Training.Helper.dataPreprocessing import prepare_dataloader\n",
    "\n",
    "# **Create DataLoaders**\n",
    "batch_size = 32\n",
    "train_loader = prepare_dataloader(X_train, y_train, batch_size=batch_size, shuffle=False)\n",
    "val_loader = prepare_dataloader(X_val, y_val, batch_size=batch_size, shuffle=False)"
   ]
  },
  {
   "cell_type": "markdown",
   "metadata": {},
   "source": [
    "### Train Model"
   ]
  },
  {
   "cell_type": "code",
   "execution_count": null,
   "metadata": {},
   "outputs": [],
   "source": [
    "# Now import the RNN model\n",
    "from Models.RNN import RNNModel\n",
    "from Training.Helper.PyTorchModular import train_model\n",
    "import torch\n",
    "import torch.optim as optim\n",
    "import torch.nn as nn\n",
    "\n",
    "\n",
    "# **Train Model Using Modular Functions**\n",
    "device = torch.device(\"cuda\" if torch.cuda.is_available() else \"cpu\")\n",
    "rnn_model = RNNModel(input_size=1, hidden_size=64, num_layers=2).to(device)\n",
    "\n",
    "# **Define Loss Function and Optimizer**\n",
    "criterion = nn.MSELoss()\n",
    "optimizer = optim.Adam(rnn_model.parameters(), lr=0.001)\n",
    "\n",
    "# **Train the Model Using Modular Functions**\n",
    "train_data = train_model(\n",
    "    model=rnn_model,\n",
    "    maxEpochs=50,\n",
    "    modelSavePath=model_save_path,\n",
    "    modelName=\"RNN\",\n",
    "    dataLoaderTrain=train_loader,\n",
    "    dataLoaderValid=val_loader,\n",
    "    lossFn=criterion,\n",
    "    optimizer=optimizer,\n",
    "    device=device,\n",
    "    batchStatusUpdate=10,\n",
    "    verbose=True\n",
    ")"
   ]
  },
  {
   "cell_type": "markdown",
   "metadata": {},
   "source": [
    "### Evaluate"
   ]
  },
  {
   "cell_type": "code",
   "execution_count": null,
   "metadata": {},
   "outputs": [],
   "source": [
    "from Training.Helper.PyTorchModular import train_model, loss_curve\n",
    "\n",
    "# **Plot Training vs. Validation Loss**\n",
    "loss_curve(trainLoss=train_data[\"trainLoss\"], validLoss=train_data[\"validLoss\"], title=\"RNN Training vs. Validation Loss\")"
   ]
  },
  {
   "cell_type": "code",
   "execution_count": null,
   "metadata": {},
   "outputs": [],
   "source": [
    "from Evaluation.Helper.evaluation_helpers import get_best_model_path, evaluate_model\n",
    "\n",
    "# Get path of the best model\n",
    "best_model_path = get_best_model_path(model_save_path, 'RNN')\n",
    "\n",
    "# **Extract the dates corresponding to the validation predictions**\n",
    "val_dates = train_df[date_col].iloc[len(X_train) + sequence_length:].values\n",
    "\n",
    "# Plot evaluation plot of the best model (loaded from path above) and get metrics\n",
    "eval_axes, metrics = evaluate_model(rnn_model, val_loader, scaler, val_dates, device, savepath=best_model_path, print_dates=10)"
   ]
  },
  {
   "cell_type": "code",
   "execution_count": null,
   "metadata": {},
   "outputs": [],
   "source": [
    "# **Display metrics for Validation Predictions**\n",
    "print(\"Metrics for RNN model:\")\n",
    "display(metrics)"
   ]
  },
  {
   "cell_type": "code",
   "execution_count": null,
   "metadata": {},
   "outputs": [],
   "source": [
    "# Example usage of weight file cleaner, uncomment if needed\n",
    "\n",
    "#from Training.Helper.weightFileCleaner import cleanWeightFiles\n",
    "#cleanWeightFiles('RNN', earlyStopped=True, verbose=True)"
   ]
  },
  {
   "cell_type": "code",
   "execution_count": null,
   "metadata": {},
   "outputs": [
    {
     "name": "stderr",
     "output_type": "stream",
     "text": [
      "[I 2025-04-09 12:30:55,327] A new study created in memory with name: no-name-ea16ccdd-de2a-4dc2-b790-373a80a36363\n"
     ]
    },
    {
     "name": "stdout",
     "output_type": "stream",
     "text": [
      "Epoch 1/50 | Train Loss: 0.0159 | Val Loss: 0.0403\n",
      "Epoch 2/50 | Train Loss: 0.0956 | Val Loss: 0.0636\n",
      "Epoch 3/50 | Train Loss: 0.0943 | Val Loss: 0.2442\n",
      "Epoch 4/50 | Train Loss: 0.0294 | Val Loss: 0.0777\n",
      "Epoch 5/50 | Train Loss: 0.0448 | Val Loss: 0.0466\n",
      "Epoch 6/50 | Train Loss: 0.0101 | Val Loss: 0.0131\n",
      "Epoch 7/50 | Train Loss: 0.0840 | Val Loss: 0.1854\n",
      "Epoch 8/50 | Train Loss: 0.0675 | Val Loss: 0.2253\n",
      "Epoch 9/50 | Train Loss: 0.0200 | Val Loss: 0.0316\n",
      "Epoch 10/50 | Train Loss: 0.0349 | Val Loss: 0.0123\n",
      "Epoch 11/50 | Train Loss: 0.0126 | Val Loss: 0.0126\n",
      "Epoch 12/50 | Train Loss: 0.0379 | Val Loss: 0.1031\n",
      "Epoch 13/50 | Train Loss: 0.0077 | Val Loss: 0.0044\n",
      "Epoch 14/50 | Train Loss: 0.0080 | Val Loss: 0.0085\n",
      "Epoch 15/50 | Train Loss: 0.0408 | Val Loss: 0.1526\n",
      "Epoch 16/50 | Train Loss: 0.0307 | Val Loss: 0.1479\n",
      "Epoch 17/50 | Train Loss: 0.0301 | Val Loss: 0.1266\n"
     ]
    },
    {
     "name": "stderr",
     "output_type": "stream",
     "text": [
      "[I 2025-04-09 12:30:57,629] Trial 0 finished with value: 0.004438829996312658 and parameters: {'hidden_size': 171, 'num_layers': 3, 'dropout': 0.4615859567257532, 'lr': 0.0009099269783592008, 'weight_decay': 2.4090047000613167e-05}. Best is trial 0 with value: 0.004438829996312658.\n"
     ]
    },
    {
     "name": "stdout",
     "output_type": "stream",
     "text": [
      " Early stopping at epoch 17\n",
      "Epoch 1/50 | Train Loss: 0.1048 | Val Loss: 0.0143\n",
      "Epoch 2/50 | Train Loss: 0.3650 | Val Loss: 0.2419\n",
      "Epoch 3/50 | Train Loss: 0.6045 | Val Loss: 0.0173\n",
      "Epoch 4/50 | Train Loss: 0.3315 | Val Loss: 0.0998\n",
      "Epoch 5/50 | Train Loss: 0.1291 | Val Loss: 0.0897\n"
     ]
    },
    {
     "name": "stderr",
     "output_type": "stream",
     "text": [
      "[I 2025-04-09 12:30:58,232] Trial 1 finished with value: 0.014307145650188128 and parameters: {'hidden_size': 234, 'num_layers': 2, 'dropout': 0.3805092764649035, 'lr': 0.0031671607285410045, 'weight_decay': 0.0013490917418740459}. Best is trial 0 with value: 0.004438829996312658.\n"
     ]
    },
    {
     "name": "stdout",
     "output_type": "stream",
     "text": [
      " Early stopping at epoch 5\n",
      "Epoch 1/50 | Train Loss: 0.1059 | Val Loss: 0.5398\n",
      "Epoch 2/50 | Train Loss: 0.0963 | Val Loss: 0.5143\n",
      "Epoch 3/50 | Train Loss: 0.0891 | Val Loss: 0.4900\n",
      "Epoch 4/50 | Train Loss: 0.0826 | Val Loss: 0.4673\n",
      "Epoch 5/50 | Train Loss: 0.0732 | Val Loss: 0.4459\n",
      "Epoch 6/50 | Train Loss: 0.0678 | Val Loss: 0.4260\n",
      "Epoch 7/50 | Train Loss: 0.0628 | Val Loss: 0.4071\n",
      "Epoch 8/50 | Train Loss: 0.0610 | Val Loss: 0.3892\n",
      "Epoch 9/50 | Train Loss: 0.0557 | Val Loss: 0.3723\n",
      "Epoch 10/50 | Train Loss: 0.0536 | Val Loss: 0.3563\n",
      "Epoch 11/50 | Train Loss: 0.0477 | Val Loss: 0.3412\n",
      "Epoch 12/50 | Train Loss: 0.0449 | Val Loss: 0.3273\n",
      "Epoch 13/50 | Train Loss: 0.0415 | Val Loss: 0.3145\n",
      "Epoch 14/50 | Train Loss: 0.0411 | Val Loss: 0.3027\n",
      "Epoch 15/50 | Train Loss: 0.0411 | Val Loss: 0.2914\n",
      "Epoch 16/50 | Train Loss: 0.0370 | Val Loss: 0.2809\n",
      "Epoch 17/50 | Train Loss: 0.0371 | Val Loss: 0.2718\n",
      "Epoch 18/50 | Train Loss: 0.0362 | Val Loss: 0.2636\n",
      "Epoch 19/50 | Train Loss: 0.0354 | Val Loss: 0.2561\n",
      "Epoch 20/50 | Train Loss: 0.0340 | Val Loss: 0.2491\n",
      "Epoch 21/50 | Train Loss: 0.0345 | Val Loss: 0.2428\n",
      "Epoch 22/50 | Train Loss: 0.0351 | Val Loss: 0.2372\n",
      "Epoch 23/50 | Train Loss: 0.0341 | Val Loss: 0.2320\n",
      "Epoch 24/50 | Train Loss: 0.0319 | Val Loss: 0.2272\n",
      "Epoch 25/50 | Train Loss: 0.0325 | Val Loss: 0.2229\n",
      "Epoch 26/50 | Train Loss: 0.0313 | Val Loss: 0.2193\n",
      "Epoch 27/50 | Train Loss: 0.0332 | Val Loss: 0.2163\n",
      "Epoch 28/50 | Train Loss: 0.0317 | Val Loss: 0.2134\n",
      "Epoch 29/50 | Train Loss: 0.0324 | Val Loss: 0.2109\n",
      "Epoch 30/50 | Train Loss: 0.0320 | Val Loss: 0.2085\n",
      "Epoch 31/50 | Train Loss: 0.0321 | Val Loss: 0.2063\n",
      "Epoch 32/50 | Train Loss: 0.0310 | Val Loss: 0.2039\n",
      "Epoch 33/50 | Train Loss: 0.0320 | Val Loss: 0.2017\n",
      "Epoch 34/50 | Train Loss: 0.0311 | Val Loss: 0.1996\n",
      "Epoch 35/50 | Train Loss: 0.0330 | Val Loss: 0.1977\n",
      "Epoch 36/50 | Train Loss: 0.0290 | Val Loss: 0.1957\n",
      "Epoch 37/50 | Train Loss: 0.0301 | Val Loss: 0.1939\n",
      "Epoch 38/50 | Train Loss: 0.0300 | Val Loss: 0.1920\n",
      "Epoch 39/50 | Train Loss: 0.0299 | Val Loss: 0.1899\n",
      "Epoch 40/50 | Train Loss: 0.0297 | Val Loss: 0.1879\n",
      "Epoch 41/50 | Train Loss: 0.0296 | Val Loss: 0.1862\n",
      "Epoch 42/50 | Train Loss: 0.0301 | Val Loss: 0.1845\n",
      "Epoch 43/50 | Train Loss: 0.0289 | Val Loss: 0.1824\n",
      "Epoch 44/50 | Train Loss: 0.0282 | Val Loss: 0.1803\n",
      "Epoch 45/50 | Train Loss: 0.0283 | Val Loss: 0.1785\n",
      "Epoch 46/50 | Train Loss: 0.0291 | Val Loss: 0.1767\n",
      "Epoch 47/50 | Train Loss: 0.0284 | Val Loss: 0.1746\n",
      "Epoch 48/50 | Train Loss: 0.0265 | Val Loss: 0.1722\n",
      "Epoch 49/50 | Train Loss: 0.0268 | Val Loss: 0.1703\n"
     ]
    },
    {
     "name": "stderr",
     "output_type": "stream",
     "text": [
      "[I 2025-04-09 12:31:02,942] Trial 2 finished with value: 0.1685639371474584 and parameters: {'hidden_size': 90, 'num_layers': 3, 'dropout': 0.295101886169875, 'lr': 1.196087860958057e-05, 'weight_decay': 2.8137933422589264e-06}. Best is trial 0 with value: 0.004438829996312658.\n"
     ]
    },
    {
     "name": "stdout",
     "output_type": "stream",
     "text": [
      "Epoch 50/50 | Train Loss: 0.0269 | Val Loss: 0.1686\n",
      "Epoch 1/50 | Train Loss: 0.8014 | Val Loss: 0.1581\n",
      "Epoch 2/50 | Train Loss: 0.1412 | Val Loss: 0.0297\n",
      "Epoch 3/50 | Train Loss: 0.1141 | Val Loss: 0.0333\n",
      "Epoch 4/50 | Train Loss: 0.1911 | Val Loss: 0.0350\n",
      "Epoch 5/50 | Train Loss: 0.3530 | Val Loss: 0.1848\n"
     ]
    },
    {
     "name": "stderr",
     "output_type": "stream",
     "text": [
      "[I 2025-04-09 12:31:03,732] Trial 3 finished with value: 0.029705871692082535 and parameters: {'hidden_size': 230, 'num_layers': 2, 'dropout': 0.18350860391525334, 'lr': 0.006956973165714095, 'weight_decay': 4.724685292229707e-05}. Best is trial 0 with value: 0.004438829996312658.\n"
     ]
    },
    {
     "name": "stdout",
     "output_type": "stream",
     "text": [
      "Epoch 6/50 | Train Loss: 0.5090 | Val Loss: 0.4027\n",
      " Early stopping at epoch 6\n",
      "Epoch 1/50 | Train Loss: 1.2651 | Val Loss: 1.1100\n",
      "Epoch 2/50 | Train Loss: 0.3662 | Val Loss: 0.0474\n",
      "Epoch 3/50 | Train Loss: 0.1285 | Val Loss: 0.1172\n",
      "Epoch 4/50 | Train Loss: 0.0175 | Val Loss: 0.0629\n",
      "Epoch 5/50 | Train Loss: 0.0638 | Val Loss: 0.0228\n",
      "Epoch 6/50 | Train Loss: 0.1999 | Val Loss: 0.0243\n",
      "Epoch 7/50 | Train Loss: 0.1994 | Val Loss: 0.0168\n",
      "Epoch 8/50 | Train Loss: 0.0586 | Val Loss: 0.0186\n",
      "Epoch 9/50 | Train Loss: 0.0634 | Val Loss: 0.1916\n"
     ]
    },
    {
     "name": "stderr",
     "output_type": "stream",
     "text": [
      "[I 2025-04-09 12:31:04,406] Trial 4 finished with value: 0.01683851145207882 and parameters: {'hidden_size': 236, 'num_layers': 1, 'dropout': 0.30257630508680466, 'lr': 0.0062510690529613885, 'weight_decay': 4.388556516969702e-06}. Best is trial 0 with value: 0.004438829996312658.\n"
     ]
    },
    {
     "name": "stdout",
     "output_type": "stream",
     "text": [
      "Epoch 10/50 | Train Loss: 0.0327 | Val Loss: 0.0683\n",
      "Epoch 11/50 | Train Loss: 0.0895 | Val Loss: 0.0542\n",
      " Early stopping at epoch 11\n",
      "Epoch 1/50 | Train Loss: 0.0112 | Val Loss: 0.0444\n",
      "Epoch 2/50 | Train Loss: 0.0918 | Val Loss: 0.2252\n",
      "Epoch 3/50 | Train Loss: 0.0426 | Val Loss: 0.2558\n",
      "Epoch 4/50 | Train Loss: 0.0253 | Val Loss: 0.1679\n"
     ]
    },
    {
     "name": "stderr",
     "output_type": "stream",
     "text": [
      "[I 2025-04-09 12:31:04,846] Trial 5 finished with value: 0.044404899779086314 and parameters: {'hidden_size': 100, 'num_layers': 2, 'dropout': 0.22656600125446566, 'lr': 0.0003511279096224977, 'weight_decay': 0.009266768264533364}. Best is trial 0 with value: 0.004438829996312658.\n"
     ]
    },
    {
     "name": "stdout",
     "output_type": "stream",
     "text": [
      "Epoch 5/50 | Train Loss: 0.0244 | Val Loss: 0.1215\n",
      " Early stopping at epoch 5\n",
      "Epoch 1/50 | Train Loss: 0.0663 | Val Loss: 0.0221\n",
      "Epoch 2/50 | Train Loss: 0.1130 | Val Loss: 0.0763\n",
      "Epoch 3/50 | Train Loss: 0.1857 | Val Loss: 0.0280\n",
      "Epoch 4/50 | Train Loss: 0.1078 | Val Loss: 0.0618\n",
      "Epoch 5/50 | Train Loss: 0.0650 | Val Loss: 0.0110\n",
      "Epoch 6/50 | Train Loss: 0.0502 | Val Loss: 0.0229\n",
      "Epoch 7/50 | Train Loss: 0.0368 | Val Loss: 0.1238\n",
      "Epoch 8/50 | Train Loss: 0.0438 | Val Loss: 0.0069\n",
      "Epoch 9/50 | Train Loss: 0.0484 | Val Loss: 0.0089\n",
      "Epoch 10/50 | Train Loss: 0.0191 | Val Loss: 0.0745\n",
      "Epoch 11/50 | Train Loss: 0.0118 | Val Loss: 0.0161\n",
      "Epoch 12/50 | Train Loss: 0.0115 | Val Loss: 0.0110\n"
     ]
    },
    {
     "name": "stderr",
     "output_type": "stream",
     "text": [
      "[I 2025-04-09 12:31:07,160] Trial 6 finished with value: 0.006933149415999651 and parameters: {'hidden_size': 239, 'num_layers': 3, 'dropout': 0.49116990252892323, 'lr': 0.0018081877553495695, 'weight_decay': 6.92627314698829e-06}. Best is trial 0 with value: 0.004438829996312658.\n"
     ]
    },
    {
     "name": "stdout",
     "output_type": "stream",
     "text": [
      " Early stopping at epoch 12\n",
      "Epoch 1/50 | Train Loss: 1.0289 | Val Loss: 0.3157\n",
      "Epoch 2/50 | Train Loss: 0.9572 | Val Loss: 0.0832\n",
      "Epoch 3/50 | Train Loss: 1.8119 | Val Loss: 0.5339\n",
      "Epoch 4/50 | Train Loss: 0.0543 | Val Loss: 0.0411\n",
      "Epoch 5/50 | Train Loss: 4.2212 | Val Loss: 1.4678\n",
      "Epoch 6/50 | Train Loss: 0.4719 | Val Loss: 0.0570\n",
      "Epoch 7/50 | Train Loss: 0.1870 | Val Loss: 0.0188\n",
      "Epoch 8/50 | Train Loss: 0.3231 | Val Loss: 0.4147\n",
      "Epoch 9/50 | Train Loss: 0.0249 | Val Loss: 0.1136\n",
      "Epoch 10/50 | Train Loss: 0.0952 | Val Loss: 0.0968\n",
      "Epoch 11/50 | Train Loss: 0.1263 | Val Loss: 0.1771\n",
      " Early stopping at epoch 11\n"
     ]
    },
    {
     "name": "stderr",
     "output_type": "stream",
     "text": [
      "[I 2025-04-09 12:31:07,789] Trial 7 finished with value: 0.01884871255606413 and parameters: {'hidden_size': 140, 'num_layers': 1, 'dropout': 0.11604704305006619, 'lr': 0.009956989890569198, 'weight_decay': 6.231040826282073e-05}. Best is trial 0 with value: 0.004438829996312658.\n"
     ]
    },
    {
     "name": "stdout",
     "output_type": "stream",
     "text": [
      "Epoch 1/50 | Train Loss: 0.1413 | Val Loss: 0.6232\n",
      "Epoch 2/50 | Train Loss: 0.1216 | Val Loss: 0.5888\n",
      "Epoch 3/50 | Train Loss: 0.1079 | Val Loss: 0.5564\n",
      "Epoch 4/50 | Train Loss: 0.0994 | Val Loss: 0.5262\n",
      "Epoch 5/50 | Train Loss: 0.0960 | Val Loss: 0.4980\n",
      "Epoch 6/50 | Train Loss: 0.0885 | Val Loss: 0.4713\n",
      "Epoch 7/50 | Train Loss: 0.0757 | Val Loss: 0.4465\n",
      "Epoch 8/50 | Train Loss: 0.0687 | Val Loss: 0.4236\n",
      "Epoch 9/50 | Train Loss: 0.0665 | Val Loss: 0.4025\n",
      "Epoch 10/50 | Train Loss: 0.0579 | Val Loss: 0.3836\n",
      "Epoch 11/50 | Train Loss: 0.0572 | Val Loss: 0.3661\n",
      "Epoch 12/50 | Train Loss: 0.0523 | Val Loss: 0.3498\n",
      "Epoch 13/50 | Train Loss: 0.0513 | Val Loss: 0.3357\n",
      "Epoch 14/50 | Train Loss: 0.0480 | Val Loss: 0.3229\n",
      "Epoch 15/50 | Train Loss: 0.0474 | Val Loss: 0.3113\n",
      "Epoch 16/50 | Train Loss: 0.0497 | Val Loss: 0.3013\n",
      "Epoch 17/50 | Train Loss: 0.0479 | Val Loss: 0.2922\n",
      "Epoch 18/50 | Train Loss: 0.0450 | Val Loss: 0.2840\n",
      "Epoch 19/50 | Train Loss: 0.0435 | Val Loss: 0.2761\n",
      "Epoch 20/50 | Train Loss: 0.0445 | Val Loss: 0.2685\n",
      "Epoch 21/50 | Train Loss: 0.0423 | Val Loss: 0.2618\n",
      "Epoch 22/50 | Train Loss: 0.0413 | Val Loss: 0.2566\n",
      "Epoch 23/50 | Train Loss: 0.0418 | Val Loss: 0.2517\n",
      "Epoch 24/50 | Train Loss: 0.0463 | Val Loss: 0.2472\n",
      "Epoch 25/50 | Train Loss: 0.0429 | Val Loss: 0.2435\n",
      "Epoch 26/50 | Train Loss: 0.0411 | Val Loss: 0.2403\n",
      "Epoch 27/50 | Train Loss: 0.0420 | Val Loss: 0.2375\n",
      "Epoch 28/50 | Train Loss: 0.0413 | Val Loss: 0.2346\n",
      "Epoch 29/50 | Train Loss: 0.0418 | Val Loss: 0.2322\n",
      "Epoch 30/50 | Train Loss: 0.0385 | Val Loss: 0.2304\n",
      "Epoch 31/50 | Train Loss: 0.0432 | Val Loss: 0.2291\n",
      "Epoch 32/50 | Train Loss: 0.0421 | Val Loss: 0.2278\n",
      "Epoch 33/50 | Train Loss: 0.0422 | Val Loss: 0.2266\n",
      "Epoch 34/50 | Train Loss: 0.0430 | Val Loss: 0.2250\n",
      "Epoch 35/50 | Train Loss: 0.0402 | Val Loss: 0.2234\n",
      "Epoch 36/50 | Train Loss: 0.0410 | Val Loss: 0.2224\n",
      "Epoch 37/50 | Train Loss: 0.0418 | Val Loss: 0.2214\n",
      "Epoch 38/50 | Train Loss: 0.0421 | Val Loss: 0.2195\n",
      "Epoch 39/50 | Train Loss: 0.0420 | Val Loss: 0.2180\n",
      "Epoch 40/50 | Train Loss: 0.0391 | Val Loss: 0.2171\n",
      "Epoch 41/50 | Train Loss: 0.0404 | Val Loss: 0.2165\n",
      "Epoch 42/50 | Train Loss: 0.0396 | Val Loss: 0.2156\n",
      "Epoch 43/50 | Train Loss: 0.0433 | Val Loss: 0.2154\n",
      "Epoch 44/50 | Train Loss: 0.0395 | Val Loss: 0.2151\n",
      "Epoch 45/50 | Train Loss: 0.0380 | Val Loss: 0.2140\n",
      "Epoch 46/50 | Train Loss: 0.0408 | Val Loss: 0.2129\n",
      "Epoch 47/50 | Train Loss: 0.0399 | Val Loss: 0.2120\n",
      "Epoch 48/50 | Train Loss: 0.0368 | Val Loss: 0.2114\n"
     ]
    },
    {
     "name": "stderr",
     "output_type": "stream",
     "text": [
      "[I 2025-04-09 12:31:12,931] Trial 8 finished with value: 0.21032342066367468 and parameters: {'hidden_size': 86, 'num_layers': 3, 'dropout': 0.49732904510196463, 'lr': 1.1464998033721822e-05, 'weight_decay': 0.0001746224981984545}. Best is trial 0 with value: 0.004438829996312658.\n"
     ]
    },
    {
     "name": "stdout",
     "output_type": "stream",
     "text": [
      "Epoch 49/50 | Train Loss: 0.0406 | Val Loss: 0.2111\n",
      "Epoch 50/50 | Train Loss: 0.0409 | Val Loss: 0.2103\n",
      "Epoch 1/50 | Train Loss: 0.0790 | Val Loss: 0.3383\n",
      "Epoch 2/50 | Train Loss: 0.0190 | Val Loss: 0.1452\n",
      "Epoch 3/50 | Train Loss: 0.0345 | Val Loss: 0.1409\n",
      "Epoch 4/50 | Train Loss: 0.0330 | Val Loss: 0.1669\n",
      "Epoch 5/50 | Train Loss: 0.0266 | Val Loss: 0.1566\n",
      "Epoch 6/50 | Train Loss: 0.0222 | Val Loss: 0.1261\n",
      "Epoch 7/50 | Train Loss: 0.0203 | Val Loss: 0.1013\n",
      "Epoch 8/50 | Train Loss: 0.0180 | Val Loss: 0.0812\n",
      "Epoch 9/50 | Train Loss: 0.0129 | Val Loss: 0.0485\n",
      "Epoch 10/50 | Train Loss: 0.0064 | Val Loss: 0.0133\n",
      "Epoch 11/50 | Train Loss: 0.0015 | Val Loss: 0.0042\n"
     ]
    },
    {
     "name": "stderr",
     "output_type": "stream",
     "text": [
      "[I 2025-04-09 12:31:13,708] Trial 9 finished with value: 0.0041717387503013015 and parameters: {'hidden_size': 127, 'num_layers': 1, 'dropout': 0.14943231075186336, 'lr': 0.0002453127729344484, 'weight_decay': 0.0006197497105786912}. Best is trial 9 with value: 0.0041717387503013015.\n"
     ]
    },
    {
     "name": "stdout",
     "output_type": "stream",
     "text": [
      "Epoch 12/50 | Train Loss: 0.0048 | Val Loss: 0.0111\n",
      "Epoch 13/50 | Train Loss: 0.0052 | Val Loss: 0.0237\n",
      "Epoch 14/50 | Train Loss: 0.0026 | Val Loss: 0.0098\n",
      "Epoch 15/50 | Train Loss: 0.0009 | Val Loss: 0.0048\n",
      " Early stopping at epoch 15\n",
      "Epoch 1/50 | Train Loss: 0.0899 | Val Loss: 0.4633\n",
      "Epoch 2/50 | Train Loss: 0.0633 | Val Loss: 0.3813\n",
      "Epoch 3/50 | Train Loss: 0.0445 | Val Loss: 0.3087\n",
      "Epoch 4/50 | Train Loss: 0.0325 | Val Loss: 0.2469\n",
      "Epoch 5/50 | Train Loss: 0.0271 | Val Loss: 0.2008\n",
      "Epoch 6/50 | Train Loss: 0.0265 | Val Loss: 0.1741\n",
      "Epoch 7/50 | Train Loss: 0.0272 | Val Loss: 0.1629\n",
      "Epoch 8/50 | Train Loss: 0.0272 | Val Loss: 0.1594\n",
      "Epoch 9/50 | Train Loss: 0.0264 | Val Loss: 0.1572\n",
      "Epoch 10/50 | Train Loss: 0.0254 | Val Loss: 0.1536\n",
      "Epoch 11/50 | Train Loss: 0.0243 | Val Loss: 0.1483\n",
      "Epoch 12/50 | Train Loss: 0.0233 | Val Loss: 0.1418\n",
      "Epoch 13/50 | Train Loss: 0.0224 | Val Loss: 0.1349\n",
      "Epoch 14/50 | Train Loss: 0.0214 | Val Loss: 0.1279\n",
      "Epoch 15/50 | Train Loss: 0.0204 | Val Loss: 0.1207\n",
      "Epoch 16/50 | Train Loss: 0.0193 | Val Loss: 0.1133\n",
      "Epoch 17/50 | Train Loss: 0.0181 | Val Loss: 0.1053\n",
      "Epoch 18/50 | Train Loss: 0.0168 | Val Loss: 0.0967\n",
      "Epoch 19/50 | Train Loss: 0.0153 | Val Loss: 0.0872\n",
      "Epoch 20/50 | Train Loss: 0.0137 | Val Loss: 0.0769\n",
      "Epoch 21/50 | Train Loss: 0.0120 | Val Loss: 0.0656\n",
      "Epoch 22/50 | Train Loss: 0.0099 | Val Loss: 0.0534\n",
      "Epoch 23/50 | Train Loss: 0.0077 | Val Loss: 0.0405\n",
      "Epoch 24/50 | Train Loss: 0.0054 | Val Loss: 0.0277\n",
      "Epoch 25/50 | Train Loss: 0.0032 | Val Loss: 0.0167\n",
      "Epoch 26/50 | Train Loss: 0.0015 | Val Loss: 0.0092\n",
      "Epoch 27/50 | Train Loss: 0.0009 | Val Loss: 0.0059\n",
      "Epoch 28/50 | Train Loss: 0.0008 | Val Loss: 0.0053\n",
      "Epoch 29/50 | Train Loss: 0.0008 | Val Loss: 0.0058\n"
     ]
    },
    {
     "name": "stderr",
     "output_type": "stream",
     "text": [
      "[I 2025-04-09 12:31:15,393] Trial 10 finished with value: 0.0052581432973966 and parameters: {'hidden_size': 157, 'num_layers': 1, 'dropout': 0.10268301848764089, 'lr': 7.059346225090942e-05, 'weight_decay': 0.0007358042912077691}. Best is trial 9 with value: 0.0041717387503013015.\n"
     ]
    },
    {
     "name": "stdout",
     "output_type": "stream",
     "text": [
      "Epoch 30/50 | Train Loss: 0.0008 | Val Loss: 0.0064\n",
      "Epoch 31/50 | Train Loss: 0.0008 | Val Loss: 0.0066\n",
      "Epoch 32/50 | Train Loss: 0.0008 | Val Loss: 0.0065\n",
      " Early stopping at epoch 32\n",
      "Epoch 1/50 | Train Loss: 0.0077 | Val Loss: 0.0325\n",
      "Epoch 2/50 | Train Loss: 0.1036 | Val Loss: 0.3292\n",
      "Epoch 3/50 | Train Loss: 0.0243 | Val Loss: 0.1235\n",
      "Epoch 4/50 | Train Loss: 0.0320 | Val Loss: 0.1055\n",
      "Epoch 5/50 | Train Loss: 0.0157 | Val Loss: 0.0048\n",
      "Epoch 6/50 | Train Loss: 0.0072 | Val Loss: 0.0479\n",
      "Epoch 7/50 | Train Loss: 0.1465 | Val Loss: 0.1302\n",
      "Epoch 8/50 | Train Loss: 0.0251 | Val Loss: 0.1396\n",
      "Epoch 9/50 | Train Loss: 0.0260 | Val Loss: 0.1229\n"
     ]
    },
    {
     "name": "stderr",
     "output_type": "stream",
     "text": [
      "[I 2025-04-09 12:31:16,384] Trial 11 finished with value: 0.004844024932632844 and parameters: {'hidden_size': 185, 'num_layers': 2, 'dropout': 0.39783765472147536, 'lr': 0.0005159321008612442, 'weight_decay': 1.9973888599110977e-05}. Best is trial 9 with value: 0.0041717387503013015.\n"
     ]
    },
    {
     "name": "stdout",
     "output_type": "stream",
     "text": [
      " Early stopping at epoch 9\n",
      "Epoch 1/50 | Train Loss: 0.1496 | Val Loss: 0.6056\n",
      "Epoch 2/50 | Train Loss: 0.1045 | Val Loss: 0.4933\n",
      "Epoch 3/50 | Train Loss: 0.0677 | Val Loss: 0.3841\n",
      "Epoch 4/50 | Train Loss: 0.0402 | Val Loss: 0.2824\n",
      "Epoch 5/50 | Train Loss: 0.0265 | Val Loss: 0.2051\n",
      "Epoch 6/50 | Train Loss: 0.0263 | Val Loss: 0.1678\n",
      "Epoch 7/50 | Train Loss: 0.0290 | Val Loss: 0.1613\n",
      "Epoch 8/50 | Train Loss: 0.0288 | Val Loss: 0.1643\n",
      "Epoch 9/50 | Train Loss: 0.0273 | Val Loss: 0.1644\n",
      "Epoch 10/50 | Train Loss: 0.0257 | Val Loss: 0.1595\n",
      "Epoch 11/50 | Train Loss: 0.0244 | Val Loss: 0.1517\n",
      "Epoch 12/50 | Train Loss: 0.0233 | Val Loss: 0.1433\n",
      "Epoch 13/50 | Train Loss: 0.0223 | Val Loss: 0.1355\n",
      "Epoch 14/50 | Train Loss: 0.0212 | Val Loss: 0.1282\n",
      "Epoch 15/50 | Train Loss: 0.0201 | Val Loss: 0.1209\n",
      "Epoch 16/50 | Train Loss: 0.0189 | Val Loss: 0.1132\n",
      "Epoch 17/50 | Train Loss: 0.0176 | Val Loss: 0.1049\n",
      "Epoch 18/50 | Train Loss: 0.0162 | Val Loss: 0.0960\n",
      "Epoch 19/50 | Train Loss: 0.0147 | Val Loss: 0.0866\n",
      "Epoch 20/50 | Train Loss: 0.0131 | Val Loss: 0.0766\n",
      "Epoch 21/50 | Train Loss: 0.0113 | Val Loss: 0.0659\n",
      "Epoch 22/50 | Train Loss: 0.0095 | Val Loss: 0.0547\n",
      "Epoch 23/50 | Train Loss: 0.0074 | Val Loss: 0.0431\n",
      "Epoch 24/50 | Train Loss: 0.0054 | Val Loss: 0.0318\n",
      "Epoch 25/50 | Train Loss: 0.0034 | Val Loss: 0.0216\n",
      "Epoch 26/50 | Train Loss: 0.0019 | Val Loss: 0.0138\n",
      "Epoch 27/50 | Train Loss: 0.0010 | Val Loss: 0.0092\n",
      "Epoch 28/50 | Train Loss: 0.0008 | Val Loss: 0.0073\n",
      "Epoch 29/50 | Train Loss: 0.0008 | Val Loss: 0.0071\n",
      "Epoch 30/50 | Train Loss: 0.0008 | Val Loss: 0.0075\n",
      "Epoch 31/50 | Train Loss: 0.0008 | Val Loss: 0.0080\n",
      "Epoch 32/50 | Train Loss: 0.0008 | Val Loss: 0.0082\n"
     ]
    },
    {
     "name": "stderr",
     "output_type": "stream",
     "text": [
      "[I 2025-04-09 12:31:18,035] Trial 12 finished with value: 0.0070697960909456015 and parameters: {'hidden_size': 126, 'num_layers': 1, 'dropout': 0.3990667557375685, 'lr': 8.858936761214412e-05, 'weight_decay': 0.0004702780588969279}. Best is trial 9 with value: 0.0041717387503013015.\n"
     ]
    },
    {
     "name": "stdout",
     "output_type": "stream",
     "text": [
      "Epoch 33/50 | Train Loss: 0.0008 | Val Loss: 0.0081\n",
      " Early stopping at epoch 33\n",
      "Epoch 1/50 | Train Loss: 0.0214 | Val Loss: 0.0297\n",
      "Epoch 2/50 | Train Loss: 0.1088 | Val Loss: 0.2085\n",
      "Epoch 3/50 | Train Loss: 0.0490 | Val Loss: 0.1099\n",
      "Epoch 4/50 | Train Loss: 0.0419 | Val Loss: 0.0388\n",
      "Epoch 5/50 | Train Loss: 0.0217 | Val Loss: 0.0040\n",
      "Epoch 6/50 | Train Loss: 0.0332 | Val Loss: 0.1811\n",
      "Epoch 7/50 | Train Loss: 0.0410 | Val Loss: 0.1790\n",
      "Epoch 8/50 | Train Loss: 0.0286 | Val Loss: 0.1014\n"
     ]
    },
    {
     "name": "stderr",
     "output_type": "stream",
     "text": [
      "[I 2025-04-09 12:31:19,582] Trial 13 finished with value: 0.003985883512844642 and parameters: {'hidden_size': 188, 'num_layers': 3, 'dropout': 0.22461129186083112, 'lr': 0.0008960209928149922, 'weight_decay': 1.0805309380407462e-06}. Best is trial 13 with value: 0.003985883512844642.\n"
     ]
    },
    {
     "name": "stdout",
     "output_type": "stream",
     "text": [
      "Epoch 9/50 | Train Loss: 0.0175 | Val Loss: 0.0081\n",
      " Early stopping at epoch 9\n",
      "Epoch 1/50 | Train Loss: 0.0575 | Val Loss: 0.1998\n",
      "Epoch 2/50 | Train Loss: 0.0356 | Val Loss: 0.1464\n",
      "Epoch 3/50 | Train Loss: 0.0406 | Val Loss: 0.1880\n",
      "Epoch 4/50 | Train Loss: 0.0317 | Val Loss: 0.1849\n",
      "Epoch 5/50 | Train Loss: 0.0253 | Val Loss: 0.1475\n",
      "Epoch 6/50 | Train Loss: 0.0233 | Val Loss: 0.1186\n",
      "Epoch 7/50 | Train Loss: 0.0216 | Val Loss: 0.0971\n",
      "Epoch 8/50 | Train Loss: 0.0164 | Val Loss: 0.0612\n",
      "Epoch 9/50 | Train Loss: 0.0091 | Val Loss: 0.0189\n",
      "Epoch 10/50 | Train Loss: 0.0027 | Val Loss: 0.0033\n",
      "Epoch 11/50 | Train Loss: 0.0037 | Val Loss: 0.0070\n",
      "Epoch 12/50 | Train Loss: 0.0031 | Val Loss: 0.0096\n"
     ]
    },
    {
     "name": "stderr",
     "output_type": "stream",
     "text": [
      "[I 2025-04-09 12:31:21,199] Trial 14 finished with value: 0.0033361168267826238 and parameters: {'hidden_size': 198, 'num_layers': 2, 'dropout': 0.1833389747435502, 'lr': 0.0001260782805310485, 'weight_decay': 1.0225853341391187e-06}. Best is trial 14 with value: 0.0033361168267826238.\n"
     ]
    },
    {
     "name": "stdout",
     "output_type": "stream",
     "text": [
      "Epoch 13/50 | Train Loss: 0.0039 | Val Loss: 0.0081\n",
      "Epoch 14/50 | Train Loss: 0.0013 | Val Loss: 0.0035\n",
      " Early stopping at epoch 14\n",
      "Epoch 1/50 | Train Loss: 0.0840 | Val Loss: 0.3682\n",
      "Epoch 2/50 | Train Loss: 0.0255 | Val Loss: 0.1937\n",
      "Epoch 3/50 | Train Loss: 0.0411 | Val Loss: 0.1847\n",
      "Epoch 4/50 | Train Loss: 0.0407 | Val Loss: 0.2075\n",
      "Epoch 5/50 | Train Loss: 0.0336 | Val Loss: 0.1999\n",
      "Epoch 6/50 | Train Loss: 0.0288 | Val Loss: 0.1714\n",
      "Epoch 7/50 | Train Loss: 0.0272 | Val Loss: 0.1453\n",
      "Epoch 8/50 | Train Loss: 0.0244 | Val Loss: 0.1236\n",
      "Epoch 9/50 | Train Loss: 0.0209 | Val Loss: 0.0983\n",
      "Epoch 10/50 | Train Loss: 0.0159 | Val Loss: 0.0624\n",
      "Epoch 11/50 | Train Loss: 0.0086 | Val Loss: 0.0231\n",
      "Epoch 12/50 | Train Loss: 0.0030 | Val Loss: 0.0039\n",
      "Epoch 13/50 | Train Loss: 0.0022 | Val Loss: 0.0040\n",
      "Epoch 14/50 | Train Loss: 0.0022 | Val Loss: 0.0072\n",
      "Epoch 15/50 | Train Loss: 0.0032 | Val Loss: 0.0102\n",
      "Epoch 16/50 | Train Loss: 0.0013 | Val Loss: 0.0041\n"
     ]
    },
    {
     "name": "stderr",
     "output_type": "stream",
     "text": [
      "[I 2025-04-09 12:31:23,596] Trial 15 finished with value: 0.003893515192127476 and parameters: {'hidden_size': 201, 'num_layers': 2, 'dropout': 0.23981209175396762, 'lr': 9.10395387656355e-05, 'weight_decay': 1.1535044310634306e-06}. Best is trial 14 with value: 0.0033361168267826238.\n"
     ]
    },
    {
     "name": "stdout",
     "output_type": "stream",
     "text": [
      " Early stopping at epoch 16\n",
      "Epoch 1/50 | Train Loss: 0.1123 | Val Loss: 0.4720\n",
      "Epoch 2/50 | Train Loss: 0.0479 | Val Loss: 0.3033\n",
      "Epoch 3/50 | Train Loss: 0.0254 | Val Loss: 0.1973\n",
      "Epoch 4/50 | Train Loss: 0.0293 | Val Loss: 0.1631\n",
      "Epoch 5/50 | Train Loss: 0.0333 | Val Loss: 0.1680\n",
      "Epoch 6/50 | Train Loss: 0.0316 | Val Loss: 0.1768\n",
      "Epoch 7/50 | Train Loss: 0.0298 | Val Loss: 0.1760\n",
      "Epoch 8/50 | Train Loss: 0.0272 | Val Loss: 0.1661\n",
      "Epoch 9/50 | Train Loss: 0.0258 | Val Loss: 0.1540\n",
      "Epoch 10/50 | Train Loss: 0.0246 | Val Loss: 0.1427\n",
      "Epoch 11/50 | Train Loss: 0.0229 | Val Loss: 0.1333\n",
      "Epoch 12/50 | Train Loss: 0.0223 | Val Loss: 0.1245\n",
      "Epoch 13/50 | Train Loss: 0.0199 | Val Loss: 0.1121\n",
      "Epoch 14/50 | Train Loss: 0.0178 | Val Loss: 0.0982\n",
      "Epoch 15/50 | Train Loss: 0.0160 | Val Loss: 0.0850\n",
      "Epoch 16/50 | Train Loss: 0.0145 | Val Loss: 0.0717\n",
      "Epoch 17/50 | Train Loss: 0.0117 | Val Loss: 0.0551\n",
      "Epoch 18/50 | Train Loss: 0.0085 | Val Loss: 0.0376\n",
      "Epoch 19/50 | Train Loss: 0.0057 | Val Loss: 0.0228\n",
      "Epoch 20/50 | Train Loss: 0.0029 | Val Loss: 0.0113\n",
      "Epoch 21/50 | Train Loss: 0.0017 | Val Loss: 0.0059\n",
      "Epoch 22/50 | Train Loss: 0.0012 | Val Loss: 0.0040\n",
      "Epoch 23/50 | Train Loss: 0.0013 | Val Loss: 0.0040\n",
      "Epoch 24/50 | Train Loss: 0.0013 | Val Loss: 0.0047\n",
      "Epoch 25/50 | Train Loss: 0.0013 | Val Loss: 0.0048\n",
      "Epoch 26/50 | Train Loss: 0.0012 | Val Loss: 0.0049\n",
      "Epoch 27/50 | Train Loss: 0.0012 | Val Loss: 0.0050\n"
     ]
    },
    {
     "name": "stderr",
     "output_type": "stream",
     "text": [
      "[I 2025-04-09 12:31:27,343] Trial 16 finished with value: 0.0040044032502919436 and parameters: {'hidden_size': 199, 'num_layers': 2, 'dropout': 0.2721703184135095, 'lr': 4.88418838396885e-05, 'weight_decay': 2.1609446805895995e-06}. Best is trial 14 with value: 0.0033361168267826238.\n"
     ]
    },
    {
     "name": "stdout",
     "output_type": "stream",
     "text": [
      " Early stopping at epoch 27\n",
      "Epoch 1/50 | Train Loss: 0.0078 | Val Loss: 0.0498\n",
      "Epoch 2/50 | Train Loss: 0.0880 | Val Loss: 0.2169\n",
      "Epoch 3/50 | Train Loss: 0.0413 | Val Loss: 0.2489\n",
      "Epoch 4/50 | Train Loss: 0.0262 | Val Loss: 0.1743\n",
      "Epoch 5/50 | Train Loss: 0.0226 | Val Loss: 0.1137\n"
     ]
    },
    {
     "name": "stderr",
     "output_type": "stream",
     "text": [
      "[I 2025-04-09 12:31:28,123] Trial 17 finished with value: 0.04977781573931376 and parameters: {'hidden_size': 213, 'num_layers': 2, 'dropout': 0.19189870162635503, 'lr': 0.0001494818279841016, 'weight_decay': 1.0405643160956457e-06}. Best is trial 14 with value: 0.0033361168267826238.\n"
     ]
    },
    {
     "name": "stdout",
     "output_type": "stream",
     "text": [
      " Early stopping at epoch 5\n",
      "Epoch 1/50 | Train Loss: 0.1240 | Val Loss: 0.5327\n",
      "Epoch 2/50 | Train Loss: 0.0667 | Val Loss: 0.3858\n",
      "Epoch 3/50 | Train Loss: 0.0376 | Val Loss: 0.2742\n",
      "Epoch 4/50 | Train Loss: 0.0294 | Val Loss: 0.2083\n",
      "Epoch 5/50 | Train Loss: 0.0316 | Val Loss: 0.1850\n",
      "Epoch 6/50 | Train Loss: 0.0337 | Val Loss: 0.1841\n",
      "Epoch 7/50 | Train Loss: 0.0330 | Val Loss: 0.1878\n",
      "Epoch 8/50 | Train Loss: 0.0316 | Val Loss: 0.1866\n",
      "Epoch 9/50 | Train Loss: 0.0299 | Val Loss: 0.1802\n",
      "Epoch 10/50 | Train Loss: 0.0287 | Val Loss: 0.1721\n",
      "Epoch 11/50 | Train Loss: 0.0283 | Val Loss: 0.1637\n",
      "Epoch 12/50 | Train Loss: 0.0261 | Val Loss: 0.1556\n",
      "Epoch 13/50 | Train Loss: 0.0249 | Val Loss: 0.1478\n",
      "Epoch 14/50 | Train Loss: 0.0236 | Val Loss: 0.1399\n",
      "Epoch 15/50 | Train Loss: 0.0233 | Val Loss: 0.1319\n",
      "Epoch 16/50 | Train Loss: 0.0219 | Val Loss: 0.1226\n",
      "Epoch 17/50 | Train Loss: 0.0206 | Val Loss: 0.1121\n",
      "Epoch 18/50 | Train Loss: 0.0175 | Val Loss: 0.0999\n",
      "Epoch 19/50 | Train Loss: 0.0167 | Val Loss: 0.0895\n",
      "Epoch 20/50 | Train Loss: 0.0146 | Val Loss: 0.0768\n",
      "Epoch 21/50 | Train Loss: 0.0125 | Val Loss: 0.0637\n",
      "Epoch 22/50 | Train Loss: 0.0100 | Val Loss: 0.0503\n",
      "Epoch 23/50 | Train Loss: 0.0085 | Val Loss: 0.0376\n",
      "Epoch 24/50 | Train Loss: 0.0058 | Val Loss: 0.0243\n",
      "Epoch 25/50 | Train Loss: 0.0038 | Val Loss: 0.0147\n",
      "Epoch 26/50 | Train Loss: 0.0021 | Val Loss: 0.0080\n",
      "Epoch 27/50 | Train Loss: 0.0014 | Val Loss: 0.0051\n",
      "Epoch 28/50 | Train Loss: 0.0016 | Val Loss: 0.0049\n",
      "Epoch 29/50 | Train Loss: 0.0016 | Val Loss: 0.0043\n",
      "Epoch 30/50 | Train Loss: 0.0017 | Val Loss: 0.0044\n",
      "Epoch 31/50 | Train Loss: 0.0014 | Val Loss: 0.0053\n",
      "Epoch 32/50 | Train Loss: 0.0015 | Val Loss: 0.0049\n",
      "Epoch 33/50 | Train Loss: 0.0015 | Val Loss: 0.0047\n"
     ]
    },
    {
     "name": "stderr",
     "output_type": "stream",
     "text": [
      "[I 2025-04-09 12:31:32,921] Trial 18 finished with value: 0.00425062016195928 and parameters: {'hidden_size': 253, 'num_layers': 2, 'dropout': 0.33978924299318114, 'lr': 2.935754164113138e-05, 'weight_decay': 1.0034827245306096e-05}. Best is trial 14 with value: 0.0033361168267826238.\n"
     ]
    },
    {
     "name": "stdout",
     "output_type": "stream",
     "text": [
      " Early stopping at epoch 33\n",
      "Epoch 1/50 | Train Loss: 0.1060 | Val Loss: 0.4985\n",
      "Epoch 2/50 | Train Loss: 0.0671 | Val Loss: 0.3945\n",
      "Epoch 3/50 | Train Loss: 0.0433 | Val Loss: 0.3092\n",
      "Epoch 4/50 | Train Loss: 0.0322 | Val Loss: 0.2473\n",
      "Epoch 5/50 | Train Loss: 0.0299 | Val Loss: 0.2106\n",
      "Epoch 6/50 | Train Loss: 0.0314 | Val Loss: 0.1945\n",
      "Epoch 7/50 | Train Loss: 0.0322 | Val Loss: 0.1899\n",
      "Epoch 8/50 | Train Loss: 0.0319 | Val Loss: 0.1895\n",
      "Epoch 9/50 | Train Loss: 0.0317 | Val Loss: 0.1884\n",
      "Epoch 10/50 | Train Loss: 0.0299 | Val Loss: 0.1847\n",
      "Epoch 11/50 | Train Loss: 0.0295 | Val Loss: 0.1800\n",
      "Epoch 12/50 | Train Loss: 0.0279 | Val Loss: 0.1743\n",
      "Epoch 13/50 | Train Loss: 0.0281 | Val Loss: 0.1692\n",
      "Epoch 14/50 | Train Loss: 0.0265 | Val Loss: 0.1632\n",
      "Epoch 15/50 | Train Loss: 0.0257 | Val Loss: 0.1570\n",
      "Epoch 16/50 | Train Loss: 0.0250 | Val Loss: 0.1511\n",
      "Epoch 17/50 | Train Loss: 0.0244 | Val Loss: 0.1443\n",
      "Epoch 18/50 | Train Loss: 0.0231 | Val Loss: 0.1365\n",
      "Epoch 19/50 | Train Loss: 0.0216 | Val Loss: 0.1285\n",
      "Epoch 20/50 | Train Loss: 0.0214 | Val Loss: 0.1212\n",
      "Epoch 21/50 | Train Loss: 0.0196 | Val Loss: 0.1135\n",
      "Epoch 22/50 | Train Loss: 0.0183 | Val Loss: 0.1056\n",
      "Epoch 23/50 | Train Loss: 0.0167 | Val Loss: 0.0962\n",
      "Epoch 24/50 | Train Loss: 0.0159 | Val Loss: 0.0866\n",
      "Epoch 25/50 | Train Loss: 0.0139 | Val Loss: 0.0753\n",
      "Epoch 26/50 | Train Loss: 0.0114 | Val Loss: 0.0640\n",
      "Epoch 27/50 | Train Loss: 0.0102 | Val Loss: 0.0538\n",
      "Epoch 28/50 | Train Loss: 0.0082 | Val Loss: 0.0428\n",
      "Epoch 29/50 | Train Loss: 0.0068 | Val Loss: 0.0325\n",
      "Epoch 30/50 | Train Loss: 0.0047 | Val Loss: 0.0225\n",
      "Epoch 31/50 | Train Loss: 0.0033 | Val Loss: 0.0146\n",
      "Epoch 32/50 | Train Loss: 0.0020 | Val Loss: 0.0088\n",
      "Epoch 33/50 | Train Loss: 0.0016 | Val Loss: 0.0062\n",
      "Epoch 34/50 | Train Loss: 0.0012 | Val Loss: 0.0045\n",
      "Epoch 35/50 | Train Loss: 0.0015 | Val Loss: 0.0041\n",
      "Epoch 36/50 | Train Loss: 0.0013 | Val Loss: 0.0043\n",
      "Epoch 37/50 | Train Loss: 0.0013 | Val Loss: 0.0048\n",
      "Epoch 38/50 | Train Loss: 0.0013 | Val Loss: 0.0046\n",
      "Epoch 39/50 | Train Loss: 0.0013 | Val Loss: 0.0044\n"
     ]
    },
    {
     "name": "stderr",
     "output_type": "stream",
     "text": [
      "[I 2025-04-09 12:31:37,846] Trial 19 finished with value: 0.004114671513283004 and parameters: {'hidden_size': 212, 'num_layers': 2, 'dropout': 0.2473974449271068, 'lr': 2.7688362315176467e-05, 'weight_decay': 1.453822370654687e-05}. Best is trial 14 with value: 0.0033361168267826238.\n"
     ]
    },
    {
     "name": "stdout",
     "output_type": "stream",
     "text": [
      " Early stopping at epoch 39\n",
      "Best hyperparameters: {'hidden_size': 198, 'num_layers': 2, 'dropout': 0.1833389747435502, 'lr': 0.0001260782805310485, 'weight_decay': 1.0225853341391187e-06}\n",
      "Epoch 1/50 | Train Loss: 0.0415 | Val Loss: 0.1967\n",
      "Epoch 2/50 | Train Loss: 0.0341 | Val Loss: 0.1507\n",
      "Epoch 3/50 | Train Loss: 0.0376 | Val Loss: 0.1760\n",
      "Epoch 4/50 | Train Loss: 0.0301 | Val Loss: 0.1681\n",
      "Epoch 5/50 | Train Loss: 0.0233 | Val Loss: 0.1290\n",
      "Epoch 6/50 | Train Loss: 0.0201 | Val Loss: 0.0892\n",
      "Epoch 7/50 | Train Loss: 0.0152 | Val Loss: 0.0494\n",
      "Epoch 8/50 | Train Loss: 0.0063 | Val Loss: 0.0082\n",
      "Epoch 9/50 | Train Loss: 0.0020 | Val Loss: 0.0038\n",
      "Epoch 10/50 | Train Loss: 0.0056 | Val Loss: 0.0103\n",
      "Epoch 11/50 | Train Loss: 0.0087 | Val Loss: 0.0330\n",
      "Epoch 12/50 | Train Loss: 0.0025 | Val Loss: 0.0064\n",
      "Epoch 13/50 | Train Loss: 0.0018 | Val Loss: 0.0037\n",
      "Epoch 14/50 | Train Loss: 0.0023 | Val Loss: 0.0045\n",
      "Epoch 15/50 | Train Loss: 0.0017 | Val Loss: 0.0077\n",
      "Epoch 16/50 | Train Loss: 0.0013 | Val Loss: 0.0046\n",
      "Epoch 17/50 | Train Loss: 0.0012 | Val Loss: 0.0041\n",
      " Early stopping at epoch 17\n"
     ]
    },
    {
     "name": "stderr",
     "output_type": "stream",
     "text": [
      "2025-04-09 12:31:40,088 - INFO - Using categorical units to plot a list of strings that are all parsable as floats or dates. If these strings should be plotted as numbers, cast to the appropriate data type before plotting.\n",
      "2025-04-09 12:31:40,092 - INFO - Using categorical units to plot a list of strings that are all parsable as floats or dates. If these strings should be plotted as numbers, cast to the appropriate data type before plotting.\n",
      "2025-04-09 12:31:40,097 - INFO - Using categorical units to plot a list of strings that are all parsable as floats or dates. If these strings should be plotted as numbers, cast to the appropriate data type before plotting.\n",
      "2025-04-09 12:31:40,103 - INFO - Using categorical units to plot a list of strings that are all parsable as floats or dates. If these strings should be plotted as numbers, cast to the appropriate data type before plotting.\n"
     ]
    },
    {
     "name": "stdout",
     "output_type": "stream",
     "text": [
      "Metrics for Optuna-Tuned RNN model:\n"
     ]
    },
    {
     "data": {
      "text/html": [
       "<div>\n",
       "<style scoped>\n",
       "    .dataframe tbody tr th:only-of-type {\n",
       "        vertical-align: middle;\n",
       "    }\n",
       "\n",
       "    .dataframe tbody tr th {\n",
       "        vertical-align: top;\n",
       "    }\n",
       "\n",
       "    .dataframe thead th {\n",
       "        text-align: right;\n",
       "    }\n",
       "</style>\n",
       "<table border=\"1\" class=\"dataframe\">\n",
       "  <thead>\n",
       "    <tr style=\"text-align: right;\">\n",
       "      <th></th>\n",
       "      <th>RMSE</th>\n",
       "      <th>MAE</th>\n",
       "      <th>r2</th>\n",
       "    </tr>\n",
       "  </thead>\n",
       "  <tbody>\n",
       "    <tr>\n",
       "      <th>RNNModel</th>\n",
       "      <td>1.613371</td>\n",
       "      <td>1.268808</td>\n",
       "      <td>0.948569</td>\n",
       "    </tr>\n",
       "  </tbody>\n",
       "</table>\n",
       "</div>"
      ],
      "text/plain": [
       "              RMSE       MAE        r2\n",
       "RNNModel  1.613371  1.268808  0.948569"
      ]
     },
     "metadata": {},
     "output_type": "display_data"
    },
    {
     "name": "stdout",
     "output_type": "stream",
     "text": [
      "✅ Saved RNN predictions to: c:\\Sandra D\\aUNI24-25\\group_proj\\versions code\\9.1 apr\\COMP5530M-Group-Project-Inflation-Forecasting\\Predictions\\RNN.npy\n",
      "✅ Trimmed RNN.npy to 48 values and saved.\n"
     ]
    },
    {
     "data": {
      "image/png": "[encoded data removed]",
      "text/plain": [
       "<Figure size 1200x600 with 1 Axes>"
      ]
     },
     "metadata": {},
     "output_type": "display_data"
    }
   ],
   "source": [
    "# === Optuna-Tuned RNN Training and Evaluation ===\n",
    "\n",
    "import torch\n",
    "from Models.RNN import RNNModel\n",
    "from Training.Helper.PyTorchModular import optuna_tune_and_train\n",
    "from Evaluation.Helper.evaluation_helpers import get_best_model_path, evaluate_model\n",
    "from Training.Helper.weightFileCleaner import cleanWeightFiles\n",
    "\n",
    "# Step 1: Clean weight directory\n",
    "model_save_path = \".\"  # Save models in current directory\n",
    "cleanWeightFiles(\"RNN\", dirPath=model_save_path, earlyStopped=False, verbose=True)\n",
    "\n",
    "# Step 2: Set device\n",
    "device = torch.device(\"cuda\" if torch.cuda.is_available() else \"cpu\")\n",
    "\n",
    "# Step 3: Run Optuna Tuning + Training\n",
    "best_model, best_params = optuna_tune_and_train(\n",
    "    model_class=RNNModel,\n",
    "    train_loader=train_loader,\n",
    "    val_loader=val_loader,\n",
    "    device=device,\n",
    "    input_size=1,  # Univariate time series\n",
    "    max_epochs=50,\n",
    "    model_save_path=model_save_path,\n",
    "    model_name=\"RNN\",\n",
    "    n_trials=20,\n",
    "    verbose=True\n",
    ")\n",
    "\n",
    "# Step 4: Evaluate Best Model\n",
    "val_dates = train_df[date_col].iloc[len(X_train) + sequence_length:].values\n",
    "best_model_path = os.path.join(model_save_path, \"RNN_best.pt\")\n",
    "\n",
    "\n",
    "eval_axes, metrics = evaluate_model(\n",
    "    best_model, val_loader, scaler, val_dates,\n",
    "    device, savepath=best_model_path, print_dates=10\n",
    ")\n",
    "\n",
    "# Step 5: Show evaluation metrics\n",
    "print(\"Metrics for Optuna-Tuned RNN model:\")\n",
    "display(metrics)\n",
    "\n",
    "import numpy as np\n",
    "import os\n",
    "import torch\n",
    "\n",
    "# ==== RNN: Save Predictions (Similar to XGB Format) ====\n",
    "def save_predictions(predictions, project_root, model_name=\"RNN\"):\n",
    "    pred_save_path = os.path.join(project_root, \"Predictions\", f\"{model_name}.npy\")\n",
    "    np.save(pred_save_path, predictions)\n",
    "    print(f\"Saved {model_name} predictions to: {pred_save_path}\")\n",
    "\n",
    "def trim_and_save_predictions(predictions_path, n_trim=48):\n",
    "    preds = np.load(predictions_path)\n",
    "    preds_trimmed = preds[-n_trim:]\n",
    "    np.save(predictions_path, preds_trimmed)\n",
    "    print(f\"Trimmed {os.path.basename(predictions_path)} to {len(preds_trimmed)} values and saved.\")\n",
    "\n",
    "# ==== Predict with the Best RNN Model ====\n",
    "best_model.eval()\n",
    "rnn_preds = []\n",
    "\n",
    "with torch.no_grad():\n",
    "    for X_batch, _ in val_loader:\n",
    "        X_batch = X_batch.to(device)\n",
    "        preds = best_model(X_batch).cpu().numpy().flatten()\n",
    "        rnn_preds.extend(preds)\n",
    "\n",
    "# Inverse transform predictions using your MinMaxScaler\n",
    "rnn_preds = scaler.inverse_transform(np.array(rnn_preds).reshape(-1, 1)).flatten()\n",
    "\n",
    "# Save and trim predictions\n",
    "project_root = os.path.abspath(os.path.join(\"..\", \"..\"))  # adjust if needed\n",
    "predictions_dir = os.path.join(project_root, \"Predictions\")\n",
    "os.makedirs(predictions_dir, exist_ok=True)\n",
    "\n",
    "save_predictions(rnn_preds, project_root, model_name=\"RNN\")\n",
    "trim_and_save_predictions(os.path.join(predictions_dir, \"RNN.npy\"), n_trim=48)\n",
    "\n"
   ]
  }
 ],
 "metadata": {
  "kernelspec": {
   "display_name": "Python 3",
   "language": "python",
   "name": "python3"
  },
  "language_info": {
   "codemirror_mode": {
    "name": "ipython",
    "version": 3
   },
   "file_extension": ".py",
   "mimetype": "text/x-python",
   "name": "python",
   "nbconvert_exporter": "python",
   "pygments_lexer": "ipython3",
   "version": "3.11.9"
  }
 },
 "nbformat": 4,
 "nbformat_minor": 2
}
