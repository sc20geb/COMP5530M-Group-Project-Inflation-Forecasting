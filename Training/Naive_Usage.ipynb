{
 "cells": [
  {
   "cell_type": "markdown",
   "metadata": {},
   "source": [
    "Data import step here!"
   ]
  },
  {
   "cell_type": "code",
   "execution_count": 8,
   "metadata": {},
   "outputs": [],
   "source": [
    "import pandas as pd\n",
    "from sklearn import linear_model\n",
    "\n",
    "# Define relative file paths for training and testing data\n",
    "train_file = \"..\\\\Data\\\\Train\\\\train1990s.csv\"\n",
    "\n",
    "# Load and format training data (only using PCEPI)\n",
    "train_df = pd.read_csv(train_file, parse_dates=['observation_date'], date_format=\"%m/%y%\").iloc[:,:2]\n"
   ]
  },
  {
   "cell_type": "code",
   "execution_count": 40,
   "metadata": {},
   "outputs": [
    {
     "name": "stdout",
     "output_type": "stream",
     "text": [
      "    observation_date  fred_PCEPI\n",
      "0            01/1990      58.553\n",
      "1            02/1990      58.811\n",
      "2            03/1990      59.033\n",
      "3            04/1990      59.157\n",
      "4            05/1990      59.290\n",
      "..               ...         ...\n",
      "367          08/2020     104.887\n",
      "368          09/2020     105.046\n",
      "369          10/2020     105.106\n",
      "370          11/2020     105.225\n",
      "371          12/2020     105.690\n",
      "\n",
      "[372 rows x 2 columns]\n"
     ]
    }
   ],
   "source": [
    "print(train_df)"
   ]
  },
  {
   "cell_type": "markdown",
   "metadata": {},
   "source": [
    "Model load"
   ]
  },
  {
   "cell_type": "code",
   "execution_count": 50,
   "metadata": {},
   "outputs": [],
   "source": [
    "#allows imports from other folders in project\n",
    "import os\n",
    "import sys\n",
    "module_path = os.path.abspath(os.path.join('..'))\n",
    "if module_path not in sys.path:\n",
    "    sys.path.append(module_path)\n",
    "\n",
    "#from RNN_PCE import RNNModel\n",
    "from TrainedModels.Naive_Model import NaiveModel\n",
    "\n",
    "# Example usage\n",
    "model = NaiveModel()\n"
   ]
  },
  {
   "cell_type": "code",
   "execution_count": 51,
   "metadata": {},
   "outputs": [
    {
     "name": "stdout",
     "output_type": "stream",
     "text": [
      "None\n"
     ]
    }
   ],
   "source": [
    "print(model.fit(train_df))\n"
   ]
  }
 ],
 "metadata": {
  "kernelspec": {
   "display_name": "Python 3",
   "language": "python",
   "name": "python3"
  },
  "language_info": {
   "codemirror_mode": {
    "name": "ipython",
    "version": 3
   },
   "file_extension": ".py",
   "mimetype": "text/x-python",
   "name": "python",
   "nbconvert_exporter": "python",
   "pygments_lexer": "ipython3",
   "version": "3.11.2"
  }
 },
 "nbformat": 4,
 "nbformat_minor": 2
}
