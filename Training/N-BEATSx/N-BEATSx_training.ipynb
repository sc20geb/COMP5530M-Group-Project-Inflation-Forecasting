{
 "cells": [
  {
   "cell_type": "markdown",
   "metadata": {},
   "source": [
    "##### Point to be noted\n",
    "N-BEATSx model can be sensitive to constant 0s in the dataset, depending on where those zeros occur and how the model is configured.\n",
    "\n",
    "Scaling Issues:\n",
    "If a column is full of 0s (or nearly constant), scaling with StandardScaler will result in division by a near-zero standard deviation, leading to NaNs or infs.\n"
   ]
  },
  {
   "cell_type": "markdown",
   "metadata": {},
   "source": [
    "# Nixtla N-BEATSx (Basic) -  (Neural forest)\n",
    "\n",
    "https://nixtlaverse.nixtla.io/neuralforecast/models.nbeatsx.html"
   ]
  },
  {
   "cell_type": "markdown",
   "metadata": {},
   "source": [
    "## Loading and Preprocess Dataset"
   ]
  },
  {
   "cell_type": "code",
   "execution_count": 33,
   "metadata": {},
   "outputs": [],
   "source": [
    "import pandas as pd\n",
    "import numpy as np\n",
    "import matplotlib.pyplot as plt\n",
    "import seaborn as sns\n",
    "from sklearn.preprocessing import StandardScaler\n",
    "from sklearn.metrics import mean_squared_error\n",
    "\n",
    "from neuralforecast.models import NBEATSx\n",
    "from neuralforecast.core import NeuralForecast\n",
    "from neuralforecast.losses.pytorch import MSE"
   ]
  },
  {
   "cell_type": "code",
   "execution_count": 34,
   "metadata": {},
   "outputs": [],
   "source": [
    "# Load & Preprocess Dataset\n",
    "df = pd.read_csv(\"../../Data/Train/train1990s.csv\")\n",
    "df['ds'] = pd.to_datetime(df['observation_date'], format=\"%m/%Y\")\n",
    "df['unique_id'] = 'inflation'\n",
    "df = df.rename(columns={\"fred_PCEPI\": \"y\"})"
   ]
  },
  {
   "cell_type": "code",
   "execution_count": 35,
   "metadata": {},
   "outputs": [],
   "source": [
    "# Fourier features (3 harmonics)\n",
    "df[\"month\"] = df[\"ds\"].dt.month\n",
    "for k in range(1, 4):\n",
    "    df[f'sin_{k}'] = np.sin(2 * np.pi * k * df[\"month\"] / 12)\n",
    "    df[f'cos_{k}'] = np.cos(2 * np.pi * k * df[\"month\"] / 12)\n",
    "\n",
    "# Lag features\n",
    "for lag in [1, 6, 12]:\n",
    "    df[f'y_lag_{lag}'] = df['y'].shift(lag)\n",
    "\n",
    "# Rolling features\n",
    "df['rolling_mean_3'] = df['y'].rolling(3).mean()\n",
    "df['rolling_std_3'] = df['y'].rolling(3).std()\n",
    "\n",
    "# Drop NaNs from lags and rolling\n",
    "df = df.dropna()"
   ]
  },
  {
   "cell_type": "markdown",
   "metadata": {},
   "source": [
    "### Feature Selection"
   ]
  },
  {
   "cell_type": "code",
   "execution_count": 36,
   "metadata": {},
   "outputs": [],
   "source": [
    "# Feature Selection (|r| > 0.3)\n",
    "exclude_cols = ['unique_id', 'ds', 'y', 'observation_date', 'month']\n",
    "feature_cols = [col for col in df.columns if col not in exclude_cols]\n",
    "numeric_features = df[feature_cols].select_dtypes(include=[np.number]).columns.tolist()\n",
    "\n",
    "cor_matrix = df[numeric_features + ['y']].corr()\n",
    "selected_features = cor_matrix['y'].drop('y').loc[lambda x: x.abs() > 0.3].index.tolist()\n",
    "selected_features = list(set(selected_features))  # remove duplicates"
   ]
  },
  {
   "cell_type": "markdown",
   "metadata": {},
   "source": [
    "### Normalise Features"
   ]
  },
  {
   "cell_type": "code",
   "execution_count": 37,
   "metadata": {},
   "outputs": [],
   "source": [
    "# Normalize Features\n",
    "x_scaler = StandardScaler()\n",
    "df[selected_features] = x_scaler.fit_transform(df[selected_features])\n",
    "y_scaler = StandardScaler()\n",
    "df[\"y\"] = y_scaler.fit_transform(df[[\"y\"]])\n",
    "\n",
    "# Final dataset\n",
    "df_model = df[['unique_id', 'ds', 'y'] + selected_features]"
   ]
  },
  {
   "cell_type": "markdown",
   "metadata": {},
   "source": [
    "## Model Definitiion"
   ]
  },
  {
   "cell_type": "markdown",
   "metadata": {},
   "source": [
    "#### Model Setup:\n",
    "- **HORIZON = 6**: Forecasts 6 months ahead.\n",
    "- **input_size = 48**: Uses the past 48 months of data for each prediction.\n",
    "- **learning_rate = 5e-4**: Sets a relatively standard learning rate for optimization.\n",
    "- **max_steps = 100**: Trains the model for a maximum of 100 steps.\n",
    "- **val_check_steps = 200**: Validation checks occur after 200 steps (but here it's automatically clipped to 100).\n",
    "\n",
    "#### N-BEATSx Configuration:\n",
    "- **futr_exog_list = selected_features**: Passes in the list of selected exogenous variables (e.g., lags, Fourier terms, rolling stats).\n",
    "- **stack_types = default**: Since not specified, the model uses the default stack configuration (`generic` blocks).\n",
    "- **scaler_type = \"robust\"**: Uses robust normalization to handle potential outliers in the data.\n",
    "- **loss = MSE()**: Optimizes the **Mean Squared Error**, focusing on minimizing squared differences between predicted and actual values.\n",
    "- **random_seed = 42**: Ensures reproducibility by fixing the random seed.\n",
    "\n",
    "#### Frequency:\n",
    "- **freq = \"M\"**: The model is trained on **monthly** data."
   ]
  },
  {
   "cell_type": "code",
   "execution_count": 38,
   "metadata": {},
   "outputs": [
    {
     "name": "stderr",
     "output_type": "stream",
     "text": [
      "Seed set to 42\n"
     ]
    }
   ],
   "source": [
    "# Define Model\n",
    "HORIZON = 6\n",
    "model = NeuralForecast(\n",
    "    models=[\n",
    "        NBEATSx(\n",
    "            h=HORIZON,\n",
    "            input_size=48,\n",
    "            max_steps=100,\n",
    "            val_check_steps=200,\n",
    "            learning_rate=5e-4,\n",
    "            futr_exog_list=selected_features,\n",
    "            scaler_type=\"robust\",\n",
    "            loss=MSE(),\n",
    "            random_seed=42\n",
    "        )\n",
    "    ],\n",
    "    freq=\"M\"\n",
    ")"
   ]
  },
  {
   "cell_type": "markdown",
   "metadata": {},
   "source": [
    "## Cross Validation"
   ]
  },
  {
   "cell_type": "code",
   "execution_count": 39,
   "metadata": {},
   "outputs": [
    {
     "name": "stderr",
     "output_type": "stream",
     "text": [
      "/Library/Frameworks/Python.framework/Versions/3.11/lib/python3.11/site-packages/neuralforecast/common/_base_model.py:535: UserWarning: val_check_steps is greater than max_steps, setting val_check_steps to max_steps.\n",
      "  warnings.warn(\n",
      "GPU available: False, used: False\n",
      "TPU available: False, using: 0 TPU cores\n",
      "HPU available: False, using: 0 HPUs\n",
      "\n",
      "  | Name         | Type          | Params | Mode \n",
      "-------------------------------------------------------\n",
      "0 | loss         | MSE           | 0      | train\n",
      "1 | padder_train | ConstantPad1d | 0      | train\n",
      "2 | scaler       | TemporalNorm  | 0      | train\n",
      "3 | blocks       | ModuleList    | 15.2 M | train\n",
      "-------------------------------------------------------\n",
      "15.2 M    Trainable params\n",
      "702       Non-trainable params\n",
      "15.2 M    Total params\n",
      "60.685    Total estimated model params size (MB)\n",
      "31        Modules in train mode\n",
      "0         Modules in eval mode\n"
     ]
    },
    {
     "name": "stdout",
     "output_type": "stream",
     "text": [
      "Epoch 99: 100%|██████████| 1/1 [00:01<00:00,  0.94it/s, v_num=3, train_loss_step=9.370, train_loss_epoch=9.370]    "
     ]
    },
    {
     "name": "stderr",
     "output_type": "stream",
     "text": [
      "`Trainer.fit` stopped: `max_steps=100` reached.\n"
     ]
    },
    {
     "name": "stdout",
     "output_type": "stream",
     "text": [
      "Epoch 99: 100%|██████████| 1/1 [00:01<00:00,  0.93it/s, v_num=3, train_loss_step=9.370, train_loss_epoch=9.370]"
     ]
    },
    {
     "name": "stderr",
     "output_type": "stream",
     "text": [
      "GPU available: False, used: False\n",
      "TPU available: False, using: 0 TPU cores\n",
      "HPU available: False, using: 0 HPUs\n"
     ]
    },
    {
     "name": "stdout",
     "output_type": "stream",
     "text": [
      "\n",
      "Predicting DataLoader 0: 100%|██████████| 1/1 [00:00<00:00, 35.64it/s]\n"
     ]
    }
   ],
   "source": [
    "# Run Cross-Validation\n",
    "df_cv = model.cross_validation(\n",
    "    df=df_model,\n",
    "    n_windows=10,\n",
    "    step_size=HORIZON\n",
    ")"
   ]
  },
  {
   "cell_type": "code",
   "execution_count": 40,
   "metadata": {},
   "outputs": [],
   "source": [
    "# Merge with Actuals\n",
    "merged = df_cv.merge(\n",
    "    df_model[[\"unique_id\", \"ds\", \"y\"]],\n",
    "    on=[\"unique_id\", \"ds\"],\n",
    "    how=\"left\",\n",
    "    suffixes=(\"\", \"_actual\")\n",
    ")\n",
    "\n",
    "# Drop missing predictions or targets\n",
    "merged = merged.dropna(subset=[\"y\", \"NBEATSx\"])\n",
    "\n",
    "# Inverse transform\n",
    "merged[\"y_inv\"] = y_scaler.inverse_transform(merged[[\"y\"]])\n",
    "merged[\"pred_inv\"] = y_scaler.inverse_transform(merged[[\"NBEATSx\"]])\n"
   ]
  },
  {
   "cell_type": "markdown",
   "metadata": {},
   "source": [
    "## Evaluation"
   ]
  },
  {
   "cell_type": "code",
   "execution_count": 41,
   "metadata": {},
   "outputs": [
    {
     "name": "stdout",
     "output_type": "stream",
     "text": [
      "Cross-Validation RMSE: 0.5103\n"
     ]
    },
    {
     "data": {
      "image/png": "[encoded data removed]",
      "text/plain": [
       "<Figure size 1200x500 with 1 Axes>"
      ]
     },
     "metadata": {},
     "output_type": "display_data"
    }
   ],
   "source": [
    "# ===============================\n",
    "# Evaluate\n",
    "# ===============================\n",
    "rmse = np.sqrt(mean_squared_error(merged[\"y_inv\"], merged[\"pred_inv\"]))\n",
    "print(f\"Cross-Validation RMSE: {rmse:.4f}\")\n",
    "\n",
    "# ===============================\n",
    "# Plot\n",
    "# ===============================\n",
    "plt.figure(figsize=(12, 5))\n",
    "sns.lineplot(data=merged, x=\"ds\", y=\"y_inv\", label=\"Actual Inflation\", color=\"black\")\n",
    "sns.lineplot(data=merged, x=\"ds\", y=\"pred_inv\", label=\"Predicted Inflation\", linestyle=\"--\", color=\"blue\")\n",
    "plt.title(\"N-BEATSx Forecast (Fourier + Lags + Rolling Features + Exogenous)\")\n",
    "plt.xlabel(\"Date\")\n",
    "plt.ylabel(\"Inflation\")\n",
    "plt.grid(True)\n",
    "plt.tight_layout()\n",
    "plt.legend()\n",
    "plt.show()\n"
   ]
  },
  {
   "cell_type": "code",
   "execution_count": 42,
   "metadata": {},
   "outputs": [
    {
     "name": "stdout",
     "output_type": "stream",
     "text": [
      "Model saved to 'nbeatsx_model1.ckpt'\n"
     ]
    }
   ],
   "source": [
    "# Save model checkpoint\n",
    "model.models[0].trainer.save_checkpoint(\"nbeatsx_model1.ckpt\")\n",
    "print(\"Model saved to 'nbeatsx_model1.ckpt'\")"
   ]
  },
  {
   "cell_type": "markdown",
   "metadata": {},
   "source": [
    "# Nixtla N-BEATSx (Full Feature Heavy)\n",
    "\n",
    "### Preprocessing Comparison: Model 2 below vs. Model 1 above\n",
    "\n",
    "Both models are based on the same dataset (`train2000s.csv`) and share foundational preprocessing steps like:\n",
    "\n",
    "- Converting `observation_date` to datetime (`ds`)\n",
    "- Setting `unique_id` to `'inflation'`\n",
    "- Renaming the inflation column to `y`\n",
    "- Dropping NaN rows after feature creation\n",
    "- Selecting exogenous features based on correlation with `y` (|r| > 0.3)\n",
    "- Applying `StandardScaler` on features and target (`y`)\n",
    "\n",
    "#### Shared Feature Engineering (Both Models):\n",
    "- **Fourier Features:** Sine & Cosine terms for 3 harmonics (seasonality)\n",
    "- **Lag Features:** Lags of 1, 6, and 12 months\n",
    "- **Rolling Features:** Mean & Std over a 3-month window\n",
    "- **Feature Selection:** Based on correlation threshold with target\n",
    "\n",
    "---\n",
    "\n",
    "### Additional Feature Engineering in **Model 2** (more advanced):\n",
    "Model 2 performs **richer feature engineering** to enhance temporal dynamics and smoothness:\n",
    "\n",
    "| Feature Type       | Description                                          |\n",
    "|--------------------|------------------------------------------------------|\n",
    "| `y_lag_24`         | Adds a 24-month lag to capture longer-term memory    |\n",
    "| `rolling_mean_{6,12}` | Includes broader smoothing context               |\n",
    "| `rolling_std_{6,12}`  | Includes broader volatility estimation            |\n",
    "| `rolling_skew_6`   | Captures asymmetry in the recent 6-month window      |\n",
    "| `rolling_kurt_6`   | Captures \"tailedness\" or extreme fluctuations        |\n",
    "| `ema_3`, `ema_12`  | Applies exponential smoothing to better track trends |\n",
    "| `y_pct_change`     | Captures month-over-month percentage change          |\n",
    "| `y_momentum`       | Second-order difference to reflect momentum shifts   |\n",
    "\n",
    "This added diversity in statistical, trend-based, and frequency-based features in **Model 2** allows for **more context-rich learning**, especially useful for time series with subtle seasonal or structural shifts.\n",
    "\n",
    "---\n",
    "\n",
    "### Summary:\n",
    "- **Model 1:** Simpler, lighter preprocessing; fewer features; faster to train\n",
    "- **Model 2:** More comprehensive temporal and statistical features; better suited for capturing complex dynamics in inflation data\n",
    "\n",
    "> As seen in the plots and RMSE/MAE metrics, **Model 2's predictions are more aligned with actual inflation trends**, likely due to this enhanced feature representation.\n"
   ]
  },
  {
   "cell_type": "markdown",
   "metadata": {},
   "source": [
    "## Load and Preprocess data"
   ]
  },
  {
   "cell_type": "code",
   "execution_count": 43,
   "metadata": {},
   "outputs": [],
   "source": [
    "# Load & Preprocess Dataset\n",
    "df = pd.read_csv(\"../../Data/Train/train1990s.csv\")\n",
    "df['ds'] = pd.to_datetime(df['observation_date'], format=\"%m/%Y\")\n",
    "df['unique_id'] = 'inflation'\n",
    "df = df.rename(columns={\"fred_PCEPI\": \"y\"})\n",
    "df[\"y_original\"] = df[\"y\"]"
   ]
  },
  {
   "cell_type": "markdown",
   "metadata": {},
   "source": [
    "### Add Features: Fourier, Lags, Rolling Stats, EMAs, Momentum"
   ]
  },
  {
   "cell_type": "code",
   "execution_count": 44,
   "metadata": {},
   "outputs": [],
   "source": [
    "# Add Features: Fourier, Lags, Rolling Stats, EMAs, Momentum\n",
    "df[\"month\"] = df[\"ds\"].dt.month\n",
    "\n",
    "for k in range(1, 4):\n",
    "    df[f'sin_{k}'] = np.sin(2 * np.pi * k * df[\"month\"] / 12)\n",
    "    df[f'cos_{k}'] = np.cos(2 * np.pi * k * df[\"month\"] / 12)\n",
    "\n",
    "for lag in [1, 6, 12, 24]:\n",
    "    df[f'y_lag_{lag}'] = df['y'].shift(lag)\n",
    "\n",
    "for window in [3, 6, 12]:\n",
    "    df[f'rolling_mean_{window}'] = df['y'].rolling(window).mean()\n",
    "    df[f'rolling_std_{window}'] = df['y'].rolling(window).std()\n",
    "\n",
    "df['rolling_mean_6_lag1'] = df['rolling_mean_6'].shift(1)\n",
    "df['rolling_skew_6'] = df['y'].rolling(6).skew()\n",
    "df['rolling_kurt_6'] = df['y'].rolling(6).kurt()\n",
    "df['ema_3'] = df['y'].ewm(span=3).mean()\n",
    "df['ema_12'] = df['y'].ewm(span=12).mean()\n",
    "df['y_pct_change'] = df['y'].pct_change()\n",
    "df['y_momentum'] = df['y_pct_change'].diff()\n",
    "\n",
    "df = df.dropna()"
   ]
  },
  {
   "cell_type": "markdown",
   "metadata": {},
   "source": [
    "## Feature Selection (|r| > 0.3)"
   ]
  },
  {
   "cell_type": "code",
   "execution_count": 45,
   "metadata": {},
   "outputs": [],
   "source": [
    "# Feature Selection (|r| > 0.3)\n",
    "exclude_cols = ['unique_id', 'ds', 'y', 'y_original', 'observation_date', 'month']\n",
    "feature_cols = [col for col in df.columns if col not in exclude_cols]\n",
    "numeric_features = df[feature_cols].select_dtypes(include=[np.number]).columns.tolist()\n",
    "\n",
    "cor_matrix = df[numeric_features + ['y']].corr()\n",
    "selected_features = cor_matrix['y'].drop('y').loc[lambda x: x.abs() > 0.3].index.tolist()\n",
    "selected_features = list(set(selected_features))"
   ]
  },
  {
   "cell_type": "markdown",
   "metadata": {},
   "source": [
    "## Normalize Features"
   ]
  },
  {
   "cell_type": "code",
   "execution_count": 46,
   "metadata": {},
   "outputs": [],
   "source": [
    "# Normalize Features\n",
    "x_scaler = StandardScaler()\n",
    "df[selected_features] = x_scaler.fit_transform(df[selected_features])\n",
    "y_scaler = StandardScaler()\n",
    "df[\"y\"] = y_scaler.fit_transform(df[[\"y\"]])\n",
    "\n",
    "df_model = df[['unique_id', 'ds', 'y'] + selected_features]\n",
    "df_targets = df[['unique_id', 'ds', 'y_original']]"
   ]
  },
  {
   "cell_type": "markdown",
   "metadata": {},
   "source": [
    "## Define model\n",
    "\n",
    "### N-BEATSx Model Architecture\n",
    "\n",
    "In this setup, I have defined a more powerful **N-BEATSx model** using the [NeuralForecast](https://nixtlaverse.nixtla.io/neuralforecast/models.nbeatsx.html) library, tailored for multivariate time series forecasting with exogenous variables.\n",
    "\n",
    "#### 🔧 Configuration Details:\n",
    "| Parameter            | Value / Description                                                                 |\n",
    "|----------------------|--------------------------------------------------------------------------------------|\n",
    "| `h`                  | Forecast horizon = 6 months                                                          |\n",
    "| `input_size`         | 144 (number of past timesteps used as context)                                      |\n",
    "| `max_steps`          | 500 (maximum training steps for convergence)                                        |\n",
    "| `val_check_steps`    | 100 (evaluate validation loss every 100 steps)                                      |\n",
    "| `learning_rate`      | 0.0002 (lower LR for finer convergence)                                             |\n",
    "| `n_blocks`           | `[3, 3, 3]` — defines 3 blocks each for trend, seasonality, and identity stacks      |\n",
    "| `stack_types`        | `[\"trend\", \"seasonality\", \"identity\"]` (stack-specific basis functions)             |\n",
    "| `dropout_prob_theta` | 0.2 (dropout for regularization inside theta MLP layers)                            |\n",
    "| `futr_exog_list`     | List of selected exogenous features used during training and forecasting             |\n",
    "| `scaler_type`        | `\"robust\"` (uses IQR-based scaling for better handling of outliers)                 |\n",
    "| `loss`               | `SMAPE()` — Symmetric Mean Absolute Percentage Error for better scale handling      |\n",
    "| `random_seed`        | 42 (for reproducibility)                                                             |\n",
    "| `freq`               | `\"M\"` — monthly time series                                                          |\n",
    "\n",
    "---"
   ]
  },
  {
   "cell_type": "code",
   "execution_count": 47,
   "metadata": {},
   "outputs": [
    {
     "name": "stderr",
     "output_type": "stream",
     "text": [
      "Seed set to 42\n"
     ]
    }
   ],
   "source": [
    "from neuralforecast.models import NBEATSx\n",
    "from neuralforecast.core import NeuralForecast\n",
    "from neuralforecast.losses.pytorch import SMAPE\n",
    "\n",
    "# Define N-BEATSx Model\n",
    "HORIZON = 6\n",
    "model = NeuralForecast(\n",
    "    models=[\n",
    "        NBEATSx(\n",
    "            h=HORIZON,\n",
    "            input_size=144,\n",
    "            max_steps=500,\n",
    "            val_check_steps=100,\n",
    "            learning_rate=2e-4,\n",
    "            n_blocks=[3, 3, 3],  # One for each stack_type\n",
    "            dropout_prob_theta=0.2,\n",
    "            stack_types=[\"trend\", \"seasonality\", \"identity\"],\n",
    "            futr_exog_list=selected_features,\n",
    "            scaler_type=\"robust\",\n",
    "            loss=SMAPE(),\n",
    "            random_seed=42\n",
    "        )\n",
    "    ],\n",
    "    freq=\"M\"\n",
    ")"
   ]
  },
  {
   "cell_type": "markdown",
   "metadata": {},
   "source": [
    "## Cross-Validation"
   ]
  },
  {
   "cell_type": "code",
   "execution_count": 48,
   "metadata": {},
   "outputs": [
    {
     "name": "stderr",
     "output_type": "stream",
     "text": [
      "GPU available: False, used: False\n",
      "TPU available: False, using: 0 TPU cores\n",
      "HPU available: False, using: 0 HPUs\n",
      "\n",
      "  | Name         | Type          | Params | Mode \n",
      "-------------------------------------------------------\n",
      "0 | loss         | SMAPE         | 0      | train\n",
      "1 | padder_train | ConstantPad1d | 0      | train\n",
      "2 | scaler       | TemporalNorm  | 0      | train\n",
      "3 | blocks       | ModuleList    | 122 M  | train\n",
      "-------------------------------------------------------\n",
      "122 M     Trainable params\n",
      "5.9 K     Non-trainable params\n",
      "122 M     Total params\n",
      "491.103   Total estimated model params size (MB)\n",
      "112       Modules in train mode\n",
      "0         Modules in eval mode\n"
     ]
    },
    {
     "name": "stdout",
     "output_type": "stream",
     "text": [
      "Epoch 499: 100%|██████████| 1/1 [00:09<00:00,  0.11it/s, v_num=5, train_loss_step=0.0569, train_loss_epoch=0.0569]"
     ]
    },
    {
     "name": "stderr",
     "output_type": "stream",
     "text": [
      "`Trainer.fit` stopped: `max_steps=500` reached.\n"
     ]
    },
    {
     "name": "stdout",
     "output_type": "stream",
     "text": [
      "Epoch 499: 100%|██████████| 1/1 [00:09<00:00,  0.11it/s, v_num=5, train_loss_step=0.0569, train_loss_epoch=0.0569]\n"
     ]
    },
    {
     "name": "stderr",
     "output_type": "stream",
     "text": [
      "GPU available: False, used: False\n",
      "TPU available: False, using: 0 TPU cores\n",
      "HPU available: False, using: 0 HPUs\n"
     ]
    },
    {
     "name": "stdout",
     "output_type": "stream",
     "text": [
      "Predicting DataLoader 0: 100%|██████████| 1/1 [00:00<00:00,  8.18it/s]\n"
     ]
    }
   ],
   "source": [
    "# Cross-Validation\n",
    "df_cv = model.cross_validation(\n",
    "    df=df_model,\n",
    "    n_windows=10,\n",
    "    step_size=HORIZON\n",
    ")"
   ]
  },
  {
   "cell_type": "markdown",
   "metadata": {},
   "source": [
    "## Evaluation"
   ]
  },
  {
   "cell_type": "code",
   "execution_count": 49,
   "metadata": {},
   "outputs": [
    {
     "name": "stdout",
     "output_type": "stream",
     "text": [
      "Cross-Validation MAE: 1.1150\n",
      "Cross-Validation RMSE: 1.5985\n"
     ]
    },
    {
     "data": {
      "image/png": "[encoded data removed]",
      "text/plain": [
       "<Figure size 1200x500 with 1 Axes>"
      ]
     },
     "metadata": {},
     "output_type": "display_data"
    }
   ],
   "source": [
    "from sklearn.metrics import mean_absolute_error, mean_squared_error\n",
    "\n",
    "# Merge & Evaluate\n",
    "merged = df_cv.merge(df_targets, on=[\"unique_id\", \"ds\"], how=\"left\")\n",
    "merged = merged.dropna(subset=[\"y_original\", \"NBEATSx\"])\n",
    "\n",
    "# Evaluate on original scale\n",
    "y_true = merged[\"y_original\"].values.reshape(-1, 1)\n",
    "y_pred = y_scaler.inverse_transform(merged[[\"NBEATSx\"]])\n",
    "\n",
    "mae = mean_absolute_error(y_true, y_pred)\n",
    "rmse = np.sqrt(mean_squared_error(y_true, y_pred))\n",
    "\n",
    "print(f\"Cross-Validation MAE: {mae:.4f}\")\n",
    "print(f\"Cross-Validation RMSE: {rmse:.4f}\")\n",
    "\n",
    "# Plot\n",
    "merged[\"y_inv\"] = y_true\n",
    "merged[\"pred_inv\"] = y_pred\n",
    "\n",
    "plt.figure(figsize=(12, 5))\n",
    "sns.lineplot(data=merged, x=\"ds\", y=\"y_inv\", label=\"Actual Inflation\", color=\"black\")\n",
    "sns.lineplot(data=merged, x=\"ds\", y=\"pred_inv\", label=\"Predicted Inflation\", linestyle=\"--\", color=\"blue\")\n",
    "plt.title(\"N-BEATSx Forecast (Fourier + Lags + Rolling + EMA + Momentum + Exogenous)\")\n",
    "plt.xlabel(\"Date\")\n",
    "plt.ylabel(\"Inflation\")\n",
    "plt.grid(True)\n",
    "plt.tight_layout()\n",
    "plt.legend()\n",
    "plt.show()\n"
   ]
  },
  {
   "cell_type": "markdown",
   "metadata": {},
   "source": [
    "## Save model"
   ]
  },
  {
   "cell_type": "code",
   "execution_count": 50,
   "metadata": {},
   "outputs": [
    {
     "name": "stdout",
     "output_type": "stream",
     "text": [
      "Model saved to 'nbeatsx_model2.ckpt'\n"
     ]
    }
   ],
   "source": [
    "# Save model checkpoint\n",
    "model.models[0].trainer.save_checkpoint(\"nbeatsx_model2.ckpt\")\n",
    "print(\"Model saved to 'nbeatsx_model2.ckpt'\")"
   ]
  },
  {
   "cell_type": "markdown",
   "metadata": {},
   "source": [
    "## Download N-BEATSx Models\n",
    "\n",
    "To avoid GitHub’s file size limits, the trained N-BEATSx models are hosted on OneDrive.\n",
    "\n",
    "- [nbeatsx_model1.ckpt (61.4 MB)](https://leeds365-my.sharepoint.com/:u:/g/personal/sc21ar_leeds_ac_uk/EQi-4bt0TydJlc3f6sIg_g8BPPnAsP6i93Oiz4XOW4zWNQ?e=FsaNWO)\n",
    "- [nbeatsx_model2.ckpt (489 MB)](https://leeds365-my.sharepoint.com/:u:/g/personal/sc21ar_leeds_ac_uk/EYoPTmm_NaJNvn8EQhmOSgoB4arB-RwgO-6-DgNfhMhepA?e=wOSLcT)\n",
    "\n",
    "After downloading, place them in your local `Training/N-BEATSx/` folder and load like this:\n"
   ]
  },
  {
   "cell_type": "code",
   "execution_count": 51,
   "metadata": {},
   "outputs": [
    {
     "name": "stderr",
     "output_type": "stream",
     "text": [
      "Seed set to 42\n"
     ]
    }
   ],
   "source": [
    "# To load it:\n",
    "from neuralforecast.models import NBEATSx\n",
    "from neuralforecast.core import NeuralForecast\n",
    "from neuralforecast.losses.pytorch import SMAPE\n",
    "\n",
    "# Load model\n",
    "loaded_nbeatsx = NBEATSx.load_from_checkpoint(\"nbeatsx_model2.ckpt\")\n",
    "restored_model = NeuralForecast(models=[loaded_nbeatsx], freq=\"M\")"
   ]
  },
  {
   "cell_type": "markdown",
   "metadata": {},
   "source": [
    "**Model Above (Without Dataset Exogenous Variables):**\n",
    "   - This model used Fourier terms, lag features, rolling statistics, EMAs, and momentum — all derived from the target variable itself.\n",
    "   - It **did not** incorporate any domain-specific exogenous variables from the original dataset like interest rates, unemployment, etc.\n",
    "   - Purpose: Establish a **baseline** performance and assess how much inflation can be predicted solely from historical inflation patterns and time-based signals.\n",
    "\n",
    "**Model Below (With Dataset Exogenous Variables):**\n",
    "   - This version **included relevant exogenous features** selected through correlation analysis (|r| > 0.4).\n",
    "   - These variables were passed using the `hist_exog_list` argument in the `NBEATSx` model configuration.\n",
    "   - Goal: Evaluate whether incorporating exogenous economic indicators improves forecast accuracy beyond what is achievable from target history alone.\n",
    "\n",
    "---\n",
    "\n",
    "Training a model without exogenous features first is useful because it:\n",
    "\n",
    "- Provides a **baseline** to compare improvements from added data.\n",
    "- Helps isolate the impact of **domain-specific variables**.\n",
    "- Prevents overfitting early in development — simpler models are easier to debug.\n",
    "- Encourages step-by-step modeling, which is critical when tuning complex neural architectures like N-BEATSx.\n",
    "\n",
    "By comparing the two, we can determine if and how much exogenous features contribute to **predictive power** in modeling inflation.\n"
   ]
  },
  {
   "cell_type": "markdown",
   "metadata": {},
   "source": [
    "# Nixtla N-BEATSx (Optimized) - Adding exogenous from dataset"
   ]
  },
  {
   "cell_type": "code",
   "execution_count": 1,
   "metadata": {},
   "outputs": [
    {
     "name": "stderr",
     "output_type": "stream",
     "text": [
      "/Library/Frameworks/Python.framework/Versions/3.11/lib/python3.11/site-packages/tqdm/auto.py:21: TqdmWarning: IProgress not found. Please update jupyter and ipywidgets. See https://ipywidgets.readthedocs.io/en/stable/user_install.html\n",
      "  from .autonotebook import tqdm as notebook_tqdm\n",
      "2025-03-24 22:02:49,903\tINFO util.py:154 -- Missing packages: ['ipywidgets']. Run `pip install -U ipywidgets`, then restart the notebook server for rich notebook output.\n",
      "2025-03-24 22:02:50,151\tINFO util.py:154 -- Missing packages: ['ipywidgets']. Run `pip install -U ipywidgets`, then restart the notebook server for rich notebook output.\n"
     ]
    }
   ],
   "source": [
    "import pandas as pd\n",
    "import numpy as np\n",
    "import matplotlib.pyplot as plt\n",
    "import seaborn as sns\n",
    "from sklearn.preprocessing import MinMaxScaler, StandardScaler\n",
    "from sklearn.metrics import mean_absolute_error, mean_squared_error\n",
    "\n",
    "from neuralforecast.models import NBEATSx\n",
    "from neuralforecast.core import NeuralForecast\n",
    "from neuralforecast.losses.pytorch import SMAPE"
   ]
  },
  {
   "cell_type": "markdown",
   "metadata": {},
   "source": [
    "## Load Dataset"
   ]
  },
  {
   "cell_type": "code",
   "execution_count": 2,
   "metadata": {},
   "outputs": [],
   "source": [
    "# Load Dataset\n",
    "df = pd.read_csv(\"../../Data/Train/train1990s.csv\")\n",
    "df['ds'] = pd.to_datetime(df['observation_date'], format=\"%m/%Y\")\n",
    "df['unique_id'] = 'inflation'\n",
    "df = df.rename(columns={\"fred_PCEPI\": \"y\"})\n",
    "df['y_original'] = df['y']"
   ]
  },
  {
   "cell_type": "markdown",
   "metadata": {},
   "source": [
    "## Feature Enginnering"
   ]
  },
  {
   "cell_type": "markdown",
   "metadata": {},
   "source": [
    "- **Feature Engineering**:  \n",
    "  New features were created to capture seasonality, lag effects, and momentum:\n",
    "  - `month`: Extracted from the datetime.\n",
    "  - `sin_1`, `cos_1`: Fourier features to model cyclic patterns.\n",
    "  - `y_lag_1`: Previous time step of the target variable.\n",
    "  - `y_pct_change`: First-order percentage change.\n",
    "  - `y_momentum`: Second-order difference to capture momentum.\n"
   ]
  },
  {
   "cell_type": "code",
   "execution_count": 3,
   "metadata": {},
   "outputs": [],
   "source": [
    "# Feature Engineering\n",
    "df[\"month\"] = df[\"ds\"].dt.month\n",
    "df[\"sin_1\"] = np.sin(2 * np.pi * df[\"month\"] / 12)\n",
    "df[\"cos_1\"] = np.cos(2 * np.pi * df[\"month\"] / 12)\n",
    "df[\"y_lag_1\"] = df[\"y_original\"].shift(1)\n",
    "df[\"y_pct_change\"] = df[\"y_original\"].pct_change()\n",
    "df[\"y_momentum\"] = df[\"y_pct_change\"].diff()\n",
    "df = df.dropna()"
   ]
  },
  {
   "cell_type": "markdown",
   "metadata": {},
   "source": [
    "- **Feature Selection**:  \n",
    "  Features with absolute correlation > 0.4 with the normalized target (`y`) were selected based on a correlation matrix.\n"
   ]
  },
  {
   "cell_type": "code",
   "execution_count": 4,
   "metadata": {},
   "outputs": [],
   "source": [
    "# Feature Selection (|r| > 0.4)\n",
    "exclude = ['observation_date', 'ds', 'unique_id', 'y', 'y_original']\n",
    "exog_features = [col for col in df.columns if col not in exclude]\n",
    "cor_matrix = df[exog_features + ['y']].corr()\n",
    "selected_features = cor_matrix['y'].drop('y').loc[lambda x: x.abs() > 0.4].index.tolist()"
   ]
  },
  {
   "cell_type": "markdown",
   "metadata": {},
   "source": [
    "\n",
    "- **Normalization**:  \n",
    "  - Selected features were scaled using `StandardScaler` (mean = 0, std = 1).\n",
    "  - The target variable `y` was scaled using `MinMaxScaler` (range 0 to 1) to stabilize training."
   ]
  },
  {
   "cell_type": "code",
   "execution_count": 5,
   "metadata": {},
   "outputs": [],
   "source": [
    "# Normalize\n",
    "x_scaler = StandardScaler()\n",
    "df[selected_features] = x_scaler.fit_transform(df[selected_features])\n",
    "\n",
    "y_scaler = MinMaxScaler()\n",
    "df[\"y\"] = y_scaler.fit_transform(df[[\"y\"]])\n",
    "\n",
    "df_model = df[['unique_id', 'ds', 'y'] + selected_features]\n",
    "df_targets = df[['unique_id', 'ds', 'y_original']]"
   ]
  },
  {
   "cell_type": "markdown",
   "metadata": {},
   "source": [
    "## Define Model\n",
    "\n",
    "- **Model Architecture**: Used the `NBEATSx` model from the `NeuralForecast` library.\n",
    "- **Forecast Horizon**: Set to predict the next 6 months (`h=6`).\n",
    "- **Input Window**: Uses 48 months of historical data (`input_size=48`).\n",
    "- **Training Configuration**:\n",
    "  - `max_steps=500`: Trains for 500 steps.\n",
    "  - `val_check_steps=100`: Checks validation loss every 100 steps.\n",
    "  - `dropout_prob_theta=0.3`: Regularization to prevent overfitting.\n",
    "  - `learning_rate=5e-4`: Learning rate for the optimizer.\n",
    "  - `stack_types=[\"trend\", \"seasonality\"]`: Captures both long-term and seasonal patterns.\n",
    "  - `n_blocks=[2, 2]`: Two blocks for each stack type.\n",
    "\n",
    "- **Exogenous Features**: Historical exogenous variables (`hist_exog_list`) selected during feature engineering are used.\n",
    "- **Loss Function**: Symmetric Mean Absolute Percentage Error (`SMAPE`) to evaluate forecasting accuracy.\n",
    "- **Scaler Type**: Internal scaling set to `'robust'` for stability.\n",
    "- **Reproducibility**: `random_seed=42` ensures consistent results across runs.\n"
   ]
  },
  {
   "cell_type": "code",
   "execution_count": 6,
   "metadata": {},
   "outputs": [
    {
     "name": "stderr",
     "output_type": "stream",
     "text": [
      "Seed set to 42\n"
     ]
    }
   ],
   "source": [
    "# Define N-BEATSx Model\n",
    "HORIZON = 6\n",
    "model = NeuralForecast(\n",
    "    models=[\n",
    "        NBEATSx(\n",
    "            h=HORIZON,\n",
    "            input_size=48,\n",
    "            max_steps=500,\n",
    "            val_check_steps=100,\n",
    "            learning_rate=5e-4,\n",
    "            n_blocks=[2, 2],\n",
    "            dropout_prob_theta=0.3,\n",
    "            stack_types=[\"trend\", \"seasonality\"],\n",
    "            hist_exog_list=selected_features,\n",
    "            scaler_type=\"robust\",\n",
    "            loss=SMAPE(),\n",
    "            random_seed=42\n",
    "        )\n",
    "    ],\n",
    "    freq=\"M\"\n",
    ")"
   ]
  },
  {
   "cell_type": "markdown",
   "metadata": {},
   "source": [
    "## Train/Val via Cross-Validation"
   ]
  },
  {
   "cell_type": "code",
   "execution_count": 7,
   "metadata": {},
   "outputs": [
    {
     "name": "stderr",
     "output_type": "stream",
     "text": [
      "GPU available: False, used: False\n",
      "TPU available: False, using: 0 TPU cores\n",
      "HPU available: False, using: 0 HPUs\n",
      "2025-03-24 22:03:00.471770: I tensorflow/core/platform/cpu_feature_guard.cc:210] This TensorFlow binary is optimized to use available CPU instructions in performance-critical operations.\n",
      "To enable the following instructions: AVX2 FMA, in other operations, rebuild TensorFlow with the appropriate compiler flags.\n",
      "\n",
      "  | Name         | Type          | Params | Mode \n",
      "-------------------------------------------------------\n",
      "0 | loss         | SMAPE         | 0      | train\n",
      "1 | padder_train | ConstantPad1d | 0      | train\n",
      "2 | scaler       | TemporalNorm  | 0      | train\n",
      "3 | blocks       | ModuleList    | 16.9 M | train\n",
      "-------------------------------------------------------\n",
      "16.9 M    Trainable params\n",
      "1.4 K     Non-trainable params\n",
      "16.9 M    Total params\n",
      "67.778    Total estimated model params size (MB)\n",
      "52        Modules in train mode\n",
      "0         Modules in eval mode\n"
     ]
    },
    {
     "name": "stdout",
     "output_type": "stream",
     "text": [
      "Epoch 499: 100%|██████████| 1/1 [00:01<00:00,  0.56it/s, v_num=0, train_loss_step=0.0185, train_loss_epoch=0.0185]"
     ]
    },
    {
     "name": "stderr",
     "output_type": "stream",
     "text": [
      "`Trainer.fit` stopped: `max_steps=500` reached.\n"
     ]
    },
    {
     "name": "stdout",
     "output_type": "stream",
     "text": [
      "Epoch 499: 100%|██████████| 1/1 [00:01<00:00,  0.55it/s, v_num=0, train_loss_step=0.0185, train_loss_epoch=0.0185]\n"
     ]
    },
    {
     "name": "stderr",
     "output_type": "stream",
     "text": [
      "GPU available: False, used: False\n",
      "TPU available: False, using: 0 TPU cores\n",
      "HPU available: False, using: 0 HPUs\n"
     ]
    },
    {
     "name": "stdout",
     "output_type": "stream",
     "text": [
      "Predicting DataLoader 0: 100%|██████████| 1/1 [00:00<00:00, 18.08it/s]\n"
     ]
    }
   ],
   "source": [
    "# Train/Val via Cross-Validation\n",
    "df_cv = model.cross_validation(\n",
    "    df=df_model,\n",
    "    n_windows=10,\n",
    "    step_size=HORIZON\n",
    ")"
   ]
  },
  {
   "cell_type": "markdown",
   "metadata": {},
   "source": [
    "## Evaluation"
   ]
  },
  {
   "cell_type": "code",
   "execution_count": 8,
   "metadata": {},
   "outputs": [
    {
     "name": "stdout",
     "output_type": "stream",
     "text": [
      "Cross-Validation MAE: 0.3085\n",
      "Cross-Validation RMSE: 0.3870\n"
     ]
    },
    {
     "data": {
      "image/png": "[encoded data removed]",
      "text/plain": [
       "<Figure size 1200x500 with 1 Axes>"
      ]
     },
     "metadata": {},
     "output_type": "display_data"
    }
   ],
   "source": [
    "# ===============================\n",
    "# Evaluation\n",
    "# ===============================\n",
    "merged = df_cv.merge(df_targets, on=[\"unique_id\", \"ds\"], how=\"left\")\n",
    "merged = merged.dropna(subset=[\"y_original\", \"NBEATSx\"])\n",
    "\n",
    "y_true = merged[\"y_original\"].values.reshape(-1, 1)\n",
    "y_pred = y_scaler.inverse_transform(merged[[\"NBEATSx\"]])\n",
    "\n",
    "mae = mean_absolute_error(y_true, y_pred)\n",
    "rmse = np.sqrt(mean_squared_error(y_true, y_pred))\n",
    "\n",
    "print(f\"Cross-Validation MAE: {mae:.4f}\")\n",
    "print(f\"Cross-Validation RMSE: {rmse:.4f}\")\n",
    "\n",
    "# ===============================\n",
    "# Plot\n",
    "# ===============================\n",
    "merged[\"y_inv\"] = y_true\n",
    "merged[\"pred_inv\"] = y_pred\n",
    "\n",
    "plt.figure(figsize=(12, 5))\n",
    "sns.lineplot(data=merged, x=\"ds\", y=\"y_inv\", label=\"Actual Inflation\", color=\"black\")\n",
    "sns.lineplot(data=merged, x=\"ds\", y=\"pred_inv\", label=\"Predicted Inflation\", linestyle=\"--\", color=\"blue\")\n",
    "plt.title(\"N-BEATSx Forecast (Fourier + Lag + Momentum + Exogenous)\")\n",
    "plt.xlabel(\"Date\")\n",
    "plt.ylabel(\"Inflation\")\n",
    "plt.grid(True)\n",
    "plt.tight_layout()\n",
    "plt.legend()\n",
    "plt.show()\n"
   ]
  },
  {
   "cell_type": "markdown",
   "metadata": {},
   "source": [
    "## Model Saving"
   ]
  },
  {
   "cell_type": "code",
   "execution_count": 60,
   "metadata": {},
   "outputs": [
    {
     "name": "stdout",
     "output_type": "stream",
     "text": [
      "Model saved to nbeatsx_model_exogenous.pkl\n"
     ]
    }
   ],
   "source": [
    "import joblib\n",
    "import os\n",
    "\n",
    "# Save the trained NeuralForecast object (includes NBEATSx)\n",
    "joblib.dump(model, \"nbeatsx_model_exogenous.pkl\")\n",
    "print(\"Model saved to nbeatsx_model_exogenous.pkl\")\n"
   ]
  },
  {
   "cell_type": "markdown",
   "metadata": {},
   "source": [
    "## Download N-BEATSx Models\n",
    "\n",
    "To avoid GitHub’s file size limits, the trained N-BEATSx models are hosted on OneDrive.\n",
    "\n",
    "- [nbeatsx_model_exogenous.pkl (61.4 MB)](https://leeds365-my.sharepoint.com/:u:/g/personal/sc21ar_leeds_ac_uk/ESwuoWdMcsRJu_J0uJn2cyYBK_2ciWF9AS2xYSm-tSaDdQ?e=d0G2fM)\n",
    "\n",
    "After downloading, place them in your local `Training/N-BEATSx/` folder and load like this:\n"
   ]
  },
  {
   "cell_type": "code",
   "execution_count": null,
   "metadata": {},
   "outputs": [],
   "source": [
    "# To load it:\n",
    "from neuralforecast.models import NBEATSx\n",
    "from neuralforecast.core import NeuralForecast\n",
    "from neuralforecast.losses.pytorch import SMAPE\n",
    "\n",
    "# Load model\n",
    "loaded_nbeatsx = NBEATSx.load_from_checkpoint(\"nbeatsx_model_exogenous.pkl\")\n",
    "restored_model = NeuralForecast(models=[loaded_nbeatsx], freq=\"M\")"
   ]
  },
  {
   "cell_type": "markdown",
   "metadata": {},
   "source": [
    "## **Comparison of N-BEATSx Implementations**\n",
    "\n",
    "| Model ID | Name | Description |\n",
    "|----------|------|-------------|\n",
    "| **Model 1** | `N-BEATSx (Manual PyTorch)` | Custom architecture using FFT and PCA in PyTorch |\n",
    "| **Model 2** | `Nixtla N-BEATSx (Basic)` | Nixtla version with Fourier + Lag + Rolling (no momentum/EMA) |\n",
    "| **Model 3** | `Nixtla N-BEATSx (Full Feature Heavy)` | All features (Fourier, Lag, EMA, Momentum, Rolling, etc.) |\n",
    "| **Model 4** | `Nixtla N-BEATSx (Optimized)` | Balanced features + momentum + selected exogenous (best performing) |\n",
    "\n",
    "### 1. **Exploratory Data Analysis (EDA) and Preprocessing**\n",
    "\n",
    "| Component | Model 1: PyTorch | Model 2: Nixtla Basic | Model 3: Nixtla Heavy | Model 4: Nixtla Optimized |\n",
    "|----------|------------------|------------------|------------------|------------------|\n",
    "| **Dataset Used** | `train1990s.csv` | `train1990s.csv` | `train1990s.csv` | `train1990s.csv` |\n",
    "| **Target Variable** | `fred_PCEPI` | Renamed to `y` | Renamed to `y` | Renamed to `y` |\n",
    "| **Train/Val Split** | Manual (60-20-20) | Auto CV | Auto CV | Auto CV |\n",
    "| **Missing Values** | Dropped post-engineering | Dropped after rolling/lag | Dropped after full pipeline | Dropped after basic engineering |\n",
    "\n",
    "### 2. **Feature Engineering**\n",
    "\n",
    "| Feature | Model 1: PyTorch | Model 2: Nixtla Basic | Model 3: Nixtla Heavy | Model 4: Nixtla Optimized |\n",
    "|--------|------------------|------------------------|-----------------------|------------------------|\n",
    "| **Fourier** | FFT (log real/imag) | sin/cos (3 harmonics) | sin/cos (3 harmonics) | sin/cos (1 harmonic) |\n",
    "| **Lag** | Implicit via sequence | Lag 1, 6, 12 | Lag 1, 6, 12, 24 | Lag 1 |\n",
    "| **Rolling** | NO | Mean/Std (3) | Mean/Std (3,6,12), skew/kurt | Mean (6) only |\n",
    "| **Momentum** | Manual momentum + pct change | Included | Included | Included |\n",
    "| **EMA** | NO | NO | EMA-3, EMA-12 | NO |\n",
    "| **PCA** | YES (5 comps) | NO | NO | NO |\n",
    "| **Other** | Gaussian Smoothing | Raw Input | Full statistical features | Clean, interpretable design |\n",
    "\n",
    "### 3. **Scaling & Normalization**\n",
    "\n",
    "| Component | Model 1: PyTorch | Model 2: Nixtla Basic | Model 3: Nixtla Heavy | Model 4: Nixtla Optimized |\n",
    "|-----------|---------|---------|---------|---------|\n",
    "| **Target (`y`)** | MinMax | Standard | Standard | MinMax |\n",
    "| **Exogenous** | Standard + PCA | Standard | Standard | Standard |\n",
    "| **Output Inversion** | YES | YES | YES | YES |\n",
    "\n",
    "### 4. **Model Architecture & Training**\n",
    "\n",
    "| Component | Model 1: PyTorch | Model 2: Nixtla Basic | Model 3: Nixtla Heavy | Model 4: Nixtla Optimized |\n",
    "|-----------|------------------|------------------------|------------------------|----------------------------|\n",
    "| **Framework** | PyTorch (Manual) | NeuralForecast | NeuralForecast | NeuralForecast |\n",
    "| **Exog Usage** | Historical (past only) | Future (`futr_exog_list`) | Future (`futr_exog_list`) | Historical (`hist_exog_list`) |\n",
    "| **Stack Types** | Custom Blocks | `trend`, `seasonality` | `trend`, `seasonality`, `identity` | `trend`, `seasonality` |\n",
    "| **Dropout** | 0.2 | 0.3 | 0.2 | 0.3 |\n",
    "| **Loss** | HuberLoss | MSE | SMAPE | SMAPE |\n",
    "| **Steps/Epochs** | 100 epochs | 100 steps | 500 steps | 500 steps |\n",
    "| **Learning Rate** | 1e-3 | 5e-4 | 2e-4 | 5e-4 |\n",
    "\n",
    "### 5. **Evaluation & Metrics**\n",
    "\n",
    "| Metric | Model 1: PyTorch | Model 2: Nixtla Basic | Model 3: Nixtla Heavy | **Model 4: Nixtla Optimized** |\n",
    "|--------|---------|---------|---------|----------------|\n",
    "| **MAE** | — | — | **1.1150** | **0.3002** |\n",
    "| **RMSE** | ~3.2 visually | **0.5103** | 1.5985 | **0.3752** |\n",
    "| **Smoothing** | Gaussian (custom) | None | None | None |\n",
    "| **Evaluation Style** | Manual test split | CV (4-fold) | CV (4-fold) | CV (4-fold) |\n",
    "\n",
    "### 6. **Unique Characteristics**\n",
    "\n",
    "| Feature | Model 1: PyTorch | Model 2: Nixtla Basic | Model 3: Nixtla Heavy | Model 4: Nixtla Optimized |\n",
    "|--------|---------|---------|---------|---------|\n",
    "| **Custom Architecture** | Fully manual | NO | NO | NO |\n",
    "| **FFT (real+imag)** | YES | NO | NO | NO |\n",
    "| **PCA on Exog** | YES | NO | NO | NO |\n",
    "| **Best Performance** | NO | NO | NO | YES |\n",
    "\n",
    "### **Final Verdict: Use Model 4: Nixtla Optimized**\n",
    "\n",
    "- **Best RMSE & MAE**\n",
    "- **Simplest + most effective feature set**\n",
    "- **Well-behaved predictions (less variance)**\n",
    "- **Balanced feature engineering without overfitting**"
   ]
  },
  {
   "cell_type": "markdown",
   "metadata": {},
   "source": [
    "## Adjustments for 12-Month Forecast & Evaluation along with standardization"
   ]
  },
  {
   "cell_type": "code",
   "execution_count": 1,
   "metadata": {},
   "outputs": [],
   "source": [
    "import sys\n",
    "import os\n",
    "sys.path.append(os.path.abspath(os.path.join(\"..\", \"..\")))  # adds root of the project"
   ]
  },
  {
   "cell_type": "code",
   "execution_count": 2,
   "metadata": {},
   "outputs": [
    {
     "name": "stderr",
     "output_type": "stream",
     "text": [
      "/Library/Frameworks/Python.framework/Versions/3.11/lib/python3.11/site-packages/tqdm/auto.py:21: TqdmWarning: IProgress not found. Please update jupyter and ipywidgets. See https://ipywidgets.readthedocs.io/en/stable/user_install.html\n",
      "  from .autonotebook import tqdm as notebook_tqdm\n",
      "2025-03-31 01:31:04,848\tINFO util.py:154 -- Missing packages: ['ipywidgets']. Run `pip install -U ipywidgets`, then restart the notebook server for rich notebook output.\n",
      "2025-03-31 01:31:05,072\tINFO util.py:154 -- Missing packages: ['ipywidgets']. Run `pip install -U ipywidgets`, then restart the notebook server for rich notebook output.\n"
     ]
    }
   ],
   "source": [
    "import pandas as pd\n",
    "import numpy as np\n",
    "import os\n",
    "\n",
    "from sklearn.preprocessing import StandardScaler, MinMaxScaler\n",
    "from neuralforecast.models import NBEATSx\n",
    "from neuralforecast.core import NeuralForecast\n",
    "from neuralforecast.losses.pytorch import SMAPE\n",
    "\n",
    "from Training.Helper.dataPreprocessing import (\n",
    "    add_time_features,\n",
    "    add_lagged_features,\n",
    "    add_rolling_features,\n",
    "    rank_features_ccf,\n",
    "    sklearn_fit_transform,\n",
    "    integer_index,\n",
    "    TRAIN_DATA_PATH_1990S\n",
    ")\n",
    "\n",
    "# CONFIGURATION\n",
    "HORIZON = 12\n",
    "INPUT_SIZE = 96\n",
    "DATA_PATH = TRAIN_DATA_PATH_1990S\n",
    "PRED_SAVE_PATH = os.path.join(\"..\", \"..\", \"Predictions\", \"NBEATSx.npy\")"
   ]
  },
  {
   "cell_type": "markdown",
   "metadata": {},
   "source": [
    "## Load and Preprocess data"
   ]
  },
  {
   "cell_type": "code",
   "execution_count": 3,
   "metadata": {},
   "outputs": [],
   "source": [
    "# LOAD & PREPROCESS DATA\n",
    "df = pd.read_csv(DATA_PATH)\n",
    "df[\"ds\"] = pd.to_datetime(df[\"observation_date\"], format=\"%m/%Y\")\n",
    "df = df.rename(columns={\"fred_PCEPI\": \"y_original\"})\n",
    "df[\"unique_id\"] = \"inflation\""
   ]
  },
  {
   "cell_type": "code",
   "execution_count": 4,
   "metadata": {},
   "outputs": [
    {
     "name": "stderr",
     "output_type": "stream",
     "text": [
      "2025-03-31 01:31:05,982 - INFO - Added time features: year, month, quarter. DataFrame shape: (408, 364)\n"
     ]
    }
   ],
   "source": [
    "# TIME + FOURIER FEATURES\n",
    "df = add_time_features(df, date_col=\"ds\")\n",
    "for k in [1, 2, 3, 4]:\n",
    "    df[f\"sin_{k}\"] = np.sin(2 * np.pi * k * df[\"month\"] / 12)\n",
    "    df[f\"cos_{k}\"] = np.cos(2 * np.pi * k * df[\"month\"] / 12)"
   ]
  },
  {
   "cell_type": "code",
   "execution_count": 5,
   "metadata": {},
   "outputs": [],
   "source": [
    "# MOMENTUM + LAG + ROLLING \n",
    "df[\"pct_change\"] = df[\"y_original\"].pct_change()\n",
    "df[\"momentum\"] = df[\"pct_change\"].diff()\n",
    "df = add_lagged_features(df, [\"y_original\"], lags=[1, 6, 12, 24])\n",
    "df = add_rolling_features(df, \"y_original\", windows=[3, 6, 12])\n",
    "df[\"y_original_rolling_skew6\"] = df[\"y_original\"].rolling(6).skew()\n",
    "df[\"y_original_rolling_kurt6\"] = df[\"y_original\"].rolling(6).kurt()"
   ]
  },
  {
   "cell_type": "code",
   "execution_count": 6,
   "metadata": {},
   "outputs": [],
   "source": [
    "# Add rolling mean/std for important hist_exog features\n",
    "top_feats = [\"momentum\", \"y_original_lag1\", \"y_original_lag6\", \"y_original_rolling_mean6\"]\n",
    "for feat in top_feats:\n",
    "    df[f\"{feat}_roll_mean6\"] = df[feat].rolling(6).mean()\n",
    "    df[f\"{feat}_roll_std6\"] = df[feat].rolling(6).std()\n",
    "\n",
    "df.dropna(inplace=True)"
   ]
  },
  {
   "cell_type": "markdown",
   "metadata": {},
   "source": [
    "## Feature Selection"
   ]
  },
  {
   "cell_type": "code",
   "execution_count": 7,
   "metadata": {},
   "outputs": [
    {
     "name": "stdout",
     "output_type": "stream",
     "text": [
      "Selected top 25 features using CCF ranking\n",
      "Future Exogs: []\n",
      "Historical Exogs: ['y_original_lag6', 'y_original_lag1', 'y_original_lag12', 'y_original_rolling_mean3', 'y_original_rolling_mean6_roll_mean6', 'y_original_lag6_roll_mean6', 'fred_PCUOMFGOMFG_LOG', 'fred_PCUOMFGOMFG', 'y_original_lag1_roll_mean6', 'y_original_rolling_mean6', 'fred_PPIACO', 'fred_APU000074714', 'fred_PPIACO_LOG', 'fred_APU000074714_LOG', 'y_original_rolling_mean12', 'momentum', 'BrentOil_Open', 'CrudeOilWTI_Open', 'fred_APU000074714_CH1', 'CMO-Historical-Data-Monthly_Total_Index', 'BrentOil_High', 'CMO-Historical-Data-Monthly_Energy', 'CrudeOilWTI_High', 'fred_DCOILWTICO', 'fred_APU000074714_PC1']\n"
     ]
    }
   ],
   "source": [
    "# FEATURE SELECTION\n",
    "exog_df = df.drop(columns=[\"observation_date\", \"ds\", \"unique_id\", \"y_original\"])\n",
    "exog_df[\"fred_PCEPI\"] = df[\"y_original\"]\n",
    "selected_features = rank_features_ccf(exog_df, targetCol=\"fred_PCEPI\")[:25]\n",
    "\n",
    "# CLASSIFY EXOG FEATURES\n",
    "futr_exog = [f for f in selected_features if \"sin\" in f or \"cos\" in f]\n",
    "hist_exog = [f for f in selected_features if f not in futr_exog]\n",
    "print(f\"Selected top 25 features using CCF ranking\\nFuture Exogs: {futr_exog}\\nHistorical Exogs: {hist_exog}\")"
   ]
  },
  {
   "cell_type": "markdown",
   "metadata": {},
   "source": [
    "Since Future Exogs is empty we will not be using it"
   ]
  },
  {
   "cell_type": "code",
   "execution_count": 8,
   "metadata": {},
   "outputs": [],
   "source": [
    "# SCALE EXOGENOUS FEATURES\n",
    "x_transformed_list, x_scaler = sklearn_fit_transform(df[selected_features], StandardScaler())\n",
    "df[selected_features] = x_transformed_list[0]"
   ]
  },
  {
   "cell_type": "markdown",
   "metadata": {},
   "source": [
    "#### Log Transformation and Normalization of Target Variable\n",
    "\n",
    "Before feeding the target variable (`fred_PCEPI`, renamed to `y_original`) into the model, I applied two key preprocessing steps:\n",
    "\n",
    "- The **log transformation** helps stabilize the variance and makes exponential growth trends more linear.\n",
    "- This is especially useful in economic time series like inflation, which often grows multiplicatively over time.\n",
    "\n",
    "#### Min-Max Normalization\n",
    "- After log-transforming, I **normalized** the values to a [0, 1] range using `MinMaxScaler`.\n",
    "- This ensures the model trains stably and learns more efficiently by reducing the impact of scale.\n",
    "\n",
    "#### Reverting Transformation After Prediction\n",
    "Later, when to make predictions, I **reversed both transformations** to interpret the forecast in the original units:\n",
    "- `inverse_transform` reverses Min-Max scaling.\n",
    "- `np.exp` undoes the log transformation.\n",
    "This ensures the final predictions are directly comparable to real-world inflation values. "
   ]
  },
  {
   "cell_type": "code",
   "execution_count": 9,
   "metadata": {},
   "outputs": [],
   "source": [
    "# LOG + NORMALIZE TARGET\n",
    "df[\"y_log\"] = np.log(df[\"y_original\"])\n",
    "df[\"y\"] = df[\"y_log\"]\n",
    "y_transformed_list, y_scaler = sklearn_fit_transform(df[[\"y\"]], MinMaxScaler())\n",
    "df[\"y\"] = y_transformed_list[0].iloc[:, 0]"
   ]
  },
  {
   "cell_type": "code",
   "execution_count": 10,
   "metadata": {},
   "outputs": [],
   "source": [
    "# FINAL MODEL DATAFRAME\n",
    "valid_features = [f for f in selected_features if f in df.columns]\n",
    "df_model = df[[\"unique_id\", \"ds\", \"y\"] + valid_features]\n",
    "df_model = integer_index(df_model)"
   ]
  },
  {
   "cell_type": "markdown",
   "metadata": {},
   "source": [
    "## Train/Val split"
   ]
  },
  {
   "cell_type": "code",
   "execution_count": 11,
   "metadata": {},
   "outputs": [
    {
     "name": "stdout",
     "output_type": "stream",
     "text": [
      "Split data → Train: 372, Val: 96\n"
     ]
    }
   ],
   "source": [
    "# TRAIN/VAL SPLIT\n",
    "train_df = df_model.iloc[:-HORIZON]\n",
    "val_df = df_model.iloc[-INPUT_SIZE:]\n",
    "print(f\"Split data → Train: {len(train_df)}, Val: {len(val_df)}\")"
   ]
  },
  {
   "cell_type": "markdown",
   "metadata": {},
   "source": [
    "## Defining model\n",
    "\n",
    "| Parameter             | Description |\n",
    "|----------------------|-------------|\n",
    "| `h`                  | Forecast horizon (set to 12 for 12-month forecasts). |\n",
    "| `input_size`         | Length of the historical window the model looks back on. |\n",
    "| `max_steps`          | Maximum training steps. |\n",
    "| `val_check_steps`    | Frequency (in steps) to evaluate on validation set. |\n",
    "| `learning_rate`      | Step size for model weight updates during training. |\n",
    "| `dropout_prob_theta`| Regularization to prevent overfitting. |\n",
    "| `stack_types`        | Types of blocks used (trend, seasonality, identity) to model different components of the time series. |\n",
    "| `n_blocks`           | Number of blocks per stack type. |\n",
    "| `hist_exog_list`     | List of historical exogenous features selected using CCF and Granger causality. |\n",
    "| `scaler_type`        | Uses robust scaling for better numerical stability. |\n",
    "| `loss`               | SMAPE (Symmetric Mean Absolute Percentage Error), a scale-independent loss ideal for time series. |\n",
    "| `freq`               | Set to `\"M\"` to indicate monthly data. |\n",
    "| `random_seed`        | For reproducibility. |"
   ]
  },
  {
   "cell_type": "code",
   "execution_count": 12,
   "metadata": {},
   "outputs": [
    {
     "name": "stderr",
     "output_type": "stream",
     "text": [
      "Seed set to 42\n"
     ]
    }
   ],
   "source": [
    "# DEFINE MODEL\n",
    "model = NeuralForecast(\n",
    "    models=[\n",
    "        NBEATSx(\n",
    "            h=HORIZON,\n",
    "            input_size=INPUT_SIZE,\n",
    "            max_steps=500,\n",
    "            val_check_steps=250,\n",
    "            learning_rate=3e-4,\n",
    "            dropout_prob_theta=0.3,\n",
    "            stack_types=[\"trend\", \"seasonality\", \"identity\"],\n",
    "            n_blocks=[4, 4, 4],\n",
    "            hist_exog_list=[f for f in hist_exog if f in df_model.columns],\n",
    "            scaler_type=\"robust\",\n",
    "            loss=SMAPE(),\n",
    "            random_seed=42\n",
    "        )\n",
    "    ],\n",
    "    freq=\"M\"\n",
    ")"
   ]
  },
  {
   "cell_type": "code",
   "execution_count": 13,
   "metadata": {},
   "outputs": [
    {
     "name": "stderr",
     "output_type": "stream",
     "text": [
      "GPU available: False, used: False\n",
      "TPU available: False, using: 0 TPU cores\n",
      "HPU available: False, using: 0 HPUs\n",
      "2025-03-31 01:31:27.124939: I tensorflow/core/platform/cpu_feature_guard.cc:210] This TensorFlow binary is optimized to use available CPU instructions in performance-critical operations.\n",
      "To enable the following instructions: AVX2 FMA, in other operations, rebuild TensorFlow with the appropriate compiler flags.\n",
      "\n",
      "  | Name         | Type          | Params | Mode \n",
      "-------------------------------------------------------\n",
      "0 | loss         | SMAPE         | 0      | train\n",
      "1 | padder_train | ConstantPad1d | 0      | train\n",
      "2 | scaler       | TemporalNorm  | 0      | train\n",
      "3 | blocks       | ModuleList    | 25.1 M | train\n",
      "-------------------------------------------------------\n",
      "25.1 M    Trainable params\n",
      "10.8 K    Non-trainable params\n",
      "25.1 M    Total params\n",
      "100.529   Total estimated model params size (MB)\n",
      "148       Modules in train mode\n",
      "0         Modules in eval mode\n"
     ]
    },
    {
     "name": "stdout",
     "output_type": "stream",
     "text": [
      "Epoch 499: 100%|██████████| 1/1 [00:01<00:00,  0.65it/s, v_num=16, train_loss_step=0.00991, train_loss_epoch=0.00991]"
     ]
    },
    {
     "name": "stderr",
     "output_type": "stream",
     "text": [
      "`Trainer.fit` stopped: `max_steps=500` reached.\n"
     ]
    },
    {
     "name": "stdout",
     "output_type": "stream",
     "text": [
      "Epoch 499: 100%|██████████| 1/1 [00:01<00:00,  0.65it/s, v_num=16, train_loss_step=0.00991, train_loss_epoch=0.00991]\n"
     ]
    }
   ],
   "source": [
    "# TRAIN MODEL\n",
    "model.fit(df=train_df)"
   ]
  },
  {
   "cell_type": "markdown",
   "metadata": {},
   "source": [
    "## Saving model based on 12 month prediction evaluation"
   ]
  },
  {
   "cell_type": "code",
   "execution_count": 14,
   "metadata": {},
   "outputs": [
    {
     "name": "stderr",
     "output_type": "stream",
     "text": [
      "/Library/Frameworks/Python.framework/Versions/3.11/lib/python3.11/site-packages/utilsforecast/processing.py:384: FutureWarning: 'M' is deprecated and will be removed in a future version, please use 'ME' instead.\n",
      "  freq = pd.tseries.frequencies.to_offset(freq)\n",
      "/Library/Frameworks/Python.framework/Versions/3.11/lib/python3.11/site-packages/utilsforecast/processing.py:440: FutureWarning: 'M' is deprecated and will be removed in a future version, please use 'ME' instead.\n",
      "  freq = pd.tseries.frequencies.to_offset(freq)\n",
      "GPU available: False, used: False\n",
      "TPU available: False, using: 0 TPU cores\n",
      "HPU available: False, using: 0 HPUs\n"
     ]
    },
    {
     "name": "stdout",
     "output_type": "stream",
     "text": [
      "Predicting DataLoader 0: 100%|██████████| 1/1 [00:00<00:00, 42.29it/s]\n",
      "\n",
      "Saved N-BEATSx 12-month forecast to: ../../Predictions/NBEATSx.npy\n"
     ]
    }
   ],
   "source": [
    "# FORECAST\n",
    "forecast_df = model.predict(df=val_df)\n",
    "y_pred_scaled = forecast_df[\"NBEATSx\"].values.reshape(-1, 1)\n",
    "y_pred_log = y_scaler.inverse_transform(y_pred_scaled).flatten()\n",
    "y_pred = np.exp(y_pred_log)\n",
    "\n",
    "# SAVE\n",
    "np.save(PRED_SAVE_PATH, y_pred[:HORIZON])\n",
    "print(f\"\\nSaved N-BEATSx 12-month forecast to: {PRED_SAVE_PATH}\")"
   ]
  },
  {
   "cell_type": "markdown",
   "metadata": {},
   "source": [
    "## TRANSFORMED AND UNTRANSFORMED"
   ]
  },
  {
   "cell_type": "markdown",
   "metadata": {},
   "source": [
    "#### Why `get_untransformed_exog()` Should Not Be Used with N-BEATSx on `train1990s.csv`\n",
    "The helper function `get_untransformed_exog()` is meant to drop exogenous variables that match the pattern `fred_*_*`, which typically refers to **transformed versions** of FRED economic indicators. This can be helpful in some classical forecasting pipelines to avoid duplicated or redundant features.\n",
    "However, in the dataset `train1990s.csv`, **many of these `fred_*_*` columns are in fact important raw economic indicators**, not just transformed versions. These include variables such as:\n",
    "- `fred_PCUOMFGOMFG` (Producer Price Index)\n",
    "- `fred_PPIACO` (Producer Price Index: All Commodities)\n",
    "- `fred_DCOILWTICO` (Crude Oil Prices)\n",
    "These are **not duplicates** or engineered variables — they are core inputs reflecting macroeconomic conditions, which are crucial for time series models like **N-BEATSx** to learn trends, seasonality, and external shocks accurately.\n",
    "\n",
    "##### What Happens If I Use `get_untransformed_exog()`?\n",
    "If I apply this function:\n",
    "- Many of these vital `fred_*` columns get **mistakenly dropped**.\n",
    "- The resulting model input is stripped of rich economic context.\n",
    "- This leads to **poor predictive performance** (as seen in your recent evaluations — extreme RMSE and unstable forecasts).\n",
    "\n",
    "##### Why It Works for Some Models, But Not N-BEATSx\n",
    "For traditional models like ARDL, using `get_untransformed_exog()` makes sense when:\n",
    "- already added lagged or transformed versions of variables.\n",
    "- want to remove correlated duplicates or reduce dimensionality.\n",
    "But for deep learning models like **N-BEATSx** or **N-HiTS**, which:\n",
    "- Automatically learn complex nonlinear relationships,\n",
    "- Handle high-dimensional feature spaces robustly,\n",
    "...Removing them based solely on their naming convention can significantly weaken model performance, leading to poor predictions and unstable evaluation metrics.\n",
    "\n",
    "As part of model experimentation, I tested a version where `get_untransformed_exog()` was used before training the N-BEATSx model. Despite keeping the rest of the preprocessing and architecture the same:\n",
    "- The resulting predictions were heavily distorted.\n",
    "- Metrics like RMSE and R² were significantly worse than previous runs.\n",
    "- Visual inspection of forecast values showed that the model could no longer track inflation accurately.\n",
    "This clearly showed that removing these variables stripped away meaningful economic context, especially since N-BEATSx relies heavily on historical and exogenous features to identify long-term patterns.\n"
   ]
  },
  {
   "cell_type": "markdown",
   "metadata": {},
   "source": [
    "#### Note\n",
    "After experimenting training the model to 1990 as well as 2000 training data, trainign to 1990 was seen to perform better hence training to 2000 data was removed"
   ]
  },
  {
   "cell_type": "markdown",
   "metadata": {},
   "source": [
    "## Predicting for Horizon 1, 3, 6, 12"
   ]
  },
  {
   "cell_type": "code",
   "execution_count": 6,
   "metadata": {},
   "outputs": [
    {
     "name": "stderr",
     "output_type": "stream",
     "text": [
      "2025-04-28 16:11:06,719 - INFO - Added time features: year, month, quarter. DataFrame shape: (408, 364)\n",
      "2025-04-28 16:11:06,748 - INFO - Added lagged features with lags [1, 6, 12, 24] to target columns ['y_original']. DataFrame shape: (408, 378)\n",
      "2025-04-28 16:11:06,763 - INFO - Added rolling mean and standard deviation features to target column y_original. DataFrame shape: (408, 384)\n",
      "Seed set to 42\n"
     ]
    },
    {
     "name": "stdout",
     "output_type": "stream",
     "text": [
      "Split data → Train size: 372, Validation size: 12\n",
      "\n",
      "--- Training NBEATSx for Horizon=1 ---\n"
     ]
    },
    {
     "name": "stderr",
     "output_type": "stream",
     "text": [
      "GPU available: False, used: False\n",
      "TPU available: False, using: 0 TPU cores\n",
      "HPU available: False, using: 0 HPUs\n",
      "2025-04-28 16:11:52.018034: I tensorflow/core/platform/cpu_feature_guard.cc:210] This TensorFlow binary is optimized to use available CPU instructions in performance-critical operations.\n",
      "To enable the following instructions: AVX2 FMA, in other operations, rebuild TensorFlow with the appropriate compiler flags.\n",
      "\n",
      "  | Name         | Type          | Params | Mode \n",
      "-------------------------------------------------------\n",
      "0 | loss         | SMAPE         | 0      | train\n",
      "1 | padder_train | ConstantPad1d | 0      | train\n",
      "2 | scaler       | TemporalNorm  | 0      | train\n",
      "3 | blocks       | ModuleList    | 8.5 M  | train\n",
      "-------------------------------------------------------\n",
      "8.5 M     Trainable params\n",
      "0         Non-trainable params\n",
      "8.5 M     Total params\n",
      "33.859    Total estimated model params size (MB)\n",
      "52        Modules in train mode\n",
      "0         Modules in eval mode\n"
     ]
    },
    {
     "name": "stdout",
     "output_type": "stream",
     "text": [
      "Epoch 1999: 100%|██████████| 1/1 [00:00<00:00,  1.14it/s, v_num=0, train_loss_step=0.00168, train_loss_epoch=0.00168]"
     ]
    },
    {
     "name": "stderr",
     "output_type": "stream",
     "text": [
      "`Trainer.fit` stopped: `max_steps=2000` reached.\n"
     ]
    },
    {
     "name": "stdout",
     "output_type": "stream",
     "text": [
      "Epoch 1999: 100%|██████████| 1/1 [00:00<00:00,  1.13it/s, v_num=0, train_loss_step=0.00168, train_loss_epoch=0.00168]\n"
     ]
    },
    {
     "name": "stderr",
     "output_type": "stream",
     "text": [
      "/Library/Frameworks/Python.framework/Versions/3.11/lib/python3.11/site-packages/utilsforecast/processing.py:384: FutureWarning: 'M' is deprecated and will be removed in a future version, please use 'ME' instead.\n",
      "  freq = pd.tseries.frequencies.to_offset(freq)\n",
      "/Library/Frameworks/Python.framework/Versions/3.11/lib/python3.11/site-packages/utilsforecast/processing.py:440: FutureWarning: 'M' is deprecated and will be removed in a future version, please use 'ME' instead.\n",
      "  freq = pd.tseries.frequencies.to_offset(freq)\n",
      "GPU available: False, used: False\n",
      "TPU available: False, using: 0 TPU cores\n",
      "HPU available: False, using: 0 HPUs\n"
     ]
    },
    {
     "name": "stdout",
     "output_type": "stream",
     "text": [
      "Predicting DataLoader 0: 100%|██████████| 1/1 [00:00<00:00, 49.50it/s]"
     ]
    },
    {
     "name": "stderr",
     "output_type": "stream",
     "text": [
      "/Library/Frameworks/Python.framework/Versions/3.11/lib/python3.11/site-packages/utilsforecast/processing.py:384: FutureWarning: 'M' is deprecated and will be removed in a future version, please use 'ME' instead.\n",
      "  freq = pd.tseries.frequencies.to_offset(freq)\n",
      "/Library/Frameworks/Python.framework/Versions/3.11/lib/python3.11/site-packages/utilsforecast/processing.py:440: FutureWarning: 'M' is deprecated and will be removed in a future version, please use 'ME' instead.\n",
      "  freq = pd.tseries.frequencies.to_offset(freq)\n",
      "GPU available: False, used: False\n",
      "TPU available: False, using: 0 TPU cores\n",
      "HPU available: False, using: 0 HPUs\n"
     ]
    },
    {
     "name": "stdout",
     "output_type": "stream",
     "text": [
      "\n",
      "Predicting DataLoader 0: 100%|██████████| 1/1 [00:00<00:00, 55.57it/s]\n"
     ]
    },
    {
     "name": "stderr",
     "output_type": "stream",
     "text": [
      "/Library/Frameworks/Python.framework/Versions/3.11/lib/python3.11/site-packages/utilsforecast/processing.py:384: FutureWarning: 'M' is deprecated and will be removed in a future version, please use 'ME' instead.\n",
      "  freq = pd.tseries.frequencies.to_offset(freq)\n",
      "/Library/Frameworks/Python.framework/Versions/3.11/lib/python3.11/site-packages/utilsforecast/processing.py:440: FutureWarning: 'M' is deprecated and will be removed in a future version, please use 'ME' instead.\n",
      "  freq = pd.tseries.frequencies.to_offset(freq)\n",
      "GPU available: False, used: False\n",
      "TPU available: False, using: 0 TPU cores\n",
      "HPU available: False, using: 0 HPUs\n"
     ]
    },
    {
     "name": "stdout",
     "output_type": "stream",
     "text": [
      "Predicting DataLoader 0: 100%|██████████| 1/1 [00:00<00:00, 56.31it/s]\n"
     ]
    },
    {
     "name": "stderr",
     "output_type": "stream",
     "text": [
      "/Library/Frameworks/Python.framework/Versions/3.11/lib/python3.11/site-packages/utilsforecast/processing.py:384: FutureWarning: 'M' is deprecated and will be removed in a future version, please use 'ME' instead.\n",
      "  freq = pd.tseries.frequencies.to_offset(freq)\n",
      "/Library/Frameworks/Python.framework/Versions/3.11/lib/python3.11/site-packages/utilsforecast/processing.py:440: FutureWarning: 'M' is deprecated and will be removed in a future version, please use 'ME' instead.\n",
      "  freq = pd.tseries.frequencies.to_offset(freq)\n",
      "GPU available: False, used: False\n",
      "TPU available: False, using: 0 TPU cores\n",
      "HPU available: False, using: 0 HPUs\n"
     ]
    },
    {
     "name": "stdout",
     "output_type": "stream",
     "text": [
      "Predicting DataLoader 0: 100%|██████████| 1/1 [00:00<00:00, 49.29it/s]\n"
     ]
    },
    {
     "name": "stderr",
     "output_type": "stream",
     "text": [
      "/Library/Frameworks/Python.framework/Versions/3.11/lib/python3.11/site-packages/utilsforecast/processing.py:384: FutureWarning: 'M' is deprecated and will be removed in a future version, please use 'ME' instead.\n",
      "  freq = pd.tseries.frequencies.to_offset(freq)\n",
      "/Library/Frameworks/Python.framework/Versions/3.11/lib/python3.11/site-packages/utilsforecast/processing.py:440: FutureWarning: 'M' is deprecated and will be removed in a future version, please use 'ME' instead.\n",
      "  freq = pd.tseries.frequencies.to_offset(freq)\n",
      "GPU available: False, used: False\n",
      "TPU available: False, using: 0 TPU cores\n",
      "HPU available: False, using: 0 HPUs\n"
     ]
    },
    {
     "name": "stdout",
     "output_type": "stream",
     "text": [
      "Predicting DataLoader 0: 100%|██████████| 1/1 [00:00<00:00, 51.41it/s]\n"
     ]
    },
    {
     "name": "stderr",
     "output_type": "stream",
     "text": [
      "/Library/Frameworks/Python.framework/Versions/3.11/lib/python3.11/site-packages/utilsforecast/processing.py:384: FutureWarning: 'M' is deprecated and will be removed in a future version, please use 'ME' instead.\n",
      "  freq = pd.tseries.frequencies.to_offset(freq)\n",
      "/Library/Frameworks/Python.framework/Versions/3.11/lib/python3.11/site-packages/utilsforecast/processing.py:440: FutureWarning: 'M' is deprecated and will be removed in a future version, please use 'ME' instead.\n",
      "  freq = pd.tseries.frequencies.to_offset(freq)\n",
      "GPU available: False, used: False\n",
      "TPU available: False, using: 0 TPU cores\n",
      "HPU available: False, using: 0 HPUs\n"
     ]
    },
    {
     "name": "stdout",
     "output_type": "stream",
     "text": [
      "Predicting DataLoader 0: 100%|██████████| 1/1 [00:00<00:00, 60.44it/s]\n"
     ]
    },
    {
     "name": "stderr",
     "output_type": "stream",
     "text": [
      "/Library/Frameworks/Python.framework/Versions/3.11/lib/python3.11/site-packages/utilsforecast/processing.py:384: FutureWarning: 'M' is deprecated and will be removed in a future version, please use 'ME' instead.\n",
      "  freq = pd.tseries.frequencies.to_offset(freq)\n",
      "/Library/Frameworks/Python.framework/Versions/3.11/lib/python3.11/site-packages/utilsforecast/processing.py:440: FutureWarning: 'M' is deprecated and will be removed in a future version, please use 'ME' instead.\n",
      "  freq = pd.tseries.frequencies.to_offset(freq)\n",
      "GPU available: False, used: False\n",
      "TPU available: False, using: 0 TPU cores\n",
      "HPU available: False, using: 0 HPUs\n"
     ]
    },
    {
     "name": "stdout",
     "output_type": "stream",
     "text": [
      "Predicting DataLoader 0: 100%|██████████| 1/1 [00:00<00:00, 50.93it/s]\n"
     ]
    },
    {
     "name": "stderr",
     "output_type": "stream",
     "text": [
      "/Library/Frameworks/Python.framework/Versions/3.11/lib/python3.11/site-packages/utilsforecast/processing.py:384: FutureWarning: 'M' is deprecated and will be removed in a future version, please use 'ME' instead.\n",
      "  freq = pd.tseries.frequencies.to_offset(freq)\n",
      "/Library/Frameworks/Python.framework/Versions/3.11/lib/python3.11/site-packages/utilsforecast/processing.py:440: FutureWarning: 'M' is deprecated and will be removed in a future version, please use 'ME' instead.\n",
      "  freq = pd.tseries.frequencies.to_offset(freq)\n",
      "GPU available: False, used: False\n",
      "TPU available: False, using: 0 TPU cores\n",
      "HPU available: False, using: 0 HPUs\n"
     ]
    },
    {
     "name": "stdout",
     "output_type": "stream",
     "text": [
      "Predicting DataLoader 0: 100%|██████████| 1/1 [00:00<00:00, 49.18it/s]\n"
     ]
    },
    {
     "name": "stderr",
     "output_type": "stream",
     "text": [
      "/Library/Frameworks/Python.framework/Versions/3.11/lib/python3.11/site-packages/utilsforecast/processing.py:384: FutureWarning: 'M' is deprecated and will be removed in a future version, please use 'ME' instead.\n",
      "  freq = pd.tseries.frequencies.to_offset(freq)\n",
      "/Library/Frameworks/Python.framework/Versions/3.11/lib/python3.11/site-packages/utilsforecast/processing.py:440: FutureWarning: 'M' is deprecated and will be removed in a future version, please use 'ME' instead.\n",
      "  freq = pd.tseries.frequencies.to_offset(freq)\n",
      "GPU available: False, used: False\n",
      "TPU available: False, using: 0 TPU cores\n",
      "HPU available: False, using: 0 HPUs\n"
     ]
    },
    {
     "name": "stdout",
     "output_type": "stream",
     "text": [
      "Predicting DataLoader 0: 100%|██████████| 1/1 [00:00<00:00, 58.06it/s]\n"
     ]
    },
    {
     "name": "stderr",
     "output_type": "stream",
     "text": [
      "/Library/Frameworks/Python.framework/Versions/3.11/lib/python3.11/site-packages/utilsforecast/processing.py:384: FutureWarning: 'M' is deprecated and will be removed in a future version, please use 'ME' instead.\n",
      "  freq = pd.tseries.frequencies.to_offset(freq)\n",
      "/Library/Frameworks/Python.framework/Versions/3.11/lib/python3.11/site-packages/utilsforecast/processing.py:440: FutureWarning: 'M' is deprecated and will be removed in a future version, please use 'ME' instead.\n",
      "  freq = pd.tseries.frequencies.to_offset(freq)\n",
      "GPU available: False, used: False\n",
      "TPU available: False, using: 0 TPU cores\n",
      "HPU available: False, using: 0 HPUs\n"
     ]
    },
    {
     "name": "stdout",
     "output_type": "stream",
     "text": [
      "Predicting DataLoader 0: 100%|██████████| 1/1 [00:00<00:00, 53.92it/s]\n"
     ]
    },
    {
     "name": "stderr",
     "output_type": "stream",
     "text": [
      "/Library/Frameworks/Python.framework/Versions/3.11/lib/python3.11/site-packages/utilsforecast/processing.py:384: FutureWarning: 'M' is deprecated and will be removed in a future version, please use 'ME' instead.\n",
      "  freq = pd.tseries.frequencies.to_offset(freq)\n",
      "/Library/Frameworks/Python.framework/Versions/3.11/lib/python3.11/site-packages/utilsforecast/processing.py:440: FutureWarning: 'M' is deprecated and will be removed in a future version, please use 'ME' instead.\n",
      "  freq = pd.tseries.frequencies.to_offset(freq)\n",
      "GPU available: False, used: False\n",
      "TPU available: False, using: 0 TPU cores\n",
      "HPU available: False, using: 0 HPUs\n"
     ]
    },
    {
     "name": "stdout",
     "output_type": "stream",
     "text": [
      "Predicting DataLoader 0: 100%|██████████| 1/1 [00:00<00:00, 43.98it/s]"
     ]
    },
    {
     "name": "stderr",
     "output_type": "stream",
     "text": [
      "/Library/Frameworks/Python.framework/Versions/3.11/lib/python3.11/site-packages/utilsforecast/processing.py:384: FutureWarning: 'M' is deprecated and will be removed in a future version, please use 'ME' instead.\n",
      "  freq = pd.tseries.frequencies.to_offset(freq)\n",
      "/Library/Frameworks/Python.framework/Versions/3.11/lib/python3.11/site-packages/utilsforecast/processing.py:440: FutureWarning: 'M' is deprecated and will be removed in a future version, please use 'ME' instead.\n",
      "  freq = pd.tseries.frequencies.to_offset(freq)\n",
      "GPU available: False, used: False\n",
      "TPU available: False, using: 0 TPU cores\n",
      "HPU available: False, using: 0 HPUs\n"
     ]
    },
    {
     "name": "stdout",
     "output_type": "stream",
     "text": [
      "\n",
      "Predicting DataLoader 0: 100%|██████████| 1/1 [00:00<00:00, 52.24it/s]\n"
     ]
    },
    {
     "name": "stderr",
     "output_type": "stream",
     "text": [
      "Seed set to 42\n"
     ]
    },
    {
     "name": "stdout",
     "output_type": "stream",
     "text": [
      "Saved 12 predictions to ../../Predictions/Horizon1/NBEATSx_horizon_1.npy\n",
      "\n",
      "--- Training NBEATSx for Horizon=3 ---\n"
     ]
    },
    {
     "name": "stderr",
     "output_type": "stream",
     "text": [
      "GPU available: False, used: False\n",
      "TPU available: False, using: 0 TPU cores\n",
      "HPU available: False, using: 0 HPUs\n",
      "\n",
      "  | Name         | Type          | Params | Mode \n",
      "-------------------------------------------------------\n",
      "0 | loss         | SMAPE         | 0      | train\n",
      "1 | padder_train | ConstantPad1d | 0      | train\n",
      "2 | scaler       | TemporalNorm  | 0      | train\n",
      "3 | blocks       | ModuleList    | 25.0 M | train\n",
      "-------------------------------------------------------\n",
      "25.0 M    Trainable params\n",
      "2.8 K     Non-trainable params\n",
      "25.0 M    Total params\n",
      "100.127   Total estimated model params size (MB)\n",
      "148       Modules in train mode\n",
      "0         Modules in eval mode\n"
     ]
    },
    {
     "name": "stdout",
     "output_type": "stream",
     "text": [
      "Epoch 1999: 100%|██████████| 1/1 [00:01<00:00,  0.70it/s, v_num=13, train_loss_step=0.00324, train_loss_epoch=0.00324]"
     ]
    },
    {
     "name": "stderr",
     "output_type": "stream",
     "text": [
      "`Trainer.fit` stopped: `max_steps=2000` reached.\n"
     ]
    },
    {
     "name": "stdout",
     "output_type": "stream",
     "text": [
      "Epoch 1999: 100%|██████████| 1/1 [00:01<00:00,  0.70it/s, v_num=13, train_loss_step=0.00324, train_loss_epoch=0.00324]\n"
     ]
    },
    {
     "name": "stderr",
     "output_type": "stream",
     "text": [
      "/Library/Frameworks/Python.framework/Versions/3.11/lib/python3.11/site-packages/utilsforecast/processing.py:384: FutureWarning: 'M' is deprecated and will be removed in a future version, please use 'ME' instead.\n",
      "  freq = pd.tseries.frequencies.to_offset(freq)\n",
      "/Library/Frameworks/Python.framework/Versions/3.11/lib/python3.11/site-packages/utilsforecast/processing.py:440: FutureWarning: 'M' is deprecated and will be removed in a future version, please use 'ME' instead.\n",
      "  freq = pd.tseries.frequencies.to_offset(freq)\n",
      "GPU available: False, used: False\n",
      "TPU available: False, using: 0 TPU cores\n",
      "HPU available: False, using: 0 HPUs\n"
     ]
    },
    {
     "name": "stdout",
     "output_type": "stream",
     "text": [
      "Predicting DataLoader 0: 100%|██████████| 1/1 [00:00<00:00, 39.45it/s]"
     ]
    },
    {
     "name": "stderr",
     "output_type": "stream",
     "text": [
      "/Library/Frameworks/Python.framework/Versions/3.11/lib/python3.11/site-packages/utilsforecast/processing.py:384: FutureWarning: 'M' is deprecated and will be removed in a future version, please use 'ME' instead.\n",
      "  freq = pd.tseries.frequencies.to_offset(freq)\n",
      "/Library/Frameworks/Python.framework/Versions/3.11/lib/python3.11/site-packages/utilsforecast/processing.py:440: FutureWarning: 'M' is deprecated and will be removed in a future version, please use 'ME' instead.\n",
      "  freq = pd.tseries.frequencies.to_offset(freq)\n",
      "GPU available: False, used: False\n",
      "TPU available: False, using: 0 TPU cores\n",
      "HPU available: False, using: 0 HPUs\n"
     ]
    },
    {
     "name": "stdout",
     "output_type": "stream",
     "text": [
      "\n",
      "Predicting DataLoader 0: 100%|██████████| 1/1 [00:00<00:00, 49.95it/s]\n"
     ]
    },
    {
     "name": "stderr",
     "output_type": "stream",
     "text": [
      "/Library/Frameworks/Python.framework/Versions/3.11/lib/python3.11/site-packages/utilsforecast/processing.py:384: FutureWarning: 'M' is deprecated and will be removed in a future version, please use 'ME' instead.\n",
      "  freq = pd.tseries.frequencies.to_offset(freq)\n",
      "/Library/Frameworks/Python.framework/Versions/3.11/lib/python3.11/site-packages/utilsforecast/processing.py:440: FutureWarning: 'M' is deprecated and will be removed in a future version, please use 'ME' instead.\n",
      "  freq = pd.tseries.frequencies.to_offset(freq)\n",
      "GPU available: False, used: False\n",
      "TPU available: False, using: 0 TPU cores\n",
      "HPU available: False, using: 0 HPUs\n"
     ]
    },
    {
     "name": "stdout",
     "output_type": "stream",
     "text": [
      "Predicting DataLoader 0: 100%|██████████| 1/1 [00:00<00:00, 46.54it/s]\n"
     ]
    },
    {
     "name": "stderr",
     "output_type": "stream",
     "text": [
      "/Library/Frameworks/Python.framework/Versions/3.11/lib/python3.11/site-packages/utilsforecast/processing.py:384: FutureWarning: 'M' is deprecated and will be removed in a future version, please use 'ME' instead.\n",
      "  freq = pd.tseries.frequencies.to_offset(freq)\n",
      "/Library/Frameworks/Python.framework/Versions/3.11/lib/python3.11/site-packages/utilsforecast/processing.py:440: FutureWarning: 'M' is deprecated and will be removed in a future version, please use 'ME' instead.\n",
      "  freq = pd.tseries.frequencies.to_offset(freq)\n",
      "GPU available: False, used: False\n",
      "TPU available: False, using: 0 TPU cores\n",
      "HPU available: False, using: 0 HPUs\n"
     ]
    },
    {
     "name": "stdout",
     "output_type": "stream",
     "text": [
      "Predicting DataLoader 0: 100%|██████████| 1/1 [00:00<00:00, 36.83it/s]"
     ]
    },
    {
     "name": "stderr",
     "output_type": "stream",
     "text": [
      "Seed set to 42\n"
     ]
    },
    {
     "name": "stdout",
     "output_type": "stream",
     "text": [
      "\n",
      "Saved 12 predictions to ../../Predictions/Horizon3/NBEATSx_horizon_3.npy\n",
      "\n",
      "--- Training NBEATSx for Horizon=6 ---\n"
     ]
    },
    {
     "name": "stderr",
     "output_type": "stream",
     "text": [
      "GPU available: False, used: False\n",
      "TPU available: False, using: 0 TPU cores\n",
      "HPU available: False, using: 0 HPUs\n",
      "\n",
      "  | Name         | Type          | Params | Mode \n",
      "-------------------------------------------------------\n",
      "0 | loss         | SMAPE         | 0      | train\n",
      "1 | padder_train | ConstantPad1d | 0      | train\n",
      "2 | scaler       | TemporalNorm  | 0      | train\n",
      "3 | blocks       | ModuleList    | 25.1 M | train\n",
      "-------------------------------------------------------\n",
      "25.1 M    Trainable params\n",
      "5.3 K     Non-trainable params\n",
      "25.1 M    Total params\n",
      "100.261   Total estimated model params size (MB)\n",
      "148       Modules in train mode\n",
      "0         Modules in eval mode\n"
     ]
    },
    {
     "name": "stdout",
     "output_type": "stream",
     "text": [
      "Epoch 1999: 100%|██████████| 1/1 [00:01<00:00,  0.60it/s, v_num=18, train_loss_step=0.00379, train_loss_epoch=0.00379]"
     ]
    },
    {
     "name": "stderr",
     "output_type": "stream",
     "text": [
      "`Trainer.fit` stopped: `max_steps=2000` reached.\n"
     ]
    },
    {
     "name": "stdout",
     "output_type": "stream",
     "text": [
      "Epoch 1999: 100%|██████████| 1/1 [00:01<00:00,  0.60it/s, v_num=18, train_loss_step=0.00379, train_loss_epoch=0.00379]\n"
     ]
    },
    {
     "name": "stderr",
     "output_type": "stream",
     "text": [
      "/Library/Frameworks/Python.framework/Versions/3.11/lib/python3.11/site-packages/utilsforecast/processing.py:384: FutureWarning: 'M' is deprecated and will be removed in a future version, please use 'ME' instead.\n",
      "  freq = pd.tseries.frequencies.to_offset(freq)\n",
      "/Library/Frameworks/Python.framework/Versions/3.11/lib/python3.11/site-packages/utilsforecast/processing.py:440: FutureWarning: 'M' is deprecated and will be removed in a future version, please use 'ME' instead.\n",
      "  freq = pd.tseries.frequencies.to_offset(freq)\n",
      "GPU available: False, used: False\n",
      "TPU available: False, using: 0 TPU cores\n",
      "HPU available: False, using: 0 HPUs\n"
     ]
    },
    {
     "name": "stdout",
     "output_type": "stream",
     "text": [
      "Predicting DataLoader 0: 100%|██████████| 1/1 [00:00<00:00, 38.44it/s]"
     ]
    },
    {
     "name": "stderr",
     "output_type": "stream",
     "text": [
      "/Library/Frameworks/Python.framework/Versions/3.11/lib/python3.11/site-packages/utilsforecast/processing.py:384: FutureWarning: 'M' is deprecated and will be removed in a future version, please use 'ME' instead.\n",
      "  freq = pd.tseries.frequencies.to_offset(freq)\n",
      "/Library/Frameworks/Python.framework/Versions/3.11/lib/python3.11/site-packages/utilsforecast/processing.py:440: FutureWarning: 'M' is deprecated and will be removed in a future version, please use 'ME' instead.\n",
      "  freq = pd.tseries.frequencies.to_offset(freq)\n",
      "GPU available: False, used: False\n",
      "TPU available: False, using: 0 TPU cores\n",
      "HPU available: False, using: 0 HPUs\n"
     ]
    },
    {
     "name": "stdout",
     "output_type": "stream",
     "text": [
      "\n",
      "Predicting DataLoader 0: 100%|██████████| 1/1 [00:00<00:00, 46.51it/s]\n"
     ]
    },
    {
     "name": "stderr",
     "output_type": "stream",
     "text": [
      "Seed set to 42\n"
     ]
    },
    {
     "name": "stdout",
     "output_type": "stream",
     "text": [
      "Saved 12 predictions to ../../Predictions/Horizon6/NBEATSx_horizon_6.npy\n",
      "\n",
      "--- Training NBEATSx for Horizon=12 ---\n"
     ]
    },
    {
     "name": "stderr",
     "output_type": "stream",
     "text": [
      "GPU available: False, used: False\n",
      "TPU available: False, using: 0 TPU cores\n",
      "HPU available: False, using: 0 HPUs\n",
      "\n",
      "  | Name         | Type          | Params | Mode \n",
      "-------------------------------------------------------\n",
      "0 | loss         | SMAPE         | 0      | train\n",
      "1 | padder_train | ConstantPad1d | 0      | train\n",
      "2 | scaler       | TemporalNorm  | 0      | train\n",
      "3 | blocks       | ModuleList    | 25.1 M | train\n",
      "-------------------------------------------------------\n",
      "25.1 M    Trainable params\n",
      "10.8 K    Non-trainable params\n",
      "25.1 M    Total params\n",
      "100.529   Total estimated model params size (MB)\n",
      "148       Modules in train mode\n",
      "0         Modules in eval mode\n"
     ]
    },
    {
     "name": "stdout",
     "output_type": "stream",
     "text": [
      "Epoch 1999: 100%|██████████| 1/1 [00:01<00:00,  0.75it/s, v_num=21, train_loss_step=0.00469, train_loss_epoch=0.00469]"
     ]
    },
    {
     "name": "stderr",
     "output_type": "stream",
     "text": [
      "`Trainer.fit` stopped: `max_steps=2000` reached.\n"
     ]
    },
    {
     "name": "stdout",
     "output_type": "stream",
     "text": [
      "Epoch 1999: 100%|██████████| 1/1 [00:01<00:00,  0.74it/s, v_num=21, train_loss_step=0.00469, train_loss_epoch=0.00469]\n"
     ]
    },
    {
     "name": "stderr",
     "output_type": "stream",
     "text": [
      "/Library/Frameworks/Python.framework/Versions/3.11/lib/python3.11/site-packages/utilsforecast/processing.py:384: FutureWarning: 'M' is deprecated and will be removed in a future version, please use 'ME' instead.\n",
      "  freq = pd.tseries.frequencies.to_offset(freq)\n",
      "/Library/Frameworks/Python.framework/Versions/3.11/lib/python3.11/site-packages/utilsforecast/processing.py:440: FutureWarning: 'M' is deprecated and will be removed in a future version, please use 'ME' instead.\n",
      "  freq = pd.tseries.frequencies.to_offset(freq)\n",
      "GPU available: False, used: False\n",
      "TPU available: False, using: 0 TPU cores\n",
      "HPU available: False, using: 0 HPUs\n"
     ]
    },
    {
     "name": "stdout",
     "output_type": "stream",
     "text": [
      "Predicting DataLoader 0: 100%|██████████| 1/1 [00:00<00:00, 39.27it/s]\n",
      "Saved 12 predictions to ../../Predictions/Horizon12/NBEATSx_horizon_12.npy\n"
     ]
    }
   ],
   "source": [
    "import os\n",
    "import sys\n",
    "import numpy as np\n",
    "import pandas as pd\n",
    "from sklearn.preprocessing import StandardScaler, MinMaxScaler\n",
    "from neuralforecast.models import NBEATSx\n",
    "from neuralforecast.core import NeuralForecast\n",
    "from neuralforecast.losses.pytorch import SMAPE\n",
    "\n",
    "# Add root directory to path\n",
    "sys.path.append(os.path.abspath(os.path.join(\"..\", \"..\")))\n",
    "from Training.Helper.dataPreprocessing import (\n",
    "    add_time_features, add_lagged_features, add_rolling_features, rank_features_ccf,\n",
    "    sklearn_fit_transform, integer_index, TRAIN_DATA_PATH_1990S\n",
    ")\n",
    "\n",
    "# CONFIG\n",
    "HORIZONS = [1, 3, 6, 12]\n",
    "INPUT_SIZE = 96\n",
    "SAVE_DIR = os.path.join(\"..\", \"..\", \"Predictions\")\n",
    "\n",
    "# Load Full 1990s Data\n",
    "df = pd.read_csv(TRAIN_DATA_PATH_1990S)\n",
    "df[\"ds\"] = pd.to_datetime(df[\"observation_date\"], format=\"%m/%Y\")\n",
    "df = df.rename(columns={\"fred_PCEPI\": \"y_original\"})\n",
    "df[\"unique_id\"] = \"inflation\"\n",
    "\n",
    "# Add Time + Fourier Features\n",
    "def add_time_fourier(df):\n",
    "    df = add_time_features(df, date_col=\"ds\")\n",
    "    for k in range(1, 5):\n",
    "        df[f\"sin_{k}\"] = np.sin(2 * np.pi * k * df[\"month\"] / 12)\n",
    "        df[f\"cos_{k}\"] = np.cos(2 * np.pi * k * df[\"month\"] / 12)\n",
    "    return df\n",
    "\n",
    "df = add_time_fourier(df)\n",
    "\n",
    "# Add Lag, Momentum, Rolling Features\n",
    "df[\"pct_change\"] = df[\"y_original\"].pct_change()\n",
    "df[\"momentum\"] = df[\"pct_change\"].diff()\n",
    "df = add_lagged_features(df, [\"y_original\"], lags=[1, 6, 12, 24])\n",
    "df = add_rolling_features(df, \"y_original\", windows=[3, 6, 12])\n",
    "df[\"y_original_rolling_skew6\"] = df[\"y_original\"].rolling(6).skew()\n",
    "df[\"y_original_rolling_kurt6\"] = df[\"y_original\"].rolling(6).kurt()\n",
    "\n",
    "# Additional rolling mean/std features\n",
    "for feat in [\"momentum\", \"y_original_lag1\", \"y_original_lag6\", \"y_original_rolling_mean6\"]:\n",
    "    df[f\"{feat}_roll_mean6\"] = df[feat].rolling(6).mean()\n",
    "    df[f\"{feat}_roll_std6\"] = df[feat].rolling(6).std()\n",
    "\n",
    "# Drop NA caused by rolling\n",
    "df.dropna(inplace=True)\n",
    "df = df.reset_index(drop=True)\n",
    "\n",
    "# Feature Selection\n",
    "exog_df = df.drop(columns=[\"observation_date\", \"ds\", \"unique_id\", \"y_original\"])\n",
    "exog_df[\"fred_PCEPI\"] = df[\"y_original\"]\n",
    "selected_features = rank_features_ccf(exog_df, targetCol=\"fred_PCEPI\")[:25]\n",
    "\n",
    "futr_exog = [f for f in selected_features if \"sin\" in f or \"cos\" in f]\n",
    "hist_exog = [f for f in selected_features if f not in futr_exog]\n",
    "\n",
    "# Scaling Exogenous\n",
    "x_transformed_list, x_scaler = sklearn_fit_transform(df[selected_features], StandardScaler())\n",
    "df[selected_features] = x_transformed_list[0]\n",
    "\n",
    "# Scaling Target\n",
    "df[\"y_log\"] = np.log(df[\"y_original\"])\n",
    "df[\"y\"] = df[\"y_log\"]\n",
    "y_transformed_list, y_scaler = sklearn_fit_transform(df[[\"y\"]], MinMaxScaler())\n",
    "df[\"y\"] = y_transformed_list[0].iloc[:, 0]\n",
    "\n",
    "# Final Modeling DF\n",
    "valid_features = [f for f in selected_features if f in df.columns]\n",
    "model_df = df[[\"unique_id\", \"ds\", \"y\"] + valid_features]\n",
    "model_df = integer_index(model_df)\n",
    "\n",
    "# Split Train / Validation\n",
    "VAL_SIZE = 12  # Forecast next 12 months\n",
    "train_model_df = model_df.iloc[:-VAL_SIZE]\n",
    "val_model_df = model_df.iloc[-VAL_SIZE:]\n",
    "\n",
    "print(f\"Split data → Train size: {len(train_model_df)}, Validation size: {len(val_model_df)}\")\n",
    "\n",
    "# Now Train and Predict for Each Horizon\n",
    "for H in HORIZONS:\n",
    "    print(f\"\\n--- Training NBEATSx for Horizon={H} ---\")\n",
    "    \n",
    "    # ⚡ Dynamically adjust stack_types if H=1\n",
    "    stack_types = [\"identity\"] if H == 1 else [\"trend\", \"seasonality\", \"identity\"]\n",
    "    \n",
    "    model = NeuralForecast(models=[\n",
    "        NBEATSx(\n",
    "            h=H,\n",
    "            input_size=INPUT_SIZE,\n",
    "            n_blocks=[4, 4, 4],\n",
    "            stack_types=stack_types,\n",
    "            learning_rate=3e-4,\n",
    "            max_steps=2000,\n",
    "            val_check_steps=500,\n",
    "            dropout_prob_theta=0.3,\n",
    "            hist_exog_list=[f for f in hist_exog if f in valid_features],\n",
    "            scaler_type='robust',\n",
    "            loss=SMAPE(),\n",
    "            random_seed=42\n",
    "        )\n",
    "    ], freq=\"M\")\n",
    "    \n",
    "    model.fit(df=train_model_df)\n",
    "\n",
    "    preds_list = []\n",
    "\n",
    "    # Walk-forward prediction loop on validation set\n",
    "    for i in range(0, len(val_model_df), H):\n",
    "        input_df = pd.concat([train_model_df, val_model_df.iloc[:i]], axis=0).reset_index(drop=True)\n",
    "        input_slice = input_df.iloc[-INPUT_SIZE:]\n",
    "        \n",
    "        forecast_df = model.predict(df=input_slice)\n",
    "        \n",
    "        y_pred_scaled = forecast_df[\"NBEATSx\"].values.reshape(-1, 1)\n",
    "        y_pred_log = y_scaler.inverse_transform(y_pred_scaled).flatten()\n",
    "        y_pred = np.exp(y_pred_log)\n",
    "\n",
    "        preds_list.extend(y_pred[:H])\n",
    "\n",
    "    preds = np.array(preds_list[:12])  # Only first 12 predictions\n",
    "    \n",
    "    # Save\n",
    "    save_dir = os.path.join(SAVE_DIR, f\"Horizon{H}\")\n",
    "    os.makedirs(save_dir, exist_ok=True)\n",
    "    save_path = os.path.join(save_dir, f\"NBEATSx_horizon_{H}.npy\")\n",
    "    np.save(save_path, preds)\n",
    "    print(f\"Saved {len(preds)} predictions to {save_path}\")"
   ]
  },
  {
   "cell_type": "code",
   "execution_count": 2,
   "metadata": {},
   "outputs": [
    {
     "data": {
      "image/png": "[encoded data removed]",
      "text/plain": [
       "<Figure size 1200x600 with 1 Axes>"
      ]
     },
     "metadata": {},
     "output_type": "display_data"
    },
    {
     "data": {
      "image/png": "[encoded data removed]",
      "text/plain": [
       "<Figure size 1800x500 with 3 Axes>"
      ]
     },
     "metadata": {},
     "output_type": "display_data"
    }
   ],
   "source": [
    "import os\n",
    "import numpy as np\n",
    "import pandas as pd\n",
    "import matplotlib.pyplot as plt\n",
    "from pathlib import Path\n",
    "from sklearn.metrics import mean_absolute_error, mean_squared_error, r2_score\n",
    "\n",
    "# CONFIG \n",
    "TEST_DATA_PATH = Path(\"../../Data/Test/test1990s.csv\")\n",
    "PREDICTIONS_DIR = Path(\"../../Predictions\")\n",
    "HORIZONS = [1, 3, 6, 12]\n",
    "OUTPUT_PLOT = \"nbeatsx_forecast_all_horizons.png\"\n",
    "OUTPUT_METRICS = \"nbeatsx_metrics_barplot.png\"\n",
    "\n",
    "# Load ground truth\n",
    "test_df = pd.read_csv(TEST_DATA_PATH)\n",
    "test_df[\"ds\"] = pd.to_datetime(test_df[\"observation_date\"], format=\"%m/%Y\")\n",
    "test_df = test_df.rename(columns={\"fred_PCEPI\": \"y_original\"})\n",
    "dates = test_df[\"ds\"].values[-12:]\n",
    "ground_truth = test_df[\"y_original\"].values[-12:]\n",
    "\n",
    "# Forecast plot\n",
    "plt.figure(figsize=(12, 6))\n",
    "plt.plot(dates, ground_truth, label=\"Actual Inflation\", marker='o', linewidth=2)\n",
    "\n",
    "results = {\"Horizon\": [], \"RMSE\": [], \"MAE\": [], \"R²\": []}\n",
    "\n",
    "for H in HORIZONS:\n",
    "    pred_path = PREDICTIONS_DIR / f\"Horizon{H}\" / f\"NBEATSx_horizon_{H}.npy\"\n",
    "    preds = np.load(pred_path)[-12:]\n",
    "\n",
    "    plt.plot(dates, preds, label=f\"NBEATSx Horizon-{H}\", linestyle='--', marker='x')\n",
    "\n",
    "    rmse = np.sqrt(mean_squared_error(ground_truth, preds))\n",
    "    mae = mean_absolute_error(ground_truth, preds)\n",
    "    r2 = r2_score(ground_truth, preds)\n",
    "\n",
    "    results[\"Horizon\"].append(f\"H{H}\")\n",
    "    results[\"RMSE\"].append(rmse)\n",
    "    results[\"MAE\"].append(mae)\n",
    "    results[\"R²\"].append(r2)\n",
    "\n",
    "plt.title(\"NBEATSx Forecasts vs Actual Inflation (2024)\")\n",
    "plt.xlabel(\"Date\")\n",
    "plt.ylabel(\"PCEPI\")\n",
    "plt.xticks(rotation=45)\n",
    "plt.grid(True)\n",
    "plt.legend()\n",
    "plt.tight_layout()\n",
    "plt.savefig(OUTPUT_PLOT, dpi=300)\n",
    "plt.show()\n",
    "\n",
    "# Metrics bar chart with annotations\n",
    "metrics_df = pd.DataFrame(results).set_index(\"Horizon\")\n",
    "\n",
    "fig, axs = plt.subplots(1, 3, figsize=(18, 5))\n",
    "for i, metric in enumerate([\"RMSE\", \"MAE\", \"R²\"]):\n",
    "    ax = axs[i]\n",
    "    bars = ax.bar(metrics_df.index, metrics_df[metric], color='tab:blue')\n",
    "    ax.set_title(metric)\n",
    "    ax.set_xlabel(\"Horizon\")\n",
    "    ax.set_ylabel(metric)\n",
    "    ax.grid(True)\n",
    "    \n",
    "    # Add text labels above bars\n",
    "    for bar in bars:\n",
    "        height = bar.get_height()\n",
    "        ax.annotate(f\"{height:.3f}\", xy=(bar.get_x() + bar.get_width() / 2, height),\n",
    "                    xytext=(0, 3), textcoords=\"offset points\",\n",
    "                    ha='center', va='bottom', fontsize=9)\n",
    "\n",
    "plt.suptitle(\"NBEATSx Evaluation Metrics by Forecast Horizon\")\n",
    "plt.tight_layout()\n",
    "plt.savefig(OUTPUT_METRICS, dpi=300)\n",
    "plt.show()"
   ]
  }
 ],
 "metadata": {
  "kernelspec": {
   "display_name": ".venv",
   "language": "python",
   "name": "python3"
  },
  "language_info": {
   "codemirror_mode": {
    "name": "ipython",
    "version": 3
   },
   "file_extension": ".py",
   "mimetype": "text/x-python",
   "name": "python",
   "nbconvert_exporter": "python",
   "pygments_lexer": "ipython3",
   "version": "3.11.7"
  },
  "orig_nbformat": 4
 },
 "nbformat": 4,
 "nbformat_minor": 2
}
