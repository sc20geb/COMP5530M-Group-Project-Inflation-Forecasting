{
 "cells": [
  {
   "cell_type": "markdown",
   "metadata": {},
   "source": [
    "# N-BEATSx (Manual PyTorch)"
   ]
  },
  {
   "cell_type": "markdown",
   "metadata": {},
   "source": [
    "## Loading data"
   ]
  },
  {
   "cell_type": "markdown",
   "metadata": {},
   "source": [
    "### Data Preprocessing Pipeline with Fourier and PCA for Time Series Forecasting\n",
    "\n",
    "This cell performs comprehensive preprocessing for time series inflation forecasting. Key steps include:\n",
    "\n",
    "- **Data Loading & Parsing**: Loads the `train2000s.csv` dataset and converts `observation_date` into datetime format for chronological processing.\n",
    "\n",
    "- **Target & Exogenous Split**: \n",
    "  - `fred_PCEPI` is used as the target variable (inflation).\n",
    "  - All other columns are treated as potential exogenous features.\n",
    "\n",
    "- **Train-Validation-Test Split**:\n",
    "  - Splits the dataset into 60% train, 20% validation, and 20% test sets to support proper model evaluation.\n",
    "\n",
    "- **Scaling**:\n",
    "  - Applies `MinMaxScaler` to the target values and `StandardScaler` to the exogenous features to standardize inputs.\n",
    "\n",
    "- **Principal Component Analysis (PCA)**:\n",
    "  - Reduces the dimensionality of exogenous variables (to max 5 components), capturing key variance without overfitting.\n",
    "\n",
    "- **Fourier Transform (FFT)**:\n",
    "  - Applies FFT on sliding windows (sequence length = 48) of the target series to extract frequency domain features.\n",
    "  - Both real and imaginary components are log-transformed and retained for richer temporal representation.\n",
    "\n",
    "- **Sequence Construction**:\n",
    "  - For each sample, it concatenates the raw sequence, FFT features (real + imaginary), and past exogenous features to create:\n",
    "    - `X`: Combined sequence + FFT features.\n",
    "    - `X_exog`: Exogenous variables.\n",
    "    - `y`: Target value for the next time step.\n",
    "\n",
    "The processed arrays are returned along with original dates and scalers for future inverse transformations and plotting.\n"
   ]
  },
  {
   "cell_type": "markdown",
   "metadata": {},
   "source": [
    "##### Point to be noted\n",
    "N-BEATSx model can be sensitive to constant 0s in the dataset, depending on where those zeros occur and how the model is configured.\n",
    "\n",
    "Scaling Issues:\n",
    "If a column is full of 0s (or nearly constant), scaling with StandardScaler will result in division by a near-zero standard deviation, leading to NaNs or infs.\n"
   ]
  },
  {
   "cell_type": "code",
   "execution_count": 29,
   "metadata": {},
   "outputs": [],
   "source": [
    "import torch\n",
    "import torch.nn as nn\n",
    "import torch.optim as optim\n",
    "import pandas as pd\n",
    "import numpy as np\n",
    "import matplotlib.pyplot as plt\n",
    "import seaborn as sns\n",
    "from sklearn.preprocessing import StandardScaler, MinMaxScaler\n",
    "from sklearn.decomposition import PCA\n",
    "from sklearn.metrics import mean_absolute_error, mean_squared_error\n",
    "from torch.utils.data import DataLoader, TensorDataset\n",
    "from scipy.fftpack import fft\n",
    "from scipy.ndimage import gaussian_filter1d\n",
    "\n",
    "# Load and Process Data\n",
    "def load_data(train_file, sequence_length=48):\n",
    "    df = pd.read_csv(train_file)\n",
    "    df[\"observation_date\"] = pd.to_datetime(df[\"observation_date\"], format=\"%m/%Y\")\n",
    "    df = df.sort_values(by=\"observation_date\").reset_index(drop=True)\n",
    "\n",
    "    target_col = \"fred_PCEPI\"\n",
    "    exogenous_cols = [col for col in df.columns if col not in [\"observation_date\", target_col]]\n",
    "\n",
    "    data = df[[target_col]].values.astype(np.float32)\n",
    "    exogenous_data = df[exogenous_cols].values.astype(np.float32)\n",
    "\n",
    "    # Train-Validation-Test Split\n",
    "    train_idx = int(len(data) * 0.6)\n",
    "    valid_idx = int(len(data) * 0.8)\n",
    "\n",
    "    train_data, valid_data, test_data = data[:train_idx], data[train_idx:valid_idx], data[valid_idx:]\n",
    "    train_exog, valid_exog, test_exog = exogenous_data[:train_idx], exogenous_data[train_idx:valid_idx], exogenous_data[valid_idx:]\n",
    "\n",
    "    # Apply Scaling Separately\n",
    "    scaler = MinMaxScaler()\n",
    "    train_data = scaler.fit_transform(train_data)\n",
    "    valid_data = scaler.transform(valid_data)\n",
    "    test_data = scaler.transform(test_data)\n",
    "\n",
    "    exog_scaler = StandardScaler()\n",
    "    train_exog = exog_scaler.fit_transform(train_exog)\n",
    "    valid_exog = exog_scaler.transform(valid_exog)\n",
    "    test_exog = exog_scaler.transform(test_exog)\n",
    "\n",
    "    y_scaler = MinMaxScaler()\n",
    "    train_target = y_scaler.fit_transform(train_data)\n",
    "    valid_target = y_scaler.transform(valid_data)\n",
    "    test_target = y_scaler.transform(test_data)\n",
    "\n",
    "    # Apply PCA on Exogenous Data\n",
    "    pca = PCA(n_components=min(5, train_exog.shape[1]))\n",
    "    train_exog = pca.fit_transform(train_exog)\n",
    "    valid_exog = pca.transform(valid_exog)\n",
    "    test_exog = pca.transform(test_exog)\n",
    "\n",
    "    # Apply Fourier Features\n",
    "    def apply_fft_per_sequence(data, seq_len):\n",
    "        fft_real, fft_imag = [], []\n",
    "        for i in range(len(data) - seq_len):\n",
    "            fft_transformed = fft(data[i : i + seq_len].flatten())\n",
    "            fft_real.append(np.log1p(np.abs(np.real(fft_transformed[:seq_len]))))\n",
    "            fft_imag.append(np.log1p(np.abs(np.imag(fft_transformed[:seq_len]))))\n",
    "        return np.array(fft_real), np.array(fft_imag)\n",
    "\n",
    "    train_fft_real, train_fft_imag = apply_fft_per_sequence(train_data, sequence_length)\n",
    "    valid_fft_real, valid_fft_imag = apply_fft_per_sequence(valid_data, sequence_length)\n",
    "    test_fft_real, test_fft_imag = apply_fft_per_sequence(test_data, sequence_length)\n",
    "\n",
    "    # Create Sequences\n",
    "    def create_sequences(data, exog, fft_real, fft_imag, target, seq_len):\n",
    "        X, X_exog, y = [], [], []\n",
    "        for i in range(len(data) - seq_len):\n",
    "            X.append(np.hstack([data[i : i + seq_len].flatten(), fft_real[i], fft_imag[i]]))  \n",
    "            X_exog.append(exog[i])  # Only past exogenous variables\n",
    "            y.append(target[i + seq_len])  \n",
    "        return np.array(X), np.array(X_exog), np.array(y)\n",
    "\n",
    "    X_train, X_exog_train, y_train = create_sequences(train_data, train_exog, train_fft_real, train_fft_imag, train_target, sequence_length)\n",
    "    X_valid, X_exog_valid, y_valid = create_sequences(valid_data, valid_exog, valid_fft_real, valid_fft_imag, valid_target, sequence_length)\n",
    "    X_test, X_exog_test, y_test = create_sequences(test_data, test_exog, test_fft_real, test_fft_imag, test_target, sequence_length)\n",
    "\n",
    "    return X_train, X_exog_train, y_train, X_valid, X_exog_valid, y_valid, X_test, X_exog_test, y_test, df[\"observation_date\"][sequence_length:], scaler, exog_scaler, y_scaler\n"
   ]
  },
  {
   "cell_type": "markdown",
   "metadata": {},
   "source": [
    "## Defining Model"
   ]
  },
  {
   "cell_type": "markdown",
   "metadata": {},
   "source": [
    "### Custom N-BEATSx Model Definition (PyTorch Implementation)\n",
    "\n",
    "This block defines a simplified version of the **N-BEATSx** model using PyTorch, enhanced with exogenous input support. It captures key architectural principles from the original paper while remaining modular and lightweight.\n",
    "\n",
    "#### 🔧 Model Architecture: `NBeats` Class\n",
    "\n",
    "- **Parameters**:\n",
    "  - `input_size`: Flattened length of the input time series (including FFT or engineered features).\n",
    "  - `exog_size`: Number of exogenous (non-series) features.\n",
    "  - `num_blocks`: Number of sequential fully-connected blocks to stack (default = 5).\n",
    "  - `theta_size`: Size of the final output (typically 1 for point forecasts).\n",
    "\n",
    "#### Model Structure:\n",
    "Each block inside `self.blocks` contains:\n",
    "  - `Linear(input_size + exog_size, 512)`: Combines time series and exogenous inputs into a hidden representation.\n",
    "  - `BatchNorm1d(512)`: Normalizes activations to stabilize training.\n",
    "  - `ReLU()`: Applies non-linearity.\n",
    "  - `Dropout(0.2)`: Prevents overfitting by randomly disabling 20% of the neurons during training.\n",
    "  - `Linear(512, theta_size)`: Projects hidden state into the forecast dimension (usually 1).\n",
    "\n",
    "#### Forward Pass:\n",
    "- The model accumulates the forecast from each block:\n",
    "  - Concatenates `x` (sequence features) and `exog` (exogenous inputs).\n",
    "  - Applies each block sequentially and **adds their outputs** to produce the final forecast (residual learning).\n",
    "  - Returns a single-step prediction `forecast`.\n",
    "\n",
    "This architecture is flexible, interpretable, and leverages both time-domain and exogenous information effectively.\n"
   ]
  },
  {
   "cell_type": "code",
   "execution_count": 30,
   "metadata": {},
   "outputs": [],
   "source": [
    "# Define N-BEATSx Model\n",
    "class NBeats(nn.Module):\n",
    "    def __init__(self, input_size, exog_size, num_blocks=5, theta_size=1):\n",
    "        super().__init__()\n",
    "        self.blocks = nn.ModuleList([\n",
    "            nn.Sequential(\n",
    "                nn.Linear(input_size + exog_size, 512),\n",
    "                nn.BatchNorm1d(512),\n",
    "                nn.ReLU(),\n",
    "                nn.Dropout(0.2),\n",
    "                nn.Linear(512, theta_size)\n",
    "            ) for _ in range(num_blocks)\n",
    "        ])\n",
    "\n",
    "    def forward(self, x, exog):\n",
    "        forecast = torch.zeros_like(x[:, -1:], dtype=torch.float32)\n",
    "        for block in self.blocks:\n",
    "            forecast += block(torch.cat((x, exog), dim=1))\n",
    "        return forecast"
   ]
  },
  {
   "cell_type": "markdown",
   "metadata": {},
   "source": [
    "## Training model"
   ]
  },
  {
   "cell_type": "code",
   "execution_count": 31,
   "metadata": {},
   "outputs": [],
   "source": [
    "# Train Model\n",
    "def train_model(model, train_loader, criterion, optimizer, epochs=100):\n",
    "    model.train()\n",
    "    for epoch in range(epochs):\n",
    "        epoch_loss = 0\n",
    "        for X_batch, exog_batch, y_batch in train_loader:\n",
    "            optimizer.zero_grad()\n",
    "            y_pred = model(X_batch, exog_batch)\n",
    "            loss = criterion(y_pred, y_batch)\n",
    "            loss.backward()\n",
    "            torch.nn.utils.clip_grad_norm_(model.parameters(), max_norm=1.0)\n",
    "            optimizer.step()\n",
    "            epoch_loss += loss.item()\n",
    "        print(f'Epoch {epoch+1}/{epochs}, Loss: {epoch_loss/len(train_loader):.6f}')"
   ]
  },
  {
   "cell_type": "markdown",
   "metadata": {},
   "source": [
    "## Results Visualisation"
   ]
  },
  {
   "cell_type": "code",
   "execution_count": 32,
   "metadata": {},
   "outputs": [
    {
     "name": "stdout",
     "output_type": "stream",
     "text": [
      "Epoch 1/100, Loss: 0.996496\n",
      "Epoch 2/100, Loss: 0.336826\n",
      "Epoch 3/100, Loss: 0.225190\n",
      "Epoch 4/100, Loss: 0.559104\n",
      "Epoch 5/100, Loss: 0.349207\n",
      "Epoch 6/100, Loss: 0.400645\n",
      "Epoch 7/100, Loss: 0.108513\n",
      "Epoch 8/100, Loss: 0.190418\n",
      "Epoch 9/100, Loss: 0.185202\n",
      "Epoch 10/100, Loss: 0.348485\n",
      "Epoch 11/100, Loss: 0.284953\n",
      "Epoch 12/100, Loss: 0.130401\n",
      "Epoch 13/100, Loss: 0.055803\n",
      "Epoch 14/100, Loss: 0.045998\n",
      "Epoch 15/100, Loss: 0.075814\n",
      "Epoch 16/100, Loss: 0.090116\n",
      "Epoch 17/100, Loss: 0.132393\n",
      "Epoch 18/100, Loss: 0.092103\n",
      "Epoch 19/100, Loss: 0.049710\n",
      "Epoch 20/100, Loss: 0.049391\n",
      "Epoch 21/100, Loss: 0.089790\n",
      "Epoch 22/100, Loss: 0.226809\n",
      "Epoch 23/100, Loss: 0.092658\n",
      "Epoch 24/100, Loss: 0.100697\n",
      "Epoch 25/100, Loss: 0.091631\n",
      "Epoch 26/100, Loss: 0.194051\n",
      "Epoch 27/100, Loss: 0.146410\n",
      "Epoch 28/100, Loss: 0.073804\n",
      "Epoch 29/100, Loss: 0.128657\n",
      "Epoch 30/100, Loss: 0.024512\n",
      "Epoch 31/100, Loss: 0.066391\n",
      "Epoch 32/100, Loss: 0.290953\n",
      "Epoch 33/100, Loss: 0.277293\n",
      "Epoch 34/100, Loss: 0.133340\n",
      "Epoch 35/100, Loss: 0.114793\n",
      "Epoch 36/100, Loss: 0.140515\n",
      "Epoch 37/100, Loss: 0.089583\n",
      "Epoch 38/100, Loss: 0.067666\n",
      "Epoch 39/100, Loss: 0.121919\n",
      "Epoch 40/100, Loss: 0.146289\n",
      "Epoch 41/100, Loss: 0.119745\n",
      "Epoch 42/100, Loss: 0.128024\n",
      "Epoch 43/100, Loss: 0.035073\n",
      "Epoch 44/100, Loss: 0.125898\n",
      "Epoch 45/100, Loss: 0.120652\n",
      "Epoch 46/100, Loss: 0.079350\n",
      "Epoch 47/100, Loss: 0.068410\n",
      "Epoch 48/100, Loss: 0.208466\n",
      "Epoch 49/100, Loss: 0.228800\n",
      "Epoch 50/100, Loss: 0.124119\n",
      "Epoch 51/100, Loss: 0.247129\n",
      "Epoch 52/100, Loss: 0.099721\n",
      "Epoch 53/100, Loss: 0.230286\n",
      "Epoch 54/100, Loss: 0.236479\n",
      "Epoch 55/100, Loss: 0.081594\n",
      "Epoch 56/100, Loss: 0.296532\n",
      "Epoch 57/100, Loss: 0.125784\n",
      "Epoch 58/100, Loss: 0.075401\n",
      "Epoch 59/100, Loss: 0.107280\n",
      "Epoch 60/100, Loss: 0.094087\n",
      "Epoch 61/100, Loss: 0.102622\n",
      "Epoch 62/100, Loss: 0.068381\n",
      "Epoch 63/100, Loss: 0.073620\n",
      "Epoch 64/100, Loss: 0.292562\n",
      "Epoch 65/100, Loss: 0.109308\n",
      "Epoch 66/100, Loss: 0.095879\n",
      "Epoch 67/100, Loss: 0.150898\n",
      "Epoch 68/100, Loss: 0.107270\n",
      "Epoch 69/100, Loss: 0.047548\n",
      "Epoch 70/100, Loss: 0.073140\n",
      "Epoch 71/100, Loss: 0.181931\n",
      "Epoch 72/100, Loss: 0.178178\n",
      "Epoch 73/100, Loss: 0.069953\n",
      "Epoch 74/100, Loss: 0.052528\n",
      "Epoch 75/100, Loss: 0.065810\n",
      "Epoch 76/100, Loss: 0.083571\n",
      "Epoch 77/100, Loss: 0.063941\n",
      "Epoch 78/100, Loss: 0.024034\n",
      "Epoch 79/100, Loss: 0.132140\n",
      "Epoch 80/100, Loss: 0.197108\n",
      "Epoch 81/100, Loss: 0.073623\n",
      "Epoch 82/100, Loss: 0.047348\n",
      "Epoch 83/100, Loss: 0.087636\n",
      "Epoch 84/100, Loss: 0.161601\n",
      "Epoch 85/100, Loss: 0.061639\n",
      "Epoch 86/100, Loss: 0.044454\n",
      "Epoch 87/100, Loss: 0.066089\n",
      "Epoch 88/100, Loss: 0.167339\n",
      "Epoch 89/100, Loss: 0.077723\n",
      "Epoch 90/100, Loss: 0.063025\n",
      "Epoch 91/100, Loss: 0.118526\n",
      "Epoch 92/100, Loss: 0.187794\n",
      "Epoch 93/100, Loss: 0.165014\n",
      "Epoch 94/100, Loss: 0.144481\n",
      "Epoch 95/100, Loss: 0.114509\n",
      "Epoch 96/100, Loss: 0.096742\n",
      "Epoch 97/100, Loss: 0.095944\n",
      "Epoch 98/100, Loss: 0.143250\n",
      "Epoch 99/100, Loss: 0.123874\n",
      "Epoch 100/100, Loss: 0.110940\n"
     ]
    },
    {
     "data": {
      "image/png": "[encoded data removed]",
      "text/plain": [
       "<Figure size 1400x600 with 1 Axes>"
      ]
     },
     "metadata": {},
     "output_type": "display_data"
    }
   ],
   "source": [
    "# Plot Predictions\n",
    "def plot_results(dates, actual_values, predictions):\n",
    "    predictions_smoothed = gaussian_filter1d(predictions, sigma=2)  \n",
    "\n",
    "    plt.figure(figsize=(14, 6))\n",
    "    plt.plot(dates, actual_values, label='Actual PCE', marker='o', linestyle='dashed', color='blue')\n",
    "    plt.plot(dates, predictions_smoothed, label='Predicted PCE (N-BEATSx)', marker='x', linestyle='solid', color='orange')\n",
    "\n",
    "    plt.legend()\n",
    "    plt.title(\"Actual vs. Predicted PCE Inflation (N-BEATSx)\")\n",
    "    plt.xlabel(\"Date\")\n",
    "    plt.ylabel(\"PCE Index\")\n",
    "    plt.xticks(rotation=45)\n",
    "    plt.grid(True)\n",
    "    plt.show()\n",
    "\n",
    "# Final Steps\n",
    "train_file = \"../../Data/Train/train1990s.csv\"\n",
    "X_train, X_exog_train, y_train, X_valid, X_exog_valid, y_valid, X_test, X_exog_test, y_test, dates, scaler, exog_scaler, y_scaler = load_data(train_file)\n",
    "\n",
    "# Convert to PyTorch Tensors\n",
    "X_test_tensor = torch.tensor(X_test, dtype=torch.float32)\n",
    "X_exog_test_tensor = torch.tensor(X_exog_test, dtype=torch.float32)\n",
    "y_test_tensor = torch.tensor(y_test, dtype=torch.float32)\n",
    "\n",
    "# Train and Predict\n",
    "model = NBeats(input_size=X_train.shape[1], exog_size=X_exog_train.shape[1])\n",
    "optimizer = optim.AdamW(model.parameters(), lr=1e-3, weight_decay=1e-5)\n",
    "criterion = nn.HuberLoss()\n",
    "train_model(model, DataLoader(TensorDataset(X_test_tensor, X_exog_test_tensor, y_test_tensor), batch_size=128, shuffle=False), criterion, optimizer)\n",
    "\n",
    "# Plot Results\n",
    "predictions = model(X_test_tensor, X_exog_test_tensor).detach().cpu().numpy()\n",
    "predictions = y_scaler.inverse_transform(predictions)\n",
    "plot_results(dates[-len(predictions):], y_scaler.inverse_transform(y_test), predictions)\n"
   ]
  },
  {
   "cell_type": "markdown",
   "metadata": {},
   "source": [
    "# Nixtla N-BEATSx (Basic) -  (Neural forest)\n",
    "\n",
    "https://nixtlaverse.nixtla.io/neuralforecast/models.nbeatsx.html"
   ]
  },
  {
   "cell_type": "markdown",
   "metadata": {},
   "source": [
    "## Loading and Preprocess Dataset"
   ]
  },
  {
   "cell_type": "code",
   "execution_count": 33,
   "metadata": {},
   "outputs": [],
   "source": [
    "import pandas as pd\n",
    "import numpy as np\n",
    "import matplotlib.pyplot as plt\n",
    "import seaborn as sns\n",
    "from sklearn.preprocessing import StandardScaler\n",
    "from sklearn.metrics import mean_squared_error\n",
    "\n",
    "from neuralforecast.models import NBEATSx\n",
    "from neuralforecast.core import NeuralForecast\n",
    "from neuralforecast.losses.pytorch import MSE"
   ]
  },
  {
   "cell_type": "code",
   "execution_count": 34,
   "metadata": {},
   "outputs": [],
   "source": [
    "# Load & Preprocess Dataset\n",
    "df = pd.read_csv(\"../../Data/Train/train1990s.csv\")\n",
    "df['ds'] = pd.to_datetime(df['observation_date'], format=\"%m/%Y\")\n",
    "df['unique_id'] = 'inflation'\n",
    "df = df.rename(columns={\"fred_PCEPI\": \"y\"})"
   ]
  },
  {
   "cell_type": "code",
   "execution_count": 35,
   "metadata": {},
   "outputs": [],
   "source": [
    "# Fourier features (3 harmonics)\n",
    "df[\"month\"] = df[\"ds\"].dt.month\n",
    "for k in range(1, 4):\n",
    "    df[f'sin_{k}'] = np.sin(2 * np.pi * k * df[\"month\"] / 12)\n",
    "    df[f'cos_{k}'] = np.cos(2 * np.pi * k * df[\"month\"] / 12)\n",
    "\n",
    "# Lag features\n",
    "for lag in [1, 6, 12]:\n",
    "    df[f'y_lag_{lag}'] = df['y'].shift(lag)\n",
    "\n",
    "# Rolling features\n",
    "df['rolling_mean_3'] = df['y'].rolling(3).mean()\n",
    "df['rolling_std_3'] = df['y'].rolling(3).std()\n",
    "\n",
    "# Drop NaNs from lags and rolling\n",
    "df = df.dropna()"
   ]
  },
  {
   "cell_type": "markdown",
   "metadata": {},
   "source": [
    "### Feature Selection"
   ]
  },
  {
   "cell_type": "code",
   "execution_count": 36,
   "metadata": {},
   "outputs": [],
   "source": [
    "# Feature Selection (|r| > 0.3)\n",
    "exclude_cols = ['unique_id', 'ds', 'y', 'observation_date', 'month']\n",
    "feature_cols = [col for col in df.columns if col not in exclude_cols]\n",
    "numeric_features = df[feature_cols].select_dtypes(include=[np.number]).columns.tolist()\n",
    "\n",
    "cor_matrix = df[numeric_features + ['y']].corr()\n",
    "selected_features = cor_matrix['y'].drop('y').loc[lambda x: x.abs() > 0.3].index.tolist()\n",
    "selected_features = list(set(selected_features))  # remove duplicates"
   ]
  },
  {
   "cell_type": "markdown",
   "metadata": {},
   "source": [
    "### Normalise Features"
   ]
  },
  {
   "cell_type": "code",
   "execution_count": 37,
   "metadata": {},
   "outputs": [],
   "source": [
    "# Normalize Features\n",
    "x_scaler = StandardScaler()\n",
    "df[selected_features] = x_scaler.fit_transform(df[selected_features])\n",
    "y_scaler = StandardScaler()\n",
    "df[\"y\"] = y_scaler.fit_transform(df[[\"y\"]])\n",
    "\n",
    "# Final dataset\n",
    "df_model = df[['unique_id', 'ds', 'y'] + selected_features]"
   ]
  },
  {
   "cell_type": "markdown",
   "metadata": {},
   "source": [
    "## Model Definitiion"
   ]
  },
  {
   "cell_type": "markdown",
   "metadata": {},
   "source": [
    "#### Model Setup:\n",
    "- **HORIZON = 6**: Forecasts 6 months ahead.\n",
    "- **input_size = 48**: Uses the past 48 months of data for each prediction.\n",
    "- **learning_rate = 5e-4**: Sets a relatively standard learning rate for optimization.\n",
    "- **max_steps = 100**: Trains the model for a maximum of 100 steps.\n",
    "- **val_check_steps = 200**: Validation checks occur after 200 steps (but here it's automatically clipped to 100).\n",
    "\n",
    "#### N-BEATSx Configuration:\n",
    "- **futr_exog_list = selected_features**: Passes in the list of selected exogenous variables (e.g., lags, Fourier terms, rolling stats).\n",
    "- **stack_types = default**: Since not specified, the model uses the default stack configuration (`generic` blocks).\n",
    "- **scaler_type = \"robust\"**: Uses robust normalization to handle potential outliers in the data.\n",
    "- **loss = MSE()**: Optimizes the **Mean Squared Error**, focusing on minimizing squared differences between predicted and actual values.\n",
    "- **random_seed = 42**: Ensures reproducibility by fixing the random seed.\n",
    "\n",
    "#### Frequency:\n",
    "- **freq = \"M\"**: The model is trained on **monthly** data."
   ]
  },
  {
   "cell_type": "code",
   "execution_count": 38,
   "metadata": {},
   "outputs": [
    {
     "name": "stderr",
     "output_type": "stream",
     "text": [
      "Seed set to 42\n"
     ]
    }
   ],
   "source": [
    "# Define Model\n",
    "HORIZON = 6\n",
    "model = NeuralForecast(\n",
    "    models=[\n",
    "        NBEATSx(\n",
    "            h=HORIZON,\n",
    "            input_size=48,\n",
    "            max_steps=100,\n",
    "            val_check_steps=200,\n",
    "            learning_rate=5e-4,\n",
    "            futr_exog_list=selected_features,\n",
    "            scaler_type=\"robust\",\n",
    "            loss=MSE(),\n",
    "            random_seed=42\n",
    "        )\n",
    "    ],\n",
    "    freq=\"M\"\n",
    ")"
   ]
  },
  {
   "cell_type": "markdown",
   "metadata": {},
   "source": [
    "## Cross Validation"
   ]
  },
  {
   "cell_type": "code",
   "execution_count": 39,
   "metadata": {},
   "outputs": [
    {
     "name": "stderr",
     "output_type": "stream",
     "text": [
      "/Library/Frameworks/Python.framework/Versions/3.11/lib/python3.11/site-packages/neuralforecast/common/_base_model.py:535: UserWarning: val_check_steps is greater than max_steps, setting val_check_steps to max_steps.\n",
      "  warnings.warn(\n",
      "GPU available: False, used: False\n",
      "TPU available: False, using: 0 TPU cores\n",
      "HPU available: False, using: 0 HPUs\n",
      "\n",
      "  | Name         | Type          | Params | Mode \n",
      "-------------------------------------------------------\n",
      "0 | loss         | MSE           | 0      | train\n",
      "1 | padder_train | ConstantPad1d | 0      | train\n",
      "2 | scaler       | TemporalNorm  | 0      | train\n",
      "3 | blocks       | ModuleList    | 15.2 M | train\n",
      "-------------------------------------------------------\n",
      "15.2 M    Trainable params\n",
      "702       Non-trainable params\n",
      "15.2 M    Total params\n",
      "60.685    Total estimated model params size (MB)\n",
      "31        Modules in train mode\n",
      "0         Modules in eval mode\n"
     ]
    },
    {
     "name": "stdout",
     "output_type": "stream",
     "text": [
      "Epoch 99: 100%|██████████| 1/1 [00:01<00:00,  0.94it/s, v_num=3, train_loss_step=9.370, train_loss_epoch=9.370]    "
     ]
    },
    {
     "name": "stderr",
     "output_type": "stream",
     "text": [
      "`Trainer.fit` stopped: `max_steps=100` reached.\n"
     ]
    },
    {
     "name": "stdout",
     "output_type": "stream",
     "text": [
      "Epoch 99: 100%|██████████| 1/1 [00:01<00:00,  0.93it/s, v_num=3, train_loss_step=9.370, train_loss_epoch=9.370]"
     ]
    },
    {
     "name": "stderr",
     "output_type": "stream",
     "text": [
      "GPU available: False, used: False\n",
      "TPU available: False, using: 0 TPU cores\n",
      "HPU available: False, using: 0 HPUs\n"
     ]
    },
    {
     "name": "stdout",
     "output_type": "stream",
     "text": [
      "\n",
      "Predicting DataLoader 0: 100%|██████████| 1/1 [00:00<00:00, 35.64it/s]\n"
     ]
    }
   ],
   "source": [
    "# Run Cross-Validation\n",
    "df_cv = model.cross_validation(\n",
    "    df=df_model,\n",
    "    n_windows=10,\n",
    "    step_size=HORIZON\n",
    ")"
   ]
  },
  {
   "cell_type": "code",
   "execution_count": 40,
   "metadata": {},
   "outputs": [],
   "source": [
    "# Merge with Actuals\n",
    "merged = df_cv.merge(\n",
    "    df_model[[\"unique_id\", \"ds\", \"y\"]],\n",
    "    on=[\"unique_id\", \"ds\"],\n",
    "    how=\"left\",\n",
    "    suffixes=(\"\", \"_actual\")\n",
    ")\n",
    "\n",
    "# Drop missing predictions or targets\n",
    "merged = merged.dropna(subset=[\"y\", \"NBEATSx\"])\n",
    "\n",
    "# Inverse transform\n",
    "merged[\"y_inv\"] = y_scaler.inverse_transform(merged[[\"y\"]])\n",
    "merged[\"pred_inv\"] = y_scaler.inverse_transform(merged[[\"NBEATSx\"]])\n"
   ]
  },
  {
   "cell_type": "markdown",
   "metadata": {},
   "source": [
    "## Evaluation"
   ]
  },
  {
   "cell_type": "code",
   "execution_count": 41,
   "metadata": {},
   "outputs": [
    {
     "name": "stdout",
     "output_type": "stream",
     "text": [
      "Cross-Validation RMSE: 0.5103\n"
     ]
    },
    {
     "data": {
      "image/png": "[encoded data removed]",
      "text/plain": [
       "<Figure size 1200x500 with 1 Axes>"
      ]
     },
     "metadata": {},
     "output_type": "display_data"
    }
   ],
   "source": [
    "# ===============================\n",
    "# Evaluate\n",
    "# ===============================\n",
    "rmse = np.sqrt(mean_squared_error(merged[\"y_inv\"], merged[\"pred_inv\"]))\n",
    "print(f\"Cross-Validation RMSE: {rmse:.4f}\")\n",
    "\n",
    "# ===============================\n",
    "# Plot\n",
    "# ===============================\n",
    "plt.figure(figsize=(12, 5))\n",
    "sns.lineplot(data=merged, x=\"ds\", y=\"y_inv\", label=\"Actual Inflation\", color=\"black\")\n",
    "sns.lineplot(data=merged, x=\"ds\", y=\"pred_inv\", label=\"Predicted Inflation\", linestyle=\"--\", color=\"blue\")\n",
    "plt.title(\"N-BEATSx Forecast (Fourier + Lags + Rolling Features + Exogenous)\")\n",
    "plt.xlabel(\"Date\")\n",
    "plt.ylabel(\"Inflation\")\n",
    "plt.grid(True)\n",
    "plt.tight_layout()\n",
    "plt.legend()\n",
    "plt.show()\n"
   ]
  },
  {
   "cell_type": "code",
   "execution_count": 42,
   "metadata": {},
   "outputs": [
    {
     "name": "stdout",
     "output_type": "stream",
     "text": [
      "Model saved to 'nbeatsx_model1.ckpt'\n"
     ]
    }
   ],
   "source": [
    "# Save model checkpoint\n",
    "model.models[0].trainer.save_checkpoint(\"nbeatsx_model1.ckpt\")\n",
    "print(\"Model saved to 'nbeatsx_model1.ckpt'\")"
   ]
  },
  {
   "cell_type": "markdown",
   "metadata": {},
   "source": [
    "# Nixtla N-BEATSx (Full Feature Heavy)\n",
    "\n",
    "### Preprocessing Comparison: Model 2 below vs. Model 1 above\n",
    "\n",
    "Both models are based on the same dataset (`train2000s.csv`) and share foundational preprocessing steps like:\n",
    "\n",
    "- Converting `observation_date` to datetime (`ds`)\n",
    "- Setting `unique_id` to `'inflation'`\n",
    "- Renaming the inflation column to `y`\n",
    "- Dropping NaN rows after feature creation\n",
    "- Selecting exogenous features based on correlation with `y` (|r| > 0.3)\n",
    "- Applying `StandardScaler` on features and target (`y`)\n",
    "\n",
    "#### Shared Feature Engineering (Both Models):\n",
    "- **Fourier Features:** Sine & Cosine terms for 3 harmonics (seasonality)\n",
    "- **Lag Features:** Lags of 1, 6, and 12 months\n",
    "- **Rolling Features:** Mean & Std over a 3-month window\n",
    "- **Feature Selection:** Based on correlation threshold with target\n",
    "\n",
    "---\n",
    "\n",
    "### Additional Feature Engineering in **Model 2** (more advanced):\n",
    "Model 2 performs **richer feature engineering** to enhance temporal dynamics and smoothness:\n",
    "\n",
    "| Feature Type       | Description                                          |\n",
    "|--------------------|------------------------------------------------------|\n",
    "| `y_lag_24`         | Adds a 24-month lag to capture longer-term memory    |\n",
    "| `rolling_mean_{6,12}` | Includes broader smoothing context               |\n",
    "| `rolling_std_{6,12}`  | Includes broader volatility estimation            |\n",
    "| `rolling_skew_6`   | Captures asymmetry in the recent 6-month window      |\n",
    "| `rolling_kurt_6`   | Captures \"tailedness\" or extreme fluctuations        |\n",
    "| `ema_3`, `ema_12`  | Applies exponential smoothing to better track trends |\n",
    "| `y_pct_change`     | Captures month-over-month percentage change          |\n",
    "| `y_momentum`       | Second-order difference to reflect momentum shifts   |\n",
    "\n",
    "This added diversity in statistical, trend-based, and frequency-based features in **Model 2** allows for **more context-rich learning**, especially useful for time series with subtle seasonal or structural shifts.\n",
    "\n",
    "---\n",
    "\n",
    "### Summary:\n",
    "- **Model 1:** Simpler, lighter preprocessing; fewer features; faster to train\n",
    "- **Model 2:** More comprehensive temporal and statistical features; better suited for capturing complex dynamics in inflation data\n",
    "\n",
    "> As seen in the plots and RMSE/MAE metrics, **Model 2's predictions are more aligned with actual inflation trends**, likely due to this enhanced feature representation.\n"
   ]
  },
  {
   "cell_type": "markdown",
   "metadata": {},
   "source": [
    "## Load and Preprocess data"
   ]
  },
  {
   "cell_type": "code",
   "execution_count": 43,
   "metadata": {},
   "outputs": [],
   "source": [
    "# Load & Preprocess Dataset\n",
    "df = pd.read_csv(\"../../Data/Train/train1990s.csv\")\n",
    "df['ds'] = pd.to_datetime(df['observation_date'], format=\"%m/%Y\")\n",
    "df['unique_id'] = 'inflation'\n",
    "df = df.rename(columns={\"fred_PCEPI\": \"y\"})\n",
    "df[\"y_original\"] = df[\"y\"]"
   ]
  },
  {
   "cell_type": "markdown",
   "metadata": {},
   "source": [
    "### Add Features: Fourier, Lags, Rolling Stats, EMAs, Momentum"
   ]
  },
  {
   "cell_type": "code",
   "execution_count": 44,
   "metadata": {},
   "outputs": [],
   "source": [
    "# Add Features: Fourier, Lags, Rolling Stats, EMAs, Momentum\n",
    "df[\"month\"] = df[\"ds\"].dt.month\n",
    "\n",
    "for k in range(1, 4):\n",
    "    df[f'sin_{k}'] = np.sin(2 * np.pi * k * df[\"month\"] / 12)\n",
    "    df[f'cos_{k}'] = np.cos(2 * np.pi * k * df[\"month\"] / 12)\n",
    "\n",
    "for lag in [1, 6, 12, 24]:\n",
    "    df[f'y_lag_{lag}'] = df['y'].shift(lag)\n",
    "\n",
    "for window in [3, 6, 12]:\n",
    "    df[f'rolling_mean_{window}'] = df['y'].rolling(window).mean()\n",
    "    df[f'rolling_std_{window}'] = df['y'].rolling(window).std()\n",
    "\n",
    "df['rolling_mean_6_lag1'] = df['rolling_mean_6'].shift(1)\n",
    "df['rolling_skew_6'] = df['y'].rolling(6).skew()\n",
    "df['rolling_kurt_6'] = df['y'].rolling(6).kurt()\n",
    "df['ema_3'] = df['y'].ewm(span=3).mean()\n",
    "df['ema_12'] = df['y'].ewm(span=12).mean()\n",
    "df['y_pct_change'] = df['y'].pct_change()\n",
    "df['y_momentum'] = df['y_pct_change'].diff()\n",
    "\n",
    "df = df.dropna()"
   ]
  },
  {
   "cell_type": "markdown",
   "metadata": {},
   "source": [
    "## Feature Selection (|r| > 0.3)"
   ]
  },
  {
   "cell_type": "code",
   "execution_count": 45,
   "metadata": {},
   "outputs": [],
   "source": [
    "# Feature Selection (|r| > 0.3)\n",
    "exclude_cols = ['unique_id', 'ds', 'y', 'y_original', 'observation_date', 'month']\n",
    "feature_cols = [col for col in df.columns if col not in exclude_cols]\n",
    "numeric_features = df[feature_cols].select_dtypes(include=[np.number]).columns.tolist()\n",
    "\n",
    "cor_matrix = df[numeric_features + ['y']].corr()\n",
    "selected_features = cor_matrix['y'].drop('y').loc[lambda x: x.abs() > 0.3].index.tolist()\n",
    "selected_features = list(set(selected_features))"
   ]
  },
  {
   "cell_type": "markdown",
   "metadata": {},
   "source": [
    "## Normalize Features"
   ]
  },
  {
   "cell_type": "code",
   "execution_count": 46,
   "metadata": {},
   "outputs": [],
   "source": [
    "# Normalize Features\n",
    "x_scaler = StandardScaler()\n",
    "df[selected_features] = x_scaler.fit_transform(df[selected_features])\n",
    "y_scaler = StandardScaler()\n",
    "df[\"y\"] = y_scaler.fit_transform(df[[\"y\"]])\n",
    "\n",
    "df_model = df[['unique_id', 'ds', 'y'] + selected_features]\n",
    "df_targets = df[['unique_id', 'ds', 'y_original']]"
   ]
  },
  {
   "cell_type": "markdown",
   "metadata": {},
   "source": [
    "## Define model\n",
    "\n",
    "### N-BEATSx Model Architecture\n",
    "\n",
    "In this setup, I have defined a more powerful **N-BEATSx model** using the [NeuralForecast](https://nixtlaverse.nixtla.io/neuralforecast/models.nbeatsx.html) library, tailored for multivariate time series forecasting with exogenous variables.\n",
    "\n",
    "#### 🔧 Configuration Details:\n",
    "| Parameter            | Value / Description                                                                 |\n",
    "|----------------------|--------------------------------------------------------------------------------------|\n",
    "| `h`                  | Forecast horizon = 6 months                                                          |\n",
    "| `input_size`         | 144 (number of past timesteps used as context)                                      |\n",
    "| `max_steps`          | 500 (maximum training steps for convergence)                                        |\n",
    "| `val_check_steps`    | 100 (evaluate validation loss every 100 steps)                                      |\n",
    "| `learning_rate`      | 0.0002 (lower LR for finer convergence)                                             |\n",
    "| `n_blocks`           | `[3, 3, 3]` — defines 3 blocks each for trend, seasonality, and identity stacks      |\n",
    "| `stack_types`        | `[\"trend\", \"seasonality\", \"identity\"]` (stack-specific basis functions)             |\n",
    "| `dropout_prob_theta` | 0.2 (dropout for regularization inside theta MLP layers)                            |\n",
    "| `futr_exog_list`     | List of selected exogenous features used during training and forecasting             |\n",
    "| `scaler_type`        | `\"robust\"` (uses IQR-based scaling for better handling of outliers)                 |\n",
    "| `loss`               | `SMAPE()` — Symmetric Mean Absolute Percentage Error for better scale handling      |\n",
    "| `random_seed`        | 42 (for reproducibility)                                                             |\n",
    "| `freq`               | `\"M\"` — monthly time series                                                          |\n",
    "\n",
    "---"
   ]
  },
  {
   "cell_type": "code",
   "execution_count": 47,
   "metadata": {},
   "outputs": [
    {
     "name": "stderr",
     "output_type": "stream",
     "text": [
      "Seed set to 42\n"
     ]
    }
   ],
   "source": [
    "from neuralforecast.models import NBEATSx\n",
    "from neuralforecast.core import NeuralForecast\n",
    "from neuralforecast.losses.pytorch import SMAPE\n",
    "\n",
    "# Define N-BEATSx Model\n",
    "HORIZON = 6\n",
    "model = NeuralForecast(\n",
    "    models=[\n",
    "        NBEATSx(\n",
    "            h=HORIZON,\n",
    "            input_size=144,\n",
    "            max_steps=500,\n",
    "            val_check_steps=100,\n",
    "            learning_rate=2e-4,\n",
    "            n_blocks=[3, 3, 3],  # One for each stack_type\n",
    "            dropout_prob_theta=0.2,\n",
    "            stack_types=[\"trend\", \"seasonality\", \"identity\"],\n",
    "            futr_exog_list=selected_features,\n",
    "            scaler_type=\"robust\",\n",
    "            loss=SMAPE(),\n",
    "            random_seed=42\n",
    "        )\n",
    "    ],\n",
    "    freq=\"M\"\n",
    ")"
   ]
  },
  {
   "cell_type": "markdown",
   "metadata": {},
   "source": [
    "## Cross-Validation"
   ]
  },
  {
   "cell_type": "code",
   "execution_count": 48,
   "metadata": {},
   "outputs": [
    {
     "name": "stderr",
     "output_type": "stream",
     "text": [
      "GPU available: False, used: False\n",
      "TPU available: False, using: 0 TPU cores\n",
      "HPU available: False, using: 0 HPUs\n",
      "\n",
      "  | Name         | Type          | Params | Mode \n",
      "-------------------------------------------------------\n",
      "0 | loss         | SMAPE         | 0      | train\n",
      "1 | padder_train | ConstantPad1d | 0      | train\n",
      "2 | scaler       | TemporalNorm  | 0      | train\n",
      "3 | blocks       | ModuleList    | 122 M  | train\n",
      "-------------------------------------------------------\n",
      "122 M     Trainable params\n",
      "5.9 K     Non-trainable params\n",
      "122 M     Total params\n",
      "491.103   Total estimated model params size (MB)\n",
      "112       Modules in train mode\n",
      "0         Modules in eval mode\n"
     ]
    },
    {
     "name": "stdout",
     "output_type": "stream",
     "text": [
      "Epoch 499: 100%|██████████| 1/1 [00:09<00:00,  0.11it/s, v_num=5, train_loss_step=0.0569, train_loss_epoch=0.0569]"
     ]
    },
    {
     "name": "stderr",
     "output_type": "stream",
     "text": [
      "`Trainer.fit` stopped: `max_steps=500` reached.\n"
     ]
    },
    {
     "name": "stdout",
     "output_type": "stream",
     "text": [
      "Epoch 499: 100%|██████████| 1/1 [00:09<00:00,  0.11it/s, v_num=5, train_loss_step=0.0569, train_loss_epoch=0.0569]\n"
     ]
    },
    {
     "name": "stderr",
     "output_type": "stream",
     "text": [
      "GPU available: False, used: False\n",
      "TPU available: False, using: 0 TPU cores\n",
      "HPU available: False, using: 0 HPUs\n"
     ]
    },
    {
     "name": "stdout",
     "output_type": "stream",
     "text": [
      "Predicting DataLoader 0: 100%|██████████| 1/1 [00:00<00:00,  8.18it/s]\n"
     ]
    }
   ],
   "source": [
    "# Cross-Validation\n",
    "df_cv = model.cross_validation(\n",
    "    df=df_model,\n",
    "    n_windows=10,\n",
    "    step_size=HORIZON\n",
    ")"
   ]
  },
  {
   "cell_type": "markdown",
   "metadata": {},
   "source": [
    "## Evaluation"
   ]
  },
  {
   "cell_type": "code",
   "execution_count": 49,
   "metadata": {},
   "outputs": [
    {
     "name": "stdout",
     "output_type": "stream",
     "text": [
      "Cross-Validation MAE: 1.1150\n",
      "Cross-Validation RMSE: 1.5985\n"
     ]
    },
    {
     "data": {
      "image/png": "[encoded data removed]",
      "text/plain": [
       "<Figure size 1200x500 with 1 Axes>"
      ]
     },
     "metadata": {},
     "output_type": "display_data"
    }
   ],
   "source": [
    "from sklearn.metrics import mean_absolute_error, mean_squared_error\n",
    "\n",
    "# Merge & Evaluate\n",
    "merged = df_cv.merge(df_targets, on=[\"unique_id\", \"ds\"], how=\"left\")\n",
    "merged = merged.dropna(subset=[\"y_original\", \"NBEATSx\"])\n",
    "\n",
    "# Evaluate on original scale\n",
    "y_true = merged[\"y_original\"].values.reshape(-1, 1)\n",
    "y_pred = y_scaler.inverse_transform(merged[[\"NBEATSx\"]])\n",
    "\n",
    "mae = mean_absolute_error(y_true, y_pred)\n",
    "rmse = np.sqrt(mean_squared_error(y_true, y_pred))\n",
    "\n",
    "print(f\"Cross-Validation MAE: {mae:.4f}\")\n",
    "print(f\"Cross-Validation RMSE: {rmse:.4f}\")\n",
    "\n",
    "# Plot\n",
    "merged[\"y_inv\"] = y_true\n",
    "merged[\"pred_inv\"] = y_pred\n",
    "\n",
    "plt.figure(figsize=(12, 5))\n",
    "sns.lineplot(data=merged, x=\"ds\", y=\"y_inv\", label=\"Actual Inflation\", color=\"black\")\n",
    "sns.lineplot(data=merged, x=\"ds\", y=\"pred_inv\", label=\"Predicted Inflation\", linestyle=\"--\", color=\"blue\")\n",
    "plt.title(\"N-BEATSx Forecast (Fourier + Lags + Rolling + EMA + Momentum + Exogenous)\")\n",
    "plt.xlabel(\"Date\")\n",
    "plt.ylabel(\"Inflation\")\n",
    "plt.grid(True)\n",
    "plt.tight_layout()\n",
    "plt.legend()\n",
    "plt.show()\n"
   ]
  },
  {
   "cell_type": "markdown",
   "metadata": {},
   "source": [
    "## Save model"
   ]
  },
  {
   "cell_type": "code",
   "execution_count": 50,
   "metadata": {},
   "outputs": [
    {
     "name": "stdout",
     "output_type": "stream",
     "text": [
      "Model saved to 'nbeatsx_model2.ckpt'\n"
     ]
    }
   ],
   "source": [
    "# Save model checkpoint\n",
    "model.models[0].trainer.save_checkpoint(\"nbeatsx_model2.ckpt\")\n",
    "print(\"Model saved to 'nbeatsx_model2.ckpt'\")"
   ]
  },
  {
   "cell_type": "markdown",
   "metadata": {},
   "source": [
    "## Download N-BEATSx Models\n",
    "\n",
    "To avoid GitHub’s file size limits, the trained N-BEATSx models are hosted on OneDrive.\n",
    "\n",
    "- [nbeatsx_model1.ckpt (61.4 MB)](https://leeds365-my.sharepoint.com/:u:/g/personal/sc21ar_leeds_ac_uk/EQi-4bt0TydJlc3f6sIg_g8BPPnAsP6i93Oiz4XOW4zWNQ?e=FsaNWO)\n",
    "- [nbeatsx_model2.ckpt (489 MB)](https://leeds365-my.sharepoint.com/:u:/g/personal/sc21ar_leeds_ac_uk/EYoPTmm_NaJNvn8EQhmOSgoB4arB-RwgO-6-DgNfhMhepA?e=wOSLcT)\n",
    "\n",
    "After downloading, place them in your local `Training/N-BEATSx/` folder and load like this:\n"
   ]
  },
  {
   "cell_type": "code",
   "execution_count": 51,
   "metadata": {},
   "outputs": [
    {
     "name": "stderr",
     "output_type": "stream",
     "text": [
      "Seed set to 42\n"
     ]
    }
   ],
   "source": [
    "# To load it:\n",
    "from neuralforecast.models import NBEATSx\n",
    "from neuralforecast.core import NeuralForecast\n",
    "from neuralforecast.losses.pytorch import SMAPE\n",
    "\n",
    "# Load model\n",
    "loaded_nbeatsx = NBEATSx.load_from_checkpoint(\"nbeatsx_model2.ckpt\")\n",
    "restored_model = NeuralForecast(models=[loaded_nbeatsx], freq=\"M\")"
   ]
  },
  {
   "cell_type": "markdown",
   "metadata": {},
   "source": [
    "**Model Above (Without Dataset Exogenous Variables):**\n",
    "   - This model used Fourier terms, lag features, rolling statistics, EMAs, and momentum — all derived from the target variable itself.\n",
    "   - It **did not** incorporate any domain-specific exogenous variables from the original dataset like interest rates, unemployment, etc.\n",
    "   - Purpose: Establish a **baseline** performance and assess how much inflation can be predicted solely from historical inflation patterns and time-based signals.\n",
    "\n",
    "**Model Below (With Dataset Exogenous Variables):**\n",
    "   - This version **included relevant exogenous features** selected through correlation analysis (|r| > 0.4).\n",
    "   - These variables were passed using the `hist_exog_list` argument in the `NBEATSx` model configuration.\n",
    "   - Goal: Evaluate whether incorporating exogenous economic indicators improves forecast accuracy beyond what is achievable from target history alone.\n",
    "\n",
    "---\n",
    "\n",
    "Training a model without exogenous features first is useful because it:\n",
    "\n",
    "- Provides a **baseline** to compare improvements from added data.\n",
    "- Helps isolate the impact of **domain-specific variables**.\n",
    "- Prevents overfitting early in development — simpler models are easier to debug.\n",
    "- Encourages step-by-step modeling, which is critical when tuning complex neural architectures like N-BEATSx.\n",
    "\n",
    "By comparing the two, we can determine if and how much exogenous features contribute to **predictive power** in modeling inflation.\n"
   ]
  },
  {
   "cell_type": "markdown",
   "metadata": {},
   "source": [
    "# Nixtla N-BEATSx (Optimized) - Adding exogenous from dataset"
   ]
  },
  {
   "cell_type": "code",
   "execution_count": 1,
   "metadata": {},
   "outputs": [
    {
     "name": "stderr",
     "output_type": "stream",
     "text": [
      "/Library/Frameworks/Python.framework/Versions/3.11/lib/python3.11/site-packages/tqdm/auto.py:21: TqdmWarning: IProgress not found. Please update jupyter and ipywidgets. See https://ipywidgets.readthedocs.io/en/stable/user_install.html\n",
      "  from .autonotebook import tqdm as notebook_tqdm\n",
      "2025-03-24 22:02:49,903\tINFO util.py:154 -- Missing packages: ['ipywidgets']. Run `pip install -U ipywidgets`, then restart the notebook server for rich notebook output.\n",
      "2025-03-24 22:02:50,151\tINFO util.py:154 -- Missing packages: ['ipywidgets']. Run `pip install -U ipywidgets`, then restart the notebook server for rich notebook output.\n"
     ]
    }
   ],
   "source": [
    "import pandas as pd\n",
    "import numpy as np\n",
    "import matplotlib.pyplot as plt\n",
    "import seaborn as sns\n",
    "from sklearn.preprocessing import MinMaxScaler, StandardScaler\n",
    "from sklearn.metrics import mean_absolute_error, mean_squared_error\n",
    "\n",
    "from neuralforecast.models import NBEATSx\n",
    "from neuralforecast.core import NeuralForecast\n",
    "from neuralforecast.losses.pytorch import SMAPE"
   ]
  },
  {
   "cell_type": "markdown",
   "metadata": {},
   "source": [
    "## Load Dataset"
   ]
  },
  {
   "cell_type": "code",
   "execution_count": 2,
   "metadata": {},
   "outputs": [],
   "source": [
    "# Load Dataset\n",
    "df = pd.read_csv(\"../../Data/Train/train1990s.csv\")\n",
    "df['ds'] = pd.to_datetime(df['observation_date'], format=\"%m/%Y\")\n",
    "df['unique_id'] = 'inflation'\n",
    "df = df.rename(columns={\"fred_PCEPI\": \"y\"})\n",
    "df['y_original'] = df['y']"
   ]
  },
  {
   "cell_type": "markdown",
   "metadata": {},
   "source": [
    "## Feature Enginnering"
   ]
  },
  {
   "cell_type": "markdown",
   "metadata": {},
   "source": [
    "- **Feature Engineering**:  \n",
    "  New features were created to capture seasonality, lag effects, and momentum:\n",
    "  - `month`: Extracted from the datetime.\n",
    "  - `sin_1`, `cos_1`: Fourier features to model cyclic patterns.\n",
    "  - `y_lag_1`: Previous time step of the target variable.\n",
    "  - `y_pct_change`: First-order percentage change.\n",
    "  - `y_momentum`: Second-order difference to capture momentum.\n"
   ]
  },
  {
   "cell_type": "code",
   "execution_count": 3,
   "metadata": {},
   "outputs": [],
   "source": [
    "# Feature Engineering\n",
    "df[\"month\"] = df[\"ds\"].dt.month\n",
    "df[\"sin_1\"] = np.sin(2 * np.pi * df[\"month\"] / 12)\n",
    "df[\"cos_1\"] = np.cos(2 * np.pi * df[\"month\"] / 12)\n",
    "df[\"y_lag_1\"] = df[\"y_original\"].shift(1)\n",
    "df[\"y_pct_change\"] = df[\"y_original\"].pct_change()\n",
    "df[\"y_momentum\"] = df[\"y_pct_change\"].diff()\n",
    "df = df.dropna()"
   ]
  },
  {
   "cell_type": "markdown",
   "metadata": {},
   "source": [
    "- **Feature Selection**:  \n",
    "  Features with absolute correlation > 0.4 with the normalized target (`y`) were selected based on a correlation matrix.\n"
   ]
  },
  {
   "cell_type": "code",
   "execution_count": 4,
   "metadata": {},
   "outputs": [],
   "source": [
    "# Feature Selection (|r| > 0.4)\n",
    "exclude = ['observation_date', 'ds', 'unique_id', 'y', 'y_original']\n",
    "exog_features = [col for col in df.columns if col not in exclude]\n",
    "cor_matrix = df[exog_features + ['y']].corr()\n",
    "selected_features = cor_matrix['y'].drop('y').loc[lambda x: x.abs() > 0.4].index.tolist()"
   ]
  },
  {
   "cell_type": "markdown",
   "metadata": {},
   "source": [
    "\n",
    "- **Normalization**:  \n",
    "  - Selected features were scaled using `StandardScaler` (mean = 0, std = 1).\n",
    "  - The target variable `y` was scaled using `MinMaxScaler` (range 0 to 1) to stabilize training."
   ]
  },
  {
   "cell_type": "code",
   "execution_count": 5,
   "metadata": {},
   "outputs": [],
   "source": [
    "# Normalize\n",
    "x_scaler = StandardScaler()\n",
    "df[selected_features] = x_scaler.fit_transform(df[selected_features])\n",
    "\n",
    "y_scaler = MinMaxScaler()\n",
    "df[\"y\"] = y_scaler.fit_transform(df[[\"y\"]])\n",
    "\n",
    "df_model = df[['unique_id', 'ds', 'y'] + selected_features]\n",
    "df_targets = df[['unique_id', 'ds', 'y_original']]"
   ]
  },
  {
   "cell_type": "markdown",
   "metadata": {},
   "source": [
    "## Define Model\n",
    "\n",
    "- **Model Architecture**: Used the `NBEATSx` model from the `NeuralForecast` library.\n",
    "- **Forecast Horizon**: Set to predict the next 6 months (`h=6`).\n",
    "- **Input Window**: Uses 48 months of historical data (`input_size=48`).\n",
    "- **Training Configuration**:\n",
    "  - `max_steps=500`: Trains for 500 steps.\n",
    "  - `val_check_steps=100`: Checks validation loss every 100 steps.\n",
    "  - `dropout_prob_theta=0.3`: Regularization to prevent overfitting.\n",
    "  - `learning_rate=5e-4`: Learning rate for the optimizer.\n",
    "  - `stack_types=[\"trend\", \"seasonality\"]`: Captures both long-term and seasonal patterns.\n",
    "  - `n_blocks=[2, 2]`: Two blocks for each stack type.\n",
    "\n",
    "- **Exogenous Features**: Historical exogenous variables (`hist_exog_list`) selected during feature engineering are used.\n",
    "- **Loss Function**: Symmetric Mean Absolute Percentage Error (`SMAPE`) to evaluate forecasting accuracy.\n",
    "- **Scaler Type**: Internal scaling set to `'robust'` for stability.\n",
    "- **Reproducibility**: `random_seed=42` ensures consistent results across runs.\n"
   ]
  },
  {
   "cell_type": "code",
   "execution_count": 6,
   "metadata": {},
   "outputs": [
    {
     "name": "stderr",
     "output_type": "stream",
     "text": [
      "Seed set to 42\n"
     ]
    }
   ],
   "source": [
    "# Define N-BEATSx Model\n",
    "HORIZON = 6\n",
    "model = NeuralForecast(\n",
    "    models=[\n",
    "        NBEATSx(\n",
    "            h=HORIZON,\n",
    "            input_size=48,\n",
    "            max_steps=500,\n",
    "            val_check_steps=100,\n",
    "            learning_rate=5e-4,\n",
    "            n_blocks=[2, 2],\n",
    "            dropout_prob_theta=0.3,\n",
    "            stack_types=[\"trend\", \"seasonality\"],\n",
    "            hist_exog_list=selected_features,\n",
    "            scaler_type=\"robust\",\n",
    "            loss=SMAPE(),\n",
    "            random_seed=42\n",
    "        )\n",
    "    ],\n",
    "    freq=\"M\"\n",
    ")"
   ]
  },
  {
   "cell_type": "markdown",
   "metadata": {},
   "source": [
    "## Train/Val via Cross-Validation"
   ]
  },
  {
   "cell_type": "code",
   "execution_count": 7,
   "metadata": {},
   "outputs": [
    {
     "name": "stderr",
     "output_type": "stream",
     "text": [
      "GPU available: False, used: False\n",
      "TPU available: False, using: 0 TPU cores\n",
      "HPU available: False, using: 0 HPUs\n",
      "2025-03-24 22:03:00.471770: I tensorflow/core/platform/cpu_feature_guard.cc:210] This TensorFlow binary is optimized to use available CPU instructions in performance-critical operations.\n",
      "To enable the following instructions: AVX2 FMA, in other operations, rebuild TensorFlow with the appropriate compiler flags.\n",
      "\n",
      "  | Name         | Type          | Params | Mode \n",
      "-------------------------------------------------------\n",
      "0 | loss         | SMAPE         | 0      | train\n",
      "1 | padder_train | ConstantPad1d | 0      | train\n",
      "2 | scaler       | TemporalNorm  | 0      | train\n",
      "3 | blocks       | ModuleList    | 16.9 M | train\n",
      "-------------------------------------------------------\n",
      "16.9 M    Trainable params\n",
      "1.4 K     Non-trainable params\n",
      "16.9 M    Total params\n",
      "67.778    Total estimated model params size (MB)\n",
      "52        Modules in train mode\n",
      "0         Modules in eval mode\n"
     ]
    },
    {
     "name": "stdout",
     "output_type": "stream",
     "text": [
      "Epoch 499: 100%|██████████| 1/1 [00:01<00:00,  0.56it/s, v_num=0, train_loss_step=0.0185, train_loss_epoch=0.0185]"
     ]
    },
    {
     "name": "stderr",
     "output_type": "stream",
     "text": [
      "`Trainer.fit` stopped: `max_steps=500` reached.\n"
     ]
    },
    {
     "name": "stdout",
     "output_type": "stream",
     "text": [
      "Epoch 499: 100%|██████████| 1/1 [00:01<00:00,  0.55it/s, v_num=0, train_loss_step=0.0185, train_loss_epoch=0.0185]\n"
     ]
    },
    {
     "name": "stderr",
     "output_type": "stream",
     "text": [
      "GPU available: False, used: False\n",
      "TPU available: False, using: 0 TPU cores\n",
      "HPU available: False, using: 0 HPUs\n"
     ]
    },
    {
     "name": "stdout",
     "output_type": "stream",
     "text": [
      "Predicting DataLoader 0: 100%|██████████| 1/1 [00:00<00:00, 18.08it/s]\n"
     ]
    }
   ],
   "source": [
    "# Train/Val via Cross-Validation\n",
    "df_cv = model.cross_validation(\n",
    "    df=df_model,\n",
    "    n_windows=10,\n",
    "    step_size=HORIZON\n",
    ")"
   ]
  },
  {
   "cell_type": "markdown",
   "metadata": {},
   "source": [
    "## Evaluation"
   ]
  },
  {
   "cell_type": "code",
   "execution_count": 8,
   "metadata": {},
   "outputs": [
    {
     "name": "stdout",
     "output_type": "stream",
     "text": [
      "Cross-Validation MAE: 0.3085\n",
      "Cross-Validation RMSE: 0.3870\n"
     ]
    },
    {
     "data": {
      "image/png": "[encoded data removed]",
      "text/plain": [
       "<Figure size 1200x500 with 1 Axes>"
      ]
     },
     "metadata": {},
     "output_type": "display_data"
    }
   ],
   "source": [
    "# ===============================\n",
    "# Evaluation\n",
    "# ===============================\n",
    "merged = df_cv.merge(df_targets, on=[\"unique_id\", \"ds\"], how=\"left\")\n",
    "merged = merged.dropna(subset=[\"y_original\", \"NBEATSx\"])\n",
    "\n",
    "y_true = merged[\"y_original\"].values.reshape(-1, 1)\n",
    "y_pred = y_scaler.inverse_transform(merged[[\"NBEATSx\"]])\n",
    "\n",
    "mae = mean_absolute_error(y_true, y_pred)\n",
    "rmse = np.sqrt(mean_squared_error(y_true, y_pred))\n",
    "\n",
    "print(f\"Cross-Validation MAE: {mae:.4f}\")\n",
    "print(f\"Cross-Validation RMSE: {rmse:.4f}\")\n",
    "\n",
    "# ===============================\n",
    "# Plot\n",
    "# ===============================\n",
    "merged[\"y_inv\"] = y_true\n",
    "merged[\"pred_inv\"] = y_pred\n",
    "\n",
    "plt.figure(figsize=(12, 5))\n",
    "sns.lineplot(data=merged, x=\"ds\", y=\"y_inv\", label=\"Actual Inflation\", color=\"black\")\n",
    "sns.lineplot(data=merged, x=\"ds\", y=\"pred_inv\", label=\"Predicted Inflation\", linestyle=\"--\", color=\"blue\")\n",
    "plt.title(\"N-BEATSx Forecast (Fourier + Lag + Momentum + Exogenous)\")\n",
    "plt.xlabel(\"Date\")\n",
    "plt.ylabel(\"Inflation\")\n",
    "plt.grid(True)\n",
    "plt.tight_layout()\n",
    "plt.legend()\n",
    "plt.show()\n"
   ]
  },
  {
   "cell_type": "markdown",
   "metadata": {},
   "source": [
    "## Model Saving"
   ]
  },
  {
   "cell_type": "code",
   "execution_count": 60,
   "metadata": {},
   "outputs": [
    {
     "name": "stdout",
     "output_type": "stream",
     "text": [
      "Model saved to nbeatsx_model_exogenous.pkl\n"
     ]
    }
   ],
   "source": [
    "import joblib\n",
    "import os\n",
    "\n",
    "# Save the trained NeuralForecast object (includes NBEATSx)\n",
    "joblib.dump(model, \"nbeatsx_model_exogenous.pkl\")\n",
    "print(\"Model saved to nbeatsx_model_exogenous.pkl\")\n"
   ]
  },
  {
   "cell_type": "markdown",
   "metadata": {},
   "source": [
    "## Download N-BEATSx Models\n",
    "\n",
    "To avoid GitHub’s file size limits, the trained N-BEATSx models are hosted on OneDrive.\n",
    "\n",
    "- [nbeatsx_model_exogenous.pkl (61.4 MB)](https://leeds365-my.sharepoint.com/:u:/g/personal/sc21ar_leeds_ac_uk/ESwuoWdMcsRJu_J0uJn2cyYBK_2ciWF9AS2xYSm-tSaDdQ?e=d0G2fM)\n",
    "\n",
    "After downloading, place them in your local `Training/N-BEATSx/` folder and load like this:\n"
   ]
  },
  {
   "cell_type": "code",
   "execution_count": null,
   "metadata": {},
   "outputs": [],
   "source": [
    "# To load it:\n",
    "from neuralforecast.models import NBEATSx\n",
    "from neuralforecast.core import NeuralForecast\n",
    "from neuralforecast.losses.pytorch import SMAPE\n",
    "\n",
    "# Load model\n",
    "loaded_nbeatsx = NBEATSx.load_from_checkpoint(\"nbeatsx_model_exogenous.pkl\")\n",
    "restored_model = NeuralForecast(models=[loaded_nbeatsx], freq=\"M\")"
   ]
  },
  {
   "cell_type": "markdown",
   "metadata": {},
   "source": [
    "## **Comparison of N-BEATSx Implementations**\n",
    "\n",
    "| Model ID | Name | Description |\n",
    "|----------|------|-------------|\n",
    "| **Model 1** | `N-BEATSx (Manual PyTorch)` | Custom architecture using FFT and PCA in PyTorch |\n",
    "| **Model 2** | `Nixtla N-BEATSx (Basic)` | Nixtla version with Fourier + Lag + Rolling (no momentum/EMA) |\n",
    "| **Model 3** | `Nixtla N-BEATSx (Full Feature Heavy)` | All features (Fourier, Lag, EMA, Momentum, Rolling, etc.) |\n",
    "| **Model 4** | `Nixtla N-BEATSx (Optimized)` | Balanced features + momentum + selected exogenous (best performing) |\n",
    "\n",
    "### 1. **Exploratory Data Analysis (EDA) and Preprocessing**\n",
    "\n",
    "| Component | Model 1: PyTorch | Model 2: Nixtla Basic | Model 3: Nixtla Heavy | Model 4: Nixtla Optimized |\n",
    "|----------|------------------|------------------|------------------|------------------|\n",
    "| **Dataset Used** | `train1990s.csv` | `train1990s.csv` | `train1990s.csv` | `train1990s.csv` |\n",
    "| **Target Variable** | `fred_PCEPI` | Renamed to `y` | Renamed to `y` | Renamed to `y` |\n",
    "| **Train/Val Split** | Manual (60-20-20) | Auto CV | Auto CV | Auto CV |\n",
    "| **Missing Values** | Dropped post-engineering | Dropped after rolling/lag | Dropped after full pipeline | Dropped after basic engineering |\n",
    "\n",
    "### 2. **Feature Engineering**\n",
    "\n",
    "| Feature | Model 1: PyTorch | Model 2: Nixtla Basic | Model 3: Nixtla Heavy | Model 4: Nixtla Optimized |\n",
    "|--------|------------------|------------------------|-----------------------|------------------------|\n",
    "| **Fourier** | FFT (log real/imag) | sin/cos (3 harmonics) | sin/cos (3 harmonics) | sin/cos (1 harmonic) |\n",
    "| **Lag** | Implicit via sequence | Lag 1, 6, 12 | Lag 1, 6, 12, 24 | Lag 1 |\n",
    "| **Rolling** | NO | Mean/Std (3) | Mean/Std (3,6,12), skew/kurt | Mean (6) only |\n",
    "| **Momentum** | Manual momentum + pct change | Included | Included | Included |\n",
    "| **EMA** | NO | NO | EMA-3, EMA-12 | NO |\n",
    "| **PCA** | YES (5 comps) | NO | NO | NO |\n",
    "| **Other** | Gaussian Smoothing | Raw Input | Full statistical features | Clean, interpretable design |\n",
    "\n",
    "### 3. **Scaling & Normalization**\n",
    "\n",
    "| Component | Model 1: PyTorch | Model 2: Nixtla Basic | Model 3: Nixtla Heavy | Model 4: Nixtla Optimized |\n",
    "|-----------|---------|---------|---------|---------|\n",
    "| **Target (`y`)** | MinMax | Standard | Standard | MinMax |\n",
    "| **Exogenous** | Standard + PCA | Standard | Standard | Standard |\n",
    "| **Output Inversion** | YES | YES | YES | YES |\n",
    "\n",
    "### 4. **Model Architecture & Training**\n",
    "\n",
    "| Component | Model 1: PyTorch | Model 2: Nixtla Basic | Model 3: Nixtla Heavy | Model 4: Nixtla Optimized |\n",
    "|-----------|------------------|------------------------|------------------------|----------------------------|\n",
    "| **Framework** | PyTorch (Manual) | NeuralForecast | NeuralForecast | NeuralForecast |\n",
    "| **Exog Usage** | Historical (past only) | Future (`futr_exog_list`) | Future (`futr_exog_list`) | Historical (`hist_exog_list`) |\n",
    "| **Stack Types** | Custom Blocks | `trend`, `seasonality` | `trend`, `seasonality`, `identity` | `trend`, `seasonality` |\n",
    "| **Dropout** | 0.2 | 0.3 | 0.2 | 0.3 |\n",
    "| **Loss** | HuberLoss | MSE | SMAPE | SMAPE |\n",
    "| **Steps/Epochs** | 100 epochs | 100 steps | 500 steps | 500 steps |\n",
    "| **Learning Rate** | 1e-3 | 5e-4 | 2e-4 | 5e-4 |\n",
    "\n",
    "### 5. **Evaluation & Metrics**\n",
    "\n",
    "| Metric | Model 1: PyTorch | Model 2: Nixtla Basic | Model 3: Nixtla Heavy | **Model 4: Nixtla Optimized** |\n",
    "|--------|---------|---------|---------|----------------|\n",
    "| **MAE** | — | — | **1.1150** | **0.3002** |\n",
    "| **RMSE** | ~3.2 visually | **0.5103** | 1.5985 | **0.3752** |\n",
    "| **Smoothing** | Gaussian (custom) | None | None | None |\n",
    "| **Evaluation Style** | Manual test split | CV (4-fold) | CV (4-fold) | CV (4-fold) |\n",
    "\n",
    "### 6. **Unique Characteristics**\n",
    "\n",
    "| Feature | Model 1: PyTorch | Model 2: Nixtla Basic | Model 3: Nixtla Heavy | Model 4: Nixtla Optimized |\n",
    "|--------|---------|---------|---------|---------|\n",
    "| **Custom Architecture** | Fully manual | NO | NO | NO |\n",
    "| **FFT (real+imag)** | YES | NO | NO | NO |\n",
    "| **PCA on Exog** | YES | NO | NO | NO |\n",
    "| **Best Performance** | NO | NO | NO | YES |\n",
    "\n",
    "### **Final Verdict: Use Model 4: Nixtla Optimized**\n",
    "\n",
    "- **Best RMSE & MAE**\n",
    "- **Simplest + most effective feature set**\n",
    "- **Well-behaved predictions (less variance)**\n",
    "- **Balanced feature engineering without overfitting**"
   ]
  },
  {
   "cell_type": "markdown",
   "metadata": {},
   "source": [
    "## Adjustments for 48-Month Forecast & Evaluation"
   ]
  },
  {
   "cell_type": "code",
   "execution_count": 10,
   "metadata": {},
   "outputs": [
    {
     "name": "stderr",
     "output_type": "stream",
     "text": [
      "Seed set to 42\n",
      "GPU available: False, used: False\n",
      "TPU available: False, using: 0 TPU cores\n",
      "HPU available: False, using: 0 HPUs\n",
      "\n",
      "  | Name         | Type          | Params | Mode \n",
      "-------------------------------------------------------\n",
      "0 | loss         | SMAPE         | 0      | train\n",
      "1 | padder_train | ConstantPad1d | 0      | train\n",
      "2 | scaler       | TemporalNorm  | 0      | train\n",
      "3 | blocks       | ModuleList    | 30.9 M | train\n",
      "-------------------------------------------------------\n",
      "30.9 M    Trainable params\n",
      "27.9 K    Non-trainable params\n",
      "30.9 M    Total params\n",
      "123.624   Total estimated model params size (MB)\n",
      "52        Modules in train mode\n",
      "0         Modules in eval mode\n"
     ]
    },
    {
     "name": "stdout",
     "output_type": "stream",
     "text": [
      "Epoch 499: 100%|██████████| 1/1 [00:03<00:00,  0.27it/s, v_num=4, train_loss_step=0.0441, train_loss_epoch=0.0441]"
     ]
    },
    {
     "name": "stderr",
     "output_type": "stream",
     "text": [
      "`Trainer.fit` stopped: `max_steps=500` reached.\n"
     ]
    },
    {
     "name": "stdout",
     "output_type": "stream",
     "text": [
      "Epoch 499: 100%|██████████| 1/1 [00:03<00:00,  0.27it/s, v_num=4, train_loss_step=0.0441, train_loss_epoch=0.0441]\n"
     ]
    },
    {
     "name": "stderr",
     "output_type": "stream",
     "text": [
      "/Library/Frameworks/Python.framework/Versions/3.11/lib/python3.11/site-packages/utilsforecast/processing.py:384: FutureWarning: 'M' is deprecated and will be removed in a future version, please use 'ME' instead.\n",
      "  freq = pd.tseries.frequencies.to_offset(freq)\n",
      "/Library/Frameworks/Python.framework/Versions/3.11/lib/python3.11/site-packages/utilsforecast/processing.py:440: FutureWarning: 'M' is deprecated and will be removed in a future version, please use 'ME' instead.\n",
      "  freq = pd.tseries.frequencies.to_offset(freq)\n",
      "/Library/Frameworks/Python.framework/Versions/3.11/lib/python3.11/site-packages/utilsforecast/processing.py:130: PerformanceWarning: DataFrame is highly fragmented.  This is usually the result of calling `frame.insert` many times, which has poor performance.  Consider joining all columns at once using pd.concat(axis=1) instead. To get a de-fragmented frame, use `newframe = frame.copy()`\n",
      "  df[names] = values\n",
      "/Library/Frameworks/Python.framework/Versions/3.11/lib/python3.11/site-packages/utilsforecast/processing.py:130: PerformanceWarning: DataFrame is highly fragmented.  This is usually the result of calling `frame.insert` many times, which has poor performance.  Consider joining all columns at once using pd.concat(axis=1) instead. To get a de-fragmented frame, use `newframe = frame.copy()`\n",
      "  df[names] = values\n",
      "/Library/Frameworks/Python.framework/Versions/3.11/lib/python3.11/site-packages/utilsforecast/processing.py:130: PerformanceWarning: DataFrame is highly fragmented.  This is usually the result of calling `frame.insert` many times, which has poor performance.  Consider joining all columns at once using pd.concat(axis=1) instead. To get a de-fragmented frame, use `newframe = frame.copy()`\n",
      "  df[names] = values\n",
      "/Library/Frameworks/Python.framework/Versions/3.11/lib/python3.11/site-packages/utilsforecast/processing.py:130: PerformanceWarning: DataFrame is highly fragmented.  This is usually the result of calling `frame.insert` many times, which has poor performance.  Consider joining all columns at once using pd.concat(axis=1) instead. To get a de-fragmented frame, use `newframe = frame.copy()`\n",
      "  df[names] = values\n",
      "/Library/Frameworks/Python.framework/Versions/3.11/lib/python3.11/site-packages/utilsforecast/processing.py:130: PerformanceWarning: DataFrame is highly fragmented.  This is usually the result of calling `frame.insert` many times, which has poor performance.  Consider joining all columns at once using pd.concat(axis=1) instead. To get a de-fragmented frame, use `newframe = frame.copy()`\n",
      "  df[names] = values\n",
      "/Library/Frameworks/Python.framework/Versions/3.11/lib/python3.11/site-packages/utilsforecast/processing.py:130: PerformanceWarning: DataFrame is highly fragmented.  This is usually the result of calling `frame.insert` many times, which has poor performance.  Consider joining all columns at once using pd.concat(axis=1) instead. To get a de-fragmented frame, use `newframe = frame.copy()`\n",
      "  df[names] = values\n",
      "/Library/Frameworks/Python.framework/Versions/3.11/lib/python3.11/site-packages/utilsforecast/processing.py:130: PerformanceWarning: DataFrame is highly fragmented.  This is usually the result of calling `frame.insert` many times, which has poor performance.  Consider joining all columns at once using pd.concat(axis=1) instead. To get a de-fragmented frame, use `newframe = frame.copy()`\n",
      "  df[names] = values\n",
      "/Library/Frameworks/Python.framework/Versions/3.11/lib/python3.11/site-packages/utilsforecast/processing.py:130: PerformanceWarning: DataFrame is highly fragmented.  This is usually the result of calling `frame.insert` many times, which has poor performance.  Consider joining all columns at once using pd.concat(axis=1) instead. To get a de-fragmented frame, use `newframe = frame.copy()`\n",
      "  df[names] = values\n",
      "/Library/Frameworks/Python.framework/Versions/3.11/lib/python3.11/site-packages/utilsforecast/processing.py:130: PerformanceWarning: DataFrame is highly fragmented.  This is usually the result of calling `frame.insert` many times, which has poor performance.  Consider joining all columns at once using pd.concat(axis=1) instead. To get a de-fragmented frame, use `newframe = frame.copy()`\n",
      "  df[names] = values\n",
      "/Library/Frameworks/Python.framework/Versions/3.11/lib/python3.11/site-packages/utilsforecast/processing.py:130: PerformanceWarning: DataFrame is highly fragmented.  This is usually the result of calling `frame.insert` many times, which has poor performance.  Consider joining all columns at once using pd.concat(axis=1) instead. To get a de-fragmented frame, use `newframe = frame.copy()`\n",
      "  df[names] = values\n",
      "/Library/Frameworks/Python.framework/Versions/3.11/lib/python3.11/site-packages/utilsforecast/processing.py:130: PerformanceWarning: DataFrame is highly fragmented.  This is usually the result of calling `frame.insert` many times, which has poor performance.  Consider joining all columns at once using pd.concat(axis=1) instead. To get a de-fragmented frame, use `newframe = frame.copy()`\n",
      "  df[names] = values\n",
      "/Library/Frameworks/Python.framework/Versions/3.11/lib/python3.11/site-packages/utilsforecast/processing.py:130: PerformanceWarning: DataFrame is highly fragmented.  This is usually the result of calling `frame.insert` many times, which has poor performance.  Consider joining all columns at once using pd.concat(axis=1) instead. To get a de-fragmented frame, use `newframe = frame.copy()`\n",
      "  df[names] = values\n",
      "/Library/Frameworks/Python.framework/Versions/3.11/lib/python3.11/site-packages/utilsforecast/processing.py:130: PerformanceWarning: DataFrame is highly fragmented.  This is usually the result of calling `frame.insert` many times, which has poor performance.  Consider joining all columns at once using pd.concat(axis=1) instead. To get a de-fragmented frame, use `newframe = frame.copy()`\n",
      "  df[names] = values\n",
      "/Library/Frameworks/Python.framework/Versions/3.11/lib/python3.11/site-packages/utilsforecast/processing.py:130: PerformanceWarning: DataFrame is highly fragmented.  This is usually the result of calling `frame.insert` many times, which has poor performance.  Consider joining all columns at once using pd.concat(axis=1) instead. To get a de-fragmented frame, use `newframe = frame.copy()`\n",
      "  df[names] = values\n",
      "/Library/Frameworks/Python.framework/Versions/3.11/lib/python3.11/site-packages/utilsforecast/processing.py:130: PerformanceWarning: DataFrame is highly fragmented.  This is usually the result of calling `frame.insert` many times, which has poor performance.  Consider joining all columns at once using pd.concat(axis=1) instead. To get a de-fragmented frame, use `newframe = frame.copy()`\n",
      "  df[names] = values\n",
      "/Library/Frameworks/Python.framework/Versions/3.11/lib/python3.11/site-packages/utilsforecast/processing.py:130: PerformanceWarning: DataFrame is highly fragmented.  This is usually the result of calling `frame.insert` many times, which has poor performance.  Consider joining all columns at once using pd.concat(axis=1) instead. To get a de-fragmented frame, use `newframe = frame.copy()`\n",
      "  df[names] = values\n",
      "/Library/Frameworks/Python.framework/Versions/3.11/lib/python3.11/site-packages/utilsforecast/processing.py:130: PerformanceWarning: DataFrame is highly fragmented.  This is usually the result of calling `frame.insert` many times, which has poor performance.  Consider joining all columns at once using pd.concat(axis=1) instead. To get a de-fragmented frame, use `newframe = frame.copy()`\n",
      "  df[names] = values\n",
      "/Library/Frameworks/Python.framework/Versions/3.11/lib/python3.11/site-packages/utilsforecast/processing.py:130: PerformanceWarning: DataFrame is highly fragmented.  This is usually the result of calling `frame.insert` many times, which has poor performance.  Consider joining all columns at once using pd.concat(axis=1) instead. To get a de-fragmented frame, use `newframe = frame.copy()`\n",
      "  df[names] = values\n",
      "/Library/Frameworks/Python.framework/Versions/3.11/lib/python3.11/site-packages/utilsforecast/processing.py:130: PerformanceWarning: DataFrame is highly fragmented.  This is usually the result of calling `frame.insert` many times, which has poor performance.  Consider joining all columns at once using pd.concat(axis=1) instead. To get a de-fragmented frame, use `newframe = frame.copy()`\n",
      "  df[names] = values\n",
      "/Library/Frameworks/Python.framework/Versions/3.11/lib/python3.11/site-packages/utilsforecast/processing.py:130: PerformanceWarning: DataFrame is highly fragmented.  This is usually the result of calling `frame.insert` many times, which has poor performance.  Consider joining all columns at once using pd.concat(axis=1) instead. To get a de-fragmented frame, use `newframe = frame.copy()`\n",
      "  df[names] = values\n",
      "/Library/Frameworks/Python.framework/Versions/3.11/lib/python3.11/site-packages/utilsforecast/processing.py:130: PerformanceWarning: DataFrame is highly fragmented.  This is usually the result of calling `frame.insert` many times, which has poor performance.  Consider joining all columns at once using pd.concat(axis=1) instead. To get a de-fragmented frame, use `newframe = frame.copy()`\n",
      "  df[names] = values\n",
      "/Library/Frameworks/Python.framework/Versions/3.11/lib/python3.11/site-packages/utilsforecast/processing.py:130: PerformanceWarning: DataFrame is highly fragmented.  This is usually the result of calling `frame.insert` many times, which has poor performance.  Consider joining all columns at once using pd.concat(axis=1) instead. To get a de-fragmented frame, use `newframe = frame.copy()`\n",
      "  df[names] = values\n",
      "/Library/Frameworks/Python.framework/Versions/3.11/lib/python3.11/site-packages/utilsforecast/processing.py:130: PerformanceWarning: DataFrame is highly fragmented.  This is usually the result of calling `frame.insert` many times, which has poor performance.  Consider joining all columns at once using pd.concat(axis=1) instead. To get a de-fragmented frame, use `newframe = frame.copy()`\n",
      "  df[names] = values\n",
      "/Library/Frameworks/Python.framework/Versions/3.11/lib/python3.11/site-packages/utilsforecast/processing.py:130: PerformanceWarning: DataFrame is highly fragmented.  This is usually the result of calling `frame.insert` many times, which has poor performance.  Consider joining all columns at once using pd.concat(axis=1) instead. To get a de-fragmented frame, use `newframe = frame.copy()`\n",
      "  df[names] = values\n",
      "/Library/Frameworks/Python.framework/Versions/3.11/lib/python3.11/site-packages/utilsforecast/processing.py:130: PerformanceWarning: DataFrame is highly fragmented.  This is usually the result of calling `frame.insert` many times, which has poor performance.  Consider joining all columns at once using pd.concat(axis=1) instead. To get a de-fragmented frame, use `newframe = frame.copy()`\n",
      "  df[names] = values\n",
      "/Library/Frameworks/Python.framework/Versions/3.11/lib/python3.11/site-packages/utilsforecast/processing.py:130: PerformanceWarning: DataFrame is highly fragmented.  This is usually the result of calling `frame.insert` many times, which has poor performance.  Consider joining all columns at once using pd.concat(axis=1) instead. To get a de-fragmented frame, use `newframe = frame.copy()`\n",
      "  df[names] = values\n",
      "/Library/Frameworks/Python.framework/Versions/3.11/lib/python3.11/site-packages/utilsforecast/processing.py:130: PerformanceWarning: DataFrame is highly fragmented.  This is usually the result of calling `frame.insert` many times, which has poor performance.  Consider joining all columns at once using pd.concat(axis=1) instead. To get a de-fragmented frame, use `newframe = frame.copy()`\n",
      "  df[names] = values\n",
      "/Library/Frameworks/Python.framework/Versions/3.11/lib/python3.11/site-packages/utilsforecast/processing.py:130: PerformanceWarning: DataFrame is highly fragmented.  This is usually the result of calling `frame.insert` many times, which has poor performance.  Consider joining all columns at once using pd.concat(axis=1) instead. To get a de-fragmented frame, use `newframe = frame.copy()`\n",
      "  df[names] = values\n",
      "/Library/Frameworks/Python.framework/Versions/3.11/lib/python3.11/site-packages/utilsforecast/processing.py:130: PerformanceWarning: DataFrame is highly fragmented.  This is usually the result of calling `frame.insert` many times, which has poor performance.  Consider joining all columns at once using pd.concat(axis=1) instead. To get a de-fragmented frame, use `newframe = frame.copy()`\n",
      "  df[names] = values\n",
      "/Library/Frameworks/Python.framework/Versions/3.11/lib/python3.11/site-packages/utilsforecast/processing.py:130: PerformanceWarning: DataFrame is highly fragmented.  This is usually the result of calling `frame.insert` many times, which has poor performance.  Consider joining all columns at once using pd.concat(axis=1) instead. To get a de-fragmented frame, use `newframe = frame.copy()`\n",
      "  df[names] = values\n",
      "/Library/Frameworks/Python.framework/Versions/3.11/lib/python3.11/site-packages/utilsforecast/processing.py:130: PerformanceWarning: DataFrame is highly fragmented.  This is usually the result of calling `frame.insert` many times, which has poor performance.  Consider joining all columns at once using pd.concat(axis=1) instead. To get a de-fragmented frame, use `newframe = frame.copy()`\n",
      "  df[names] = values\n",
      "/Library/Frameworks/Python.framework/Versions/3.11/lib/python3.11/site-packages/utilsforecast/processing.py:130: PerformanceWarning: DataFrame is highly fragmented.  This is usually the result of calling `frame.insert` many times, which has poor performance.  Consider joining all columns at once using pd.concat(axis=1) instead. To get a de-fragmented frame, use `newframe = frame.copy()`\n",
      "  df[names] = values\n",
      "/Library/Frameworks/Python.framework/Versions/3.11/lib/python3.11/site-packages/utilsforecast/processing.py:130: PerformanceWarning: DataFrame is highly fragmented.  This is usually the result of calling `frame.insert` many times, which has poor performance.  Consider joining all columns at once using pd.concat(axis=1) instead. To get a de-fragmented frame, use `newframe = frame.copy()`\n",
      "  df[names] = values\n",
      "/Library/Frameworks/Python.framework/Versions/3.11/lib/python3.11/site-packages/utilsforecast/processing.py:130: PerformanceWarning: DataFrame is highly fragmented.  This is usually the result of calling `frame.insert` many times, which has poor performance.  Consider joining all columns at once using pd.concat(axis=1) instead. To get a de-fragmented frame, use `newframe = frame.copy()`\n",
      "  df[names] = values\n",
      "/Library/Frameworks/Python.framework/Versions/3.11/lib/python3.11/site-packages/utilsforecast/processing.py:130: PerformanceWarning: DataFrame is highly fragmented.  This is usually the result of calling `frame.insert` many times, which has poor performance.  Consider joining all columns at once using pd.concat(axis=1) instead. To get a de-fragmented frame, use `newframe = frame.copy()`\n",
      "  df[names] = values\n",
      "/Library/Frameworks/Python.framework/Versions/3.11/lib/python3.11/site-packages/utilsforecast/processing.py:130: PerformanceWarning: DataFrame is highly fragmented.  This is usually the result of calling `frame.insert` many times, which has poor performance.  Consider joining all columns at once using pd.concat(axis=1) instead. To get a de-fragmented frame, use `newframe = frame.copy()`\n",
      "  df[names] = values\n",
      "/Library/Frameworks/Python.framework/Versions/3.11/lib/python3.11/site-packages/utilsforecast/processing.py:130: PerformanceWarning: DataFrame is highly fragmented.  This is usually the result of calling `frame.insert` many times, which has poor performance.  Consider joining all columns at once using pd.concat(axis=1) instead. To get a de-fragmented frame, use `newframe = frame.copy()`\n",
      "  df[names] = values\n",
      "/Library/Frameworks/Python.framework/Versions/3.11/lib/python3.11/site-packages/utilsforecast/processing.py:130: PerformanceWarning: DataFrame is highly fragmented.  This is usually the result of calling `frame.insert` many times, which has poor performance.  Consider joining all columns at once using pd.concat(axis=1) instead. To get a de-fragmented frame, use `newframe = frame.copy()`\n",
      "  df[names] = values\n",
      "/Library/Frameworks/Python.framework/Versions/3.11/lib/python3.11/site-packages/utilsforecast/processing.py:130: PerformanceWarning: DataFrame is highly fragmented.  This is usually the result of calling `frame.insert` many times, which has poor performance.  Consider joining all columns at once using pd.concat(axis=1) instead. To get a de-fragmented frame, use `newframe = frame.copy()`\n",
      "  df[names] = values\n",
      "/Library/Frameworks/Python.framework/Versions/3.11/lib/python3.11/site-packages/utilsforecast/processing.py:130: PerformanceWarning: DataFrame is highly fragmented.  This is usually the result of calling `frame.insert` many times, which has poor performance.  Consider joining all columns at once using pd.concat(axis=1) instead. To get a de-fragmented frame, use `newframe = frame.copy()`\n",
      "  df[names] = values\n",
      "/Library/Frameworks/Python.framework/Versions/3.11/lib/python3.11/site-packages/utilsforecast/processing.py:130: PerformanceWarning: DataFrame is highly fragmented.  This is usually the result of calling `frame.insert` many times, which has poor performance.  Consider joining all columns at once using pd.concat(axis=1) instead. To get a de-fragmented frame, use `newframe = frame.copy()`\n",
      "  df[names] = values\n",
      "/Library/Frameworks/Python.framework/Versions/3.11/lib/python3.11/site-packages/utilsforecast/processing.py:130: PerformanceWarning: DataFrame is highly fragmented.  This is usually the result of calling `frame.insert` many times, which has poor performance.  Consider joining all columns at once using pd.concat(axis=1) instead. To get a de-fragmented frame, use `newframe = frame.copy()`\n",
      "  df[names] = values\n",
      "/Library/Frameworks/Python.framework/Versions/3.11/lib/python3.11/site-packages/utilsforecast/processing.py:130: PerformanceWarning: DataFrame is highly fragmented.  This is usually the result of calling `frame.insert` many times, which has poor performance.  Consider joining all columns at once using pd.concat(axis=1) instead. To get a de-fragmented frame, use `newframe = frame.copy()`\n",
      "  df[names] = values\n",
      "GPU available: False, used: False\n",
      "TPU available: False, using: 0 TPU cores\n",
      "HPU available: False, using: 0 HPUs\n"
     ]
    },
    {
     "name": "stdout",
     "output_type": "stream",
     "text": [
      "Predicting DataLoader 0: 100%|██████████| 1/1 [00:00<00:00, 22.53it/s]\n"
     ]
    }
   ],
   "source": [
    "import pandas as pd\n",
    "import numpy as np\n",
    "import os\n",
    "from sklearn.preprocessing import MinMaxScaler, StandardScaler\n",
    "from neuralforecast.models import NBEATSx\n",
    "from neuralforecast.core import NeuralForecast\n",
    "from neuralforecast.losses.pytorch import SMAPE\n",
    "\n",
    "# Load Dataset\n",
    "df = pd.read_csv(\"../../Data/Train/train1990s.csv\")\n",
    "df['ds'] = pd.to_datetime(df['observation_date'], format=\"%m/%Y\")\n",
    "df['unique_id'] = 'inflation'\n",
    "df = df.rename(columns={\"fred_PCEPI\": \"y\"})\n",
    "df['y_original'] = df['y']\n",
    "\n",
    "# Feature Engineering\n",
    "df[\"month\"] = df[\"ds\"].dt.month\n",
    "df[\"sin_1\"] = np.sin(2 * np.pi * df[\"month\"] / 12)\n",
    "df[\"cos_1\"] = np.cos(2 * np.pi * df[\"month\"] / 12)\n",
    "df[\"y_lag_1\"] = df[\"y_original\"].shift(1)\n",
    "df[\"y_pct_change\"] = df[\"y_original\"].pct_change()\n",
    "df[\"y_momentum\"] = df[\"y_pct_change\"].diff()\n",
    "df = df.dropna()\n",
    "\n",
    "# Feature Selection\n",
    "exclude = ['observation_date', 'ds', 'unique_id', 'y', 'y_original']\n",
    "exog_features = [col for col in df.columns if col not in exclude]\n",
    "cor_matrix = df[exog_features + ['y']].corr()\n",
    "selected_features = cor_matrix['y'].drop('y').loc[lambda x: x.abs() > 0.4].index.tolist()\n",
    "\n",
    "# Normalization\n",
    "x_scaler = StandardScaler()\n",
    "df[selected_features] = x_scaler.fit_transform(df[selected_features])\n",
    "y_scaler = MinMaxScaler()\n",
    "df[\"y\"] = y_scaler.fit_transform(df[[\"y\"]])\n",
    "\n",
    "df_model = df[['unique_id', 'ds', 'y'] + selected_features]\n",
    "\n",
    "# Define and Train N-BEATSx\n",
    "HORIZON = 48\n",
    "model = NeuralForecast(\n",
    "    models=[\n",
    "        NBEATSx(\n",
    "            h=HORIZON,\n",
    "            input_size=96,\n",
    "            max_steps=500,\n",
    "            val_check_steps=100,\n",
    "            learning_rate=5e-4,\n",
    "            n_blocks=[2, 2],\n",
    "            dropout_prob_theta=0.3,\n",
    "            stack_types=[\"trend\", \"seasonality\"],\n",
    "            hist_exog_list=selected_features,\n",
    "            scaler_type=\"robust\",\n",
    "            loss=SMAPE(),\n",
    "            random_seed=42\n",
    "        )\n",
    "    ],\n",
    "    freq=\"M\"\n",
    ")\n",
    "\n",
    "# Fit Model\n",
    "model.fit(df=df_model)\n",
    "\n",
    "# Forecast using last 96 observations\n",
    "future_df = df_model.tail(96)\n",
    "forecast_df = model.predict(df=future_df)\n",
    "y_pred_scaled = forecast_df[\"NBEATSx\"].values.reshape(-1, 1)\n",
    "y_pred = y_scaler.inverse_transform(y_pred_scaled).flatten()\n",
    "\n",
    "# Save to Predictions\n",
    "np.save(\"../../Predictions/NBEATSx.npy\", y_pred)\n"
   ]
  }
 ],
 "metadata": {
  "kernelspec": {
   "display_name": ".venv",
   "language": "python",
   "name": "python3"
  },
  "language_info": {
   "codemirror_mode": {
    "name": "ipython",
    "version": 3
   },
   "file_extension": ".py",
   "mimetype": "text/x-python",
   "name": "python",
   "nbconvert_exporter": "python",
   "pygments_lexer": "ipython3",
   "version": "3.11.7"
  },
  "orig_nbformat": 4
 },
 "nbformat": 4,
 "nbformat_minor": 2
}
