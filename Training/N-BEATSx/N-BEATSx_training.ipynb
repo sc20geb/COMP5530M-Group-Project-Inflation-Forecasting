{
 "cells": [
  {
   "cell_type": "markdown",
   "metadata": {},
   "source": [
    "##### Point to be noted\n",
    "N-BEATSx model can be sensitive to constant 0s in the dataset, depending on where those zeros occur and how the model is configured.\n",
    "\n",
    "Scaling Issues:\n",
    "If a column is full of 0s (or nearly constant), scaling with StandardScaler will result in division by a near-zero standard deviation, leading to NaNs or infs.\n"
   ]
  },
  {
   "cell_type": "markdown",
   "metadata": {},
   "source": [
    "# Nixtla N-BEATSx (Basic) -  (Neural forest)\n",
    "\n",
    "https://nixtlaverse.nixtla.io/neuralforecast/models.nbeatsx.html"
   ]
  },
  {
   "cell_type": "markdown",
   "metadata": {},
   "source": [
    "## Loading and Preprocess Dataset"
   ]
  },
  {
   "cell_type": "code",
   "execution_count": 33,
   "metadata": {},
   "outputs": [],
   "source": [
    "import pandas as pd\n",
    "import numpy as np\n",
    "import matplotlib.pyplot as plt\n",
    "import seaborn as sns\n",
    "from sklearn.preprocessing import StandardScaler\n",
    "from sklearn.metrics import mean_squared_error\n",
    "\n",
    "from neuralforecast.models import NBEATSx\n",
    "from neuralforecast.core import NeuralForecast\n",
    "from neuralforecast.losses.pytorch import MSE"
   ]
  },
  {
   "cell_type": "code",
   "execution_count": 34,
   "metadata": {},
   "outputs": [],
   "source": [
    "# Load & Preprocess Dataset\n",
    "df = pd.read_csv(\"../../Data/Train/train1990s.csv\")\n",
    "df['ds'] = pd.to_datetime(df['observation_date'], format=\"%m/%Y\")\n",
    "df['unique_id'] = 'inflation'\n",
    "df = df.rename(columns={\"fred_PCEPI\": \"y\"})"
   ]
  },
  {
   "cell_type": "code",
   "execution_count": 35,
   "metadata": {},
   "outputs": [],
   "source": [
    "# Fourier features (3 harmonics)\n",
    "df[\"month\"] = df[\"ds\"].dt.month\n",
    "for k in range(1, 4):\n",
    "    df[f'sin_{k}'] = np.sin(2 * np.pi * k * df[\"month\"] / 12)\n",
    "    df[f'cos_{k}'] = np.cos(2 * np.pi * k * df[\"month\"] / 12)\n",
    "\n",
    "# Lag features\n",
    "for lag in [1, 6, 12]:\n",
    "    df[f'y_lag_{lag}'] = df['y'].shift(lag)\n",
    "\n",
    "# Rolling features\n",
    "df['rolling_mean_3'] = df['y'].rolling(3).mean()\n",
    "df['rolling_std_3'] = df['y'].rolling(3).std()\n",
    "\n",
    "# Drop NaNs from lags and rolling\n",
    "df = df.dropna()"
   ]
  },
  {
   "cell_type": "markdown",
   "metadata": {},
   "source": [
    "### Feature Selection"
   ]
  },
  {
   "cell_type": "code",
   "execution_count": 36,
   "metadata": {},
   "outputs": [],
   "source": [
    "# Feature Selection (|r| > 0.3)\n",
    "exclude_cols = ['unique_id', 'ds', 'y', 'observation_date', 'month']\n",
    "feature_cols = [col for col in df.columns if col not in exclude_cols]\n",
    "numeric_features = df[feature_cols].select_dtypes(include=[np.number]).columns.tolist()\n",
    "\n",
    "cor_matrix = df[numeric_features + ['y']].corr()\n",
    "selected_features = cor_matrix['y'].drop('y').loc[lambda x: x.abs() > 0.3].index.tolist()\n",
    "selected_features = list(set(selected_features))  # remove duplicates"
   ]
  },
  {
   "cell_type": "markdown",
   "metadata": {},
   "source": [
    "### Normalise Features"
   ]
  },
  {
   "cell_type": "code",
   "execution_count": 37,
   "metadata": {},
   "outputs": [],
   "source": [
    "# Normalize Features\n",
    "x_scaler = StandardScaler()\n",
    "df[selected_features] = x_scaler.fit_transform(df[selected_features])\n",
    "y_scaler = StandardScaler()\n",
    "df[\"y\"] = y_scaler.fit_transform(df[[\"y\"]])\n",
    "\n",
    "# Final dataset\n",
    "df_model = df[['unique_id', 'ds', 'y'] + selected_features]"
   ]
  },
  {
   "cell_type": "markdown",
   "metadata": {},
   "source": [
    "## Model Definitiion"
   ]
  },
  {
   "cell_type": "markdown",
   "metadata": {},
   "source": [
    "#### Model Setup:\n",
    "- **HORIZON = 6**: Forecasts 6 months ahead.\n",
    "- **input_size = 48**: Uses the past 48 months of data for each prediction.\n",
    "- **learning_rate = 5e-4**: Sets a relatively standard learning rate for optimization.\n",
    "- **max_steps = 100**: Trains the model for a maximum of 100 steps.\n",
    "- **val_check_steps = 200**: Validation checks occur after 200 steps (but here it's automatically clipped to 100).\n",
    "\n",
    "#### N-BEATSx Configuration:\n",
    "- **futr_exog_list = selected_features**: Passes in the list of selected exogenous variables (e.g., lags, Fourier terms, rolling stats).\n",
    "- **stack_types = default**: Since not specified, the model uses the default stack configuration (`generic` blocks).\n",
    "- **scaler_type = \"robust\"**: Uses robust normalization to handle potential outliers in the data.\n",
    "- **loss = MSE()**: Optimizes the **Mean Squared Error**, focusing on minimizing squared differences between predicted and actual values.\n",
    "- **random_seed = 42**: Ensures reproducibility by fixing the random seed.\n",
    "\n",
    "#### Frequency:\n",
    "- **freq = \"M\"**: The model is trained on **monthly** data."
   ]
  },
  {
   "cell_type": "code",
   "execution_count": 38,
   "metadata": {},
   "outputs": [
    {
     "name": "stderr",
     "output_type": "stream",
     "text": [
      "Seed set to 42\n"
     ]
    }
   ],
   "source": [
    "# Define Model\n",
    "HORIZON = 6\n",
    "model = NeuralForecast(\n",
    "    models=[\n",
    "        NBEATSx(\n",
    "            h=HORIZON,\n",
    "            input_size=48,\n",
    "            max_steps=100,\n",
    "            val_check_steps=200,\n",
    "            learning_rate=5e-4,\n",
    "            futr_exog_list=selected_features,\n",
    "            scaler_type=\"robust\",\n",
    "            loss=MSE(),\n",
    "            random_seed=42\n",
    "        )\n",
    "    ],\n",
    "    freq=\"M\"\n",
    ")"
   ]
  },
  {
   "cell_type": "markdown",
   "metadata": {},
   "source": [
    "## Cross Validation"
   ]
  },
  {
   "cell_type": "code",
   "execution_count": 39,
   "metadata": {},
   "outputs": [
    {
     "name": "stderr",
     "output_type": "stream",
     "text": [
      "/Library/Frameworks/Python.framework/Versions/3.11/lib/python3.11/site-packages/neuralforecast/common/_base_model.py:535: UserWarning: val_check_steps is greater than max_steps, setting val_check_steps to max_steps.\n",
      "  warnings.warn(\n",
      "GPU available: False, used: False\n",
      "TPU available: False, using: 0 TPU cores\n",
      "HPU available: False, using: 0 HPUs\n",
      "\n",
      "  | Name         | Type          | Params | Mode \n",
      "-------------------------------------------------------\n",
      "0 | loss         | MSE           | 0      | train\n",
      "1 | padder_train | ConstantPad1d | 0      | train\n",
      "2 | scaler       | TemporalNorm  | 0      | train\n",
      "3 | blocks       | ModuleList    | 15.2 M | train\n",
      "-------------------------------------------------------\n",
      "15.2 M    Trainable params\n",
      "702       Non-trainable params\n",
      "15.2 M    Total params\n",
      "60.685    Total estimated model params size (MB)\n",
      "31        Modules in train mode\n",
      "0         Modules in eval mode\n"
     ]
    },
    {
     "name": "stdout",
     "output_type": "stream",
     "text": [
      "Epoch 99: 100%|██████████| 1/1 [00:01<00:00,  0.94it/s, v_num=3, train_loss_step=9.370, train_loss_epoch=9.370]    "
     ]
    },
    {
     "name": "stderr",
     "output_type": "stream",
     "text": [
      "`Trainer.fit` stopped: `max_steps=100` reached.\n"
     ]
    },
    {
     "name": "stdout",
     "output_type": "stream",
     "text": [
      "Epoch 99: 100%|██████████| 1/1 [00:01<00:00,  0.93it/s, v_num=3, train_loss_step=9.370, train_loss_epoch=9.370]"
     ]
    },
    {
     "name": "stderr",
     "output_type": "stream",
     "text": [
      "GPU available: False, used: False\n",
      "TPU available: False, using: 0 TPU cores\n",
      "HPU available: False, using: 0 HPUs\n"
     ]
    },
    {
     "name": "stdout",
     "output_type": "stream",
     "text": [
      "\n",
      "Predicting DataLoader 0: 100%|██████████| 1/1 [00:00<00:00, 35.64it/s]\n"
     ]
    }
   ],
   "source": [
    "# Run Cross-Validation\n",
    "df_cv = model.cross_validation(\n",
    "    df=df_model,\n",
    "    n_windows=10,\n",
    "    step_size=HORIZON\n",
    ")"
   ]
  },
  {
   "cell_type": "code",
   "execution_count": 40,
   "metadata": {},
   "outputs": [],
   "source": [
    "# Merge with Actuals\n",
    "merged = df_cv.merge(\n",
    "    df_model[[\"unique_id\", \"ds\", \"y\"]],\n",
    "    on=[\"unique_id\", \"ds\"],\n",
    "    how=\"left\",\n",
    "    suffixes=(\"\", \"_actual\")\n",
    ")\n",
    "\n",
    "# Drop missing predictions or targets\n",
    "merged = merged.dropna(subset=[\"y\", \"NBEATSx\"])\n",
    "\n",
    "# Inverse transform\n",
    "merged[\"y_inv\"] = y_scaler.inverse_transform(merged[[\"y\"]])\n",
    "merged[\"pred_inv\"] = y_scaler.inverse_transform(merged[[\"NBEATSx\"]])\n"
   ]
  },
  {
   "cell_type": "markdown",
   "metadata": {},
   "source": [
    "## Evaluation"
   ]
  },
  {
   "cell_type": "code",
   "execution_count": 41,
   "metadata": {},
   "outputs": [
    {
     "name": "stdout",
     "output_type": "stream",
     "text": [
      "Cross-Validation RMSE: 0.5103\n"
     ]
    },
    {
     "data": {
      "image/png": "[encoded data removed]",
      "text/plain": [
       "<Figure size 1200x500 with 1 Axes>"
      ]
     },
     "metadata": {},
     "output_type": "display_data"
    }
   ],
   "source": [
    "# ===============================\n",
    "# Evaluate\n",
    "# ===============================\n",
    "rmse = np.sqrt(mean_squared_error(merged[\"y_inv\"], merged[\"pred_inv\"]))\n",
    "print(f\"Cross-Validation RMSE: {rmse:.4f}\")\n",
    "\n",
    "# ===============================\n",
    "# Plot\n",
    "# ===============================\n",
    "plt.figure(figsize=(12, 5))\n",
    "sns.lineplot(data=merged, x=\"ds\", y=\"y_inv\", label=\"Actual Inflation\", color=\"black\")\n",
    "sns.lineplot(data=merged, x=\"ds\", y=\"pred_inv\", label=\"Predicted Inflation\", linestyle=\"--\", color=\"blue\")\n",
    "plt.title(\"N-BEATSx Forecast (Fourier + Lags + Rolling Features + Exogenous)\")\n",
    "plt.xlabel(\"Date\")\n",
    "plt.ylabel(\"Inflation\")\n",
    "plt.grid(True)\n",
    "plt.tight_layout()\n",
    "plt.legend()\n",
    "plt.show()\n"
   ]
  },
  {
   "cell_type": "code",
   "execution_count": 42,
   "metadata": {},
   "outputs": [
    {
     "name": "stdout",
     "output_type": "stream",
     "text": [
      "Model saved to 'nbeatsx_model1.ckpt'\n"
     ]
    }
   ],
   "source": [
    "# Save model checkpoint\n",
    "model.models[0].trainer.save_checkpoint(\"nbeatsx_model1.ckpt\")\n",
    "print(\"Model saved to 'nbeatsx_model1.ckpt'\")"
   ]
  },
  {
   "cell_type": "markdown",
   "metadata": {},
   "source": [
    "# Nixtla N-BEATSx (Full Feature Heavy)\n",
    "\n",
    "### Preprocessing Comparison: Model 2 below vs. Model 1 above\n",
    "\n",
    "Both models are based on the same dataset (`train2000s.csv`) and share foundational preprocessing steps like:\n",
    "\n",
    "- Converting `observation_date` to datetime (`ds`)\n",
    "- Setting `unique_id` to `'inflation'`\n",
    "- Renaming the inflation column to `y`\n",
    "- Dropping NaN rows after feature creation\n",
    "- Selecting exogenous features based on correlation with `y` (|r| > 0.3)\n",
    "- Applying `StandardScaler` on features and target (`y`)\n",
    "\n",
    "#### Shared Feature Engineering (Both Models):\n",
    "- **Fourier Features:** Sine & Cosine terms for 3 harmonics (seasonality)\n",
    "- **Lag Features:** Lags of 1, 6, and 12 months\n",
    "- **Rolling Features:** Mean & Std over a 3-month window\n",
    "- **Feature Selection:** Based on correlation threshold with target\n",
    "\n",
    "---\n",
    "\n",
    "### Additional Feature Engineering in **Model 2** (more advanced):\n",
    "Model 2 performs **richer feature engineering** to enhance temporal dynamics and smoothness:\n",
    "\n",
    "| Feature Type       | Description                                          |\n",
    "|--------------------|------------------------------------------------------|\n",
    "| `y_lag_24`         | Adds a 24-month lag to capture longer-term memory    |\n",
    "| `rolling_mean_{6,12}` | Includes broader smoothing context               |\n",
    "| `rolling_std_{6,12}`  | Includes broader volatility estimation            |\n",
    "| `rolling_skew_6`   | Captures asymmetry in the recent 6-month window      |\n",
    "| `rolling_kurt_6`   | Captures \"tailedness\" or extreme fluctuations        |\n",
    "| `ema_3`, `ema_12`  | Applies exponential smoothing to better track trends |\n",
    "| `y_pct_change`     | Captures month-over-month percentage change          |\n",
    "| `y_momentum`       | Second-order difference to reflect momentum shifts   |\n",
    "\n",
    "This added diversity in statistical, trend-based, and frequency-based features in **Model 2** allows for **more context-rich learning**, especially useful for time series with subtle seasonal or structural shifts.\n",
    "\n",
    "---\n",
    "\n",
    "### Summary:\n",
    "- **Model 1:** Simpler, lighter preprocessing; fewer features; faster to train\n",
    "- **Model 2:** More comprehensive temporal and statistical features; better suited for capturing complex dynamics in inflation data\n",
    "\n",
    "> As seen in the plots and RMSE/MAE metrics, **Model 2's predictions are more aligned with actual inflation trends**, likely due to this enhanced feature representation.\n"
   ]
  },
  {
   "cell_type": "markdown",
   "metadata": {},
   "source": [
    "## Load and Preprocess data"
   ]
  },
  {
   "cell_type": "code",
   "execution_count": 43,
   "metadata": {},
   "outputs": [],
   "source": [
    "# Load & Preprocess Dataset\n",
    "df = pd.read_csv(\"../../Data/Train/train1990s.csv\")\n",
    "df['ds'] = pd.to_datetime(df['observation_date'], format=\"%m/%Y\")\n",
    "df['unique_id'] = 'inflation'\n",
    "df = df.rename(columns={\"fred_PCEPI\": \"y\"})\n",
    "df[\"y_original\"] = df[\"y\"]"
   ]
  },
  {
   "cell_type": "markdown",
   "metadata": {},
   "source": [
    "### Add Features: Fourier, Lags, Rolling Stats, EMAs, Momentum"
   ]
  },
  {
   "cell_type": "code",
   "execution_count": 44,
   "metadata": {},
   "outputs": [],
   "source": [
    "# Add Features: Fourier, Lags, Rolling Stats, EMAs, Momentum\n",
    "df[\"month\"] = df[\"ds\"].dt.month\n",
    "\n",
    "for k in range(1, 4):\n",
    "    df[f'sin_{k}'] = np.sin(2 * np.pi * k * df[\"month\"] / 12)\n",
    "    df[f'cos_{k}'] = np.cos(2 * np.pi * k * df[\"month\"] / 12)\n",
    "\n",
    "for lag in [1, 6, 12, 24]:\n",
    "    df[f'y_lag_{lag}'] = df['y'].shift(lag)\n",
    "\n",
    "for window in [3, 6, 12]:\n",
    "    df[f'rolling_mean_{window}'] = df['y'].rolling(window).mean()\n",
    "    df[f'rolling_std_{window}'] = df['y'].rolling(window).std()\n",
    "\n",
    "df['rolling_mean_6_lag1'] = df['rolling_mean_6'].shift(1)\n",
    "df['rolling_skew_6'] = df['y'].rolling(6).skew()\n",
    "df['rolling_kurt_6'] = df['y'].rolling(6).kurt()\n",
    "df['ema_3'] = df['y'].ewm(span=3).mean()\n",
    "df['ema_12'] = df['y'].ewm(span=12).mean()\n",
    "df['y_pct_change'] = df['y'].pct_change()\n",
    "df['y_momentum'] = df['y_pct_change'].diff()\n",
    "\n",
    "df = df.dropna()"
   ]
  },
  {
   "cell_type": "markdown",
   "metadata": {},
   "source": [
    "## Feature Selection (|r| > 0.3)"
   ]
  },
  {
   "cell_type": "code",
   "execution_count": 45,
   "metadata": {},
   "outputs": [],
   "source": [
    "# Feature Selection (|r| > 0.3)\n",
    "exclude_cols = ['unique_id', 'ds', 'y', 'y_original', 'observation_date', 'month']\n",
    "feature_cols = [col for col in df.columns if col not in exclude_cols]\n",
    "numeric_features = df[feature_cols].select_dtypes(include=[np.number]).columns.tolist()\n",
    "\n",
    "cor_matrix = df[numeric_features + ['y']].corr()\n",
    "selected_features = cor_matrix['y'].drop('y').loc[lambda x: x.abs() > 0.3].index.tolist()\n",
    "selected_features = list(set(selected_features))"
   ]
  },
  {
   "cell_type": "markdown",
   "metadata": {},
   "source": [
    "## Normalize Features"
   ]
  },
  {
   "cell_type": "code",
   "execution_count": 46,
   "metadata": {},
   "outputs": [],
   "source": [
    "# Normalize Features\n",
    "x_scaler = StandardScaler()\n",
    "df[selected_features] = x_scaler.fit_transform(df[selected_features])\n",
    "y_scaler = StandardScaler()\n",
    "df[\"y\"] = y_scaler.fit_transform(df[[\"y\"]])\n",
    "\n",
    "df_model = df[['unique_id', 'ds', 'y'] + selected_features]\n",
    "df_targets = df[['unique_id', 'ds', 'y_original']]"
   ]
  },
  {
   "cell_type": "markdown",
   "metadata": {},
   "source": [
    "## Define model\n",
    "\n",
    "### N-BEATSx Model Architecture\n",
    "\n",
    "In this setup, I have defined a more powerful **N-BEATSx model** using the [NeuralForecast](https://nixtlaverse.nixtla.io/neuralforecast/models.nbeatsx.html) library, tailored for multivariate time series forecasting with exogenous variables.\n",
    "\n",
    "#### 🔧 Configuration Details:\n",
    "| Parameter            | Value / Description                                                                 |\n",
    "|----------------------|--------------------------------------------------------------------------------------|\n",
    "| `h`                  | Forecast horizon = 6 months                                                          |\n",
    "| `input_size`         | 144 (number of past timesteps used as context)                                      |\n",
    "| `max_steps`          | 500 (maximum training steps for convergence)                                        |\n",
    "| `val_check_steps`    | 100 (evaluate validation loss every 100 steps)                                      |\n",
    "| `learning_rate`      | 0.0002 (lower LR for finer convergence)                                             |\n",
    "| `n_blocks`           | `[3, 3, 3]` — defines 3 blocks each for trend, seasonality, and identity stacks      |\n",
    "| `stack_types`        | `[\"trend\", \"seasonality\", \"identity\"]` (stack-specific basis functions)             |\n",
    "| `dropout_prob_theta` | 0.2 (dropout for regularization inside theta MLP layers)                            |\n",
    "| `futr_exog_list`     | List of selected exogenous features used during training and forecasting             |\n",
    "| `scaler_type`        | `\"robust\"` (uses IQR-based scaling for better handling of outliers)                 |\n",
    "| `loss`               | `SMAPE()` — Symmetric Mean Absolute Percentage Error for better scale handling      |\n",
    "| `random_seed`        | 42 (for reproducibility)                                                             |\n",
    "| `freq`               | `\"M\"` — monthly time series                                                          |\n",
    "\n",
    "---"
   ]
  },
  {
   "cell_type": "code",
   "execution_count": 47,
   "metadata": {},
   "outputs": [
    {
     "name": "stderr",
     "output_type": "stream",
     "text": [
      "Seed set to 42\n"
     ]
    }
   ],
   "source": [
    "from neuralforecast.models import NBEATSx\n",
    "from neuralforecast.core import NeuralForecast\n",
    "from neuralforecast.losses.pytorch import SMAPE\n",
    "\n",
    "# Define N-BEATSx Model\n",
    "HORIZON = 6\n",
    "model = NeuralForecast(\n",
    "    models=[\n",
    "        NBEATSx(\n",
    "            h=HORIZON,\n",
    "            input_size=144,\n",
    "            max_steps=500,\n",
    "            val_check_steps=100,\n",
    "            learning_rate=2e-4,\n",
    "            n_blocks=[3, 3, 3],  # One for each stack_type\n",
    "            dropout_prob_theta=0.2,\n",
    "            stack_types=[\"trend\", \"seasonality\", \"identity\"],\n",
    "            futr_exog_list=selected_features,\n",
    "            scaler_type=\"robust\",\n",
    "            loss=SMAPE(),\n",
    "            random_seed=42\n",
    "        )\n",
    "    ],\n",
    "    freq=\"M\"\n",
    ")"
   ]
  },
  {
   "cell_type": "markdown",
   "metadata": {},
   "source": [
    "## Cross-Validation"
   ]
  },
  {
   "cell_type": "code",
   "execution_count": 48,
   "metadata": {},
   "outputs": [
    {
     "name": "stderr",
     "output_type": "stream",
     "text": [
      "GPU available: False, used: False\n",
      "TPU available: False, using: 0 TPU cores\n",
      "HPU available: False, using: 0 HPUs\n",
      "\n",
      "  | Name         | Type          | Params | Mode \n",
      "-------------------------------------------------------\n",
      "0 | loss         | SMAPE         | 0      | train\n",
      "1 | padder_train | ConstantPad1d | 0      | train\n",
      "2 | scaler       | TemporalNorm  | 0      | train\n",
      "3 | blocks       | ModuleList    | 122 M  | train\n",
      "-------------------------------------------------------\n",
      "122 M     Trainable params\n",
      "5.9 K     Non-trainable params\n",
      "122 M     Total params\n",
      "491.103   Total estimated model params size (MB)\n",
      "112       Modules in train mode\n",
      "0         Modules in eval mode\n"
     ]
    },
    {
     "name": "stdout",
     "output_type": "stream",
     "text": [
      "Epoch 499: 100%|██████████| 1/1 [00:09<00:00,  0.11it/s, v_num=5, train_loss_step=0.0569, train_loss_epoch=0.0569]"
     ]
    },
    {
     "name": "stderr",
     "output_type": "stream",
     "text": [
      "`Trainer.fit` stopped: `max_steps=500` reached.\n"
     ]
    },
    {
     "name": "stdout",
     "output_type": "stream",
     "text": [
      "Epoch 499: 100%|██████████| 1/1 [00:09<00:00,  0.11it/s, v_num=5, train_loss_step=0.0569, train_loss_epoch=0.0569]\n"
     ]
    },
    {
     "name": "stderr",
     "output_type": "stream",
     "text": [
      "GPU available: False, used: False\n",
      "TPU available: False, using: 0 TPU cores\n",
      "HPU available: False, using: 0 HPUs\n"
     ]
    },
    {
     "name": "stdout",
     "output_type": "stream",
     "text": [
      "Predicting DataLoader 0: 100%|██████████| 1/1 [00:00<00:00,  8.18it/s]\n"
     ]
    }
   ],
   "source": [
    "# Cross-Validation\n",
    "df_cv = model.cross_validation(\n",
    "    df=df_model,\n",
    "    n_windows=10,\n",
    "    step_size=HORIZON\n",
    ")"
   ]
  },
  {
   "cell_type": "markdown",
   "metadata": {},
   "source": [
    "## Evaluation"
   ]
  },
  {
   "cell_type": "code",
   "execution_count": 49,
   "metadata": {},
   "outputs": [
    {
     "name": "stdout",
     "output_type": "stream",
     "text": [
      "Cross-Validation MAE: 1.1150\n",
      "Cross-Validation RMSE: 1.5985\n"
     ]
    },
    {
     "data": {
      "image/png": "[encoded data removed]",
      "text/plain": [
       "<Figure size 1200x500 with 1 Axes>"
      ]
     },
     "metadata": {},
     "output_type": "display_data"
    }
   ],
   "source": [
    "from sklearn.metrics import mean_absolute_error, mean_squared_error\n",
    "\n",
    "# Merge & Evaluate\n",
    "merged = df_cv.merge(df_targets, on=[\"unique_id\", \"ds\"], how=\"left\")\n",
    "merged = merged.dropna(subset=[\"y_original\", \"NBEATSx\"])\n",
    "\n",
    "# Evaluate on original scale\n",
    "y_true = merged[\"y_original\"].values.reshape(-1, 1)\n",
    "y_pred = y_scaler.inverse_transform(merged[[\"NBEATSx\"]])\n",
    "\n",
    "mae = mean_absolute_error(y_true, y_pred)\n",
    "rmse = np.sqrt(mean_squared_error(y_true, y_pred))\n",
    "\n",
    "print(f\"Cross-Validation MAE: {mae:.4f}\")\n",
    "print(f\"Cross-Validation RMSE: {rmse:.4f}\")\n",
    "\n",
    "# Plot\n",
    "merged[\"y_inv\"] = y_true\n",
    "merged[\"pred_inv\"] = y_pred\n",
    "\n",
    "plt.figure(figsize=(12, 5))\n",
    "sns.lineplot(data=merged, x=\"ds\", y=\"y_inv\", label=\"Actual Inflation\", color=\"black\")\n",
    "sns.lineplot(data=merged, x=\"ds\", y=\"pred_inv\", label=\"Predicted Inflation\", linestyle=\"--\", color=\"blue\")\n",
    "plt.title(\"N-BEATSx Forecast (Fourier + Lags + Rolling + EMA + Momentum + Exogenous)\")\n",
    "plt.xlabel(\"Date\")\n",
    "plt.ylabel(\"Inflation\")\n",
    "plt.grid(True)\n",
    "plt.tight_layout()\n",
    "plt.legend()\n",
    "plt.show()\n"
   ]
  },
  {
   "cell_type": "markdown",
   "metadata": {},
   "source": [
    "## Save model"
   ]
  },
  {
   "cell_type": "code",
   "execution_count": 50,
   "metadata": {},
   "outputs": [
    {
     "name": "stdout",
     "output_type": "stream",
     "text": [
      "Model saved to 'nbeatsx_model2.ckpt'\n"
     ]
    }
   ],
   "source": [
    "# Save model checkpoint\n",
    "model.models[0].trainer.save_checkpoint(\"nbeatsx_model2.ckpt\")\n",
    "print(\"Model saved to 'nbeatsx_model2.ckpt'\")"
   ]
  },
  {
   "cell_type": "markdown",
   "metadata": {},
   "source": [
    "## Download N-BEATSx Models\n",
    "\n",
    "To avoid GitHub’s file size limits, the trained N-BEATSx models are hosted on OneDrive.\n",
    "\n",
    "- [nbeatsx_model1.ckpt (61.4 MB)](https://leeds365-my.sharepoint.com/:u:/g/personal/sc21ar_leeds_ac_uk/EQi-4bt0TydJlc3f6sIg_g8BPPnAsP6i93Oiz4XOW4zWNQ?e=FsaNWO)\n",
    "- [nbeatsx_model2.ckpt (489 MB)](https://leeds365-my.sharepoint.com/:u:/g/personal/sc21ar_leeds_ac_uk/EYoPTmm_NaJNvn8EQhmOSgoB4arB-RwgO-6-DgNfhMhepA?e=wOSLcT)\n",
    "\n",
    "After downloading, place them in your local `Training/N-BEATSx/` folder and load like this:\n"
   ]
  },
  {
   "cell_type": "code",
   "execution_count": 51,
   "metadata": {},
   "outputs": [
    {
     "name": "stderr",
     "output_type": "stream",
     "text": [
      "Seed set to 42\n"
     ]
    }
   ],
   "source": [
    "# To load it:\n",
    "from neuralforecast.models import NBEATSx\n",
    "from neuralforecast.core import NeuralForecast\n",
    "from neuralforecast.losses.pytorch import SMAPE\n",
    "\n",
    "# Load model\n",
    "loaded_nbeatsx = NBEATSx.load_from_checkpoint(\"nbeatsx_model2.ckpt\")\n",
    "restored_model = NeuralForecast(models=[loaded_nbeatsx], freq=\"M\")"
   ]
  },
  {
   "cell_type": "markdown",
   "metadata": {},
   "source": [
    "**Model Above (Without Dataset Exogenous Variables):**\n",
    "   - This model used Fourier terms, lag features, rolling statistics, EMAs, and momentum — all derived from the target variable itself.\n",
    "   - It **did not** incorporate any domain-specific exogenous variables from the original dataset like interest rates, unemployment, etc.\n",
    "   - Purpose: Establish a **baseline** performance and assess how much inflation can be predicted solely from historical inflation patterns and time-based signals.\n",
    "\n",
    "**Model Below (With Dataset Exogenous Variables):**\n",
    "   - This version **included relevant exogenous features** selected through correlation analysis (|r| > 0.4).\n",
    "   - These variables were passed using the `hist_exog_list` argument in the `NBEATSx` model configuration.\n",
    "   - Goal: Evaluate whether incorporating exogenous economic indicators improves forecast accuracy beyond what is achievable from target history alone.\n",
    "\n",
    "---\n",
    "\n",
    "Training a model without exogenous features first is useful because it:\n",
    "\n",
    "- Provides a **baseline** to compare improvements from added data.\n",
    "- Helps isolate the impact of **domain-specific variables**.\n",
    "- Prevents overfitting early in development — simpler models are easier to debug.\n",
    "- Encourages step-by-step modeling, which is critical when tuning complex neural architectures like N-BEATSx.\n",
    "\n",
    "By comparing the two, we can determine if and how much exogenous features contribute to **predictive power** in modeling inflation.\n"
   ]
  },
  {
   "cell_type": "markdown",
   "metadata": {},
   "source": [
    "# Nixtla N-BEATSx (Optimized) - Adding exogenous from dataset"
   ]
  },
  {
   "cell_type": "code",
   "execution_count": 1,
   "metadata": {},
   "outputs": [
    {
     "name": "stderr",
     "output_type": "stream",
     "text": [
      "/Library/Frameworks/Python.framework/Versions/3.11/lib/python3.11/site-packages/tqdm/auto.py:21: TqdmWarning: IProgress not found. Please update jupyter and ipywidgets. See https://ipywidgets.readthedocs.io/en/stable/user_install.html\n",
      "  from .autonotebook import tqdm as notebook_tqdm\n",
      "2025-03-24 22:02:49,903\tINFO util.py:154 -- Missing packages: ['ipywidgets']. Run `pip install -U ipywidgets`, then restart the notebook server for rich notebook output.\n",
      "2025-03-24 22:02:50,151\tINFO util.py:154 -- Missing packages: ['ipywidgets']. Run `pip install -U ipywidgets`, then restart the notebook server for rich notebook output.\n"
     ]
    }
   ],
   "source": [
    "import pandas as pd\n",
    "import numpy as np\n",
    "import matplotlib.pyplot as plt\n",
    "import seaborn as sns\n",
    "from sklearn.preprocessing import MinMaxScaler, StandardScaler\n",
    "from sklearn.metrics import mean_absolute_error, mean_squared_error\n",
    "\n",
    "from neuralforecast.models import NBEATSx\n",
    "from neuralforecast.core import NeuralForecast\n",
    "from neuralforecast.losses.pytorch import SMAPE"
   ]
  },
  {
   "cell_type": "markdown",
   "metadata": {},
   "source": [
    "## Load Dataset"
   ]
  },
  {
   "cell_type": "code",
   "execution_count": 2,
   "metadata": {},
   "outputs": [],
   "source": [
    "# Load Dataset\n",
    "df = pd.read_csv(\"../../Data/Train/train1990s.csv\")\n",
    "df['ds'] = pd.to_datetime(df['observation_date'], format=\"%m/%Y\")\n",
    "df['unique_id'] = 'inflation'\n",
    "df = df.rename(columns={\"fred_PCEPI\": \"y\"})\n",
    "df['y_original'] = df['y']"
   ]
  },
  {
   "cell_type": "markdown",
   "metadata": {},
   "source": [
    "## Feature Enginnering"
   ]
  },
  {
   "cell_type": "markdown",
   "metadata": {},
   "source": [
    "- **Feature Engineering**:  \n",
    "  New features were created to capture seasonality, lag effects, and momentum:\n",
    "  - `month`: Extracted from the datetime.\n",
    "  - `sin_1`, `cos_1`: Fourier features to model cyclic patterns.\n",
    "  - `y_lag_1`: Previous time step of the target variable.\n",
    "  - `y_pct_change`: First-order percentage change.\n",
    "  - `y_momentum`: Second-order difference to capture momentum.\n"
   ]
  },
  {
   "cell_type": "code",
   "execution_count": 3,
   "metadata": {},
   "outputs": [],
   "source": [
    "# Feature Engineering\n",
    "df[\"month\"] = df[\"ds\"].dt.month\n",
    "df[\"sin_1\"] = np.sin(2 * np.pi * df[\"month\"] / 12)\n",
    "df[\"cos_1\"] = np.cos(2 * np.pi * df[\"month\"] / 12)\n",
    "df[\"y_lag_1\"] = df[\"y_original\"].shift(1)\n",
    "df[\"y_pct_change\"] = df[\"y_original\"].pct_change()\n",
    "df[\"y_momentum\"] = df[\"y_pct_change\"].diff()\n",
    "df = df.dropna()"
   ]
  },
  {
   "cell_type": "markdown",
   "metadata": {},
   "source": [
    "- **Feature Selection**:  \n",
    "  Features with absolute correlation > 0.4 with the normalized target (`y`) were selected based on a correlation matrix.\n"
   ]
  },
  {
   "cell_type": "code",
   "execution_count": 4,
   "metadata": {},
   "outputs": [],
   "source": [
    "# Feature Selection (|r| > 0.4)\n",
    "exclude = ['observation_date', 'ds', 'unique_id', 'y', 'y_original']\n",
    "exog_features = [col for col in df.columns if col not in exclude]\n",
    "cor_matrix = df[exog_features + ['y']].corr()\n",
    "selected_features = cor_matrix['y'].drop('y').loc[lambda x: x.abs() > 0.4].index.tolist()"
   ]
  },
  {
   "cell_type": "markdown",
   "metadata": {},
   "source": [
    "\n",
    "- **Normalization**:  \n",
    "  - Selected features were scaled using `StandardScaler` (mean = 0, std = 1).\n",
    "  - The target variable `y` was scaled using `MinMaxScaler` (range 0 to 1) to stabilize training."
   ]
  },
  {
   "cell_type": "code",
   "execution_count": 5,
   "metadata": {},
   "outputs": [],
   "source": [
    "# Normalize\n",
    "x_scaler = StandardScaler()\n",
    "df[selected_features] = x_scaler.fit_transform(df[selected_features])\n",
    "\n",
    "y_scaler = MinMaxScaler()\n",
    "df[\"y\"] = y_scaler.fit_transform(df[[\"y\"]])\n",
    "\n",
    "df_model = df[['unique_id', 'ds', 'y'] + selected_features]\n",
    "df_targets = df[['unique_id', 'ds', 'y_original']]"
   ]
  },
  {
   "cell_type": "markdown",
   "metadata": {},
   "source": [
    "## Define Model\n",
    "\n",
    "- **Model Architecture**: Used the `NBEATSx` model from the `NeuralForecast` library.\n",
    "- **Forecast Horizon**: Set to predict the next 6 months (`h=6`).\n",
    "- **Input Window**: Uses 48 months of historical data (`input_size=48`).\n",
    "- **Training Configuration**:\n",
    "  - `max_steps=500`: Trains for 500 steps.\n",
    "  - `val_check_steps=100`: Checks validation loss every 100 steps.\n",
    "  - `dropout_prob_theta=0.3`: Regularization to prevent overfitting.\n",
    "  - `learning_rate=5e-4`: Learning rate for the optimizer.\n",
    "  - `stack_types=[\"trend\", \"seasonality\"]`: Captures both long-term and seasonal patterns.\n",
    "  - `n_blocks=[2, 2]`: Two blocks for each stack type.\n",
    "\n",
    "- **Exogenous Features**: Historical exogenous variables (`hist_exog_list`) selected during feature engineering are used.\n",
    "- **Loss Function**: Symmetric Mean Absolute Percentage Error (`SMAPE`) to evaluate forecasting accuracy.\n",
    "- **Scaler Type**: Internal scaling set to `'robust'` for stability.\n",
    "- **Reproducibility**: `random_seed=42` ensures consistent results across runs.\n"
   ]
  },
  {
   "cell_type": "code",
   "execution_count": 6,
   "metadata": {},
   "outputs": [
    {
     "name": "stderr",
     "output_type": "stream",
     "text": [
      "Seed set to 42\n"
     ]
    }
   ],
   "source": [
    "# Define N-BEATSx Model\n",
    "HORIZON = 6\n",
    "model = NeuralForecast(\n",
    "    models=[\n",
    "        NBEATSx(\n",
    "            h=HORIZON,\n",
    "            input_size=48,\n",
    "            max_steps=500,\n",
    "            val_check_steps=100,\n",
    "            learning_rate=5e-4,\n",
    "            n_blocks=[2, 2],\n",
    "            dropout_prob_theta=0.3,\n",
    "            stack_types=[\"trend\", \"seasonality\"],\n",
    "            hist_exog_list=selected_features,\n",
    "            scaler_type=\"robust\",\n",
    "            loss=SMAPE(),\n",
    "            random_seed=42\n",
    "        )\n",
    "    ],\n",
    "    freq=\"M\"\n",
    ")"
   ]
  },
  {
   "cell_type": "markdown",
   "metadata": {},
   "source": [
    "## Train/Val via Cross-Validation"
   ]
  },
  {
   "cell_type": "code",
   "execution_count": 7,
   "metadata": {},
   "outputs": [
    {
     "name": "stderr",
     "output_type": "stream",
     "text": [
      "GPU available: False, used: False\n",
      "TPU available: False, using: 0 TPU cores\n",
      "HPU available: False, using: 0 HPUs\n",
      "2025-03-24 22:03:00.471770: I tensorflow/core/platform/cpu_feature_guard.cc:210] This TensorFlow binary is optimized to use available CPU instructions in performance-critical operations.\n",
      "To enable the following instructions: AVX2 FMA, in other operations, rebuild TensorFlow with the appropriate compiler flags.\n",
      "\n",
      "  | Name         | Type          | Params | Mode \n",
      "-------------------------------------------------------\n",
      "0 | loss         | SMAPE         | 0      | train\n",
      "1 | padder_train | ConstantPad1d | 0      | train\n",
      "2 | scaler       | TemporalNorm  | 0      | train\n",
      "3 | blocks       | ModuleList    | 16.9 M | train\n",
      "-------------------------------------------------------\n",
      "16.9 M    Trainable params\n",
      "1.4 K     Non-trainable params\n",
      "16.9 M    Total params\n",
      "67.778    Total estimated model params size (MB)\n",
      "52        Modules in train mode\n",
      "0         Modules in eval mode\n"
     ]
    },
    {
     "name": "stdout",
     "output_type": "stream",
     "text": [
      "Epoch 499: 100%|██████████| 1/1 [00:01<00:00,  0.56it/s, v_num=0, train_loss_step=0.0185, train_loss_epoch=0.0185]"
     ]
    },
    {
     "name": "stderr",
     "output_type": "stream",
     "text": [
      "`Trainer.fit` stopped: `max_steps=500` reached.\n"
     ]
    },
    {
     "name": "stdout",
     "output_type": "stream",
     "text": [
      "Epoch 499: 100%|██████████| 1/1 [00:01<00:00,  0.55it/s, v_num=0, train_loss_step=0.0185, train_loss_epoch=0.0185]\n"
     ]
    },
    {
     "name": "stderr",
     "output_type": "stream",
     "text": [
      "GPU available: False, used: False\n",
      "TPU available: False, using: 0 TPU cores\n",
      "HPU available: False, using: 0 HPUs\n"
     ]
    },
    {
     "name": "stdout",
     "output_type": "stream",
     "text": [
      "Predicting DataLoader 0: 100%|██████████| 1/1 [00:00<00:00, 18.08it/s]\n"
     ]
    }
   ],
   "source": [
    "# Train/Val via Cross-Validation\n",
    "df_cv = model.cross_validation(\n",
    "    df=df_model,\n",
    "    n_windows=10,\n",
    "    step_size=HORIZON\n",
    ")"
   ]
  },
  {
   "cell_type": "markdown",
   "metadata": {},
   "source": [
    "## Evaluation"
   ]
  },
  {
   "cell_type": "code",
   "execution_count": 8,
   "metadata": {},
   "outputs": [
    {
     "name": "stdout",
     "output_type": "stream",
     "text": [
      "Cross-Validation MAE: 0.3085\n",
      "Cross-Validation RMSE: 0.3870\n"
     ]
    },
    {
     "data": {
      "image/png": "[encoded data removed]",
      "text/plain": [
       "<Figure size 1200x500 with 1 Axes>"
      ]
     },
     "metadata": {},
     "output_type": "display_data"
    }
   ],
   "source": [
    "# ===============================\n",
    "# Evaluation\n",
    "# ===============================\n",
    "merged = df_cv.merge(df_targets, on=[\"unique_id\", \"ds\"], how=\"left\")\n",
    "merged = merged.dropna(subset=[\"y_original\", \"NBEATSx\"])\n",
    "\n",
    "y_true = merged[\"y_original\"].values.reshape(-1, 1)\n",
    "y_pred = y_scaler.inverse_transform(merged[[\"NBEATSx\"]])\n",
    "\n",
    "mae = mean_absolute_error(y_true, y_pred)\n",
    "rmse = np.sqrt(mean_squared_error(y_true, y_pred))\n",
    "\n",
    "print(f\"Cross-Validation MAE: {mae:.4f}\")\n",
    "print(f\"Cross-Validation RMSE: {rmse:.4f}\")\n",
    "\n",
    "# ===============================\n",
    "# Plot\n",
    "# ===============================\n",
    "merged[\"y_inv\"] = y_true\n",
    "merged[\"pred_inv\"] = y_pred\n",
    "\n",
    "plt.figure(figsize=(12, 5))\n",
    "sns.lineplot(data=merged, x=\"ds\", y=\"y_inv\", label=\"Actual Inflation\", color=\"black\")\n",
    "sns.lineplot(data=merged, x=\"ds\", y=\"pred_inv\", label=\"Predicted Inflation\", linestyle=\"--\", color=\"blue\")\n",
    "plt.title(\"N-BEATSx Forecast (Fourier + Lag + Momentum + Exogenous)\")\n",
    "plt.xlabel(\"Date\")\n",
    "plt.ylabel(\"Inflation\")\n",
    "plt.grid(True)\n",
    "plt.tight_layout()\n",
    "plt.legend()\n",
    "plt.show()\n"
   ]
  },
  {
   "cell_type": "markdown",
   "metadata": {},
   "source": [
    "## Model Saving"
   ]
  },
  {
   "cell_type": "code",
   "execution_count": 60,
   "metadata": {},
   "outputs": [
    {
     "name": "stdout",
     "output_type": "stream",
     "text": [
      "Model saved to nbeatsx_model_exogenous.pkl\n"
     ]
    }
   ],
   "source": [
    "import joblib\n",
    "import os\n",
    "\n",
    "# Save the trained NeuralForecast object (includes NBEATSx)\n",
    "joblib.dump(model, \"nbeatsx_model_exogenous.pkl\")\n",
    "print(\"Model saved to nbeatsx_model_exogenous.pkl\")\n"
   ]
  },
  {
   "cell_type": "markdown",
   "metadata": {},
   "source": [
    "## Download N-BEATSx Models\n",
    "\n",
    "To avoid GitHub’s file size limits, the trained N-BEATSx models are hosted on OneDrive.\n",
    "\n",
    "- [nbeatsx_model_exogenous.pkl (61.4 MB)](https://leeds365-my.sharepoint.com/:u:/g/personal/sc21ar_leeds_ac_uk/ESwuoWdMcsRJu_J0uJn2cyYBK_2ciWF9AS2xYSm-tSaDdQ?e=d0G2fM)\n",
    "\n",
    "After downloading, place them in your local `Training/N-BEATSx/` folder and load like this:\n"
   ]
  },
  {
   "cell_type": "code",
   "execution_count": null,
   "metadata": {},
   "outputs": [],
   "source": [
    "# To load it:\n",
    "from neuralforecast.models import NBEATSx\n",
    "from neuralforecast.core import NeuralForecast\n",
    "from neuralforecast.losses.pytorch import SMAPE\n",
    "\n",
    "# Load model\n",
    "loaded_nbeatsx = NBEATSx.load_from_checkpoint(\"nbeatsx_model_exogenous.pkl\")\n",
    "restored_model = NeuralForecast(models=[loaded_nbeatsx], freq=\"M\")"
   ]
  },
  {
   "cell_type": "markdown",
   "metadata": {},
   "source": [
    "## **Comparison of N-BEATSx Implementations**\n",
    "\n",
    "| Model ID | Name | Description |\n",
    "|----------|------|-------------|\n",
    "| **Model 1** | `N-BEATSx (Manual PyTorch)` | Custom architecture using FFT and PCA in PyTorch |\n",
    "| **Model 2** | `Nixtla N-BEATSx (Basic)` | Nixtla version with Fourier + Lag + Rolling (no momentum/EMA) |\n",
    "| **Model 3** | `Nixtla N-BEATSx (Full Feature Heavy)` | All features (Fourier, Lag, EMA, Momentum, Rolling, etc.) |\n",
    "| **Model 4** | `Nixtla N-BEATSx (Optimized)` | Balanced features + momentum + selected exogenous (best performing) |\n",
    "\n",
    "### 1. **Exploratory Data Analysis (EDA) and Preprocessing**\n",
    "\n",
    "| Component | Model 1: PyTorch | Model 2: Nixtla Basic | Model 3: Nixtla Heavy | Model 4: Nixtla Optimized |\n",
    "|----------|------------------|------------------|------------------|------------------|\n",
    "| **Dataset Used** | `train1990s.csv` | `train1990s.csv` | `train1990s.csv` | `train1990s.csv` |\n",
    "| **Target Variable** | `fred_PCEPI` | Renamed to `y` | Renamed to `y` | Renamed to `y` |\n",
    "| **Train/Val Split** | Manual (60-20-20) | Auto CV | Auto CV | Auto CV |\n",
    "| **Missing Values** | Dropped post-engineering | Dropped after rolling/lag | Dropped after full pipeline | Dropped after basic engineering |\n",
    "\n",
    "### 2. **Feature Engineering**\n",
    "\n",
    "| Feature | Model 1: PyTorch | Model 2: Nixtla Basic | Model 3: Nixtla Heavy | Model 4: Nixtla Optimized |\n",
    "|--------|------------------|------------------------|-----------------------|------------------------|\n",
    "| **Fourier** | FFT (log real/imag) | sin/cos (3 harmonics) | sin/cos (3 harmonics) | sin/cos (1 harmonic) |\n",
    "| **Lag** | Implicit via sequence | Lag 1, 6, 12 | Lag 1, 6, 12, 24 | Lag 1 |\n",
    "| **Rolling** | NO | Mean/Std (3) | Mean/Std (3,6,12), skew/kurt | Mean (6) only |\n",
    "| **Momentum** | Manual momentum + pct change | Included | Included | Included |\n",
    "| **EMA** | NO | NO | EMA-3, EMA-12 | NO |\n",
    "| **PCA** | YES (5 comps) | NO | NO | NO |\n",
    "| **Other** | Gaussian Smoothing | Raw Input | Full statistical features | Clean, interpretable design |\n",
    "\n",
    "### 3. **Scaling & Normalization**\n",
    "\n",
    "| Component | Model 1: PyTorch | Model 2: Nixtla Basic | Model 3: Nixtla Heavy | Model 4: Nixtla Optimized |\n",
    "|-----------|---------|---------|---------|---------|\n",
    "| **Target (`y`)** | MinMax | Standard | Standard | MinMax |\n",
    "| **Exogenous** | Standard + PCA | Standard | Standard | Standard |\n",
    "| **Output Inversion** | YES | YES | YES | YES |\n",
    "\n",
    "### 4. **Model Architecture & Training**\n",
    "\n",
    "| Component | Model 1: PyTorch | Model 2: Nixtla Basic | Model 3: Nixtla Heavy | Model 4: Nixtla Optimized |\n",
    "|-----------|------------------|------------------------|------------------------|----------------------------|\n",
    "| **Framework** | PyTorch (Manual) | NeuralForecast | NeuralForecast | NeuralForecast |\n",
    "| **Exog Usage** | Historical (past only) | Future (`futr_exog_list`) | Future (`futr_exog_list`) | Historical (`hist_exog_list`) |\n",
    "| **Stack Types** | Custom Blocks | `trend`, `seasonality` | `trend`, `seasonality`, `identity` | `trend`, `seasonality` |\n",
    "| **Dropout** | 0.2 | 0.3 | 0.2 | 0.3 |\n",
    "| **Loss** | HuberLoss | MSE | SMAPE | SMAPE |\n",
    "| **Steps/Epochs** | 100 epochs | 100 steps | 500 steps | 500 steps |\n",
    "| **Learning Rate** | 1e-3 | 5e-4 | 2e-4 | 5e-4 |\n",
    "\n",
    "### 5. **Evaluation & Metrics**\n",
    "\n",
    "| Metric | Model 1: PyTorch | Model 2: Nixtla Basic | Model 3: Nixtla Heavy | **Model 4: Nixtla Optimized** |\n",
    "|--------|---------|---------|---------|----------------|\n",
    "| **MAE** | — | — | **1.1150** | **0.3002** |\n",
    "| **RMSE** | ~3.2 visually | **0.5103** | 1.5985 | **0.3752** |\n",
    "| **Smoothing** | Gaussian (custom) | None | None | None |\n",
    "| **Evaluation Style** | Manual test split | CV (4-fold) | CV (4-fold) | CV (4-fold) |\n",
    "\n",
    "### 6. **Unique Characteristics**\n",
    "\n",
    "| Feature | Model 1: PyTorch | Model 2: Nixtla Basic | Model 3: Nixtla Heavy | Model 4: Nixtla Optimized |\n",
    "|--------|---------|---------|---------|---------|\n",
    "| **Custom Architecture** | Fully manual | NO | NO | NO |\n",
    "| **FFT (real+imag)** | YES | NO | NO | NO |\n",
    "| **PCA on Exog** | YES | NO | NO | NO |\n",
    "| **Best Performance** | NO | NO | NO | YES |\n",
    "\n",
    "### **Final Verdict: Use Model 4: Nixtla Optimized**\n",
    "\n",
    "- **Best RMSE & MAE**\n",
    "- **Simplest + most effective feature set**\n",
    "- **Well-behaved predictions (less variance)**\n",
    "- **Balanced feature engineering without overfitting**"
   ]
  },
  {
   "cell_type": "markdown",
   "metadata": {},
   "source": [
    "## Adjustments for 12-Month Forecast & Evaluation along with standardization"
   ]
  },
  {
   "cell_type": "code",
   "execution_count": 3,
   "metadata": {},
   "outputs": [],
   "source": [
    "import sys\n",
    "import os\n",
    "sys.path.append(os.path.abspath(os.path.join(\"..\", \"..\")))  # adds root of the project"
   ]
  },
  {
   "cell_type": "code",
   "execution_count": 12,
   "metadata": {},
   "outputs": [
    {
     "name": "stderr",
     "output_type": "stream",
     "text": [
      "2025-03-27 17:31:29,520 - INFO - Added time features: year, month, quarter. DataFrame shape: (408, 366)\n",
      "Seed set to 42\n",
      "GPU available: False, used: False\n",
      "TPU available: False, using: 0 TPU cores\n",
      "HPU available: False, using: 0 HPUs\n",
      "\n",
      "  | Name         | Type          | Params | Mode \n",
      "-------------------------------------------------------\n",
      "0 | loss         | SMAPE         | 0      | train\n",
      "1 | padder_train | ConstantPad1d | 0      | train\n",
      "2 | scaler       | TemporalNorm  | 0      | train\n",
      "3 | blocks       | ModuleList    | 14.7 M | train\n",
      "-------------------------------------------------------\n",
      "14.7 M    Trainable params\n",
      "10.8 K    Non-trainable params\n",
      "14.7 M    Total params\n",
      "58.715    Total estimated model params size (MB)\n",
      "100       Modules in train mode\n",
      "0         Modules in eval mode\n"
     ]
    },
    {
     "name": "stdout",
     "output_type": "stream",
     "text": [
      "Epoch 499: 100%|██████████| 1/1 [00:01<00:00,  0.97it/s, v_num=26, train_loss_step=0.0109, train_loss_epoch=0.0109]"
     ]
    },
    {
     "name": "stderr",
     "output_type": "stream",
     "text": [
      "`Trainer.fit` stopped: `max_steps=500` reached.\n"
     ]
    },
    {
     "name": "stdout",
     "output_type": "stream",
     "text": [
      "Epoch 499: 100%|██████████| 1/1 [00:01<00:00,  0.96it/s, v_num=26, train_loss_step=0.0109, train_loss_epoch=0.0109]\n"
     ]
    },
    {
     "name": "stderr",
     "output_type": "stream",
     "text": [
      "/Library/Frameworks/Python.framework/Versions/3.11/lib/python3.11/site-packages/utilsforecast/processing.py:384: FutureWarning: 'M' is deprecated and will be removed in a future version, please use 'ME' instead.\n",
      "  freq = pd.tseries.frequencies.to_offset(freq)\n",
      "/Library/Frameworks/Python.framework/Versions/3.11/lib/python3.11/site-packages/utilsforecast/processing.py:440: FutureWarning: 'M' is deprecated and will be removed in a future version, please use 'ME' instead.\n",
      "  freq = pd.tseries.frequencies.to_offset(freq)\n",
      "GPU available: False, used: False\n",
      "TPU available: False, using: 0 TPU cores\n",
      "HPU available: False, using: 0 HPUs\n"
     ]
    },
    {
     "name": "stdout",
     "output_type": "stream",
     "text": [
      "Predicting DataLoader 0: 100%|██████████| 1/1 [00:00<00:00, 36.66it/s]\n",
      "Saved N-BEATSx predictions to: ../../Predictions/NBEATSx.npy\n"
     ]
    }
   ],
   "source": [
    "import pandas as pd\n",
    "import numpy as np\n",
    "import os\n",
    "\n",
    "from sklearn.preprocessing import StandardScaler, MinMaxScaler\n",
    "from neuralforecast.models import NBEATSx\n",
    "from neuralforecast.core import NeuralForecast\n",
    "from neuralforecast.losses.pytorch import SMAPE\n",
    "\n",
    "from Training.Helper.dataPreprocessing import add_time_features, add_lagged_features, add_rolling_features, rank_features_ccf, sklearn_fit_transform, integer_index\n",
    "\n",
    "# ======================\n",
    "# CONFIG\n",
    "# ======================\n",
    "HORIZON = 12\n",
    "INPUT_SIZE = 96\n",
    "DATA_PATH = os.path.join(\"..\", \"..\", \"Data\", \"Train\", \"train1990s.csv\")\n",
    "PRED_SAVE_PATH = os.path.join(\"..\", \"..\", \"Predictions\", \"NBEATSx.npy\")\n",
    "\n",
    "# ======================\n",
    "# Load & Preprocess\n",
    "# ======================\n",
    "df = pd.read_csv(DATA_PATH)\n",
    "df[\"ds\"] = pd.to_datetime(df[\"observation_date\"], format=\"%m/%Y\")\n",
    "df = df.rename(columns={\"fred_PCEPI\": \"y\"})\n",
    "df[\"y_original\"] = df[\"y\"]\n",
    "df[\"unique_id\"] = \"inflation\"\n",
    "\n",
    "# Time features\n",
    "df = add_time_features(df, date_col=\"ds\")\n",
    "\n",
    "# Add Fourier + Lag + Rolling features\n",
    "for k in [1, 2, 3]:\n",
    "    df[f\"sin_{k}\"] = np.sin(2 * np.pi * k * df[\"month\"] / 12)\n",
    "    df[f\"cos_{k}\"] = np.cos(2 * np.pi * k * df[\"month\"] / 12)\n",
    "df[\"pct_change\"] = df[\"y_original\"].pct_change()\n",
    "df[\"momentum\"] = df[\"pct_change\"].diff()\n",
    "df = add_lagged_features(df, [\"y_original\"], lags=[1, 6, 12])\n",
    "df = add_rolling_features(df, \"y_original\", windows=[3, 6, 12])\n",
    "df.dropna(inplace=True)\n",
    "\n",
    "# Feature Selection using CCF\n",
    "exog_df = df.drop(columns=[\"observation_date\", \"ds\", \"unique_id\", \"y\", \"y_original\"])\n",
    "exog_df[\"fred_PCEPI\"] = df[\"y_original\"]\n",
    "selected_features = rank_features_ccf(exog_df, targetCol=\"fred_PCEPI\")[:20]  # keep top 20\n",
    "\n",
    "# Standardise Features\n",
    "x_transformed_list, x_scaler = sklearn_fit_transform(df[selected_features], StandardScaler())\n",
    "df[selected_features] = x_transformed_list[0]\n",
    "\n",
    "# Normalise Target\n",
    "y_transformed_list, y_scaler = sklearn_fit_transform(df[[\"y\"]], MinMaxScaler())\n",
    "df[\"y\"] = y_transformed_list[0].iloc[:, 0]\n",
    "\n",
    "# Final model input\n",
    "df_model = df[[\"unique_id\", \"ds\", \"y\"] + list(selected_features)]\n",
    "df_model = integer_index(df_model)\n",
    "\n",
    "# ======================\n",
    "# Define Model\n",
    "# ======================\n",
    "model = NeuralForecast(\n",
    "    models=[\n",
    "        NBEATSx(\n",
    "            h=HORIZON,\n",
    "            input_size=INPUT_SIZE,\n",
    "            max_steps=500,\n",
    "            val_check_steps=100,\n",
    "            learning_rate=5e-4,\n",
    "            n_blocks=[4, 4],\n",
    "            dropout_prob_theta=0.3,\n",
    "            stack_types=[\"trend\", \"seasonality\"],\n",
    "            hist_exog_list=list(selected_features),\n",
    "            scaler_type=\"robust\",\n",
    "            loss=SMAPE(),\n",
    "            random_seed=42\n",
    "        )\n",
    "    ],\n",
    "    freq=\"M\"\n",
    ")\n",
    "\n",
    "# ======================\n",
    "# Fit Model and Predict\n",
    "# ======================\n",
    "model.fit(df=df_model)\n",
    "\n",
    "# Use last INPUT_SIZE points for prediction\n",
    "future_df = df_model.tail(INPUT_SIZE)\n",
    "forecast_df = model.predict(df=future_df)\n",
    "y_pred_scaled = forecast_df[\"NBEATSx\"].values.reshape(-1, 1)\n",
    "y_pred = y_scaler.inverse_transform(y_pred_scaled).flatten()\n",
    "\n",
    "# Save 12-month prediction\n",
    "np.save(PRED_SAVE_PATH, y_pred[:12])  # match test set length for evaluation\n",
    "\n",
    "print(f\"Saved N-BEATSx predictions to: {PRED_SAVE_PATH}\")\n"
   ]
  }
 ],
 "metadata": {
  "kernelspec": {
   "display_name": ".venv",
   "language": "python",
   "name": "python3"
  },
  "language_info": {
   "codemirror_mode": {
    "name": "ipython",
    "version": 3
   },
   "file_extension": ".py",
   "mimetype": "text/x-python",
   "name": "python",
   "nbconvert_exporter": "python",
   "pygments_lexer": "ipython3",
   "version": "3.11.7"
  },
  "orig_nbformat": 4
 },
 "nbformat": 4,
 "nbformat_minor": 2
}
