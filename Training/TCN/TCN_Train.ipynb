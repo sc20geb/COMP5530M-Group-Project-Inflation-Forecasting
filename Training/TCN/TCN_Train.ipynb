{
 "cells": [
  {
   "cell_type": "code",
   "execution_count": null,
   "id": "41236cae",
   "metadata": {},
   "outputs": [],
   "source": [
    "import pandas as pd\n",
    "from darts import TimeSeries\n",
    "from darts.models import TCNModel\n",
    "from darts.dataprocessing.transformers import Scaler\n",
    "from pytorch_lightning.callbacks.early_stopping import EarlyStopping\n",
    "from darts.utils.likelihood_models import QuantileRegression\n",
    "import sys\n",
    "import json\n",
    "sys.path.append('../Helper/')\n",
    "from dataPreprocessing import get_untransformed_exog, TRAIN_DATA_PATH_1990S, TEST_DATA_PATH_1990S\n",
    "from PyTorchModular import darts_optuna,save_model_hyper_params, load_model_hyper_params, train_valid_split_darts, load_prediction, HORIZONS\n",
    "from torch.nn import MSELoss\n",
    "from torch.optim import AdamW\n",
    "from pytorch_lightning.callbacks.early_stopping import EarlyStopping\n",
    "import numpy as np\n",
    "import os"
   ]
  },
  {
   "cell_type": "code",
   "execution_count": null,
   "id": "6004af70",
   "metadata": {},
   "outputs": [],
   "source": [
    "target_col = 'fred_PCEPI'\n",
    "date_col = 'observation_date'"
   ]
  },
  {
   "cell_type": "code",
   "execution_count": null,
   "id": "43985289",
   "metadata": {},
   "outputs": [],
   "source": [
    "def get_exog_target(path : str, date_col : str, target_col : str):\n",
    "    data = pd.read_csv(path)\n",
    "    data = get_untransformed_exog(data)\n",
    "    df = data.copy()\n",
    "    df[date_col] = pd.to_datetime(df[date_col], format='%m/%Y')\n",
    "    df.set_index(date_col, inplace=True)\n",
    "    return df.drop(target_col, axis=1), df[target_col]"
   ]
  },
  {
   "cell_type": "code",
   "execution_count": null,
   "id": "7864a114",
   "metadata": {},
   "outputs": [],
   "source": [
    "train_exog, train_target = get_exog_target(TRAIN_DATA_PATH_1990S, date_col, target_col)\n",
    "\n",
    "test_exog, test_target = get_exog_target(TEST_DATA_PATH_1990S, date_col, target_col)"
   ]
  },
  {
   "cell_type": "code",
   "execution_count": null,
   "id": "881010b2",
   "metadata": {},
   "outputs": [],
   "source": [
    "N_TRIALS=100"
   ]
  },
  {
   "cell_type": "code",
   "execution_count": null,
   "id": "fe265805",
   "metadata": {},
   "outputs": [],
   "source": [
    "search_space = {\n",
    "    'kernel_size': (int, 1, 6),\n",
    "    'num_filters': (int, 1, 10),\n",
    "    'num_layers': (int, 1, 10),\n",
    "    'dilation_base': (int, 1, 5),\n",
    "    'weight_norm': (str, [False, True]),\n",
    "    'dropout': (float, 0.0, 1.0),\n",
    "    'optimizer_kwargs': {\"lr\": (float, 1e-5, 1e-1,{'step':None,'log':True})},\n",
    "    'loss_fn':('categorical',[\"QuantileRegression\", \"MSE\"])\n",
    "}"
   ]
  },
  {
   "cell_type": "code",
   "execution_count": null,
   "id": "3c5efe52",
   "metadata": {},
   "outputs": [],
   "source": [
    "def load_TCN_params(json_path):\n",
    "\n",
    "    with open(json_path,'r') as f:\n",
    "        loaded_params= json.load(f)\n",
    "\n",
    "    if 'loss_fn' in loaded_params.keys():\n",
    "        if loaded_params['loss_fn']=='MSE':\n",
    "            loaded_params['loss_fn']=MSELoss()\n",
    "            loaded_params['likelihood']=None\n",
    "        else:\n",
    "            loaded_params['loss_fn']=None\n",
    "            loaded_params['likelihood']=QuantileRegression((0.25,0.5,0.75))\n",
    "\n",
    "    loaded_params['optimizer_kwargs']={\"lr\":loaded_params[\"lr\"]}\n",
    "    del loaded_params[\"lr\"]\n",
    "\n",
    "    return loaded_params\n",
    "\n",
    "\n",
    "def train_TCN(best_params_path, valid_size, horizon, train_exog, train_target, verbose=False):\n",
    "    \n",
    "    best_params= load_TCN_params(best_params_path)\n",
    "    target_scaler = Scaler()\n",
    "    exog_scaler = Scaler()\n",
    "\n",
    "    probabilistic= True if best_params['loss_fn'] is None else False\n",
    "\n",
    "    train_target, valid_target, train_exog, valid_exog = train_valid_split_darts(train_exog, train_target, valid_size, best_params['input_chunk_length'])\n",
    "\n",
    "    train_target= target_scaler.fit_transform(train_target)\n",
    "    train_exog= exog_scaler.fit_transform(train_exog)\n",
    "\n",
    "    valid_target= target_scaler.transform(valid_target)\n",
    "    valid_exog= exog_scaler.transform(valid_exog)\n",
    "\n",
    "    early_stopper = EarlyStopping(\n",
    "                monitor=\"val_loss\",\n",
    "                patience=25,\n",
    "                min_delta=1e-5,\n",
    "                mode=\"min\",\n",
    "                verbose=verbose\n",
    "                )\n",
    "    best_params[\"save_checkpoints\"]=True\n",
    "    best_params[\"force_reset\"]=True\n",
    "    best_params[\"random_state\"]=42\n",
    "    best_params[\"output_chunk_length\"]=horizon\n",
    "    best_params['optimizer_cls']=AdamW\n",
    "    best_params[\"pl_trainer_kwargs\"]={\n",
    "                \"accelerator\":'auto',\n",
    "                \"callbacks\": [early_stopper]\n",
    "            }\n",
    "\n",
    "    model = TCNModel(**best_params, model_name= f'TCN_horizon_{horizon}')\n",
    "\n",
    "    model.fit(train_target,\n",
    "            past_covariates=train_exog,\n",
    "            val_series=valid_target,\n",
    "            val_past_covariates=valid_exog,\n",
    "            epochs=10000,\n",
    "            verbose=verbose)\n",
    "\n",
    "    model.load_from_checkpoint(model_name=f'TCN_horizon_{horizon}', best=True)\n",
    "\n",
    "    return model, target_scaler, exog_scaler, best_params['input_chunk_length'], probabilistic\n",
    "\n",
    "def infer_darts(model,train_exog_df, train_target_series, test_exog_df, test_target_series,exog_scaler,target_scaler, input_size, horizon, probabilistic=False):\n",
    "    \n",
    "    combined_exog_df= pd.concat((train_exog_df,test_exog_df),axis=0)\n",
    "    combined_target_series= pd.concat((train_target_series,test_target_series),axis=0)\n",
    "\n",
    "    preds_list=np.array([])\n",
    "\n",
    "    for i in range(0,12,horizon):\n",
    "        x,y=load_prediction(input_size,combined_exog_df,combined_target_series,exog_scaler,target_scaler,test_target.index[i])\n",
    "        if probabilistic:\n",
    "            pred=target_scaler.inverse_transform(model.predict(n=horizon,series=y,past_covariates=x,verbose=False, num_samples=1000)).values().flatten()\n",
    "        else:\n",
    "            pred=target_scaler.inverse_transform(model.predict(n=horizon,series=y,past_covariates=x,verbose=False)).values().flatten()\n",
    "\n",
    "        print(test_target.index[i:i+horizon])\n",
    "        print(pred)\n",
    "        preds_list= np.append(preds_list,pred)\n",
    "    \n",
    "    return preds_list"
   ]
  },
  {
   "cell_type": "code",
   "execution_count": null,
   "id": "3d3eeabc",
   "metadata": {},
   "outputs": [],
   "source": [
    "def TNC_tune_and_save_horizons(horizons, n_trials, verbose=False, use_existing_params=True):\n",
    "    best_params_path = os.path.join('.', 'bestHyperparameters')\n",
    "    valid_sizes = []\n",
    "    for horizon in horizons:\n",
    "        if verbose: print(f'Optimising for horizon {horizon}...')\n",
    "        existing_params = []\n",
    "        valid_size = horizon+3\n",
    "        invariates = {\n",
    "            'output_chunk_length':horizon,\n",
    "            'optimizer_cls':AdamW\n",
    "        }\n",
    "        valid_sizes.append(valid_size)\n",
    "        cur_hyperparams_f = os.path.join(best_params_path, f'best_params_tcn_horizon_{horizon}.json')\n",
    "        # Assumes TNC search space and adapts depending on horizon\n",
    "        search_space['input_chunk_length'] = (int, 7 if horizon < 7 else horizon+1, 36,{'step':1,'log':False})\n",
    "        if use_existing_params: existing_params = [load_model_hyper_params(cur_hyperparams_f)]\n",
    "        best_params=darts_optuna(TCNModel, 'TCN', search_space, invariates, train_target, train_exog, valid_size, horizon, n_trials=n_trials, patience=5, tol=1e-4,\n",
    "                                 existing_params=existing_params, verbose=verbose)\n",
    "        save_model_hyper_params(cur_hyperparams_f, best_params)\n",
    "    return valid_sizes"
   ]
  },
  {
   "cell_type": "markdown",
   "id": "946ba834",
   "metadata": {},
   "source": [
    "## Horizon = 1"
   ]
  },
  {
   "cell_type": "code",
   "execution_count": null,
   "id": "f3a1997a",
   "metadata": {},
   "outputs": [],
   "source": [
    "valid_sizes = []"
   ]
  },
  {
   "cell_type": "code",
   "execution_count": null,
   "id": "52451fb7",
   "metadata": {},
   "outputs": [],
   "source": [
    "VERBOSE = False"
   ]
  },
  {
   "cell_type": "code",
   "execution_count": null,
   "id": "ed1422f8",
   "metadata": {},
   "outputs": [],
   "source": [
    "best_params_path = os.path.join('.', 'bestHyperparameters')"
   ]
  },
  {
   "cell_type": "code",
   "execution_count": null,
   "id": "df2c2e38",
   "metadata": {},
   "outputs": [],
   "source": [
    "HORIZON=1\n",
    "VALID_SIZE=HORIZON+3\n",
    "invariates= {\n",
    "    'output_chunk_length':HORIZON,\n",
    "    'optimizer_cls':AdamW\n",
    "}\n",
    "valid_sizes.append(VALID_SIZE)\n",
    "cur_hyperparams_f = os.path.join(best_params_path, f'best_params_tcn_horizon_{HORIZON}.json')"
   ]
  },
  {
   "cell_type": "code",
   "execution_count": null,
   "id": "19b75dbf",
   "metadata": {},
   "outputs": [],
   "source": [
    "best_params=darts_optuna(TCNModel, 'TCN', search_space, invariates, train_target, train_exog, VALID_SIZE, HORIZON, n_trials=N_TRIALS, patience=5, tol=1e-4,\n",
    "                         existing_params=[load_model_hyper_params(cur_hyperparams_f)], verbose=True)\n",
    "save_model_hyper_params(cur_hyperparams_f, best_params)"
   ]
  },
  {
   "cell_type": "markdown",
   "id": "ef65fc19",
   "metadata": {},
   "source": [
    "### Horizon = 3"
   ]
  },
  {
   "cell_type": "code",
   "execution_count": null,
   "id": "9c05dedd",
   "metadata": {},
   "outputs": [],
   "source": [
    "HORIZON=3\n",
    "VALID_SIZE=HORIZON+3\n",
    "invariates= {\n",
    "    'output_chunk_length':HORIZON,\n",
    "    'optimizer_cls':AdamW\n",
    "}\n",
    "valid_sizes.append(VALID_SIZE)\n",
    "cur_hyperparams_f = os.path.join(best_params_path, f'best_params_tcn_horizon_{HORIZON}.json')"
   ]
  },
  {
   "cell_type": "code",
   "execution_count": null,
   "id": "6721075a",
   "metadata": {},
   "outputs": [],
   "source": [
    "best_params=darts_optuna(TCNModel, 'TCN', search_space, invariates, train_target, train_exog, VALID_SIZE, HORIZON, n_trials=N_TRIALS, patience=5, tol=1e-4,\n",
    "                         existing_params=[load_model_hyper_params(cur_hyperparams_f)], verbose=True)\n",
    "save_model_hyper_params(cur_hyperparams_f, best_params)"
   ]
  },
  {
   "cell_type": "markdown",
   "id": "960adbf8",
   "metadata": {},
   "source": [
    "### Biannual Horizon"
   ]
  },
  {
   "cell_type": "code",
   "execution_count": null,
   "id": "4db91d4f",
   "metadata": {},
   "outputs": [],
   "source": [
    "HORIZON=6\n",
    "VALID_SIZE=HORIZON+3\n",
    "invariates= {\n",
    "    'output_chunk_length':HORIZON,\n",
    "    'optimizer_cls':AdamW\n",
    "}\n",
    "valid_sizes.append(VALID_SIZE)\n",
    "cur_hyperparams_f = os.path.join(best_params_path, f'best_params_tcn_horizon_{HORIZON}.json')"
   ]
  },
  {
   "cell_type": "code",
   "execution_count": null,
   "id": "53dc8d51",
   "metadata": {},
   "outputs": [],
   "source": [
    "best_params=darts_optuna(TCNModel, 'TCN', search_space, invariates, train_target, train_exog, VALID_SIZE, HORIZON, n_trials=N_TRIALS, patience=5, tol=1e-4,\n",
    "                         existing_params=[load_model_hyper_params(cur_hyperparams_f)], verbose=True)\n",
    "save_model_hyper_params(cur_hyperparams_f, best_params)"
   ]
  },
  {
   "cell_type": "markdown",
   "id": "d087e50b",
   "metadata": {},
   "source": [
    "### Annual Horizon"
   ]
  },
  {
   "cell_type": "code",
   "execution_count": null,
   "id": "9071ed22",
   "metadata": {},
   "outputs": [],
   "source": [
    "HORIZON=6\n",
    "VALID_SIZE=HORIZON+3\n",
    "invariates= {\n",
    "    'output_chunk_length':HORIZON,\n",
    "    'optimizer_cls':AdamW\n",
    "}\n",
    "search_space['input_chunk_length'] = (int, 7 if HORIZON < 7 else HORIZON+1, 36,{'step':1,'log':False})\n",
    "valid_sizes.append(VALID_SIZE)\n",
    "cur_hyperparams_f = os.path.join(best_params_path, f'best_params_tcn_horizon_{HORIZON}.json')"
   ]
  },
  {
   "cell_type": "code",
   "execution_count": null,
   "id": "e037e58c",
   "metadata": {},
   "outputs": [],
   "source": [
    "best_params=darts_optuna(TCNModel, 'TCN', search_space, invariates, train_target, train_exog, VALID_SIZE, HORIZON, n_trials=N_TRIALS, patience=5, tol=1e-4,\n",
    "                         existing_params=[load_model_hyper_params(cur_hyperparams_f)], verbose=True)\n",
    "save_model_hyper_params(cur_hyperparams_f, best_params)"
   ]
  },
  {
   "cell_type": "markdown",
   "id": "7069d78c",
   "metadata": {},
   "source": [
    "### All Horizons (skip to here to train all at once)"
   ]
  },
  {
   "cell_type": "code",
   "execution_count": null,
   "id": "8e650459",
   "metadata": {},
   "outputs": [],
   "source": [
    "# Can find best hyperparameters for all horizons using this line\n",
    "valid_sizes = valid_sizes + TNC_tune_and_save_horizons(HORIZONS, N_TRIALS, verbose=True, use_existing_params=True)"
   ]
  },
  {
   "cell_type": "markdown",
   "id": "c9dd8836",
   "metadata": {},
   "source": [
    "### Train Horizons with Best Hyperparameters and Make Predictions"
   ]
  },
  {
   "cell_type": "code",
   "execution_count": null,
   "id": "ce8e272e",
   "metadata": {},
   "outputs": [],
   "source": [
    "# For initialising validation sizes if haven't optimised in the same runtime as making predictions\n",
    "#valid_sizes = [horizon+3 for horizon in HORIZONS]"
   ]
  },
  {
   "cell_type": "code",
   "execution_count": null,
   "id": "4ca3691c",
   "metadata": {},
   "outputs": [],
   "source": [
    "preds_root = os.path.join('..', '..', 'Predictions')"
   ]
  },
  {
   "cell_type": "code",
   "execution_count": null,
   "id": "01f40adf",
   "metadata": {},
   "outputs": [],
   "source": [
    "for i, horizon in enumerate(HORIZONS):\n",
    "    cur_model, target_scaler, exog_scaler, input_size, probabilistic = train_TCN(os.path.join(best_params_path, f'best_params_tcn_horizon_{horizon}.json'),\n",
    "                                                                                 valid_size=valid_sizes[i], horizon=horizon, train_exog=train_exog, train_target=train_target,\n",
    "                                                                                 verbose=True)\n",
    "    preds = infer_darts(cur_model, train_exog, train_target,\n",
    "                        test_exog, test_target, exog_scaler=exog_scaler,\n",
    "                        target_scaler=target_scaler, input_size=input_size,\n",
    "                        horizon=horizon, probabilistic=probabilistic)\n",
    "\n",
    "    np.save(os.path.join(preds_root, f'Horizon{horizon}', f'TCN_horizon_{horizon}.npy'), preds)"
   ]
  }
 ],
 "metadata": {
  "kernelspec": {
   "display_name": ".venv",
   "language": "python",
   "name": "python3"
  },
  "language_info": {
   "codemirror_mode": {
    "name": "ipython",
    "version": 3
   },
   "file_extension": ".py",
   "mimetype": "text/x-python",
   "name": "python",
   "nbconvert_exporter": "python",
   "pygments_lexer": "ipython3",
   "version": "3.12.10"
  }
 },
 "nbformat": 4,
 "nbformat_minor": 5
}
