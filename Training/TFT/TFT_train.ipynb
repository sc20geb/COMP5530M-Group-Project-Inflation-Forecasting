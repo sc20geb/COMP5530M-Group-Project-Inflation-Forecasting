{
 "cells": [
  {
   "cell_type": "code",
   "execution_count": null,
   "id": "d89eeda6",
   "metadata": {},
   "outputs": [],
   "source": [
    "import pandas as pd\n",
    "from darts import TimeSeries\n",
    "from darts.models import TFTModel\n",
    "from darts.dataprocessing.transformers import Scaler\n",
    "from pytorch_lightning.callbacks.early_stopping import EarlyStopping\n",
    "from darts.utils.likelihood_models import QuantileRegression\n",
    "import sys\n",
    "import json\n",
    "sys.path.append('../Helper/')\n",
    "from dataPreprocessing import get_untransformed_exog, TRAIN_DATA_PATH_1990S\n",
    "from PyTorchModular import darts_optuna,save_model_hyper_params, train_valid_split_darts, load_prediction\n",
    "from torch.nn import MSELoss\n",
    "from torch.optim import AdamW"
   ]
  },
  {
   "cell_type": "code",
   "execution_count": null,
   "id": "c5c27ca5",
   "metadata": {},
   "outputs": [],
   "source": [
    "\n",
    "data = pd.read_csv(TRAIN_DATA_PATH_1990S)\n",
    "data= get_untransformed_exog(data)\n",
    "\n",
    "df= data.copy()\n",
    "df['observation_date'] = pd.to_datetime(df['observation_date'], format='%m/%Y')\n",
    "df.set_index('observation_date', inplace=True)\n",
    "df_exog= df.drop('fred_PCEPI',axis=1)"
   ]
  },
  {
   "cell_type": "code",
   "execution_count": null,
   "id": "bd554d35",
   "metadata": {},
   "outputs": [],
   "source": [
    "VALID_SIZE=3\n",
    "HORIZON=1"
   ]
  },
  {
   "cell_type": "code",
   "execution_count": null,
   "id": "7d8b98e3",
   "metadata": {},
   "outputs": [],
   "source": [
    "search_space = {\n",
    "    'input_chunk_length': (int, 1, 36,{'step':1,'log':False}),\n",
    "    'lstm_layers': (int, 1, 32,{'step':1,'log':False}),\n",
    "    'num_attention_heads': (int, 1, 4,{'step':1,'log':False}),\n",
    "    'hidden_size': (int, 1, 32,{'step':1,'log':False}),\n",
    "    'dropout': (float, 0., 0.5,{'step':0.1,'log':False}),\n",
    "    'optimizer_kwargs': {\"lr\": (float, 1e-5, 1e-1,{'step':None,'log':True})},\n",
    "    'loss_fn':('categorical',[\"QuantileRegression\", \"MSE\"])\n",
    "}\n",
    "\n",
    "invariates= {\n",
    "    'output_chunk_length':HORIZON,\n",
    "    'optimizer_cls':AdamW,\n",
    "    'add_encoders':{\n",
    "        \"cyclic\": {\"future\": [\"month\", \"quarter\"]}\n",
    "        }\n",
    "}\n",
    "\n",
    "best_params=darts_optuna(TFTModel,'TFT',search_space,invariates,df['fred_PCEPI'].copy(),df_exog.copy(),VALID_SIZE,HORIZON,n_trials=2,patience=5,tol=1e-4,verbose=True)\n",
    "save_model_hyper_params('best_params_tft.json',best_params)"
   ]
  },
  {
   "cell_type": "code",
   "execution_count": null,
   "id": "de559a16",
   "metadata": {},
   "outputs": [],
   "source": [
    "with open('best_params_tft.json','r') as f:\n",
    "    loaded_params= json.load(f)\n",
    "\n",
    "INPUT_SIZE= loaded_params['input_chunk_length']\n",
    "PROBABILISTIC= True if loaded_params['loss_fn'] ==\"QuantileRegression\" else False\n",
    "\n",
    "if 'loss_fn' in loaded_params.keys():\n",
    "    if loaded_params['loss_fn']=='MSE':\n",
    "        loaded_params['loss_fn']=MSELoss()\n",
    "        loaded_params['likelihood']=None\n",
    "    else:\n",
    "        loaded_params['loss_fn']=None\n",
    "        loaded_params['likelihood']=QuantileRegression((0.25,0.5,0.75))\n",
    "loaded_params.update(invariates)\n",
    "\n",
    "loaded_params['optimizer_kwargs']={\"lr\":loaded_params[\"lr\"]}\n",
    "del loaded_params[\"lr\"]\n",
    "\n",
    "print(loaded_params)\n",
    "\n",
    "early_stopper = EarlyStopping(\n",
    "    monitor=\"val_loss\",\n",
    "    patience=25,\n",
    "    min_delta=1e-5,\n",
    "    mode='min',\n",
    ")\n",
    "\n",
    "loaded_params[\"pl_trainer_kwargs\"]={\n",
    "            \"accelerator\": 'auto',\n",
    "            \"callbacks\": [early_stopper]\n",
    "        }"
   ]
  },
  {
   "cell_type": "code",
   "execution_count": null,
   "id": "870f905f",
   "metadata": {},
   "outputs": [],
   "source": [
    "target_scaler= Scaler()\n",
    "exog_scaler=Scaler()\n",
    "train_target, valid_target, train_exog, valid_exog=train_valid_split_darts(df_exog.copy(),df['fred_PCEPI'].copy(),VALID_SIZE,INPUT_SIZE)\n",
    "\n",
    "train_target= target_scaler.fit_transform(train_target)\n",
    "train_exog= exog_scaler.fit_transform(train_exog)\n",
    "\n",
    "valid_target= target_scaler.transform(valid_target)\n",
    "valid_exog= exog_scaler.transform(valid_exog)\n",
    "\n",
    "model = TFTModel(**loaded_params)\n",
    "\n",
    "model.fit(train_target,\n",
    "          past_covariates=train_exog,\n",
    "          val_series=valid_target,\n",
    "          val_past_covariates=valid_exog,\n",
    "          epochs=10000)"
   ]
  },
  {
   "cell_type": "code",
   "execution_count": null,
   "id": "b036edfb",
   "metadata": {},
   "outputs": [],
   "source": [
    "# def darts_predict(model:object,input_size,horizon, train_target:pd.Series,train_exog_df:pd.DataFrame, test_target:pd.Series,\n",
    "#                   test_exog_df:pd.DataFrame, exog_scaler, target_scaler, probabilistic=False):\n",
    "\n",
    "#     test_dates= test_target.index.copy()\n",
    "\n",
    "#     combined_target_df= pd.concat(train_target,test_target)\n",
    "#     combined_exog_df= pd.concat(train_exog_df,test_exog_df)\n",
    "\n",
    "#     preds_arr=[]\n",
    "#     for test_date in test_dates:\n",
    "        \n",
    "#         x,y= load_prediction(input_size, combined_exog_df, combined_target_df, exog_scaler, target_scaler, test_date)\n",
    "\n",
    "#         if probabilistic:\n",
    "#             y_preds= model.predict(n=horizon,series=y,past_covariates=x,num_samples=100).values()\n",
    "#         else:\n",
    "#             y_preds= model.predict(n=horizon,series=y,past_covariates=x).values()\n",
    "        \n",
    "#         preds_arr.append(y_preds)\n",
    "\n",
    "# # darts_predict(model,)"
   ]
  }
 ],
 "metadata": {
  "kernelspec": {
   "display_name": ".venv",
   "language": "python",
   "name": "python3"
  },
  "language_info": {
   "codemirror_mode": {
    "name": "ipython",
    "version": 3
   },
   "file_extension": ".py",
   "mimetype": "text/x-python",
   "name": "python",
   "nbconvert_exporter": "python",
   "pygments_lexer": "ipython3",
   "version": "3.12.2"
  }
 },
 "nbformat": 4,
 "nbformat_minor": 5
}
