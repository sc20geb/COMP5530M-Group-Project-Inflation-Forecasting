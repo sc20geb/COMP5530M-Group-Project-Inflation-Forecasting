{
 "cells": [
  {
   "cell_type": "markdown",
   "metadata": {},
   "source": [
    "# TFT\n",
    "https://arxiv.org/abs/1912.09363"
   ]
  },
  {
   "cell_type": "markdown",
   "metadata": {},
   "source": [
    "## Imports:"
   ]
  },
  {
   "cell_type": "code",
   "execution_count": 16,
   "metadata": {},
   "outputs": [],
   "source": [
    "import pandas as pd\n",
    "from darts import TimeSeries\n",
    "from pathlib import Path\n",
    "from darts.models.forecasting.tft_model import TFTModel\n",
    "from darts.utils.model_selection import train_test_split\n",
    "import sys\n",
    "from sklearn.preprocessing import StandardScaler\n",
    "sys.path.append('../Helper/')\n",
    "from dataPreprocessing import add_time_features, rank_features_ccf, get_untransformed_exog\n",
    "from darts.dataprocessing.transformers import Scaler\n",
    "from torch.nn import MSELoss\n",
    "from pytorch_lightning.callbacks import EarlyStopping, ModelCheckpoint\n",
    "from torchmetrics import MeanSquaredError"
   ]
  },
  {
   "cell_type": "markdown",
   "metadata": {},
   "source": [
    "# Data Preprocessing:"
   ]
  },
  {
   "cell_type": "code",
   "execution_count": 2,
   "metadata": {},
   "outputs": [
    {
     "name": "stderr",
     "output_type": "stream",
     "text": [
      "C:\\Users\\kevin\\AppData\\Local\\Temp\\ipykernel_6424\\571883820.py:2: UserWarning: Could not infer format, so each element will be parsed individually, falling back to `dateutil`. To ensure parsing is consistent and as-expected, please specify a format.\n",
      "  data= pd.read_csv(cwd.parent.parent / 'Data' /'Train'/'train1990s.csv',parse_dates=[0])\n",
      "C:\\Users\\kevin\\AppData\\Local\\Temp\\ipykernel_6424\\571883820.py:6: SettingWithCopyWarning: \n",
      "A value is trying to be set on a copy of a slice from a DataFrame.\n",
      "Try using .loc[row_indexer,col_indexer] = value instead\n",
      "\n",
      "See the caveats in the documentation: https://pandas.pydata.org/pandas-docs/stable/user_guide/indexing.html#returning-a-view-versus-a-copy\n",
      "  data_ranked['observation_date']= data['observation_date']\n",
      "C:\\Users\\kevin\\AppData\\Local\\Temp\\ipykernel_6424\\571883820.py:7: SettingWithCopyWarning: \n",
      "A value is trying to be set on a copy of a slice from a DataFrame.\n",
      "Try using .loc[row_indexer,col_indexer] = value instead\n",
      "\n",
      "See the caveats in the documentation: https://pandas.pydata.org/pandas-docs/stable/user_guide/indexing.html#returning-a-view-versus-a-copy\n",
      "  data_ranked['fred_PCEPI']= data['fred_PCEPI']\n",
      "h:\\My Drive\\UniversityOfLeeds\\CS\\Year4\\GroupProject\\repo\\COMP5530M-Group-Project-Inflation-Forecasting\\Training\\TFT\\../Helper\\dataPreprocessing.py:139: SettingWithCopyWarning: \n",
      "A value is trying to be set on a copy of a slice from a DataFrame.\n",
      "Try using .loc[row_indexer,col_indexer] = value instead\n",
      "\n",
      "See the caveats in the documentation: https://pandas.pydata.org/pandas-docs/stable/user_guide/indexing.html#returning-a-view-versus-a-copy\n",
      "  df[\"year\"] = df[date_col].dt.year\n",
      "h:\\My Drive\\UniversityOfLeeds\\CS\\Year4\\GroupProject\\repo\\COMP5530M-Group-Project-Inflation-Forecasting\\Training\\TFT\\../Helper\\dataPreprocessing.py:140: SettingWithCopyWarning: \n",
      "A value is trying to be set on a copy of a slice from a DataFrame.\n",
      "Try using .loc[row_indexer,col_indexer] = value instead\n",
      "\n",
      "See the caveats in the documentation: https://pandas.pydata.org/pandas-docs/stable/user_guide/indexing.html#returning-a-view-versus-a-copy\n",
      "  df[\"month\"] = df[date_col].dt.month\n",
      "h:\\My Drive\\UniversityOfLeeds\\CS\\Year4\\GroupProject\\repo\\COMP5530M-Group-Project-Inflation-Forecasting\\Training\\TFT\\../Helper\\dataPreprocessing.py:141: SettingWithCopyWarning: \n",
      "A value is trying to be set on a copy of a slice from a DataFrame.\n",
      "Try using .loc[row_indexer,col_indexer] = value instead\n",
      "\n",
      "See the caveats in the documentation: https://pandas.pydata.org/pandas-docs/stable/user_guide/indexing.html#returning-a-view-versus-a-copy\n",
      "  df[\"quarter\"] = df[date_col].dt.quarter\n",
      "2025-03-31 14:49:09,075 - INFO - Added time features: year, month, quarter. DataFrame shape: (408, 10)\n"
     ]
    },
    {
     "data": {
      "text/html": [
       "<div>\n",
       "<style scoped>\n",
       "    .dataframe tbody tr th:only-of-type {\n",
       "        vertical-align: middle;\n",
       "    }\n",
       "\n",
       "    .dataframe tbody tr th {\n",
       "        vertical-align: top;\n",
       "    }\n",
       "\n",
       "    .dataframe thead th {\n",
       "        text-align: right;\n",
       "    }\n",
       "</style>\n",
       "<table border=\"1\" class=\"dataframe\">\n",
       "  <thead>\n",
       "    <tr style=\"text-align: right;\">\n",
       "      <th></th>\n",
       "      <th>fred_PCUOMFGOMFG</th>\n",
       "      <th>fred_PPIACO</th>\n",
       "      <th>fred_APU000074714</th>\n",
       "      <th>BrentOil_Open</th>\n",
       "      <th>CrudeOilWTI_Open</th>\n",
       "      <th>observation_date</th>\n",
       "      <th>fred_PCEPI</th>\n",
       "      <th>year</th>\n",
       "      <th>month</th>\n",
       "      <th>quarter</th>\n",
       "    </tr>\n",
       "  </thead>\n",
       "  <tbody>\n",
       "    <tr>\n",
       "      <th>0</th>\n",
       "      <td>112.700</td>\n",
       "      <td>114.900</td>\n",
       "      <td>1.042</td>\n",
       "      <td>20.20</td>\n",
       "      <td>21.81</td>\n",
       "      <td>1990-01-01</td>\n",
       "      <td>58.553</td>\n",
       "      <td>1990</td>\n",
       "      <td>1</td>\n",
       "      <td>1</td>\n",
       "    </tr>\n",
       "    <tr>\n",
       "      <th>1</th>\n",
       "      <td>112.200</td>\n",
       "      <td>114.400</td>\n",
       "      <td>1.037</td>\n",
       "      <td>19.90</td>\n",
       "      <td>22.61</td>\n",
       "      <td>1990-02-01</td>\n",
       "      <td>58.811</td>\n",
       "      <td>1990</td>\n",
       "      <td>2</td>\n",
       "      <td>1</td>\n",
       "    </tr>\n",
       "    <tr>\n",
       "      <th>2</th>\n",
       "      <td>112.300</td>\n",
       "      <td>114.200</td>\n",
       "      <td>1.023</td>\n",
       "      <td>19.48</td>\n",
       "      <td>21.73</td>\n",
       "      <td>1990-03-01</td>\n",
       "      <td>59.033</td>\n",
       "      <td>1990</td>\n",
       "      <td>3</td>\n",
       "      <td>1</td>\n",
       "    </tr>\n",
       "    <tr>\n",
       "      <th>3</th>\n",
       "      <td>112.600</td>\n",
       "      <td>114.100</td>\n",
       "      <td>1.044</td>\n",
       "      <td>18.49</td>\n",
       "      <td>20.20</td>\n",
       "      <td>1990-04-01</td>\n",
       "      <td>59.157</td>\n",
       "      <td>1990</td>\n",
       "      <td>4</td>\n",
       "      <td>2</td>\n",
       "    </tr>\n",
       "    <tr>\n",
       "      <th>4</th>\n",
       "      <td>113.100</td>\n",
       "      <td>114.600</td>\n",
       "      <td>1.061</td>\n",
       "      <td>17.20</td>\n",
       "      <td>18.46</td>\n",
       "      <td>1990-05-01</td>\n",
       "      <td>59.290</td>\n",
       "      <td>1990</td>\n",
       "      <td>5</td>\n",
       "      <td>2</td>\n",
       "    </tr>\n",
       "    <tr>\n",
       "      <th>...</th>\n",
       "      <td>...</td>\n",
       "      <td>...</td>\n",
       "      <td>...</td>\n",
       "      <td>...</td>\n",
       "      <td>...</td>\n",
       "      <td>...</td>\n",
       "      <td>...</td>\n",
       "      <td>...</td>\n",
       "      <td>...</td>\n",
       "      <td>...</td>\n",
       "    </tr>\n",
       "    <tr>\n",
       "      <th>403</th>\n",
       "      <td>251.093</td>\n",
       "      <td>257.680</td>\n",
       "      <td>3.955</td>\n",
       "      <td>84.78</td>\n",
       "      <td>81.64</td>\n",
       "      <td>2023-08-01</td>\n",
       "      <td>120.965</td>\n",
       "      <td>2023</td>\n",
       "      <td>8</td>\n",
       "      <td>3</td>\n",
       "    </tr>\n",
       "    <tr>\n",
       "      <th>404</th>\n",
       "      <td>252.368</td>\n",
       "      <td>258.934</td>\n",
       "      <td>3.988</td>\n",
       "      <td>86.22</td>\n",
       "      <td>83.63</td>\n",
       "      <td>2023-09-01</td>\n",
       "      <td>121.387</td>\n",
       "      <td>2023</td>\n",
       "      <td>9</td>\n",
       "      <td>3</td>\n",
       "    </tr>\n",
       "    <tr>\n",
       "      <th>405</th>\n",
       "      <td>249.119</td>\n",
       "      <td>255.192</td>\n",
       "      <td>3.782</td>\n",
       "      <td>90.48</td>\n",
       "      <td>90.88</td>\n",
       "      <td>2023-10-01</td>\n",
       "      <td>121.421</td>\n",
       "      <td>2023</td>\n",
       "      <td>10</td>\n",
       "      <td>4</td>\n",
       "    </tr>\n",
       "    <tr>\n",
       "      <th>406</th>\n",
       "      <td>246.497</td>\n",
       "      <td>252.856</td>\n",
       "      <td>3.500</td>\n",
       "      <td>84.78</td>\n",
       "      <td>81.31</td>\n",
       "      <td>2023-11-01</td>\n",
       "      <td>121.415</td>\n",
       "      <td>2023</td>\n",
       "      <td>11</td>\n",
       "      <td>4</td>\n",
       "    </tr>\n",
       "    <tr>\n",
       "      <th>407</th>\n",
       "      <td>243.266</td>\n",
       "      <td>249.866</td>\n",
       "      <td>3.289</td>\n",
       "      <td>80.67</td>\n",
       "      <td>75.59</td>\n",
       "      <td>2023-12-01</td>\n",
       "      <td>121.602</td>\n",
       "      <td>2023</td>\n",
       "      <td>12</td>\n",
       "      <td>4</td>\n",
       "    </tr>\n",
       "  </tbody>\n",
       "</table>\n",
       "<p>408 rows × 10 columns</p>\n",
       "</div>"
      ],
      "text/plain": [
       "     fred_PCUOMFGOMFG  fred_PPIACO  fred_APU000074714  BrentOil_Open  \\\n",
       "0             112.700      114.900              1.042          20.20   \n",
       "1             112.200      114.400              1.037          19.90   \n",
       "2             112.300      114.200              1.023          19.48   \n",
       "3             112.600      114.100              1.044          18.49   \n",
       "4             113.100      114.600              1.061          17.20   \n",
       "..                ...          ...                ...            ...   \n",
       "403           251.093      257.680              3.955          84.78   \n",
       "404           252.368      258.934              3.988          86.22   \n",
       "405           249.119      255.192              3.782          90.48   \n",
       "406           246.497      252.856              3.500          84.78   \n",
       "407           243.266      249.866              3.289          80.67   \n",
       "\n",
       "     CrudeOilWTI_Open observation_date  fred_PCEPI  year  month  quarter  \n",
       "0               21.81       1990-01-01      58.553  1990      1        1  \n",
       "1               22.61       1990-02-01      58.811  1990      2        1  \n",
       "2               21.73       1990-03-01      59.033  1990      3        1  \n",
       "3               20.20       1990-04-01      59.157  1990      4        2  \n",
       "4               18.46       1990-05-01      59.290  1990      5        2  \n",
       "..                ...              ...         ...   ...    ...      ...  \n",
       "403             81.64       2023-08-01     120.965  2023      8        3  \n",
       "404             83.63       2023-09-01     121.387  2023      9        3  \n",
       "405             90.88       2023-10-01     121.421  2023     10        4  \n",
       "406             81.31       2023-11-01     121.415  2023     11        4  \n",
       "407             75.59       2023-12-01     121.602  2023     12        4  \n",
       "\n",
       "[408 rows x 10 columns]"
      ]
     },
     "metadata": {},
     "output_type": "display_data"
    }
   ],
   "source": [
    "cwd=Path.cwd()\n",
    "data= pd.read_csv(cwd.parent.parent / 'Data' /'Train'/'train1990s.csv',parse_dates=[0])\n",
    "data= get_untransformed_exog(data)\n",
    "ranked_cols= rank_features_ccf(data.drop('observation_date',axis=1))\n",
    "data_ranked= data[ranked_cols[:5]]\n",
    "data_ranked['observation_date']= data['observation_date']\n",
    "data_ranked['fred_PCEPI']= data['fred_PCEPI']\n",
    "add_time_features(data_ranked)\n",
    "display(data_ranked)"
   ]
  },
  {
   "cell_type": "markdown",
   "metadata": {},
   "source": [
    "## Constants:"
   ]
  },
  {
   "cell_type": "code",
   "execution_count": 3,
   "metadata": {},
   "outputs": [],
   "source": [
    "scaler1=Scaler(StandardScaler())\n",
    "scaler2=Scaler(StandardScaler())\n",
    "scaler3=Scaler(StandardScaler())\n",
    "INPUT_SIZE=12\n",
    "HORIZON=12\n",
    "HIDDEN_SIZE=4\n",
    "\n",
    "VALID_SIZE=12"
   ]
  },
  {
   "cell_type": "code",
   "execution_count": 4,
   "metadata": {},
   "outputs": [],
   "source": [
    "def darts_get_inference_set(past_covariates,future_covariates,target, valid_size, input_size, time_col=\"observation_date\", freq= \"MS\"):\n",
    "    X_train_future= TimeSeries.from_dataframe(future_covariates.iloc[:-valid_size,:],time_col=time_col,freq=freq)\n",
    "    X_train_past= TimeSeries.from_dataframe(past_covariates.iloc[:-valid_size,:],time_col=time_col,freq=freq)\n",
    "    y_train= TimeSeries.from_dataframe(target.iloc[:-valid_size,:],time_col=time_col,freq=freq)\n",
    "\n",
    "    X_valid_future= TimeSeries.from_dataframe(future_covariates.iloc[-valid_size-input_size:,:],time_col=time_col,freq=freq)\n",
    "    X_valid_past= TimeSeries.from_dataframe(past_covariates.iloc[-valid_size-input_size:,:],time_col=time_col,freq=freq)\n",
    "    y_valid= TimeSeries.from_dataframe(target.iloc[-valid_size-input_size:,:],time_col=time_col,freq=freq)\n",
    "\n",
    "    return X_train_past, X_valid_past, X_train_future, X_valid_future, y_train, y_valid\n"
   ]
  },
  {
   "cell_type": "markdown",
   "metadata": {},
   "source": [
    "## Create TimeSeries objects:"
   ]
  },
  {
   "cell_type": "code",
   "execution_count": 5,
   "metadata": {},
   "outputs": [],
   "source": [
    "future_covariates= data_ranked[[\"observation_date\",\"year\",\"month\", \"quarter\"]]\n",
    "past_covariates= data_ranked.drop([\"fred_PCEPI\",\"year\",\"month\", \"quarter\"],axis=1)\n",
    "target= data_ranked[[\"observation_date\",\"fred_PCEPI\"]]"
   ]
  },
  {
   "cell_type": "code",
   "execution_count": 6,
   "metadata": {},
   "outputs": [],
   "source": [
    "\n",
    "X_train_past, X_valid_past, X_train_future, X_valid_future, y_train, y_valid=darts_get_inference_set(past_covariates,future_covariates,target, valid_size=VALID_SIZE,input_size=INPUT_SIZE)"
   ]
  },
  {
   "cell_type": "markdown",
   "metadata": {},
   "source": [
    "## Feature Scaling:"
   ]
  },
  {
   "cell_type": "code",
   "execution_count": 7,
   "metadata": {},
   "outputs": [],
   "source": [
    "\n",
    "X_train= scaler1.fit_transform(X_train_past)\n",
    "X_train_future= scaler2.fit_transform(X_train_future)\n",
    "y_train= scaler3.fit_transform(y_train)\n",
    "\n",
    "\n",
    "X_valid=scaler1.transform(X_valid_past)\n",
    "X_valid_future= scaler2.transform(X_valid_future)\n",
    "y_valid=scaler3.transform(y_valid)\n"
   ]
  },
  {
   "cell_type": "markdown",
   "metadata": {},
   "source": [
    "# Training:\n",
    "To optimize:\n",
    "* number of features\n",
    "* hidden_size [1,2,4,8,16,32]\n",
    "* lstm layers [1,2,4]\n",
    "* num_attention_heads [1,2,4,8]\n",
    "* lr [1e-2,1e-3,1e-4,1e-5]\n"
   ]
  },
  {
   "cell_type": "code",
   "execution_count": 8,
   "metadata": {},
   "outputs": [],
   "source": [
    "valid_metric= MeanSquaredError()"
   ]
  },
  {
   "cell_type": "code",
   "execution_count": null,
   "metadata": {},
   "outputs": [],
   "source": [
    "early_stopper = EarlyStopping(\n",
    "    monitor=\"val_MeanSquaredError\",\n",
    "    patience=50,\n",
    "    min_delta=1e-5,\n",
    "    mode='min',\n",
    ")\n",
    "model_checkpoint= ModelCheckpoint('.', 'TFT_best_weights', monitor=\"val_MeanSquaredError\",save_top_k=1, mode=\"min\", save_weights_only=True)"
   ]
  },
  {
   "cell_type": "code",
   "execution_count": null,
   "metadata": {},
   "outputs": [
    {
     "name": "stderr",
     "output_type": "stream",
     "text": [
      "2025-03-31 15:19:50,013 - INFO - Train dataset contains 373 samples.\n",
      "2025-03-31 15:19:50,043 - INFO - Time series values are 64-bits; casting model to float64.\n",
      "GPU available: True (cuda), used: True\n",
      "TPU available: False, using: 0 TPU cores\n",
      "HPU available: False, using: 0 HPUs\n",
      "c:\\Users\\kevin\\AppData\\Local\\Programs\\Python\\Python312\\Lib\\site-packages\\pytorch_lightning\\callbacks\\model_checkpoint.py:654: Checkpoint directory H:\\My Drive\\UniversityOfLeeds\\CS\\Year4\\GroupProject\\repo\\COMP5530M-Group-Project-Inflation-Forecasting\\Training\\TFT exists and is not empty.\n",
      "LOCAL_RANK: 0 - CUDA_VISIBLE_DEVICES: [0]\n",
      "\n",
      "   | Name                              | Type                             | Params | Mode \n",
      "------------------------------------------------------------------------------------------------\n",
      "0  | criterion                         | MSELoss                          | 0      | train\n",
      "1  | train_criterion                   | MSELoss                          | 0      | train\n",
      "2  | val_criterion                     | MSELoss                          | 0      | train\n",
      "3  | train_metrics                     | MetricCollection                 | 0      | train\n",
      "4  | val_metrics                       | MetricCollection                 | 0      | train\n",
      "5  | input_embeddings                  | _MultiEmbedding                  | 0      | train\n",
      "6  | static_covariates_vsn             | _VariableSelectionNetwork        | 0      | train\n",
      "7  | encoder_vsn                       | _VariableSelectionNetwork        | 1.8 K  | train\n",
      "8  | decoder_vsn                       | _VariableSelectionNetwork        | 756    | train\n",
      "9  | static_context_grn                | _GatedResidualNetwork            | 88     | train\n",
      "10 | static_context_hidden_encoder_grn | _GatedResidualNetwork            | 88     | train\n",
      "11 | static_context_cell_encoder_grn   | _GatedResidualNetwork            | 88     | train\n",
      "12 | static_context_enrichment         | _GatedResidualNetwork            | 88     | train\n",
      "13 | lstm_encoder                      | LSTM                             | 160    | train\n",
      "14 | lstm_decoder                      | LSTM                             | 160    | train\n",
      "15 | post_lstm_gan                     | _GateAddNorm                     | 48     | train\n",
      "16 | static_enrichment_grn             | _GatedResidualNetwork            | 104    | train\n",
      "17 | multihead_attn                    | _InterpretableMultiHeadAttention | 49     | train\n",
      "18 | post_attn_gan                     | _GateAddNorm                     | 48     | train\n",
      "19 | feed_forward_block                | _GatedResidualNetwork            | 88     | train\n",
      "20 | pre_output_gan                    | _GateAddNorm                     | 48     | train\n",
      "21 | output_layer                      | Linear                           | 5      | train\n",
      "------------------------------------------------------------------------------------------------\n",
      "3.6 K     Trainable params\n",
      "0         Non-trainable params\n",
      "3.6 K     Total params\n",
      "0.014     Total estimated model params size (MB)\n",
      "354       Modules in train mode\n",
      "0         Modules in eval mode\n"
     ]
    },
    {
     "data": {
      "application/vnd.jupyter.widget-view+json": {
       "model_id": "bf154557382847e38877974ac32bb55b",
       "version_major": 2,
       "version_minor": 0
      },
      "text/plain": [
       "Sanity Checking: |          | 0/? [00:00<?, ?it/s]"
      ]
     },
     "metadata": {},
     "output_type": "display_data"
    },
    {
     "name": "stderr",
     "output_type": "stream",
     "text": [
      "c:\\Users\\kevin\\AppData\\Local\\Programs\\Python\\Python312\\Lib\\site-packages\\pytorch_lightning\\core\\module.py:512: You called `self.log('val_MeanSquaredError', ..., logger=True)` but have no logger configured. You can enable one by doing `Trainer(logger=ALogger(...))`\n"
     ]
    },
    {
     "data": {
      "application/vnd.jupyter.widget-view+json": {
       "model_id": "673ef55d5b4c4d238cc4c5e7567f6792",
       "version_major": 2,
       "version_minor": 0
      },
      "text/plain": [
       "Training: |          | 0/? [00:00<?, ?it/s]"
      ]
     },
     "metadata": {},
     "output_type": "display_data"
    },
    {
     "data": {
      "application/vnd.jupyter.widget-view+json": {
       "model_id": "a2f18a348e5b42218aa3eba4a72daa27",
       "version_major": 2,
       "version_minor": 0
      },
      "text/plain": [
       "Validation: |          | 0/? [00:00<?, ?it/s]"
      ]
     },
     "metadata": {},
     "output_type": "display_data"
    },
    {
     "name": "stderr",
     "output_type": "stream",
     "text": [
      "c:\\Users\\kevin\\AppData\\Local\\Programs\\Python\\Python312\\Lib\\site-packages\\pytorch_lightning\\core\\module.py:512: You called `self.log('train_MeanSquaredError', ..., logger=True)` but have no logger configured. You can enable one by doing `Trainer(logger=ALogger(...))`\n"
     ]
    },
    {
     "data": {
      "application/vnd.jupyter.widget-view+json": {
       "model_id": "b7acabe376524fd8b2d7734f32709c80",
       "version_major": 2,
       "version_minor": 0
      },
      "text/plain": [
       "Validation: |          | 0/? [00:00<?, ?it/s]"
      ]
     },
     "metadata": {},
     "output_type": "display_data"
    },
    {
     "data": {
      "application/vnd.jupyter.widget-view+json": {
       "model_id": "0d08dd761c00449ba404acf3095504a3",
       "version_major": 2,
       "version_minor": 0
      },
      "text/plain": [
       "Validation: |          | 0/? [00:00<?, ?it/s]"
      ]
     },
     "metadata": {},
     "output_type": "display_data"
    },
    {
     "data": {
      "application/vnd.jupyter.widget-view+json": {
       "model_id": "f6089b3a2a564006884590541b2debe7",
       "version_major": 2,
       "version_minor": 0
      },
      "text/plain": [
       "Validation: |          | 0/? [00:00<?, ?it/s]"
      ]
     },
     "metadata": {},
     "output_type": "display_data"
    },
    {
     "data": {
      "application/vnd.jupyter.widget-view+json": {
       "model_id": "2671418a67754428ba2589962f9bf2a2",
       "version_major": 2,
       "version_minor": 0
      },
      "text/plain": [
       "Validation: |          | 0/? [00:00<?, ?it/s]"
      ]
     },
     "metadata": {},
     "output_type": "display_data"
    },
    {
     "data": {
      "application/vnd.jupyter.widget-view+json": {
       "model_id": "ef8d05dcd3ee4ba98d554b220def171d",
       "version_major": 2,
       "version_minor": 0
      },
      "text/plain": [
       "Validation: |          | 0/? [00:00<?, ?it/s]"
      ]
     },
     "metadata": {},
     "output_type": "display_data"
    },
    {
     "data": {
      "application/vnd.jupyter.widget-view+json": {
       "model_id": "d8a09469dc3e4001b5157fdae6c3972e",
       "version_major": 2,
       "version_minor": 0
      },
      "text/plain": [
       "Validation: |          | 0/? [00:00<?, ?it/s]"
      ]
     },
     "metadata": {},
     "output_type": "display_data"
    },
    {
     "data": {
      "application/vnd.jupyter.widget-view+json": {
       "model_id": "a1b5b408e85441cb93910684332fcb8b",
       "version_major": 2,
       "version_minor": 0
      },
      "text/plain": [
       "Validation: |          | 0/? [00:00<?, ?it/s]"
      ]
     },
     "metadata": {},
     "output_type": "display_data"
    },
    {
     "data": {
      "application/vnd.jupyter.widget-view+json": {
       "model_id": "ac06c10a1aaa4c33ae5eba70ff77eedc",
       "version_major": 2,
       "version_minor": 0
      },
      "text/plain": [
       "Validation: |          | 0/? [00:00<?, ?it/s]"
      ]
     },
     "metadata": {},
     "output_type": "display_data"
    },
    {
     "data": {
      "application/vnd.jupyter.widget-view+json": {
       "model_id": "3e74c45657a34bafb28c1179133a4f78",
       "version_major": 2,
       "version_minor": 0
      },
      "text/plain": [
       "Validation: |          | 0/? [00:00<?, ?it/s]"
      ]
     },
     "metadata": {},
     "output_type": "display_data"
    },
    {
     "data": {
      "application/vnd.jupyter.widget-view+json": {
       "model_id": "d285937d61104c36aa5a2615dbe396aa",
       "version_major": 2,
       "version_minor": 0
      },
      "text/plain": [
       "Validation: |          | 0/? [00:00<?, ?it/s]"
      ]
     },
     "metadata": {},
     "output_type": "display_data"
    },
    {
     "data": {
      "application/vnd.jupyter.widget-view+json": {
       "model_id": "86589c63dcfa473c8bf988904cd750f8",
       "version_major": 2,
       "version_minor": 0
      },
      "text/plain": [
       "Validation: |          | 0/? [00:00<?, ?it/s]"
      ]
     },
     "metadata": {},
     "output_type": "display_data"
    },
    {
     "data": {
      "application/vnd.jupyter.widget-view+json": {
       "model_id": "9a04619a50414d31afb327698aa03ba9",
       "version_major": 2,
       "version_minor": 0
      },
      "text/plain": [
       "Validation: |          | 0/? [00:00<?, ?it/s]"
      ]
     },
     "metadata": {},
     "output_type": "display_data"
    },
    {
     "data": {
      "application/vnd.jupyter.widget-view+json": {
       "model_id": "dda56becbdec41b981a309f29fbe7cad",
       "version_major": 2,
       "version_minor": 0
      },
      "text/plain": [
       "Validation: |          | 0/? [00:00<?, ?it/s]"
      ]
     },
     "metadata": {},
     "output_type": "display_data"
    },
    {
     "data": {
      "application/vnd.jupyter.widget-view+json": {
       "model_id": "ee57aa9cc7614255a79a7b6d287240ce",
       "version_major": 2,
       "version_minor": 0
      },
      "text/plain": [
       "Validation: |          | 0/? [00:00<?, ?it/s]"
      ]
     },
     "metadata": {},
     "output_type": "display_data"
    },
    {
     "data": {
      "application/vnd.jupyter.widget-view+json": {
       "model_id": "809f997035cf4b7598f22645baa14433",
       "version_major": 2,
       "version_minor": 0
      },
      "text/plain": [
       "Validation: |          | 0/? [00:00<?, ?it/s]"
      ]
     },
     "metadata": {},
     "output_type": "display_data"
    },
    {
     "data": {
      "application/vnd.jupyter.widget-view+json": {
       "model_id": "b35490780e6a4680bbd42d079d588d13",
       "version_major": 2,
       "version_minor": 0
      },
      "text/plain": [
       "Validation: |          | 0/? [00:00<?, ?it/s]"
      ]
     },
     "metadata": {},
     "output_type": "display_data"
    },
    {
     "data": {
      "application/vnd.jupyter.widget-view+json": {
       "model_id": "40e3c05c3a2c4df4bfe7816fe304e023",
       "version_major": 2,
       "version_minor": 0
      },
      "text/plain": [
       "Validation: |          | 0/? [00:00<?, ?it/s]"
      ]
     },
     "metadata": {},
     "output_type": "display_data"
    },
    {
     "data": {
      "application/vnd.jupyter.widget-view+json": {
       "model_id": "f228e6937c5b43329b1c526cad27e423",
       "version_major": 2,
       "version_minor": 0
      },
      "text/plain": [
       "Validation: |          | 0/? [00:00<?, ?it/s]"
      ]
     },
     "metadata": {},
     "output_type": "display_data"
    },
    {
     "data": {
      "application/vnd.jupyter.widget-view+json": {
       "model_id": "f9b4b8fbc92f4332b63092800ae921c9",
       "version_major": 2,
       "version_minor": 0
      },
      "text/plain": [
       "Validation: |          | 0/? [00:00<?, ?it/s]"
      ]
     },
     "metadata": {},
     "output_type": "display_data"
    },
    {
     "data": {
      "application/vnd.jupyter.widget-view+json": {
       "model_id": "6ad5ba077d9f4677bf94c96a3f18dc02",
       "version_major": 2,
       "version_minor": 0
      },
      "text/plain": [
       "Validation: |          | 0/? [00:00<?, ?it/s]"
      ]
     },
     "metadata": {},
     "output_type": "display_data"
    },
    {
     "data": {
      "application/vnd.jupyter.widget-view+json": {
       "model_id": "7fabc4eb07c24422a4fbb692e9cf1ac2",
       "version_major": 2,
       "version_minor": 0
      },
      "text/plain": [
       "Validation: |          | 0/? [00:00<?, ?it/s]"
      ]
     },
     "metadata": {},
     "output_type": "display_data"
    },
    {
     "data": {
      "application/vnd.jupyter.widget-view+json": {
       "model_id": "0ae26442e69f4c1391b75f6c99aa31af",
       "version_major": 2,
       "version_minor": 0
      },
      "text/plain": [
       "Validation: |          | 0/? [00:00<?, ?it/s]"
      ]
     },
     "metadata": {},
     "output_type": "display_data"
    },
    {
     "data": {
      "application/vnd.jupyter.widget-view+json": {
       "model_id": "02bb296b879543fe962d1ef11e224145",
       "version_major": 2,
       "version_minor": 0
      },
      "text/plain": [
       "Validation: |          | 0/? [00:00<?, ?it/s]"
      ]
     },
     "metadata": {},
     "output_type": "display_data"
    },
    {
     "data": {
      "application/vnd.jupyter.widget-view+json": {
       "model_id": "b56eb72cd3d44196886cc241fe2e9302",
       "version_major": 2,
       "version_minor": 0
      },
      "text/plain": [
       "Validation: |          | 0/? [00:00<?, ?it/s]"
      ]
     },
     "metadata": {},
     "output_type": "display_data"
    },
    {
     "data": {
      "application/vnd.jupyter.widget-view+json": {
       "model_id": "b136975f537d4421b319592cac3b0731",
       "version_major": 2,
       "version_minor": 0
      },
      "text/plain": [
       "Validation: |          | 0/? [00:00<?, ?it/s]"
      ]
     },
     "metadata": {},
     "output_type": "display_data"
    },
    {
     "data": {
      "application/vnd.jupyter.widget-view+json": {
       "model_id": "bce8cac6087b46278060e99de8655790",
       "version_major": 2,
       "version_minor": 0
      },
      "text/plain": [
       "Validation: |          | 0/? [00:00<?, ?it/s]"
      ]
     },
     "metadata": {},
     "output_type": "display_data"
    },
    {
     "data": {
      "application/vnd.jupyter.widget-view+json": {
       "model_id": "9ff9fcb3d30d443cb3869485e4097705",
       "version_major": 2,
       "version_minor": 0
      },
      "text/plain": [
       "Validation: |          | 0/? [00:00<?, ?it/s]"
      ]
     },
     "metadata": {},
     "output_type": "display_data"
    },
    {
     "data": {
      "application/vnd.jupyter.widget-view+json": {
       "model_id": "971339c36d3543858df084cf8f271e35",
       "version_major": 2,
       "version_minor": 0
      },
      "text/plain": [
       "Validation: |          | 0/? [00:00<?, ?it/s]"
      ]
     },
     "metadata": {},
     "output_type": "display_data"
    },
    {
     "data": {
      "application/vnd.jupyter.widget-view+json": {
       "model_id": "58745ef48943428494b158b4dfc1510b",
       "version_major": 2,
       "version_minor": 0
      },
      "text/plain": [
       "Validation: |          | 0/? [00:00<?, ?it/s]"
      ]
     },
     "metadata": {},
     "output_type": "display_data"
    },
    {
     "data": {
      "application/vnd.jupyter.widget-view+json": {
       "model_id": "73c86d85c9af4c5980f7fb306b0b3dad",
       "version_major": 2,
       "version_minor": 0
      },
      "text/plain": [
       "Validation: |          | 0/? [00:00<?, ?it/s]"
      ]
     },
     "metadata": {},
     "output_type": "display_data"
    },
    {
     "data": {
      "application/vnd.jupyter.widget-view+json": {
       "model_id": "99aed3868efc4ff59e5e1bf1cf4869e5",
       "version_major": 2,
       "version_minor": 0
      },
      "text/plain": [
       "Validation: |          | 0/? [00:00<?, ?it/s]"
      ]
     },
     "metadata": {},
     "output_type": "display_data"
    },
    {
     "data": {
      "application/vnd.jupyter.widget-view+json": {
       "model_id": "886b70f64dc94c078eb9729d6f71af15",
       "version_major": 2,
       "version_minor": 0
      },
      "text/plain": [
       "Validation: |          | 0/? [00:00<?, ?it/s]"
      ]
     },
     "metadata": {},
     "output_type": "display_data"
    },
    {
     "data": {
      "application/vnd.jupyter.widget-view+json": {
       "model_id": "a204d5bef9574766a0750ff38a738614",
       "version_major": 2,
       "version_minor": 0
      },
      "text/plain": [
       "Validation: |          | 0/? [00:00<?, ?it/s]"
      ]
     },
     "metadata": {},
     "output_type": "display_data"
    },
    {
     "data": {
      "application/vnd.jupyter.widget-view+json": {
       "model_id": "3381e915cc1d49b1a617d6bb56cddc1b",
       "version_major": 2,
       "version_minor": 0
      },
      "text/plain": [
       "Validation: |          | 0/? [00:00<?, ?it/s]"
      ]
     },
     "metadata": {},
     "output_type": "display_data"
    },
    {
     "data": {
      "application/vnd.jupyter.widget-view+json": {
       "model_id": "5be32f13bc5140e7b3dd4ec589fdf4ea",
       "version_major": 2,
       "version_minor": 0
      },
      "text/plain": [
       "Validation: |          | 0/? [00:00<?, ?it/s]"
      ]
     },
     "metadata": {},
     "output_type": "display_data"
    },
    {
     "data": {
      "application/vnd.jupyter.widget-view+json": {
       "model_id": "a665bfbec2a6470a93fc411fce605310",
       "version_major": 2,
       "version_minor": 0
      },
      "text/plain": [
       "Validation: |          | 0/? [00:00<?, ?it/s]"
      ]
     },
     "metadata": {},
     "output_type": "display_data"
    },
    {
     "data": {
      "application/vnd.jupyter.widget-view+json": {
       "model_id": "1970e2d7506c41bf9d6ae13023e4acb4",
       "version_major": 2,
       "version_minor": 0
      },
      "text/plain": [
       "Validation: |          | 0/? [00:00<?, ?it/s]"
      ]
     },
     "metadata": {},
     "output_type": "display_data"
    },
    {
     "data": {
      "application/vnd.jupyter.widget-view+json": {
       "model_id": "e2c033a548d244c499c670361ca1545a",
       "version_major": 2,
       "version_minor": 0
      },
      "text/plain": [
       "Validation: |          | 0/? [00:00<?, ?it/s]"
      ]
     },
     "metadata": {},
     "output_type": "display_data"
    },
    {
     "data": {
      "application/vnd.jupyter.widget-view+json": {
       "model_id": "a92db606df344dfbb161924384163249",
       "version_major": 2,
       "version_minor": 0
      },
      "text/plain": [
       "Validation: |          | 0/? [00:00<?, ?it/s]"
      ]
     },
     "metadata": {},
     "output_type": "display_data"
    },
    {
     "data": {
      "application/vnd.jupyter.widget-view+json": {
       "model_id": "a0e05a7f720840fea2cd19564a823f2b",
       "version_major": 2,
       "version_minor": 0
      },
      "text/plain": [
       "Validation: |          | 0/? [00:00<?, ?it/s]"
      ]
     },
     "metadata": {},
     "output_type": "display_data"
    },
    {
     "data": {
      "application/vnd.jupyter.widget-view+json": {
       "model_id": "0c83673b8776411fbec061685799bedf",
       "version_major": 2,
       "version_minor": 0
      },
      "text/plain": [
       "Validation: |          | 0/? [00:00<?, ?it/s]"
      ]
     },
     "metadata": {},
     "output_type": "display_data"
    },
    {
     "data": {
      "application/vnd.jupyter.widget-view+json": {
       "model_id": "9d1251c3246f461988e5d275e3faef54",
       "version_major": 2,
       "version_minor": 0
      },
      "text/plain": [
       "Validation: |          | 0/? [00:00<?, ?it/s]"
      ]
     },
     "metadata": {},
     "output_type": "display_data"
    },
    {
     "data": {
      "application/vnd.jupyter.widget-view+json": {
       "model_id": "b1d0fd13174946698089f28967347ffd",
       "version_major": 2,
       "version_minor": 0
      },
      "text/plain": [
       "Validation: |          | 0/? [00:00<?, ?it/s]"
      ]
     },
     "metadata": {},
     "output_type": "display_data"
    },
    {
     "data": {
      "application/vnd.jupyter.widget-view+json": {
       "model_id": "b2cc46af67e14a27a657f0714f81cfd5",
       "version_major": 2,
       "version_minor": 0
      },
      "text/plain": [
       "Validation: |          | 0/? [00:00<?, ?it/s]"
      ]
     },
     "metadata": {},
     "output_type": "display_data"
    },
    {
     "data": {
      "application/vnd.jupyter.widget-view+json": {
       "model_id": "667164090db847a0af3a4f849e5fb142",
       "version_major": 2,
       "version_minor": 0
      },
      "text/plain": [
       "Validation: |          | 0/? [00:00<?, ?it/s]"
      ]
     },
     "metadata": {},
     "output_type": "display_data"
    },
    {
     "data": {
      "application/vnd.jupyter.widget-view+json": {
       "model_id": "723c08c65baa4ad2853af7725b9daa88",
       "version_major": 2,
       "version_minor": 0
      },
      "text/plain": [
       "Validation: |          | 0/? [00:00<?, ?it/s]"
      ]
     },
     "metadata": {},
     "output_type": "display_data"
    },
    {
     "data": {
      "application/vnd.jupyter.widget-view+json": {
       "model_id": "083bc3d12c154ec39360addb219ce1a7",
       "version_major": 2,
       "version_minor": 0
      },
      "text/plain": [
       "Validation: |          | 0/? [00:00<?, ?it/s]"
      ]
     },
     "metadata": {},
     "output_type": "display_data"
    },
    {
     "data": {
      "application/vnd.jupyter.widget-view+json": {
       "model_id": "548bf66ac1c948529eb1f7cec3d95d4b",
       "version_major": 2,
       "version_minor": 0
      },
      "text/plain": [
       "Validation: |          | 0/? [00:00<?, ?it/s]"
      ]
     },
     "metadata": {},
     "output_type": "display_data"
    },
    {
     "data": {
      "application/vnd.jupyter.widget-view+json": {
       "model_id": "de3c6fa5a3ad439b8dd57763b139d23c",
       "version_major": 2,
       "version_minor": 0
      },
      "text/plain": [
       "Validation: |          | 0/? [00:00<?, ?it/s]"
      ]
     },
     "metadata": {},
     "output_type": "display_data"
    },
    {
     "data": {
      "application/vnd.jupyter.widget-view+json": {
       "model_id": "21ce90ef886c4133a04ae712e498b4f9",
       "version_major": 2,
       "version_minor": 0
      },
      "text/plain": [
       "Validation: |          | 0/? [00:00<?, ?it/s]"
      ]
     },
     "metadata": {},
     "output_type": "display_data"
    },
    {
     "data": {
      "application/vnd.jupyter.widget-view+json": {
       "model_id": "edac116622d64b48be6b2996e6e14b93",
       "version_major": 2,
       "version_minor": 0
      },
      "text/plain": [
       "Validation: |          | 0/? [00:00<?, ?it/s]"
      ]
     },
     "metadata": {},
     "output_type": "display_data"
    },
    {
     "data": {
      "application/vnd.jupyter.widget-view+json": {
       "model_id": "5229479497554da08d1a84d100c17f00",
       "version_major": 2,
       "version_minor": 0
      },
      "text/plain": [
       "Validation: |          | 0/? [00:00<?, ?it/s]"
      ]
     },
     "metadata": {},
     "output_type": "display_data"
    },
    {
     "data": {
      "application/vnd.jupyter.widget-view+json": {
       "model_id": "d47e42e680574279b093d937b4811023",
       "version_major": 2,
       "version_minor": 0
      },
      "text/plain": [
       "Validation: |          | 0/? [00:00<?, ?it/s]"
      ]
     },
     "metadata": {},
     "output_type": "display_data"
    },
    {
     "data": {
      "application/vnd.jupyter.widget-view+json": {
       "model_id": "8555055cd7a94a078934ea866411f9d4",
       "version_major": 2,
       "version_minor": 0
      },
      "text/plain": [
       "Validation: |          | 0/? [00:00<?, ?it/s]"
      ]
     },
     "metadata": {},
     "output_type": "display_data"
    },
    {
     "data": {
      "application/vnd.jupyter.widget-view+json": {
       "model_id": "aec6a7c027e74ed0800c0b4d46e19b14",
       "version_major": 2,
       "version_minor": 0
      },
      "text/plain": [
       "Validation: |          | 0/? [00:00<?, ?it/s]"
      ]
     },
     "metadata": {},
     "output_type": "display_data"
    },
    {
     "data": {
      "application/vnd.jupyter.widget-view+json": {
       "model_id": "c855bb53e65f42eba1701466f2502803",
       "version_major": 2,
       "version_minor": 0
      },
      "text/plain": [
       "Validation: |          | 0/? [00:00<?, ?it/s]"
      ]
     },
     "metadata": {},
     "output_type": "display_data"
    },
    {
     "data": {
      "application/vnd.jupyter.widget-view+json": {
       "model_id": "a8f6aee95da2410abf60f8c36d2478de",
       "version_major": 2,
       "version_minor": 0
      },
      "text/plain": [
       "Validation: |          | 0/? [00:00<?, ?it/s]"
      ]
     },
     "metadata": {},
     "output_type": "display_data"
    },
    {
     "data": {
      "application/vnd.jupyter.widget-view+json": {
       "model_id": "4b0078caaa4d43ab8d746ca1d665e41f",
       "version_major": 2,
       "version_minor": 0
      },
      "text/plain": [
       "Validation: |          | 0/? [00:00<?, ?it/s]"
      ]
     },
     "metadata": {},
     "output_type": "display_data"
    },
    {
     "data": {
      "application/vnd.jupyter.widget-view+json": {
       "model_id": "f2ce9a94f820404daf075be68303026a",
       "version_major": 2,
       "version_minor": 0
      },
      "text/plain": [
       "Validation: |          | 0/? [00:00<?, ?it/s]"
      ]
     },
     "metadata": {},
     "output_type": "display_data"
    },
    {
     "data": {
      "application/vnd.jupyter.widget-view+json": {
       "model_id": "5684d52d7998477cb1f46041af2f2b2b",
       "version_major": 2,
       "version_minor": 0
      },
      "text/plain": [
       "Validation: |          | 0/? [00:00<?, ?it/s]"
      ]
     },
     "metadata": {},
     "output_type": "display_data"
    },
    {
     "data": {
      "application/vnd.jupyter.widget-view+json": {
       "model_id": "48d0d6a0e4c54985a4f9b5f0092fe2a1",
       "version_major": 2,
       "version_minor": 0
      },
      "text/plain": [
       "Validation: |          | 0/? [00:00<?, ?it/s]"
      ]
     },
     "metadata": {},
     "output_type": "display_data"
    },
    {
     "data": {
      "application/vnd.jupyter.widget-view+json": {
       "model_id": "9cfb71fc62f04f35b08783fe3d72001a",
       "version_major": 2,
       "version_minor": 0
      },
      "text/plain": [
       "Validation: |          | 0/? [00:00<?, ?it/s]"
      ]
     },
     "metadata": {},
     "output_type": "display_data"
    },
    {
     "data": {
      "application/vnd.jupyter.widget-view+json": {
       "model_id": "e25f71326ef64f05934aa9104ce17d0b",
       "version_major": 2,
       "version_minor": 0
      },
      "text/plain": [
       "Validation: |          | 0/? [00:00<?, ?it/s]"
      ]
     },
     "metadata": {},
     "output_type": "display_data"
    },
    {
     "data": {
      "application/vnd.jupyter.widget-view+json": {
       "model_id": "7ac84c72873140e2b479b4c23a9c7626",
       "version_major": 2,
       "version_minor": 0
      },
      "text/plain": [
       "Validation: |          | 0/? [00:00<?, ?it/s]"
      ]
     },
     "metadata": {},
     "output_type": "display_data"
    },
    {
     "data": {
      "application/vnd.jupyter.widget-view+json": {
       "model_id": "742acd75d32244bb952c482b40a16549",
       "version_major": 2,
       "version_minor": 0
      },
      "text/plain": [
       "Validation: |          | 0/? [00:00<?, ?it/s]"
      ]
     },
     "metadata": {},
     "output_type": "display_data"
    },
    {
     "data": {
      "application/vnd.jupyter.widget-view+json": {
       "model_id": "edcb3019c8754774b7eb59c2532e545b",
       "version_major": 2,
       "version_minor": 0
      },
      "text/plain": [
       "Validation: |          | 0/? [00:00<?, ?it/s]"
      ]
     },
     "metadata": {},
     "output_type": "display_data"
    },
    {
     "data": {
      "application/vnd.jupyter.widget-view+json": {
       "model_id": "ce1f9de6a4544bdea19293b7ca9aa910",
       "version_major": 2,
       "version_minor": 0
      },
      "text/plain": [
       "Validation: |          | 0/? [00:00<?, ?it/s]"
      ]
     },
     "metadata": {},
     "output_type": "display_data"
    },
    {
     "data": {
      "application/vnd.jupyter.widget-view+json": {
       "model_id": "8c4ecd5d0b30437aa605f98ad0d85bc8",
       "version_major": 2,
       "version_minor": 0
      },
      "text/plain": [
       "Validation: |          | 0/? [00:00<?, ?it/s]"
      ]
     },
     "metadata": {},
     "output_type": "display_data"
    },
    {
     "data": {
      "application/vnd.jupyter.widget-view+json": {
       "model_id": "b0f2bc64f62844cd9567ee0e2d1afabf",
       "version_major": 2,
       "version_minor": 0
      },
      "text/plain": [
       "Validation: |          | 0/? [00:00<?, ?it/s]"
      ]
     },
     "metadata": {},
     "output_type": "display_data"
    },
    {
     "data": {
      "application/vnd.jupyter.widget-view+json": {
       "model_id": "1d053379ebc54fbd95d2a69e48a70026",
       "version_major": 2,
       "version_minor": 0
      },
      "text/plain": [
       "Validation: |          | 0/? [00:00<?, ?it/s]"
      ]
     },
     "metadata": {},
     "output_type": "display_data"
    },
    {
     "data": {
      "application/vnd.jupyter.widget-view+json": {
       "model_id": "28060c5b0f904ec5a38dd952ba195ab2",
       "version_major": 2,
       "version_minor": 0
      },
      "text/plain": [
       "Validation: |          | 0/? [00:00<?, ?it/s]"
      ]
     },
     "metadata": {},
     "output_type": "display_data"
    },
    {
     "data": {
      "application/vnd.jupyter.widget-view+json": {
       "model_id": "c47b8939398c4ba28d4005295984623c",
       "version_major": 2,
       "version_minor": 0
      },
      "text/plain": [
       "Validation: |          | 0/? [00:00<?, ?it/s]"
      ]
     },
     "metadata": {},
     "output_type": "display_data"
    },
    {
     "data": {
      "application/vnd.jupyter.widget-view+json": {
       "model_id": "b0d766e757a04aad89dd673a913fd1f6",
       "version_major": 2,
       "version_minor": 0
      },
      "text/plain": [
       "Validation: |          | 0/? [00:00<?, ?it/s]"
      ]
     },
     "metadata": {},
     "output_type": "display_data"
    },
    {
     "data": {
      "application/vnd.jupyter.widget-view+json": {
       "model_id": "df7bdca1798e4fbe9eb5bbe81c89ae47",
       "version_major": 2,
       "version_minor": 0
      },
      "text/plain": [
       "Validation: |          | 0/? [00:00<?, ?it/s]"
      ]
     },
     "metadata": {},
     "output_type": "display_data"
    },
    {
     "data": {
      "application/vnd.jupyter.widget-view+json": {
       "model_id": "f15cae668d8c4fc58560526e075b6959",
       "version_major": 2,
       "version_minor": 0
      },
      "text/plain": [
       "Validation: |          | 0/? [00:00<?, ?it/s]"
      ]
     },
     "metadata": {},
     "output_type": "display_data"
    },
    {
     "data": {
      "application/vnd.jupyter.widget-view+json": {
       "model_id": "7b52eaf85a4e44b68d3f62542dfdb2be",
       "version_major": 2,
       "version_minor": 0
      },
      "text/plain": [
       "Validation: |          | 0/? [00:00<?, ?it/s]"
      ]
     },
     "metadata": {},
     "output_type": "display_data"
    },
    {
     "data": {
      "application/vnd.jupyter.widget-view+json": {
       "model_id": "5c47752c0a1e4380b7d0778952691afb",
       "version_major": 2,
       "version_minor": 0
      },
      "text/plain": [
       "Validation: |          | 0/? [00:00<?, ?it/s]"
      ]
     },
     "metadata": {},
     "output_type": "display_data"
    },
    {
     "data": {
      "application/vnd.jupyter.widget-view+json": {
       "model_id": "a24d7fbec049472d80aa828effa49a14",
       "version_major": 2,
       "version_minor": 0
      },
      "text/plain": [
       "Validation: |          | 0/? [00:00<?, ?it/s]"
      ]
     },
     "metadata": {},
     "output_type": "display_data"
    },
    {
     "data": {
      "application/vnd.jupyter.widget-view+json": {
       "model_id": "6144c506b4ae4b5fbf45f43f56da80e7",
       "version_major": 2,
       "version_minor": 0
      },
      "text/plain": [
       "Validation: |          | 0/? [00:00<?, ?it/s]"
      ]
     },
     "metadata": {},
     "output_type": "display_data"
    },
    {
     "data": {
      "application/vnd.jupyter.widget-view+json": {
       "model_id": "b8ffef2c7bd1446f9f69984683d6e885",
       "version_major": 2,
       "version_minor": 0
      },
      "text/plain": [
       "Validation: |          | 0/? [00:00<?, ?it/s]"
      ]
     },
     "metadata": {},
     "output_type": "display_data"
    },
    {
     "data": {
      "application/vnd.jupyter.widget-view+json": {
       "model_id": "c79f5d0eb4fc4392972f3f04ef3521d4",
       "version_major": 2,
       "version_minor": 0
      },
      "text/plain": [
       "Validation: |          | 0/? [00:00<?, ?it/s]"
      ]
     },
     "metadata": {},
     "output_type": "display_data"
    },
    {
     "data": {
      "application/vnd.jupyter.widget-view+json": {
       "model_id": "5ce6d47905d3479288dc38ad51982e8a",
       "version_major": 2,
       "version_minor": 0
      },
      "text/plain": [
       "Validation: |          | 0/? [00:00<?, ?it/s]"
      ]
     },
     "metadata": {},
     "output_type": "display_data"
    },
    {
     "data": {
      "application/vnd.jupyter.widget-view+json": {
       "model_id": "8d78afc2c60f4f6f83cffa34a74c2b4a",
       "version_major": 2,
       "version_minor": 0
      },
      "text/plain": [
       "Validation: |          | 0/? [00:00<?, ?it/s]"
      ]
     },
     "metadata": {},
     "output_type": "display_data"
    },
    {
     "data": {
      "application/vnd.jupyter.widget-view+json": {
       "model_id": "41c3ac7bbdc54bc99dce07b09085a97e",
       "version_major": 2,
       "version_minor": 0
      },
      "text/plain": [
       "Validation: |          | 0/? [00:00<?, ?it/s]"
      ]
     },
     "metadata": {},
     "output_type": "display_data"
    },
    {
     "data": {
      "application/vnd.jupyter.widget-view+json": {
       "model_id": "825497f0e1c9418ba52a2e0e1c212616",
       "version_major": 2,
       "version_minor": 0
      },
      "text/plain": [
       "Validation: |          | 0/? [00:00<?, ?it/s]"
      ]
     },
     "metadata": {},
     "output_type": "display_data"
    },
    {
     "data": {
      "application/vnd.jupyter.widget-view+json": {
       "model_id": "8d7252d2c7dd4eb4b297dfa1ffe0a900",
       "version_major": 2,
       "version_minor": 0
      },
      "text/plain": [
       "Validation: |          | 0/? [00:00<?, ?it/s]"
      ]
     },
     "metadata": {},
     "output_type": "display_data"
    },
    {
     "data": {
      "application/vnd.jupyter.widget-view+json": {
       "model_id": "94c8e8d2164f4c2b8ba11f8d6ff7d1ea",
       "version_major": 2,
       "version_minor": 0
      },
      "text/plain": [
       "Validation: |          | 0/? [00:00<?, ?it/s]"
      ]
     },
     "metadata": {},
     "output_type": "display_data"
    },
    {
     "data": {
      "application/vnd.jupyter.widget-view+json": {
       "model_id": "796bf6375c82429fa5b640e7a993a70b",
       "version_major": 2,
       "version_minor": 0
      },
      "text/plain": [
       "Validation: |          | 0/? [00:00<?, ?it/s]"
      ]
     },
     "metadata": {},
     "output_type": "display_data"
    },
    {
     "data": {
      "application/vnd.jupyter.widget-view+json": {
       "model_id": "24cd7ae02a1148bab5adec1b2af1306b",
       "version_major": 2,
       "version_minor": 0
      },
      "text/plain": [
       "Validation: |          | 0/? [00:00<?, ?it/s]"
      ]
     },
     "metadata": {},
     "output_type": "display_data"
    },
    {
     "data": {
      "application/vnd.jupyter.widget-view+json": {
       "model_id": "3da3533b9a394af9bd0298f18ae6571b",
       "version_major": 2,
       "version_minor": 0
      },
      "text/plain": [
       "Validation: |          | 0/? [00:00<?, ?it/s]"
      ]
     },
     "metadata": {},
     "output_type": "display_data"
    },
    {
     "data": {
      "application/vnd.jupyter.widget-view+json": {
       "model_id": "78be9b2c3de044bfb7e3cb79072c15cf",
       "version_major": 2,
       "version_minor": 0
      },
      "text/plain": [
       "Validation: |          | 0/? [00:00<?, ?it/s]"
      ]
     },
     "metadata": {},
     "output_type": "display_data"
    },
    {
     "data": {
      "application/vnd.jupyter.widget-view+json": {
       "model_id": "ccb5d695e9d54b4b955f52d0253ff57c",
       "version_major": 2,
       "version_minor": 0
      },
      "text/plain": [
       "Validation: |          | 0/? [00:00<?, ?it/s]"
      ]
     },
     "metadata": {},
     "output_type": "display_data"
    },
    {
     "data": {
      "application/vnd.jupyter.widget-view+json": {
       "model_id": "6f073c7abc254735bd5c4aa6ff2bc1c0",
       "version_major": 2,
       "version_minor": 0
      },
      "text/plain": [
       "Validation: |          | 0/? [00:00<?, ?it/s]"
      ]
     },
     "metadata": {},
     "output_type": "display_data"
    },
    {
     "data": {
      "application/vnd.jupyter.widget-view+json": {
       "model_id": "48aff809df7b4fcd92397cd60151dc98",
       "version_major": 2,
       "version_minor": 0
      },
      "text/plain": [
       "Validation: |          | 0/? [00:00<?, ?it/s]"
      ]
     },
     "metadata": {},
     "output_type": "display_data"
    },
    {
     "data": {
      "application/vnd.jupyter.widget-view+json": {
       "model_id": "6e160861eed14d5e9d9b800b0d896992",
       "version_major": 2,
       "version_minor": 0
      },
      "text/plain": [
       "Validation: |          | 0/? [00:00<?, ?it/s]"
      ]
     },
     "metadata": {},
     "output_type": "display_data"
    },
    {
     "data": {
      "application/vnd.jupyter.widget-view+json": {
       "model_id": "04210821b1714ba9a9665fa172da3c6a",
       "version_major": 2,
       "version_minor": 0
      },
      "text/plain": [
       "Validation: |          | 0/? [00:00<?, ?it/s]"
      ]
     },
     "metadata": {},
     "output_type": "display_data"
    },
    {
     "data": {
      "application/vnd.jupyter.widget-view+json": {
       "model_id": "8db10b7f2cbd4d5d839bfa1925d3c995",
       "version_major": 2,
       "version_minor": 0
      },
      "text/plain": [
       "Validation: |          | 0/? [00:00<?, ?it/s]"
      ]
     },
     "metadata": {},
     "output_type": "display_data"
    },
    {
     "data": {
      "application/vnd.jupyter.widget-view+json": {
       "model_id": "abd39e5ace604a30a55c37adab9f5a51",
       "version_major": 2,
       "version_minor": 0
      },
      "text/plain": [
       "Validation: |          | 0/? [00:00<?, ?it/s]"
      ]
     },
     "metadata": {},
     "output_type": "display_data"
    },
    {
     "data": {
      "application/vnd.jupyter.widget-view+json": {
       "model_id": "9a3fb32b86d840459e6e3d45ad246ccd",
       "version_major": 2,
       "version_minor": 0
      },
      "text/plain": [
       "Validation: |          | 0/? [00:00<?, ?it/s]"
      ]
     },
     "metadata": {},
     "output_type": "display_data"
    },
    {
     "data": {
      "application/vnd.jupyter.widget-view+json": {
       "model_id": "b46524ea6f9f4e8e8f42834700e4cf37",
       "version_major": 2,
       "version_minor": 0
      },
      "text/plain": [
       "Validation: |          | 0/? [00:00<?, ?it/s]"
      ]
     },
     "metadata": {},
     "output_type": "display_data"
    },
    {
     "data": {
      "application/vnd.jupyter.widget-view+json": {
       "model_id": "9808a747f0db407fa4f523f43f5da994",
       "version_major": 2,
       "version_minor": 0
      },
      "text/plain": [
       "Validation: |          | 0/? [00:00<?, ?it/s]"
      ]
     },
     "metadata": {},
     "output_type": "display_data"
    },
    {
     "data": {
      "application/vnd.jupyter.widget-view+json": {
       "model_id": "96dc6a5428e74056b5be97bcd2a0b98f",
       "version_major": 2,
       "version_minor": 0
      },
      "text/plain": [
       "Validation: |          | 0/? [00:00<?, ?it/s]"
      ]
     },
     "metadata": {},
     "output_type": "display_data"
    },
    {
     "data": {
      "application/vnd.jupyter.widget-view+json": {
       "model_id": "4059a4294958403482aa8b54fd44ea31",
       "version_major": 2,
       "version_minor": 0
      },
      "text/plain": [
       "Validation: |          | 0/? [00:00<?, ?it/s]"
      ]
     },
     "metadata": {},
     "output_type": "display_data"
    },
    {
     "data": {
      "application/vnd.jupyter.widget-view+json": {
       "model_id": "9259d6526dd249c6b45978a953a10383",
       "version_major": 2,
       "version_minor": 0
      },
      "text/plain": [
       "Validation: |          | 0/? [00:00<?, ?it/s]"
      ]
     },
     "metadata": {},
     "output_type": "display_data"
    },
    {
     "data": {
      "application/vnd.jupyter.widget-view+json": {
       "model_id": "816a1f4412d543928cad0ec634b21dd6",
       "version_major": 2,
       "version_minor": 0
      },
      "text/plain": [
       "Validation: |          | 0/? [00:00<?, ?it/s]"
      ]
     },
     "metadata": {},
     "output_type": "display_data"
    },
    {
     "data": {
      "application/vnd.jupyter.widget-view+json": {
       "model_id": "2e74a417ba054fdea3076978b269b7bb",
       "version_major": 2,
       "version_minor": 0
      },
      "text/plain": [
       "Validation: |          | 0/? [00:00<?, ?it/s]"
      ]
     },
     "metadata": {},
     "output_type": "display_data"
    },
    {
     "data": {
      "application/vnd.jupyter.widget-view+json": {
       "model_id": "b0a7fffda7f84b4bb460414faa39579f",
       "version_major": 2,
       "version_minor": 0
      },
      "text/plain": [
       "Validation: |          | 0/? [00:00<?, ?it/s]"
      ]
     },
     "metadata": {},
     "output_type": "display_data"
    },
    {
     "data": {
      "application/vnd.jupyter.widget-view+json": {
       "model_id": "0018de55720e43feb1a2b5f9c930be3d",
       "version_major": 2,
       "version_minor": 0
      },
      "text/plain": [
       "Validation: |          | 0/? [00:00<?, ?it/s]"
      ]
     },
     "metadata": {},
     "output_type": "display_data"
    },
    {
     "data": {
      "application/vnd.jupyter.widget-view+json": {
       "model_id": "dad797382fd345f6a8e6e73e6d31dbea",
       "version_major": 2,
       "version_minor": 0
      },
      "text/plain": [
       "Validation: |          | 0/? [00:00<?, ?it/s]"
      ]
     },
     "metadata": {},
     "output_type": "display_data"
    },
    {
     "data": {
      "application/vnd.jupyter.widget-view+json": {
       "model_id": "2d37fffc0b844ac1b3f81a6b0088e86b",
       "version_major": 2,
       "version_minor": 0
      },
      "text/plain": [
       "Validation: |          | 0/? [00:00<?, ?it/s]"
      ]
     },
     "metadata": {},
     "output_type": "display_data"
    },
    {
     "data": {
      "application/vnd.jupyter.widget-view+json": {
       "model_id": "b9605774bbd345a8b640a86a6d093576",
       "version_major": 2,
       "version_minor": 0
      },
      "text/plain": [
       "Validation: |          | 0/? [00:00<?, ?it/s]"
      ]
     },
     "metadata": {},
     "output_type": "display_data"
    },
    {
     "data": {
      "application/vnd.jupyter.widget-view+json": {
       "model_id": "63ae74941be546b48567aff151afeb86",
       "version_major": 2,
       "version_minor": 0
      },
      "text/plain": [
       "Validation: |          | 0/? [00:00<?, ?it/s]"
      ]
     },
     "metadata": {},
     "output_type": "display_data"
    },
    {
     "data": {
      "application/vnd.jupyter.widget-view+json": {
       "model_id": "aa281e56816d4e0fa28ef8698efc2ece",
       "version_major": 2,
       "version_minor": 0
      },
      "text/plain": [
       "Validation: |          | 0/? [00:00<?, ?it/s]"
      ]
     },
     "metadata": {},
     "output_type": "display_data"
    },
    {
     "data": {
      "application/vnd.jupyter.widget-view+json": {
       "model_id": "c85aac515e9547388dbfd9c034a96f23",
       "version_major": 2,
       "version_minor": 0
      },
      "text/plain": [
       "Validation: |          | 0/? [00:00<?, ?it/s]"
      ]
     },
     "metadata": {},
     "output_type": "display_data"
    },
    {
     "data": {
      "application/vnd.jupyter.widget-view+json": {
       "model_id": "4a242a3a4cf14e1b834592c0e8894f10",
       "version_major": 2,
       "version_minor": 0
      },
      "text/plain": [
       "Validation: |          | 0/? [00:00<?, ?it/s]"
      ]
     },
     "metadata": {},
     "output_type": "display_data"
    },
    {
     "data": {
      "application/vnd.jupyter.widget-view+json": {
       "model_id": "ab6e3eea642d43899f6b29880d95148e",
       "version_major": 2,
       "version_minor": 0
      },
      "text/plain": [
       "Validation: |          | 0/? [00:00<?, ?it/s]"
      ]
     },
     "metadata": {},
     "output_type": "display_data"
    },
    {
     "data": {
      "application/vnd.jupyter.widget-view+json": {
       "model_id": "306c5d0e79514ec98e0aa4e322c682cd",
       "version_major": 2,
       "version_minor": 0
      },
      "text/plain": [
       "Validation: |          | 0/? [00:00<?, ?it/s]"
      ]
     },
     "metadata": {},
     "output_type": "display_data"
    },
    {
     "data": {
      "application/vnd.jupyter.widget-view+json": {
       "model_id": "0078a2cc892e46bd9b3c1f837dfb55ec",
       "version_major": 2,
       "version_minor": 0
      },
      "text/plain": [
       "Validation: |          | 0/? [00:00<?, ?it/s]"
      ]
     },
     "metadata": {},
     "output_type": "display_data"
    },
    {
     "data": {
      "application/vnd.jupyter.widget-view+json": {
       "model_id": "c99bb8253b37437eb96cc692318a9a9f",
       "version_major": 2,
       "version_minor": 0
      },
      "text/plain": [
       "Validation: |          | 0/? [00:00<?, ?it/s]"
      ]
     },
     "metadata": {},
     "output_type": "display_data"
    },
    {
     "data": {
      "application/vnd.jupyter.widget-view+json": {
       "model_id": "1497da223fd34f86b6b2300c78559f01",
       "version_major": 2,
       "version_minor": 0
      },
      "text/plain": [
       "Validation: |          | 0/? [00:00<?, ?it/s]"
      ]
     },
     "metadata": {},
     "output_type": "display_data"
    },
    {
     "data": {
      "application/vnd.jupyter.widget-view+json": {
       "model_id": "0d7bb42a2820427eba5fd0a5c77de201",
       "version_major": 2,
       "version_minor": 0
      },
      "text/plain": [
       "Validation: |          | 0/? [00:00<?, ?it/s]"
      ]
     },
     "metadata": {},
     "output_type": "display_data"
    },
    {
     "data": {
      "application/vnd.jupyter.widget-view+json": {
       "model_id": "5cafe39d77474449a75487328cf74a4a",
       "version_major": 2,
       "version_minor": 0
      },
      "text/plain": [
       "Validation: |          | 0/? [00:00<?, ?it/s]"
      ]
     },
     "metadata": {},
     "output_type": "display_data"
    },
    {
     "data": {
      "application/vnd.jupyter.widget-view+json": {
       "model_id": "0bcd7dedda3f45c496a076272f676524",
       "version_major": 2,
       "version_minor": 0
      },
      "text/plain": [
       "Validation: |          | 0/? [00:00<?, ?it/s]"
      ]
     },
     "metadata": {},
     "output_type": "display_data"
    },
    {
     "data": {
      "application/vnd.jupyter.widget-view+json": {
       "model_id": "ecf1d48dc025422eb400a993d6fdcff9",
       "version_major": 2,
       "version_minor": 0
      },
      "text/plain": [
       "Validation: |          | 0/? [00:00<?, ?it/s]"
      ]
     },
     "metadata": {},
     "output_type": "display_data"
    },
    {
     "data": {
      "application/vnd.jupyter.widget-view+json": {
       "model_id": "923c17b31f074bf9a3a7bfde19104c78",
       "version_major": 2,
       "version_minor": 0
      },
      "text/plain": [
       "Validation: |          | 0/? [00:00<?, ?it/s]"
      ]
     },
     "metadata": {},
     "output_type": "display_data"
    },
    {
     "data": {
      "application/vnd.jupyter.widget-view+json": {
       "model_id": "b77245b1d97d4778b18d6bbad7d02cde",
       "version_major": 2,
       "version_minor": 0
      },
      "text/plain": [
       "Validation: |          | 0/? [00:00<?, ?it/s]"
      ]
     },
     "metadata": {},
     "output_type": "display_data"
    },
    {
     "data": {
      "application/vnd.jupyter.widget-view+json": {
       "model_id": "20393d09e36f4c92906dd6160d408d47",
       "version_major": 2,
       "version_minor": 0
      },
      "text/plain": [
       "Validation: |          | 0/? [00:00<?, ?it/s]"
      ]
     },
     "metadata": {},
     "output_type": "display_data"
    },
    {
     "data": {
      "application/vnd.jupyter.widget-view+json": {
       "model_id": "49f6b62c2d73432283c81fc81e175e0b",
       "version_major": 2,
       "version_minor": 0
      },
      "text/plain": [
       "Validation: |          | 0/? [00:00<?, ?it/s]"
      ]
     },
     "metadata": {},
     "output_type": "display_data"
    },
    {
     "data": {
      "application/vnd.jupyter.widget-view+json": {
       "model_id": "bd994944ba7d435c846131b63f0de0ee",
       "version_major": 2,
       "version_minor": 0
      },
      "text/plain": [
       "Validation: |          | 0/? [00:00<?, ?it/s]"
      ]
     },
     "metadata": {},
     "output_type": "display_data"
    },
    {
     "data": {
      "application/vnd.jupyter.widget-view+json": {
       "model_id": "0475400460de46bbb635bd81ebdcbc0f",
       "version_major": 2,
       "version_minor": 0
      },
      "text/plain": [
       "Validation: |          | 0/? [00:00<?, ?it/s]"
      ]
     },
     "metadata": {},
     "output_type": "display_data"
    },
    {
     "data": {
      "application/vnd.jupyter.widget-view+json": {
       "model_id": "a736b82492bc4e5eb7fc74250db9e00d",
       "version_major": 2,
       "version_minor": 0
      },
      "text/plain": [
       "Validation: |          | 0/? [00:00<?, ?it/s]"
      ]
     },
     "metadata": {},
     "output_type": "display_data"
    },
    {
     "data": {
      "application/vnd.jupyter.widget-view+json": {
       "model_id": "cb54ea30e1c14b5ea8046b61523bcfd2",
       "version_major": 2,
       "version_minor": 0
      },
      "text/plain": [
       "Validation: |          | 0/? [00:00<?, ?it/s]"
      ]
     },
     "metadata": {},
     "output_type": "display_data"
    },
    {
     "data": {
      "application/vnd.jupyter.widget-view+json": {
       "model_id": "852c6dbd049748cb94056755da7073c7",
       "version_major": 2,
       "version_minor": 0
      },
      "text/plain": [
       "Validation: |          | 0/? [00:00<?, ?it/s]"
      ]
     },
     "metadata": {},
     "output_type": "display_data"
    },
    {
     "data": {
      "application/vnd.jupyter.widget-view+json": {
       "model_id": "2536e5e176f34e1c972741889d57333b",
       "version_major": 2,
       "version_minor": 0
      },
      "text/plain": [
       "Validation: |          | 0/? [00:00<?, ?it/s]"
      ]
     },
     "metadata": {},
     "output_type": "display_data"
    },
    {
     "data": {
      "application/vnd.jupyter.widget-view+json": {
       "model_id": "d596202afeb840d5a7d2b3dc6b863d3b",
       "version_major": 2,
       "version_minor": 0
      },
      "text/plain": [
       "Validation: |          | 0/? [00:00<?, ?it/s]"
      ]
     },
     "metadata": {},
     "output_type": "display_data"
    },
    {
     "data": {
      "application/vnd.jupyter.widget-view+json": {
       "model_id": "c8530ed709b64669976691ef0f6523a2",
       "version_major": 2,
       "version_minor": 0
      },
      "text/plain": [
       "Validation: |          | 0/? [00:00<?, ?it/s]"
      ]
     },
     "metadata": {},
     "output_type": "display_data"
    },
    {
     "data": {
      "application/vnd.jupyter.widget-view+json": {
       "model_id": "5de357729cc64f0fa301cc3e80702a51",
       "version_major": 2,
       "version_minor": 0
      },
      "text/plain": [
       "Validation: |          | 0/? [00:00<?, ?it/s]"
      ]
     },
     "metadata": {},
     "output_type": "display_data"
    },
    {
     "data": {
      "application/vnd.jupyter.widget-view+json": {
       "model_id": "b07abcb38a9f4f60a00dcc36cf9573cb",
       "version_major": 2,
       "version_minor": 0
      },
      "text/plain": [
       "Validation: |          | 0/? [00:00<?, ?it/s]"
      ]
     },
     "metadata": {},
     "output_type": "display_data"
    },
    {
     "data": {
      "application/vnd.jupyter.widget-view+json": {
       "model_id": "092ff9345708403b83ed8aed4aaea68b",
       "version_major": 2,
       "version_minor": 0
      },
      "text/plain": [
       "Validation: |          | 0/? [00:00<?, ?it/s]"
      ]
     },
     "metadata": {},
     "output_type": "display_data"
    },
    {
     "data": {
      "application/vnd.jupyter.widget-view+json": {
       "model_id": "ca00e29714c240df82106387ad3490c9",
       "version_major": 2,
       "version_minor": 0
      },
      "text/plain": [
       "Validation: |          | 0/? [00:00<?, ?it/s]"
      ]
     },
     "metadata": {},
     "output_type": "display_data"
    },
    {
     "data": {
      "application/vnd.jupyter.widget-view+json": {
       "model_id": "9d601c07e5114aa2bcad0202924ce22e",
       "version_major": 2,
       "version_minor": 0
      },
      "text/plain": [
       "Validation: |          | 0/? [00:00<?, ?it/s]"
      ]
     },
     "metadata": {},
     "output_type": "display_data"
    },
    {
     "data": {
      "application/vnd.jupyter.widget-view+json": {
       "model_id": "05c0902f09584dcb8b00d28c71a29577",
       "version_major": 2,
       "version_minor": 0
      },
      "text/plain": [
       "Validation: |          | 0/? [00:00<?, ?it/s]"
      ]
     },
     "metadata": {},
     "output_type": "display_data"
    },
    {
     "data": {
      "application/vnd.jupyter.widget-view+json": {
       "model_id": "f20f3cf35abe4d26889a2001bfbf6921",
       "version_major": 2,
       "version_minor": 0
      },
      "text/plain": [
       "Validation: |          | 0/? [00:00<?, ?it/s]"
      ]
     },
     "metadata": {},
     "output_type": "display_data"
    },
    {
     "data": {
      "application/vnd.jupyter.widget-view+json": {
       "model_id": "2bb3fbac96264ea3a7907632197650d5",
       "version_major": 2,
       "version_minor": 0
      },
      "text/plain": [
       "Validation: |          | 0/? [00:00<?, ?it/s]"
      ]
     },
     "metadata": {},
     "output_type": "display_data"
    },
    {
     "data": {
      "application/vnd.jupyter.widget-view+json": {
       "model_id": "8133d0011bf84a5a855569868a8465e4",
       "version_major": 2,
       "version_minor": 0
      },
      "text/plain": [
       "Validation: |          | 0/? [00:00<?, ?it/s]"
      ]
     },
     "metadata": {},
     "output_type": "display_data"
    },
    {
     "data": {
      "application/vnd.jupyter.widget-view+json": {
       "model_id": "bd1884f2ea464ddc9370706b8967950c",
       "version_major": 2,
       "version_minor": 0
      },
      "text/plain": [
       "Validation: |          | 0/? [00:00<?, ?it/s]"
      ]
     },
     "metadata": {},
     "output_type": "display_data"
    },
    {
     "data": {
      "application/vnd.jupyter.widget-view+json": {
       "model_id": "b8d045b0ac384d34a44de8ab931b123b",
       "version_major": 2,
       "version_minor": 0
      },
      "text/plain": [
       "Validation: |          | 0/? [00:00<?, ?it/s]"
      ]
     },
     "metadata": {},
     "output_type": "display_data"
    },
    {
     "data": {
      "application/vnd.jupyter.widget-view+json": {
       "model_id": "09bd92ad64f4437c8a6a8d7c986b0304",
       "version_major": 2,
       "version_minor": 0
      },
      "text/plain": [
       "Validation: |          | 0/? [00:00<?, ?it/s]"
      ]
     },
     "metadata": {},
     "output_type": "display_data"
    },
    {
     "data": {
      "application/vnd.jupyter.widget-view+json": {
       "model_id": "10f932cced2f484f88f5aa5f0221c76a",
       "version_major": 2,
       "version_minor": 0
      },
      "text/plain": [
       "Validation: |          | 0/? [00:00<?, ?it/s]"
      ]
     },
     "metadata": {},
     "output_type": "display_data"
    },
    {
     "data": {
      "application/vnd.jupyter.widget-view+json": {
       "model_id": "94a568079d54487fa5ad09ddf7412f02",
       "version_major": 2,
       "version_minor": 0
      },
      "text/plain": [
       "Validation: |          | 0/? [00:00<?, ?it/s]"
      ]
     },
     "metadata": {},
     "output_type": "display_data"
    },
    {
     "data": {
      "application/vnd.jupyter.widget-view+json": {
       "model_id": "945dac7c4c33421bb888704f26913021",
       "version_major": 2,
       "version_minor": 0
      },
      "text/plain": [
       "Validation: |          | 0/? [00:00<?, ?it/s]"
      ]
     },
     "metadata": {},
     "output_type": "display_data"
    },
    {
     "data": {
      "application/vnd.jupyter.widget-view+json": {
       "model_id": "11e0262f6f7849e2aef7dcb987b15861",
       "version_major": 2,
       "version_minor": 0
      },
      "text/plain": [
       "Validation: |          | 0/? [00:00<?, ?it/s]"
      ]
     },
     "metadata": {},
     "output_type": "display_data"
    },
    {
     "data": {
      "application/vnd.jupyter.widget-view+json": {
       "model_id": "53abcd5935554daf90b08715faa7600e",
       "version_major": 2,
       "version_minor": 0
      },
      "text/plain": [
       "Validation: |          | 0/? [00:00<?, ?it/s]"
      ]
     },
     "metadata": {},
     "output_type": "display_data"
    },
    {
     "data": {
      "application/vnd.jupyter.widget-view+json": {
       "model_id": "4fcbddf6790f44e48b0cc8b373184e88",
       "version_major": 2,
       "version_minor": 0
      },
      "text/plain": [
       "Validation: |          | 0/? [00:00<?, ?it/s]"
      ]
     },
     "metadata": {},
     "output_type": "display_data"
    },
    {
     "data": {
      "application/vnd.jupyter.widget-view+json": {
       "model_id": "a82ab1214e5e49449deadad51be457b6",
       "version_major": 2,
       "version_minor": 0
      },
      "text/plain": [
       "Validation: |          | 0/? [00:00<?, ?it/s]"
      ]
     },
     "metadata": {},
     "output_type": "display_data"
    },
    {
     "data": {
      "application/vnd.jupyter.widget-view+json": {
       "model_id": "041fedd306e04241b075097bc03a71e7",
       "version_major": 2,
       "version_minor": 0
      },
      "text/plain": [
       "Validation: |          | 0/? [00:00<?, ?it/s]"
      ]
     },
     "metadata": {},
     "output_type": "display_data"
    },
    {
     "data": {
      "application/vnd.jupyter.widget-view+json": {
       "model_id": "c84243a7d0bd4daaa0cf27c1120b407b",
       "version_major": 2,
       "version_minor": 0
      },
      "text/plain": [
       "Validation: |          | 0/? [00:00<?, ?it/s]"
      ]
     },
     "metadata": {},
     "output_type": "display_data"
    },
    {
     "data": {
      "application/vnd.jupyter.widget-view+json": {
       "model_id": "06e620676827450bb9bac6b043dbffbf",
       "version_major": 2,
       "version_minor": 0
      },
      "text/plain": [
       "Validation: |          | 0/? [00:00<?, ?it/s]"
      ]
     },
     "metadata": {},
     "output_type": "display_data"
    },
    {
     "data": {
      "application/vnd.jupyter.widget-view+json": {
       "model_id": "9493072770004092a58bb4bacbcbfb23",
       "version_major": 2,
       "version_minor": 0
      },
      "text/plain": [
       "Validation: |          | 0/? [00:00<?, ?it/s]"
      ]
     },
     "metadata": {},
     "output_type": "display_data"
    },
    {
     "data": {
      "application/vnd.jupyter.widget-view+json": {
       "model_id": "35cabd9a60c94bf5ae16c33fed64fc2a",
       "version_major": 2,
       "version_minor": 0
      },
      "text/plain": [
       "Validation: |          | 0/? [00:00<?, ?it/s]"
      ]
     },
     "metadata": {},
     "output_type": "display_data"
    },
    {
     "data": {
      "application/vnd.jupyter.widget-view+json": {
       "model_id": "058bb547281f4af686a68438233d8a39",
       "version_major": 2,
       "version_minor": 0
      },
      "text/plain": [
       "Validation: |          | 0/? [00:00<?, ?it/s]"
      ]
     },
     "metadata": {},
     "output_type": "display_data"
    },
    {
     "data": {
      "application/vnd.jupyter.widget-view+json": {
       "model_id": "eda83c644ce943e382829459e71576c7",
       "version_major": 2,
       "version_minor": 0
      },
      "text/plain": [
       "Validation: |          | 0/? [00:00<?, ?it/s]"
      ]
     },
     "metadata": {},
     "output_type": "display_data"
    },
    {
     "data": {
      "application/vnd.jupyter.widget-view+json": {
       "model_id": "6991575f248047f2b87d0444cd397205",
       "version_major": 2,
       "version_minor": 0
      },
      "text/plain": [
       "Validation: |          | 0/? [00:00<?, ?it/s]"
      ]
     },
     "metadata": {},
     "output_type": "display_data"
    },
    {
     "data": {
      "application/vnd.jupyter.widget-view+json": {
       "model_id": "55e3b83b57824ea6b3030096816b16b9",
       "version_major": 2,
       "version_minor": 0
      },
      "text/plain": [
       "Validation: |          | 0/? [00:00<?, ?it/s]"
      ]
     },
     "metadata": {},
     "output_type": "display_data"
    },
    {
     "data": {
      "application/vnd.jupyter.widget-view+json": {
       "model_id": "23e27a3ff62e4b8f877e5ca69d2edbf7",
       "version_major": 2,
       "version_minor": 0
      },
      "text/plain": [
       "Validation: |          | 0/? [00:00<?, ?it/s]"
      ]
     },
     "metadata": {},
     "output_type": "display_data"
    },
    {
     "data": {
      "application/vnd.jupyter.widget-view+json": {
       "model_id": "3630e83d75864225b0e3e62173abd702",
       "version_major": 2,
       "version_minor": 0
      },
      "text/plain": [
       "Validation: |          | 0/? [00:00<?, ?it/s]"
      ]
     },
     "metadata": {},
     "output_type": "display_data"
    },
    {
     "data": {
      "application/vnd.jupyter.widget-view+json": {
       "model_id": "ddd3402c28d34eb2a64789de062a1df0",
       "version_major": 2,
       "version_minor": 0
      },
      "text/plain": [
       "Validation: |          | 0/? [00:00<?, ?it/s]"
      ]
     },
     "metadata": {},
     "output_type": "display_data"
    },
    {
     "data": {
      "application/vnd.jupyter.widget-view+json": {
       "model_id": "bfad8f193f0a4640a927121a33e4d978",
       "version_major": 2,
       "version_minor": 0
      },
      "text/plain": [
       "Validation: |          | 0/? [00:00<?, ?it/s]"
      ]
     },
     "metadata": {},
     "output_type": "display_data"
    },
    {
     "data": {
      "application/vnd.jupyter.widget-view+json": {
       "model_id": "afb28a0ee9924e858523c899230cf3bc",
       "version_major": 2,
       "version_minor": 0
      },
      "text/plain": [
       "Validation: |          | 0/? [00:00<?, ?it/s]"
      ]
     },
     "metadata": {},
     "output_type": "display_data"
    },
    {
     "data": {
      "application/vnd.jupyter.widget-view+json": {
       "model_id": "9adadff721e64466a5756a2bc2d7749a",
       "version_major": 2,
       "version_minor": 0
      },
      "text/plain": [
       "Validation: |          | 0/? [00:00<?, ?it/s]"
      ]
     },
     "metadata": {},
     "output_type": "display_data"
    },
    {
     "data": {
      "application/vnd.jupyter.widget-view+json": {
       "model_id": "6447f18e08a4410589bafb2f4d6bf190",
       "version_major": 2,
       "version_minor": 0
      },
      "text/plain": [
       "Validation: |          | 0/? [00:00<?, ?it/s]"
      ]
     },
     "metadata": {},
     "output_type": "display_data"
    },
    {
     "data": {
      "application/vnd.jupyter.widget-view+json": {
       "model_id": "3997b33aef8d4c4c86daea285b429eba",
       "version_major": 2,
       "version_minor": 0
      },
      "text/plain": [
       "Validation: |          | 0/? [00:00<?, ?it/s]"
      ]
     },
     "metadata": {},
     "output_type": "display_data"
    },
    {
     "data": {
      "application/vnd.jupyter.widget-view+json": {
       "model_id": "8fd6c3cdfea64df5945bbab6dabeb4e8",
       "version_major": 2,
       "version_minor": 0
      },
      "text/plain": [
       "Validation: |          | 0/? [00:00<?, ?it/s]"
      ]
     },
     "metadata": {},
     "output_type": "display_data"
    },
    {
     "data": {
      "application/vnd.jupyter.widget-view+json": {
       "model_id": "94fd8cb94c64403991635996d1ef6c9f",
       "version_major": 2,
       "version_minor": 0
      },
      "text/plain": [
       "Validation: |          | 0/? [00:00<?, ?it/s]"
      ]
     },
     "metadata": {},
     "output_type": "display_data"
    },
    {
     "data": {
      "application/vnd.jupyter.widget-view+json": {
       "model_id": "b6d97e098f844b019e2f8bf6421822f9",
       "version_major": 2,
       "version_minor": 0
      },
      "text/plain": [
       "Validation: |          | 0/? [00:00<?, ?it/s]"
      ]
     },
     "metadata": {},
     "output_type": "display_data"
    },
    {
     "data": {
      "application/vnd.jupyter.widget-view+json": {
       "model_id": "99832f61c47f4a64a0a042e2e424be38",
       "version_major": 2,
       "version_minor": 0
      },
      "text/plain": [
       "Validation: |          | 0/? [00:00<?, ?it/s]"
      ]
     },
     "metadata": {},
     "output_type": "display_data"
    },
    {
     "data": {
      "application/vnd.jupyter.widget-view+json": {
       "model_id": "cc8b59df5e6f4b1fab7ea4b4a376e2bd",
       "version_major": 2,
       "version_minor": 0
      },
      "text/plain": [
       "Validation: |          | 0/? [00:00<?, ?it/s]"
      ]
     },
     "metadata": {},
     "output_type": "display_data"
    },
    {
     "data": {
      "application/vnd.jupyter.widget-view+json": {
       "model_id": "9f3941fc3e924cc7a6989a106dc6b793",
       "version_major": 2,
       "version_minor": 0
      },
      "text/plain": [
       "Validation: |          | 0/? [00:00<?, ?it/s]"
      ]
     },
     "metadata": {},
     "output_type": "display_data"
    },
    {
     "data": {
      "application/vnd.jupyter.widget-view+json": {
       "model_id": "5f9863851f7c4c9fa3b827531bf9d6f4",
       "version_major": 2,
       "version_minor": 0
      },
      "text/plain": [
       "Validation: |          | 0/? [00:00<?, ?it/s]"
      ]
     },
     "metadata": {},
     "output_type": "display_data"
    },
    {
     "data": {
      "application/vnd.jupyter.widget-view+json": {
       "model_id": "9cf899d0faec4038911cdddbf7e401d7",
       "version_major": 2,
       "version_minor": 0
      },
      "text/plain": [
       "Validation: |          | 0/? [00:00<?, ?it/s]"
      ]
     },
     "metadata": {},
     "output_type": "display_data"
    },
    {
     "data": {
      "application/vnd.jupyter.widget-view+json": {
       "model_id": "8fa39cccef2040fa9f6c8557bd70f14b",
       "version_major": 2,
       "version_minor": 0
      },
      "text/plain": [
       "Validation: |          | 0/? [00:00<?, ?it/s]"
      ]
     },
     "metadata": {},
     "output_type": "display_data"
    },
    {
     "data": {
      "application/vnd.jupyter.widget-view+json": {
       "model_id": "0ac50b51909e464ea5755d4a676b6e7d",
       "version_major": 2,
       "version_minor": 0
      },
      "text/plain": [
       "Validation: |          | 0/? [00:00<?, ?it/s]"
      ]
     },
     "metadata": {},
     "output_type": "display_data"
    },
    {
     "data": {
      "application/vnd.jupyter.widget-view+json": {
       "model_id": "b4b7efe6384e4c539ece055beea816fe",
       "version_major": 2,
       "version_minor": 0
      },
      "text/plain": [
       "Validation: |          | 0/? [00:00<?, ?it/s]"
      ]
     },
     "metadata": {},
     "output_type": "display_data"
    },
    {
     "data": {
      "application/vnd.jupyter.widget-view+json": {
       "model_id": "2ac1a00b165c45d5b34101e9b33fd1ec",
       "version_major": 2,
       "version_minor": 0
      },
      "text/plain": [
       "Validation: |          | 0/? [00:00<?, ?it/s]"
      ]
     },
     "metadata": {},
     "output_type": "display_data"
    },
    {
     "data": {
      "application/vnd.jupyter.widget-view+json": {
       "model_id": "41ffa79cab0b4fefa6de0e4f1f3a3965",
       "version_major": 2,
       "version_minor": 0
      },
      "text/plain": [
       "Validation: |          | 0/? [00:00<?, ?it/s]"
      ]
     },
     "metadata": {},
     "output_type": "display_data"
    },
    {
     "data": {
      "application/vnd.jupyter.widget-view+json": {
       "model_id": "c5c25a8de4b34ec194b4cc163bf609e1",
       "version_major": 2,
       "version_minor": 0
      },
      "text/plain": [
       "Validation: |          | 0/? [00:00<?, ?it/s]"
      ]
     },
     "metadata": {},
     "output_type": "display_data"
    },
    {
     "data": {
      "application/vnd.jupyter.widget-view+json": {
       "model_id": "841571b4587f470593857017d835c830",
       "version_major": 2,
       "version_minor": 0
      },
      "text/plain": [
       "Validation: |          | 0/? [00:00<?, ?it/s]"
      ]
     },
     "metadata": {},
     "output_type": "display_data"
    },
    {
     "data": {
      "application/vnd.jupyter.widget-view+json": {
       "model_id": "ed41e478dee04c5fac1396d71da5f0ff",
       "version_major": 2,
       "version_minor": 0
      },
      "text/plain": [
       "Validation: |          | 0/? [00:00<?, ?it/s]"
      ]
     },
     "metadata": {},
     "output_type": "display_data"
    },
    {
     "data": {
      "application/vnd.jupyter.widget-view+json": {
       "model_id": "dbb96ee88ff54d9cbb969ddbbfb167bf",
       "version_major": 2,
       "version_minor": 0
      },
      "text/plain": [
       "Validation: |          | 0/? [00:00<?, ?it/s]"
      ]
     },
     "metadata": {},
     "output_type": "display_data"
    },
    {
     "data": {
      "application/vnd.jupyter.widget-view+json": {
       "model_id": "b0442202eeca42d0b2b91a20e19cb57f",
       "version_major": 2,
       "version_minor": 0
      },
      "text/plain": [
       "Validation: |          | 0/? [00:00<?, ?it/s]"
      ]
     },
     "metadata": {},
     "output_type": "display_data"
    },
    {
     "data": {
      "application/vnd.jupyter.widget-view+json": {
       "model_id": "027b1cd73bf749bbb6edf7b9843b58f6",
       "version_major": 2,
       "version_minor": 0
      },
      "text/plain": [
       "Validation: |          | 0/? [00:00<?, ?it/s]"
      ]
     },
     "metadata": {},
     "output_type": "display_data"
    },
    {
     "data": {
      "application/vnd.jupyter.widget-view+json": {
       "model_id": "e29ab7130453488285bb258ca305af15",
       "version_major": 2,
       "version_minor": 0
      },
      "text/plain": [
       "Validation: |          | 0/? [00:00<?, ?it/s]"
      ]
     },
     "metadata": {},
     "output_type": "display_data"
    },
    {
     "data": {
      "application/vnd.jupyter.widget-view+json": {
       "model_id": "51f496aacf6d4e33ab678a8b88643aa3",
       "version_major": 2,
       "version_minor": 0
      },
      "text/plain": [
       "Validation: |          | 0/? [00:00<?, ?it/s]"
      ]
     },
     "metadata": {},
     "output_type": "display_data"
    },
    {
     "data": {
      "application/vnd.jupyter.widget-view+json": {
       "model_id": "ac5186cbff764d0c9b2c64b2fab7eb72",
       "version_major": 2,
       "version_minor": 0
      },
      "text/plain": [
       "Validation: |          | 0/? [00:00<?, ?it/s]"
      ]
     },
     "metadata": {},
     "output_type": "display_data"
    },
    {
     "data": {
      "application/vnd.jupyter.widget-view+json": {
       "model_id": "852379503e4a44e792fa41de440d28a4",
       "version_major": 2,
       "version_minor": 0
      },
      "text/plain": [
       "Validation: |          | 0/? [00:00<?, ?it/s]"
      ]
     },
     "metadata": {},
     "output_type": "display_data"
    },
    {
     "data": {
      "application/vnd.jupyter.widget-view+json": {
       "model_id": "c7b629f20ddf4f9cad3ff319685a25ea",
       "version_major": 2,
       "version_minor": 0
      },
      "text/plain": [
       "Validation: |          | 0/? [00:00<?, ?it/s]"
      ]
     },
     "metadata": {},
     "output_type": "display_data"
    },
    {
     "data": {
      "application/vnd.jupyter.widget-view+json": {
       "model_id": "08d7cd396d134eb4a055151f502507e3",
       "version_major": 2,
       "version_minor": 0
      },
      "text/plain": [
       "Validation: |          | 0/? [00:00<?, ?it/s]"
      ]
     },
     "metadata": {},
     "output_type": "display_data"
    },
    {
     "data": {
      "application/vnd.jupyter.widget-view+json": {
       "model_id": "fc8aff6316d44e09b48dd222759f3eb6",
       "version_major": 2,
       "version_minor": 0
      },
      "text/plain": [
       "Validation: |          | 0/? [00:00<?, ?it/s]"
      ]
     },
     "metadata": {},
     "output_type": "display_data"
    },
    {
     "data": {
      "application/vnd.jupyter.widget-view+json": {
       "model_id": "246e929bd8154d59a918460d184d3e3f",
       "version_major": 2,
       "version_minor": 0
      },
      "text/plain": [
       "Validation: |          | 0/? [00:00<?, ?it/s]"
      ]
     },
     "metadata": {},
     "output_type": "display_data"
    },
    {
     "data": {
      "application/vnd.jupyter.widget-view+json": {
       "model_id": "5c271d1754f846ed87b87a90a4d961b4",
       "version_major": 2,
       "version_minor": 0
      },
      "text/plain": [
       "Validation: |          | 0/? [00:00<?, ?it/s]"
      ]
     },
     "metadata": {},
     "output_type": "display_data"
    },
    {
     "data": {
      "application/vnd.jupyter.widget-view+json": {
       "model_id": "0bdbd144da01443eb287f9efd3bb888f",
       "version_major": 2,
       "version_minor": 0
      },
      "text/plain": [
       "Validation: |          | 0/? [00:00<?, ?it/s]"
      ]
     },
     "metadata": {},
     "output_type": "display_data"
    },
    {
     "data": {
      "application/vnd.jupyter.widget-view+json": {
       "model_id": "e1657c45766a400fbf4d7c296b3a8213",
       "version_major": 2,
       "version_minor": 0
      },
      "text/plain": [
       "Validation: |          | 0/? [00:00<?, ?it/s]"
      ]
     },
     "metadata": {},
     "output_type": "display_data"
    },
    {
     "data": {
      "application/vnd.jupyter.widget-view+json": {
       "model_id": "fedf04f3f6464156b94e46350bdaeeb6",
       "version_major": 2,
       "version_minor": 0
      },
      "text/plain": [
       "Validation: |          | 0/? [00:00<?, ?it/s]"
      ]
     },
     "metadata": {},
     "output_type": "display_data"
    },
    {
     "data": {
      "application/vnd.jupyter.widget-view+json": {
       "model_id": "8bc53b5e178c4778b2571e539bb2070b",
       "version_major": 2,
       "version_minor": 0
      },
      "text/plain": [
       "Validation: |          | 0/? [00:00<?, ?it/s]"
      ]
     },
     "metadata": {},
     "output_type": "display_data"
    },
    {
     "data": {
      "application/vnd.jupyter.widget-view+json": {
       "model_id": "53559a15d10144fdaf25f3d18275a59e",
       "version_major": 2,
       "version_minor": 0
      },
      "text/plain": [
       "Validation: |          | 0/? [00:00<?, ?it/s]"
      ]
     },
     "metadata": {},
     "output_type": "display_data"
    },
    {
     "data": {
      "application/vnd.jupyter.widget-view+json": {
       "model_id": "4f1054b16c224a6392beaf57899bb9b8",
       "version_major": 2,
       "version_minor": 0
      },
      "text/plain": [
       "Validation: |          | 0/? [00:00<?, ?it/s]"
      ]
     },
     "metadata": {},
     "output_type": "display_data"
    },
    {
     "data": {
      "application/vnd.jupyter.widget-view+json": {
       "model_id": "26a56d16560342799e71e40d2efc3803",
       "version_major": 2,
       "version_minor": 0
      },
      "text/plain": [
       "Validation: |          | 0/? [00:00<?, ?it/s]"
      ]
     },
     "metadata": {},
     "output_type": "display_data"
    },
    {
     "data": {
      "application/vnd.jupyter.widget-view+json": {
       "model_id": "702e3855413f4dab81b7d3b6568593f2",
       "version_major": 2,
       "version_minor": 0
      },
      "text/plain": [
       "Validation: |          | 0/? [00:00<?, ?it/s]"
      ]
     },
     "metadata": {},
     "output_type": "display_data"
    },
    {
     "data": {
      "application/vnd.jupyter.widget-view+json": {
       "model_id": "05dbc7e94be24c18be4e2e6ea44d3351",
       "version_major": 2,
       "version_minor": 0
      },
      "text/plain": [
       "Validation: |          | 0/? [00:00<?, ?it/s]"
      ]
     },
     "metadata": {},
     "output_type": "display_data"
    },
    {
     "data": {
      "application/vnd.jupyter.widget-view+json": {
       "model_id": "9ead6fc3656a42879d218c84439dc520",
       "version_major": 2,
       "version_minor": 0
      },
      "text/plain": [
       "Validation: |          | 0/? [00:00<?, ?it/s]"
      ]
     },
     "metadata": {},
     "output_type": "display_data"
    },
    {
     "data": {
      "application/vnd.jupyter.widget-view+json": {
       "model_id": "1a6b26b11ad349b6a2c6063f30fbc450",
       "version_major": 2,
       "version_minor": 0
      },
      "text/plain": [
       "Validation: |          | 0/? [00:00<?, ?it/s]"
      ]
     },
     "metadata": {},
     "output_type": "display_data"
    },
    {
     "data": {
      "application/vnd.jupyter.widget-view+json": {
       "model_id": "2299cf848ec747edbff22539cbdf12bd",
       "version_major": 2,
       "version_minor": 0
      },
      "text/plain": [
       "Validation: |          | 0/? [00:00<?, ?it/s]"
      ]
     },
     "metadata": {},
     "output_type": "display_data"
    },
    {
     "data": {
      "application/vnd.jupyter.widget-view+json": {
       "model_id": "62e28348415948ab8955cc3c056243b1",
       "version_major": 2,
       "version_minor": 0
      },
      "text/plain": [
       "Validation: |          | 0/? [00:00<?, ?it/s]"
      ]
     },
     "metadata": {},
     "output_type": "display_data"
    },
    {
     "data": {
      "application/vnd.jupyter.widget-view+json": {
       "model_id": "958e8d7a1bcb47e1a0dbbc5442ed4f33",
       "version_major": 2,
       "version_minor": 0
      },
      "text/plain": [
       "Validation: |          | 0/? [00:00<?, ?it/s]"
      ]
     },
     "metadata": {},
     "output_type": "display_data"
    },
    {
     "data": {
      "application/vnd.jupyter.widget-view+json": {
       "model_id": "97a7e300cd964c379d8010cfedea099b",
       "version_major": 2,
       "version_minor": 0
      },
      "text/plain": [
       "Validation: |          | 0/? [00:00<?, ?it/s]"
      ]
     },
     "metadata": {},
     "output_type": "display_data"
    },
    {
     "data": {
      "application/vnd.jupyter.widget-view+json": {
       "model_id": "d09b6b8136c24a3aa6e5f6f6ea929c4a",
       "version_major": 2,
       "version_minor": 0
      },
      "text/plain": [
       "Validation: |          | 0/? [00:00<?, ?it/s]"
      ]
     },
     "metadata": {},
     "output_type": "display_data"
    },
    {
     "data": {
      "application/vnd.jupyter.widget-view+json": {
       "model_id": "3121225a5f134cecbd2022977dc9cd71",
       "version_major": 2,
       "version_minor": 0
      },
      "text/plain": [
       "Validation: |          | 0/? [00:00<?, ?it/s]"
      ]
     },
     "metadata": {},
     "output_type": "display_data"
    },
    {
     "data": {
      "application/vnd.jupyter.widget-view+json": {
       "model_id": "3a03820ad3824588ad98aa92150c8f02",
       "version_major": 2,
       "version_minor": 0
      },
      "text/plain": [
       "Validation: |          | 0/? [00:00<?, ?it/s]"
      ]
     },
     "metadata": {},
     "output_type": "display_data"
    },
    {
     "data": {
      "application/vnd.jupyter.widget-view+json": {
       "model_id": "0d2d97a0781f48a59c1d6d7df90214f8",
       "version_major": 2,
       "version_minor": 0
      },
      "text/plain": [
       "Validation: |          | 0/? [00:00<?, ?it/s]"
      ]
     },
     "metadata": {},
     "output_type": "display_data"
    },
    {
     "data": {
      "application/vnd.jupyter.widget-view+json": {
       "model_id": "705160bccfaa41a488bceb2ace063d5d",
       "version_major": 2,
       "version_minor": 0
      },
      "text/plain": [
       "Validation: |          | 0/? [00:00<?, ?it/s]"
      ]
     },
     "metadata": {},
     "output_type": "display_data"
    },
    {
     "data": {
      "application/vnd.jupyter.widget-view+json": {
       "model_id": "0b6696e2d67c4ad6996461d6e13bbea8",
       "version_major": 2,
       "version_minor": 0
      },
      "text/plain": [
       "Validation: |          | 0/? [00:00<?, ?it/s]"
      ]
     },
     "metadata": {},
     "output_type": "display_data"
    },
    {
     "data": {
      "application/vnd.jupyter.widget-view+json": {
       "model_id": "1f999ff9b37c431885fab8d6e54ed54a",
       "version_major": 2,
       "version_minor": 0
      },
      "text/plain": [
       "Validation: |          | 0/? [00:00<?, ?it/s]"
      ]
     },
     "metadata": {},
     "output_type": "display_data"
    },
    {
     "data": {
      "application/vnd.jupyter.widget-view+json": {
       "model_id": "c0358b8773ae42d39d7555eac52e0bd3",
       "version_major": 2,
       "version_minor": 0
      },
      "text/plain": [
       "Validation: |          | 0/? [00:00<?, ?it/s]"
      ]
     },
     "metadata": {},
     "output_type": "display_data"
    },
    {
     "data": {
      "application/vnd.jupyter.widget-view+json": {
       "model_id": "b3dbca6c8f9b4059a70f3f1d5bbb60cf",
       "version_major": 2,
       "version_minor": 0
      },
      "text/plain": [
       "Validation: |          | 0/? [00:00<?, ?it/s]"
      ]
     },
     "metadata": {},
     "output_type": "display_data"
    },
    {
     "data": {
      "application/vnd.jupyter.widget-view+json": {
       "model_id": "226fb44dfee943b1a2b46d55c5436753",
       "version_major": 2,
       "version_minor": 0
      },
      "text/plain": [
       "Validation: |          | 0/? [00:00<?, ?it/s]"
      ]
     },
     "metadata": {},
     "output_type": "display_data"
    },
    {
     "data": {
      "application/vnd.jupyter.widget-view+json": {
       "model_id": "5eb5658b1a324c36babb588938181902",
       "version_major": 2,
       "version_minor": 0
      },
      "text/plain": [
       "Validation: |          | 0/? [00:00<?, ?it/s]"
      ]
     },
     "metadata": {},
     "output_type": "display_data"
    },
    {
     "data": {
      "application/vnd.jupyter.widget-view+json": {
       "model_id": "4e3adebb156d43649d28f0d2ddcb9067",
       "version_major": 2,
       "version_minor": 0
      },
      "text/plain": [
       "Validation: |          | 0/? [00:00<?, ?it/s]"
      ]
     },
     "metadata": {},
     "output_type": "display_data"
    },
    {
     "data": {
      "application/vnd.jupyter.widget-view+json": {
       "model_id": "0d2e52756f3a4dd797a80ed1b720845f",
       "version_major": 2,
       "version_minor": 0
      },
      "text/plain": [
       "Validation: |          | 0/? [00:00<?, ?it/s]"
      ]
     },
     "metadata": {},
     "output_type": "display_data"
    },
    {
     "data": {
      "application/vnd.jupyter.widget-view+json": {
       "model_id": "fe8a26a20b534e5eb75624341669847c",
       "version_major": 2,
       "version_minor": 0
      },
      "text/plain": [
       "Validation: |          | 0/? [00:00<?, ?it/s]"
      ]
     },
     "metadata": {},
     "output_type": "display_data"
    },
    {
     "data": {
      "application/vnd.jupyter.widget-view+json": {
       "model_id": "1bf8393d6e5642d9a7708e3db299cb30",
       "version_major": 2,
       "version_minor": 0
      },
      "text/plain": [
       "Validation: |          | 0/? [00:00<?, ?it/s]"
      ]
     },
     "metadata": {},
     "output_type": "display_data"
    },
    {
     "data": {
      "application/vnd.jupyter.widget-view+json": {
       "model_id": "ee720ef8600b4865a3e7e63b3d06c599",
       "version_major": 2,
       "version_minor": 0
      },
      "text/plain": [
       "Validation: |          | 0/? [00:00<?, ?it/s]"
      ]
     },
     "metadata": {},
     "output_type": "display_data"
    },
    {
     "data": {
      "application/vnd.jupyter.widget-view+json": {
       "model_id": "055a9f8420c049789b38f47ab33dd6bb",
       "version_major": 2,
       "version_minor": 0
      },
      "text/plain": [
       "Validation: |          | 0/? [00:00<?, ?it/s]"
      ]
     },
     "metadata": {},
     "output_type": "display_data"
    },
    {
     "data": {
      "application/vnd.jupyter.widget-view+json": {
       "model_id": "490e8ba1b26144089adedeec109c8ab7",
       "version_major": 2,
       "version_minor": 0
      },
      "text/plain": [
       "Validation: |          | 0/? [00:00<?, ?it/s]"
      ]
     },
     "metadata": {},
     "output_type": "display_data"
    },
    {
     "data": {
      "application/vnd.jupyter.widget-view+json": {
       "model_id": "f360facb8be342b3acf6ec82b16f0554",
       "version_major": 2,
       "version_minor": 0
      },
      "text/plain": [
       "Validation: |          | 0/? [00:00<?, ?it/s]"
      ]
     },
     "metadata": {},
     "output_type": "display_data"
    },
    {
     "data": {
      "application/vnd.jupyter.widget-view+json": {
       "model_id": "abf2d6c15f084a9693733d7c93cbc991",
       "version_major": 2,
       "version_minor": 0
      },
      "text/plain": [
       "Validation: |          | 0/? [00:00<?, ?it/s]"
      ]
     },
     "metadata": {},
     "output_type": "display_data"
    },
    {
     "data": {
      "application/vnd.jupyter.widget-view+json": {
       "model_id": "3ec1ae85c0254a7eb5bc06a1c76545dd",
       "version_major": 2,
       "version_minor": 0
      },
      "text/plain": [
       "Validation: |          | 0/? [00:00<?, ?it/s]"
      ]
     },
     "metadata": {},
     "output_type": "display_data"
    },
    {
     "data": {
      "application/vnd.jupyter.widget-view+json": {
       "model_id": "c87da388486d437399343ebda26d2a30",
       "version_major": 2,
       "version_minor": 0
      },
      "text/plain": [
       "Validation: |          | 0/? [00:00<?, ?it/s]"
      ]
     },
     "metadata": {},
     "output_type": "display_data"
    },
    {
     "data": {
      "application/vnd.jupyter.widget-view+json": {
       "model_id": "eb55597416124df6a3b6edb9a6a0f8e2",
       "version_major": 2,
       "version_minor": 0
      },
      "text/plain": [
       "Validation: |          | 0/? [00:00<?, ?it/s]"
      ]
     },
     "metadata": {},
     "output_type": "display_data"
    },
    {
     "data": {
      "application/vnd.jupyter.widget-view+json": {
       "model_id": "15eceb13a2a34a12acfe574cbc5ca29d",
       "version_major": 2,
       "version_minor": 0
      },
      "text/plain": [
       "Validation: |          | 0/? [00:00<?, ?it/s]"
      ]
     },
     "metadata": {},
     "output_type": "display_data"
    },
    {
     "data": {
      "application/vnd.jupyter.widget-view+json": {
       "model_id": "f7cad9ef98e1439dbbd120cdb5498303",
       "version_major": 2,
       "version_minor": 0
      },
      "text/plain": [
       "Validation: |          | 0/? [00:00<?, ?it/s]"
      ]
     },
     "metadata": {},
     "output_type": "display_data"
    },
    {
     "data": {
      "application/vnd.jupyter.widget-view+json": {
       "model_id": "ab316a98fd5044d68a255c20d8db987b",
       "version_major": 2,
       "version_minor": 0
      },
      "text/plain": [
       "Validation: |          | 0/? [00:00<?, ?it/s]"
      ]
     },
     "metadata": {},
     "output_type": "display_data"
    },
    {
     "data": {
      "application/vnd.jupyter.widget-view+json": {
       "model_id": "0a73f5ac19e94c549dd06103283c23ae",
       "version_major": 2,
       "version_minor": 0
      },
      "text/plain": [
       "Validation: |          | 0/? [00:00<?, ?it/s]"
      ]
     },
     "metadata": {},
     "output_type": "display_data"
    },
    {
     "data": {
      "application/vnd.jupyter.widget-view+json": {
       "model_id": "85cde4a1d8f24bcc888a80c5176a1ac8",
       "version_major": 2,
       "version_minor": 0
      },
      "text/plain": [
       "Validation: |          | 0/? [00:00<?, ?it/s]"
      ]
     },
     "metadata": {},
     "output_type": "display_data"
    },
    {
     "data": {
      "application/vnd.jupyter.widget-view+json": {
       "model_id": "4fbc2eb34cf84febab7e8c18c13b2f53",
       "version_major": 2,
       "version_minor": 0
      },
      "text/plain": [
       "Validation: |          | 0/? [00:00<?, ?it/s]"
      ]
     },
     "metadata": {},
     "output_type": "display_data"
    },
    {
     "data": {
      "application/vnd.jupyter.widget-view+json": {
       "model_id": "1e9afef6e3834c8d87af7dbcb311441b",
       "version_major": 2,
       "version_minor": 0
      },
      "text/plain": [
       "Validation: |          | 0/? [00:00<?, ?it/s]"
      ]
     },
     "metadata": {},
     "output_type": "display_data"
    },
    {
     "data": {
      "application/vnd.jupyter.widget-view+json": {
       "model_id": "721018aef0a74e0db05f3c8f64d75668",
       "version_major": 2,
       "version_minor": 0
      },
      "text/plain": [
       "Validation: |          | 0/? [00:00<?, ?it/s]"
      ]
     },
     "metadata": {},
     "output_type": "display_data"
    },
    {
     "data": {
      "application/vnd.jupyter.widget-view+json": {
       "model_id": "27daf4977a574a63805958cc2476003c",
       "version_major": 2,
       "version_minor": 0
      },
      "text/plain": [
       "Validation: |          | 0/? [00:00<?, ?it/s]"
      ]
     },
     "metadata": {},
     "output_type": "display_data"
    },
    {
     "data": {
      "application/vnd.jupyter.widget-view+json": {
       "model_id": "4d17504584a14785a71437a648446f9a",
       "version_major": 2,
       "version_minor": 0
      },
      "text/plain": [
       "Validation: |          | 0/? [00:00<?, ?it/s]"
      ]
     },
     "metadata": {},
     "output_type": "display_data"
    },
    {
     "data": {
      "application/vnd.jupyter.widget-view+json": {
       "model_id": "2e533fc5dfe7408cba0fbb2ab6b170b9",
       "version_major": 2,
       "version_minor": 0
      },
      "text/plain": [
       "Validation: |          | 0/? [00:00<?, ?it/s]"
      ]
     },
     "metadata": {},
     "output_type": "display_data"
    },
    {
     "data": {
      "application/vnd.jupyter.widget-view+json": {
       "model_id": "e8f43189a2f74c44a6256fbff2918933",
       "version_major": 2,
       "version_minor": 0
      },
      "text/plain": [
       "Validation: |          | 0/? [00:00<?, ?it/s]"
      ]
     },
     "metadata": {},
     "output_type": "display_data"
    },
    {
     "data": {
      "application/vnd.jupyter.widget-view+json": {
       "model_id": "3c910d73596e4deaa94f92584ba68918",
       "version_major": 2,
       "version_minor": 0
      },
      "text/plain": [
       "Validation: |          | 0/? [00:00<?, ?it/s]"
      ]
     },
     "metadata": {},
     "output_type": "display_data"
    },
    {
     "data": {
      "application/vnd.jupyter.widget-view+json": {
       "model_id": "a062e484bf6343bdaaa451fc02b93ff2",
       "version_major": 2,
       "version_minor": 0
      },
      "text/plain": [
       "Validation: |          | 0/? [00:00<?, ?it/s]"
      ]
     },
     "metadata": {},
     "output_type": "display_data"
    },
    {
     "data": {
      "application/vnd.jupyter.widget-view+json": {
       "model_id": "67d82b89bb1f42c2bed452bc0ec00d04",
       "version_major": 2,
       "version_minor": 0
      },
      "text/plain": [
       "Validation: |          | 0/? [00:00<?, ?it/s]"
      ]
     },
     "metadata": {},
     "output_type": "display_data"
    },
    {
     "data": {
      "application/vnd.jupyter.widget-view+json": {
       "model_id": "66f48fbddc0440d0935593ecc994c847",
       "version_major": 2,
       "version_minor": 0
      },
      "text/plain": [
       "Validation: |          | 0/? [00:00<?, ?it/s]"
      ]
     },
     "metadata": {},
     "output_type": "display_data"
    },
    {
     "data": {
      "application/vnd.jupyter.widget-view+json": {
       "model_id": "8235579313de4756b8c7551cb87d4627",
       "version_major": 2,
       "version_minor": 0
      },
      "text/plain": [
       "Validation: |          | 0/? [00:00<?, ?it/s]"
      ]
     },
     "metadata": {},
     "output_type": "display_data"
    },
    {
     "data": {
      "application/vnd.jupyter.widget-view+json": {
       "model_id": "7164a46b83444e6ebec10c7fa2c04ca6",
       "version_major": 2,
       "version_minor": 0
      },
      "text/plain": [
       "Validation: |          | 0/? [00:00<?, ?it/s]"
      ]
     },
     "metadata": {},
     "output_type": "display_data"
    },
    {
     "data": {
      "application/vnd.jupyter.widget-view+json": {
       "model_id": "d704cb75bed742a5abc47d847eed0075",
       "version_major": 2,
       "version_minor": 0
      },
      "text/plain": [
       "Validation: |          | 0/? [00:00<?, ?it/s]"
      ]
     },
     "metadata": {},
     "output_type": "display_data"
    },
    {
     "data": {
      "application/vnd.jupyter.widget-view+json": {
       "model_id": "010719b02d7c4c04b5af1e19ab90dd99",
       "version_major": 2,
       "version_minor": 0
      },
      "text/plain": [
       "Validation: |          | 0/? [00:00<?, ?it/s]"
      ]
     },
     "metadata": {},
     "output_type": "display_data"
    },
    {
     "data": {
      "application/vnd.jupyter.widget-view+json": {
       "model_id": "8526aea389044e4ca077833162b2fd27",
       "version_major": 2,
       "version_minor": 0
      },
      "text/plain": [
       "Validation: |          | 0/? [00:00<?, ?it/s]"
      ]
     },
     "metadata": {},
     "output_type": "display_data"
    },
    {
     "data": {
      "application/vnd.jupyter.widget-view+json": {
       "model_id": "c43ac9410fd449029b6b223518c85acc",
       "version_major": 2,
       "version_minor": 0
      },
      "text/plain": [
       "Validation: |          | 0/? [00:00<?, ?it/s]"
      ]
     },
     "metadata": {},
     "output_type": "display_data"
    },
    {
     "data": {
      "application/vnd.jupyter.widget-view+json": {
       "model_id": "8a7d59d5cf77439583a0e4c88c516e41",
       "version_major": 2,
       "version_minor": 0
      },
      "text/plain": [
       "Validation: |          | 0/? [00:00<?, ?it/s]"
      ]
     },
     "metadata": {},
     "output_type": "display_data"
    },
    {
     "data": {
      "application/vnd.jupyter.widget-view+json": {
       "model_id": "dea62ecc671b4efe9d6c7e49ceeeba92",
       "version_major": 2,
       "version_minor": 0
      },
      "text/plain": [
       "Validation: |          | 0/? [00:00<?, ?it/s]"
      ]
     },
     "metadata": {},
     "output_type": "display_data"
    },
    {
     "data": {
      "application/vnd.jupyter.widget-view+json": {
       "model_id": "e3e36833708143618caba2536b85871c",
       "version_major": 2,
       "version_minor": 0
      },
      "text/plain": [
       "Validation: |          | 0/? [00:00<?, ?it/s]"
      ]
     },
     "metadata": {},
     "output_type": "display_data"
    },
    {
     "data": {
      "application/vnd.jupyter.widget-view+json": {
       "model_id": "2b59ef3d95ca43bea15155e8e3af1f76",
       "version_major": 2,
       "version_minor": 0
      },
      "text/plain": [
       "Validation: |          | 0/? [00:00<?, ?it/s]"
      ]
     },
     "metadata": {},
     "output_type": "display_data"
    },
    {
     "data": {
      "application/vnd.jupyter.widget-view+json": {
       "model_id": "769536cc7b8548fcbd065c073f755764",
       "version_major": 2,
       "version_minor": 0
      },
      "text/plain": [
       "Validation: |          | 0/? [00:00<?, ?it/s]"
      ]
     },
     "metadata": {},
     "output_type": "display_data"
    },
    {
     "data": {
      "application/vnd.jupyter.widget-view+json": {
       "model_id": "0ce71fede28a49cba2f740d8ad5486ea",
       "version_major": 2,
       "version_minor": 0
      },
      "text/plain": [
       "Validation: |          | 0/? [00:00<?, ?it/s]"
      ]
     },
     "metadata": {},
     "output_type": "display_data"
    },
    {
     "data": {
      "application/vnd.jupyter.widget-view+json": {
       "model_id": "bd4114edb99b42bea6244b13c8903be7",
       "version_major": 2,
       "version_minor": 0
      },
      "text/plain": [
       "Validation: |          | 0/? [00:00<?, ?it/s]"
      ]
     },
     "metadata": {},
     "output_type": "display_data"
    },
    {
     "data": {
      "application/vnd.jupyter.widget-view+json": {
       "model_id": "c7594686facd4572812394e405d8b6e8",
       "version_major": 2,
       "version_minor": 0
      },
      "text/plain": [
       "Validation: |          | 0/? [00:00<?, ?it/s]"
      ]
     },
     "metadata": {},
     "output_type": "display_data"
    },
    {
     "data": {
      "application/vnd.jupyter.widget-view+json": {
       "model_id": "4335a458fe59443a99b8975ba1f359a1",
       "version_major": 2,
       "version_minor": 0
      },
      "text/plain": [
       "Validation: |          | 0/? [00:00<?, ?it/s]"
      ]
     },
     "metadata": {},
     "output_type": "display_data"
    },
    {
     "data": {
      "application/vnd.jupyter.widget-view+json": {
       "model_id": "f2606092b30146d881c8f3cf2bce1d25",
       "version_major": 2,
       "version_minor": 0
      },
      "text/plain": [
       "Validation: |          | 0/? [00:00<?, ?it/s]"
      ]
     },
     "metadata": {},
     "output_type": "display_data"
    },
    {
     "data": {
      "application/vnd.jupyter.widget-view+json": {
       "model_id": "3078b304cd8742ad8f74a871054a55b1",
       "version_major": 2,
       "version_minor": 0
      },
      "text/plain": [
       "Validation: |          | 0/? [00:00<?, ?it/s]"
      ]
     },
     "metadata": {},
     "output_type": "display_data"
    },
    {
     "data": {
      "application/vnd.jupyter.widget-view+json": {
       "model_id": "6856a96e3fb54d7fb95b5367580841d2",
       "version_major": 2,
       "version_minor": 0
      },
      "text/plain": [
       "Validation: |          | 0/? [00:00<?, ?it/s]"
      ]
     },
     "metadata": {},
     "output_type": "display_data"
    },
    {
     "data": {
      "application/vnd.jupyter.widget-view+json": {
       "model_id": "485fc0475cd942ce80a6b09d9c800d4d",
       "version_major": 2,
       "version_minor": 0
      },
      "text/plain": [
       "Validation: |          | 0/? [00:00<?, ?it/s]"
      ]
     },
     "metadata": {},
     "output_type": "display_data"
    },
    {
     "data": {
      "application/vnd.jupyter.widget-view+json": {
       "model_id": "40d5177fbd2749a7a7d3a5464d7c79fd",
       "version_major": 2,
       "version_minor": 0
      },
      "text/plain": [
       "Validation: |          | 0/? [00:00<?, ?it/s]"
      ]
     },
     "metadata": {},
     "output_type": "display_data"
    },
    {
     "data": {
      "application/vnd.jupyter.widget-view+json": {
       "model_id": "17b39e085f7340e98a3193bb288d1326",
       "version_major": 2,
       "version_minor": 0
      },
      "text/plain": [
       "Validation: |          | 0/? [00:00<?, ?it/s]"
      ]
     },
     "metadata": {},
     "output_type": "display_data"
    },
    {
     "data": {
      "application/vnd.jupyter.widget-view+json": {
       "model_id": "53e9d2126b334ec0973c2d12ccf36f7c",
       "version_major": 2,
       "version_minor": 0
      },
      "text/plain": [
       "Validation: |          | 0/? [00:00<?, ?it/s]"
      ]
     },
     "metadata": {},
     "output_type": "display_data"
    },
    {
     "data": {
      "application/vnd.jupyter.widget-view+json": {
       "model_id": "07751ff5a4514819a8ea30940eac6fc9",
       "version_major": 2,
       "version_minor": 0
      },
      "text/plain": [
       "Validation: |          | 0/? [00:00<?, ?it/s]"
      ]
     },
     "metadata": {},
     "output_type": "display_data"
    },
    {
     "data": {
      "application/vnd.jupyter.widget-view+json": {
       "model_id": "76e500639ee9473dbcf112d039d68d8a",
       "version_major": 2,
       "version_minor": 0
      },
      "text/plain": [
       "Validation: |          | 0/? [00:00<?, ?it/s]"
      ]
     },
     "metadata": {},
     "output_type": "display_data"
    },
    {
     "data": {
      "application/vnd.jupyter.widget-view+json": {
       "model_id": "4083b66f669442589ffbbf3138f6e0b7",
       "version_major": 2,
       "version_minor": 0
      },
      "text/plain": [
       "Validation: |          | 0/? [00:00<?, ?it/s]"
      ]
     },
     "metadata": {},
     "output_type": "display_data"
    },
    {
     "data": {
      "application/vnd.jupyter.widget-view+json": {
       "model_id": "35566559d2bd42dea5cfb0d837562fa4",
       "version_major": 2,
       "version_minor": 0
      },
      "text/plain": [
       "Validation: |          | 0/? [00:00<?, ?it/s]"
      ]
     },
     "metadata": {},
     "output_type": "display_data"
    },
    {
     "data": {
      "application/vnd.jupyter.widget-view+json": {
       "model_id": "16782caeab854ddbba4b7c93f4226b74",
       "version_major": 2,
       "version_minor": 0
      },
      "text/plain": [
       "Validation: |          | 0/? [00:00<?, ?it/s]"
      ]
     },
     "metadata": {},
     "output_type": "display_data"
    },
    {
     "data": {
      "application/vnd.jupyter.widget-view+json": {
       "model_id": "4354cd020ba04e4a87c414be7b6e0f9d",
       "version_major": 2,
       "version_minor": 0
      },
      "text/plain": [
       "Validation: |          | 0/? [00:00<?, ?it/s]"
      ]
     },
     "metadata": {},
     "output_type": "display_data"
    },
    {
     "data": {
      "application/vnd.jupyter.widget-view+json": {
       "model_id": "5f7061d6c1be4f8a815c5e6bdbf52e2c",
       "version_major": 2,
       "version_minor": 0
      },
      "text/plain": [
       "Validation: |          | 0/? [00:00<?, ?it/s]"
      ]
     },
     "metadata": {},
     "output_type": "display_data"
    },
    {
     "data": {
      "application/vnd.jupyter.widget-view+json": {
       "model_id": "fcb4b973080f4895bc9550d3f1fa8d68",
       "version_major": 2,
       "version_minor": 0
      },
      "text/plain": [
       "Validation: |          | 0/? [00:00<?, ?it/s]"
      ]
     },
     "metadata": {},
     "output_type": "display_data"
    },
    {
     "data": {
      "application/vnd.jupyter.widget-view+json": {
       "model_id": "50365fd5fe744c5a9cb527415cf584c0",
       "version_major": 2,
       "version_minor": 0
      },
      "text/plain": [
       "Validation: |          | 0/? [00:00<?, ?it/s]"
      ]
     },
     "metadata": {},
     "output_type": "display_data"
    },
    {
     "data": {
      "application/vnd.jupyter.widget-view+json": {
       "model_id": "31f90ab6cf6046768b19c765179a79fa",
       "version_major": 2,
       "version_minor": 0
      },
      "text/plain": [
       "Validation: |          | 0/? [00:00<?, ?it/s]"
      ]
     },
     "metadata": {},
     "output_type": "display_data"
    },
    {
     "data": {
      "application/vnd.jupyter.widget-view+json": {
       "model_id": "aa2ceb6af80f40078102707515b262f1",
       "version_major": 2,
       "version_minor": 0
      },
      "text/plain": [
       "Validation: |          | 0/? [00:00<?, ?it/s]"
      ]
     },
     "metadata": {},
     "output_type": "display_data"
    },
    {
     "data": {
      "application/vnd.jupyter.widget-view+json": {
       "model_id": "21d157f41e00467ab760d27d08d50225",
       "version_major": 2,
       "version_minor": 0
      },
      "text/plain": [
       "Validation: |          | 0/? [00:00<?, ?it/s]"
      ]
     },
     "metadata": {},
     "output_type": "display_data"
    },
    {
     "data": {
      "application/vnd.jupyter.widget-view+json": {
       "model_id": "1b122bbea68442cbb2ed3233b0581895",
       "version_major": 2,
       "version_minor": 0
      },
      "text/plain": [
       "Validation: |          | 0/? [00:00<?, ?it/s]"
      ]
     },
     "metadata": {},
     "output_type": "display_data"
    },
    {
     "data": {
      "application/vnd.jupyter.widget-view+json": {
       "model_id": "452e0ba9801c425ca1129310358aedf1",
       "version_major": 2,
       "version_minor": 0
      },
      "text/plain": [
       "Validation: |          | 0/? [00:00<?, ?it/s]"
      ]
     },
     "metadata": {},
     "output_type": "display_data"
    },
    {
     "data": {
      "application/vnd.jupyter.widget-view+json": {
       "model_id": "d8edbfe5ae0b440f8b00999289635ff9",
       "version_major": 2,
       "version_minor": 0
      },
      "text/plain": [
       "Validation: |          | 0/? [00:00<?, ?it/s]"
      ]
     },
     "metadata": {},
     "output_type": "display_data"
    },
    {
     "data": {
      "application/vnd.jupyter.widget-view+json": {
       "model_id": "a93b999c6264493e8261275c764adf03",
       "version_major": 2,
       "version_minor": 0
      },
      "text/plain": [
       "Validation: |          | 0/? [00:00<?, ?it/s]"
      ]
     },
     "metadata": {},
     "output_type": "display_data"
    },
    {
     "data": {
      "application/vnd.jupyter.widget-view+json": {
       "model_id": "ccfc5d375cc94f3b8cb6c040a8265fe7",
       "version_major": 2,
       "version_minor": 0
      },
      "text/plain": [
       "Validation: |          | 0/? [00:00<?, ?it/s]"
      ]
     },
     "metadata": {},
     "output_type": "display_data"
    },
    {
     "data": {
      "application/vnd.jupyter.widget-view+json": {
       "model_id": "744ff7b5db4a4c848f0a6c20b5b63e56",
       "version_major": 2,
       "version_minor": 0
      },
      "text/plain": [
       "Validation: |          | 0/? [00:00<?, ?it/s]"
      ]
     },
     "metadata": {},
     "output_type": "display_data"
    },
    {
     "data": {
      "application/vnd.jupyter.widget-view+json": {
       "model_id": "cb5c57f241c84632ba3af8713c7e79ed",
       "version_major": 2,
       "version_minor": 0
      },
      "text/plain": [
       "Validation: |          | 0/? [00:00<?, ?it/s]"
      ]
     },
     "metadata": {},
     "output_type": "display_data"
    },
    {
     "data": {
      "application/vnd.jupyter.widget-view+json": {
       "model_id": "f36e88cb3f6841e78ff884b925ee837a",
       "version_major": 2,
       "version_minor": 0
      },
      "text/plain": [
       "Validation: |          | 0/? [00:00<?, ?it/s]"
      ]
     },
     "metadata": {},
     "output_type": "display_data"
    },
    {
     "data": {
      "application/vnd.jupyter.widget-view+json": {
       "model_id": "9efc10baf2934f8e81964c6d74fd8eff",
       "version_major": 2,
       "version_minor": 0
      },
      "text/plain": [
       "Validation: |          | 0/? [00:00<?, ?it/s]"
      ]
     },
     "metadata": {},
     "output_type": "display_data"
    },
    {
     "data": {
      "application/vnd.jupyter.widget-view+json": {
       "model_id": "085719ed3fb6477e908fe88dcf52ef95",
       "version_major": 2,
       "version_minor": 0
      },
      "text/plain": [
       "Validation: |          | 0/? [00:00<?, ?it/s]"
      ]
     },
     "metadata": {},
     "output_type": "display_data"
    },
    {
     "data": {
      "application/vnd.jupyter.widget-view+json": {
       "model_id": "0d5fa0a6e0ff4066b758fb571eebfe0b",
       "version_major": 2,
       "version_minor": 0
      },
      "text/plain": [
       "Validation: |          | 0/? [00:00<?, ?it/s]"
      ]
     },
     "metadata": {},
     "output_type": "display_data"
    },
    {
     "data": {
      "application/vnd.jupyter.widget-view+json": {
       "model_id": "ebd0c2f0a6b746eab52cca72016849f0",
       "version_major": 2,
       "version_minor": 0
      },
      "text/plain": [
       "Validation: |          | 0/? [00:00<?, ?it/s]"
      ]
     },
     "metadata": {},
     "output_type": "display_data"
    },
    {
     "data": {
      "application/vnd.jupyter.widget-view+json": {
       "model_id": "c3fbb19cb5fd45b9b7d7847cbd2f7159",
       "version_major": 2,
       "version_minor": 0
      },
      "text/plain": [
       "Validation: |          | 0/? [00:00<?, ?it/s]"
      ]
     },
     "metadata": {},
     "output_type": "display_data"
    },
    {
     "data": {
      "application/vnd.jupyter.widget-view+json": {
       "model_id": "9f51bdeee529459096f5a52e6e0a2b83",
       "version_major": 2,
       "version_minor": 0
      },
      "text/plain": [
       "Validation: |          | 0/? [00:00<?, ?it/s]"
      ]
     },
     "metadata": {},
     "output_type": "display_data"
    },
    {
     "data": {
      "application/vnd.jupyter.widget-view+json": {
       "model_id": "88dcf53ee3d04b208296481b42188ce1",
       "version_major": 2,
       "version_minor": 0
      },
      "text/plain": [
       "Validation: |          | 0/? [00:00<?, ?it/s]"
      ]
     },
     "metadata": {},
     "output_type": "display_data"
    },
    {
     "data": {
      "application/vnd.jupyter.widget-view+json": {
       "model_id": "a9ecb6c3beea4b42b798845816fc7afb",
       "version_major": 2,
       "version_minor": 0
      },
      "text/plain": [
       "Validation: |          | 0/? [00:00<?, ?it/s]"
      ]
     },
     "metadata": {},
     "output_type": "display_data"
    },
    {
     "data": {
      "application/vnd.jupyter.widget-view+json": {
       "model_id": "8cefe065bc434064aa0b92cfb236d27f",
       "version_major": 2,
       "version_minor": 0
      },
      "text/plain": [
       "Validation: |          | 0/? [00:00<?, ?it/s]"
      ]
     },
     "metadata": {},
     "output_type": "display_data"
    },
    {
     "data": {
      "application/vnd.jupyter.widget-view+json": {
       "model_id": "12ef8bcea2ef44b69858d4f92c3bb52f",
       "version_major": 2,
       "version_minor": 0
      },
      "text/plain": [
       "Validation: |          | 0/? [00:00<?, ?it/s]"
      ]
     },
     "metadata": {},
     "output_type": "display_data"
    },
    {
     "data": {
      "application/vnd.jupyter.widget-view+json": {
       "model_id": "6e39e7df6afa4fdb8cde867a35d98d40",
       "version_major": 2,
       "version_minor": 0
      },
      "text/plain": [
       "Validation: |          | 0/? [00:00<?, ?it/s]"
      ]
     },
     "metadata": {},
     "output_type": "display_data"
    },
    {
     "data": {
      "application/vnd.jupyter.widget-view+json": {
       "model_id": "7a3a0bff77bc4790a38f57b9e648a3cd",
       "version_major": 2,
       "version_minor": 0
      },
      "text/plain": [
       "Validation: |          | 0/? [00:00<?, ?it/s]"
      ]
     },
     "metadata": {},
     "output_type": "display_data"
    },
    {
     "data": {
      "application/vnd.jupyter.widget-view+json": {
       "model_id": "c46abd3971304177b028d6abedc88cb3",
       "version_major": 2,
       "version_minor": 0
      },
      "text/plain": [
       "Validation: |          | 0/? [00:00<?, ?it/s]"
      ]
     },
     "metadata": {},
     "output_type": "display_data"
    },
    {
     "data": {
      "application/vnd.jupyter.widget-view+json": {
       "model_id": "f775d86af5f04b99aa179b3a83d1f6aa",
       "version_major": 2,
       "version_minor": 0
      },
      "text/plain": [
       "Validation: |          | 0/? [00:00<?, ?it/s]"
      ]
     },
     "metadata": {},
     "output_type": "display_data"
    },
    {
     "data": {
      "application/vnd.jupyter.widget-view+json": {
       "model_id": "9d358fe995da4cddabda2e81622098a2",
       "version_major": 2,
       "version_minor": 0
      },
      "text/plain": [
       "Validation: |          | 0/? [00:00<?, ?it/s]"
      ]
     },
     "metadata": {},
     "output_type": "display_data"
    },
    {
     "data": {
      "application/vnd.jupyter.widget-view+json": {
       "model_id": "8273c761cac243fdad4fb80eec27ea09",
       "version_major": 2,
       "version_minor": 0
      },
      "text/plain": [
       "Validation: |          | 0/? [00:00<?, ?it/s]"
      ]
     },
     "metadata": {},
     "output_type": "display_data"
    },
    {
     "data": {
      "application/vnd.jupyter.widget-view+json": {
       "model_id": "a9a9902f9a6f46fc988809451561abd5",
       "version_major": 2,
       "version_minor": 0
      },
      "text/plain": [
       "Validation: |          | 0/? [00:00<?, ?it/s]"
      ]
     },
     "metadata": {},
     "output_type": "display_data"
    },
    {
     "data": {
      "application/vnd.jupyter.widget-view+json": {
       "model_id": "fb02507b12eb4ed9bdaeaf1bb19c69c7",
       "version_major": 2,
       "version_minor": 0
      },
      "text/plain": [
       "Validation: |          | 0/? [00:00<?, ?it/s]"
      ]
     },
     "metadata": {},
     "output_type": "display_data"
    },
    {
     "data": {
      "application/vnd.jupyter.widget-view+json": {
       "model_id": "b2668283f2794deea53422700ef2a174",
       "version_major": 2,
       "version_minor": 0
      },
      "text/plain": [
       "Validation: |          | 0/? [00:00<?, ?it/s]"
      ]
     },
     "metadata": {},
     "output_type": "display_data"
    },
    {
     "data": {
      "application/vnd.jupyter.widget-view+json": {
       "model_id": "1d735b223062416bbd3a33e3d6b969c0",
       "version_major": 2,
       "version_minor": 0
      },
      "text/plain": [
       "Validation: |          | 0/? [00:00<?, ?it/s]"
      ]
     },
     "metadata": {},
     "output_type": "display_data"
    },
    {
     "data": {
      "application/vnd.jupyter.widget-view+json": {
       "model_id": "184ce69e9b594eb8849944727d8f1c41",
       "version_major": 2,
       "version_minor": 0
      },
      "text/plain": [
       "Validation: |          | 0/? [00:00<?, ?it/s]"
      ]
     },
     "metadata": {},
     "output_type": "display_data"
    },
    {
     "data": {
      "application/vnd.jupyter.widget-view+json": {
       "model_id": "0209c7c2e7224247a35604ec56627ca9",
       "version_major": 2,
       "version_minor": 0
      },
      "text/plain": [
       "Validation: |          | 0/? [00:00<?, ?it/s]"
      ]
     },
     "metadata": {},
     "output_type": "display_data"
    },
    {
     "data": {
      "application/vnd.jupyter.widget-view+json": {
       "model_id": "7384b1d5414c4126a975bb846eb5b732",
       "version_major": 2,
       "version_minor": 0
      },
      "text/plain": [
       "Validation: |          | 0/? [00:00<?, ?it/s]"
      ]
     },
     "metadata": {},
     "output_type": "display_data"
    },
    {
     "data": {
      "application/vnd.jupyter.widget-view+json": {
       "model_id": "6877cc9fd61d4f8d82e92d7e62f2eb67",
       "version_major": 2,
       "version_minor": 0
      },
      "text/plain": [
       "Validation: |          | 0/? [00:00<?, ?it/s]"
      ]
     },
     "metadata": {},
     "output_type": "display_data"
    },
    {
     "data": {
      "application/vnd.jupyter.widget-view+json": {
       "model_id": "c671cf38433642bc83da57bc19758344",
       "version_major": 2,
       "version_minor": 0
      },
      "text/plain": [
       "Validation: |          | 0/? [00:00<?, ?it/s]"
      ]
     },
     "metadata": {},
     "output_type": "display_data"
    },
    {
     "data": {
      "application/vnd.jupyter.widget-view+json": {
       "model_id": "ee9208b09b524f66b562d8ca9d20574a",
       "version_major": 2,
       "version_minor": 0
      },
      "text/plain": [
       "Validation: |          | 0/? [00:00<?, ?it/s]"
      ]
     },
     "metadata": {},
     "output_type": "display_data"
    },
    {
     "data": {
      "application/vnd.jupyter.widget-view+json": {
       "model_id": "413486a04b1b4ac4a10a65f11307eb57",
       "version_major": 2,
       "version_minor": 0
      },
      "text/plain": [
       "Validation: |          | 0/? [00:00<?, ?it/s]"
      ]
     },
     "metadata": {},
     "output_type": "display_data"
    },
    {
     "data": {
      "application/vnd.jupyter.widget-view+json": {
       "model_id": "5c9e0f61e5ff4f81bb37329d2adbf4e7",
       "version_major": 2,
       "version_minor": 0
      },
      "text/plain": [
       "Validation: |          | 0/? [00:00<?, ?it/s]"
      ]
     },
     "metadata": {},
     "output_type": "display_data"
    },
    {
     "data": {
      "application/vnd.jupyter.widget-view+json": {
       "model_id": "f1b9035fdf644bf390ae7dacf9dc196f",
       "version_major": 2,
       "version_minor": 0
      },
      "text/plain": [
       "Validation: |          | 0/? [00:00<?, ?it/s]"
      ]
     },
     "metadata": {},
     "output_type": "display_data"
    },
    {
     "data": {
      "application/vnd.jupyter.widget-view+json": {
       "model_id": "1e7f015fa6c949408846dba307d91eb6",
       "version_major": 2,
       "version_minor": 0
      },
      "text/plain": [
       "Validation: |          | 0/? [00:00<?, ?it/s]"
      ]
     },
     "metadata": {},
     "output_type": "display_data"
    },
    {
     "data": {
      "application/vnd.jupyter.widget-view+json": {
       "model_id": "3c83161f4ca8415a944003173d2f6a8b",
       "version_major": 2,
       "version_minor": 0
      },
      "text/plain": [
       "Validation: |          | 0/? [00:00<?, ?it/s]"
      ]
     },
     "metadata": {},
     "output_type": "display_data"
    },
    {
     "data": {
      "application/vnd.jupyter.widget-view+json": {
       "model_id": "03adfaa3292a498db65226ebc91a54b5",
       "version_major": 2,
       "version_minor": 0
      },
      "text/plain": [
       "Validation: |          | 0/? [00:00<?, ?it/s]"
      ]
     },
     "metadata": {},
     "output_type": "display_data"
    },
    {
     "data": {
      "application/vnd.jupyter.widget-view+json": {
       "model_id": "76472ebbdcf3431dba0ade0f826284e1",
       "version_major": 2,
       "version_minor": 0
      },
      "text/plain": [
       "Validation: |          | 0/? [00:00<?, ?it/s]"
      ]
     },
     "metadata": {},
     "output_type": "display_data"
    },
    {
     "data": {
      "application/vnd.jupyter.widget-view+json": {
       "model_id": "dfe59af7f24c485592450a795b2db6d9",
       "version_major": 2,
       "version_minor": 0
      },
      "text/plain": [
       "Validation: |          | 0/? [00:00<?, ?it/s]"
      ]
     },
     "metadata": {},
     "output_type": "display_data"
    },
    {
     "data": {
      "application/vnd.jupyter.widget-view+json": {
       "model_id": "dd9f5a21f0d84ca7b711d2b5f46008e2",
       "version_major": 2,
       "version_minor": 0
      },
      "text/plain": [
       "Validation: |          | 0/? [00:00<?, ?it/s]"
      ]
     },
     "metadata": {},
     "output_type": "display_data"
    },
    {
     "data": {
      "application/vnd.jupyter.widget-view+json": {
       "model_id": "1bae4015f7ec4108a2cf5fc6c39bd032",
       "version_major": 2,
       "version_minor": 0
      },
      "text/plain": [
       "Validation: |          | 0/? [00:00<?, ?it/s]"
      ]
     },
     "metadata": {},
     "output_type": "display_data"
    },
    {
     "data": {
      "application/vnd.jupyter.widget-view+json": {
       "model_id": "6ffe4635fe4042009d71cfc20788293d",
       "version_major": 2,
       "version_minor": 0
      },
      "text/plain": [
       "Validation: |          | 0/? [00:00<?, ?it/s]"
      ]
     },
     "metadata": {},
     "output_type": "display_data"
    },
    {
     "data": {
      "application/vnd.jupyter.widget-view+json": {
       "model_id": "7398926fb9b242fba76dfc5d9debb694",
       "version_major": 2,
       "version_minor": 0
      },
      "text/plain": [
       "Validation: |          | 0/? [00:00<?, ?it/s]"
      ]
     },
     "metadata": {},
     "output_type": "display_data"
    },
    {
     "data": {
      "application/vnd.jupyter.widget-view+json": {
       "model_id": "3208c810ee9645da86883f4984ca06ab",
       "version_major": 2,
       "version_minor": 0
      },
      "text/plain": [
       "Validation: |          | 0/? [00:00<?, ?it/s]"
      ]
     },
     "metadata": {},
     "output_type": "display_data"
    },
    {
     "data": {
      "application/vnd.jupyter.widget-view+json": {
       "model_id": "b8a1d40a934e4856a38379dc9483a52e",
       "version_major": 2,
       "version_minor": 0
      },
      "text/plain": [
       "Validation: |          | 0/? [00:00<?, ?it/s]"
      ]
     },
     "metadata": {},
     "output_type": "display_data"
    },
    {
     "data": {
      "application/vnd.jupyter.widget-view+json": {
       "model_id": "4f7da2c6fdc740eaadbaa1627fceadb6",
       "version_major": 2,
       "version_minor": 0
      },
      "text/plain": [
       "Validation: |          | 0/? [00:00<?, ?it/s]"
      ]
     },
     "metadata": {},
     "output_type": "display_data"
    },
    {
     "data": {
      "application/vnd.jupyter.widget-view+json": {
       "model_id": "7636809d54e946f09f91289cb98db531",
       "version_major": 2,
       "version_minor": 0
      },
      "text/plain": [
       "Validation: |          | 0/? [00:00<?, ?it/s]"
      ]
     },
     "metadata": {},
     "output_type": "display_data"
    },
    {
     "data": {
      "application/vnd.jupyter.widget-view+json": {
       "model_id": "7a99b33de1ad438582ee6c7fea41eee6",
       "version_major": 2,
       "version_minor": 0
      },
      "text/plain": [
       "Validation: |          | 0/? [00:00<?, ?it/s]"
      ]
     },
     "metadata": {},
     "output_type": "display_data"
    },
    {
     "data": {
      "application/vnd.jupyter.widget-view+json": {
       "model_id": "47ceb5332b1245498d60ea8235e08d0c",
       "version_major": 2,
       "version_minor": 0
      },
      "text/plain": [
       "Validation: |          | 0/? [00:00<?, ?it/s]"
      ]
     },
     "metadata": {},
     "output_type": "display_data"
    },
    {
     "data": {
      "application/vnd.jupyter.widget-view+json": {
       "model_id": "11995e82b9c8449c9e23b145b775cba9",
       "version_major": 2,
       "version_minor": 0
      },
      "text/plain": [
       "Validation: |          | 0/? [00:00<?, ?it/s]"
      ]
     },
     "metadata": {},
     "output_type": "display_data"
    },
    {
     "data": {
      "application/vnd.jupyter.widget-view+json": {
       "model_id": "daca2973bc554dd2b8cadded2fe4b8d7",
       "version_major": 2,
       "version_minor": 0
      },
      "text/plain": [
       "Validation: |          | 0/? [00:00<?, ?it/s]"
      ]
     },
     "metadata": {},
     "output_type": "display_data"
    },
    {
     "data": {
      "application/vnd.jupyter.widget-view+json": {
       "model_id": "fa2a5f192b744dfda8e3381f1c7be613",
       "version_major": 2,
       "version_minor": 0
      },
      "text/plain": [
       "Validation: |          | 0/? [00:00<?, ?it/s]"
      ]
     },
     "metadata": {},
     "output_type": "display_data"
    },
    {
     "data": {
      "application/vnd.jupyter.widget-view+json": {
       "model_id": "c5853eb06e1649b4a20c860f08105220",
       "version_major": 2,
       "version_minor": 0
      },
      "text/plain": [
       "Validation: |          | 0/? [00:00<?, ?it/s]"
      ]
     },
     "metadata": {},
     "output_type": "display_data"
    },
    {
     "data": {
      "application/vnd.jupyter.widget-view+json": {
       "model_id": "343744d5de97437f8dcc0f019fb7140b",
       "version_major": 2,
       "version_minor": 0
      },
      "text/plain": [
       "Validation: |          | 0/? [00:00<?, ?it/s]"
      ]
     },
     "metadata": {},
     "output_type": "display_data"
    },
    {
     "data": {
      "application/vnd.jupyter.widget-view+json": {
       "model_id": "9cba5afb53604be7969e28810735b0ff",
       "version_major": 2,
       "version_minor": 0
      },
      "text/plain": [
       "Validation: |          | 0/? [00:00<?, ?it/s]"
      ]
     },
     "metadata": {},
     "output_type": "display_data"
    },
    {
     "data": {
      "application/vnd.jupyter.widget-view+json": {
       "model_id": "f4886ef688484d3e9cb3001fad8d4e5e",
       "version_major": 2,
       "version_minor": 0
      },
      "text/plain": [
       "Validation: |          | 0/? [00:00<?, ?it/s]"
      ]
     },
     "metadata": {},
     "output_type": "display_data"
    },
    {
     "data": {
      "application/vnd.jupyter.widget-view+json": {
       "model_id": "13c609d40bb64675a6ab304eacc0a80a",
       "version_major": 2,
       "version_minor": 0
      },
      "text/plain": [
       "Validation: |          | 0/? [00:00<?, ?it/s]"
      ]
     },
     "metadata": {},
     "output_type": "display_data"
    },
    {
     "data": {
      "application/vnd.jupyter.widget-view+json": {
       "model_id": "92a4d1fb71be461e89f534eb15f09dea",
       "version_major": 2,
       "version_minor": 0
      },
      "text/plain": [
       "Validation: |          | 0/? [00:00<?, ?it/s]"
      ]
     },
     "metadata": {},
     "output_type": "display_data"
    },
    {
     "data": {
      "application/vnd.jupyter.widget-view+json": {
       "model_id": "92104af65e6d46fabb9b703785252e92",
       "version_major": 2,
       "version_minor": 0
      },
      "text/plain": [
       "Validation: |          | 0/? [00:00<?, ?it/s]"
      ]
     },
     "metadata": {},
     "output_type": "display_data"
    },
    {
     "data": {
      "application/vnd.jupyter.widget-view+json": {
       "model_id": "0599ba4111134fe1870bc93e499eedd7",
       "version_major": 2,
       "version_minor": 0
      },
      "text/plain": [
       "Validation: |          | 0/? [00:00<?, ?it/s]"
      ]
     },
     "metadata": {},
     "output_type": "display_data"
    },
    {
     "data": {
      "application/vnd.jupyter.widget-view+json": {
       "model_id": "1296794bf9dd44099808211197ae18b6",
       "version_major": 2,
       "version_minor": 0
      },
      "text/plain": [
       "Validation: |          | 0/? [00:00<?, ?it/s]"
      ]
     },
     "metadata": {},
     "output_type": "display_data"
    },
    {
     "data": {
      "application/vnd.jupyter.widget-view+json": {
       "model_id": "1bb95b7ad8234cd5b3c695d6083d9595",
       "version_major": 2,
       "version_minor": 0
      },
      "text/plain": [
       "Validation: |          | 0/? [00:00<?, ?it/s]"
      ]
     },
     "metadata": {},
     "output_type": "display_data"
    },
    {
     "data": {
      "application/vnd.jupyter.widget-view+json": {
       "model_id": "87eda3cf7466427f86dc3ef02e08d476",
       "version_major": 2,
       "version_minor": 0
      },
      "text/plain": [
       "Validation: |          | 0/? [00:00<?, ?it/s]"
      ]
     },
     "metadata": {},
     "output_type": "display_data"
    },
    {
     "data": {
      "application/vnd.jupyter.widget-view+json": {
       "model_id": "65f958624eaa4aa59c6906048ef5c1b4",
       "version_major": 2,
       "version_minor": 0
      },
      "text/plain": [
       "Validation: |          | 0/? [00:00<?, ?it/s]"
      ]
     },
     "metadata": {},
     "output_type": "display_data"
    },
    {
     "data": {
      "application/vnd.jupyter.widget-view+json": {
       "model_id": "794b8a10f20a4c959df620803ba9e457",
       "version_major": 2,
       "version_minor": 0
      },
      "text/plain": [
       "Validation: |          | 0/? [00:00<?, ?it/s]"
      ]
     },
     "metadata": {},
     "output_type": "display_data"
    },
    {
     "data": {
      "application/vnd.jupyter.widget-view+json": {
       "model_id": "573b05c78dab43ee96c1a0f2e0e10706",
       "version_major": 2,
       "version_minor": 0
      },
      "text/plain": [
       "Validation: |          | 0/? [00:00<?, ?it/s]"
      ]
     },
     "metadata": {},
     "output_type": "display_data"
    },
    {
     "data": {
      "application/vnd.jupyter.widget-view+json": {
       "model_id": "1a5091809e76463aa6dbd81f470abbbf",
       "version_major": 2,
       "version_minor": 0
      },
      "text/plain": [
       "Validation: |          | 0/? [00:00<?, ?it/s]"
      ]
     },
     "metadata": {},
     "output_type": "display_data"
    },
    {
     "data": {
      "application/vnd.jupyter.widget-view+json": {
       "model_id": "37ffb35c312649b4b8439fd7ac6beb36",
       "version_major": 2,
       "version_minor": 0
      },
      "text/plain": [
       "Validation: |          | 0/? [00:00<?, ?it/s]"
      ]
     },
     "metadata": {},
     "output_type": "display_data"
    },
    {
     "data": {
      "application/vnd.jupyter.widget-view+json": {
       "model_id": "765de969821642409e57d21227921857",
       "version_major": 2,
       "version_minor": 0
      },
      "text/plain": [
       "Validation: |          | 0/? [00:00<?, ?it/s]"
      ]
     },
     "metadata": {},
     "output_type": "display_data"
    },
    {
     "data": {
      "application/vnd.jupyter.widget-view+json": {
       "model_id": "374412588760480ba386a1f12f784c2e",
       "version_major": 2,
       "version_minor": 0
      },
      "text/plain": [
       "Validation: |          | 0/? [00:00<?, ?it/s]"
      ]
     },
     "metadata": {},
     "output_type": "display_data"
    },
    {
     "data": {
      "application/vnd.jupyter.widget-view+json": {
       "model_id": "e9c4076f87a0494a98d45cd6dbea58e0",
       "version_major": 2,
       "version_minor": 0
      },
      "text/plain": [
       "Validation: |          | 0/? [00:00<?, ?it/s]"
      ]
     },
     "metadata": {},
     "output_type": "display_data"
    },
    {
     "data": {
      "application/vnd.jupyter.widget-view+json": {
       "model_id": "ae8ac5b4272b4fcaa00af2d3be780f91",
       "version_major": 2,
       "version_minor": 0
      },
      "text/plain": [
       "Validation: |          | 0/? [00:00<?, ?it/s]"
      ]
     },
     "metadata": {},
     "output_type": "display_data"
    },
    {
     "data": {
      "application/vnd.jupyter.widget-view+json": {
       "model_id": "a642dbcbf6e94160a9c9013cd149b1d6",
       "version_major": 2,
       "version_minor": 0
      },
      "text/plain": [
       "Validation: |          | 0/? [00:00<?, ?it/s]"
      ]
     },
     "metadata": {},
     "output_type": "display_data"
    },
    {
     "data": {
      "application/vnd.jupyter.widget-view+json": {
       "model_id": "6c5766af962f464ab57007eb08e2f85a",
       "version_major": 2,
       "version_minor": 0
      },
      "text/plain": [
       "Validation: |          | 0/? [00:00<?, ?it/s]"
      ]
     },
     "metadata": {},
     "output_type": "display_data"
    },
    {
     "data": {
      "application/vnd.jupyter.widget-view+json": {
       "model_id": "d7e45c8062c84884bc16da5c98f0886f",
       "version_major": 2,
       "version_minor": 0
      },
      "text/plain": [
       "Validation: |          | 0/? [00:00<?, ?it/s]"
      ]
     },
     "metadata": {},
     "output_type": "display_data"
    },
    {
     "data": {
      "application/vnd.jupyter.widget-view+json": {
       "model_id": "133540e38f76450796d05a7d7b8598f3",
       "version_major": 2,
       "version_minor": 0
      },
      "text/plain": [
       "Validation: |          | 0/? [00:00<?, ?it/s]"
      ]
     },
     "metadata": {},
     "output_type": "display_data"
    },
    {
     "data": {
      "application/vnd.jupyter.widget-view+json": {
       "model_id": "f018b0a1f2294e43b29a0b2bcf72a844",
       "version_major": 2,
       "version_minor": 0
      },
      "text/plain": [
       "Validation: |          | 0/? [00:00<?, ?it/s]"
      ]
     },
     "metadata": {},
     "output_type": "display_data"
    },
    {
     "data": {
      "application/vnd.jupyter.widget-view+json": {
       "model_id": "adb9dbd7e2ce423091a478e30b19fa55",
       "version_major": 2,
       "version_minor": 0
      },
      "text/plain": [
       "Validation: |          | 0/? [00:00<?, ?it/s]"
      ]
     },
     "metadata": {},
     "output_type": "display_data"
    },
    {
     "data": {
      "application/vnd.jupyter.widget-view+json": {
       "model_id": "dfe05ce9be5d44edb41ce849b34db9fd",
       "version_major": 2,
       "version_minor": 0
      },
      "text/plain": [
       "Validation: |          | 0/? [00:00<?, ?it/s]"
      ]
     },
     "metadata": {},
     "output_type": "display_data"
    },
    {
     "data": {
      "application/vnd.jupyter.widget-view+json": {
       "model_id": "cb49c43774b246a592b641c29679cd40",
       "version_major": 2,
       "version_minor": 0
      },
      "text/plain": [
       "Validation: |          | 0/? [00:00<?, ?it/s]"
      ]
     },
     "metadata": {},
     "output_type": "display_data"
    },
    {
     "data": {
      "application/vnd.jupyter.widget-view+json": {
       "model_id": "92ef5fa8f2ed4fc3821b77f759507402",
       "version_major": 2,
       "version_minor": 0
      },
      "text/plain": [
       "Validation: |          | 0/? [00:00<?, ?it/s]"
      ]
     },
     "metadata": {},
     "output_type": "display_data"
    },
    {
     "data": {
      "application/vnd.jupyter.widget-view+json": {
       "model_id": "cc09e7ff4c6746a099cf4bd329f97cbf",
       "version_major": 2,
       "version_minor": 0
      },
      "text/plain": [
       "Validation: |          | 0/? [00:00<?, ?it/s]"
      ]
     },
     "metadata": {},
     "output_type": "display_data"
    },
    {
     "data": {
      "application/vnd.jupyter.widget-view+json": {
       "model_id": "5c6800acb1384e918644139f4ba7d040",
       "version_major": 2,
       "version_minor": 0
      },
      "text/plain": [
       "Validation: |          | 0/? [00:00<?, ?it/s]"
      ]
     },
     "metadata": {},
     "output_type": "display_data"
    },
    {
     "data": {
      "application/vnd.jupyter.widget-view+json": {
       "model_id": "a33ea75587094e388146822e8253b2ed",
       "version_major": 2,
       "version_minor": 0
      },
      "text/plain": [
       "Validation: |          | 0/? [00:00<?, ?it/s]"
      ]
     },
     "metadata": {},
     "output_type": "display_data"
    },
    {
     "data": {
      "application/vnd.jupyter.widget-view+json": {
       "model_id": "d904f71c27ee46069134565623629d52",
       "version_major": 2,
       "version_minor": 0
      },
      "text/plain": [
       "Validation: |          | 0/? [00:00<?, ?it/s]"
      ]
     },
     "metadata": {},
     "output_type": "display_data"
    },
    {
     "data": {
      "application/vnd.jupyter.widget-view+json": {
       "model_id": "55af3ad5a01a41aeaca4480557d3b4e9",
       "version_major": 2,
       "version_minor": 0
      },
      "text/plain": [
       "Validation: |          | 0/? [00:00<?, ?it/s]"
      ]
     },
     "metadata": {},
     "output_type": "display_data"
    },
    {
     "data": {
      "application/vnd.jupyter.widget-view+json": {
       "model_id": "f9b3085347ca4149936f669454d35f73",
       "version_major": 2,
       "version_minor": 0
      },
      "text/plain": [
       "Validation: |          | 0/? [00:00<?, ?it/s]"
      ]
     },
     "metadata": {},
     "output_type": "display_data"
    },
    {
     "data": {
      "application/vnd.jupyter.widget-view+json": {
       "model_id": "1d78f4a93ea945258914d6984487cf81",
       "version_major": 2,
       "version_minor": 0
      },
      "text/plain": [
       "Validation: |          | 0/? [00:00<?, ?it/s]"
      ]
     },
     "metadata": {},
     "output_type": "display_data"
    },
    {
     "data": {
      "application/vnd.jupyter.widget-view+json": {
       "model_id": "c4891ca851c34835a95158352906738b",
       "version_major": 2,
       "version_minor": 0
      },
      "text/plain": [
       "Validation: |          | 0/? [00:00<?, ?it/s]"
      ]
     },
     "metadata": {},
     "output_type": "display_data"
    },
    {
     "data": {
      "application/vnd.jupyter.widget-view+json": {
       "model_id": "cfc16cf56cb4412aa2f7998aefbc151c",
       "version_major": 2,
       "version_minor": 0
      },
      "text/plain": [
       "Validation: |          | 0/? [00:00<?, ?it/s]"
      ]
     },
     "metadata": {},
     "output_type": "display_data"
    },
    {
     "data": {
      "application/vnd.jupyter.widget-view+json": {
       "model_id": "e544649abd1942b79f5d68fd1e05cf12",
       "version_major": 2,
       "version_minor": 0
      },
      "text/plain": [
       "Validation: |          | 0/? [00:00<?, ?it/s]"
      ]
     },
     "metadata": {},
     "output_type": "display_data"
    },
    {
     "data": {
      "application/vnd.jupyter.widget-view+json": {
       "model_id": "d30179ab6a654cd092e8c9795d44701b",
       "version_major": 2,
       "version_minor": 0
      },
      "text/plain": [
       "Validation: |          | 0/? [00:00<?, ?it/s]"
      ]
     },
     "metadata": {},
     "output_type": "display_data"
    },
    {
     "data": {
      "application/vnd.jupyter.widget-view+json": {
       "model_id": "db8642468a8d4fa89f5b45eee75c8710",
       "version_major": 2,
       "version_minor": 0
      },
      "text/plain": [
       "Validation: |          | 0/? [00:00<?, ?it/s]"
      ]
     },
     "metadata": {},
     "output_type": "display_data"
    },
    {
     "data": {
      "application/vnd.jupyter.widget-view+json": {
       "model_id": "aa3e39471d5f4ef5b59c311a0bd9a618",
       "version_major": 2,
       "version_minor": 0
      },
      "text/plain": [
       "Validation: |          | 0/? [00:00<?, ?it/s]"
      ]
     },
     "metadata": {},
     "output_type": "display_data"
    },
    {
     "data": {
      "application/vnd.jupyter.widget-view+json": {
       "model_id": "fcc409bf40b9456e918f9fa908a7f45c",
       "version_major": 2,
       "version_minor": 0
      },
      "text/plain": [
       "Validation: |          | 0/? [00:00<?, ?it/s]"
      ]
     },
     "metadata": {},
     "output_type": "display_data"
    },
    {
     "data": {
      "application/vnd.jupyter.widget-view+json": {
       "model_id": "5fd48303502b405589eec670bba298d7",
       "version_major": 2,
       "version_minor": 0
      },
      "text/plain": [
       "Validation: |          | 0/? [00:00<?, ?it/s]"
      ]
     },
     "metadata": {},
     "output_type": "display_data"
    },
    {
     "data": {
      "application/vnd.jupyter.widget-view+json": {
       "model_id": "d076f55a2f7b4b12a05d383376e389e9",
       "version_major": 2,
       "version_minor": 0
      },
      "text/plain": [
       "Validation: |          | 0/? [00:00<?, ?it/s]"
      ]
     },
     "metadata": {},
     "output_type": "display_data"
    },
    {
     "data": {
      "application/vnd.jupyter.widget-view+json": {
       "model_id": "8f0c45371fd24c70867327c5741ddeb6",
       "version_major": 2,
       "version_minor": 0
      },
      "text/plain": [
       "Validation: |          | 0/? [00:00<?, ?it/s]"
      ]
     },
     "metadata": {},
     "output_type": "display_data"
    },
    {
     "data": {
      "application/vnd.jupyter.widget-view+json": {
       "model_id": "bf63d9024d1f478b8a38ad32d143128a",
       "version_major": 2,
       "version_minor": 0
      },
      "text/plain": [
       "Validation: |          | 0/? [00:00<?, ?it/s]"
      ]
     },
     "metadata": {},
     "output_type": "display_data"
    },
    {
     "data": {
      "application/vnd.jupyter.widget-view+json": {
       "model_id": "ab1cedd1c7e544a0a7b20df04a3a85ff",
       "version_major": 2,
       "version_minor": 0
      },
      "text/plain": [
       "Validation: |          | 0/? [00:00<?, ?it/s]"
      ]
     },
     "metadata": {},
     "output_type": "display_data"
    },
    {
     "data": {
      "application/vnd.jupyter.widget-view+json": {
       "model_id": "50aa65560dc4419394bd800e751c9e6f",
       "version_major": 2,
       "version_minor": 0
      },
      "text/plain": [
       "Validation: |          | 0/? [00:00<?, ?it/s]"
      ]
     },
     "metadata": {},
     "output_type": "display_data"
    },
    {
     "data": {
      "application/vnd.jupyter.widget-view+json": {
       "model_id": "d7240f0bb8a04591a55eb11769b51454",
       "version_major": 2,
       "version_minor": 0
      },
      "text/plain": [
       "Validation: |          | 0/? [00:00<?, ?it/s]"
      ]
     },
     "metadata": {},
     "output_type": "display_data"
    },
    {
     "data": {
      "application/vnd.jupyter.widget-view+json": {
       "model_id": "f5034a9380ec4d43bc6004b077aea989",
       "version_major": 2,
       "version_minor": 0
      },
      "text/plain": [
       "Validation: |          | 0/? [00:00<?, ?it/s]"
      ]
     },
     "metadata": {},
     "output_type": "display_data"
    },
    {
     "data": {
      "application/vnd.jupyter.widget-view+json": {
       "model_id": "ecd40c1dfe79463fa4ddb9445558276f",
       "version_major": 2,
       "version_minor": 0
      },
      "text/plain": [
       "Validation: |          | 0/? [00:00<?, ?it/s]"
      ]
     },
     "metadata": {},
     "output_type": "display_data"
    },
    {
     "data": {
      "application/vnd.jupyter.widget-view+json": {
       "model_id": "19cee04beb0f4b199e032bb99245ff10",
       "version_major": 2,
       "version_minor": 0
      },
      "text/plain": [
       "Validation: |          | 0/? [00:00<?, ?it/s]"
      ]
     },
     "metadata": {},
     "output_type": "display_data"
    },
    {
     "data": {
      "application/vnd.jupyter.widget-view+json": {
       "model_id": "895092bf803a46488a0317cb98eb9a87",
       "version_major": 2,
       "version_minor": 0
      },
      "text/plain": [
       "Validation: |          | 0/? [00:00<?, ?it/s]"
      ]
     },
     "metadata": {},
     "output_type": "display_data"
    },
    {
     "data": {
      "application/vnd.jupyter.widget-view+json": {
       "model_id": "afef69ecab8c4aaea3915edc1035599a",
       "version_major": 2,
       "version_minor": 0
      },
      "text/plain": [
       "Validation: |          | 0/? [00:00<?, ?it/s]"
      ]
     },
     "metadata": {},
     "output_type": "display_data"
    },
    {
     "data": {
      "application/vnd.jupyter.widget-view+json": {
       "model_id": "e36d14b1a9a34d078fd7cea322fc737c",
       "version_major": 2,
       "version_minor": 0
      },
      "text/plain": [
       "Validation: |          | 0/? [00:00<?, ?it/s]"
      ]
     },
     "metadata": {},
     "output_type": "display_data"
    },
    {
     "data": {
      "application/vnd.jupyter.widget-view+json": {
       "model_id": "28e07551498b4966b3dff6475837584d",
       "version_major": 2,
       "version_minor": 0
      },
      "text/plain": [
       "Validation: |          | 0/? [00:00<?, ?it/s]"
      ]
     },
     "metadata": {},
     "output_type": "display_data"
    },
    {
     "data": {
      "application/vnd.jupyter.widget-view+json": {
       "model_id": "b37ff6cc758b461991ebbf4db29c038a",
       "version_major": 2,
       "version_minor": 0
      },
      "text/plain": [
       "Validation: |          | 0/? [00:00<?, ?it/s]"
      ]
     },
     "metadata": {},
     "output_type": "display_data"
    },
    {
     "data": {
      "application/vnd.jupyter.widget-view+json": {
       "model_id": "ac43628b42854aac92d2f04865855612",
       "version_major": 2,
       "version_minor": 0
      },
      "text/plain": [
       "Validation: |          | 0/? [00:00<?, ?it/s]"
      ]
     },
     "metadata": {},
     "output_type": "display_data"
    },
    {
     "data": {
      "application/vnd.jupyter.widget-view+json": {
       "model_id": "9becc2237538490b9941599a097bd3f2",
       "version_major": 2,
       "version_minor": 0
      },
      "text/plain": [
       "Validation: |          | 0/? [00:00<?, ?it/s]"
      ]
     },
     "metadata": {},
     "output_type": "display_data"
    },
    {
     "data": {
      "application/vnd.jupyter.widget-view+json": {
       "model_id": "b5d8090874204acdbfd38a17fedc7704",
       "version_major": 2,
       "version_minor": 0
      },
      "text/plain": [
       "Validation: |          | 0/? [00:00<?, ?it/s]"
      ]
     },
     "metadata": {},
     "output_type": "display_data"
    },
    {
     "data": {
      "application/vnd.jupyter.widget-view+json": {
       "model_id": "f28454fb6c0c4c08bcd53e8e9c1978d2",
       "version_major": 2,
       "version_minor": 0
      },
      "text/plain": [
       "Validation: |          | 0/? [00:00<?, ?it/s]"
      ]
     },
     "metadata": {},
     "output_type": "display_data"
    },
    {
     "data": {
      "application/vnd.jupyter.widget-view+json": {
       "model_id": "d4b8161c08174b8d9c67ec9d785d9214",
       "version_major": 2,
       "version_minor": 0
      },
      "text/plain": [
       "Validation: |          | 0/? [00:00<?, ?it/s]"
      ]
     },
     "metadata": {},
     "output_type": "display_data"
    },
    {
     "data": {
      "application/vnd.jupyter.widget-view+json": {
       "model_id": "2505f8aff7c64c3f93b168ebc999a935",
       "version_major": 2,
       "version_minor": 0
      },
      "text/plain": [
       "Validation: |          | 0/? [00:00<?, ?it/s]"
      ]
     },
     "metadata": {},
     "output_type": "display_data"
    },
    {
     "data": {
      "application/vnd.jupyter.widget-view+json": {
       "model_id": "9799591357ce457eb59eef9766348002",
       "version_major": 2,
       "version_minor": 0
      },
      "text/plain": [
       "Validation: |          | 0/? [00:00<?, ?it/s]"
      ]
     },
     "metadata": {},
     "output_type": "display_data"
    },
    {
     "data": {
      "application/vnd.jupyter.widget-view+json": {
       "model_id": "202a0799b5bc4d399fc647ae2e86f418",
       "version_major": 2,
       "version_minor": 0
      },
      "text/plain": [
       "Validation: |          | 0/? [00:00<?, ?it/s]"
      ]
     },
     "metadata": {},
     "output_type": "display_data"
    },
    {
     "data": {
      "application/vnd.jupyter.widget-view+json": {
       "model_id": "5810311bf70f47adae012eef0fb6b398",
       "version_major": 2,
       "version_minor": 0
      },
      "text/plain": [
       "Validation: |          | 0/? [00:00<?, ?it/s]"
      ]
     },
     "metadata": {},
     "output_type": "display_data"
    },
    {
     "data": {
      "application/vnd.jupyter.widget-view+json": {
       "model_id": "6b45e1ca3b6b4d3ebae8d3fe88197396",
       "version_major": 2,
       "version_minor": 0
      },
      "text/plain": [
       "Validation: |          | 0/? [00:00<?, ?it/s]"
      ]
     },
     "metadata": {},
     "output_type": "display_data"
    },
    {
     "data": {
      "application/vnd.jupyter.widget-view+json": {
       "model_id": "86d79e765ebe43b698b66b62ce8fa203",
       "version_major": 2,
       "version_minor": 0
      },
      "text/plain": [
       "Validation: |          | 0/? [00:00<?, ?it/s]"
      ]
     },
     "metadata": {},
     "output_type": "display_data"
    },
    {
     "data": {
      "application/vnd.jupyter.widget-view+json": {
       "model_id": "520ef550e23a433ab3fc7d96968a7be9",
       "version_major": 2,
       "version_minor": 0
      },
      "text/plain": [
       "Validation: |          | 0/? [00:00<?, ?it/s]"
      ]
     },
     "metadata": {},
     "output_type": "display_data"
    },
    {
     "data": {
      "application/vnd.jupyter.widget-view+json": {
       "model_id": "6b4c88c6fab8421db73a854982b80e09",
       "version_major": 2,
       "version_minor": 0
      },
      "text/plain": [
       "Validation: |          | 0/? [00:00<?, ?it/s]"
      ]
     },
     "metadata": {},
     "output_type": "display_data"
    },
    {
     "data": {
      "application/vnd.jupyter.widget-view+json": {
       "model_id": "593da34d98694e1ba39b5a249eb10fd3",
       "version_major": 2,
       "version_minor": 0
      },
      "text/plain": [
       "Validation: |          | 0/? [00:00<?, ?it/s]"
      ]
     },
     "metadata": {},
     "output_type": "display_data"
    },
    {
     "data": {
      "application/vnd.jupyter.widget-view+json": {
       "model_id": "272175f1effd4a9da2effe4d5404cc89",
       "version_major": 2,
       "version_minor": 0
      },
      "text/plain": [
       "Validation: |          | 0/? [00:00<?, ?it/s]"
      ]
     },
     "metadata": {},
     "output_type": "display_data"
    },
    {
     "data": {
      "application/vnd.jupyter.widget-view+json": {
       "model_id": "d9b667838a2d4e1a9391edaac5036b3d",
       "version_major": 2,
       "version_minor": 0
      },
      "text/plain": [
       "Validation: |          | 0/? [00:00<?, ?it/s]"
      ]
     },
     "metadata": {},
     "output_type": "display_data"
    },
    {
     "data": {
      "application/vnd.jupyter.widget-view+json": {
       "model_id": "a937487d830b41d785b9cb0aaa3e8e03",
       "version_major": 2,
       "version_minor": 0
      },
      "text/plain": [
       "Validation: |          | 0/? [00:00<?, ?it/s]"
      ]
     },
     "metadata": {},
     "output_type": "display_data"
    },
    {
     "data": {
      "application/vnd.jupyter.widget-view+json": {
       "model_id": "4bd30032ae384953ba97fae78f969ec9",
       "version_major": 2,
       "version_minor": 0
      },
      "text/plain": [
       "Validation: |          | 0/? [00:00<?, ?it/s]"
      ]
     },
     "metadata": {},
     "output_type": "display_data"
    },
    {
     "data": {
      "application/vnd.jupyter.widget-view+json": {
       "model_id": "9be76ad9184842feab918f9b2952506a",
       "version_major": 2,
       "version_minor": 0
      },
      "text/plain": [
       "Validation: |          | 0/? [00:00<?, ?it/s]"
      ]
     },
     "metadata": {},
     "output_type": "display_data"
    },
    {
     "data": {
      "application/vnd.jupyter.widget-view+json": {
       "model_id": "fc754b3b315a4e1d997d4197909ee262",
       "version_major": 2,
       "version_minor": 0
      },
      "text/plain": [
       "Validation: |          | 0/? [00:00<?, ?it/s]"
      ]
     },
     "metadata": {},
     "output_type": "display_data"
    },
    {
     "data": {
      "application/vnd.jupyter.widget-view+json": {
       "model_id": "f763c258208f4ab0ae4371b691588ddb",
       "version_major": 2,
       "version_minor": 0
      },
      "text/plain": [
       "Validation: |          | 0/? [00:00<?, ?it/s]"
      ]
     },
     "metadata": {},
     "output_type": "display_data"
    },
    {
     "data": {
      "application/vnd.jupyter.widget-view+json": {
       "model_id": "ab5b04bb3bf444de9725b27c7b6d8a59",
       "version_major": 2,
       "version_minor": 0
      },
      "text/plain": [
       "Validation: |          | 0/? [00:00<?, ?it/s]"
      ]
     },
     "metadata": {},
     "output_type": "display_data"
    },
    {
     "data": {
      "application/vnd.jupyter.widget-view+json": {
       "model_id": "0c97e4b8bd3a4c1682298efcc22baaef",
       "version_major": 2,
       "version_minor": 0
      },
      "text/plain": [
       "Validation: |          | 0/? [00:00<?, ?it/s]"
      ]
     },
     "metadata": {},
     "output_type": "display_data"
    },
    {
     "data": {
      "application/vnd.jupyter.widget-view+json": {
       "model_id": "70d7287f10ed456b9508e0449ba48924",
       "version_major": 2,
       "version_minor": 0
      },
      "text/plain": [
       "Validation: |          | 0/? [00:00<?, ?it/s]"
      ]
     },
     "metadata": {},
     "output_type": "display_data"
    },
    {
     "data": {
      "application/vnd.jupyter.widget-view+json": {
       "model_id": "302ab71efa2847a1926d6c3289b9d7aa",
       "version_major": 2,
       "version_minor": 0
      },
      "text/plain": [
       "Validation: |          | 0/? [00:00<?, ?it/s]"
      ]
     },
     "metadata": {},
     "output_type": "display_data"
    },
    {
     "data": {
      "application/vnd.jupyter.widget-view+json": {
       "model_id": "a1b3cd694849482386fac69af311b972",
       "version_major": 2,
       "version_minor": 0
      },
      "text/plain": [
       "Validation: |          | 0/? [00:00<?, ?it/s]"
      ]
     },
     "metadata": {},
     "output_type": "display_data"
    },
    {
     "data": {
      "application/vnd.jupyter.widget-view+json": {
       "model_id": "a2980fe2c9b94b5d95862dfec7236da7",
       "version_major": 2,
       "version_minor": 0
      },
      "text/plain": [
       "Validation: |          | 0/? [00:00<?, ?it/s]"
      ]
     },
     "metadata": {},
     "output_type": "display_data"
    },
    {
     "data": {
      "application/vnd.jupyter.widget-view+json": {
       "model_id": "eee0933c23f94f55843501b280e9ad46",
       "version_major": 2,
       "version_minor": 0
      },
      "text/plain": [
       "Validation: |          | 0/? [00:00<?, ?it/s]"
      ]
     },
     "metadata": {},
     "output_type": "display_data"
    },
    {
     "data": {
      "application/vnd.jupyter.widget-view+json": {
       "model_id": "49da96f6701e45eea471715224ec95df",
       "version_major": 2,
       "version_minor": 0
      },
      "text/plain": [
       "Validation: |          | 0/? [00:00<?, ?it/s]"
      ]
     },
     "metadata": {},
     "output_type": "display_data"
    },
    {
     "data": {
      "application/vnd.jupyter.widget-view+json": {
       "model_id": "748442611cc345b9a832b491f27b745f",
       "version_major": 2,
       "version_minor": 0
      },
      "text/plain": [
       "Validation: |          | 0/? [00:00<?, ?it/s]"
      ]
     },
     "metadata": {},
     "output_type": "display_data"
    },
    {
     "data": {
      "application/vnd.jupyter.widget-view+json": {
       "model_id": "8980594a29944854b117121f7cc0a1d9",
       "version_major": 2,
       "version_minor": 0
      },
      "text/plain": [
       "Validation: |          | 0/? [00:00<?, ?it/s]"
      ]
     },
     "metadata": {},
     "output_type": "display_data"
    },
    {
     "data": {
      "application/vnd.jupyter.widget-view+json": {
       "model_id": "e3e7cf90d80a4b3a9a1b0b9ae85407e2",
       "version_major": 2,
       "version_minor": 0
      },
      "text/plain": [
       "Validation: |          | 0/? [00:00<?, ?it/s]"
      ]
     },
     "metadata": {},
     "output_type": "display_data"
    },
    {
     "data": {
      "application/vnd.jupyter.widget-view+json": {
       "model_id": "f26ab1665a51487aae71cd3f7c32d100",
       "version_major": 2,
       "version_minor": 0
      },
      "text/plain": [
       "Validation: |          | 0/? [00:00<?, ?it/s]"
      ]
     },
     "metadata": {},
     "output_type": "display_data"
    },
    {
     "data": {
      "application/vnd.jupyter.widget-view+json": {
       "model_id": "9616c98a0c2c4e9db829b65ae9699b09",
       "version_major": 2,
       "version_minor": 0
      },
      "text/plain": [
       "Validation: |          | 0/? [00:00<?, ?it/s]"
      ]
     },
     "metadata": {},
     "output_type": "display_data"
    },
    {
     "data": {
      "application/vnd.jupyter.widget-view+json": {
       "model_id": "bbea7f7844084d1abbc3917c525d8683",
       "version_major": 2,
       "version_minor": 0
      },
      "text/plain": [
       "Validation: |          | 0/? [00:00<?, ?it/s]"
      ]
     },
     "metadata": {},
     "output_type": "display_data"
    },
    {
     "data": {
      "application/vnd.jupyter.widget-view+json": {
       "model_id": "4cbaeb37beaa43bbabe135b7e155e0a0",
       "version_major": 2,
       "version_minor": 0
      },
      "text/plain": [
       "Validation: |          | 0/? [00:00<?, ?it/s]"
      ]
     },
     "metadata": {},
     "output_type": "display_data"
    },
    {
     "data": {
      "application/vnd.jupyter.widget-view+json": {
       "model_id": "b2b9aabd6f094f9ca3153b7b13fa7066",
       "version_major": 2,
       "version_minor": 0
      },
      "text/plain": [
       "Validation: |          | 0/? [00:00<?, ?it/s]"
      ]
     },
     "metadata": {},
     "output_type": "display_data"
    },
    {
     "data": {
      "application/vnd.jupyter.widget-view+json": {
       "model_id": "5152e67d53a04d9a9836304d67de7657",
       "version_major": 2,
       "version_minor": 0
      },
      "text/plain": [
       "Validation: |          | 0/? [00:00<?, ?it/s]"
      ]
     },
     "metadata": {},
     "output_type": "display_data"
    },
    {
     "data": {
      "application/vnd.jupyter.widget-view+json": {
       "model_id": "7ff6f29f44374226b031c4a059b3aed6",
       "version_major": 2,
       "version_minor": 0
      },
      "text/plain": [
       "Validation: |          | 0/? [00:00<?, ?it/s]"
      ]
     },
     "metadata": {},
     "output_type": "display_data"
    },
    {
     "data": {
      "application/vnd.jupyter.widget-view+json": {
       "model_id": "cd2ffebe64c04c3484624aba01f71234",
       "version_major": 2,
       "version_minor": 0
      },
      "text/plain": [
       "Validation: |          | 0/? [00:00<?, ?it/s]"
      ]
     },
     "metadata": {},
     "output_type": "display_data"
    },
    {
     "data": {
      "application/vnd.jupyter.widget-view+json": {
       "model_id": "3f4ae9982a224c50a1b1761e914f4516",
       "version_major": 2,
       "version_minor": 0
      },
      "text/plain": [
       "Validation: |          | 0/? [00:00<?, ?it/s]"
      ]
     },
     "metadata": {},
     "output_type": "display_data"
    },
    {
     "data": {
      "application/vnd.jupyter.widget-view+json": {
       "model_id": "7547927fc48d450baf7c5ba66f2aad85",
       "version_major": 2,
       "version_minor": 0
      },
      "text/plain": [
       "Validation: |          | 0/? [00:00<?, ?it/s]"
      ]
     },
     "metadata": {},
     "output_type": "display_data"
    },
    {
     "data": {
      "application/vnd.jupyter.widget-view+json": {
       "model_id": "d814efc9c2da4b8cb447a9493a731ed5",
       "version_major": 2,
       "version_minor": 0
      },
      "text/plain": [
       "Validation: |          | 0/? [00:00<?, ?it/s]"
      ]
     },
     "metadata": {},
     "output_type": "display_data"
    },
    {
     "data": {
      "application/vnd.jupyter.widget-view+json": {
       "model_id": "39f06eaaa2394c44b1808c591df1ce11",
       "version_major": 2,
       "version_minor": 0
      },
      "text/plain": [
       "Validation: |          | 0/? [00:00<?, ?it/s]"
      ]
     },
     "metadata": {},
     "output_type": "display_data"
    },
    {
     "data": {
      "application/vnd.jupyter.widget-view+json": {
       "model_id": "cecf23fb9cb744b1825abc37163f38e1",
       "version_major": 2,
       "version_minor": 0
      },
      "text/plain": [
       "Validation: |          | 0/? [00:00<?, ?it/s]"
      ]
     },
     "metadata": {},
     "output_type": "display_data"
    },
    {
     "data": {
      "application/vnd.jupyter.widget-view+json": {
       "model_id": "596cb224c4eb452e91108cac2b88f53f",
       "version_major": 2,
       "version_minor": 0
      },
      "text/plain": [
       "Validation: |          | 0/? [00:00<?, ?it/s]"
      ]
     },
     "metadata": {},
     "output_type": "display_data"
    },
    {
     "data": {
      "application/vnd.jupyter.widget-view+json": {
       "model_id": "cc76da8349d84c8b83594924df8bcd6c",
       "version_major": 2,
       "version_minor": 0
      },
      "text/plain": [
       "Validation: |          | 0/? [00:00<?, ?it/s]"
      ]
     },
     "metadata": {},
     "output_type": "display_data"
    },
    {
     "data": {
      "application/vnd.jupyter.widget-view+json": {
       "model_id": "ba59de9b27ff41b58b39f12eaedc7ce1",
       "version_major": 2,
       "version_minor": 0
      },
      "text/plain": [
       "Validation: |          | 0/? [00:00<?, ?it/s]"
      ]
     },
     "metadata": {},
     "output_type": "display_data"
    },
    {
     "data": {
      "application/vnd.jupyter.widget-view+json": {
       "model_id": "bb006686408443c893e8453e5b0ff34a",
       "version_major": 2,
       "version_minor": 0
      },
      "text/plain": [
       "Validation: |          | 0/? [00:00<?, ?it/s]"
      ]
     },
     "metadata": {},
     "output_type": "display_data"
    },
    {
     "data": {
      "application/vnd.jupyter.widget-view+json": {
       "model_id": "a123ba76badd4863abdbaf31024c4da7",
       "version_major": 2,
       "version_minor": 0
      },
      "text/plain": [
       "Validation: |          | 0/? [00:00<?, ?it/s]"
      ]
     },
     "metadata": {},
     "output_type": "display_data"
    },
    {
     "data": {
      "application/vnd.jupyter.widget-view+json": {
       "model_id": "9f5580bf8fd144eda51594052febf6f8",
       "version_major": 2,
       "version_minor": 0
      },
      "text/plain": [
       "Validation: |          | 0/? [00:00<?, ?it/s]"
      ]
     },
     "metadata": {},
     "output_type": "display_data"
    },
    {
     "data": {
      "application/vnd.jupyter.widget-view+json": {
       "model_id": "ca9c04a394eb4dc59fb6d54c0b6ea225",
       "version_major": 2,
       "version_minor": 0
      },
      "text/plain": [
       "Validation: |          | 0/? [00:00<?, ?it/s]"
      ]
     },
     "metadata": {},
     "output_type": "display_data"
    },
    {
     "data": {
      "application/vnd.jupyter.widget-view+json": {
       "model_id": "939bb555d4a946b48ab6bdfe133c0169",
       "version_major": 2,
       "version_minor": 0
      },
      "text/plain": [
       "Validation: |          | 0/? [00:00<?, ?it/s]"
      ]
     },
     "metadata": {},
     "output_type": "display_data"
    },
    {
     "data": {
      "application/vnd.jupyter.widget-view+json": {
       "model_id": "9b5d23175a8b4adabc7fd1a527b29f58",
       "version_major": 2,
       "version_minor": 0
      },
      "text/plain": [
       "Validation: |          | 0/? [00:00<?, ?it/s]"
      ]
     },
     "metadata": {},
     "output_type": "display_data"
    },
    {
     "data": {
      "application/vnd.jupyter.widget-view+json": {
       "model_id": "cce45145f2f4473a8ae0917136eb47b2",
       "version_major": 2,
       "version_minor": 0
      },
      "text/plain": [
       "Validation: |          | 0/? [00:00<?, ?it/s]"
      ]
     },
     "metadata": {},
     "output_type": "display_data"
    },
    {
     "data": {
      "application/vnd.jupyter.widget-view+json": {
       "model_id": "24e9edd20c014554b8756dcd22617751",
       "version_major": 2,
       "version_minor": 0
      },
      "text/plain": [
       "Validation: |          | 0/? [00:00<?, ?it/s]"
      ]
     },
     "metadata": {},
     "output_type": "display_data"
    },
    {
     "data": {
      "application/vnd.jupyter.widget-view+json": {
       "model_id": "bbfec34cd3b6422a9ab79106172b0ca2",
       "version_major": 2,
       "version_minor": 0
      },
      "text/plain": [
       "Validation: |          | 0/? [00:00<?, ?it/s]"
      ]
     },
     "metadata": {},
     "output_type": "display_data"
    },
    {
     "data": {
      "application/vnd.jupyter.widget-view+json": {
       "model_id": "5ddd38679fc1420dba1d0b1f98a73649",
       "version_major": 2,
       "version_minor": 0
      },
      "text/plain": [
       "Validation: |          | 0/? [00:00<?, ?it/s]"
      ]
     },
     "metadata": {},
     "output_type": "display_data"
    },
    {
     "data": {
      "application/vnd.jupyter.widget-view+json": {
       "model_id": "786de9dd34d84bb4a81dc18dcace6afb",
       "version_major": 2,
       "version_minor": 0
      },
      "text/plain": [
       "Validation: |          | 0/? [00:00<?, ?it/s]"
      ]
     },
     "metadata": {},
     "output_type": "display_data"
    },
    {
     "data": {
      "application/vnd.jupyter.widget-view+json": {
       "model_id": "ad4d02c1c56f464b8eb83b59d0e70bac",
       "version_major": 2,
       "version_minor": 0
      },
      "text/plain": [
       "Validation: |          | 0/? [00:00<?, ?it/s]"
      ]
     },
     "metadata": {},
     "output_type": "display_data"
    },
    {
     "data": {
      "application/vnd.jupyter.widget-view+json": {
       "model_id": "3d94dd414c66403c9870a8ee4dffc700",
       "version_major": 2,
       "version_minor": 0
      },
      "text/plain": [
       "Validation: |          | 0/? [00:00<?, ?it/s]"
      ]
     },
     "metadata": {},
     "output_type": "display_data"
    },
    {
     "data": {
      "application/vnd.jupyter.widget-view+json": {
       "model_id": "5508b52452714cdcb0f08d31e5959f9f",
       "version_major": 2,
       "version_minor": 0
      },
      "text/plain": [
       "Validation: |          | 0/? [00:00<?, ?it/s]"
      ]
     },
     "metadata": {},
     "output_type": "display_data"
    },
    {
     "data": {
      "application/vnd.jupyter.widget-view+json": {
       "model_id": "1da1d18490ac4fa5bd2f6ec6a3b02651",
       "version_major": 2,
       "version_minor": 0
      },
      "text/plain": [
       "Validation: |          | 0/? [00:00<?, ?it/s]"
      ]
     },
     "metadata": {},
     "output_type": "display_data"
    },
    {
     "data": {
      "application/vnd.jupyter.widget-view+json": {
       "model_id": "479d7c093524405bb3374e341fcfa338",
       "version_major": 2,
       "version_minor": 0
      },
      "text/plain": [
       "Validation: |          | 0/? [00:00<?, ?it/s]"
      ]
     },
     "metadata": {},
     "output_type": "display_data"
    },
    {
     "data": {
      "application/vnd.jupyter.widget-view+json": {
       "model_id": "e28796e7c3144846837ec91b2e6ca5b0",
       "version_major": 2,
       "version_minor": 0
      },
      "text/plain": [
       "Validation: |          | 0/? [00:00<?, ?it/s]"
      ]
     },
     "metadata": {},
     "output_type": "display_data"
    },
    {
     "data": {
      "application/vnd.jupyter.widget-view+json": {
       "model_id": "7cabeccd75bd4d6280812c57c5bcd0da",
       "version_major": 2,
       "version_minor": 0
      },
      "text/plain": [
       "Validation: |          | 0/? [00:00<?, ?it/s]"
      ]
     },
     "metadata": {},
     "output_type": "display_data"
    },
    {
     "data": {
      "application/vnd.jupyter.widget-view+json": {
       "model_id": "4ee712a1484b481695fda83caf5202a2",
       "version_major": 2,
       "version_minor": 0
      },
      "text/plain": [
       "Validation: |          | 0/? [00:00<?, ?it/s]"
      ]
     },
     "metadata": {},
     "output_type": "display_data"
    },
    {
     "data": {
      "application/vnd.jupyter.widget-view+json": {
       "model_id": "3fa9997209644ee0baeffd37efbdd263",
       "version_major": 2,
       "version_minor": 0
      },
      "text/plain": [
       "Validation: |          | 0/? [00:00<?, ?it/s]"
      ]
     },
     "metadata": {},
     "output_type": "display_data"
    },
    {
     "data": {
      "application/vnd.jupyter.widget-view+json": {
       "model_id": "5f85cc3107f1465e87e8799cf3ac2ee6",
       "version_major": 2,
       "version_minor": 0
      },
      "text/plain": [
       "Validation: |          | 0/? [00:00<?, ?it/s]"
      ]
     },
     "metadata": {},
     "output_type": "display_data"
    },
    {
     "data": {
      "application/vnd.jupyter.widget-view+json": {
       "model_id": "3612ff82ef4640b6955ca47ab257385d",
       "version_major": 2,
       "version_minor": 0
      },
      "text/plain": [
       "Validation: |          | 0/? [00:00<?, ?it/s]"
      ]
     },
     "metadata": {},
     "output_type": "display_data"
    },
    {
     "data": {
      "application/vnd.jupyter.widget-view+json": {
       "model_id": "9ee56e3738f2498ca60e2fd9b160a759",
       "version_major": 2,
       "version_minor": 0
      },
      "text/plain": [
       "Validation: |          | 0/? [00:00<?, ?it/s]"
      ]
     },
     "metadata": {},
     "output_type": "display_data"
    },
    {
     "data": {
      "application/vnd.jupyter.widget-view+json": {
       "model_id": "752c43d9a848404785f151db6bc78ba7",
       "version_major": 2,
       "version_minor": 0
      },
      "text/plain": [
       "Validation: |          | 0/? [00:00<?, ?it/s]"
      ]
     },
     "metadata": {},
     "output_type": "display_data"
    },
    {
     "data": {
      "application/vnd.jupyter.widget-view+json": {
       "model_id": "41b090895cb64b52873bbb612e4b9cb4",
       "version_major": 2,
       "version_minor": 0
      },
      "text/plain": [
       "Validation: |          | 0/? [00:00<?, ?it/s]"
      ]
     },
     "metadata": {},
     "output_type": "display_data"
    },
    {
     "data": {
      "application/vnd.jupyter.widget-view+json": {
       "model_id": "7f7910dc308440fe93276f69e647dbad",
       "version_major": 2,
       "version_minor": 0
      },
      "text/plain": [
       "Validation: |          | 0/? [00:00<?, ?it/s]"
      ]
     },
     "metadata": {},
     "output_type": "display_data"
    },
    {
     "data": {
      "application/vnd.jupyter.widget-view+json": {
       "model_id": "42c77fd6d3e3456488e0a577e38a5663",
       "version_major": 2,
       "version_minor": 0
      },
      "text/plain": [
       "Validation: |          | 0/? [00:00<?, ?it/s]"
      ]
     },
     "metadata": {},
     "output_type": "display_data"
    },
    {
     "data": {
      "application/vnd.jupyter.widget-view+json": {
       "model_id": "4f784308fc7547ed84010baf9536ca5a",
       "version_major": 2,
       "version_minor": 0
      },
      "text/plain": [
       "Validation: |          | 0/? [00:00<?, ?it/s]"
      ]
     },
     "metadata": {},
     "output_type": "display_data"
    },
    {
     "data": {
      "application/vnd.jupyter.widget-view+json": {
       "model_id": "36ecbbf6559645afb4ae1707a0e41307",
       "version_major": 2,
       "version_minor": 0
      },
      "text/plain": [
       "Validation: |          | 0/? [00:00<?, ?it/s]"
      ]
     },
     "metadata": {},
     "output_type": "display_data"
    },
    {
     "data": {
      "application/vnd.jupyter.widget-view+json": {
       "model_id": "206b1bbe699e4fd087b9ac2e31292964",
       "version_major": 2,
       "version_minor": 0
      },
      "text/plain": [
       "Validation: |          | 0/? [00:00<?, ?it/s]"
      ]
     },
     "metadata": {},
     "output_type": "display_data"
    },
    {
     "data": {
      "application/vnd.jupyter.widget-view+json": {
       "model_id": "0131174705984db7b8d82ea47bc775c7",
       "version_major": 2,
       "version_minor": 0
      },
      "text/plain": [
       "Validation: |          | 0/? [00:00<?, ?it/s]"
      ]
     },
     "metadata": {},
     "output_type": "display_data"
    },
    {
     "data": {
      "application/vnd.jupyter.widget-view+json": {
       "model_id": "00832715ab4d420c8e79364ab3b84d93",
       "version_major": 2,
       "version_minor": 0
      },
      "text/plain": [
       "Validation: |          | 0/? [00:00<?, ?it/s]"
      ]
     },
     "metadata": {},
     "output_type": "display_data"
    },
    {
     "data": {
      "application/vnd.jupyter.widget-view+json": {
       "model_id": "db6defc867d448c3be9e6093f53a8a29",
       "version_major": 2,
       "version_minor": 0
      },
      "text/plain": [
       "Validation: |          | 0/? [00:00<?, ?it/s]"
      ]
     },
     "metadata": {},
     "output_type": "display_data"
    },
    {
     "data": {
      "application/vnd.jupyter.widget-view+json": {
       "model_id": "6f0400fb730b46179e051f21686b2430",
       "version_major": 2,
       "version_minor": 0
      },
      "text/plain": [
       "Validation: |          | 0/? [00:00<?, ?it/s]"
      ]
     },
     "metadata": {},
     "output_type": "display_data"
    },
    {
     "data": {
      "application/vnd.jupyter.widget-view+json": {
       "model_id": "28ec4ac57af940a9a1bdbe2a1485ffae",
       "version_major": 2,
       "version_minor": 0
      },
      "text/plain": [
       "Validation: |          | 0/? [00:00<?, ?it/s]"
      ]
     },
     "metadata": {},
     "output_type": "display_data"
    },
    {
     "data": {
      "application/vnd.jupyter.widget-view+json": {
       "model_id": "43447d11aa0241dc9481f90600e2b5d4",
       "version_major": 2,
       "version_minor": 0
      },
      "text/plain": [
       "Validation: |          | 0/? [00:00<?, ?it/s]"
      ]
     },
     "metadata": {},
     "output_type": "display_data"
    },
    {
     "data": {
      "application/vnd.jupyter.widget-view+json": {
       "model_id": "932961c7d4d74327bde826a12899bcae",
       "version_major": 2,
       "version_minor": 0
      },
      "text/plain": [
       "Validation: |          | 0/? [00:00<?, ?it/s]"
      ]
     },
     "metadata": {},
     "output_type": "display_data"
    },
    {
     "data": {
      "application/vnd.jupyter.widget-view+json": {
       "model_id": "b55c318cbdca4a228210b9dd73f5e14c",
       "version_major": 2,
       "version_minor": 0
      },
      "text/plain": [
       "Validation: |          | 0/? [00:00<?, ?it/s]"
      ]
     },
     "metadata": {},
     "output_type": "display_data"
    },
    {
     "data": {
      "application/vnd.jupyter.widget-view+json": {
       "model_id": "75d7881eca564357b6d4ed3133470762",
       "version_major": 2,
       "version_minor": 0
      },
      "text/plain": [
       "Validation: |          | 0/? [00:00<?, ?it/s]"
      ]
     },
     "metadata": {},
     "output_type": "display_data"
    },
    {
     "data": {
      "application/vnd.jupyter.widget-view+json": {
       "model_id": "e680ae8e0f93481cb60da312afb59bf8",
       "version_major": 2,
       "version_minor": 0
      },
      "text/plain": [
       "Validation: |          | 0/? [00:00<?, ?it/s]"
      ]
     },
     "metadata": {},
     "output_type": "display_data"
    },
    {
     "data": {
      "application/vnd.jupyter.widget-view+json": {
       "model_id": "a280b17ee57245018a31b336a0484bfa",
       "version_major": 2,
       "version_minor": 0
      },
      "text/plain": [
       "Validation: |          | 0/? [00:00<?, ?it/s]"
      ]
     },
     "metadata": {},
     "output_type": "display_data"
    },
    {
     "data": {
      "application/vnd.jupyter.widget-view+json": {
       "model_id": "9d6f4187f0b8480d8a5f121da7bb0490",
       "version_major": 2,
       "version_minor": 0
      },
      "text/plain": [
       "Validation: |          | 0/? [00:00<?, ?it/s]"
      ]
     },
     "metadata": {},
     "output_type": "display_data"
    },
    {
     "data": {
      "application/vnd.jupyter.widget-view+json": {
       "model_id": "efd50ffc34c34f6d8f73d63ed26c0923",
       "version_major": 2,
       "version_minor": 0
      },
      "text/plain": [
       "Validation: |          | 0/? [00:00<?, ?it/s]"
      ]
     },
     "metadata": {},
     "output_type": "display_data"
    },
    {
     "data": {
      "application/vnd.jupyter.widget-view+json": {
       "model_id": "d77de010c6534b74a4ce94382a0ef8dc",
       "version_major": 2,
       "version_minor": 0
      },
      "text/plain": [
       "Validation: |          | 0/? [00:00<?, ?it/s]"
      ]
     },
     "metadata": {},
     "output_type": "display_data"
    },
    {
     "data": {
      "application/vnd.jupyter.widget-view+json": {
       "model_id": "47c08c5443f54a86be5023fc15aa8336",
       "version_major": 2,
       "version_minor": 0
      },
      "text/plain": [
       "Validation: |          | 0/? [00:00<?, ?it/s]"
      ]
     },
     "metadata": {},
     "output_type": "display_data"
    },
    {
     "data": {
      "application/vnd.jupyter.widget-view+json": {
       "model_id": "48a82a7cf3984fe5b90542bc051450c5",
       "version_major": 2,
       "version_minor": 0
      },
      "text/plain": [
       "Validation: |          | 0/? [00:00<?, ?it/s]"
      ]
     },
     "metadata": {},
     "output_type": "display_data"
    },
    {
     "data": {
      "application/vnd.jupyter.widget-view+json": {
       "model_id": "4ac24d3b5f7e4f1aab0490f708493a44",
       "version_major": 2,
       "version_minor": 0
      },
      "text/plain": [
       "Validation: |          | 0/? [00:00<?, ?it/s]"
      ]
     },
     "metadata": {},
     "output_type": "display_data"
    },
    {
     "data": {
      "application/vnd.jupyter.widget-view+json": {
       "model_id": "572a3e9fb5be445c808ece6afdff4a88",
       "version_major": 2,
       "version_minor": 0
      },
      "text/plain": [
       "Validation: |          | 0/? [00:00<?, ?it/s]"
      ]
     },
     "metadata": {},
     "output_type": "display_data"
    },
    {
     "data": {
      "application/vnd.jupyter.widget-view+json": {
       "model_id": "bd55852de3084d3ea97d05b9ce9318f8",
       "version_major": 2,
       "version_minor": 0
      },
      "text/plain": [
       "Validation: |          | 0/? [00:00<?, ?it/s]"
      ]
     },
     "metadata": {},
     "output_type": "display_data"
    },
    {
     "data": {
      "application/vnd.jupyter.widget-view+json": {
       "model_id": "e05c6b786d8746b0ac10c61c27f7ddb9",
       "version_major": 2,
       "version_minor": 0
      },
      "text/plain": [
       "Validation: |          | 0/? [00:00<?, ?it/s]"
      ]
     },
     "metadata": {},
     "output_type": "display_data"
    },
    {
     "data": {
      "application/vnd.jupyter.widget-view+json": {
       "model_id": "f9cc21ad421a4741bb31e5e8441408d9",
       "version_major": 2,
       "version_minor": 0
      },
      "text/plain": [
       "Validation: |          | 0/? [00:00<?, ?it/s]"
      ]
     },
     "metadata": {},
     "output_type": "display_data"
    },
    {
     "data": {
      "application/vnd.jupyter.widget-view+json": {
       "model_id": "f663e40b98eb4ec6840e4b66dd76671d",
       "version_major": 2,
       "version_minor": 0
      },
      "text/plain": [
       "Validation: |          | 0/? [00:00<?, ?it/s]"
      ]
     },
     "metadata": {},
     "output_type": "display_data"
    },
    {
     "data": {
      "application/vnd.jupyter.widget-view+json": {
       "model_id": "ed52b066362a4e369f0de6eb1e684d6d",
       "version_major": 2,
       "version_minor": 0
      },
      "text/plain": [
       "Validation: |          | 0/? [00:00<?, ?it/s]"
      ]
     },
     "metadata": {},
     "output_type": "display_data"
    },
    {
     "data": {
      "application/vnd.jupyter.widget-view+json": {
       "model_id": "585740b6f3e546ee9bffd6ca12c91f57",
       "version_major": 2,
       "version_minor": 0
      },
      "text/plain": [
       "Validation: |          | 0/? [00:00<?, ?it/s]"
      ]
     },
     "metadata": {},
     "output_type": "display_data"
    },
    {
     "data": {
      "application/vnd.jupyter.widget-view+json": {
       "model_id": "94e0dae4eaa444849abf177807c71a8d",
       "version_major": 2,
       "version_minor": 0
      },
      "text/plain": [
       "Validation: |          | 0/? [00:00<?, ?it/s]"
      ]
     },
     "metadata": {},
     "output_type": "display_data"
    },
    {
     "data": {
      "application/vnd.jupyter.widget-view+json": {
       "model_id": "e6c1456141d2499fa1d8dd695de13d20",
       "version_major": 2,
       "version_minor": 0
      },
      "text/plain": [
       "Validation: |          | 0/? [00:00<?, ?it/s]"
      ]
     },
     "metadata": {},
     "output_type": "display_data"
    },
    {
     "data": {
      "application/vnd.jupyter.widget-view+json": {
       "model_id": "1760e724219349929587c86a1c02abb4",
       "version_major": 2,
       "version_minor": 0
      },
      "text/plain": [
       "Validation: |          | 0/? [00:00<?, ?it/s]"
      ]
     },
     "metadata": {},
     "output_type": "display_data"
    },
    {
     "data": {
      "application/vnd.jupyter.widget-view+json": {
       "model_id": "6e51bf49895046b58c729ce2ae007c2f",
       "version_major": 2,
       "version_minor": 0
      },
      "text/plain": [
       "Validation: |          | 0/? [00:00<?, ?it/s]"
      ]
     },
     "metadata": {},
     "output_type": "display_data"
    },
    {
     "data": {
      "application/vnd.jupyter.widget-view+json": {
       "model_id": "d8c5fed4814c44dea068c6945c5fa351",
       "version_major": 2,
       "version_minor": 0
      },
      "text/plain": [
       "Validation: |          | 0/? [00:00<?, ?it/s]"
      ]
     },
     "metadata": {},
     "output_type": "display_data"
    },
    {
     "data": {
      "application/vnd.jupyter.widget-view+json": {
       "model_id": "76cc2d2cd468402480b63e27ed3c5604",
       "version_major": 2,
       "version_minor": 0
      },
      "text/plain": [
       "Validation: |          | 0/? [00:00<?, ?it/s]"
      ]
     },
     "metadata": {},
     "output_type": "display_data"
    },
    {
     "data": {
      "application/vnd.jupyter.widget-view+json": {
       "model_id": "3d8be144113d4fc69a8a8044364d00e6",
       "version_major": 2,
       "version_minor": 0
      },
      "text/plain": [
       "Validation: |          | 0/? [00:00<?, ?it/s]"
      ]
     },
     "metadata": {},
     "output_type": "display_data"
    },
    {
     "data": {
      "application/vnd.jupyter.widget-view+json": {
       "model_id": "99ddb787d58141c485d4ad679cc7fd0f",
       "version_major": 2,
       "version_minor": 0
      },
      "text/plain": [
       "Validation: |          | 0/? [00:00<?, ?it/s]"
      ]
     },
     "metadata": {},
     "output_type": "display_data"
    },
    {
     "data": {
      "application/vnd.jupyter.widget-view+json": {
       "model_id": "a592fb67a7774a1d80dfcb13ca8f6d4c",
       "version_major": 2,
       "version_minor": 0
      },
      "text/plain": [
       "Validation: |          | 0/? [00:00<?, ?it/s]"
      ]
     },
     "metadata": {},
     "output_type": "display_data"
    },
    {
     "data": {
      "application/vnd.jupyter.widget-view+json": {
       "model_id": "1b5def5f3d9545899b94588c27be6377",
       "version_major": 2,
       "version_minor": 0
      },
      "text/plain": [
       "Validation: |          | 0/? [00:00<?, ?it/s]"
      ]
     },
     "metadata": {},
     "output_type": "display_data"
    },
    {
     "data": {
      "application/vnd.jupyter.widget-view+json": {
       "model_id": "f87ce26790954956bdef25dbcc0a8d83",
       "version_major": 2,
       "version_minor": 0
      },
      "text/plain": [
       "Validation: |          | 0/? [00:00<?, ?it/s]"
      ]
     },
     "metadata": {},
     "output_type": "display_data"
    },
    {
     "data": {
      "application/vnd.jupyter.widget-view+json": {
       "model_id": "0dbb7b9df091480cb4ce26926ee41cf2",
       "version_major": 2,
       "version_minor": 0
      },
      "text/plain": [
       "Validation: |          | 0/? [00:00<?, ?it/s]"
      ]
     },
     "metadata": {},
     "output_type": "display_data"
    },
    {
     "data": {
      "application/vnd.jupyter.widget-view+json": {
       "model_id": "75c0eee544ad4e338a4deff8c4ddfbdc",
       "version_major": 2,
       "version_minor": 0
      },
      "text/plain": [
       "Validation: |          | 0/? [00:00<?, ?it/s]"
      ]
     },
     "metadata": {},
     "output_type": "display_data"
    },
    {
     "data": {
      "application/vnd.jupyter.widget-view+json": {
       "model_id": "ec92f754b6054f8ea9170a022c32a03f",
       "version_major": 2,
       "version_minor": 0
      },
      "text/plain": [
       "Validation: |          | 0/? [00:00<?, ?it/s]"
      ]
     },
     "metadata": {},
     "output_type": "display_data"
    },
    {
     "data": {
      "application/vnd.jupyter.widget-view+json": {
       "model_id": "89ad85c146474a588bb56df8031ce12c",
       "version_major": 2,
       "version_minor": 0
      },
      "text/plain": [
       "Validation: |          | 0/? [00:00<?, ?it/s]"
      ]
     },
     "metadata": {},
     "output_type": "display_data"
    },
    {
     "data": {
      "application/vnd.jupyter.widget-view+json": {
       "model_id": "4151ab19c4d2429ab6458d9245156221",
       "version_major": 2,
       "version_minor": 0
      },
      "text/plain": [
       "Validation: |          | 0/? [00:00<?, ?it/s]"
      ]
     },
     "metadata": {},
     "output_type": "display_data"
    },
    {
     "data": {
      "application/vnd.jupyter.widget-view+json": {
       "model_id": "3d6ae414bbd347f7b87e361560575764",
       "version_major": 2,
       "version_minor": 0
      },
      "text/plain": [
       "Validation: |          | 0/? [00:00<?, ?it/s]"
      ]
     },
     "metadata": {},
     "output_type": "display_data"
    },
    {
     "data": {
      "application/vnd.jupyter.widget-view+json": {
       "model_id": "56e31a3132f14e729ca9e9dfd4c6fb71",
       "version_major": 2,
       "version_minor": 0
      },
      "text/plain": [
       "Validation: |          | 0/? [00:00<?, ?it/s]"
      ]
     },
     "metadata": {},
     "output_type": "display_data"
    },
    {
     "data": {
      "application/vnd.jupyter.widget-view+json": {
       "model_id": "dad7d4065b95499598bccbe2d7ddd0a9",
       "version_major": 2,
       "version_minor": 0
      },
      "text/plain": [
       "Validation: |          | 0/? [00:00<?, ?it/s]"
      ]
     },
     "metadata": {},
     "output_type": "display_data"
    },
    {
     "data": {
      "application/vnd.jupyter.widget-view+json": {
       "model_id": "476e2f108e0d44c9be0793408c42a039",
       "version_major": 2,
       "version_minor": 0
      },
      "text/plain": [
       "Validation: |          | 0/? [00:00<?, ?it/s]"
      ]
     },
     "metadata": {},
     "output_type": "display_data"
    },
    {
     "data": {
      "application/vnd.jupyter.widget-view+json": {
       "model_id": "738d0b245314490d90d625af6777c805",
       "version_major": 2,
       "version_minor": 0
      },
      "text/plain": [
       "Validation: |          | 0/? [00:00<?, ?it/s]"
      ]
     },
     "metadata": {},
     "output_type": "display_data"
    },
    {
     "data": {
      "application/vnd.jupyter.widget-view+json": {
       "model_id": "ba953acc21044a6083874eb1f5bf8c72",
       "version_major": 2,
       "version_minor": 0
      },
      "text/plain": [
       "Validation: |          | 0/? [00:00<?, ?it/s]"
      ]
     },
     "metadata": {},
     "output_type": "display_data"
    },
    {
     "data": {
      "application/vnd.jupyter.widget-view+json": {
       "model_id": "c7edda4da5c54dbfafffaac51603056e",
       "version_major": 2,
       "version_minor": 0
      },
      "text/plain": [
       "Validation: |          | 0/? [00:00<?, ?it/s]"
      ]
     },
     "metadata": {},
     "output_type": "display_data"
    },
    {
     "data": {
      "application/vnd.jupyter.widget-view+json": {
       "model_id": "80b119f276fa445d96032d54d3dc41bf",
       "version_major": 2,
       "version_minor": 0
      },
      "text/plain": [
       "Validation: |          | 0/? [00:00<?, ?it/s]"
      ]
     },
     "metadata": {},
     "output_type": "display_data"
    },
    {
     "data": {
      "application/vnd.jupyter.widget-view+json": {
       "model_id": "72f85ab094a1425c80b3073aa84624dd",
       "version_major": 2,
       "version_minor": 0
      },
      "text/plain": [
       "Validation: |          | 0/? [00:00<?, ?it/s]"
      ]
     },
     "metadata": {},
     "output_type": "display_data"
    },
    {
     "data": {
      "application/vnd.jupyter.widget-view+json": {
       "model_id": "d239a4d0cd1a434d8ec2d0f05762e4b5",
       "version_major": 2,
       "version_minor": 0
      },
      "text/plain": [
       "Validation: |          | 0/? [00:00<?, ?it/s]"
      ]
     },
     "metadata": {},
     "output_type": "display_data"
    },
    {
     "data": {
      "application/vnd.jupyter.widget-view+json": {
       "model_id": "1d9a78e5aa86477baebc0ed2dc8bdcd3",
       "version_major": 2,
       "version_minor": 0
      },
      "text/plain": [
       "Validation: |          | 0/? [00:00<?, ?it/s]"
      ]
     },
     "metadata": {},
     "output_type": "display_data"
    },
    {
     "data": {
      "application/vnd.jupyter.widget-view+json": {
       "model_id": "19087d6eceff4cbeb29b2dad46465d31",
       "version_major": 2,
       "version_minor": 0
      },
      "text/plain": [
       "Validation: |          | 0/? [00:00<?, ?it/s]"
      ]
     },
     "metadata": {},
     "output_type": "display_data"
    },
    {
     "data": {
      "application/vnd.jupyter.widget-view+json": {
       "model_id": "474e15916e804476ae44ec6c134b3a8e",
       "version_major": 2,
       "version_minor": 0
      },
      "text/plain": [
       "Validation: |          | 0/? [00:00<?, ?it/s]"
      ]
     },
     "metadata": {},
     "output_type": "display_data"
    },
    {
     "data": {
      "application/vnd.jupyter.widget-view+json": {
       "model_id": "57a4036b463f4104ba05f61d8a656400",
       "version_major": 2,
       "version_minor": 0
      },
      "text/plain": [
       "Validation: |          | 0/? [00:00<?, ?it/s]"
      ]
     },
     "metadata": {},
     "output_type": "display_data"
    },
    {
     "data": {
      "application/vnd.jupyter.widget-view+json": {
       "model_id": "d8ea253dffa44779af0e0b61b57d50fd",
       "version_major": 2,
       "version_minor": 0
      },
      "text/plain": [
       "Validation: |          | 0/? [00:00<?, ?it/s]"
      ]
     },
     "metadata": {},
     "output_type": "display_data"
    },
    {
     "data": {
      "application/vnd.jupyter.widget-view+json": {
       "model_id": "5093129db85845e49fcbe3635735dcb1",
       "version_major": 2,
       "version_minor": 0
      },
      "text/plain": [
       "Validation: |          | 0/? [00:00<?, ?it/s]"
      ]
     },
     "metadata": {},
     "output_type": "display_data"
    },
    {
     "data": {
      "application/vnd.jupyter.widget-view+json": {
       "model_id": "5232ea0c182a4efc96365cca9b50a2da",
       "version_major": 2,
       "version_minor": 0
      },
      "text/plain": [
       "Validation: |          | 0/? [00:00<?, ?it/s]"
      ]
     },
     "metadata": {},
     "output_type": "display_data"
    },
    {
     "data": {
      "application/vnd.jupyter.widget-view+json": {
       "model_id": "a46294670061499bb609f2b9960cda2f",
       "version_major": 2,
       "version_minor": 0
      },
      "text/plain": [
       "Validation: |          | 0/? [00:00<?, ?it/s]"
      ]
     },
     "metadata": {},
     "output_type": "display_data"
    },
    {
     "data": {
      "application/vnd.jupyter.widget-view+json": {
       "model_id": "daa08970266b452eafa05e044261550c",
       "version_major": 2,
       "version_minor": 0
      },
      "text/plain": [
       "Validation: |          | 0/? [00:00<?, ?it/s]"
      ]
     },
     "metadata": {},
     "output_type": "display_data"
    },
    {
     "data": {
      "application/vnd.jupyter.widget-view+json": {
       "model_id": "7bb17f5db13c4516a39f258b76346df5",
       "version_major": 2,
       "version_minor": 0
      },
      "text/plain": [
       "Validation: |          | 0/? [00:00<?, ?it/s]"
      ]
     },
     "metadata": {},
     "output_type": "display_data"
    },
    {
     "data": {
      "application/vnd.jupyter.widget-view+json": {
       "model_id": "27fce1a94230466aad436db7bb501177",
       "version_major": 2,
       "version_minor": 0
      },
      "text/plain": [
       "Validation: |          | 0/? [00:00<?, ?it/s]"
      ]
     },
     "metadata": {},
     "output_type": "display_data"
    },
    {
     "data": {
      "application/vnd.jupyter.widget-view+json": {
       "model_id": "05be71fa32e8444e9e00e1903d76c9b8",
       "version_major": 2,
       "version_minor": 0
      },
      "text/plain": [
       "Validation: |          | 0/? [00:00<?, ?it/s]"
      ]
     },
     "metadata": {},
     "output_type": "display_data"
    },
    {
     "data": {
      "application/vnd.jupyter.widget-view+json": {
       "model_id": "ddb4055fb89a43efa20655ba929b1760",
       "version_major": 2,
       "version_minor": 0
      },
      "text/plain": [
       "Validation: |          | 0/? [00:00<?, ?it/s]"
      ]
     },
     "metadata": {},
     "output_type": "display_data"
    },
    {
     "data": {
      "application/vnd.jupyter.widget-view+json": {
       "model_id": "b4cd86223f6040be915cf2867f3b8c83",
       "version_major": 2,
       "version_minor": 0
      },
      "text/plain": [
       "Validation: |          | 0/? [00:00<?, ?it/s]"
      ]
     },
     "metadata": {},
     "output_type": "display_data"
    },
    {
     "data": {
      "application/vnd.jupyter.widget-view+json": {
       "model_id": "e400529ae8fb4d3e9a890b699758480b",
       "version_major": 2,
       "version_minor": 0
      },
      "text/plain": [
       "Validation: |          | 0/? [00:00<?, ?it/s]"
      ]
     },
     "metadata": {},
     "output_type": "display_data"
    },
    {
     "data": {
      "application/vnd.jupyter.widget-view+json": {
       "model_id": "f740f5a59e314da0a05944e9757d710d",
       "version_major": 2,
       "version_minor": 0
      },
      "text/plain": [
       "Validation: |          | 0/? [00:00<?, ?it/s]"
      ]
     },
     "metadata": {},
     "output_type": "display_data"
    },
    {
     "data": {
      "application/vnd.jupyter.widget-view+json": {
       "model_id": "e0b63278783f48f6b0922331f81e829b",
       "version_major": 2,
       "version_minor": 0
      },
      "text/plain": [
       "Validation: |          | 0/? [00:00<?, ?it/s]"
      ]
     },
     "metadata": {},
     "output_type": "display_data"
    },
    {
     "data": {
      "application/vnd.jupyter.widget-view+json": {
       "model_id": "52af838800904b2084e7f17a19f7492e",
       "version_major": 2,
       "version_minor": 0
      },
      "text/plain": [
       "Validation: |          | 0/? [00:00<?, ?it/s]"
      ]
     },
     "metadata": {},
     "output_type": "display_data"
    },
    {
     "data": {
      "application/vnd.jupyter.widget-view+json": {
       "model_id": "6b722f0555944bafacdb098831150e9a",
       "version_major": 2,
       "version_minor": 0
      },
      "text/plain": [
       "Validation: |          | 0/? [00:00<?, ?it/s]"
      ]
     },
     "metadata": {},
     "output_type": "display_data"
    },
    {
     "data": {
      "application/vnd.jupyter.widget-view+json": {
       "model_id": "f70b69d2bc7c44dbb6fbe36f1df23295",
       "version_major": 2,
       "version_minor": 0
      },
      "text/plain": [
       "Validation: |          | 0/? [00:00<?, ?it/s]"
      ]
     },
     "metadata": {},
     "output_type": "display_data"
    },
    {
     "data": {
      "application/vnd.jupyter.widget-view+json": {
       "model_id": "84e39a42049843b78f04c15e49385f79",
       "version_major": 2,
       "version_minor": 0
      },
      "text/plain": [
       "Validation: |          | 0/? [00:00<?, ?it/s]"
      ]
     },
     "metadata": {},
     "output_type": "display_data"
    },
    {
     "data": {
      "application/vnd.jupyter.widget-view+json": {
       "model_id": "0f3c975ea2fc48eb9c8e56dc07f08e1c",
       "version_major": 2,
       "version_minor": 0
      },
      "text/plain": [
       "Validation: |          | 0/? [00:00<?, ?it/s]"
      ]
     },
     "metadata": {},
     "output_type": "display_data"
    },
    {
     "data": {
      "application/vnd.jupyter.widget-view+json": {
       "model_id": "6453dadd84aa4c1f8a27804d9924fc1a",
       "version_major": 2,
       "version_minor": 0
      },
      "text/plain": [
       "Validation: |          | 0/? [00:00<?, ?it/s]"
      ]
     },
     "metadata": {},
     "output_type": "display_data"
    },
    {
     "data": {
      "application/vnd.jupyter.widget-view+json": {
       "model_id": "834cc3ad5e1f40dabef3e768976874dd",
       "version_major": 2,
       "version_minor": 0
      },
      "text/plain": [
       "Validation: |          | 0/? [00:00<?, ?it/s]"
      ]
     },
     "metadata": {},
     "output_type": "display_data"
    },
    {
     "data": {
      "application/vnd.jupyter.widget-view+json": {
       "model_id": "1ad79478d74545dbb03b60e5b64205f4",
       "version_major": 2,
       "version_minor": 0
      },
      "text/plain": [
       "Validation: |          | 0/? [00:00<?, ?it/s]"
      ]
     },
     "metadata": {},
     "output_type": "display_data"
    },
    {
     "data": {
      "application/vnd.jupyter.widget-view+json": {
       "model_id": "52294bbdf8df49a19a9896adad860293",
       "version_major": 2,
       "version_minor": 0
      },
      "text/plain": [
       "Validation: |          | 0/? [00:00<?, ?it/s]"
      ]
     },
     "metadata": {},
     "output_type": "display_data"
    },
    {
     "data": {
      "application/vnd.jupyter.widget-view+json": {
       "model_id": "812df379b4b64ebfb82d9b258080a653",
       "version_major": 2,
       "version_minor": 0
      },
      "text/plain": [
       "Validation: |          | 0/? [00:00<?, ?it/s]"
      ]
     },
     "metadata": {},
     "output_type": "display_data"
    },
    {
     "data": {
      "application/vnd.jupyter.widget-view+json": {
       "model_id": "02e16fbd4fd74e3aa775e8ffdcb9482d",
       "version_major": 2,
       "version_minor": 0
      },
      "text/plain": [
       "Validation: |          | 0/? [00:00<?, ?it/s]"
      ]
     },
     "metadata": {},
     "output_type": "display_data"
    },
    {
     "data": {
      "application/vnd.jupyter.widget-view+json": {
       "model_id": "8b3b58fb7ad34bb7b98f97a4eb18a8e9",
       "version_major": 2,
       "version_minor": 0
      },
      "text/plain": [
       "Validation: |          | 0/? [00:00<?, ?it/s]"
      ]
     },
     "metadata": {},
     "output_type": "display_data"
    },
    {
     "data": {
      "application/vnd.jupyter.widget-view+json": {
       "model_id": "6cdfc5fa1735461085cb23b36954016a",
       "version_major": 2,
       "version_minor": 0
      },
      "text/plain": [
       "Validation: |          | 0/? [00:00<?, ?it/s]"
      ]
     },
     "metadata": {},
     "output_type": "display_data"
    },
    {
     "data": {
      "application/vnd.jupyter.widget-view+json": {
       "model_id": "962fb09e1a3a4d1bacb4f0d54c892794",
       "version_major": 2,
       "version_minor": 0
      },
      "text/plain": [
       "Validation: |          | 0/? [00:00<?, ?it/s]"
      ]
     },
     "metadata": {},
     "output_type": "display_data"
    },
    {
     "data": {
      "application/vnd.jupyter.widget-view+json": {
       "model_id": "0484661bdce44992a68098d3194e619c",
       "version_major": 2,
       "version_minor": 0
      },
      "text/plain": [
       "Validation: |          | 0/? [00:00<?, ?it/s]"
      ]
     },
     "metadata": {},
     "output_type": "display_data"
    },
    {
     "data": {
      "application/vnd.jupyter.widget-view+json": {
       "model_id": "624526b6087940e2adc39d150d9e7683",
       "version_major": 2,
       "version_minor": 0
      },
      "text/plain": [
       "Validation: |          | 0/? [00:00<?, ?it/s]"
      ]
     },
     "metadata": {},
     "output_type": "display_data"
    },
    {
     "data": {
      "application/vnd.jupyter.widget-view+json": {
       "model_id": "88602b6e39fd49138195d7bbdf4e8c13",
       "version_major": 2,
       "version_minor": 0
      },
      "text/plain": [
       "Validation: |          | 0/? [00:00<?, ?it/s]"
      ]
     },
     "metadata": {},
     "output_type": "display_data"
    },
    {
     "data": {
      "application/vnd.jupyter.widget-view+json": {
       "model_id": "2ef4cc3a52cf417b9e0dba17aa5d0a17",
       "version_major": 2,
       "version_minor": 0
      },
      "text/plain": [
       "Validation: |          | 0/? [00:00<?, ?it/s]"
      ]
     },
     "metadata": {},
     "output_type": "display_data"
    },
    {
     "data": {
      "application/vnd.jupyter.widget-view+json": {
       "model_id": "dbb9921296954f56b70b8021ff405ccb",
       "version_major": 2,
       "version_minor": 0
      },
      "text/plain": [
       "Validation: |          | 0/? [00:00<?, ?it/s]"
      ]
     },
     "metadata": {},
     "output_type": "display_data"
    },
    {
     "data": {
      "application/vnd.jupyter.widget-view+json": {
       "model_id": "f95bce4d683a48eebda5211c7284c2b6",
       "version_major": 2,
       "version_minor": 0
      },
      "text/plain": [
       "Validation: |          | 0/? [00:00<?, ?it/s]"
      ]
     },
     "metadata": {},
     "output_type": "display_data"
    },
    {
     "data": {
      "application/vnd.jupyter.widget-view+json": {
       "model_id": "9c79f4d6905e4ddaab191e1e34531c9c",
       "version_major": 2,
       "version_minor": 0
      },
      "text/plain": [
       "Validation: |          | 0/? [00:00<?, ?it/s]"
      ]
     },
     "metadata": {},
     "output_type": "display_data"
    },
    {
     "data": {
      "application/vnd.jupyter.widget-view+json": {
       "model_id": "70d1f44326464f1fa320c58f815a418c",
       "version_major": 2,
       "version_minor": 0
      },
      "text/plain": [
       "Validation: |          | 0/? [00:00<?, ?it/s]"
      ]
     },
     "metadata": {},
     "output_type": "display_data"
    },
    {
     "data": {
      "application/vnd.jupyter.widget-view+json": {
       "model_id": "f4baa1cf07924cd0a4b722423b97e35a",
       "version_major": 2,
       "version_minor": 0
      },
      "text/plain": [
       "Validation: |          | 0/? [00:00<?, ?it/s]"
      ]
     },
     "metadata": {},
     "output_type": "display_data"
    },
    {
     "data": {
      "application/vnd.jupyter.widget-view+json": {
       "model_id": "634b24d22ddf456caa5174907cf69b0d",
       "version_major": 2,
       "version_minor": 0
      },
      "text/plain": [
       "Validation: |          | 0/? [00:00<?, ?it/s]"
      ]
     },
     "metadata": {},
     "output_type": "display_data"
    },
    {
     "data": {
      "application/vnd.jupyter.widget-view+json": {
       "model_id": "246a174dfd464f24949b510dec65447b",
       "version_major": 2,
       "version_minor": 0
      },
      "text/plain": [
       "Validation: |          | 0/? [00:00<?, ?it/s]"
      ]
     },
     "metadata": {},
     "output_type": "display_data"
    },
    {
     "data": {
      "application/vnd.jupyter.widget-view+json": {
       "model_id": "3b4db391f01d45b3b842a10f97a32d71",
       "version_major": 2,
       "version_minor": 0
      },
      "text/plain": [
       "Validation: |          | 0/? [00:00<?, ?it/s]"
      ]
     },
     "metadata": {},
     "output_type": "display_data"
    },
    {
     "data": {
      "application/vnd.jupyter.widget-view+json": {
       "model_id": "c7c535acc7df4e9da9dd8e816b2382fd",
       "version_major": 2,
       "version_minor": 0
      },
      "text/plain": [
       "Validation: |          | 0/? [00:00<?, ?it/s]"
      ]
     },
     "metadata": {},
     "output_type": "display_data"
    },
    {
     "data": {
      "application/vnd.jupyter.widget-view+json": {
       "model_id": "bd83c98d761647068ac38f26e4ef68d6",
       "version_major": 2,
       "version_minor": 0
      },
      "text/plain": [
       "Validation: |          | 0/? [00:00<?, ?it/s]"
      ]
     },
     "metadata": {},
     "output_type": "display_data"
    },
    {
     "data": {
      "application/vnd.jupyter.widget-view+json": {
       "model_id": "1dc6dade132a4642a3e9e72a47babfb3",
       "version_major": 2,
       "version_minor": 0
      },
      "text/plain": [
       "Validation: |          | 0/? [00:00<?, ?it/s]"
      ]
     },
     "metadata": {},
     "output_type": "display_data"
    },
    {
     "data": {
      "application/vnd.jupyter.widget-view+json": {
       "model_id": "17669e0b8b2c4409b6ef7d744f6cbc63",
       "version_major": 2,
       "version_minor": 0
      },
      "text/plain": [
       "Validation: |          | 0/? [00:00<?, ?it/s]"
      ]
     },
     "metadata": {},
     "output_type": "display_data"
    },
    {
     "data": {
      "application/vnd.jupyter.widget-view+json": {
       "model_id": "3285418be89d44e585036391541a943f",
       "version_major": 2,
       "version_minor": 0
      },
      "text/plain": [
       "Validation: |          | 0/? [00:00<?, ?it/s]"
      ]
     },
     "metadata": {},
     "output_type": "display_data"
    },
    {
     "data": {
      "application/vnd.jupyter.widget-view+json": {
       "model_id": "c4743387856248f2b307679998c158b9",
       "version_major": 2,
       "version_minor": 0
      },
      "text/plain": [
       "Validation: |          | 0/? [00:00<?, ?it/s]"
      ]
     },
     "metadata": {},
     "output_type": "display_data"
    },
    {
     "data": {
      "application/vnd.jupyter.widget-view+json": {
       "model_id": "7e80d699242545779689ddd7ce7622a9",
       "version_major": 2,
       "version_minor": 0
      },
      "text/plain": [
       "Validation: |          | 0/? [00:00<?, ?it/s]"
      ]
     },
     "metadata": {},
     "output_type": "display_data"
    },
    {
     "data": {
      "application/vnd.jupyter.widget-view+json": {
       "model_id": "2dd3e658e93442c19532229bd883422d",
       "version_major": 2,
       "version_minor": 0
      },
      "text/plain": [
       "Validation: |          | 0/? [00:00<?, ?it/s]"
      ]
     },
     "metadata": {},
     "output_type": "display_data"
    },
    {
     "data": {
      "application/vnd.jupyter.widget-view+json": {
       "model_id": "9906cc0b721848be856af94ff65585ab",
       "version_major": 2,
       "version_minor": 0
      },
      "text/plain": [
       "Validation: |          | 0/? [00:00<?, ?it/s]"
      ]
     },
     "metadata": {},
     "output_type": "display_data"
    },
    {
     "data": {
      "application/vnd.jupyter.widget-view+json": {
       "model_id": "98b8ca4955fc42f789710d2cdc72e301",
       "version_major": 2,
       "version_minor": 0
      },
      "text/plain": [
       "Validation: |          | 0/? [00:00<?, ?it/s]"
      ]
     },
     "metadata": {},
     "output_type": "display_data"
    },
    {
     "data": {
      "application/vnd.jupyter.widget-view+json": {
       "model_id": "9c691db24e404fa4be502885b353b381",
       "version_major": 2,
       "version_minor": 0
      },
      "text/plain": [
       "Validation: |          | 0/? [00:00<?, ?it/s]"
      ]
     },
     "metadata": {},
     "output_type": "display_data"
    },
    {
     "data": {
      "application/vnd.jupyter.widget-view+json": {
       "model_id": "765d1b71320e49ceac59a98aec15a0ba",
       "version_major": 2,
       "version_minor": 0
      },
      "text/plain": [
       "Validation: |          | 0/? [00:00<?, ?it/s]"
      ]
     },
     "metadata": {},
     "output_type": "display_data"
    },
    {
     "data": {
      "application/vnd.jupyter.widget-view+json": {
       "model_id": "fcb980d0c88b4a63aafdfb590fb64e60",
       "version_major": 2,
       "version_minor": 0
      },
      "text/plain": [
       "Validation: |          | 0/? [00:00<?, ?it/s]"
      ]
     },
     "metadata": {},
     "output_type": "display_data"
    },
    {
     "data": {
      "application/vnd.jupyter.widget-view+json": {
       "model_id": "b3989e19d11b4918974fed2d3f61c24c",
       "version_major": 2,
       "version_minor": 0
      },
      "text/plain": [
       "Validation: |          | 0/? [00:00<?, ?it/s]"
      ]
     },
     "metadata": {},
     "output_type": "display_data"
    },
    {
     "data": {
      "application/vnd.jupyter.widget-view+json": {
       "model_id": "72265ccb1a4640f1ab64bb7d0df10441",
       "version_major": 2,
       "version_minor": 0
      },
      "text/plain": [
       "Validation: |          | 0/? [00:00<?, ?it/s]"
      ]
     },
     "metadata": {},
     "output_type": "display_data"
    },
    {
     "data": {
      "application/vnd.jupyter.widget-view+json": {
       "model_id": "effb6afb43ff4048844c54adb64f3d9e",
       "version_major": 2,
       "version_minor": 0
      },
      "text/plain": [
       "Validation: |          | 0/? [00:00<?, ?it/s]"
      ]
     },
     "metadata": {},
     "output_type": "display_data"
    },
    {
     "data": {
      "application/vnd.jupyter.widget-view+json": {
       "model_id": "f6f922f35df34bef958b447791d41686",
       "version_major": 2,
       "version_minor": 0
      },
      "text/plain": [
       "Validation: |          | 0/? [00:00<?, ?it/s]"
      ]
     },
     "metadata": {},
     "output_type": "display_data"
    },
    {
     "data": {
      "application/vnd.jupyter.widget-view+json": {
       "model_id": "73de1a400d074e7abea3a82001532887",
       "version_major": 2,
       "version_minor": 0
      },
      "text/plain": [
       "Validation: |          | 0/? [00:00<?, ?it/s]"
      ]
     },
     "metadata": {},
     "output_type": "display_data"
    },
    {
     "data": {
      "application/vnd.jupyter.widget-view+json": {
       "model_id": "7f389d4345fd4eefa048f41d2a9fd9e0",
       "version_major": 2,
       "version_minor": 0
      },
      "text/plain": [
       "Validation: |          | 0/? [00:00<?, ?it/s]"
      ]
     },
     "metadata": {},
     "output_type": "display_data"
    },
    {
     "data": {
      "application/vnd.jupyter.widget-view+json": {
       "model_id": "70fa7514ddfd4fe5876dbeefae4db8e5",
       "version_major": 2,
       "version_minor": 0
      },
      "text/plain": [
       "Validation: |          | 0/? [00:00<?, ?it/s]"
      ]
     },
     "metadata": {},
     "output_type": "display_data"
    },
    {
     "data": {
      "application/vnd.jupyter.widget-view+json": {
       "model_id": "874ab2e5f72846c09036513a06204ace",
       "version_major": 2,
       "version_minor": 0
      },
      "text/plain": [
       "Validation: |          | 0/? [00:00<?, ?it/s]"
      ]
     },
     "metadata": {},
     "output_type": "display_data"
    },
    {
     "data": {
      "application/vnd.jupyter.widget-view+json": {
       "model_id": "5fecfc13003a4ec69e4e445189f20d03",
       "version_major": 2,
       "version_minor": 0
      },
      "text/plain": [
       "Validation: |          | 0/? [00:00<?, ?it/s]"
      ]
     },
     "metadata": {},
     "output_type": "display_data"
    },
    {
     "data": {
      "application/vnd.jupyter.widget-view+json": {
       "model_id": "50cbbf244eca4a8fbd40b22a217c4caf",
       "version_major": 2,
       "version_minor": 0
      },
      "text/plain": [
       "Validation: |          | 0/? [00:00<?, ?it/s]"
      ]
     },
     "metadata": {},
     "output_type": "display_data"
    },
    {
     "data": {
      "application/vnd.jupyter.widget-view+json": {
       "model_id": "4a75a24d434d415e853fed722a58e3bf",
       "version_major": 2,
       "version_minor": 0
      },
      "text/plain": [
       "Validation: |          | 0/? [00:00<?, ?it/s]"
      ]
     },
     "metadata": {},
     "output_type": "display_data"
    },
    {
     "data": {
      "application/vnd.jupyter.widget-view+json": {
       "model_id": "66f5f1fe7f834905bbd57d17902f77da",
       "version_major": 2,
       "version_minor": 0
      },
      "text/plain": [
       "Validation: |          | 0/? [00:00<?, ?it/s]"
      ]
     },
     "metadata": {},
     "output_type": "display_data"
    },
    {
     "data": {
      "application/vnd.jupyter.widget-view+json": {
       "model_id": "36546baef5b64af7919e7c86b8c52563",
       "version_major": 2,
       "version_minor": 0
      },
      "text/plain": [
       "Validation: |          | 0/? [00:00<?, ?it/s]"
      ]
     },
     "metadata": {},
     "output_type": "display_data"
    },
    {
     "data": {
      "application/vnd.jupyter.widget-view+json": {
       "model_id": "4bc1dd54bc30492bab6d7da7e57c785c",
       "version_major": 2,
       "version_minor": 0
      },
      "text/plain": [
       "Validation: |          | 0/? [00:00<?, ?it/s]"
      ]
     },
     "metadata": {},
     "output_type": "display_data"
    },
    {
     "data": {
      "application/vnd.jupyter.widget-view+json": {
       "model_id": "0d2b309f93844ebf87e1961f78e99b93",
       "version_major": 2,
       "version_minor": 0
      },
      "text/plain": [
       "Validation: |          | 0/? [00:00<?, ?it/s]"
      ]
     },
     "metadata": {},
     "output_type": "display_data"
    },
    {
     "data": {
      "application/vnd.jupyter.widget-view+json": {
       "model_id": "280a3158235c427a93dfeeb459464dd5",
       "version_major": 2,
       "version_minor": 0
      },
      "text/plain": [
       "Validation: |          | 0/? [00:00<?, ?it/s]"
      ]
     },
     "metadata": {},
     "output_type": "display_data"
    },
    {
     "data": {
      "application/vnd.jupyter.widget-view+json": {
       "model_id": "872efa1e617e4770893150bec64014fd",
       "version_major": 2,
       "version_minor": 0
      },
      "text/plain": [
       "Validation: |          | 0/? [00:00<?, ?it/s]"
      ]
     },
     "metadata": {},
     "output_type": "display_data"
    },
    {
     "data": {
      "application/vnd.jupyter.widget-view+json": {
       "model_id": "2592d957b9604b7c9ba2022a7f762b9d",
       "version_major": 2,
       "version_minor": 0
      },
      "text/plain": [
       "Validation: |          | 0/? [00:00<?, ?it/s]"
      ]
     },
     "metadata": {},
     "output_type": "display_data"
    },
    {
     "data": {
      "application/vnd.jupyter.widget-view+json": {
       "model_id": "148e040f9cac4147a38e0b8517a3cacd",
       "version_major": 2,
       "version_minor": 0
      },
      "text/plain": [
       "Validation: |          | 0/? [00:00<?, ?it/s]"
      ]
     },
     "metadata": {},
     "output_type": "display_data"
    },
    {
     "data": {
      "application/vnd.jupyter.widget-view+json": {
       "model_id": "5eab8d175f2c467aa44a8d63bf221c4e",
       "version_major": 2,
       "version_minor": 0
      },
      "text/plain": [
       "Validation: |          | 0/? [00:00<?, ?it/s]"
      ]
     },
     "metadata": {},
     "output_type": "display_data"
    },
    {
     "data": {
      "application/vnd.jupyter.widget-view+json": {
       "model_id": "241b5909984d45d28f927fbd638e0fe2",
       "version_major": 2,
       "version_minor": 0
      },
      "text/plain": [
       "Validation: |          | 0/? [00:00<?, ?it/s]"
      ]
     },
     "metadata": {},
     "output_type": "display_data"
    },
    {
     "data": {
      "application/vnd.jupyter.widget-view+json": {
       "model_id": "0727ce6ebcd14d9aa9e2ca8c77238958",
       "version_major": 2,
       "version_minor": 0
      },
      "text/plain": [
       "Validation: |          | 0/? [00:00<?, ?it/s]"
      ]
     },
     "metadata": {},
     "output_type": "display_data"
    },
    {
     "data": {
      "application/vnd.jupyter.widget-view+json": {
       "model_id": "a8bf27d46c104141937aefa7d4daaf30",
       "version_major": 2,
       "version_minor": 0
      },
      "text/plain": [
       "Validation: |          | 0/? [00:00<?, ?it/s]"
      ]
     },
     "metadata": {},
     "output_type": "display_data"
    },
    {
     "data": {
      "application/vnd.jupyter.widget-view+json": {
       "model_id": "f032852a95424adca12a9ca978216637",
       "version_major": 2,
       "version_minor": 0
      },
      "text/plain": [
       "Validation: |          | 0/? [00:00<?, ?it/s]"
      ]
     },
     "metadata": {},
     "output_type": "display_data"
    },
    {
     "data": {
      "application/vnd.jupyter.widget-view+json": {
       "model_id": "a35e2c0ab9c74aec9c0314feda736795",
       "version_major": 2,
       "version_minor": 0
      },
      "text/plain": [
       "Validation: |          | 0/? [00:00<?, ?it/s]"
      ]
     },
     "metadata": {},
     "output_type": "display_data"
    },
    {
     "data": {
      "application/vnd.jupyter.widget-view+json": {
       "model_id": "7f97a968e1dc46bcab593239edc5f00b",
       "version_major": 2,
       "version_minor": 0
      },
      "text/plain": [
       "Validation: |          | 0/? [00:00<?, ?it/s]"
      ]
     },
     "metadata": {},
     "output_type": "display_data"
    },
    {
     "data": {
      "application/vnd.jupyter.widget-view+json": {
       "model_id": "9675cda1d39d4ba6879ec98fe6f44276",
       "version_major": 2,
       "version_minor": 0
      },
      "text/plain": [
       "Validation: |          | 0/? [00:00<?, ?it/s]"
      ]
     },
     "metadata": {},
     "output_type": "display_data"
    },
    {
     "data": {
      "application/vnd.jupyter.widget-view+json": {
       "model_id": "bb83c84396a64cb09d8bf9d75d6b4398",
       "version_major": 2,
       "version_minor": 0
      },
      "text/plain": [
       "Validation: |          | 0/? [00:00<?, ?it/s]"
      ]
     },
     "metadata": {},
     "output_type": "display_data"
    },
    {
     "data": {
      "application/vnd.jupyter.widget-view+json": {
       "model_id": "5f5afc0227fe4a64a05948f9312bc872",
       "version_major": 2,
       "version_minor": 0
      },
      "text/plain": [
       "Validation: |          | 0/? [00:00<?, ?it/s]"
      ]
     },
     "metadata": {},
     "output_type": "display_data"
    },
    {
     "data": {
      "application/vnd.jupyter.widget-view+json": {
       "model_id": "2f79d30b778340f9912fd9f30a619943",
       "version_major": 2,
       "version_minor": 0
      },
      "text/plain": [
       "Validation: |          | 0/? [00:00<?, ?it/s]"
      ]
     },
     "metadata": {},
     "output_type": "display_data"
    },
    {
     "data": {
      "application/vnd.jupyter.widget-view+json": {
       "model_id": "ad7f5b0cf0404b3f95852c70159ac1e2",
       "version_major": 2,
       "version_minor": 0
      },
      "text/plain": [
       "Validation: |          | 0/? [00:00<?, ?it/s]"
      ]
     },
     "metadata": {},
     "output_type": "display_data"
    },
    {
     "data": {
      "application/vnd.jupyter.widget-view+json": {
       "model_id": "71b6a114e7d44a0a837fb03622b3d3be",
       "version_major": 2,
       "version_minor": 0
      },
      "text/plain": [
       "Validation: |          | 0/? [00:00<?, ?it/s]"
      ]
     },
     "metadata": {},
     "output_type": "display_data"
    },
    {
     "data": {
      "application/vnd.jupyter.widget-view+json": {
       "model_id": "11f81161a16c40e0a7e12dfb8eae6ad3",
       "version_major": 2,
       "version_minor": 0
      },
      "text/plain": [
       "Validation: |          | 0/? [00:00<?, ?it/s]"
      ]
     },
     "metadata": {},
     "output_type": "display_data"
    },
    {
     "data": {
      "application/vnd.jupyter.widget-view+json": {
       "model_id": "94fa59eaa0ce49b19ac618e0aed6431c",
       "version_major": 2,
       "version_minor": 0
      },
      "text/plain": [
       "Validation: |          | 0/? [00:00<?, ?it/s]"
      ]
     },
     "metadata": {},
     "output_type": "display_data"
    },
    {
     "data": {
      "application/vnd.jupyter.widget-view+json": {
       "model_id": "179c6569fe78492fbd3f7219788d1a17",
       "version_major": 2,
       "version_minor": 0
      },
      "text/plain": [
       "Validation: |          | 0/? [00:00<?, ?it/s]"
      ]
     },
     "metadata": {},
     "output_type": "display_data"
    },
    {
     "data": {
      "application/vnd.jupyter.widget-view+json": {
       "model_id": "dedab8fc8ff64f1aac2386b313c753ad",
       "version_major": 2,
       "version_minor": 0
      },
      "text/plain": [
       "Validation: |          | 0/? [00:00<?, ?it/s]"
      ]
     },
     "metadata": {},
     "output_type": "display_data"
    },
    {
     "data": {
      "application/vnd.jupyter.widget-view+json": {
       "model_id": "42abaaf5f40d4993a409e488dbfb382c",
       "version_major": 2,
       "version_minor": 0
      },
      "text/plain": [
       "Validation: |          | 0/? [00:00<?, ?it/s]"
      ]
     },
     "metadata": {},
     "output_type": "display_data"
    },
    {
     "data": {
      "application/vnd.jupyter.widget-view+json": {
       "model_id": "b99cdeaae2664923b4096e69aa8471bb",
       "version_major": 2,
       "version_minor": 0
      },
      "text/plain": [
       "Validation: |          | 0/? [00:00<?, ?it/s]"
      ]
     },
     "metadata": {},
     "output_type": "display_data"
    },
    {
     "data": {
      "application/vnd.jupyter.widget-view+json": {
       "model_id": "a19f6c06206c40bd959901645eeb7953",
       "version_major": 2,
       "version_minor": 0
      },
      "text/plain": [
       "Validation: |          | 0/? [00:00<?, ?it/s]"
      ]
     },
     "metadata": {},
     "output_type": "display_data"
    },
    {
     "data": {
      "application/vnd.jupyter.widget-view+json": {
       "model_id": "f67f015a7afe431480fccc21435bf98e",
       "version_major": 2,
       "version_minor": 0
      },
      "text/plain": [
       "Validation: |          | 0/? [00:00<?, ?it/s]"
      ]
     },
     "metadata": {},
     "output_type": "display_data"
    },
    {
     "data": {
      "application/vnd.jupyter.widget-view+json": {
       "model_id": "e727fcfec5c0465ca95702623396dda9",
       "version_major": 2,
       "version_minor": 0
      },
      "text/plain": [
       "Validation: |          | 0/? [00:00<?, ?it/s]"
      ]
     },
     "metadata": {},
     "output_type": "display_data"
    },
    {
     "data": {
      "application/vnd.jupyter.widget-view+json": {
       "model_id": "6dde581b3864483e951e037d7df4e650",
       "version_major": 2,
       "version_minor": 0
      },
      "text/plain": [
       "Validation: |          | 0/? [00:00<?, ?it/s]"
      ]
     },
     "metadata": {},
     "output_type": "display_data"
    },
    {
     "data": {
      "application/vnd.jupyter.widget-view+json": {
       "model_id": "63f876675cea47fe83699f6b3dc6f53b",
       "version_major": 2,
       "version_minor": 0
      },
      "text/plain": [
       "Validation: |          | 0/? [00:00<?, ?it/s]"
      ]
     },
     "metadata": {},
     "output_type": "display_data"
    },
    {
     "data": {
      "application/vnd.jupyter.widget-view+json": {
       "model_id": "eb4d6922611a4a5a85516d83877b1e07",
       "version_major": 2,
       "version_minor": 0
      },
      "text/plain": [
       "Validation: |          | 0/? [00:00<?, ?it/s]"
      ]
     },
     "metadata": {},
     "output_type": "display_data"
    },
    {
     "data": {
      "application/vnd.jupyter.widget-view+json": {
       "model_id": "3458f2c1ac424bd18ba7ab15dab028a5",
       "version_major": 2,
       "version_minor": 0
      },
      "text/plain": [
       "Validation: |          | 0/? [00:00<?, ?it/s]"
      ]
     },
     "metadata": {},
     "output_type": "display_data"
    },
    {
     "data": {
      "application/vnd.jupyter.widget-view+json": {
       "model_id": "d5ab5ddae38642ab94f52e8dd7ad7a95",
       "version_major": 2,
       "version_minor": 0
      },
      "text/plain": [
       "Validation: |          | 0/? [00:00<?, ?it/s]"
      ]
     },
     "metadata": {},
     "output_type": "display_data"
    },
    {
     "data": {
      "application/vnd.jupyter.widget-view+json": {
       "model_id": "ea2c0df4007949fbaedf18a86f66eec1",
       "version_major": 2,
       "version_minor": 0
      },
      "text/plain": [
       "Validation: |          | 0/? [00:00<?, ?it/s]"
      ]
     },
     "metadata": {},
     "output_type": "display_data"
    },
    {
     "data": {
      "application/vnd.jupyter.widget-view+json": {
       "model_id": "12617de868ff419abea3558c1e86ef3b",
       "version_major": 2,
       "version_minor": 0
      },
      "text/plain": [
       "Validation: |          | 0/? [00:00<?, ?it/s]"
      ]
     },
     "metadata": {},
     "output_type": "display_data"
    },
    {
     "data": {
      "application/vnd.jupyter.widget-view+json": {
       "model_id": "e1aedebba24b4ab7b04880e71720ab57",
       "version_major": 2,
       "version_minor": 0
      },
      "text/plain": [
       "Validation: |          | 0/? [00:00<?, ?it/s]"
      ]
     },
     "metadata": {},
     "output_type": "display_data"
    },
    {
     "data": {
      "application/vnd.jupyter.widget-view+json": {
       "model_id": "149b4c60bc3f4300913b74845c3bcdc6",
       "version_major": 2,
       "version_minor": 0
      },
      "text/plain": [
       "Validation: |          | 0/? [00:00<?, ?it/s]"
      ]
     },
     "metadata": {},
     "output_type": "display_data"
    },
    {
     "data": {
      "application/vnd.jupyter.widget-view+json": {
       "model_id": "261507da6fcf49579647e7f9df931fc5",
       "version_major": 2,
       "version_minor": 0
      },
      "text/plain": [
       "Validation: |          | 0/? [00:00<?, ?it/s]"
      ]
     },
     "metadata": {},
     "output_type": "display_data"
    },
    {
     "data": {
      "application/vnd.jupyter.widget-view+json": {
       "model_id": "6101fff1432447e7aa437b6294a38652",
       "version_major": 2,
       "version_minor": 0
      },
      "text/plain": [
       "Validation: |          | 0/? [00:00<?, ?it/s]"
      ]
     },
     "metadata": {},
     "output_type": "display_data"
    },
    {
     "data": {
      "application/vnd.jupyter.widget-view+json": {
       "model_id": "b2c52b156b594b0eab933e08a8a98d60",
       "version_major": 2,
       "version_minor": 0
      },
      "text/plain": [
       "Validation: |          | 0/? [00:00<?, ?it/s]"
      ]
     },
     "metadata": {},
     "output_type": "display_data"
    },
    {
     "data": {
      "application/vnd.jupyter.widget-view+json": {
       "model_id": "81ebbaf8fabb48a8b99dbc6a1bc3ea2a",
       "version_major": 2,
       "version_minor": 0
      },
      "text/plain": [
       "Validation: |          | 0/? [00:00<?, ?it/s]"
      ]
     },
     "metadata": {},
     "output_type": "display_data"
    },
    {
     "data": {
      "application/vnd.jupyter.widget-view+json": {
       "model_id": "3c284d7a647b419e990230b8c478f7dc",
       "version_major": 2,
       "version_minor": 0
      },
      "text/plain": [
       "Validation: |          | 0/? [00:00<?, ?it/s]"
      ]
     },
     "metadata": {},
     "output_type": "display_data"
    },
    {
     "data": {
      "application/vnd.jupyter.widget-view+json": {
       "model_id": "cdab1a741fa84d9a97ce97adec177020",
       "version_major": 2,
       "version_minor": 0
      },
      "text/plain": [
       "Validation: |          | 0/? [00:00<?, ?it/s]"
      ]
     },
     "metadata": {},
     "output_type": "display_data"
    },
    {
     "data": {
      "application/vnd.jupyter.widget-view+json": {
       "model_id": "3c0ed79bca8c4df18383ffc389599d49",
       "version_major": 2,
       "version_minor": 0
      },
      "text/plain": [
       "Validation: |          | 0/? [00:00<?, ?it/s]"
      ]
     },
     "metadata": {},
     "output_type": "display_data"
    },
    {
     "data": {
      "application/vnd.jupyter.widget-view+json": {
       "model_id": "47ee28d083554c74abc93245e2e7e246",
       "version_major": 2,
       "version_minor": 0
      },
      "text/plain": [
       "Validation: |          | 0/? [00:00<?, ?it/s]"
      ]
     },
     "metadata": {},
     "output_type": "display_data"
    },
    {
     "data": {
      "application/vnd.jupyter.widget-view+json": {
       "model_id": "a6584ab209694d8c981c26af0f698494",
       "version_major": 2,
       "version_minor": 0
      },
      "text/plain": [
       "Validation: |          | 0/? [00:00<?, ?it/s]"
      ]
     },
     "metadata": {},
     "output_type": "display_data"
    },
    {
     "data": {
      "application/vnd.jupyter.widget-view+json": {
       "model_id": "e1ea5cff82664b0f89a80934ac6b4c8b",
       "version_major": 2,
       "version_minor": 0
      },
      "text/plain": [
       "Validation: |          | 0/? [00:00<?, ?it/s]"
      ]
     },
     "metadata": {},
     "output_type": "display_data"
    },
    {
     "data": {
      "application/vnd.jupyter.widget-view+json": {
       "model_id": "7a461e2a5d064b77ab57384bbad1e8ce",
       "version_major": 2,
       "version_minor": 0
      },
      "text/plain": [
       "Validation: |          | 0/? [00:00<?, ?it/s]"
      ]
     },
     "metadata": {},
     "output_type": "display_data"
    },
    {
     "data": {
      "application/vnd.jupyter.widget-view+json": {
       "model_id": "a5ae74158cd540d4aa00abb0cbc978ad",
       "version_major": 2,
       "version_minor": 0
      },
      "text/plain": [
       "Validation: |          | 0/? [00:00<?, ?it/s]"
      ]
     },
     "metadata": {},
     "output_type": "display_data"
    },
    {
     "data": {
      "application/vnd.jupyter.widget-view+json": {
       "model_id": "7db8a172e8344da3bec82ee5e6a0933c",
       "version_major": 2,
       "version_minor": 0
      },
      "text/plain": [
       "Validation: |          | 0/? [00:00<?, ?it/s]"
      ]
     },
     "metadata": {},
     "output_type": "display_data"
    },
    {
     "data": {
      "application/vnd.jupyter.widget-view+json": {
       "model_id": "266b176dec8c4bba9fa88257db5af642",
       "version_major": 2,
       "version_minor": 0
      },
      "text/plain": [
       "Validation: |          | 0/? [00:00<?, ?it/s]"
      ]
     },
     "metadata": {},
     "output_type": "display_data"
    },
    {
     "data": {
      "application/vnd.jupyter.widget-view+json": {
       "model_id": "afc4b62121524ecfbac869f5a9035465",
       "version_major": 2,
       "version_minor": 0
      },
      "text/plain": [
       "Validation: |          | 0/? [00:00<?, ?it/s]"
      ]
     },
     "metadata": {},
     "output_type": "display_data"
    },
    {
     "data": {
      "application/vnd.jupyter.widget-view+json": {
       "model_id": "770d16257d9645648ce8f953a42a0833",
       "version_major": 2,
       "version_minor": 0
      },
      "text/plain": [
       "Validation: |          | 0/? [00:00<?, ?it/s]"
      ]
     },
     "metadata": {},
     "output_type": "display_data"
    },
    {
     "data": {
      "application/vnd.jupyter.widget-view+json": {
       "model_id": "3668d7cb3ade4a6295dd7a9cba923143",
       "version_major": 2,
       "version_minor": 0
      },
      "text/plain": [
       "Validation: |          | 0/? [00:00<?, ?it/s]"
      ]
     },
     "metadata": {},
     "output_type": "display_data"
    },
    {
     "data": {
      "application/vnd.jupyter.widget-view+json": {
       "model_id": "346220c837c04c9e9367fb5c99503671",
       "version_major": 2,
       "version_minor": 0
      },
      "text/plain": [
       "Validation: |          | 0/? [00:00<?, ?it/s]"
      ]
     },
     "metadata": {},
     "output_type": "display_data"
    },
    {
     "data": {
      "application/vnd.jupyter.widget-view+json": {
       "model_id": "6c27b366a6e3416fa39b6b3d8fd2b0a7",
       "version_major": 2,
       "version_minor": 0
      },
      "text/plain": [
       "Validation: |          | 0/? [00:00<?, ?it/s]"
      ]
     },
     "metadata": {},
     "output_type": "display_data"
    },
    {
     "data": {
      "application/vnd.jupyter.widget-view+json": {
       "model_id": "4b1fd361f1dd4542a980be86c727ff52",
       "version_major": 2,
       "version_minor": 0
      },
      "text/plain": [
       "Validation: |          | 0/? [00:00<?, ?it/s]"
      ]
     },
     "metadata": {},
     "output_type": "display_data"
    },
    {
     "data": {
      "application/vnd.jupyter.widget-view+json": {
       "model_id": "420bf5c5bfb64fa7a9807d916d6c5970",
       "version_major": 2,
       "version_minor": 0
      },
      "text/plain": [
       "Validation: |          | 0/? [00:00<?, ?it/s]"
      ]
     },
     "metadata": {},
     "output_type": "display_data"
    },
    {
     "data": {
      "application/vnd.jupyter.widget-view+json": {
       "model_id": "169fef0ec84340ee80e25f7d56ba7b61",
       "version_major": 2,
       "version_minor": 0
      },
      "text/plain": [
       "Validation: |          | 0/? [00:00<?, ?it/s]"
      ]
     },
     "metadata": {},
     "output_type": "display_data"
    },
    {
     "data": {
      "application/vnd.jupyter.widget-view+json": {
       "model_id": "336e8e7b697c49be89aee167bbfe454d",
       "version_major": 2,
       "version_minor": 0
      },
      "text/plain": [
       "Validation: |          | 0/? [00:00<?, ?it/s]"
      ]
     },
     "metadata": {},
     "output_type": "display_data"
    },
    {
     "data": {
      "application/vnd.jupyter.widget-view+json": {
       "model_id": "0a9235b4d42a41d38b88a77cc36ebc47",
       "version_major": 2,
       "version_minor": 0
      },
      "text/plain": [
       "Validation: |          | 0/? [00:00<?, ?it/s]"
      ]
     },
     "metadata": {},
     "output_type": "display_data"
    },
    {
     "data": {
      "application/vnd.jupyter.widget-view+json": {
       "model_id": "ba5d71e9ab1e453181a8875a1226cd8a",
       "version_major": 2,
       "version_minor": 0
      },
      "text/plain": [
       "Validation: |          | 0/? [00:00<?, ?it/s]"
      ]
     },
     "metadata": {},
     "output_type": "display_data"
    },
    {
     "data": {
      "application/vnd.jupyter.widget-view+json": {
       "model_id": "b0592d87ae2c4a8c802a3bbffd8e938d",
       "version_major": 2,
       "version_minor": 0
      },
      "text/plain": [
       "Validation: |          | 0/? [00:00<?, ?it/s]"
      ]
     },
     "metadata": {},
     "output_type": "display_data"
    },
    {
     "data": {
      "application/vnd.jupyter.widget-view+json": {
       "model_id": "19e9c935d18e44caac19cd177fdafd74",
       "version_major": 2,
       "version_minor": 0
      },
      "text/plain": [
       "Validation: |          | 0/? [00:00<?, ?it/s]"
      ]
     },
     "metadata": {},
     "output_type": "display_data"
    },
    {
     "data": {
      "application/vnd.jupyter.widget-view+json": {
       "model_id": "66f656d3cc7b456bafdfcb8599025b77",
       "version_major": 2,
       "version_minor": 0
      },
      "text/plain": [
       "Validation: |          | 0/? [00:00<?, ?it/s]"
      ]
     },
     "metadata": {},
     "output_type": "display_data"
    },
    {
     "data": {
      "application/vnd.jupyter.widget-view+json": {
       "model_id": "3a9ecc9d78b6493db17a7dba14a6957e",
       "version_major": 2,
       "version_minor": 0
      },
      "text/plain": [
       "Validation: |          | 0/? [00:00<?, ?it/s]"
      ]
     },
     "metadata": {},
     "output_type": "display_data"
    },
    {
     "data": {
      "application/vnd.jupyter.widget-view+json": {
       "model_id": "4e0bf677b6154591993cbe1dc07f5e34",
       "version_major": 2,
       "version_minor": 0
      },
      "text/plain": [
       "Validation: |          | 0/? [00:00<?, ?it/s]"
      ]
     },
     "metadata": {},
     "output_type": "display_data"
    },
    {
     "data": {
      "application/vnd.jupyter.widget-view+json": {
       "model_id": "353096f73d4741699cd264f1bdb51b56",
       "version_major": 2,
       "version_minor": 0
      },
      "text/plain": [
       "Validation: |          | 0/? [00:00<?, ?it/s]"
      ]
     },
     "metadata": {},
     "output_type": "display_data"
    },
    {
     "data": {
      "application/vnd.jupyter.widget-view+json": {
       "model_id": "2c42fc34719946f0aaf84b0d7b7418fe",
       "version_major": 2,
       "version_minor": 0
      },
      "text/plain": [
       "Validation: |          | 0/? [00:00<?, ?it/s]"
      ]
     },
     "metadata": {},
     "output_type": "display_data"
    },
    {
     "data": {
      "application/vnd.jupyter.widget-view+json": {
       "model_id": "98e0006d02924f318dbbda9681b38d8c",
       "version_major": 2,
       "version_minor": 0
      },
      "text/plain": [
       "Validation: |          | 0/? [00:00<?, ?it/s]"
      ]
     },
     "metadata": {},
     "output_type": "display_data"
    },
    {
     "data": {
      "application/vnd.jupyter.widget-view+json": {
       "model_id": "d1695b18410d4c30997039b2afb53da6",
       "version_major": 2,
       "version_minor": 0
      },
      "text/plain": [
       "Validation: |          | 0/? [00:00<?, ?it/s]"
      ]
     },
     "metadata": {},
     "output_type": "display_data"
    },
    {
     "data": {
      "application/vnd.jupyter.widget-view+json": {
       "model_id": "6916076052dd44d2bd8912551e495f6d",
       "version_major": 2,
       "version_minor": 0
      },
      "text/plain": [
       "Validation: |          | 0/? [00:00<?, ?it/s]"
      ]
     },
     "metadata": {},
     "output_type": "display_data"
    },
    {
     "data": {
      "application/vnd.jupyter.widget-view+json": {
       "model_id": "54ab291498dc4fa8b172e5ea466aff07",
       "version_major": 2,
       "version_minor": 0
      },
      "text/plain": [
       "Validation: |          | 0/? [00:00<?, ?it/s]"
      ]
     },
     "metadata": {},
     "output_type": "display_data"
    },
    {
     "data": {
      "application/vnd.jupyter.widget-view+json": {
       "model_id": "0cd50058622348738c79e9a22d04ef67",
       "version_major": 2,
       "version_minor": 0
      },
      "text/plain": [
       "Validation: |          | 0/? [00:00<?, ?it/s]"
      ]
     },
     "metadata": {},
     "output_type": "display_data"
    },
    {
     "data": {
      "application/vnd.jupyter.widget-view+json": {
       "model_id": "423b5bfc43f24e0cb23514bcf13f2051",
       "version_major": 2,
       "version_minor": 0
      },
      "text/plain": [
       "Validation: |          | 0/? [00:00<?, ?it/s]"
      ]
     },
     "metadata": {},
     "output_type": "display_data"
    },
    {
     "data": {
      "application/vnd.jupyter.widget-view+json": {
       "model_id": "85b961327239470e8b57757678e2968b",
       "version_major": 2,
       "version_minor": 0
      },
      "text/plain": [
       "Validation: |          | 0/? [00:00<?, ?it/s]"
      ]
     },
     "metadata": {},
     "output_type": "display_data"
    },
    {
     "data": {
      "application/vnd.jupyter.widget-view+json": {
       "model_id": "1e51c17b21d747f7af7d880e87be159d",
       "version_major": 2,
       "version_minor": 0
      },
      "text/plain": [
       "Validation: |          | 0/? [00:00<?, ?it/s]"
      ]
     },
     "metadata": {},
     "output_type": "display_data"
    },
    {
     "data": {
      "application/vnd.jupyter.widget-view+json": {
       "model_id": "4908e23ffa9f4cda905ecfe019071fa1",
       "version_major": 2,
       "version_minor": 0
      },
      "text/plain": [
       "Validation: |          | 0/? [00:00<?, ?it/s]"
      ]
     },
     "metadata": {},
     "output_type": "display_data"
    },
    {
     "data": {
      "application/vnd.jupyter.widget-view+json": {
       "model_id": "b5d84baa4bb9469593817834df9e57af",
       "version_major": 2,
       "version_minor": 0
      },
      "text/plain": [
       "Validation: |          | 0/? [00:00<?, ?it/s]"
      ]
     },
     "metadata": {},
     "output_type": "display_data"
    },
    {
     "data": {
      "application/vnd.jupyter.widget-view+json": {
       "model_id": "70748b65e8ab40fea42825abcc420ec2",
       "version_major": 2,
       "version_minor": 0
      },
      "text/plain": [
       "Validation: |          | 0/? [00:00<?, ?it/s]"
      ]
     },
     "metadata": {},
     "output_type": "display_data"
    },
    {
     "data": {
      "application/vnd.jupyter.widget-view+json": {
       "model_id": "8660ec8020ad4529bb95901f2978d5b3",
       "version_major": 2,
       "version_minor": 0
      },
      "text/plain": [
       "Validation: |          | 0/? [00:00<?, ?it/s]"
      ]
     },
     "metadata": {},
     "output_type": "display_data"
    },
    {
     "data": {
      "application/vnd.jupyter.widget-view+json": {
       "model_id": "9e39759a74594d8a8b5f2a35487219ec",
       "version_major": 2,
       "version_minor": 0
      },
      "text/plain": [
       "Validation: |          | 0/? [00:00<?, ?it/s]"
      ]
     },
     "metadata": {},
     "output_type": "display_data"
    },
    {
     "data": {
      "application/vnd.jupyter.widget-view+json": {
       "model_id": "64471bda8d294bd0a2c44fcd27dc62c0",
       "version_major": 2,
       "version_minor": 0
      },
      "text/plain": [
       "Validation: |          | 0/? [00:00<?, ?it/s]"
      ]
     },
     "metadata": {},
     "output_type": "display_data"
    },
    {
     "data": {
      "application/vnd.jupyter.widget-view+json": {
       "model_id": "07f79711cae04a54b412dfad0d9a9077",
       "version_major": 2,
       "version_minor": 0
      },
      "text/plain": [
       "Validation: |          | 0/? [00:00<?, ?it/s]"
      ]
     },
     "metadata": {},
     "output_type": "display_data"
    },
    {
     "data": {
      "application/vnd.jupyter.widget-view+json": {
       "model_id": "330922b2bfe944cbb9064c7e80a04a45",
       "version_major": 2,
       "version_minor": 0
      },
      "text/plain": [
       "Validation: |          | 0/? [00:00<?, ?it/s]"
      ]
     },
     "metadata": {},
     "output_type": "display_data"
    },
    {
     "data": {
      "application/vnd.jupyter.widget-view+json": {
       "model_id": "f8ab98439aa84c9f95e8398ed050b747",
       "version_major": 2,
       "version_minor": 0
      },
      "text/plain": [
       "Validation: |          | 0/? [00:00<?, ?it/s]"
      ]
     },
     "metadata": {},
     "output_type": "display_data"
    },
    {
     "data": {
      "application/vnd.jupyter.widget-view+json": {
       "model_id": "39461fe21bab4530933371f4e0a9d8cd",
       "version_major": 2,
       "version_minor": 0
      },
      "text/plain": [
       "Validation: |          | 0/? [00:00<?, ?it/s]"
      ]
     },
     "metadata": {},
     "output_type": "display_data"
    },
    {
     "data": {
      "application/vnd.jupyter.widget-view+json": {
       "model_id": "9811e89c91d2498f8b7c68c4282a2c48",
       "version_major": 2,
       "version_minor": 0
      },
      "text/plain": [
       "Validation: |          | 0/? [00:00<?, ?it/s]"
      ]
     },
     "metadata": {},
     "output_type": "display_data"
    },
    {
     "data": {
      "application/vnd.jupyter.widget-view+json": {
       "model_id": "bde313b2b30a4b57b55bf19d28ff190e",
       "version_major": 2,
       "version_minor": 0
      },
      "text/plain": [
       "Validation: |          | 0/? [00:00<?, ?it/s]"
      ]
     },
     "metadata": {},
     "output_type": "display_data"
    },
    {
     "data": {
      "application/vnd.jupyter.widget-view+json": {
       "model_id": "3141554e15af44dc91ac68f0918d8936",
       "version_major": 2,
       "version_minor": 0
      },
      "text/plain": [
       "Validation: |          | 0/? [00:00<?, ?it/s]"
      ]
     },
     "metadata": {},
     "output_type": "display_data"
    },
    {
     "data": {
      "application/vnd.jupyter.widget-view+json": {
       "model_id": "30eb516953d944f4882b57f4cba9d404",
       "version_major": 2,
       "version_minor": 0
      },
      "text/plain": [
       "Validation: |          | 0/? [00:00<?, ?it/s]"
      ]
     },
     "metadata": {},
     "output_type": "display_data"
    },
    {
     "data": {
      "application/vnd.jupyter.widget-view+json": {
       "model_id": "9550b05ba839426aa1c089dc21450919",
       "version_major": 2,
       "version_minor": 0
      },
      "text/plain": [
       "Validation: |          | 0/? [00:00<?, ?it/s]"
      ]
     },
     "metadata": {},
     "output_type": "display_data"
    },
    {
     "data": {
      "application/vnd.jupyter.widget-view+json": {
       "model_id": "17887c2c54034bd5ad20e4d18c787fcd",
       "version_major": 2,
       "version_minor": 0
      },
      "text/plain": [
       "Validation: |          | 0/? [00:00<?, ?it/s]"
      ]
     },
     "metadata": {},
     "output_type": "display_data"
    },
    {
     "data": {
      "application/vnd.jupyter.widget-view+json": {
       "model_id": "76563f517b6c4379b39a200956beb384",
       "version_major": 2,
       "version_minor": 0
      },
      "text/plain": [
       "Validation: |          | 0/? [00:00<?, ?it/s]"
      ]
     },
     "metadata": {},
     "output_type": "display_data"
    },
    {
     "data": {
      "application/vnd.jupyter.widget-view+json": {
       "model_id": "2c53fd9951aa465c86d1b3a5908f5764",
       "version_major": 2,
       "version_minor": 0
      },
      "text/plain": [
       "Validation: |          | 0/? [00:00<?, ?it/s]"
      ]
     },
     "metadata": {},
     "output_type": "display_data"
    },
    {
     "data": {
      "application/vnd.jupyter.widget-view+json": {
       "model_id": "38a9196ddf6543bd9af89a9de943d0a0",
       "version_major": 2,
       "version_minor": 0
      },
      "text/plain": [
       "Validation: |          | 0/? [00:00<?, ?it/s]"
      ]
     },
     "metadata": {},
     "output_type": "display_data"
    },
    {
     "data": {
      "application/vnd.jupyter.widget-view+json": {
       "model_id": "a58b9d2133114e6c863a2416b55385c6",
       "version_major": 2,
       "version_minor": 0
      },
      "text/plain": [
       "Validation: |          | 0/? [00:00<?, ?it/s]"
      ]
     },
     "metadata": {},
     "output_type": "display_data"
    },
    {
     "data": {
      "application/vnd.jupyter.widget-view+json": {
       "model_id": "dc4b1e32105e4046b0f4ae1ce21a1873",
       "version_major": 2,
       "version_minor": 0
      },
      "text/plain": [
       "Validation: |          | 0/? [00:00<?, ?it/s]"
      ]
     },
     "metadata": {},
     "output_type": "display_data"
    },
    {
     "data": {
      "application/vnd.jupyter.widget-view+json": {
       "model_id": "22f2e3cb9c1a4f268672880e218beb03",
       "version_major": 2,
       "version_minor": 0
      },
      "text/plain": [
       "Validation: |          | 0/? [00:00<?, ?it/s]"
      ]
     },
     "metadata": {},
     "output_type": "display_data"
    },
    {
     "data": {
      "application/vnd.jupyter.widget-view+json": {
       "model_id": "f8ec0ffa4dd94569936e857a0926a238",
       "version_major": 2,
       "version_minor": 0
      },
      "text/plain": [
       "Validation: |          | 0/? [00:00<?, ?it/s]"
      ]
     },
     "metadata": {},
     "output_type": "display_data"
    },
    {
     "data": {
      "application/vnd.jupyter.widget-view+json": {
       "model_id": "72ab4c82e40e47a59d5647abf046cbf1",
       "version_major": 2,
       "version_minor": 0
      },
      "text/plain": [
       "Validation: |          | 0/? [00:00<?, ?it/s]"
      ]
     },
     "metadata": {},
     "output_type": "display_data"
    },
    {
     "data": {
      "application/vnd.jupyter.widget-view+json": {
       "model_id": "dc1884540a694042bea967cfb1c865a5",
       "version_major": 2,
       "version_minor": 0
      },
      "text/plain": [
       "Validation: |          | 0/? [00:00<?, ?it/s]"
      ]
     },
     "metadata": {},
     "output_type": "display_data"
    },
    {
     "data": {
      "application/vnd.jupyter.widget-view+json": {
       "model_id": "427ae843fe0b4555895e352463c85093",
       "version_major": 2,
       "version_minor": 0
      },
      "text/plain": [
       "Validation: |          | 0/? [00:00<?, ?it/s]"
      ]
     },
     "metadata": {},
     "output_type": "display_data"
    },
    {
     "data": {
      "application/vnd.jupyter.widget-view+json": {
       "model_id": "8a87cc0e12b4477e99919bfa892e2b78",
       "version_major": 2,
       "version_minor": 0
      },
      "text/plain": [
       "Validation: |          | 0/? [00:00<?, ?it/s]"
      ]
     },
     "metadata": {},
     "output_type": "display_data"
    },
    {
     "data": {
      "application/vnd.jupyter.widget-view+json": {
       "model_id": "0aac537054874f8ca70cf76443a249ae",
       "version_major": 2,
       "version_minor": 0
      },
      "text/plain": [
       "Validation: |          | 0/? [00:00<?, ?it/s]"
      ]
     },
     "metadata": {},
     "output_type": "display_data"
    },
    {
     "data": {
      "application/vnd.jupyter.widget-view+json": {
       "model_id": "1fec31775d704ab9b6052a48a54d734f",
       "version_major": 2,
       "version_minor": 0
      },
      "text/plain": [
       "Validation: |          | 0/? [00:00<?, ?it/s]"
      ]
     },
     "metadata": {},
     "output_type": "display_data"
    },
    {
     "data": {
      "application/vnd.jupyter.widget-view+json": {
       "model_id": "80271255382b49b7ac66ccfc16b45719",
       "version_major": 2,
       "version_minor": 0
      },
      "text/plain": [
       "Validation: |          | 0/? [00:00<?, ?it/s]"
      ]
     },
     "metadata": {},
     "output_type": "display_data"
    },
    {
     "data": {
      "application/vnd.jupyter.widget-view+json": {
       "model_id": "c84bfe60630f4fc88dcad0cae5c4e2f0",
       "version_major": 2,
       "version_minor": 0
      },
      "text/plain": [
       "Validation: |          | 0/? [00:00<?, ?it/s]"
      ]
     },
     "metadata": {},
     "output_type": "display_data"
    },
    {
     "data": {
      "application/vnd.jupyter.widget-view+json": {
       "model_id": "a4d5d5ec42a74f4b857ce31d4d930910",
       "version_major": 2,
       "version_minor": 0
      },
      "text/plain": [
       "Validation: |          | 0/? [00:00<?, ?it/s]"
      ]
     },
     "metadata": {},
     "output_type": "display_data"
    },
    {
     "data": {
      "application/vnd.jupyter.widget-view+json": {
       "model_id": "d11b3de74b11458da5e2197612b7d628",
       "version_major": 2,
       "version_minor": 0
      },
      "text/plain": [
       "Validation: |          | 0/? [00:00<?, ?it/s]"
      ]
     },
     "metadata": {},
     "output_type": "display_data"
    },
    {
     "data": {
      "application/vnd.jupyter.widget-view+json": {
       "model_id": "877a139590a445a29557de2ad49a9c16",
       "version_major": 2,
       "version_minor": 0
      },
      "text/plain": [
       "Validation: |          | 0/? [00:00<?, ?it/s]"
      ]
     },
     "metadata": {},
     "output_type": "display_data"
    },
    {
     "data": {
      "application/vnd.jupyter.widget-view+json": {
       "model_id": "cd80b970b5e64efb82d2272598b66ecf",
       "version_major": 2,
       "version_minor": 0
      },
      "text/plain": [
       "Validation: |          | 0/? [00:00<?, ?it/s]"
      ]
     },
     "metadata": {},
     "output_type": "display_data"
    },
    {
     "data": {
      "application/vnd.jupyter.widget-view+json": {
       "model_id": "0afb1a98d65941bc8a7b01f443874d1b",
       "version_major": 2,
       "version_minor": 0
      },
      "text/plain": [
       "Validation: |          | 0/? [00:00<?, ?it/s]"
      ]
     },
     "metadata": {},
     "output_type": "display_data"
    },
    {
     "data": {
      "application/vnd.jupyter.widget-view+json": {
       "model_id": "ab194a5775f64698a39e70bdb76e4392",
       "version_major": 2,
       "version_minor": 0
      },
      "text/plain": [
       "Validation: |          | 0/? [00:00<?, ?it/s]"
      ]
     },
     "metadata": {},
     "output_type": "display_data"
    },
    {
     "data": {
      "application/vnd.jupyter.widget-view+json": {
       "model_id": "c3f6333b91e044e987eedaa1f5a7af97",
       "version_major": 2,
       "version_minor": 0
      },
      "text/plain": [
       "Validation: |          | 0/? [00:00<?, ?it/s]"
      ]
     },
     "metadata": {},
     "output_type": "display_data"
    },
    {
     "data": {
      "application/vnd.jupyter.widget-view+json": {
       "model_id": "8af95f0df05743048bd537759939ad3b",
       "version_major": 2,
       "version_minor": 0
      },
      "text/plain": [
       "Validation: |          | 0/? [00:00<?, ?it/s]"
      ]
     },
     "metadata": {},
     "output_type": "display_data"
    },
    {
     "data": {
      "application/vnd.jupyter.widget-view+json": {
       "model_id": "fd9661600b724328816c6983255d3cda",
       "version_major": 2,
       "version_minor": 0
      },
      "text/plain": [
       "Validation: |          | 0/? [00:00<?, ?it/s]"
      ]
     },
     "metadata": {},
     "output_type": "display_data"
    },
    {
     "data": {
      "application/vnd.jupyter.widget-view+json": {
       "model_id": "e5b60b24505a43a9a2c08405acd0ba38",
       "version_major": 2,
       "version_minor": 0
      },
      "text/plain": [
       "Validation: |          | 0/? [00:00<?, ?it/s]"
      ]
     },
     "metadata": {},
     "output_type": "display_data"
    },
    {
     "data": {
      "application/vnd.jupyter.widget-view+json": {
       "model_id": "7f56501e61bd468e976c7ac592e10566",
       "version_major": 2,
       "version_minor": 0
      },
      "text/plain": [
       "Validation: |          | 0/? [00:00<?, ?it/s]"
      ]
     },
     "metadata": {},
     "output_type": "display_data"
    },
    {
     "data": {
      "application/vnd.jupyter.widget-view+json": {
       "model_id": "88aff4aef5454e3e84deb1505b735451",
       "version_major": 2,
       "version_minor": 0
      },
      "text/plain": [
       "Validation: |          | 0/? [00:00<?, ?it/s]"
      ]
     },
     "metadata": {},
     "output_type": "display_data"
    },
    {
     "data": {
      "application/vnd.jupyter.widget-view+json": {
       "model_id": "f7e570f37a3e41859135024ebb5ff7e8",
       "version_major": 2,
       "version_minor": 0
      },
      "text/plain": [
       "Validation: |          | 0/? [00:00<?, ?it/s]"
      ]
     },
     "metadata": {},
     "output_type": "display_data"
    },
    {
     "data": {
      "application/vnd.jupyter.widget-view+json": {
       "model_id": "33d2bc8a69dc4da49d68f6bdf9091e43",
       "version_major": 2,
       "version_minor": 0
      },
      "text/plain": [
       "Validation: |          | 0/? [00:00<?, ?it/s]"
      ]
     },
     "metadata": {},
     "output_type": "display_data"
    },
    {
     "data": {
      "application/vnd.jupyter.widget-view+json": {
       "model_id": "54c59ec9094e488a9ea54613d96ce439",
       "version_major": 2,
       "version_minor": 0
      },
      "text/plain": [
       "Validation: |          | 0/? [00:00<?, ?it/s]"
      ]
     },
     "metadata": {},
     "output_type": "display_data"
    },
    {
     "data": {
      "application/vnd.jupyter.widget-view+json": {
       "model_id": "1ba5fe2b0a4c4949a491486f72fe2837",
       "version_major": 2,
       "version_minor": 0
      },
      "text/plain": [
       "Validation: |          | 0/? [00:00<?, ?it/s]"
      ]
     },
     "metadata": {},
     "output_type": "display_data"
    },
    {
     "data": {
      "application/vnd.jupyter.widget-view+json": {
       "model_id": "5fdc4b7412dd4d8fa3140dbeddc7327d",
       "version_major": 2,
       "version_minor": 0
      },
      "text/plain": [
       "Validation: |          | 0/? [00:00<?, ?it/s]"
      ]
     },
     "metadata": {},
     "output_type": "display_data"
    },
    {
     "data": {
      "application/vnd.jupyter.widget-view+json": {
       "model_id": "cc813e9579b84488b7ed9b8d180e4ff8",
       "version_major": 2,
       "version_minor": 0
      },
      "text/plain": [
       "Validation: |          | 0/? [00:00<?, ?it/s]"
      ]
     },
     "metadata": {},
     "output_type": "display_data"
    },
    {
     "data": {
      "application/vnd.jupyter.widget-view+json": {
       "model_id": "d744a793320a490d852826b668aa9062",
       "version_major": 2,
       "version_minor": 0
      },
      "text/plain": [
       "Validation: |          | 0/? [00:00<?, ?it/s]"
      ]
     },
     "metadata": {},
     "output_type": "display_data"
    },
    {
     "data": {
      "application/vnd.jupyter.widget-view+json": {
       "model_id": "631f51cf6b6442a1b5b03b3ed59a055b",
       "version_major": 2,
       "version_minor": 0
      },
      "text/plain": [
       "Validation: |          | 0/? [00:00<?, ?it/s]"
      ]
     },
     "metadata": {},
     "output_type": "display_data"
    },
    {
     "data": {
      "application/vnd.jupyter.widget-view+json": {
       "model_id": "196c5dbd6fec4c7eb381779676953462",
       "version_major": 2,
       "version_minor": 0
      },
      "text/plain": [
       "Validation: |          | 0/? [00:00<?, ?it/s]"
      ]
     },
     "metadata": {},
     "output_type": "display_data"
    },
    {
     "data": {
      "application/vnd.jupyter.widget-view+json": {
       "model_id": "f91de2c4313a45f185e7128c2808a53e",
       "version_major": 2,
       "version_minor": 0
      },
      "text/plain": [
       "Validation: |          | 0/? [00:00<?, ?it/s]"
      ]
     },
     "metadata": {},
     "output_type": "display_data"
    },
    {
     "data": {
      "application/vnd.jupyter.widget-view+json": {
       "model_id": "04141c8df1c744159e93721a3f490703",
       "version_major": 2,
       "version_minor": 0
      },
      "text/plain": [
       "Validation: |          | 0/? [00:00<?, ?it/s]"
      ]
     },
     "metadata": {},
     "output_type": "display_data"
    },
    {
     "data": {
      "application/vnd.jupyter.widget-view+json": {
       "model_id": "dff34bdd19c94f24a378b09fef1e67e4",
       "version_major": 2,
       "version_minor": 0
      },
      "text/plain": [
       "Validation: |          | 0/? [00:00<?, ?it/s]"
      ]
     },
     "metadata": {},
     "output_type": "display_data"
    },
    {
     "data": {
      "application/vnd.jupyter.widget-view+json": {
       "model_id": "fbf88bc51ed846e39c48cee940522e97",
       "version_major": 2,
       "version_minor": 0
      },
      "text/plain": [
       "Validation: |          | 0/? [00:00<?, ?it/s]"
      ]
     },
     "metadata": {},
     "output_type": "display_data"
    },
    {
     "data": {
      "application/vnd.jupyter.widget-view+json": {
       "model_id": "127b4c97b9344b7ab4ececb39a578939",
       "version_major": 2,
       "version_minor": 0
      },
      "text/plain": [
       "Validation: |          | 0/? [00:00<?, ?it/s]"
      ]
     },
     "metadata": {},
     "output_type": "display_data"
    },
    {
     "data": {
      "application/vnd.jupyter.widget-view+json": {
       "model_id": "db678d7c64d54dbd889843acf2f49f29",
       "version_major": 2,
       "version_minor": 0
      },
      "text/plain": [
       "Validation: |          | 0/? [00:00<?, ?it/s]"
      ]
     },
     "metadata": {},
     "output_type": "display_data"
    },
    {
     "data": {
      "application/vnd.jupyter.widget-view+json": {
       "model_id": "551dd2d2db2041a0a1299a99f48b1d82",
       "version_major": 2,
       "version_minor": 0
      },
      "text/plain": [
       "Validation: |          | 0/? [00:00<?, ?it/s]"
      ]
     },
     "metadata": {},
     "output_type": "display_data"
    },
    {
     "data": {
      "application/vnd.jupyter.widget-view+json": {
       "model_id": "f60e5cacfed84192bdebd3e4f29d6cd9",
       "version_major": 2,
       "version_minor": 0
      },
      "text/plain": [
       "Validation: |          | 0/? [00:00<?, ?it/s]"
      ]
     },
     "metadata": {},
     "output_type": "display_data"
    },
    {
     "data": {
      "application/vnd.jupyter.widget-view+json": {
       "model_id": "b477ed7751544f39b92c2f19b95643d0",
       "version_major": 2,
       "version_minor": 0
      },
      "text/plain": [
       "Validation: |          | 0/? [00:00<?, ?it/s]"
      ]
     },
     "metadata": {},
     "output_type": "display_data"
    },
    {
     "data": {
      "application/vnd.jupyter.widget-view+json": {
       "model_id": "f0ee2b42e8ac4cbfb55132096a347d67",
       "version_major": 2,
       "version_minor": 0
      },
      "text/plain": [
       "Validation: |          | 0/? [00:00<?, ?it/s]"
      ]
     },
     "metadata": {},
     "output_type": "display_data"
    },
    {
     "data": {
      "application/vnd.jupyter.widget-view+json": {
       "model_id": "2d84461d1eea43bfbac037fd815b6eaf",
       "version_major": 2,
       "version_minor": 0
      },
      "text/plain": [
       "Validation: |          | 0/? [00:00<?, ?it/s]"
      ]
     },
     "metadata": {},
     "output_type": "display_data"
    },
    {
     "data": {
      "application/vnd.jupyter.widget-view+json": {
       "model_id": "7a4cab7563034de49f12f57a23c497a9",
       "version_major": 2,
       "version_minor": 0
      },
      "text/plain": [
       "Validation: |          | 0/? [00:00<?, ?it/s]"
      ]
     },
     "metadata": {},
     "output_type": "display_data"
    },
    {
     "data": {
      "application/vnd.jupyter.widget-view+json": {
       "model_id": "9fa70e7b159141d6af9e91650741f267",
       "version_major": 2,
       "version_minor": 0
      },
      "text/plain": [
       "Validation: |          | 0/? [00:00<?, ?it/s]"
      ]
     },
     "metadata": {},
     "output_type": "display_data"
    },
    {
     "data": {
      "application/vnd.jupyter.widget-view+json": {
       "model_id": "71544cc1a75248a997bf5ab53d3b966e",
       "version_major": 2,
       "version_minor": 0
      },
      "text/plain": [
       "Validation: |          | 0/? [00:00<?, ?it/s]"
      ]
     },
     "metadata": {},
     "output_type": "display_data"
    },
    {
     "data": {
      "application/vnd.jupyter.widget-view+json": {
       "model_id": "9c1721e7c0d642db8038fecd13e612b9",
       "version_major": 2,
       "version_minor": 0
      },
      "text/plain": [
       "Validation: |          | 0/? [00:00<?, ?it/s]"
      ]
     },
     "metadata": {},
     "output_type": "display_data"
    },
    {
     "data": {
      "application/vnd.jupyter.widget-view+json": {
       "model_id": "8aa6ca1164cb49bfb61f16c76f2807ba",
       "version_major": 2,
       "version_minor": 0
      },
      "text/plain": [
       "Validation: |          | 0/? [00:00<?, ?it/s]"
      ]
     },
     "metadata": {},
     "output_type": "display_data"
    },
    {
     "data": {
      "application/vnd.jupyter.widget-view+json": {
       "model_id": "1ae8155bfd564cbe8fcb9ae4df6e974f",
       "version_major": 2,
       "version_minor": 0
      },
      "text/plain": [
       "Validation: |          | 0/? [00:00<?, ?it/s]"
      ]
     },
     "metadata": {},
     "output_type": "display_data"
    },
    {
     "data": {
      "application/vnd.jupyter.widget-view+json": {
       "model_id": "275136b22f5b4ef1bb8f752edb439a0b",
       "version_major": 2,
       "version_minor": 0
      },
      "text/plain": [
       "Validation: |          | 0/? [00:00<?, ?it/s]"
      ]
     },
     "metadata": {},
     "output_type": "display_data"
    },
    {
     "data": {
      "application/vnd.jupyter.widget-view+json": {
       "model_id": "67f91ad4e7af4d06b7bd1142226992b6",
       "version_major": 2,
       "version_minor": 0
      },
      "text/plain": [
       "Validation: |          | 0/? [00:00<?, ?it/s]"
      ]
     },
     "metadata": {},
     "output_type": "display_data"
    },
    {
     "data": {
      "application/vnd.jupyter.widget-view+json": {
       "model_id": "6b80275c199942da8515af684f907f6d",
       "version_major": 2,
       "version_minor": 0
      },
      "text/plain": [
       "Validation: |          | 0/? [00:00<?, ?it/s]"
      ]
     },
     "metadata": {},
     "output_type": "display_data"
    },
    {
     "data": {
      "application/vnd.jupyter.widget-view+json": {
       "model_id": "885f8906794741ae9f113e136a33d097",
       "version_major": 2,
       "version_minor": 0
      },
      "text/plain": [
       "Validation: |          | 0/? [00:00<?, ?it/s]"
      ]
     },
     "metadata": {},
     "output_type": "display_data"
    },
    {
     "data": {
      "application/vnd.jupyter.widget-view+json": {
       "model_id": "4a147338b3e84cda9ba8a97f26044043",
       "version_major": 2,
       "version_minor": 0
      },
      "text/plain": [
       "Validation: |          | 0/? [00:00<?, ?it/s]"
      ]
     },
     "metadata": {},
     "output_type": "display_data"
    },
    {
     "data": {
      "application/vnd.jupyter.widget-view+json": {
       "model_id": "8c3f6e9df961427eab2b47cb72566b2a",
       "version_major": 2,
       "version_minor": 0
      },
      "text/plain": [
       "Validation: |          | 0/? [00:00<?, ?it/s]"
      ]
     },
     "metadata": {},
     "output_type": "display_data"
    },
    {
     "data": {
      "application/vnd.jupyter.widget-view+json": {
       "model_id": "9f8df587dd9c41fcbf4c9417fabd3a28",
       "version_major": 2,
       "version_minor": 0
      },
      "text/plain": [
       "Validation: |          | 0/? [00:00<?, ?it/s]"
      ]
     },
     "metadata": {},
     "output_type": "display_data"
    },
    {
     "data": {
      "application/vnd.jupyter.widget-view+json": {
       "model_id": "06735c145a724657a95c75d9553c9c25",
       "version_major": 2,
       "version_minor": 0
      },
      "text/plain": [
       "Validation: |          | 0/? [00:00<?, ?it/s]"
      ]
     },
     "metadata": {},
     "output_type": "display_data"
    },
    {
     "data": {
      "application/vnd.jupyter.widget-view+json": {
       "model_id": "db31736493dc42a0880dc1bca554d50b",
       "version_major": 2,
       "version_minor": 0
      },
      "text/plain": [
       "Validation: |          | 0/? [00:00<?, ?it/s]"
      ]
     },
     "metadata": {},
     "output_type": "display_data"
    },
    {
     "data": {
      "application/vnd.jupyter.widget-view+json": {
       "model_id": "1bdfa8284d4b459086e50755c4c3e424",
       "version_major": 2,
       "version_minor": 0
      },
      "text/plain": [
       "Validation: |          | 0/? [00:00<?, ?it/s]"
      ]
     },
     "metadata": {},
     "output_type": "display_data"
    },
    {
     "data": {
      "application/vnd.jupyter.widget-view+json": {
       "model_id": "4616fc68e90e4ccbb804f044453799e0",
       "version_major": 2,
       "version_minor": 0
      },
      "text/plain": [
       "Validation: |          | 0/? [00:00<?, ?it/s]"
      ]
     },
     "metadata": {},
     "output_type": "display_data"
    },
    {
     "data": {
      "application/vnd.jupyter.widget-view+json": {
       "model_id": "e6290cc66fda488b88c8d20ccd8f4278",
       "version_major": 2,
       "version_minor": 0
      },
      "text/plain": [
       "Validation: |          | 0/? [00:00<?, ?it/s]"
      ]
     },
     "metadata": {},
     "output_type": "display_data"
    },
    {
     "data": {
      "application/vnd.jupyter.widget-view+json": {
       "model_id": "29e8bedb1a4942d5a3e6c34386cdfb95",
       "version_major": 2,
       "version_minor": 0
      },
      "text/plain": [
       "Validation: |          | 0/? [00:00<?, ?it/s]"
      ]
     },
     "metadata": {},
     "output_type": "display_data"
    },
    {
     "data": {
      "application/vnd.jupyter.widget-view+json": {
       "model_id": "d333796c797e482793f05f99dff0d2f1",
       "version_major": 2,
       "version_minor": 0
      },
      "text/plain": [
       "Validation: |          | 0/? [00:00<?, ?it/s]"
      ]
     },
     "metadata": {},
     "output_type": "display_data"
    },
    {
     "data": {
      "application/vnd.jupyter.widget-view+json": {
       "model_id": "ffe109b9bb9440f08537e0ab99292f54",
       "version_major": 2,
       "version_minor": 0
      },
      "text/plain": [
       "Validation: |          | 0/? [00:00<?, ?it/s]"
      ]
     },
     "metadata": {},
     "output_type": "display_data"
    },
    {
     "data": {
      "application/vnd.jupyter.widget-view+json": {
       "model_id": "fae26d63852e4aa79a3b7feaadf11e60",
       "version_major": 2,
       "version_minor": 0
      },
      "text/plain": [
       "Validation: |          | 0/? [00:00<?, ?it/s]"
      ]
     },
     "metadata": {},
     "output_type": "display_data"
    },
    {
     "data": {
      "application/vnd.jupyter.widget-view+json": {
       "model_id": "8a1dc10ccb994ad39cab33d0ec03c115",
       "version_major": 2,
       "version_minor": 0
      },
      "text/plain": [
       "Validation: |          | 0/? [00:00<?, ?it/s]"
      ]
     },
     "metadata": {},
     "output_type": "display_data"
    },
    {
     "data": {
      "application/vnd.jupyter.widget-view+json": {
       "model_id": "0cd69d48502e4205ab806e7be48be8a2",
       "version_major": 2,
       "version_minor": 0
      },
      "text/plain": [
       "Validation: |          | 0/? [00:00<?, ?it/s]"
      ]
     },
     "metadata": {},
     "output_type": "display_data"
    },
    {
     "data": {
      "application/vnd.jupyter.widget-view+json": {
       "model_id": "3ffe95e0902745a3802827c45d67bc80",
       "version_major": 2,
       "version_minor": 0
      },
      "text/plain": [
       "Validation: |          | 0/? [00:00<?, ?it/s]"
      ]
     },
     "metadata": {},
     "output_type": "display_data"
    },
    {
     "data": {
      "application/vnd.jupyter.widget-view+json": {
       "model_id": "40c48a2038904a42b051f4a9dce704cb",
       "version_major": 2,
       "version_minor": 0
      },
      "text/plain": [
       "Validation: |          | 0/? [00:00<?, ?it/s]"
      ]
     },
     "metadata": {},
     "output_type": "display_data"
    },
    {
     "data": {
      "application/vnd.jupyter.widget-view+json": {
       "model_id": "ff36a2dc5ec64fd58136854e486fe3c1",
       "version_major": 2,
       "version_minor": 0
      },
      "text/plain": [
       "Validation: |          | 0/? [00:00<?, ?it/s]"
      ]
     },
     "metadata": {},
     "output_type": "display_data"
    },
    {
     "data": {
      "application/vnd.jupyter.widget-view+json": {
       "model_id": "ab0dc2e3bfdb417ca2c0d5391674f8b9",
       "version_major": 2,
       "version_minor": 0
      },
      "text/plain": [
       "Validation: |          | 0/? [00:00<?, ?it/s]"
      ]
     },
     "metadata": {},
     "output_type": "display_data"
    },
    {
     "data": {
      "application/vnd.jupyter.widget-view+json": {
       "model_id": "efcea41c070d42d39b162525354eb625",
       "version_major": 2,
       "version_minor": 0
      },
      "text/plain": [
       "Validation: |          | 0/? [00:00<?, ?it/s]"
      ]
     },
     "metadata": {},
     "output_type": "display_data"
    },
    {
     "data": {
      "application/vnd.jupyter.widget-view+json": {
       "model_id": "b57886c8f0b04976ae5fe5e88f0f9b72",
       "version_major": 2,
       "version_minor": 0
      },
      "text/plain": [
       "Validation: |          | 0/? [00:00<?, ?it/s]"
      ]
     },
     "metadata": {},
     "output_type": "display_data"
    },
    {
     "data": {
      "application/vnd.jupyter.widget-view+json": {
       "model_id": "9d7856e2dbf44845a8d03559e824cbce",
       "version_major": 2,
       "version_minor": 0
      },
      "text/plain": [
       "Validation: |          | 0/? [00:00<?, ?it/s]"
      ]
     },
     "metadata": {},
     "output_type": "display_data"
    },
    {
     "data": {
      "application/vnd.jupyter.widget-view+json": {
       "model_id": "2826f4d21b8b4649ab006c59c159c87b",
       "version_major": 2,
       "version_minor": 0
      },
      "text/plain": [
       "Validation: |          | 0/? [00:00<?, ?it/s]"
      ]
     },
     "metadata": {},
     "output_type": "display_data"
    },
    {
     "data": {
      "application/vnd.jupyter.widget-view+json": {
       "model_id": "4dbea94a4972477792534dedb587d359",
       "version_major": 2,
       "version_minor": 0
      },
      "text/plain": [
       "Validation: |          | 0/? [00:00<?, ?it/s]"
      ]
     },
     "metadata": {},
     "output_type": "display_data"
    },
    {
     "data": {
      "application/vnd.jupyter.widget-view+json": {
       "model_id": "52a00ada16794813ab6094b9e5525c9c",
       "version_major": 2,
       "version_minor": 0
      },
      "text/plain": [
       "Validation: |          | 0/? [00:00<?, ?it/s]"
      ]
     },
     "metadata": {},
     "output_type": "display_data"
    },
    {
     "data": {
      "application/vnd.jupyter.widget-view+json": {
       "model_id": "cf8206c0cfc24649b73dadd081007510",
       "version_major": 2,
       "version_minor": 0
      },
      "text/plain": [
       "Validation: |          | 0/? [00:00<?, ?it/s]"
      ]
     },
     "metadata": {},
     "output_type": "display_data"
    },
    {
     "data": {
      "application/vnd.jupyter.widget-view+json": {
       "model_id": "8468c7fbbeef4c459264e68c6403bb05",
       "version_major": 2,
       "version_minor": 0
      },
      "text/plain": [
       "Validation: |          | 0/? [00:00<?, ?it/s]"
      ]
     },
     "metadata": {},
     "output_type": "display_data"
    },
    {
     "data": {
      "application/vnd.jupyter.widget-view+json": {
       "model_id": "c4f128d76565457bb96971636ec2bed1",
       "version_major": 2,
       "version_minor": 0
      },
      "text/plain": [
       "Validation: |          | 0/? [00:00<?, ?it/s]"
      ]
     },
     "metadata": {},
     "output_type": "display_data"
    },
    {
     "data": {
      "application/vnd.jupyter.widget-view+json": {
       "model_id": "5b7f74e0db4a416794ecb7e03674fc2a",
       "version_major": 2,
       "version_minor": 0
      },
      "text/plain": [
       "Validation: |          | 0/? [00:00<?, ?it/s]"
      ]
     },
     "metadata": {},
     "output_type": "display_data"
    },
    {
     "data": {
      "application/vnd.jupyter.widget-view+json": {
       "model_id": "447a8adc1bf5414d9a24bb90b3356fc3",
       "version_major": 2,
       "version_minor": 0
      },
      "text/plain": [
       "Validation: |          | 0/? [00:00<?, ?it/s]"
      ]
     },
     "metadata": {},
     "output_type": "display_data"
    },
    {
     "data": {
      "application/vnd.jupyter.widget-view+json": {
       "model_id": "df2bc6e5297b4f58ad3c296b0a5243c8",
       "version_major": 2,
       "version_minor": 0
      },
      "text/plain": [
       "Validation: |          | 0/? [00:00<?, ?it/s]"
      ]
     },
     "metadata": {},
     "output_type": "display_data"
    },
    {
     "data": {
      "application/vnd.jupyter.widget-view+json": {
       "model_id": "fd00b1940e9e4732a0ea9867747a612f",
       "version_major": 2,
       "version_minor": 0
      },
      "text/plain": [
       "Validation: |          | 0/? [00:00<?, ?it/s]"
      ]
     },
     "metadata": {},
     "output_type": "display_data"
    },
    {
     "data": {
      "application/vnd.jupyter.widget-view+json": {
       "model_id": "c540a6df8caa436bb30253097dd593ee",
       "version_major": 2,
       "version_minor": 0
      },
      "text/plain": [
       "Validation: |          | 0/? [00:00<?, ?it/s]"
      ]
     },
     "metadata": {},
     "output_type": "display_data"
    },
    {
     "data": {
      "application/vnd.jupyter.widget-view+json": {
       "model_id": "ae289c37ca6e4b2a97576b2e03e5a0fe",
       "version_major": 2,
       "version_minor": 0
      },
      "text/plain": [
       "Validation: |          | 0/? [00:00<?, ?it/s]"
      ]
     },
     "metadata": {},
     "output_type": "display_data"
    },
    {
     "data": {
      "application/vnd.jupyter.widget-view+json": {
       "model_id": "5a395b68bc8d4198ad06369c1fcb0ed3",
       "version_major": 2,
       "version_minor": 0
      },
      "text/plain": [
       "Validation: |          | 0/? [00:00<?, ?it/s]"
      ]
     },
     "metadata": {},
     "output_type": "display_data"
    },
    {
     "data": {
      "application/vnd.jupyter.widget-view+json": {
       "model_id": "b6dfc05721b0437ca5cbf3c0d81a58b5",
       "version_major": 2,
       "version_minor": 0
      },
      "text/plain": [
       "Validation: |          | 0/? [00:00<?, ?it/s]"
      ]
     },
     "metadata": {},
     "output_type": "display_data"
    },
    {
     "data": {
      "application/vnd.jupyter.widget-view+json": {
       "model_id": "e893bdf9cd3d4185bd8a834b94f25fd7",
       "version_major": 2,
       "version_minor": 0
      },
      "text/plain": [
       "Validation: |          | 0/? [00:00<?, ?it/s]"
      ]
     },
     "metadata": {},
     "output_type": "display_data"
    },
    {
     "data": {
      "application/vnd.jupyter.widget-view+json": {
       "model_id": "fffad15ee1024e1b97b0d5b667ccad18",
       "version_major": 2,
       "version_minor": 0
      },
      "text/plain": [
       "Validation: |          | 0/? [00:00<?, ?it/s]"
      ]
     },
     "metadata": {},
     "output_type": "display_data"
    },
    {
     "data": {
      "application/vnd.jupyter.widget-view+json": {
       "model_id": "a854286376c24f27b906294a4dd4d13f",
       "version_major": 2,
       "version_minor": 0
      },
      "text/plain": [
       "Validation: |          | 0/? [00:00<?, ?it/s]"
      ]
     },
     "metadata": {},
     "output_type": "display_data"
    },
    {
     "data": {
      "application/vnd.jupyter.widget-view+json": {
       "model_id": "ea7cf803565b4e0da62bfdc04576d432",
       "version_major": 2,
       "version_minor": 0
      },
      "text/plain": [
       "Validation: |          | 0/? [00:00<?, ?it/s]"
      ]
     },
     "metadata": {},
     "output_type": "display_data"
    },
    {
     "data": {
      "application/vnd.jupyter.widget-view+json": {
       "model_id": "a2b6ca4374f34a3980d85590e0985166",
       "version_major": 2,
       "version_minor": 0
      },
      "text/plain": [
       "Validation: |          | 0/? [00:00<?, ?it/s]"
      ]
     },
     "metadata": {},
     "output_type": "display_data"
    },
    {
     "data": {
      "application/vnd.jupyter.widget-view+json": {
       "model_id": "d7e88ac5f9b14f468a704a21d5020748",
       "version_major": 2,
       "version_minor": 0
      },
      "text/plain": [
       "Validation: |          | 0/? [00:00<?, ?it/s]"
      ]
     },
     "metadata": {},
     "output_type": "display_data"
    },
    {
     "data": {
      "application/vnd.jupyter.widget-view+json": {
       "model_id": "bbf0af197a5d4c66bb77e8305a640330",
       "version_major": 2,
       "version_minor": 0
      },
      "text/plain": [
       "Validation: |          | 0/? [00:00<?, ?it/s]"
      ]
     },
     "metadata": {},
     "output_type": "display_data"
    },
    {
     "data": {
      "application/vnd.jupyter.widget-view+json": {
       "model_id": "c005abf1a93040f489054772fd8855a2",
       "version_major": 2,
       "version_minor": 0
      },
      "text/plain": [
       "Validation: |          | 0/? [00:00<?, ?it/s]"
      ]
     },
     "metadata": {},
     "output_type": "display_data"
    },
    {
     "data": {
      "application/vnd.jupyter.widget-view+json": {
       "model_id": "b4cf103fc68c4b4bada8f99255abb539",
       "version_major": 2,
       "version_minor": 0
      },
      "text/plain": [
       "Validation: |          | 0/? [00:00<?, ?it/s]"
      ]
     },
     "metadata": {},
     "output_type": "display_data"
    },
    {
     "data": {
      "application/vnd.jupyter.widget-view+json": {
       "model_id": "5f1de979ff264b248842e2f255abe57e",
       "version_major": 2,
       "version_minor": 0
      },
      "text/plain": [
       "Validation: |          | 0/? [00:00<?, ?it/s]"
      ]
     },
     "metadata": {},
     "output_type": "display_data"
    },
    {
     "data": {
      "application/vnd.jupyter.widget-view+json": {
       "model_id": "a11e0a1eb175427f8818193d30024811",
       "version_major": 2,
       "version_minor": 0
      },
      "text/plain": [
       "Validation: |          | 0/? [00:00<?, ?it/s]"
      ]
     },
     "metadata": {},
     "output_type": "display_data"
    },
    {
     "data": {
      "application/vnd.jupyter.widget-view+json": {
       "model_id": "1ad1228d5f79418b87d8dea917787a15",
       "version_major": 2,
       "version_minor": 0
      },
      "text/plain": [
       "Validation: |          | 0/? [00:00<?, ?it/s]"
      ]
     },
     "metadata": {},
     "output_type": "display_data"
    },
    {
     "data": {
      "application/vnd.jupyter.widget-view+json": {
       "model_id": "89cab06bd28b40189c25c607326e19a3",
       "version_major": 2,
       "version_minor": 0
      },
      "text/plain": [
       "Validation: |          | 0/? [00:00<?, ?it/s]"
      ]
     },
     "metadata": {},
     "output_type": "display_data"
    },
    {
     "data": {
      "application/vnd.jupyter.widget-view+json": {
       "model_id": "8859ea49d82b4fcd901199ac4507e2e7",
       "version_major": 2,
       "version_minor": 0
      },
      "text/plain": [
       "Validation: |          | 0/? [00:00<?, ?it/s]"
      ]
     },
     "metadata": {},
     "output_type": "display_data"
    },
    {
     "data": {
      "application/vnd.jupyter.widget-view+json": {
       "model_id": "d9cfc7bbc3954076a26815c2cf0fe6de",
       "version_major": 2,
       "version_minor": 0
      },
      "text/plain": [
       "Validation: |          | 0/? [00:00<?, ?it/s]"
      ]
     },
     "metadata": {},
     "output_type": "display_data"
    },
    {
     "data": {
      "application/vnd.jupyter.widget-view+json": {
       "model_id": "f2fadf6e7eb64319bb201ff969db8103",
       "version_major": 2,
       "version_minor": 0
      },
      "text/plain": [
       "Validation: |          | 0/? [00:00<?, ?it/s]"
      ]
     },
     "metadata": {},
     "output_type": "display_data"
    },
    {
     "data": {
      "application/vnd.jupyter.widget-view+json": {
       "model_id": "c1d8b3cb7fe1491285d3aab4fca0a957",
       "version_major": 2,
       "version_minor": 0
      },
      "text/plain": [
       "Validation: |          | 0/? [00:00<?, ?it/s]"
      ]
     },
     "metadata": {},
     "output_type": "display_data"
    },
    {
     "data": {
      "application/vnd.jupyter.widget-view+json": {
       "model_id": "87f7034337d04f66bc04e25d1f018990",
       "version_major": 2,
       "version_minor": 0
      },
      "text/plain": [
       "Validation: |          | 0/? [00:00<?, ?it/s]"
      ]
     },
     "metadata": {},
     "output_type": "display_data"
    },
    {
     "data": {
      "application/vnd.jupyter.widget-view+json": {
       "model_id": "4daf66e548fb4f978b893c7a79c14a6e",
       "version_major": 2,
       "version_minor": 0
      },
      "text/plain": [
       "Validation: |          | 0/? [00:00<?, ?it/s]"
      ]
     },
     "metadata": {},
     "output_type": "display_data"
    },
    {
     "data": {
      "application/vnd.jupyter.widget-view+json": {
       "model_id": "b9d5a1576bca413eabddef1c53e14588",
       "version_major": 2,
       "version_minor": 0
      },
      "text/plain": [
       "Validation: |          | 0/? [00:00<?, ?it/s]"
      ]
     },
     "metadata": {},
     "output_type": "display_data"
    },
    {
     "data": {
      "application/vnd.jupyter.widget-view+json": {
       "model_id": "cb87edc1d59240db9fcd3bcfe25b0a6e",
       "version_major": 2,
       "version_minor": 0
      },
      "text/plain": [
       "Validation: |          | 0/? [00:00<?, ?it/s]"
      ]
     },
     "metadata": {},
     "output_type": "display_data"
    },
    {
     "data": {
      "application/vnd.jupyter.widget-view+json": {
       "model_id": "49f858e2b3434a64b29dd3e8d6bfb1a0",
       "version_major": 2,
       "version_minor": 0
      },
      "text/plain": [
       "Validation: |          | 0/? [00:00<?, ?it/s]"
      ]
     },
     "metadata": {},
     "output_type": "display_data"
    },
    {
     "data": {
      "application/vnd.jupyter.widget-view+json": {
       "model_id": "33edfb7e3291467a83b4ace3ade4bb3c",
       "version_major": 2,
       "version_minor": 0
      },
      "text/plain": [
       "Validation: |          | 0/? [00:00<?, ?it/s]"
      ]
     },
     "metadata": {},
     "output_type": "display_data"
    },
    {
     "data": {
      "application/vnd.jupyter.widget-view+json": {
       "model_id": "d7ab2c63b8df47cf957f376af8d77392",
       "version_major": 2,
       "version_minor": 0
      },
      "text/plain": [
       "Validation: |          | 0/? [00:00<?, ?it/s]"
      ]
     },
     "metadata": {},
     "output_type": "display_data"
    },
    {
     "data": {
      "application/vnd.jupyter.widget-view+json": {
       "model_id": "2f2e5505cf104cd0b72b4e83802ce7f0",
       "version_major": 2,
       "version_minor": 0
      },
      "text/plain": [
       "Validation: |          | 0/? [00:00<?, ?it/s]"
      ]
     },
     "metadata": {},
     "output_type": "display_data"
    },
    {
     "data": {
      "application/vnd.jupyter.widget-view+json": {
       "model_id": "fb02ae7961114e7aa2d5fdb2fb3bd173",
       "version_major": 2,
       "version_minor": 0
      },
      "text/plain": [
       "Validation: |          | 0/? [00:00<?, ?it/s]"
      ]
     },
     "metadata": {},
     "output_type": "display_data"
    },
    {
     "data": {
      "application/vnd.jupyter.widget-view+json": {
       "model_id": "7922c0217ee44d30ba15458e987d4eec",
       "version_major": 2,
       "version_minor": 0
      },
      "text/plain": [
       "Validation: |          | 0/? [00:00<?, ?it/s]"
      ]
     },
     "metadata": {},
     "output_type": "display_data"
    },
    {
     "data": {
      "application/vnd.jupyter.widget-view+json": {
       "model_id": "35d3b71ba680465886a731942fc9f55b",
       "version_major": 2,
       "version_minor": 0
      },
      "text/plain": [
       "Validation: |          | 0/? [00:00<?, ?it/s]"
      ]
     },
     "metadata": {},
     "output_type": "display_data"
    },
    {
     "data": {
      "application/vnd.jupyter.widget-view+json": {
       "model_id": "2b16283540b04f2d9032daf56c0adcd1",
       "version_major": 2,
       "version_minor": 0
      },
      "text/plain": [
       "Validation: |          | 0/? [00:00<?, ?it/s]"
      ]
     },
     "metadata": {},
     "output_type": "display_data"
    },
    {
     "data": {
      "application/vnd.jupyter.widget-view+json": {
       "model_id": "9741e28680544e4cafa30c7da2727c9e",
       "version_major": 2,
       "version_minor": 0
      },
      "text/plain": [
       "Validation: |          | 0/? [00:00<?, ?it/s]"
      ]
     },
     "metadata": {},
     "output_type": "display_data"
    },
    {
     "data": {
      "application/vnd.jupyter.widget-view+json": {
       "model_id": "5e7eadb22d8d4a3293851623d1ef8a58",
       "version_major": 2,
       "version_minor": 0
      },
      "text/plain": [
       "Validation: |          | 0/? [00:00<?, ?it/s]"
      ]
     },
     "metadata": {},
     "output_type": "display_data"
    },
    {
     "data": {
      "application/vnd.jupyter.widget-view+json": {
       "model_id": "cba09833c9304c68ab397bce7f401226",
       "version_major": 2,
       "version_minor": 0
      },
      "text/plain": [
       "Validation: |          | 0/? [00:00<?, ?it/s]"
      ]
     },
     "metadata": {},
     "output_type": "display_data"
    },
    {
     "data": {
      "application/vnd.jupyter.widget-view+json": {
       "model_id": "b3288f41ea2747e1b85b5f7ee662d005",
       "version_major": 2,
       "version_minor": 0
      },
      "text/plain": [
       "Validation: |          | 0/? [00:00<?, ?it/s]"
      ]
     },
     "metadata": {},
     "output_type": "display_data"
    },
    {
     "data": {
      "application/vnd.jupyter.widget-view+json": {
       "model_id": "c29e43233c65457f884b9dc5cd68dd96",
       "version_major": 2,
       "version_minor": 0
      },
      "text/plain": [
       "Validation: |          | 0/? [00:00<?, ?it/s]"
      ]
     },
     "metadata": {},
     "output_type": "display_data"
    },
    {
     "data": {
      "application/vnd.jupyter.widget-view+json": {
       "model_id": "82970e317adf4e2c9bd33c4501aae63a",
       "version_major": 2,
       "version_minor": 0
      },
      "text/plain": [
       "Validation: |          | 0/? [00:00<?, ?it/s]"
      ]
     },
     "metadata": {},
     "output_type": "display_data"
    },
    {
     "data": {
      "application/vnd.jupyter.widget-view+json": {
       "model_id": "3335a6f8cd974538b34a46c5b252953c",
       "version_major": 2,
       "version_minor": 0
      },
      "text/plain": [
       "Validation: |          | 0/? [00:00<?, ?it/s]"
      ]
     },
     "metadata": {},
     "output_type": "display_data"
    },
    {
     "data": {
      "application/vnd.jupyter.widget-view+json": {
       "model_id": "2e35dcccf32147b49055d63a879dea48",
       "version_major": 2,
       "version_minor": 0
      },
      "text/plain": [
       "Validation: |          | 0/? [00:00<?, ?it/s]"
      ]
     },
     "metadata": {},
     "output_type": "display_data"
    },
    {
     "data": {
      "application/vnd.jupyter.widget-view+json": {
       "model_id": "3feb8a640e5742aa956001cbf761116f",
       "version_major": 2,
       "version_minor": 0
      },
      "text/plain": [
       "Validation: |          | 0/? [00:00<?, ?it/s]"
      ]
     },
     "metadata": {},
     "output_type": "display_data"
    },
    {
     "data": {
      "application/vnd.jupyter.widget-view+json": {
       "model_id": "7fdd3dff846a41d9a75fb5f5851d53cb",
       "version_major": 2,
       "version_minor": 0
      },
      "text/plain": [
       "Validation: |          | 0/? [00:00<?, ?it/s]"
      ]
     },
     "metadata": {},
     "output_type": "display_data"
    },
    {
     "data": {
      "application/vnd.jupyter.widget-view+json": {
       "model_id": "976938d0e01345699767acf086a2aeb3",
       "version_major": 2,
       "version_minor": 0
      },
      "text/plain": [
       "Validation: |          | 0/? [00:00<?, ?it/s]"
      ]
     },
     "metadata": {},
     "output_type": "display_data"
    },
    {
     "data": {
      "application/vnd.jupyter.widget-view+json": {
       "model_id": "cec1dbcda44e41ddbdc64821729ed22c",
       "version_major": 2,
       "version_minor": 0
      },
      "text/plain": [
       "Validation: |          | 0/? [00:00<?, ?it/s]"
      ]
     },
     "metadata": {},
     "output_type": "display_data"
    },
    {
     "data": {
      "application/vnd.jupyter.widget-view+json": {
       "model_id": "ebf04e4d5b634426ad5ce5a3b1bdef5f",
       "version_major": 2,
       "version_minor": 0
      },
      "text/plain": [
       "Validation: |          | 0/? [00:00<?, ?it/s]"
      ]
     },
     "metadata": {},
     "output_type": "display_data"
    },
    {
     "data": {
      "application/vnd.jupyter.widget-view+json": {
       "model_id": "9cbe8ddd164445f98c18489f173a4b14",
       "version_major": 2,
       "version_minor": 0
      },
      "text/plain": [
       "Validation: |          | 0/? [00:00<?, ?it/s]"
      ]
     },
     "metadata": {},
     "output_type": "display_data"
    },
    {
     "data": {
      "application/vnd.jupyter.widget-view+json": {
       "model_id": "eb0174eccd594a149751499327ef530f",
       "version_major": 2,
       "version_minor": 0
      },
      "text/plain": [
       "Validation: |          | 0/? [00:00<?, ?it/s]"
      ]
     },
     "metadata": {},
     "output_type": "display_data"
    },
    {
     "data": {
      "application/vnd.jupyter.widget-view+json": {
       "model_id": "715335ba8f9a4f6c9e73b23d18a933e3",
       "version_major": 2,
       "version_minor": 0
      },
      "text/plain": [
       "Validation: |          | 0/? [00:00<?, ?it/s]"
      ]
     },
     "metadata": {},
     "output_type": "display_data"
    },
    {
     "data": {
      "application/vnd.jupyter.widget-view+json": {
       "model_id": "fca857bd76e048d9bfff98929db6e75f",
       "version_major": 2,
       "version_minor": 0
      },
      "text/plain": [
       "Validation: |          | 0/? [00:00<?, ?it/s]"
      ]
     },
     "metadata": {},
     "output_type": "display_data"
    },
    {
     "data": {
      "application/vnd.jupyter.widget-view+json": {
       "model_id": "9e733019bbf54d598313be564b12e926",
       "version_major": 2,
       "version_minor": 0
      },
      "text/plain": [
       "Validation: |          | 0/? [00:00<?, ?it/s]"
      ]
     },
     "metadata": {},
     "output_type": "display_data"
    },
    {
     "data": {
      "application/vnd.jupyter.widget-view+json": {
       "model_id": "16d741d5b34c407cb9ca1ddef9207109",
       "version_major": 2,
       "version_minor": 0
      },
      "text/plain": [
       "Validation: |          | 0/? [00:00<?, ?it/s]"
      ]
     },
     "metadata": {},
     "output_type": "display_data"
    },
    {
     "data": {
      "application/vnd.jupyter.widget-view+json": {
       "model_id": "ff0c934fbf864cc99ffae2809b51e02b",
       "version_major": 2,
       "version_minor": 0
      },
      "text/plain": [
       "Validation: |          | 0/? [00:00<?, ?it/s]"
      ]
     },
     "metadata": {},
     "output_type": "display_data"
    },
    {
     "data": {
      "application/vnd.jupyter.widget-view+json": {
       "model_id": "3d5af131211340f3bdd393665e9c8889",
       "version_major": 2,
       "version_minor": 0
      },
      "text/plain": [
       "Validation: |          | 0/? [00:00<?, ?it/s]"
      ]
     },
     "metadata": {},
     "output_type": "display_data"
    },
    {
     "data": {
      "application/vnd.jupyter.widget-view+json": {
       "model_id": "0e02a23f469841be972e3a6ccace88fd",
       "version_major": 2,
       "version_minor": 0
      },
      "text/plain": [
       "Validation: |          | 0/? [00:00<?, ?it/s]"
      ]
     },
     "metadata": {},
     "output_type": "display_data"
    },
    {
     "data": {
      "application/vnd.jupyter.widget-view+json": {
       "model_id": "bfd63d39b7c943949745d17bbdbe12ef",
       "version_major": 2,
       "version_minor": 0
      },
      "text/plain": [
       "Validation: |          | 0/? [00:00<?, ?it/s]"
      ]
     },
     "metadata": {},
     "output_type": "display_data"
    },
    {
     "data": {
      "application/vnd.jupyter.widget-view+json": {
       "model_id": "df725972a8b74705b2b85c36b9613341",
       "version_major": 2,
       "version_minor": 0
      },
      "text/plain": [
       "Validation: |          | 0/? [00:00<?, ?it/s]"
      ]
     },
     "metadata": {},
     "output_type": "display_data"
    },
    {
     "data": {
      "application/vnd.jupyter.widget-view+json": {
       "model_id": "6c7de5eb6ebc4338bc9ec6685bb7ff95",
       "version_major": 2,
       "version_minor": 0
      },
      "text/plain": [
       "Validation: |          | 0/? [00:00<?, ?it/s]"
      ]
     },
     "metadata": {},
     "output_type": "display_data"
    },
    {
     "data": {
      "application/vnd.jupyter.widget-view+json": {
       "model_id": "1ee4cbdec26844bba812781177a2fce3",
       "version_major": 2,
       "version_minor": 0
      },
      "text/plain": [
       "Validation: |          | 0/? [00:00<?, ?it/s]"
      ]
     },
     "metadata": {},
     "output_type": "display_data"
    },
    {
     "data": {
      "application/vnd.jupyter.widget-view+json": {
       "model_id": "130fa6c4d77c4629ab5f5e37b667393e",
       "version_major": 2,
       "version_minor": 0
      },
      "text/plain": [
       "Validation: |          | 0/? [00:00<?, ?it/s]"
      ]
     },
     "metadata": {},
     "output_type": "display_data"
    },
    {
     "data": {
      "application/vnd.jupyter.widget-view+json": {
       "model_id": "49e786021f4540b8af2a01da18095b8b",
       "version_major": 2,
       "version_minor": 0
      },
      "text/plain": [
       "Validation: |          | 0/? [00:00<?, ?it/s]"
      ]
     },
     "metadata": {},
     "output_type": "display_data"
    },
    {
     "data": {
      "application/vnd.jupyter.widget-view+json": {
       "model_id": "162231153b924b03bcaf8864f5ab50ff",
       "version_major": 2,
       "version_minor": 0
      },
      "text/plain": [
       "Validation: |          | 0/? [00:00<?, ?it/s]"
      ]
     },
     "metadata": {},
     "output_type": "display_data"
    },
    {
     "data": {
      "application/vnd.jupyter.widget-view+json": {
       "model_id": "7ac20ae3d0af45ad81270ba2865f3628",
       "version_major": 2,
       "version_minor": 0
      },
      "text/plain": [
       "Validation: |          | 0/? [00:00<?, ?it/s]"
      ]
     },
     "metadata": {},
     "output_type": "display_data"
    },
    {
     "data": {
      "application/vnd.jupyter.widget-view+json": {
       "model_id": "1b4328f40e16431aad04beec50ff44e6",
       "version_major": 2,
       "version_minor": 0
      },
      "text/plain": [
       "Validation: |          | 0/? [00:00<?, ?it/s]"
      ]
     },
     "metadata": {},
     "output_type": "display_data"
    },
    {
     "data": {
      "application/vnd.jupyter.widget-view+json": {
       "model_id": "ebe6c09bc94a444c8bb3292532c141b9",
       "version_major": 2,
       "version_minor": 0
      },
      "text/plain": [
       "Validation: |          | 0/? [00:00<?, ?it/s]"
      ]
     },
     "metadata": {},
     "output_type": "display_data"
    },
    {
     "data": {
      "application/vnd.jupyter.widget-view+json": {
       "model_id": "32abbd506db14e749a1c4b270aaaf282",
       "version_major": 2,
       "version_minor": 0
      },
      "text/plain": [
       "Validation: |          | 0/? [00:00<?, ?it/s]"
      ]
     },
     "metadata": {},
     "output_type": "display_data"
    },
    {
     "data": {
      "application/vnd.jupyter.widget-view+json": {
       "model_id": "60d1d0ee43f242658c18931f39340518",
       "version_major": 2,
       "version_minor": 0
      },
      "text/plain": [
       "Validation: |          | 0/? [00:00<?, ?it/s]"
      ]
     },
     "metadata": {},
     "output_type": "display_data"
    },
    {
     "data": {
      "application/vnd.jupyter.widget-view+json": {
       "model_id": "6397b54576a94fef9b33086388f8ca24",
       "version_major": 2,
       "version_minor": 0
      },
      "text/plain": [
       "Validation: |          | 0/? [00:00<?, ?it/s]"
      ]
     },
     "metadata": {},
     "output_type": "display_data"
    },
    {
     "data": {
      "application/vnd.jupyter.widget-view+json": {
       "model_id": "d6da17f9ac8d41ec8a90eca7d1eb4ef8",
       "version_major": 2,
       "version_minor": 0
      },
      "text/plain": [
       "Validation: |          | 0/? [00:00<?, ?it/s]"
      ]
     },
     "metadata": {},
     "output_type": "display_data"
    },
    {
     "data": {
      "application/vnd.jupyter.widget-view+json": {
       "model_id": "88b2959e8906419e81c473d07f0352bd",
       "version_major": 2,
       "version_minor": 0
      },
      "text/plain": [
       "Validation: |          | 0/? [00:00<?, ?it/s]"
      ]
     },
     "metadata": {},
     "output_type": "display_data"
    },
    {
     "data": {
      "application/vnd.jupyter.widget-view+json": {
       "model_id": "7c590ddd034b41f2a52d054edbe93570",
       "version_major": 2,
       "version_minor": 0
      },
      "text/plain": [
       "Validation: |          | 0/? [00:00<?, ?it/s]"
      ]
     },
     "metadata": {},
     "output_type": "display_data"
    },
    {
     "data": {
      "application/vnd.jupyter.widget-view+json": {
       "model_id": "a257a13189fa4d1b9d18400099623f25",
       "version_major": 2,
       "version_minor": 0
      },
      "text/plain": [
       "Validation: |          | 0/? [00:00<?, ?it/s]"
      ]
     },
     "metadata": {},
     "output_type": "display_data"
    },
    {
     "data": {
      "application/vnd.jupyter.widget-view+json": {
       "model_id": "9e81da1d52c145e5a764ffd88da6f255",
       "version_major": 2,
       "version_minor": 0
      },
      "text/plain": [
       "Validation: |          | 0/? [00:00<?, ?it/s]"
      ]
     },
     "metadata": {},
     "output_type": "display_data"
    },
    {
     "data": {
      "application/vnd.jupyter.widget-view+json": {
       "model_id": "f6f934a2b1564942ae9f71eff4610333",
       "version_major": 2,
       "version_minor": 0
      },
      "text/plain": [
       "Validation: |          | 0/? [00:00<?, ?it/s]"
      ]
     },
     "metadata": {},
     "output_type": "display_data"
    },
    {
     "data": {
      "application/vnd.jupyter.widget-view+json": {
       "model_id": "f58e19f429ba4bfea59bdaedbc47b44d",
       "version_major": 2,
       "version_minor": 0
      },
      "text/plain": [
       "Validation: |          | 0/? [00:00<?, ?it/s]"
      ]
     },
     "metadata": {},
     "output_type": "display_data"
    },
    {
     "data": {
      "application/vnd.jupyter.widget-view+json": {
       "model_id": "96baa3cc8bd243df88d6cafabd1cfea1",
       "version_major": 2,
       "version_minor": 0
      },
      "text/plain": [
       "Validation: |          | 0/? [00:00<?, ?it/s]"
      ]
     },
     "metadata": {},
     "output_type": "display_data"
    },
    {
     "data": {
      "application/vnd.jupyter.widget-view+json": {
       "model_id": "9d7cd44d451d4b9fbafe9e6aca7d3482",
       "version_major": 2,
       "version_minor": 0
      },
      "text/plain": [
       "Validation: |          | 0/? [00:00<?, ?it/s]"
      ]
     },
     "metadata": {},
     "output_type": "display_data"
    },
    {
     "data": {
      "application/vnd.jupyter.widget-view+json": {
       "model_id": "150abfef58c24dffbac195d762af271e",
       "version_major": 2,
       "version_minor": 0
      },
      "text/plain": [
       "Validation: |          | 0/? [00:00<?, ?it/s]"
      ]
     },
     "metadata": {},
     "output_type": "display_data"
    },
    {
     "data": {
      "application/vnd.jupyter.widget-view+json": {
       "model_id": "ec2b4948ffab4351bccf676df704c4c6",
       "version_major": 2,
       "version_minor": 0
      },
      "text/plain": [
       "Validation: |          | 0/? [00:00<?, ?it/s]"
      ]
     },
     "metadata": {},
     "output_type": "display_data"
    },
    {
     "data": {
      "application/vnd.jupyter.widget-view+json": {
       "model_id": "0aaeed02211c4fdc966ed9b16cf2900e",
       "version_major": 2,
       "version_minor": 0
      },
      "text/plain": [
       "Validation: |          | 0/? [00:00<?, ?it/s]"
      ]
     },
     "metadata": {},
     "output_type": "display_data"
    },
    {
     "data": {
      "application/vnd.jupyter.widget-view+json": {
       "model_id": "14f07c05c8384ddeaaedb1f146d03f5d",
       "version_major": 2,
       "version_minor": 0
      },
      "text/plain": [
       "Validation: |          | 0/? [00:00<?, ?it/s]"
      ]
     },
     "metadata": {},
     "output_type": "display_data"
    },
    {
     "data": {
      "application/vnd.jupyter.widget-view+json": {
       "model_id": "2d581f1cd00d4c919f56c2b2c3118dce",
       "version_major": 2,
       "version_minor": 0
      },
      "text/plain": [
       "Validation: |          | 0/? [00:00<?, ?it/s]"
      ]
     },
     "metadata": {},
     "output_type": "display_data"
    },
    {
     "data": {
      "application/vnd.jupyter.widget-view+json": {
       "model_id": "04e5ab806b9a48e49794afd3de0b7e54",
       "version_major": 2,
       "version_minor": 0
      },
      "text/plain": [
       "Validation: |          | 0/? [00:00<?, ?it/s]"
      ]
     },
     "metadata": {},
     "output_type": "display_data"
    },
    {
     "data": {
      "application/vnd.jupyter.widget-view+json": {
       "model_id": "7f64d656b64e49b8b00be7f388538039",
       "version_major": 2,
       "version_minor": 0
      },
      "text/plain": [
       "Validation: |          | 0/? [00:00<?, ?it/s]"
      ]
     },
     "metadata": {},
     "output_type": "display_data"
    },
    {
     "data": {
      "application/vnd.jupyter.widget-view+json": {
       "model_id": "edc1713860a74a8fb43e57d70581af87",
       "version_major": 2,
       "version_minor": 0
      },
      "text/plain": [
       "Validation: |          | 0/? [00:00<?, ?it/s]"
      ]
     },
     "metadata": {},
     "output_type": "display_data"
    },
    {
     "data": {
      "application/vnd.jupyter.widget-view+json": {
       "model_id": "e1d02a2714ad4f6d9e0ac4aaea36f08c",
       "version_major": 2,
       "version_minor": 0
      },
      "text/plain": [
       "Validation: |          | 0/? [00:00<?, ?it/s]"
      ]
     },
     "metadata": {},
     "output_type": "display_data"
    },
    {
     "data": {
      "application/vnd.jupyter.widget-view+json": {
       "model_id": "11f91847752a488dbc07affa339c0a37",
       "version_major": 2,
       "version_minor": 0
      },
      "text/plain": [
       "Validation: |          | 0/? [00:00<?, ?it/s]"
      ]
     },
     "metadata": {},
     "output_type": "display_data"
    },
    {
     "data": {
      "application/vnd.jupyter.widget-view+json": {
       "model_id": "d664620ab3124de3ba60c3fdddb73160",
       "version_major": 2,
       "version_minor": 0
      },
      "text/plain": [
       "Validation: |          | 0/? [00:00<?, ?it/s]"
      ]
     },
     "metadata": {},
     "output_type": "display_data"
    },
    {
     "data": {
      "application/vnd.jupyter.widget-view+json": {
       "model_id": "e71a9ae063274e0183f8f2fae77cd167",
       "version_major": 2,
       "version_minor": 0
      },
      "text/plain": [
       "Validation: |          | 0/? [00:00<?, ?it/s]"
      ]
     },
     "metadata": {},
     "output_type": "display_data"
    },
    {
     "data": {
      "application/vnd.jupyter.widget-view+json": {
       "model_id": "2268152e5ebf479286afd1b0fea86aa6",
       "version_major": 2,
       "version_minor": 0
      },
      "text/plain": [
       "Validation: |          | 0/? [00:00<?, ?it/s]"
      ]
     },
     "metadata": {},
     "output_type": "display_data"
    },
    {
     "data": {
      "application/vnd.jupyter.widget-view+json": {
       "model_id": "5474a6700ec146d8bbc46b81c41d6f79",
       "version_major": 2,
       "version_minor": 0
      },
      "text/plain": [
       "Validation: |          | 0/? [00:00<?, ?it/s]"
      ]
     },
     "metadata": {},
     "output_type": "display_data"
    },
    {
     "data": {
      "application/vnd.jupyter.widget-view+json": {
       "model_id": "bf264a33c90d4037905cb5c71d2867f6",
       "version_major": 2,
       "version_minor": 0
      },
      "text/plain": [
       "Validation: |          | 0/? [00:00<?, ?it/s]"
      ]
     },
     "metadata": {},
     "output_type": "display_data"
    },
    {
     "data": {
      "application/vnd.jupyter.widget-view+json": {
       "model_id": "debe2c3e7c4e49b387f8e535d3106a7f",
       "version_major": 2,
       "version_minor": 0
      },
      "text/plain": [
       "Validation: |          | 0/? [00:00<?, ?it/s]"
      ]
     },
     "metadata": {},
     "output_type": "display_data"
    },
    {
     "data": {
      "application/vnd.jupyter.widget-view+json": {
       "model_id": "1b717a1767ea421da39df2125a1a292a",
       "version_major": 2,
       "version_minor": 0
      },
      "text/plain": [
       "Validation: |          | 0/? [00:00<?, ?it/s]"
      ]
     },
     "metadata": {},
     "output_type": "display_data"
    },
    {
     "data": {
      "application/vnd.jupyter.widget-view+json": {
       "model_id": "5a906fa9167f4f229666a14325e0a570",
       "version_major": 2,
       "version_minor": 0
      },
      "text/plain": [
       "Validation: |          | 0/? [00:00<?, ?it/s]"
      ]
     },
     "metadata": {},
     "output_type": "display_data"
    },
    {
     "data": {
      "application/vnd.jupyter.widget-view+json": {
       "model_id": "2bdb680976db4841bf06c5d1e6694b39",
       "version_major": 2,
       "version_minor": 0
      },
      "text/plain": [
       "Validation: |          | 0/? [00:00<?, ?it/s]"
      ]
     },
     "metadata": {},
     "output_type": "display_data"
    },
    {
     "data": {
      "application/vnd.jupyter.widget-view+json": {
       "model_id": "f60423380fe14128b97d4e5eb5a763d8",
       "version_major": 2,
       "version_minor": 0
      },
      "text/plain": [
       "Validation: |          | 0/? [00:00<?, ?it/s]"
      ]
     },
     "metadata": {},
     "output_type": "display_data"
    },
    {
     "data": {
      "application/vnd.jupyter.widget-view+json": {
       "model_id": "2706549281af4e7db44a907e21037016",
       "version_major": 2,
       "version_minor": 0
      },
      "text/plain": [
       "Validation: |          | 0/? [00:00<?, ?it/s]"
      ]
     },
     "metadata": {},
     "output_type": "display_data"
    },
    {
     "data": {
      "application/vnd.jupyter.widget-view+json": {
       "model_id": "b580a7252a634be7b0198ab36e7c943b",
       "version_major": 2,
       "version_minor": 0
      },
      "text/plain": [
       "Validation: |          | 0/? [00:00<?, ?it/s]"
      ]
     },
     "metadata": {},
     "output_type": "display_data"
    },
    {
     "data": {
      "application/vnd.jupyter.widget-view+json": {
       "model_id": "8a2f4d6f3fa749bdb03bdd1c9283c60c",
       "version_major": 2,
       "version_minor": 0
      },
      "text/plain": [
       "Validation: |          | 0/? [00:00<?, ?it/s]"
      ]
     },
     "metadata": {},
     "output_type": "display_data"
    },
    {
     "data": {
      "application/vnd.jupyter.widget-view+json": {
       "model_id": "126279f7c60942debe1f594cb07b323a",
       "version_major": 2,
       "version_minor": 0
      },
      "text/plain": [
       "Validation: |          | 0/? [00:00<?, ?it/s]"
      ]
     },
     "metadata": {},
     "output_type": "display_data"
    },
    {
     "data": {
      "application/vnd.jupyter.widget-view+json": {
       "model_id": "2c48e3588eec48e196a5a900ec593bf1",
       "version_major": 2,
       "version_minor": 0
      },
      "text/plain": [
       "Validation: |          | 0/? [00:00<?, ?it/s]"
      ]
     },
     "metadata": {},
     "output_type": "display_data"
    },
    {
     "data": {
      "application/vnd.jupyter.widget-view+json": {
       "model_id": "a4aef7f6d93a4a5aad5dcf6ec087c742",
       "version_major": 2,
       "version_minor": 0
      },
      "text/plain": [
       "Validation: |          | 0/? [00:00<?, ?it/s]"
      ]
     },
     "metadata": {},
     "output_type": "display_data"
    },
    {
     "data": {
      "application/vnd.jupyter.widget-view+json": {
       "model_id": "23f6744e2cb84ca7815e4ee82d526dd0",
       "version_major": 2,
       "version_minor": 0
      },
      "text/plain": [
       "Validation: |          | 0/? [00:00<?, ?it/s]"
      ]
     },
     "metadata": {},
     "output_type": "display_data"
    },
    {
     "data": {
      "application/vnd.jupyter.widget-view+json": {
       "model_id": "0e2c4b7c804c44769ec50b7afd7acbef",
       "version_major": 2,
       "version_minor": 0
      },
      "text/plain": [
       "Validation: |          | 0/? [00:00<?, ?it/s]"
      ]
     },
     "metadata": {},
     "output_type": "display_data"
    },
    {
     "data": {
      "application/vnd.jupyter.widget-view+json": {
       "model_id": "cd68b62338b74413a650336b77da4bdf",
       "version_major": 2,
       "version_minor": 0
      },
      "text/plain": [
       "Validation: |          | 0/? [00:00<?, ?it/s]"
      ]
     },
     "metadata": {},
     "output_type": "display_data"
    },
    {
     "data": {
      "application/vnd.jupyter.widget-view+json": {
       "model_id": "00af350b9a4346f58d47d937cccbe28d",
       "version_major": 2,
       "version_minor": 0
      },
      "text/plain": [
       "Validation: |          | 0/? [00:00<?, ?it/s]"
      ]
     },
     "metadata": {},
     "output_type": "display_data"
    },
    {
     "data": {
      "application/vnd.jupyter.widget-view+json": {
       "model_id": "df9b17c4a8a141a18b6acdcf1b482b58",
       "version_major": 2,
       "version_minor": 0
      },
      "text/plain": [
       "Validation: |          | 0/? [00:00<?, ?it/s]"
      ]
     },
     "metadata": {},
     "output_type": "display_data"
    },
    {
     "data": {
      "application/vnd.jupyter.widget-view+json": {
       "model_id": "5db1789da72c418c8f8b17bde307b532",
       "version_major": 2,
       "version_minor": 0
      },
      "text/plain": [
       "Validation: |          | 0/? [00:00<?, ?it/s]"
      ]
     },
     "metadata": {},
     "output_type": "display_data"
    },
    {
     "data": {
      "application/vnd.jupyter.widget-view+json": {
       "model_id": "64992e1884a947c6b8c19052affc3d06",
       "version_major": 2,
       "version_minor": 0
      },
      "text/plain": [
       "Validation: |          | 0/? [00:00<?, ?it/s]"
      ]
     },
     "metadata": {},
     "output_type": "display_data"
    },
    {
     "data": {
      "application/vnd.jupyter.widget-view+json": {
       "model_id": "567b4beead514b7fb678a8b081adef1d",
       "version_major": 2,
       "version_minor": 0
      },
      "text/plain": [
       "Validation: |          | 0/? [00:00<?, ?it/s]"
      ]
     },
     "metadata": {},
     "output_type": "display_data"
    },
    {
     "data": {
      "application/vnd.jupyter.widget-view+json": {
       "model_id": "7bfcd870e16e4d42af70ae8f6879a733",
       "version_major": 2,
       "version_minor": 0
      },
      "text/plain": [
       "Validation: |          | 0/? [00:00<?, ?it/s]"
      ]
     },
     "metadata": {},
     "output_type": "display_data"
    },
    {
     "data": {
      "application/vnd.jupyter.widget-view+json": {
       "model_id": "414eba35c6f649a48b2cb0ac18a8a637",
       "version_major": 2,
       "version_minor": 0
      },
      "text/plain": [
       "Validation: |          | 0/? [00:00<?, ?it/s]"
      ]
     },
     "metadata": {},
     "output_type": "display_data"
    },
    {
     "data": {
      "application/vnd.jupyter.widget-view+json": {
       "model_id": "afce9d1044824af5a9aa89772d6b6c61",
       "version_major": 2,
       "version_minor": 0
      },
      "text/plain": [
       "Validation: |          | 0/? [00:00<?, ?it/s]"
      ]
     },
     "metadata": {},
     "output_type": "display_data"
    },
    {
     "data": {
      "application/vnd.jupyter.widget-view+json": {
       "model_id": "af4ff8c9fc0d49088bfcd178a28ae890",
       "version_major": 2,
       "version_minor": 0
      },
      "text/plain": [
       "Validation: |          | 0/? [00:00<?, ?it/s]"
      ]
     },
     "metadata": {},
     "output_type": "display_data"
    },
    {
     "data": {
      "application/vnd.jupyter.widget-view+json": {
       "model_id": "02e4025a881d4e58ab2bef7f4e7ea05a",
       "version_major": 2,
       "version_minor": 0
      },
      "text/plain": [
       "Validation: |          | 0/? [00:00<?, ?it/s]"
      ]
     },
     "metadata": {},
     "output_type": "display_data"
    },
    {
     "data": {
      "application/vnd.jupyter.widget-view+json": {
       "model_id": "4585b8453ddb414f8165ceb89791ffa9",
       "version_major": 2,
       "version_minor": 0
      },
      "text/plain": [
       "Validation: |          | 0/? [00:00<?, ?it/s]"
      ]
     },
     "metadata": {},
     "output_type": "display_data"
    },
    {
     "data": {
      "application/vnd.jupyter.widget-view+json": {
       "model_id": "b0f0fa59385a44c49f0ecdd602d1f917",
       "version_major": 2,
       "version_minor": 0
      },
      "text/plain": [
       "Validation: |          | 0/? [00:00<?, ?it/s]"
      ]
     },
     "metadata": {},
     "output_type": "display_data"
    },
    {
     "data": {
      "application/vnd.jupyter.widget-view+json": {
       "model_id": "fa0057c650f94775b85cb1ae6b6ea17b",
       "version_major": 2,
       "version_minor": 0
      },
      "text/plain": [
       "Validation: |          | 0/? [00:00<?, ?it/s]"
      ]
     },
     "metadata": {},
     "output_type": "display_data"
    },
    {
     "data": {
      "application/vnd.jupyter.widget-view+json": {
       "model_id": "1d32d34309304accb3eb4bec93174809",
       "version_major": 2,
       "version_minor": 0
      },
      "text/plain": [
       "Validation: |          | 0/? [00:00<?, ?it/s]"
      ]
     },
     "metadata": {},
     "output_type": "display_data"
    },
    {
     "data": {
      "application/vnd.jupyter.widget-view+json": {
       "model_id": "037aff5a9e3840038782452109835c67",
       "version_major": 2,
       "version_minor": 0
      },
      "text/plain": [
       "Validation: |          | 0/? [00:00<?, ?it/s]"
      ]
     },
     "metadata": {},
     "output_type": "display_data"
    },
    {
     "data": {
      "application/vnd.jupyter.widget-view+json": {
       "model_id": "23fb688c76d64f8897e74af8e5ac3ad5",
       "version_major": 2,
       "version_minor": 0
      },
      "text/plain": [
       "Validation: |          | 0/? [00:00<?, ?it/s]"
      ]
     },
     "metadata": {},
     "output_type": "display_data"
    },
    {
     "data": {
      "application/vnd.jupyter.widget-view+json": {
       "model_id": "86b6b25a94614e799d4d0af5def722ad",
       "version_major": 2,
       "version_minor": 0
      },
      "text/plain": [
       "Validation: |          | 0/? [00:00<?, ?it/s]"
      ]
     },
     "metadata": {},
     "output_type": "display_data"
    },
    {
     "data": {
      "application/vnd.jupyter.widget-view+json": {
       "model_id": "6bd09cbead9c47a7b7458520c0cbaee6",
       "version_major": 2,
       "version_minor": 0
      },
      "text/plain": [
       "Validation: |          | 0/? [00:00<?, ?it/s]"
      ]
     },
     "metadata": {},
     "output_type": "display_data"
    },
    {
     "data": {
      "application/vnd.jupyter.widget-view+json": {
       "model_id": "c9d0691f1ad145dc8f2c2d65fb7f2e32",
       "version_major": 2,
       "version_minor": 0
      },
      "text/plain": [
       "Validation: |          | 0/? [00:00<?, ?it/s]"
      ]
     },
     "metadata": {},
     "output_type": "display_data"
    },
    {
     "data": {
      "application/vnd.jupyter.widget-view+json": {
       "model_id": "a79cfa49236f47638ec45e8a6d732bec",
       "version_major": 2,
       "version_minor": 0
      },
      "text/plain": [
       "Validation: |          | 0/? [00:00<?, ?it/s]"
      ]
     },
     "metadata": {},
     "output_type": "display_data"
    },
    {
     "data": {
      "application/vnd.jupyter.widget-view+json": {
       "model_id": "bf2bfa7e75254fd08d342390385c173d",
       "version_major": 2,
       "version_minor": 0
      },
      "text/plain": [
       "Validation: |          | 0/? [00:00<?, ?it/s]"
      ]
     },
     "metadata": {},
     "output_type": "display_data"
    },
    {
     "data": {
      "application/vnd.jupyter.widget-view+json": {
       "model_id": "0553e2cca97a428b86507b8f2aaf9da0",
       "version_major": 2,
       "version_minor": 0
      },
      "text/plain": [
       "Validation: |          | 0/? [00:00<?, ?it/s]"
      ]
     },
     "metadata": {},
     "output_type": "display_data"
    },
    {
     "data": {
      "application/vnd.jupyter.widget-view+json": {
       "model_id": "0efea0113f42462fa5f4c304d230fb12",
       "version_major": 2,
       "version_minor": 0
      },
      "text/plain": [
       "Validation: |          | 0/? [00:00<?, ?it/s]"
      ]
     },
     "metadata": {},
     "output_type": "display_data"
    },
    {
     "data": {
      "application/vnd.jupyter.widget-view+json": {
       "model_id": "ed6cc605d73a4d3b9554ed23c05332e9",
       "version_major": 2,
       "version_minor": 0
      },
      "text/plain": [
       "Validation: |          | 0/? [00:00<?, ?it/s]"
      ]
     },
     "metadata": {},
     "output_type": "display_data"
    },
    {
     "data": {
      "application/vnd.jupyter.widget-view+json": {
       "model_id": "0c31617b5a9940db8120c66601dad8d4",
       "version_major": 2,
       "version_minor": 0
      },
      "text/plain": [
       "Validation: |          | 0/? [00:00<?, ?it/s]"
      ]
     },
     "metadata": {},
     "output_type": "display_data"
    },
    {
     "data": {
      "application/vnd.jupyter.widget-view+json": {
       "model_id": "f4aff92a7bbb41369f306049cf6dd7b3",
       "version_major": 2,
       "version_minor": 0
      },
      "text/plain": [
       "Validation: |          | 0/? [00:00<?, ?it/s]"
      ]
     },
     "metadata": {},
     "output_type": "display_data"
    },
    {
     "data": {
      "application/vnd.jupyter.widget-view+json": {
       "model_id": "2bee94fd81ad486f9016a12f1523d861",
       "version_major": 2,
       "version_minor": 0
      },
      "text/plain": [
       "Validation: |          | 0/? [00:00<?, ?it/s]"
      ]
     },
     "metadata": {},
     "output_type": "display_data"
    },
    {
     "data": {
      "application/vnd.jupyter.widget-view+json": {
       "model_id": "d0aab5ab7e0c4ff8ba91e8870b6e3dec",
       "version_major": 2,
       "version_minor": 0
      },
      "text/plain": [
       "Validation: |          | 0/? [00:00<?, ?it/s]"
      ]
     },
     "metadata": {},
     "output_type": "display_data"
    },
    {
     "data": {
      "application/vnd.jupyter.widget-view+json": {
       "model_id": "06a69d6b11474ce9a2464f58d05539b9",
       "version_major": 2,
       "version_minor": 0
      },
      "text/plain": [
       "Validation: |          | 0/? [00:00<?, ?it/s]"
      ]
     },
     "metadata": {},
     "output_type": "display_data"
    },
    {
     "data": {
      "application/vnd.jupyter.widget-view+json": {
       "model_id": "3c08c9e4591342218ef19011f5b89e97",
       "version_major": 2,
       "version_minor": 0
      },
      "text/plain": [
       "Validation: |          | 0/? [00:00<?, ?it/s]"
      ]
     },
     "metadata": {},
     "output_type": "display_data"
    },
    {
     "data": {
      "application/vnd.jupyter.widget-view+json": {
       "model_id": "2acc62853f4840358a7055b6442169bd",
       "version_major": 2,
       "version_minor": 0
      },
      "text/plain": [
       "Validation: |          | 0/? [00:00<?, ?it/s]"
      ]
     },
     "metadata": {},
     "output_type": "display_data"
    },
    {
     "data": {
      "application/vnd.jupyter.widget-view+json": {
       "model_id": "f03e61bb595343548fd4b09834331e5a",
       "version_major": 2,
       "version_minor": 0
      },
      "text/plain": [
       "Validation: |          | 0/? [00:00<?, ?it/s]"
      ]
     },
     "metadata": {},
     "output_type": "display_data"
    },
    {
     "data": {
      "application/vnd.jupyter.widget-view+json": {
       "model_id": "059d3322161d45768aa4762c8ed0a546",
       "version_major": 2,
       "version_minor": 0
      },
      "text/plain": [
       "Validation: |          | 0/? [00:00<?, ?it/s]"
      ]
     },
     "metadata": {},
     "output_type": "display_data"
    },
    {
     "data": {
      "application/vnd.jupyter.widget-view+json": {
       "model_id": "88ba181eed724e0ba13905e35e84ec2b",
       "version_major": 2,
       "version_minor": 0
      },
      "text/plain": [
       "Validation: |          | 0/? [00:00<?, ?it/s]"
      ]
     },
     "metadata": {},
     "output_type": "display_data"
    },
    {
     "data": {
      "application/vnd.jupyter.widget-view+json": {
       "model_id": "4edbabe97568462280b5ebda16c20c80",
       "version_major": 2,
       "version_minor": 0
      },
      "text/plain": [
       "Validation: |          | 0/? [00:00<?, ?it/s]"
      ]
     },
     "metadata": {},
     "output_type": "display_data"
    },
    {
     "data": {
      "application/vnd.jupyter.widget-view+json": {
       "model_id": "9ddef2eb7eb0413f8752112db441494b",
       "version_major": 2,
       "version_minor": 0
      },
      "text/plain": [
       "Validation: |          | 0/? [00:00<?, ?it/s]"
      ]
     },
     "metadata": {},
     "output_type": "display_data"
    },
    {
     "data": {
      "application/vnd.jupyter.widget-view+json": {
       "model_id": "3690f8fcc0394c25827be6dbd784e3ae",
       "version_major": 2,
       "version_minor": 0
      },
      "text/plain": [
       "Validation: |          | 0/? [00:00<?, ?it/s]"
      ]
     },
     "metadata": {},
     "output_type": "display_data"
    },
    {
     "data": {
      "application/vnd.jupyter.widget-view+json": {
       "model_id": "56e3f946e19a4fd38e63356ab6c20f0a",
       "version_major": 2,
       "version_minor": 0
      },
      "text/plain": [
       "Validation: |          | 0/? [00:00<?, ?it/s]"
      ]
     },
     "metadata": {},
     "output_type": "display_data"
    },
    {
     "data": {
      "application/vnd.jupyter.widget-view+json": {
       "model_id": "3959276c7c8a4013a57e16274d38e00a",
       "version_major": 2,
       "version_minor": 0
      },
      "text/plain": [
       "Validation: |          | 0/? [00:00<?, ?it/s]"
      ]
     },
     "metadata": {},
     "output_type": "display_data"
    },
    {
     "data": {
      "application/vnd.jupyter.widget-view+json": {
       "model_id": "ea2f1786c38e42bebebdc32787ebe9f8",
       "version_major": 2,
       "version_minor": 0
      },
      "text/plain": [
       "Validation: |          | 0/? [00:00<?, ?it/s]"
      ]
     },
     "metadata": {},
     "output_type": "display_data"
    },
    {
     "data": {
      "application/vnd.jupyter.widget-view+json": {
       "model_id": "ff9cbad800e849948fbdba2f6d44fe27",
       "version_major": 2,
       "version_minor": 0
      },
      "text/plain": [
       "Validation: |          | 0/? [00:00<?, ?it/s]"
      ]
     },
     "metadata": {},
     "output_type": "display_data"
    },
    {
     "data": {
      "application/vnd.jupyter.widget-view+json": {
       "model_id": "6535276e5e71484c8ea68a0db04b1355",
       "version_major": 2,
       "version_minor": 0
      },
      "text/plain": [
       "Validation: |          | 0/? [00:00<?, ?it/s]"
      ]
     },
     "metadata": {},
     "output_type": "display_data"
    },
    {
     "data": {
      "application/vnd.jupyter.widget-view+json": {
       "model_id": "81af47787c04497c9444a34d39acf7ee",
       "version_major": 2,
       "version_minor": 0
      },
      "text/plain": [
       "Validation: |          | 0/? [00:00<?, ?it/s]"
      ]
     },
     "metadata": {},
     "output_type": "display_data"
    },
    {
     "data": {
      "application/vnd.jupyter.widget-view+json": {
       "model_id": "0ab05331786e43e4a09ba6e0a438e9bb",
       "version_major": 2,
       "version_minor": 0
      },
      "text/plain": [
       "Validation: |          | 0/? [00:00<?, ?it/s]"
      ]
     },
     "metadata": {},
     "output_type": "display_data"
    },
    {
     "data": {
      "application/vnd.jupyter.widget-view+json": {
       "model_id": "f0ac3ffd2f7a43e19656d8dd4bd0c40c",
       "version_major": 2,
       "version_minor": 0
      },
      "text/plain": [
       "Validation: |          | 0/? [00:00<?, ?it/s]"
      ]
     },
     "metadata": {},
     "output_type": "display_data"
    },
    {
     "data": {
      "application/vnd.jupyter.widget-view+json": {
       "model_id": "a7bb83bd752a441baa274c13303b5d9b",
       "version_major": 2,
       "version_minor": 0
      },
      "text/plain": [
       "Validation: |          | 0/? [00:00<?, ?it/s]"
      ]
     },
     "metadata": {},
     "output_type": "display_data"
    },
    {
     "data": {
      "application/vnd.jupyter.widget-view+json": {
       "model_id": "aeadcef8885d496890ea455dd2cc2d80",
       "version_major": 2,
       "version_minor": 0
      },
      "text/plain": [
       "Validation: |          | 0/? [00:00<?, ?it/s]"
      ]
     },
     "metadata": {},
     "output_type": "display_data"
    },
    {
     "data": {
      "application/vnd.jupyter.widget-view+json": {
       "model_id": "de25032dc750496aa74fd64c15be532a",
       "version_major": 2,
       "version_minor": 0
      },
      "text/plain": [
       "Validation: |          | 0/? [00:00<?, ?it/s]"
      ]
     },
     "metadata": {},
     "output_type": "display_data"
    },
    {
     "data": {
      "application/vnd.jupyter.widget-view+json": {
       "model_id": "6c63d45b02c84e049ad5bb79c7260650",
       "version_major": 2,
       "version_minor": 0
      },
      "text/plain": [
       "Validation: |          | 0/? [00:00<?, ?it/s]"
      ]
     },
     "metadata": {},
     "output_type": "display_data"
    },
    {
     "data": {
      "application/vnd.jupyter.widget-view+json": {
       "model_id": "50fd36aae4b44f3a8c0d1609ee50d362",
       "version_major": 2,
       "version_minor": 0
      },
      "text/plain": [
       "Validation: |          | 0/? [00:00<?, ?it/s]"
      ]
     },
     "metadata": {},
     "output_type": "display_data"
    },
    {
     "data": {
      "application/vnd.jupyter.widget-view+json": {
       "model_id": "7b1b032101df418da61f0a34f5ee02a0",
       "version_major": 2,
       "version_minor": 0
      },
      "text/plain": [
       "Validation: |          | 0/? [00:00<?, ?it/s]"
      ]
     },
     "metadata": {},
     "output_type": "display_data"
    },
    {
     "data": {
      "application/vnd.jupyter.widget-view+json": {
       "model_id": "0ec94f47deff46b9837b2bfae542973b",
       "version_major": 2,
       "version_minor": 0
      },
      "text/plain": [
       "Validation: |          | 0/? [00:00<?, ?it/s]"
      ]
     },
     "metadata": {},
     "output_type": "display_data"
    },
    {
     "data": {
      "application/vnd.jupyter.widget-view+json": {
       "model_id": "5faf4bc31d8947a69835aa9f7edf8385",
       "version_major": 2,
       "version_minor": 0
      },
      "text/plain": [
       "Validation: |          | 0/? [00:00<?, ?it/s]"
      ]
     },
     "metadata": {},
     "output_type": "display_data"
    },
    {
     "data": {
      "application/vnd.jupyter.widget-view+json": {
       "model_id": "4f4c8922f7d847cd819d62c68ed11145",
       "version_major": 2,
       "version_minor": 0
      },
      "text/plain": [
       "Validation: |          | 0/? [00:00<?, ?it/s]"
      ]
     },
     "metadata": {},
     "output_type": "display_data"
    },
    {
     "data": {
      "application/vnd.jupyter.widget-view+json": {
       "model_id": "854bad5d33f54e6087866028c99d0acc",
       "version_major": 2,
       "version_minor": 0
      },
      "text/plain": [
       "Validation: |          | 0/? [00:00<?, ?it/s]"
      ]
     },
     "metadata": {},
     "output_type": "display_data"
    },
    {
     "data": {
      "application/vnd.jupyter.widget-view+json": {
       "model_id": "a97b0c7c24a44bb18e3cc00f570bdc8c",
       "version_major": 2,
       "version_minor": 0
      },
      "text/plain": [
       "Validation: |          | 0/? [00:00<?, ?it/s]"
      ]
     },
     "metadata": {},
     "output_type": "display_data"
    },
    {
     "data": {
      "application/vnd.jupyter.widget-view+json": {
       "model_id": "24d579df75e74ce0beb36e7e01476c60",
       "version_major": 2,
       "version_minor": 0
      },
      "text/plain": [
       "Validation: |          | 0/? [00:00<?, ?it/s]"
      ]
     },
     "metadata": {},
     "output_type": "display_data"
    },
    {
     "data": {
      "application/vnd.jupyter.widget-view+json": {
       "model_id": "84951984c1684c51b2f36983e5d43186",
       "version_major": 2,
       "version_minor": 0
      },
      "text/plain": [
       "Validation: |          | 0/? [00:00<?, ?it/s]"
      ]
     },
     "metadata": {},
     "output_type": "display_data"
    },
    {
     "data": {
      "application/vnd.jupyter.widget-view+json": {
       "model_id": "e7b662b618ee4f37be0683079dcc8474",
       "version_major": 2,
       "version_minor": 0
      },
      "text/plain": [
       "Validation: |          | 0/? [00:00<?, ?it/s]"
      ]
     },
     "metadata": {},
     "output_type": "display_data"
    },
    {
     "data": {
      "application/vnd.jupyter.widget-view+json": {
       "model_id": "0cef75e7aa584892a6f468bab4fb0c30",
       "version_major": 2,
       "version_minor": 0
      },
      "text/plain": [
       "Validation: |          | 0/? [00:00<?, ?it/s]"
      ]
     },
     "metadata": {},
     "output_type": "display_data"
    },
    {
     "data": {
      "application/vnd.jupyter.widget-view+json": {
       "model_id": "0b096b7bcd6142e1819e5b9c3e77a5c5",
       "version_major": 2,
       "version_minor": 0
      },
      "text/plain": [
       "Validation: |          | 0/? [00:00<?, ?it/s]"
      ]
     },
     "metadata": {},
     "output_type": "display_data"
    },
    {
     "data": {
      "application/vnd.jupyter.widget-view+json": {
       "model_id": "4426a7024b0843ee8f9fbc78f9176be4",
       "version_major": 2,
       "version_minor": 0
      },
      "text/plain": [
       "Validation: |          | 0/? [00:00<?, ?it/s]"
      ]
     },
     "metadata": {},
     "output_type": "display_data"
    },
    {
     "data": {
      "application/vnd.jupyter.widget-view+json": {
       "model_id": "b989350c28b84fcfb6c1f6681076ecb2",
       "version_major": 2,
       "version_minor": 0
      },
      "text/plain": [
       "Validation: |          | 0/? [00:00<?, ?it/s]"
      ]
     },
     "metadata": {},
     "output_type": "display_data"
    },
    {
     "data": {
      "application/vnd.jupyter.widget-view+json": {
       "model_id": "665995e2bfc04e18ba59ea3f21602ca1",
       "version_major": 2,
       "version_minor": 0
      },
      "text/plain": [
       "Validation: |          | 0/? [00:00<?, ?it/s]"
      ]
     },
     "metadata": {},
     "output_type": "display_data"
    },
    {
     "data": {
      "application/vnd.jupyter.widget-view+json": {
       "model_id": "8d63611641aa4d53bdab8c7b0563dcc4",
       "version_major": 2,
       "version_minor": 0
      },
      "text/plain": [
       "Validation: |          | 0/? [00:00<?, ?it/s]"
      ]
     },
     "metadata": {},
     "output_type": "display_data"
    },
    {
     "data": {
      "application/vnd.jupyter.widget-view+json": {
       "model_id": "3926909bea764c5693f575584071a27f",
       "version_major": 2,
       "version_minor": 0
      },
      "text/plain": [
       "Validation: |          | 0/? [00:00<?, ?it/s]"
      ]
     },
     "metadata": {},
     "output_type": "display_data"
    },
    {
     "data": {
      "application/vnd.jupyter.widget-view+json": {
       "model_id": "29c14c2b55ae47cab1a53cb45b64ab3e",
       "version_major": 2,
       "version_minor": 0
      },
      "text/plain": [
       "Validation: |          | 0/? [00:00<?, ?it/s]"
      ]
     },
     "metadata": {},
     "output_type": "display_data"
    },
    {
     "data": {
      "application/vnd.jupyter.widget-view+json": {
       "model_id": "b93005e7f7424e6aa1fa4ea5e65cab38",
       "version_major": 2,
       "version_minor": 0
      },
      "text/plain": [
       "Validation: |          | 0/? [00:00<?, ?it/s]"
      ]
     },
     "metadata": {},
     "output_type": "display_data"
    },
    {
     "data": {
      "application/vnd.jupyter.widget-view+json": {
       "model_id": "6367be6155364df8a25a619b9e207faa",
       "version_major": 2,
       "version_minor": 0
      },
      "text/plain": [
       "Validation: |          | 0/? [00:00<?, ?it/s]"
      ]
     },
     "metadata": {},
     "output_type": "display_data"
    },
    {
     "data": {
      "application/vnd.jupyter.widget-view+json": {
       "model_id": "0d7d52a4a1b246af9358a3b13c0a6e6b",
       "version_major": 2,
       "version_minor": 0
      },
      "text/plain": [
       "Validation: |          | 0/? [00:00<?, ?it/s]"
      ]
     },
     "metadata": {},
     "output_type": "display_data"
    },
    {
     "data": {
      "application/vnd.jupyter.widget-view+json": {
       "model_id": "cb46e8cff0e34e56b17958e2e47555b5",
       "version_major": 2,
       "version_minor": 0
      },
      "text/plain": [
       "Validation: |          | 0/? [00:00<?, ?it/s]"
      ]
     },
     "metadata": {},
     "output_type": "display_data"
    },
    {
     "data": {
      "application/vnd.jupyter.widget-view+json": {
       "model_id": "e34234a7b71b4bdb962b169bce2c4ec9",
       "version_major": 2,
       "version_minor": 0
      },
      "text/plain": [
       "Validation: |          | 0/? [00:00<?, ?it/s]"
      ]
     },
     "metadata": {},
     "output_type": "display_data"
    },
    {
     "data": {
      "application/vnd.jupyter.widget-view+json": {
       "model_id": "f4218a6b3b00465f9fdae0876013738b",
       "version_major": 2,
       "version_minor": 0
      },
      "text/plain": [
       "Validation: |          | 0/? [00:00<?, ?it/s]"
      ]
     },
     "metadata": {},
     "output_type": "display_data"
    },
    {
     "data": {
      "application/vnd.jupyter.widget-view+json": {
       "model_id": "1aca9dd6779a4b89ba5abfce7923213b",
       "version_major": 2,
       "version_minor": 0
      },
      "text/plain": [
       "Validation: |          | 0/? [00:00<?, ?it/s]"
      ]
     },
     "metadata": {},
     "output_type": "display_data"
    },
    {
     "data": {
      "application/vnd.jupyter.widget-view+json": {
       "model_id": "f5627d17dcd040e181cde279a1a6112e",
       "version_major": 2,
       "version_minor": 0
      },
      "text/plain": [
       "Validation: |          | 0/? [00:00<?, ?it/s]"
      ]
     },
     "metadata": {},
     "output_type": "display_data"
    },
    {
     "data": {
      "application/vnd.jupyter.widget-view+json": {
       "model_id": "665051ea87e44a10869780fcd2b61f12",
       "version_major": 2,
       "version_minor": 0
      },
      "text/plain": [
       "Validation: |          | 0/? [00:00<?, ?it/s]"
      ]
     },
     "metadata": {},
     "output_type": "display_data"
    },
    {
     "data": {
      "application/vnd.jupyter.widget-view+json": {
       "model_id": "703205e4cc9a49f58e01e9428fb1774e",
       "version_major": 2,
       "version_minor": 0
      },
      "text/plain": [
       "Validation: |          | 0/? [00:00<?, ?it/s]"
      ]
     },
     "metadata": {},
     "output_type": "display_data"
    },
    {
     "data": {
      "application/vnd.jupyter.widget-view+json": {
       "model_id": "33cb0ed5a3ef440a8970d63e9019b5a1",
       "version_major": 2,
       "version_minor": 0
      },
      "text/plain": [
       "Validation: |          | 0/? [00:00<?, ?it/s]"
      ]
     },
     "metadata": {},
     "output_type": "display_data"
    },
    {
     "data": {
      "application/vnd.jupyter.widget-view+json": {
       "model_id": "c6dd5879d25e4d208bad2fc371402114",
       "version_major": 2,
       "version_minor": 0
      },
      "text/plain": [
       "Validation: |          | 0/? [00:00<?, ?it/s]"
      ]
     },
     "metadata": {},
     "output_type": "display_data"
    },
    {
     "data": {
      "application/vnd.jupyter.widget-view+json": {
       "model_id": "5f819b9a68d243b9a6e31b9ada21372e",
       "version_major": 2,
       "version_minor": 0
      },
      "text/plain": [
       "Validation: |          | 0/? [00:00<?, ?it/s]"
      ]
     },
     "metadata": {},
     "output_type": "display_data"
    },
    {
     "data": {
      "application/vnd.jupyter.widget-view+json": {
       "model_id": "99283bb5c8d444f0bfb940cbe3a93156",
       "version_major": 2,
       "version_minor": 0
      },
      "text/plain": [
       "Validation: |          | 0/? [00:00<?, ?it/s]"
      ]
     },
     "metadata": {},
     "output_type": "display_data"
    },
    {
     "data": {
      "application/vnd.jupyter.widget-view+json": {
       "model_id": "e0c4fb84b8b64674a1af7687b77a07b9",
       "version_major": 2,
       "version_minor": 0
      },
      "text/plain": [
       "Validation: |          | 0/? [00:00<?, ?it/s]"
      ]
     },
     "metadata": {},
     "output_type": "display_data"
    },
    {
     "data": {
      "application/vnd.jupyter.widget-view+json": {
       "model_id": "28ae83a992e341cca220c21511f03a02",
       "version_major": 2,
       "version_minor": 0
      },
      "text/plain": [
       "Validation: |          | 0/? [00:00<?, ?it/s]"
      ]
     },
     "metadata": {},
     "output_type": "display_data"
    },
    {
     "data": {
      "application/vnd.jupyter.widget-view+json": {
       "model_id": "165a03e3c9544ee49842bc980fbe8521",
       "version_major": 2,
       "version_minor": 0
      },
      "text/plain": [
       "Validation: |          | 0/? [00:00<?, ?it/s]"
      ]
     },
     "metadata": {},
     "output_type": "display_data"
    },
    {
     "data": {
      "application/vnd.jupyter.widget-view+json": {
       "model_id": "e86d0c0c2ee841588f5c30e748aeb729",
       "version_major": 2,
       "version_minor": 0
      },
      "text/plain": [
       "Validation: |          | 0/? [00:00<?, ?it/s]"
      ]
     },
     "metadata": {},
     "output_type": "display_data"
    },
    {
     "data": {
      "application/vnd.jupyter.widget-view+json": {
       "model_id": "bba189b5a69a4714ba6b4df0a09e2528",
       "version_major": 2,
       "version_minor": 0
      },
      "text/plain": [
       "Validation: |          | 0/? [00:00<?, ?it/s]"
      ]
     },
     "metadata": {},
     "output_type": "display_data"
    },
    {
     "data": {
      "application/vnd.jupyter.widget-view+json": {
       "model_id": "2627fbc84c184f6d914a929d3fac6436",
       "version_major": 2,
       "version_minor": 0
      },
      "text/plain": [
       "Validation: |          | 0/? [00:00<?, ?it/s]"
      ]
     },
     "metadata": {},
     "output_type": "display_data"
    },
    {
     "data": {
      "application/vnd.jupyter.widget-view+json": {
       "model_id": "1b52781436874581975b97bd232ff894",
       "version_major": 2,
       "version_minor": 0
      },
      "text/plain": [
       "Validation: |          | 0/? [00:00<?, ?it/s]"
      ]
     },
     "metadata": {},
     "output_type": "display_data"
    },
    {
     "data": {
      "application/vnd.jupyter.widget-view+json": {
       "model_id": "d50c7dc9daa54ec8a0af9a7127a8f579",
       "version_major": 2,
       "version_minor": 0
      },
      "text/plain": [
       "Validation: |          | 0/? [00:00<?, ?it/s]"
      ]
     },
     "metadata": {},
     "output_type": "display_data"
    },
    {
     "data": {
      "application/vnd.jupyter.widget-view+json": {
       "model_id": "e69b29ef5c2e44a180841312c08e4bdf",
       "version_major": 2,
       "version_minor": 0
      },
      "text/plain": [
       "Validation: |          | 0/? [00:00<?, ?it/s]"
      ]
     },
     "metadata": {},
     "output_type": "display_data"
    },
    {
     "data": {
      "application/vnd.jupyter.widget-view+json": {
       "model_id": "eb36c1e0a9c54a949b28bf8a967f2f7d",
       "version_major": 2,
       "version_minor": 0
      },
      "text/plain": [
       "Validation: |          | 0/? [00:00<?, ?it/s]"
      ]
     },
     "metadata": {},
     "output_type": "display_data"
    },
    {
     "data": {
      "application/vnd.jupyter.widget-view+json": {
       "model_id": "140d48a17e2540b39ed4d1d22c2dd3a8",
       "version_major": 2,
       "version_minor": 0
      },
      "text/plain": [
       "Validation: |          | 0/? [00:00<?, ?it/s]"
      ]
     },
     "metadata": {},
     "output_type": "display_data"
    },
    {
     "data": {
      "application/vnd.jupyter.widget-view+json": {
       "model_id": "f896eaddfbf94ad0925fc8139667b7f7",
       "version_major": 2,
       "version_minor": 0
      },
      "text/plain": [
       "Validation: |          | 0/? [00:00<?, ?it/s]"
      ]
     },
     "metadata": {},
     "output_type": "display_data"
    },
    {
     "data": {
      "application/vnd.jupyter.widget-view+json": {
       "model_id": "a5fd5a37fc584349abbbf825d9977b9b",
       "version_major": 2,
       "version_minor": 0
      },
      "text/plain": [
       "Validation: |          | 0/? [00:00<?, ?it/s]"
      ]
     },
     "metadata": {},
     "output_type": "display_data"
    },
    {
     "data": {
      "application/vnd.jupyter.widget-view+json": {
       "model_id": "4f931dc23839458988b30e935b764d5c",
       "version_major": 2,
       "version_minor": 0
      },
      "text/plain": [
       "Validation: |          | 0/? [00:00<?, ?it/s]"
      ]
     },
     "metadata": {},
     "output_type": "display_data"
    },
    {
     "data": {
      "application/vnd.jupyter.widget-view+json": {
       "model_id": "0b089c6e5a4b486f940c9f54c84310e2",
       "version_major": 2,
       "version_minor": 0
      },
      "text/plain": [
       "Validation: |          | 0/? [00:00<?, ?it/s]"
      ]
     },
     "metadata": {},
     "output_type": "display_data"
    },
    {
     "data": {
      "application/vnd.jupyter.widget-view+json": {
       "model_id": "fd59b684181f49158c16e90af14764f6",
       "version_major": 2,
       "version_minor": 0
      },
      "text/plain": [
       "Validation: |          | 0/? [00:00<?, ?it/s]"
      ]
     },
     "metadata": {},
     "output_type": "display_data"
    },
    {
     "data": {
      "application/vnd.jupyter.widget-view+json": {
       "model_id": "b8d245d4f54240c9a3ab6b65d2a57a42",
       "version_major": 2,
       "version_minor": 0
      },
      "text/plain": [
       "Validation: |          | 0/? [00:00<?, ?it/s]"
      ]
     },
     "metadata": {},
     "output_type": "display_data"
    },
    {
     "data": {
      "application/vnd.jupyter.widget-view+json": {
       "model_id": "2bad30e4611c4163b53799c6108204a7",
       "version_major": 2,
       "version_minor": 0
      },
      "text/plain": [
       "Validation: |          | 0/? [00:00<?, ?it/s]"
      ]
     },
     "metadata": {},
     "output_type": "display_data"
    },
    {
     "data": {
      "application/vnd.jupyter.widget-view+json": {
       "model_id": "d760b99c827642109fceae05ec12c9af",
       "version_major": 2,
       "version_minor": 0
      },
      "text/plain": [
       "Validation: |          | 0/? [00:00<?, ?it/s]"
      ]
     },
     "metadata": {},
     "output_type": "display_data"
    },
    {
     "data": {
      "application/vnd.jupyter.widget-view+json": {
       "model_id": "dc099521fb6a4181afab2dc6d5a6689f",
       "version_major": 2,
       "version_minor": 0
      },
      "text/plain": [
       "Validation: |          | 0/? [00:00<?, ?it/s]"
      ]
     },
     "metadata": {},
     "output_type": "display_data"
    },
    {
     "data": {
      "application/vnd.jupyter.widget-view+json": {
       "model_id": "6a15073c9db24ed1ae208ef75087aa8a",
       "version_major": 2,
       "version_minor": 0
      },
      "text/plain": [
       "Validation: |          | 0/? [00:00<?, ?it/s]"
      ]
     },
     "metadata": {},
     "output_type": "display_data"
    },
    {
     "data": {
      "application/vnd.jupyter.widget-view+json": {
       "model_id": "d9517c5ed874461cb6686ebb11743655",
       "version_major": 2,
       "version_minor": 0
      },
      "text/plain": [
       "Validation: |          | 0/? [00:00<?, ?it/s]"
      ]
     },
     "metadata": {},
     "output_type": "display_data"
    },
    {
     "data": {
      "application/vnd.jupyter.widget-view+json": {
       "model_id": "2317723cdab2437aa8a991eb8962b908",
       "version_major": 2,
       "version_minor": 0
      },
      "text/plain": [
       "Validation: |          | 0/? [00:00<?, ?it/s]"
      ]
     },
     "metadata": {},
     "output_type": "display_data"
    },
    {
     "data": {
      "application/vnd.jupyter.widget-view+json": {
       "model_id": "55bd803bcae04be69055635fd98ced3b",
       "version_major": 2,
       "version_minor": 0
      },
      "text/plain": [
       "Validation: |          | 0/? [00:00<?, ?it/s]"
      ]
     },
     "metadata": {},
     "output_type": "display_data"
    },
    {
     "data": {
      "application/vnd.jupyter.widget-view+json": {
       "model_id": "64f5ee08a42f4da9ba70d7a3d66ca1cb",
       "version_major": 2,
       "version_minor": 0
      },
      "text/plain": [
       "Validation: |          | 0/? [00:00<?, ?it/s]"
      ]
     },
     "metadata": {},
     "output_type": "display_data"
    },
    {
     "data": {
      "application/vnd.jupyter.widget-view+json": {
       "model_id": "8be1aad74aab408f812bb1bc7dc325db",
       "version_major": 2,
       "version_minor": 0
      },
      "text/plain": [
       "Validation: |          | 0/? [00:00<?, ?it/s]"
      ]
     },
     "metadata": {},
     "output_type": "display_data"
    },
    {
     "data": {
      "application/vnd.jupyter.widget-view+json": {
       "model_id": "0f709bb585814490af417d4e65e7d029",
       "version_major": 2,
       "version_minor": 0
      },
      "text/plain": [
       "Validation: |          | 0/? [00:00<?, ?it/s]"
      ]
     },
     "metadata": {},
     "output_type": "display_data"
    },
    {
     "data": {
      "application/vnd.jupyter.widget-view+json": {
       "model_id": "189688e9f47c4db1940631f07fedd372",
       "version_major": 2,
       "version_minor": 0
      },
      "text/plain": [
       "Validation: |          | 0/? [00:00<?, ?it/s]"
      ]
     },
     "metadata": {},
     "output_type": "display_data"
    },
    {
     "data": {
      "application/vnd.jupyter.widget-view+json": {
       "model_id": "a72b4fff431d4e2eb84134e680a25577",
       "version_major": 2,
       "version_minor": 0
      },
      "text/plain": [
       "Validation: |          | 0/? [00:00<?, ?it/s]"
      ]
     },
     "metadata": {},
     "output_type": "display_data"
    },
    {
     "data": {
      "application/vnd.jupyter.widget-view+json": {
       "model_id": "ef3dc6658cfe4fdc844e50bf9194e253",
       "version_major": 2,
       "version_minor": 0
      },
      "text/plain": [
       "Validation: |          | 0/? [00:00<?, ?it/s]"
      ]
     },
     "metadata": {},
     "output_type": "display_data"
    },
    {
     "data": {
      "application/vnd.jupyter.widget-view+json": {
       "model_id": "0ed67dab5ed244bc81f0c8c469e4afa0",
       "version_major": 2,
       "version_minor": 0
      },
      "text/plain": [
       "Validation: |          | 0/? [00:00<?, ?it/s]"
      ]
     },
     "metadata": {},
     "output_type": "display_data"
    },
    {
     "data": {
      "application/vnd.jupyter.widget-view+json": {
       "model_id": "c8c18976c9844f58b7277dacc638e2af",
       "version_major": 2,
       "version_minor": 0
      },
      "text/plain": [
       "Validation: |          | 0/? [00:00<?, ?it/s]"
      ]
     },
     "metadata": {},
     "output_type": "display_data"
    },
    {
     "data": {
      "application/vnd.jupyter.widget-view+json": {
       "model_id": "84c88e6a4ee146c0802a8b6a08bbc8c3",
       "version_major": 2,
       "version_minor": 0
      },
      "text/plain": [
       "Validation: |          | 0/? [00:00<?, ?it/s]"
      ]
     },
     "metadata": {},
     "output_type": "display_data"
    },
    {
     "data": {
      "application/vnd.jupyter.widget-view+json": {
       "model_id": "3066d3acc0894882966749453baf5254",
       "version_major": 2,
       "version_minor": 0
      },
      "text/plain": [
       "Validation: |          | 0/? [00:00<?, ?it/s]"
      ]
     },
     "metadata": {},
     "output_type": "display_data"
    },
    {
     "data": {
      "application/vnd.jupyter.widget-view+json": {
       "model_id": "28ccb1c4a4e74ceb9478fa6641cbf77a",
       "version_major": 2,
       "version_minor": 0
      },
      "text/plain": [
       "Validation: |          | 0/? [00:00<?, ?it/s]"
      ]
     },
     "metadata": {},
     "output_type": "display_data"
    },
    {
     "data": {
      "application/vnd.jupyter.widget-view+json": {
       "model_id": "36ae05d0690845e2b1f079770b16821a",
       "version_major": 2,
       "version_minor": 0
      },
      "text/plain": [
       "Validation: |          | 0/? [00:00<?, ?it/s]"
      ]
     },
     "metadata": {},
     "output_type": "display_data"
    },
    {
     "data": {
      "application/vnd.jupyter.widget-view+json": {
       "model_id": "45db52d90f034993bf8c030c6cb70387",
       "version_major": 2,
       "version_minor": 0
      },
      "text/plain": [
       "Validation: |          | 0/? [00:00<?, ?it/s]"
      ]
     },
     "metadata": {},
     "output_type": "display_data"
    },
    {
     "data": {
      "application/vnd.jupyter.widget-view+json": {
       "model_id": "d4933841736d43a7883b0a7a7397c6ff",
       "version_major": 2,
       "version_minor": 0
      },
      "text/plain": [
       "Validation: |          | 0/? [00:00<?, ?it/s]"
      ]
     },
     "metadata": {},
     "output_type": "display_data"
    },
    {
     "data": {
      "application/vnd.jupyter.widget-view+json": {
       "model_id": "f0b836ee801644be823a6d9b165f1758",
       "version_major": 2,
       "version_minor": 0
      },
      "text/plain": [
       "Validation: |          | 0/? [00:00<?, ?it/s]"
      ]
     },
     "metadata": {},
     "output_type": "display_data"
    },
    {
     "data": {
      "application/vnd.jupyter.widget-view+json": {
       "model_id": "7d054381c9a5401db98ffe6ce8f8a2bc",
       "version_major": 2,
       "version_minor": 0
      },
      "text/plain": [
       "Validation: |          | 0/? [00:00<?, ?it/s]"
      ]
     },
     "metadata": {},
     "output_type": "display_data"
    },
    {
     "data": {
      "application/vnd.jupyter.widget-view+json": {
       "model_id": "1ff45432b4154b068729bb8b519eada4",
       "version_major": 2,
       "version_minor": 0
      },
      "text/plain": [
       "Validation: |          | 0/? [00:00<?, ?it/s]"
      ]
     },
     "metadata": {},
     "output_type": "display_data"
    },
    {
     "data": {
      "application/vnd.jupyter.widget-view+json": {
       "model_id": "d3eb3a87b151417db795eb1966223cc3",
       "version_major": 2,
       "version_minor": 0
      },
      "text/plain": [
       "Validation: |          | 0/? [00:00<?, ?it/s]"
      ]
     },
     "metadata": {},
     "output_type": "display_data"
    },
    {
     "data": {
      "application/vnd.jupyter.widget-view+json": {
       "model_id": "9002ae6f8e3d491bb0b87fae021a5421",
       "version_major": 2,
       "version_minor": 0
      },
      "text/plain": [
       "Validation: |          | 0/? [00:00<?, ?it/s]"
      ]
     },
     "metadata": {},
     "output_type": "display_data"
    },
    {
     "data": {
      "application/vnd.jupyter.widget-view+json": {
       "model_id": "1cd9f3aaed374bff8d342f18c056c21a",
       "version_major": 2,
       "version_minor": 0
      },
      "text/plain": [
       "Validation: |          | 0/? [00:00<?, ?it/s]"
      ]
     },
     "metadata": {},
     "output_type": "display_data"
    },
    {
     "data": {
      "application/vnd.jupyter.widget-view+json": {
       "model_id": "3ad171e7dfcc44b6a9911181778b949c",
       "version_major": 2,
       "version_minor": 0
      },
      "text/plain": [
       "Validation: |          | 0/? [00:00<?, ?it/s]"
      ]
     },
     "metadata": {},
     "output_type": "display_data"
    },
    {
     "data": {
      "application/vnd.jupyter.widget-view+json": {
       "model_id": "f7f3dcde0a3342bc80d5f7b7e8c0e491",
       "version_major": 2,
       "version_minor": 0
      },
      "text/plain": [
       "Validation: |          | 0/? [00:00<?, ?it/s]"
      ]
     },
     "metadata": {},
     "output_type": "display_data"
    },
    {
     "data": {
      "application/vnd.jupyter.widget-view+json": {
       "model_id": "0b86338f2b7c490089d5d1c679e85ff2",
       "version_major": 2,
       "version_minor": 0
      },
      "text/plain": [
       "Validation: |          | 0/? [00:00<?, ?it/s]"
      ]
     },
     "metadata": {},
     "output_type": "display_data"
    },
    {
     "data": {
      "application/vnd.jupyter.widget-view+json": {
       "model_id": "72f9fc547c0d439aad68e980e288640b",
       "version_major": 2,
       "version_minor": 0
      },
      "text/plain": [
       "Validation: |          | 0/? [00:00<?, ?it/s]"
      ]
     },
     "metadata": {},
     "output_type": "display_data"
    },
    {
     "data": {
      "application/vnd.jupyter.widget-view+json": {
       "model_id": "a265af341b4e4da3bb7984a2214b44d5",
       "version_major": 2,
       "version_minor": 0
      },
      "text/plain": [
       "Validation: |          | 0/? [00:00<?, ?it/s]"
      ]
     },
     "metadata": {},
     "output_type": "display_data"
    },
    {
     "data": {
      "application/vnd.jupyter.widget-view+json": {
       "model_id": "d4cfe48837aa4201871b2c0fa99af82d",
       "version_major": 2,
       "version_minor": 0
      },
      "text/plain": [
       "Validation: |          | 0/? [00:00<?, ?it/s]"
      ]
     },
     "metadata": {},
     "output_type": "display_data"
    },
    {
     "data": {
      "application/vnd.jupyter.widget-view+json": {
       "model_id": "207e3ed929824144b12cff0539891ad7",
       "version_major": 2,
       "version_minor": 0
      },
      "text/plain": [
       "Validation: |          | 0/? [00:00<?, ?it/s]"
      ]
     },
     "metadata": {},
     "output_type": "display_data"
    },
    {
     "data": {
      "application/vnd.jupyter.widget-view+json": {
       "model_id": "712effc69d2640f9be859f9ef9483da7",
       "version_major": 2,
       "version_minor": 0
      },
      "text/plain": [
       "Validation: |          | 0/? [00:00<?, ?it/s]"
      ]
     },
     "metadata": {},
     "output_type": "display_data"
    },
    {
     "data": {
      "application/vnd.jupyter.widget-view+json": {
       "model_id": "671f220d2c2841e2808e10a03562a89b",
       "version_major": 2,
       "version_minor": 0
      },
      "text/plain": [
       "Validation: |          | 0/? [00:00<?, ?it/s]"
      ]
     },
     "metadata": {},
     "output_type": "display_data"
    },
    {
     "data": {
      "application/vnd.jupyter.widget-view+json": {
       "model_id": "2ab3494dd50b4183933242006ab61022",
       "version_major": 2,
       "version_minor": 0
      },
      "text/plain": [
       "Validation: |          | 0/? [00:00<?, ?it/s]"
      ]
     },
     "metadata": {},
     "output_type": "display_data"
    },
    {
     "data": {
      "application/vnd.jupyter.widget-view+json": {
       "model_id": "92d22edfcc7645c080188e25ed11e263",
       "version_major": 2,
       "version_minor": 0
      },
      "text/plain": [
       "Validation: |          | 0/? [00:00<?, ?it/s]"
      ]
     },
     "metadata": {},
     "output_type": "display_data"
    },
    {
     "data": {
      "application/vnd.jupyter.widget-view+json": {
       "model_id": "0aa795f141eb4122afdf389e88d69fd5",
       "version_major": 2,
       "version_minor": 0
      },
      "text/plain": [
       "Validation: |          | 0/? [00:00<?, ?it/s]"
      ]
     },
     "metadata": {},
     "output_type": "display_data"
    },
    {
     "data": {
      "application/vnd.jupyter.widget-view+json": {
       "model_id": "ba0cd59da2544544bb5b3c0df728f5f7",
       "version_major": 2,
       "version_minor": 0
      },
      "text/plain": [
       "Validation: |          | 0/? [00:00<?, ?it/s]"
      ]
     },
     "metadata": {},
     "output_type": "display_data"
    },
    {
     "data": {
      "application/vnd.jupyter.widget-view+json": {
       "model_id": "ed96371be3334ccfb0424dfe4aa6e761",
       "version_major": 2,
       "version_minor": 0
      },
      "text/plain": [
       "Validation: |          | 0/? [00:00<?, ?it/s]"
      ]
     },
     "metadata": {},
     "output_type": "display_data"
    },
    {
     "data": {
      "application/vnd.jupyter.widget-view+json": {
       "model_id": "abe8d72fba234909a8205875a5fc5e28",
       "version_major": 2,
       "version_minor": 0
      },
      "text/plain": [
       "Validation: |          | 0/? [00:00<?, ?it/s]"
      ]
     },
     "metadata": {},
     "output_type": "display_data"
    },
    {
     "data": {
      "application/vnd.jupyter.widget-view+json": {
       "model_id": "17224383aaa448ecae4ae51cae6c44f9",
       "version_major": 2,
       "version_minor": 0
      },
      "text/plain": [
       "Validation: |          | 0/? [00:00<?, ?it/s]"
      ]
     },
     "metadata": {},
     "output_type": "display_data"
    },
    {
     "data": {
      "application/vnd.jupyter.widget-view+json": {
       "model_id": "b01de20efa664fc680e9a3267e38ec6c",
       "version_major": 2,
       "version_minor": 0
      },
      "text/plain": [
       "Validation: |          | 0/? [00:00<?, ?it/s]"
      ]
     },
     "metadata": {},
     "output_type": "display_data"
    },
    {
     "data": {
      "application/vnd.jupyter.widget-view+json": {
       "model_id": "e54f0a786eb44e0ea61f9f08869dd777",
       "version_major": 2,
       "version_minor": 0
      },
      "text/plain": [
       "Validation: |          | 0/? [00:00<?, ?it/s]"
      ]
     },
     "metadata": {},
     "output_type": "display_data"
    },
    {
     "data": {
      "application/vnd.jupyter.widget-view+json": {
       "model_id": "ad3d86a5b83d4b85828a97d1ca74790e",
       "version_major": 2,
       "version_minor": 0
      },
      "text/plain": [
       "Validation: |          | 0/? [00:00<?, ?it/s]"
      ]
     },
     "metadata": {},
     "output_type": "display_data"
    },
    {
     "data": {
      "application/vnd.jupyter.widget-view+json": {
       "model_id": "5c6527ef41bc477d9c8d47d46e69d660",
       "version_major": 2,
       "version_minor": 0
      },
      "text/plain": [
       "Validation: |          | 0/? [00:00<?, ?it/s]"
      ]
     },
     "metadata": {},
     "output_type": "display_data"
    },
    {
     "data": {
      "application/vnd.jupyter.widget-view+json": {
       "model_id": "d1d6df5e41ae4b0fb8dcebe979dd2dc9",
       "version_major": 2,
       "version_minor": 0
      },
      "text/plain": [
       "Validation: |          | 0/? [00:00<?, ?it/s]"
      ]
     },
     "metadata": {},
     "output_type": "display_data"
    },
    {
     "data": {
      "application/vnd.jupyter.widget-view+json": {
       "model_id": "2075a6f8f94641c1ac600059ebc721fe",
       "version_major": 2,
       "version_minor": 0
      },
      "text/plain": [
       "Validation: |          | 0/? [00:00<?, ?it/s]"
      ]
     },
     "metadata": {},
     "output_type": "display_data"
    },
    {
     "data": {
      "application/vnd.jupyter.widget-view+json": {
       "model_id": "b3ec060c1c7e493e8e6ced9c6cfb7565",
       "version_major": 2,
       "version_minor": 0
      },
      "text/plain": [
       "Validation: |          | 0/? [00:00<?, ?it/s]"
      ]
     },
     "metadata": {},
     "output_type": "display_data"
    },
    {
     "data": {
      "application/vnd.jupyter.widget-view+json": {
       "model_id": "381ece8ffe7748248102c5e3cda369c2",
       "version_major": 2,
       "version_minor": 0
      },
      "text/plain": [
       "Validation: |          | 0/? [00:00<?, ?it/s]"
      ]
     },
     "metadata": {},
     "output_type": "display_data"
    },
    {
     "data": {
      "application/vnd.jupyter.widget-view+json": {
       "model_id": "94f40c24c7434ab6b20d567ffa8fabb1",
       "version_major": 2,
       "version_minor": 0
      },
      "text/plain": [
       "Validation: |          | 0/? [00:00<?, ?it/s]"
      ]
     },
     "metadata": {},
     "output_type": "display_data"
    },
    {
     "data": {
      "application/vnd.jupyter.widget-view+json": {
       "model_id": "3629bb5f473f45cc906c041b25df62a1",
       "version_major": 2,
       "version_minor": 0
      },
      "text/plain": [
       "Validation: |          | 0/? [00:00<?, ?it/s]"
      ]
     },
     "metadata": {},
     "output_type": "display_data"
    },
    {
     "data": {
      "application/vnd.jupyter.widget-view+json": {
       "model_id": "c892b743b915430dbc09610c36ab58d6",
       "version_major": 2,
       "version_minor": 0
      },
      "text/plain": [
       "Validation: |          | 0/? [00:00<?, ?it/s]"
      ]
     },
     "metadata": {},
     "output_type": "display_data"
    },
    {
     "data": {
      "application/vnd.jupyter.widget-view+json": {
       "model_id": "3f84901c938448c9b754f43511938668",
       "version_major": 2,
       "version_minor": 0
      },
      "text/plain": [
       "Validation: |          | 0/? [00:00<?, ?it/s]"
      ]
     },
     "metadata": {},
     "output_type": "display_data"
    },
    {
     "data": {
      "application/vnd.jupyter.widget-view+json": {
       "model_id": "8652123ea0c04ca5ad026cdaa8b3c0cd",
       "version_major": 2,
       "version_minor": 0
      },
      "text/plain": [
       "Validation: |          | 0/? [00:00<?, ?it/s]"
      ]
     },
     "metadata": {},
     "output_type": "display_data"
    },
    {
     "data": {
      "application/vnd.jupyter.widget-view+json": {
       "model_id": "8d653d103a974157bfe6015a1ce5cb78",
       "version_major": 2,
       "version_minor": 0
      },
      "text/plain": [
       "Validation: |          | 0/? [00:00<?, ?it/s]"
      ]
     },
     "metadata": {},
     "output_type": "display_data"
    },
    {
     "data": {
      "application/vnd.jupyter.widget-view+json": {
       "model_id": "b4e59804669049109bf47c1399ee61a4",
       "version_major": 2,
       "version_minor": 0
      },
      "text/plain": [
       "Validation: |          | 0/? [00:00<?, ?it/s]"
      ]
     },
     "metadata": {},
     "output_type": "display_data"
    },
    {
     "data": {
      "application/vnd.jupyter.widget-view+json": {
       "model_id": "95e41182a62944828089b83ae69ef4ed",
       "version_major": 2,
       "version_minor": 0
      },
      "text/plain": [
       "Validation: |          | 0/? [00:00<?, ?it/s]"
      ]
     },
     "metadata": {},
     "output_type": "display_data"
    },
    {
     "data": {
      "application/vnd.jupyter.widget-view+json": {
       "model_id": "7ceca32fb48a49b7b24aefd702089145",
       "version_major": 2,
       "version_minor": 0
      },
      "text/plain": [
       "Validation: |          | 0/? [00:00<?, ?it/s]"
      ]
     },
     "metadata": {},
     "output_type": "display_data"
    },
    {
     "data": {
      "application/vnd.jupyter.widget-view+json": {
       "model_id": "7c2a2427db564b449414e085b5382883",
       "version_major": 2,
       "version_minor": 0
      },
      "text/plain": [
       "Validation: |          | 0/? [00:00<?, ?it/s]"
      ]
     },
     "metadata": {},
     "output_type": "display_data"
    },
    {
     "data": {
      "application/vnd.jupyter.widget-view+json": {
       "model_id": "2fc593fe5f0a4761b4a6b87f739e757b",
       "version_major": 2,
       "version_minor": 0
      },
      "text/plain": [
       "Validation: |          | 0/? [00:00<?, ?it/s]"
      ]
     },
     "metadata": {},
     "output_type": "display_data"
    },
    {
     "data": {
      "text/plain": [
       "TFTModel(output_chunk_shift=0, hidden_size=4, lstm_layers=1, num_attention_heads=4, full_attention=False, feed_forward=GatedResidualNetwork, dropout=0.1, hidden_continuous_size=8, categorical_embedding_sizes=None, add_relative_index=True, loss_fn=MSELoss(), likelihood=None, norm_type=LayerNorm, use_static_covariates=False, input_chunk_length=12, output_chunk_length=12, batch_size=256, torch_metrics=MeanSquaredError(), save_checkpoints=True, random_state=42, pl_trainer_kwargs={'accelerator': 'gpu', 'devices': -1, 'callbacks': [<pytorch_lightning.callbacks.early_stopping.EarlyStopping object at 0x000001A935047A70>, <pytorch_lightning.callbacks.model_checkpoint.ModelCheckpoint object at 0x000001A9350473E0>]})"
      ]
     },
     "execution_count": 20,
     "metadata": {},
     "output_type": "execute_result"
    }
   ],
   "source": [
    "model = TFTModel(input_chunk_length=INPUT_SIZE,output_chunk_length=HORIZON,hidden_size=HIDDEN_SIZE,\n",
    "                 batch_size=256, use_static_covariates=False, add_relative_index=True, likelihood=None, loss_fn = MSELoss(),\n",
    "                 torch_metrics=valid_metric, save_checkpoints=True, random_state=42, \n",
    "                 ,pl_trainer_kwargs={\n",
    "                                    \"accelerator\":\"gpu\",\n",
    "                                    \"devices\": -1,\n",
    "                                    \"callbacks\": [early_stopper, model_checkpoint]\n",
    "                                    })\n",
    "\n",
    "model.fit(y_train,past_covariates=X_train_past,future_covariates=X_train_future,val_series=y_valid, val_past_covariates=X_valid_past,val_future_covariates=X_valid_future, epochs=10000)#,past_covariates=X_train,future_covariates=X_train_future,"
   ]
  },
  {
   "cell_type": "code",
   "execution_count": 36,
   "metadata": {},
   "outputs": [],
   "source": [
    "import torch\n",
    "torch.save(torch.load(model_checkpoint.best_model_path, weights_only=False)[\"state_dict\"],'sate_dict.pt')"
   ]
  },
  {
   "cell_type": "code",
   "execution_count": 52,
   "metadata": {},
   "outputs": [
    {
     "name": "stderr",
     "output_type": "stream",
     "text": [
      "2025-03-31 15:54:09,540 - WARNING - Model was loaded without weights since no PyTorch LightningModule checkpoint ('.ckpt') could be found at sate_dict.pt.ckpt. Please call `fit()` before calling `predict()`.\n"
     ]
    },
    {
     "data": {
      "text/plain": [
       "OrderedDict([('encoder_vsn.flattened_grn.resample_norm.mask',\n",
       "              tensor([-0.1445, -0.1287,  0.0223,  0.0526,  0.0810, -0.0081,  0.0868,  0.0858,\n",
       "                      -0.0046, -0.1681], device='cuda:0', dtype=torch.float64)),\n",
       "             ('encoder_vsn.flattened_grn.resample_norm.norm.weight',\n",
       "              tensor([1.0265, 0.9073, 1.0262, 1.0137, 1.0172, 0.9765, 1.1089, 0.9725, 0.9751,\n",
       "                      0.9891], device='cuda:0', dtype=torch.float64)),\n",
       "             ('encoder_vsn.flattened_grn.resample_norm.norm.bias',\n",
       "              tensor([ 0.0294, -0.0935, -0.0263,  0.0112,  0.0131, -0.0333,  0.0903, -0.0278,\n",
       "                      -0.0250, -0.0086], device='cuda:0', dtype=torch.float64)),\n",
       "             ('encoder_vsn.flattened_grn.fc1.weight',\n",
       "              tensor([[-0.1193,  0.2489, -0.0962, -0.0032,  0.1459,  0.0022,  0.3800,  0.1196,\n",
       "                       -0.2267, -0.0051,  0.1632, -0.0320, -0.0422,  0.0763, -0.0788,  0.1249,\n",
       "                       -0.0510, -0.0295, -0.1467, -0.2007,  0.0565, -0.1394, -0.0476, -0.1761,\n",
       "                        0.0845, -0.0114, -0.1275,  0.1072,  0.2834,  0.2518, -0.2134,  0.1316,\n",
       "                        0.0490,  0.0586, -0.0229, -0.0105, -0.1699, -0.0512, -0.1787, -0.0496,\n",
       "                       -0.0728,  0.2088, -0.2418, -0.1471,  0.0917, -0.2298, -0.0353, -0.0333,\n",
       "                       -0.0168,  0.0270, -0.0381, -0.0092, -0.2755,  0.1974,  0.1531,  0.2806,\n",
       "                       -0.0542, -0.1729,  0.0104,  0.1640,  0.1733, -0.1640, -0.0029, -0.0090,\n",
       "                       -0.3399, -0.1289,  0.2261, -0.0956, -0.1925,  0.2391,  0.0607,  0.1087,\n",
       "                       -0.3304,  0.1962, -0.1594,  0.0219,  0.0332,  0.1520,  0.1773, -0.0708],\n",
       "                      [ 0.0429, -0.1694,  0.1198,  0.0107, -0.0190,  0.0115, -0.1024,  0.2244,\n",
       "                       -0.1882, -0.2181, -0.1511, -0.0719,  0.0239, -0.0707, -0.0589,  0.1813,\n",
       "                       -0.0820, -0.0934,  0.1854, -0.3619, -0.0521, -0.0386,  0.1868, -0.0638,\n",
       "                       -0.0589, -0.1765, -0.0131, -0.1810, -0.2085,  0.0177,  0.1926,  0.0401,\n",
       "                       -0.0352, -0.2578,  0.0911, -0.2516,  0.1630,  0.0662,  0.0061, -0.1607,\n",
       "                       -0.0442,  0.0314, -0.0432, -0.2381, -0.2889, -0.0667, -0.0971,  0.0569,\n",
       "                        0.0991, -0.0117,  0.1771,  0.2528,  0.0262,  0.0942, -0.1990,  0.1369,\n",
       "                       -0.0385, -0.1290,  0.1398,  0.1681, -0.1194, -0.0920, -0.2097,  0.0636,\n",
       "                       -0.0784,  0.0838,  0.1229, -0.0478,  0.0546, -0.0046, -0.2741, -0.0817,\n",
       "                       -0.2385, -0.3071,  0.1284,  0.3132,  0.0076,  0.0228,  0.1120,  0.0334],\n",
       "                      [ 0.0388,  0.1267, -0.1244,  0.0051, -0.0936, -0.3144,  0.0212,  0.1176,\n",
       "                       -0.4415,  0.1414, -0.0155, -0.1020, -0.0009, -0.3356, -0.0885, -0.1482,\n",
       "                        0.1689,  0.0519,  0.0275, -0.0426,  0.2843,  0.1947, -0.0507, -0.1061,\n",
       "                       -0.0311, -0.0440, -0.1102, -0.3459,  0.2598,  0.2744, -0.2179,  0.0866,\n",
       "                        0.1250, -0.0750,  0.0459,  0.0482, -0.1323, -0.0155, -0.0575, -0.1878,\n",
       "                       -0.1958, -0.0521,  0.1915,  0.2264,  0.0177, -0.1332,  0.0079,  0.0988,\n",
       "                       -0.1328, -0.0054,  0.1180, -0.1507,  0.1844, -0.0739, -0.0132, -0.2268,\n",
       "                        0.0038, -0.0363, -0.1614,  0.0059,  0.1388, -0.2968,  0.1272,  0.0712,\n",
       "                        0.0011,  0.0468, -0.0635, -0.0770,  0.0906, -0.0581, -0.1842, -0.1479,\n",
       "                       -0.0513,  0.0720, -0.2483,  0.1994, -0.1326,  0.0122,  0.1448, -0.3092],\n",
       "                      [ 0.1019,  0.1405, -0.0161,  0.0870, -0.1063, -0.2325, -0.1053,  0.0977,\n",
       "                        0.4815, -0.0182,  0.0397,  0.2295,  0.0420,  0.0817,  0.0713, -0.2117,\n",
       "                        0.0037, -0.3218,  0.1676, -0.1449, -0.1085,  0.0733, -0.0447, -0.3840,\n",
       "                       -0.1336, -0.1825, -0.1833,  0.0494,  0.2331,  0.1748,  0.1103,  0.1641,\n",
       "                       -0.2070, -0.0030,  0.2541,  0.0927, -0.0337,  0.2272, -0.0650, -0.2914,\n",
       "                       -0.2412, -0.0772,  0.2104, -0.1812,  0.1134, -0.0309, -0.1303, -0.1575,\n",
       "                        0.0646,  0.1990, -0.0527,  0.3101,  0.0259, -0.1526, -0.1102,  0.0723,\n",
       "                        0.1887,  0.0725,  0.1385,  0.1319, -0.1786,  0.1462,  0.0454,  0.2048,\n",
       "                        0.0121,  0.2362,  0.0029, -0.0085, -0.0023, -0.1729, -0.3033,  0.0232,\n",
       "                        0.1457,  0.1438,  0.0289,  0.0470, -0.0134, -0.0575, -0.2242,  0.4471]],\n",
       "                     device='cuda:0', dtype=torch.float64)),\n",
       "             ('encoder_vsn.flattened_grn.fc1.bias',\n",
       "              tensor([-1.7968e-12, -5.8379e-04, -1.2743e-02,  3.3984e-03], device='cuda:0',\n",
       "                     dtype=torch.float64)),\n",
       "             ('encoder_vsn.flattened_grn.context.weight',\n",
       "              tensor([[ 0.8308,  0.7429,  0.1584, -0.5671],\n",
       "                      [ 0.0043, -0.7400,  0.6654, -0.6403],\n",
       "                      [-0.2605,  0.5603, -0.3024,  0.5653],\n",
       "                      [-0.7518,  0.4915, -0.2277,  0.2113]], device='cuda:0',\n",
       "                     dtype=torch.float64)),\n",
       "             ('encoder_vsn.flattened_grn.fc2.weight',\n",
       "              tensor([[ 0.3358, -1.7454, -0.5961,  0.7428],\n",
       "                      [-0.3050, -0.4841,  0.2571, -0.8572],\n",
       "                      [-0.9722,  0.0469,  0.3200,  0.0756],\n",
       "                      [-0.7209,  0.0742, -0.8135, -0.3407]], device='cuda:0',\n",
       "                     dtype=torch.float64)),\n",
       "             ('encoder_vsn.flattened_grn.fc2.bias',\n",
       "              tensor([ 0.0103, -0.0369, -0.0038,  0.0630], device='cuda:0',\n",
       "                     dtype=torch.float64)),\n",
       "             ('encoder_vsn.flattened_grn.gate_norm.glu.fc.weight',\n",
       "              tensor([[-0.2042, -0.0178,  0.1303, -0.1436],\n",
       "                      [-0.0318,  0.0988,  0.1872,  0.3057],\n",
       "                      [ 0.4052,  0.0091, -0.1831, -0.3745],\n",
       "                      [-0.2830, -0.3676, -0.0656, -0.2400],\n",
       "                      [-0.3263,  0.3281,  0.2072,  0.3731],\n",
       "                      [ 0.4414,  0.2983, -0.3575, -0.3723],\n",
       "                      [ 0.4241,  0.2886,  0.6548, -0.0974],\n",
       "                      [ 0.1657, -0.4791,  0.1337,  0.3148],\n",
       "                      [ 0.3354,  0.4848,  0.3961,  0.0418],\n",
       "                      [ 0.3046,  0.1772, -0.0170, -0.1303],\n",
       "                      [ 0.0976, -0.1465,  0.4037, -0.4847],\n",
       "                      [ 0.3904, -0.2162, -0.0516, -0.1621],\n",
       "                      [ 0.1942,  0.1324,  0.2816,  0.2675],\n",
       "                      [-0.4823,  0.1545, -0.0181, -0.3422],\n",
       "                      [ 0.3458,  0.3283,  0.3001, -0.4348],\n",
       "                      [-0.4371, -0.2698,  0.2303, -0.1157],\n",
       "                      [-0.2797,  0.4503, -0.0838,  0.0321],\n",
       "                      [-0.0639,  0.2717,  0.1701,  0.0404],\n",
       "                      [-0.2811,  0.3548,  0.2684, -0.2268],\n",
       "                      [ 0.1210, -0.3527, -0.0370, -0.0391]], device='cuda:0',\n",
       "                     dtype=torch.float64)),\n",
       "             ('encoder_vsn.flattened_grn.gate_norm.glu.fc.bias',\n",
       "              tensor([ 0.0282, -0.0807,  0.0819,  0.0243, -0.1333, -0.0307,  0.2565,  0.1254,\n",
       "                      -0.0315, -0.0079,  0.0452, -0.0946,  0.0732, -0.0326,  0.0728, -0.1085,\n",
       "                       0.3894,  0.0059, -0.1834,  0.0198], device='cuda:0',\n",
       "                     dtype=torch.float64)),\n",
       "             ('encoder_vsn.flattened_grn.gate_norm.add_norm.norm.weight',\n",
       "              tensor([0.9299, 1.0765, 1.1526, 0.9797, 0.9902, 0.9932, 1.1135, 0.9915, 0.9411,\n",
       "                      0.9808], device='cuda:0', dtype=torch.float64)),\n",
       "             ('encoder_vsn.flattened_grn.gate_norm.add_norm.norm.bias',\n",
       "              tensor([ 0.0345, -0.0966,  0.0236, -0.0263, -0.0445, -0.0206,  0.1285,  0.0079,\n",
       "                      -0.0577, -0.0160], device='cuda:0', dtype=torch.float64)),\n",
       "             ('encoder_vsn.single_variable_grns.target_0.resample_norm.mask',\n",
       "              tensor([ 0.0479,  0.0504,  0.0177, -0.0457], device='cuda:0',\n",
       "                     dtype=torch.float64)),\n",
       "             ('encoder_vsn.single_variable_grns.target_0.resample_norm.norm.weight',\n",
       "              tensor([0.9930, 1.0289, 1.0068, 0.8667], device='cuda:0', dtype=torch.float64)),\n",
       "             ('encoder_vsn.single_variable_grns.target_0.resample_norm.norm.bias',\n",
       "              tensor([ 0.1375,  0.0068, -0.0236, -0.1389], device='cuda:0',\n",
       "                     dtype=torch.float64)),\n",
       "             ('encoder_vsn.single_variable_grns.target_0.fc1.weight',\n",
       "              tensor([[-0.5702,  0.4047, -1.0213, -0.6605,  0.5588,  0.0424,  0.6041,  0.0518],\n",
       "                      [ 0.3779, -1.2097, -1.3962,  0.2957,  0.3048,  0.5740, -0.7214,  0.2999],\n",
       "                      [ 0.5924,  1.4460,  0.7841,  0.4958,  0.2910, -0.3826,  0.1043,  0.8316],\n",
       "                      [ 0.5317,  0.4737, -0.0232,  0.0283, -0.4755,  0.7197,  0.5446, -0.8813]],\n",
       "                     device='cuda:0', dtype=torch.float64)),\n",
       "             ('encoder_vsn.single_variable_grns.target_0.fc1.bias',\n",
       "              tensor([-0.1363, -0.0953,  0.1271, -0.0689], device='cuda:0',\n",
       "                     dtype=torch.float64)),\n",
       "             ('encoder_vsn.single_variable_grns.target_0.fc2.weight',\n",
       "              tensor([[ 4.2792e-01,  9.6561e-01, -5.6077e-01,  3.2152e-01],\n",
       "                      [ 1.4698e-01,  8.9739e-01, -1.1923e+00, -1.8649e-01],\n",
       "                      [ 8.2600e-01, -1.1076e-01, -5.1135e-04, -3.0244e-01],\n",
       "                      [-1.5430e+00, -9.3517e-01, -2.6228e-01,  2.1942e-01]], device='cuda:0',\n",
       "                     dtype=torch.float64)),\n",
       "             ('encoder_vsn.single_variable_grns.target_0.fc2.bias',\n",
       "              tensor([-0.0561, -0.0256, -0.0333, -0.0501], device='cuda:0',\n",
       "                     dtype=torch.float64)),\n",
       "             ('encoder_vsn.single_variable_grns.target_0.gate_norm.glu.fc.weight',\n",
       "              tensor([[ 0.1129, -0.0463, -0.5031, -0.0515],\n",
       "                      [-1.1590, -0.2370, -0.3812, -0.0666],\n",
       "                      [-0.6095, -1.1475,  0.1025,  0.2293],\n",
       "                      [-0.1293, -0.2392,  0.4632,  0.0963],\n",
       "                      [-0.5086,  0.2455,  0.4768,  0.5744],\n",
       "                      [ 0.6121,  0.2227,  0.3023, -0.5818],\n",
       "                      [ 1.0550,  0.5965,  0.1394, -0.6981],\n",
       "                      [-0.4854,  0.0270, -0.1843,  0.7144]], device='cuda:0',\n",
       "                     dtype=torch.float64)),\n",
       "             ('encoder_vsn.single_variable_grns.target_0.gate_norm.glu.fc.bias',\n",
       "              tensor([ 0.0937,  0.1431, -0.0164, -0.0179, -0.1087,  0.0959, -0.0218, -0.0422],\n",
       "                     device='cuda:0', dtype=torch.float64)),\n",
       "             ('encoder_vsn.single_variable_grns.target_0.gate_norm.add_norm.norm.weight',\n",
       "              tensor([1.1119, 0.9380, 1.0506, 0.7970], device='cuda:0', dtype=torch.float64)),\n",
       "             ('encoder_vsn.single_variable_grns.target_0.gate_norm.add_norm.norm.bias',\n",
       "              tensor([ 0.0660, -0.1495, -0.0423,  0.0032], device='cuda:0',\n",
       "                     dtype=torch.float64)),\n",
       "             ('encoder_vsn.single_variable_grns.past_covariate_0.resample_norm.mask',\n",
       "              tensor([-0.0375, -0.0740,  0.0545, -0.0107], device='cuda:0',\n",
       "                     dtype=torch.float64)),\n",
       "             ('encoder_vsn.single_variable_grns.past_covariate_0.resample_norm.norm.weight',\n",
       "              tensor([0.9888, 0.9271, 1.0323, 1.0183], device='cuda:0', dtype=torch.float64)),\n",
       "             ('encoder_vsn.single_variable_grns.past_covariate_0.resample_norm.norm.bias',\n",
       "              tensor([-0.0111,  0.0737, -0.0318,  0.0120], device='cuda:0',\n",
       "                     dtype=torch.float64)),\n",
       "             ('encoder_vsn.single_variable_grns.past_covariate_0.fc1.weight',\n",
       "              tensor([[-0.5109,  0.4613, -0.0068,  0.2141,  0.5302,  0.0818, -0.6162,  0.1327],\n",
       "                      [-0.6524, -0.4663, -0.4660,  0.3624, -0.2079, -0.3009,  0.1114, -0.3423],\n",
       "                      [ 0.7602,  0.5520,  0.4447,  0.0070,  0.0777,  0.2430, -0.2663, -0.3747],\n",
       "                      [-0.1453,  0.5239,  0.0609, -0.2546, -0.0424,  0.7844,  0.0102,  0.1732]],\n",
       "                     device='cuda:0', dtype=torch.float64)),\n",
       "             ('encoder_vsn.single_variable_grns.past_covariate_0.fc1.bias',\n",
       "              tensor([-3.4113e-02,  4.5008e-03,  7.9646e-03, -5.3866e-48], device='cuda:0',\n",
       "                     dtype=torch.float64)),\n",
       "             ('encoder_vsn.single_variable_grns.past_covariate_0.fc2.weight',\n",
       "              tensor([[ 0.3011,  2.1010,  0.1520,  0.6341],\n",
       "                      [-0.2077,  0.0366,  0.0352,  0.1430],\n",
       "                      [-0.2963, -0.9398, -0.3333, -0.4816],\n",
       "                      [ 0.1191,  0.3520, -0.2231, -0.0982]], device='cuda:0',\n",
       "                     dtype=torch.float64)),\n",
       "             ('encoder_vsn.single_variable_grns.past_covariate_0.fc2.bias',\n",
       "              tensor([-0.0214,  0.0322, -0.0194,  0.0203], device='cuda:0',\n",
       "                     dtype=torch.float64)),\n",
       "             ('encoder_vsn.single_variable_grns.past_covariate_0.gate_norm.glu.fc.weight',\n",
       "              tensor([[ 0.1453,  0.0983,  0.6227, -0.1713],\n",
       "                      [ 0.1681,  0.4840, -0.1191,  0.1824],\n",
       "                      [-0.4520,  0.2038, -0.0922,  0.6743],\n",
       "                      [-0.2388,  0.5206, -0.6838,  0.5022],\n",
       "                      [ 0.5708, -0.6281, -0.7030, -0.1185],\n",
       "                      [-0.4634, -0.0385, -0.3393, -0.0126],\n",
       "                      [ 0.2396,  0.1389,  0.6333, -0.0415],\n",
       "                      [ 0.4348, -0.5134,  0.3467, -0.2363]], device='cuda:0',\n",
       "                     dtype=torch.float64)),\n",
       "             ('encoder_vsn.single_variable_grns.past_covariate_0.gate_norm.glu.fc.bias',\n",
       "              tensor([ 0.0073,  0.0418, -0.0206,  0.0265,  0.0018,  0.0060,  0.0614,  0.0067],\n",
       "                     device='cuda:0', dtype=torch.float64)),\n",
       "             ('encoder_vsn.single_variable_grns.past_covariate_0.gate_norm.add_norm.norm.weight',\n",
       "              tensor([0.9155, 1.0283, 0.8203, 0.9114], device='cuda:0', dtype=torch.float64)),\n",
       "             ('encoder_vsn.single_variable_grns.past_covariate_0.gate_norm.add_norm.norm.bias',\n",
       "              tensor([ 0.0415,  0.0309, -0.0447, -0.0763], device='cuda:0',\n",
       "                     dtype=torch.float64)),\n",
       "             ('encoder_vsn.single_variable_grns.past_covariate_1.resample_norm.mask',\n",
       "              tensor([-0.0262,  0.0282,  0.0204,  0.0149], device='cuda:0',\n",
       "                     dtype=torch.float64)),\n",
       "             ('encoder_vsn.single_variable_grns.past_covariate_1.resample_norm.norm.weight',\n",
       "              tensor([0.9323, 0.9694, 0.8185, 0.9728], device='cuda:0', dtype=torch.float64)),\n",
       "             ('encoder_vsn.single_variable_grns.past_covariate_1.resample_norm.norm.bias',\n",
       "              tensor([ 0.0679,  0.0325, -0.1809, -0.0322], device='cuda:0',\n",
       "                     dtype=torch.float64)),\n",
       "             ('encoder_vsn.single_variable_grns.past_covariate_1.fc1.weight',\n",
       "              tensor([[ 0.1320, -0.7617, -0.1227, -0.0580, -0.1575, -0.0832,  0.1966, -0.2910],\n",
       "                      [ 0.6793,  0.6233,  0.3162,  0.3930,  1.0014, -0.4242, -0.4881, -0.1602],\n",
       "                      [ 0.3185,  1.4999, -0.2945, -0.0647,  0.3558, -0.2296,  0.2932, -0.2511],\n",
       "                      [ 0.1616,  0.5947,  0.7354,  0.0440,  0.0498,  0.3738,  0.2489,  0.6124]],\n",
       "                     device='cuda:0', dtype=torch.float64)),\n",
       "             ('encoder_vsn.single_variable_grns.past_covariate_1.fc1.bias',\n",
       "              tensor([ 2.2817e-02, 3.2797e-108,  4.2549e-57,  9.3666e-31], device='cuda:0',\n",
       "                     dtype=torch.float64)),\n",
       "             ('encoder_vsn.single_variable_grns.past_covariate_1.fc2.weight',\n",
       "              tensor([[-0.3471,  0.2991, -0.0640, -0.8293],\n",
       "                      [ 0.3168, -0.3559, -0.5306, -0.3163],\n",
       "                      [ 0.3762, -0.3127, -0.1186, -0.2498],\n",
       "                      [ 0.4007,  0.0750, -0.2220,  1.3300]], device='cuda:0',\n",
       "                     dtype=torch.float64)),\n",
       "             ('encoder_vsn.single_variable_grns.past_covariate_1.fc2.bias',\n",
       "              tensor([-0.0141,  0.0083, -0.0119,  0.0154], device='cuda:0',\n",
       "                     dtype=torch.float64)),\n",
       "             ('encoder_vsn.single_variable_grns.past_covariate_1.gate_norm.glu.fc.weight',\n",
       "              tensor([[-0.5301, -0.6412, -0.1746, -0.4717],\n",
       "                      [-0.4523, -0.1003,  0.0421, -0.1059],\n",
       "                      [ 0.1608, -0.3545, -0.5937, -0.7083],\n",
       "                      [ 0.6594,  0.4381,  0.1023,  0.1766],\n",
       "                      [ 0.7150, -0.5702,  0.4218, -0.5390],\n",
       "                      [-0.0693, -0.1271, -0.3237,  0.3671],\n",
       "                      [-0.0168,  0.3302,  0.1606, -0.0042],\n",
       "                      [ 0.6375, -0.0285, -0.3233, -0.0227]], device='cuda:0',\n",
       "                     dtype=torch.float64)),\n",
       "             ('encoder_vsn.single_variable_grns.past_covariate_1.gate_norm.glu.fc.bias',\n",
       "              tensor([ 0.0837,  0.0577, -0.0499,  0.0191, -0.0099,  0.0221,  0.0730, -0.0435],\n",
       "                     device='cuda:0', dtype=torch.float64)),\n",
       "             ('encoder_vsn.single_variable_grns.past_covariate_1.gate_norm.add_norm.norm.weight',\n",
       "              tensor([1.0068, 0.9881, 1.0459, 0.9161], device='cuda:0', dtype=torch.float64)),\n",
       "             ('encoder_vsn.single_variable_grns.past_covariate_1.gate_norm.add_norm.norm.bias',\n",
       "              tensor([ 0.0739,  0.0047, -0.0634, -0.1066], device='cuda:0',\n",
       "                     dtype=torch.float64)),\n",
       "             ('encoder_vsn.single_variable_grns.past_covariate_2.resample_norm.mask',\n",
       "              tensor([ 0.0321, -0.0171,  0.0006, -0.0092], device='cuda:0',\n",
       "                     dtype=torch.float64)),\n",
       "             ('encoder_vsn.single_variable_grns.past_covariate_2.resample_norm.norm.weight',\n",
       "              tensor([0.9740, 1.0532, 0.9686, 0.9758], device='cuda:0', dtype=torch.float64)),\n",
       "             ('encoder_vsn.single_variable_grns.past_covariate_2.resample_norm.norm.bias',\n",
       "              tensor([ 0.0408, -0.0189, -0.0047,  0.0008], device='cuda:0',\n",
       "                     dtype=torch.float64)),\n",
       "             ('encoder_vsn.single_variable_grns.past_covariate_2.fc1.weight',\n",
       "              tensor([[ 0.4330, -0.6451,  0.3560, -0.2968, -0.3066, -0.2734, -0.6452, -1.1565],\n",
       "                      [ 0.0520,  0.1052,  0.2164,  0.9465, -0.2623, -0.1197,  0.2645, -0.6072],\n",
       "                      [-0.5262, -0.3643, -0.0356,  0.5661,  0.3948,  0.9875, -0.3402,  0.2071],\n",
       "                      [ 0.4112,  0.1730,  0.2436, -0.8329, -1.0501, -0.4220,  0.1637,  0.5752]],\n",
       "                     device='cuda:0', dtype=torch.float64)),\n",
       "             ('encoder_vsn.single_variable_grns.past_covariate_2.fc1.bias',\n",
       "              tensor([-0.0697,  0.1042, -0.0180, -0.0374], device='cuda:0',\n",
       "                     dtype=torch.float64)),\n",
       "             ('encoder_vsn.single_variable_grns.past_covariate_2.fc2.weight',\n",
       "              tensor([[ 0.7002, -0.6668,  0.5932,  0.4229],\n",
       "                      [ 0.1482, -0.5539,  0.4141,  0.0240],\n",
       "                      [-0.4068, -0.7355,  0.7872,  1.0896],\n",
       "                      [-1.1416,  0.2331, -1.4307,  0.1468]], device='cuda:0',\n",
       "                     dtype=torch.float64)),\n",
       "             ('encoder_vsn.single_variable_grns.past_covariate_2.fc2.bias',\n",
       "              tensor([-0.0536, -0.0244,  0.0090, -0.0033], device='cuda:0',\n",
       "                     dtype=torch.float64)),\n",
       "             ('encoder_vsn.single_variable_grns.past_covariate_2.gate_norm.glu.fc.weight',\n",
       "              tensor([[-0.1966, -0.1813,  0.5417, -0.3042],\n",
       "                      [ 0.4803, -0.0566,  0.5760, -0.0235],\n",
       "                      [-0.3969, -0.3190,  0.0727, -0.2120],\n",
       "                      [ 0.2592,  0.4453, -0.2474, -0.3935],\n",
       "                      [ 0.0045,  0.0381,  0.6889, -0.2654],\n",
       "                      [ 0.2461, -0.4770,  0.5936,  0.4296],\n",
       "                      [-0.3003,  0.7715,  0.2445,  0.6430],\n",
       "                      [ 0.4014,  0.6341,  0.0472, -0.2540]], device='cuda:0',\n",
       "                     dtype=torch.float64)),\n",
       "             ('encoder_vsn.single_variable_grns.past_covariate_2.gate_norm.glu.fc.bias',\n",
       "              tensor([ 0.0574, -0.0040,  0.0114,  0.0041, -0.1274, -0.0320,  0.0792, -0.0187],\n",
       "                     device='cuda:0', dtype=torch.float64)),\n",
       "             ('encoder_vsn.single_variable_grns.past_covariate_2.gate_norm.add_norm.norm.weight',\n",
       "              tensor([0.9806, 0.8395, 0.9921, 0.9940], device='cuda:0', dtype=torch.float64)),\n",
       "             ('encoder_vsn.single_variable_grns.past_covariate_2.gate_norm.add_norm.norm.bias',\n",
       "              tensor([ 0.0366, -0.0469, -0.0252, -0.0018], device='cuda:0',\n",
       "                     dtype=torch.float64)),\n",
       "             ('encoder_vsn.single_variable_grns.past_covariate_3.resample_norm.mask',\n",
       "              tensor([ 0.1662,  0.0402, -0.1435, -0.2629], device='cuda:0',\n",
       "                     dtype=torch.float64)),\n",
       "             ('encoder_vsn.single_variable_grns.past_covariate_3.resample_norm.norm.weight',\n",
       "              tensor([1.1709, 1.0500, 0.8712, 0.8729], device='cuda:0', dtype=torch.float64)),\n",
       "             ('encoder_vsn.single_variable_grns.past_covariate_3.resample_norm.norm.bias',\n",
       "              tensor([-0.1598,  0.0642,  0.1506, -0.1286], device='cuda:0',\n",
       "                     dtype=torch.float64)),\n",
       "             ('encoder_vsn.single_variable_grns.past_covariate_3.fc1.weight',\n",
       "              tensor([[-0.2114,  0.3690, -0.1713,  0.1420, -0.5455, -0.3011, -0.2718,  0.3019],\n",
       "                      [-0.1990,  1.0015, -0.2176, -0.1095,  0.6477, -0.3583,  0.0229, -0.3815],\n",
       "                      [ 0.2747, -0.4327, -0.0850,  0.8849, -0.2094, -0.7103,  0.0092,  0.0612],\n",
       "                      [-0.0277, -0.0577, -0.7644, -0.0715,  1.0432, -0.9279, -0.5999, -0.6150]],\n",
       "                     device='cuda:0', dtype=torch.float64)),\n",
       "             ('encoder_vsn.single_variable_grns.past_covariate_3.fc1.bias',\n",
       "              tensor([ 0.1164, -0.1266,  0.1431, -0.0464], device='cuda:0',\n",
       "                     dtype=torch.float64)),\n",
       "             ('encoder_vsn.single_variable_grns.past_covariate_3.fc2.weight',\n",
       "              tensor([[-0.1747, -0.4329,  0.8541,  0.6726],\n",
       "                      [-0.6509,  0.0646,  0.2379,  1.3942],\n",
       "                      [ 0.7731,  0.1732,  1.3171,  0.1519],\n",
       "                      [-0.1275,  0.4733,  0.1389,  0.5397]], device='cuda:0',\n",
       "                     dtype=torch.float64)),\n",
       "             ('encoder_vsn.single_variable_grns.past_covariate_3.fc2.bias',\n",
       "              tensor([ 0.0275, -0.1109,  0.0996, -0.0607], device='cuda:0',\n",
       "                     dtype=torch.float64)),\n",
       "             ('encoder_vsn.single_variable_grns.past_covariate_3.gate_norm.glu.fc.weight',\n",
       "              tensor([[ 0.3503,  0.1457, -0.0336, -0.5490],\n",
       "                      [-0.1952, -0.1453,  0.5901,  0.2327],\n",
       "                      [-0.3166, -0.2221, -0.0785, -0.5166],\n",
       "                      [ 0.6100, -0.0762,  0.3129, -0.5192],\n",
       "                      [-0.6552,  0.4014, -0.2702,  0.0191],\n",
       "                      [ 0.3358,  0.4906, -0.4367,  0.4079],\n",
       "                      [-0.7172,  0.1680, -0.0626, -0.0593],\n",
       "                      [ 0.2762, -0.6331,  0.5778, -0.6446]], device='cuda:0',\n",
       "                     dtype=torch.float64)),\n",
       "             ('encoder_vsn.single_variable_grns.past_covariate_3.gate_norm.glu.fc.bias',\n",
       "              tensor([-0.0387, -0.0700,  0.0420, -0.1369, -0.0192, -0.0060, -0.1058,  0.1318],\n",
       "                     device='cuda:0', dtype=torch.float64)),\n",
       "             ('encoder_vsn.single_variable_grns.past_covariate_3.gate_norm.add_norm.norm.weight',\n",
       "              tensor([0.9843, 0.9750, 0.8330, 0.9447], device='cuda:0', dtype=torch.float64)),\n",
       "             ('encoder_vsn.single_variable_grns.past_covariate_3.gate_norm.add_norm.norm.bias',\n",
       "              tensor([ 0.0010,  0.0018,  0.0088, -0.0324], device='cuda:0',\n",
       "                     dtype=torch.float64)),\n",
       "             ('encoder_vsn.single_variable_grns.past_covariate_4.resample_norm.mask',\n",
       "              tensor([ 0.0061,  0.0488,  0.0259, -0.0088], device='cuda:0',\n",
       "                     dtype=torch.float64)),\n",
       "             ('encoder_vsn.single_variable_grns.past_covariate_4.resample_norm.norm.weight',\n",
       "              tensor([1.0120, 1.0176, 0.9553, 0.9805], device='cuda:0', dtype=torch.float64)),\n",
       "             ('encoder_vsn.single_variable_grns.past_covariate_4.resample_norm.norm.bias',\n",
       "              tensor([-0.0076,  0.0187, -0.0464,  0.0197], device='cuda:0',\n",
       "                     dtype=torch.float64)),\n",
       "             ('encoder_vsn.single_variable_grns.past_covariate_4.fc1.weight',\n",
       "              tensor([[-0.2671,  0.1559,  0.1819,  0.3384,  0.2875,  0.1662,  0.4587, -0.0641],\n",
       "                      [-0.5192,  0.5884,  0.1909,  0.6461,  0.1399,  0.5555, -1.2053, -0.4707],\n",
       "                      [ 0.1478, -0.2037, -0.4244,  0.4883, -0.2509, -0.8666, -0.4451, -0.4704],\n",
       "                      [ 0.2822, -0.8523, -0.4426,  0.0784,  0.1480,  0.3484,  0.6318, -1.2544]],\n",
       "                     device='cuda:0', dtype=torch.float64)),\n",
       "             ('encoder_vsn.single_variable_grns.past_covariate_4.fc1.bias',\n",
       "              tensor([ 0.0260,  0.0284, -0.0143, -0.0403], device='cuda:0',\n",
       "                     dtype=torch.float64)),\n",
       "             ('encoder_vsn.single_variable_grns.past_covariate_4.fc2.weight',\n",
       "              tensor([[-2.0398, -1.0117,  0.9861, -0.3690],\n",
       "                      [ 1.4011, -0.5719, -0.7118, -0.0875],\n",
       "                      [-0.8414, -0.5648, -0.2957,  0.3272],\n",
       "                      [ 1.1410,  0.8083,  0.3200, -0.0180]], device='cuda:0',\n",
       "                     dtype=torch.float64)),\n",
       "             ('encoder_vsn.single_variable_grns.past_covariate_4.fc2.bias',\n",
       "              tensor([-0.0031,  0.0271, -0.0454,  0.0250], device='cuda:0',\n",
       "                     dtype=torch.float64)),\n",
       "             ('encoder_vsn.single_variable_grns.past_covariate_4.gate_norm.glu.fc.weight',\n",
       "              tensor([[-4.6980e-01, -2.9082e-01,  5.3476e-01,  2.0438e-01],\n",
       "                      [ 3.5382e-01,  2.0153e-01, -3.1114e-01,  5.4756e-02],\n",
       "                      [-5.2296e-05,  1.0422e-01,  3.8293e-01, -2.7735e-01],\n",
       "                      [-3.4508e-01,  6.2188e-01, -9.5281e-02,  4.7600e-01],\n",
       "                      [-3.3852e-01, -3.5834e-01,  6.6213e-01, -4.6153e-01],\n",
       "                      [ 6.8111e-01,  5.3713e-01, -2.9706e-01,  5.3994e-01],\n",
       "                      [ 1.8739e-02,  2.5192e-02, -1.2161e-01,  5.5134e-01],\n",
       "                      [-4.4855e-01, -5.6890e-01, -2.1138e-01,  6.9531e-01]], device='cuda:0',\n",
       "                     dtype=torch.float64)),\n",
       "             ('encoder_vsn.single_variable_grns.past_covariate_4.gate_norm.glu.fc.bias',\n",
       "              tensor([-0.0163, -0.0227, -0.0477,  0.0202, -0.0389, -0.0800, -0.2139, -0.0088],\n",
       "                     device='cuda:0', dtype=torch.float64)),\n",
       "             ('encoder_vsn.single_variable_grns.past_covariate_4.gate_norm.add_norm.norm.weight',\n",
       "              tensor([0.9791, 1.0108, 1.0066, 0.9241], device='cuda:0', dtype=torch.float64)),\n",
       "             ('encoder_vsn.single_variable_grns.past_covariate_4.gate_norm.add_norm.norm.bias',\n",
       "              tensor([ 0.0243, -0.0282, -0.0100, -0.0570], device='cuda:0',\n",
       "                     dtype=torch.float64)),\n",
       "             ('encoder_vsn.single_variable_grns.future_covariate_0.resample_norm.mask',\n",
       "              tensor([ 0.0419, -0.3779,  0.0566,  0.1996], device='cuda:0',\n",
       "                     dtype=torch.float64)),\n",
       "             ('encoder_vsn.single_variable_grns.future_covariate_0.resample_norm.norm.weight',\n",
       "              tensor([1.0529, 0.8454, 1.0281, 1.1444], device='cuda:0', dtype=torch.float64)),\n",
       "             ('encoder_vsn.single_variable_grns.future_covariate_0.resample_norm.norm.bias',\n",
       "              tensor([ 0.0178,  0.1860, -0.1890, -0.0565], device='cuda:0',\n",
       "                     dtype=torch.float64)),\n",
       "             ('encoder_vsn.single_variable_grns.future_covariate_0.fc1.weight',\n",
       "              tensor([[ 0.0028,  0.1903, -0.7135, -0.1875, -0.2623,  0.0605, -0.5327,  0.7242],\n",
       "                      [ 0.2712,  0.4570,  0.2371, -0.0956, -0.1808,  0.5652, -0.8811, -0.5820],\n",
       "                      [ 0.1591, -0.0218, -0.0789, -0.0164, -0.4545, -0.2962,  0.5193,  0.4662],\n",
       "                      [-0.4360,  0.8540, -0.2303,  0.1671,  0.0419,  0.0138,  0.1944,  0.1781]],\n",
       "                     device='cuda:0', dtype=torch.float64)),\n",
       "             ('encoder_vsn.single_variable_grns.future_covariate_0.fc1.bias',\n",
       "              tensor([ 0.0740,  0.0022, -0.0428, -0.0210], device='cuda:0',\n",
       "                     dtype=torch.float64)),\n",
       "             ('encoder_vsn.single_variable_grns.future_covariate_0.fc2.weight',\n",
       "              tensor([[-0.2673, -0.6339,  1.5196,  1.4761],\n",
       "                      [-0.8283, -0.4494,  0.6671, -0.1159],\n",
       "                      [-0.5251, -0.5793,  0.0611, -1.2054],\n",
       "                      [ 0.6441, -0.1688, -0.1274, -0.6459]], device='cuda:0',\n",
       "                     dtype=torch.float64)),\n",
       "             ('encoder_vsn.single_variable_grns.future_covariate_0.fc2.bias',\n",
       "              tensor([-0.0051, -0.0948,  0.0255, -0.0215], device='cuda:0',\n",
       "                     dtype=torch.float64)),\n",
       "             ('encoder_vsn.single_variable_grns.future_covariate_0.gate_norm.glu.fc.weight',\n",
       "              tensor([[-0.6212,  0.5759, -0.5393, -0.2890],\n",
       "                      [ 0.7050, -0.0070, -0.1869, -0.4142],\n",
       "                      [ 0.2983,  0.6803,  0.0784, -0.2711],\n",
       "                      [ 0.0874,  0.7430,  0.4172,  0.2862],\n",
       "                      [-0.2821, -0.0904, -0.7796, -0.0256],\n",
       "                      [-0.1383, -0.0985, -0.3246,  0.0235],\n",
       "                      [ 0.6599, -0.4314, -0.2713, -0.0627],\n",
       "                      [ 0.4807, -0.6292,  0.4658,  0.6240]], device='cuda:0',\n",
       "                     dtype=torch.float64)),\n",
       "             ('encoder_vsn.single_variable_grns.future_covariate_0.gate_norm.glu.fc.bias',\n",
       "              tensor([ 0.0010,  0.1289, -0.1929, -0.0466, -0.0050,  0.2817, -0.1166,  0.1124],\n",
       "                     device='cuda:0', dtype=torch.float64)),\n",
       "             ('encoder_vsn.single_variable_grns.future_covariate_0.gate_norm.add_norm.norm.weight',\n",
       "              tensor([1.1581, 1.1124, 1.0527, 1.1447], device='cuda:0', dtype=torch.float64)),\n",
       "             ('encoder_vsn.single_variable_grns.future_covariate_0.gate_norm.add_norm.norm.bias',\n",
       "              tensor([ 0.0152, -0.0172,  0.0034, -0.0866], device='cuda:0',\n",
       "                     dtype=torch.float64)),\n",
       "             ('encoder_vsn.single_variable_grns.future_covariate_1.resample_norm.mask',\n",
       "              tensor([ 0.1026, -0.0018, -0.0486,  0.0809], device='cuda:0',\n",
       "                     dtype=torch.float64)),\n",
       "             ('encoder_vsn.single_variable_grns.future_covariate_1.resample_norm.norm.weight',\n",
       "              tensor([1.0839, 0.9890, 0.9465, 0.9570], device='cuda:0', dtype=torch.float64)),\n",
       "             ('encoder_vsn.single_variable_grns.future_covariate_1.resample_norm.norm.bias',\n",
       "              tensor([ 0.0854, -0.0087,  0.0472, -0.1057], device='cuda:0',\n",
       "                     dtype=torch.float64)),\n",
       "             ('encoder_vsn.single_variable_grns.future_covariate_1.fc1.weight',\n",
       "              tensor([[ 0.3602, -0.4850, -0.9491,  0.2156, -0.3465,  0.0296,  0.0359,  0.4501],\n",
       "                      [-0.2340,  0.8564,  0.9602,  0.7236, -0.3686,  0.5634,  1.5049, -0.1999],\n",
       "                      [ 0.7213, -0.3950,  0.1504,  0.0460,  0.6139,  0.9641,  0.3150,  0.1518],\n",
       "                      [ 0.3812, -0.1897,  0.2047,  0.5885,  0.0665, -1.3712, -0.1206, -0.2361]],\n",
       "                     device='cuda:0', dtype=torch.float64)),\n",
       "             ('encoder_vsn.single_variable_grns.future_covariate_1.fc1.bias',\n",
       "              tensor([-0.0136, -0.0125,  0.0232,  0.0111], device='cuda:0',\n",
       "                     dtype=torch.float64)),\n",
       "             ('encoder_vsn.single_variable_grns.future_covariate_1.fc2.weight',\n",
       "              tensor([[ 0.2775, -1.0643, -0.3039, -0.1364],\n",
       "                      [ 0.2653, -0.3819, -0.1081,  1.2029],\n",
       "                      [-1.1262,  0.7380, -0.0411,  0.4776],\n",
       "                      [ 0.5292,  0.3249, -0.4172, -0.4682]], device='cuda:0',\n",
       "                     dtype=torch.float64)),\n",
       "             ('encoder_vsn.single_variable_grns.future_covariate_1.fc2.bias',\n",
       "              tensor([ 0.0396,  0.0022, -0.0064, -0.0872], device='cuda:0',\n",
       "                     dtype=torch.float64)),\n",
       "             ('encoder_vsn.single_variable_grns.future_covariate_1.gate_norm.glu.fc.weight',\n",
       "              tensor([[-0.7404,  0.5411, -0.5487, -0.5126],\n",
       "                      [-0.6354,  0.2567, -0.6613, -0.4806],\n",
       "                      [ 0.3402, -0.5361, -0.5130, -0.6674],\n",
       "                      [-0.5928, -0.5103, -0.3777,  0.1771],\n",
       "                      [ 0.0182,  0.7009, -0.4878,  0.3868],\n",
       "                      [-0.1404,  0.3770, -0.5921, -0.2015],\n",
       "                      [-0.4796, -0.1212, -0.2837,  0.1762],\n",
       "                      [ 0.6390, -0.2102, -0.3697, -0.0575]], device='cuda:0',\n",
       "                     dtype=torch.float64)),\n",
       "             ('encoder_vsn.single_variable_grns.future_covariate_1.gate_norm.glu.fc.bias',\n",
       "              tensor([ 0.0849, -0.0133,  0.0534, -0.0999,  0.1168, -0.0520, -0.0761,  0.0419],\n",
       "                     device='cuda:0', dtype=torch.float64)),\n",
       "             ('encoder_vsn.single_variable_grns.future_covariate_1.gate_norm.add_norm.norm.weight',\n",
       "              tensor([1.0124, 0.8284, 1.0103, 1.0755], device='cuda:0', dtype=torch.float64)),\n",
       "             ('encoder_vsn.single_variable_grns.future_covariate_1.gate_norm.add_norm.norm.bias',\n",
       "              tensor([ 1.6449e-02, -1.2286e-02, -7.2867e-05, -8.6333e-02], device='cuda:0',\n",
       "                     dtype=torch.float64)),\n",
       "             ('encoder_vsn.single_variable_grns.future_covariate_2.resample_norm.mask',\n",
       "              tensor([-1.5322e-02, -1.9967e-05, -3.0322e-02,  2.9054e-02], device='cuda:0',\n",
       "                     dtype=torch.float64)),\n",
       "             ('encoder_vsn.single_variable_grns.future_covariate_2.resample_norm.norm.weight',\n",
       "              tensor([0.9584, 1.0287, 1.0228, 1.0463], device='cuda:0', dtype=torch.float64)),\n",
       "             ('encoder_vsn.single_variable_grns.future_covariate_2.resample_norm.norm.bias',\n",
       "              tensor([-0.0060,  0.0895,  0.0360, -0.0786], device='cuda:0',\n",
       "                     dtype=torch.float64)),\n",
       "             ('encoder_vsn.single_variable_grns.future_covariate_2.fc1.weight',\n",
       "              tensor([[ 0.1326,  0.7747, -0.0342,  0.0803, -0.4690,  0.7782, -0.3827,  0.2522],\n",
       "                      [-0.0300,  0.6631,  0.0866,  0.8397,  0.4686,  0.1939, -0.5611, -0.4615],\n",
       "                      [ 0.2711, -0.1012, -0.0965,  0.6602,  0.3764, -0.0221,  0.5510,  1.0669],\n",
       "                      [-0.2488, -0.6145,  0.5065, -0.2424, -0.5385,  0.8403,  0.3692,  0.8405]],\n",
       "                     device='cuda:0', dtype=torch.float64)),\n",
       "             ('encoder_vsn.single_variable_grns.future_covariate_2.fc1.bias',\n",
       "              tensor([-0.0121, -0.0152,  0.0021,  0.0912], device='cuda:0',\n",
       "                     dtype=torch.float64)),\n",
       "             ('encoder_vsn.single_variable_grns.future_covariate_2.fc2.weight',\n",
       "              tensor([[-0.5963, -0.8673,  0.7203, -0.0522],\n",
       "                      [-0.9619, -0.1161,  0.7076,  0.1235],\n",
       "                      [ 1.9084,  0.6008, -0.3088,  0.5768],\n",
       "                      [ 1.1910,  1.0416,  0.4448, -0.3388]], device='cuda:0',\n",
       "                     dtype=torch.float64)),\n",
       "             ('encoder_vsn.single_variable_grns.future_covariate_2.fc2.bias',\n",
       "              tensor([-0.0187,  0.0435,  0.0156, -0.0040], device='cuda:0',\n",
       "                     dtype=torch.float64)),\n",
       "             ('encoder_vsn.single_variable_grns.future_covariate_2.gate_norm.glu.fc.weight',\n",
       "              tensor([[ 0.3026,  0.0197,  0.2847, -0.3642],\n",
       "                      [-0.0627, -0.5064, -0.2516, -0.3810],\n",
       "                      [-0.5359,  1.0547,  0.7336, -0.2074],\n",
       "                      [-0.6822, -0.0514,  0.3866, -0.5036],\n",
       "                      [ 0.2184, -0.2884,  0.3510, -0.2650],\n",
       "                      [-0.3919,  0.4159, -0.1316,  0.0183],\n",
       "                      [ 0.6133,  0.4831,  0.1045, -0.5975],\n",
       "                      [ 0.4492,  0.2688, -0.5363, -0.4255]], device='cuda:0',\n",
       "                     dtype=torch.float64)),\n",
       "             ('encoder_vsn.single_variable_grns.future_covariate_2.gate_norm.glu.fc.bias',\n",
       "              tensor([-0.0135,  0.0978,  0.0660, -0.1009, -0.0262, -0.0942, -0.0106, -0.1052],\n",
       "                     device='cuda:0', dtype=torch.float64)),\n",
       "             ('encoder_vsn.single_variable_grns.future_covariate_2.gate_norm.add_norm.norm.weight',\n",
       "              tensor([0.9065, 0.8489, 0.9924, 1.0469], device='cuda:0', dtype=torch.float64)),\n",
       "             ('encoder_vsn.single_variable_grns.future_covariate_2.gate_norm.add_norm.norm.bias',\n",
       "              tensor([ 0.0163, -0.0121, -0.0053, -0.0717], device='cuda:0',\n",
       "                     dtype=torch.float64)),\n",
       "             ('encoder_vsn.single_variable_grns.future_covariate_3.resample_norm.mask',\n",
       "              tensor([-0.0425,  0.0623, -0.0646,  0.0717], device='cuda:0',\n",
       "                     dtype=torch.float64)),\n",
       "             ('encoder_vsn.single_variable_grns.future_covariate_3.resample_norm.norm.weight',\n",
       "              tensor([0.9594, 1.0295, 0.9315, 1.0636], device='cuda:0', dtype=torch.float64)),\n",
       "             ('encoder_vsn.single_variable_grns.future_covariate_3.resample_norm.norm.bias',\n",
       "              tensor([ 0.0451,  0.0701, -0.0556, -0.0571], device='cuda:0',\n",
       "                     dtype=torch.float64)),\n",
       "             ('encoder_vsn.single_variable_grns.future_covariate_3.fc1.weight',\n",
       "              tensor([[ 7.2522e-01,  1.3894e-01, -2.6754e-01,  8.6987e-01,  8.2161e-02,\n",
       "                       -1.1314e-01, -8.2577e-04, -9.2278e-01],\n",
       "                      [-7.6948e-02, -9.0614e-01,  2.2633e-01, -1.4368e-01, -2.0347e-01,\n",
       "                       -5.9338e-01,  3.9374e-01,  3.2904e-01],\n",
       "                      [ 2.6879e-01, -9.5361e-01,  5.5369e-01, -2.8935e-01,  3.7407e-01,\n",
       "                        2.0416e-01,  5.8738e-01, -2.8907e-01],\n",
       "                      [ 9.8962e-01, -3.5895e-01, -3.9049e-01, -9.9370e-01, -1.0311e+00,\n",
       "                       -7.4836e-02, -7.2891e-01,  7.5603e-02]], device='cuda:0',\n",
       "                     dtype=torch.float64)),\n",
       "             ('encoder_vsn.single_variable_grns.future_covariate_3.fc1.bias',\n",
       "              tensor([-0.0058,  0.0747, -0.0147, -0.0740], device='cuda:0',\n",
       "                     dtype=torch.float64)),\n",
       "             ('encoder_vsn.single_variable_grns.future_covariate_3.fc2.weight',\n",
       "              tensor([[-1.1208,  0.2794, -0.1208, -0.5186],\n",
       "                      [-1.4650,  1.0902,  0.4298,  0.2426],\n",
       "                      [-0.1778, -0.4233,  0.4500,  1.3576],\n",
       "                      [ 0.3232,  0.4371,  0.4322,  0.1926]], device='cuda:0',\n",
       "                     dtype=torch.float64)),\n",
       "             ('encoder_vsn.single_variable_grns.future_covariate_3.fc2.bias',\n",
       "              tensor([ 0.1071,  0.0162, -0.0657,  0.0658], device='cuda:0',\n",
       "                     dtype=torch.float64)),\n",
       "             ('encoder_vsn.single_variable_grns.future_covariate_3.gate_norm.glu.fc.weight',\n",
       "              tensor([[-0.0381,  0.2779, -0.2055, -0.0299],\n",
       "                      [ 0.1198, -0.2178, -0.6398, -0.0827],\n",
       "                      [-0.3029, -0.1640, -0.0780,  0.5681],\n",
       "                      [-0.1441, -0.1084, -0.1082, -0.4877],\n",
       "                      [ 0.1098, -0.3437, -0.5066,  0.7232],\n",
       "                      [ 0.5594, -0.1183,  0.4471, -0.6600],\n",
       "                      [ 0.6128, -0.5417, -0.3172, -0.1323],\n",
       "                      [ 0.2451,  0.7131,  0.6442,  0.6815]], device='cuda:0',\n",
       "                     dtype=torch.float64)),\n",
       "             ('encoder_vsn.single_variable_grns.future_covariate_3.gate_norm.glu.fc.bias',\n",
       "              tensor([ 0.0515,  0.0753, -0.0651, -0.0618,  0.0681, -0.0650,  0.1193,  0.1023],\n",
       "                     device='cuda:0', dtype=torch.float64)),\n",
       "             ('encoder_vsn.single_variable_grns.future_covariate_3.gate_norm.add_norm.norm.weight',\n",
       "              tensor([0.9823, 0.9807, 0.9824, 1.1180], device='cuda:0', dtype=torch.float64)),\n",
       "             ('encoder_vsn.single_variable_grns.future_covariate_3.gate_norm.add_norm.norm.bias',\n",
       "              tensor([ 0.0245,  0.0256, -0.0172, -0.0785], device='cuda:0',\n",
       "                     dtype=torch.float64)),\n",
       "             ('encoder_vsn.prescalers.target_0.weight',\n",
       "              tensor([[-0.2677],\n",
       "                      [-0.5492],\n",
       "                      [-0.8321],\n",
       "                      [-0.4869],\n",
       "                      [ 0.3693],\n",
       "                      [ 0.6972],\n",
       "                      [-0.0955],\n",
       "                      [ 0.7763]], device='cuda:0', dtype=torch.float64)),\n",
       "             ('encoder_vsn.prescalers.target_0.bias',\n",
       "              tensor([-0.5799,  0.7839,  1.1278, -0.1164, -0.1677, -0.3581,  0.0298,  0.4297],\n",
       "                     device='cuda:0', dtype=torch.float64)),\n",
       "             ('encoder_vsn.prescalers.past_covariate_0.weight',\n",
       "              tensor([[ 0.4966],\n",
       "                      [-0.0163],\n",
       "                      [-0.8155],\n",
       "                      [ 0.2082],\n",
       "                      [-0.4823],\n",
       "                      [-0.9592],\n",
       "                      [-0.9408],\n",
       "                      [-0.1896]], device='cuda:0', dtype=torch.float64)),\n",
       "             ('encoder_vsn.prescalers.past_covariate_0.bias',\n",
       "              tensor([-0.4014, -0.8544, -0.0731, -0.3965, -0.0348, -0.1832, -0.7890,  0.2145],\n",
       "                     device='cuda:0', dtype=torch.float64)),\n",
       "             ('encoder_vsn.prescalers.past_covariate_1.weight',\n",
       "              tensor([[-0.5115],\n",
       "                      [-0.6436],\n",
       "                      [-0.5565],\n",
       "                      [ 0.0480],\n",
       "                      [-0.7124],\n",
       "                      [ 0.5679],\n",
       "                      [ 0.6584],\n",
       "                      [-0.1460]], device='cuda:0', dtype=torch.float64)),\n",
       "             ('encoder_vsn.prescalers.past_covariate_1.bias',\n",
       "              tensor([-0.6049, -0.9134,  0.0877,  0.5283, -0.8717, -0.3672,  0.5644,  0.6260],\n",
       "                     device='cuda:0', dtype=torch.float64)),\n",
       "             ('encoder_vsn.prescalers.past_covariate_2.weight',\n",
       "              tensor([[-0.1154],\n",
       "                      [ 0.3404],\n",
       "                      [-0.1458],\n",
       "                      [ 0.1621],\n",
       "                      [ 1.0226],\n",
       "                      [ 0.6438],\n",
       "                      [-0.3538],\n",
       "                      [ 0.1143]], device='cuda:0', dtype=torch.float64)),\n",
       "             ('encoder_vsn.prescalers.past_covariate_2.bias',\n",
       "              tensor([-0.9023, -0.0119,  0.3915, -0.1853,  0.6862, -0.7887,  0.3732,  0.7104],\n",
       "                     device='cuda:0', dtype=torch.float64)),\n",
       "             ('encoder_vsn.prescalers.past_covariate_3.weight',\n",
       "              tensor([[-0.6524],\n",
       "                      [ 0.8073],\n",
       "                      [ 0.1824],\n",
       "                      [-0.0168],\n",
       "                      [ 0.1220],\n",
       "                      [-0.5717],\n",
       "                      [ 0.9158],\n",
       "                      [ 0.5623]], device='cuda:0', dtype=torch.float64)),\n",
       "             ('encoder_vsn.prescalers.past_covariate_3.bias',\n",
       "              tensor([ 0.0394, -0.8732, -0.7845,  0.1048,  0.5557, -0.5888, -0.3339,  0.8102],\n",
       "                     device='cuda:0', dtype=torch.float64)),\n",
       "             ('encoder_vsn.prescalers.past_covariate_4.weight',\n",
       "              tensor([[-0.2142],\n",
       "                      [-0.2995],\n",
       "                      [-0.3196],\n",
       "                      [ 0.7295],\n",
       "                      [ 0.0348],\n",
       "                      [-0.0297],\n",
       "                      [-0.5522],\n",
       "                      [-0.5625]], device='cuda:0', dtype=torch.float64)),\n",
       "             ('encoder_vsn.prescalers.past_covariate_4.bias',\n",
       "              tensor([-0.0906,  0.8461,  0.7656, -0.6199, -0.3815,  0.9825, -0.6577, -0.2948],\n",
       "                     device='cuda:0', dtype=torch.float64)),\n",
       "             ('encoder_vsn.prescalers.future_covariate_0.weight',\n",
       "              tensor([[-0.2584],\n",
       "                      [ 0.4298],\n",
       "                      [ 0.9284],\n",
       "                      [-0.0628],\n",
       "                      [-0.3297],\n",
       "                      [-0.4497],\n",
       "                      [-0.9587],\n",
       "                      [-0.4528]], device='cuda:0', dtype=torch.float64)),\n",
       "             ('encoder_vsn.prescalers.future_covariate_0.bias',\n",
       "              tensor([ 0.1475,  0.8412, -0.8488,  0.7718, -0.0473, -0.7409, -0.2922, -0.4542],\n",
       "                     device='cuda:0', dtype=torch.float64)),\n",
       "             ('encoder_vsn.prescalers.future_covariate_1.weight',\n",
       "              tensor([[ 0.3186],\n",
       "                      [-0.5096],\n",
       "                      [ 0.2660],\n",
       "                      [ 0.7640],\n",
       "                      [-0.7751],\n",
       "                      [ 0.4495],\n",
       "                      [ 0.4212],\n",
       "                      [ 0.0873]], device='cuda:0', dtype=torch.float64)),\n",
       "             ('encoder_vsn.prescalers.future_covariate_1.bias',\n",
       "              tensor([ 0.8024, -0.8332, -0.2973, -0.0989, -0.9526, -0.6168,  0.7123, -0.1952],\n",
       "                     device='cuda:0', dtype=torch.float64)),\n",
       "             ('encoder_vsn.prescalers.future_covariate_2.weight',\n",
       "              tensor([[-0.1950],\n",
       "                      [-0.6748],\n",
       "                      [ 0.7198],\n",
       "                      [ 0.3690],\n",
       "                      [-0.6300],\n",
       "                      [ 0.0313],\n",
       "                      [ 0.5015],\n",
       "                      [ 0.3719]], device='cuda:0', dtype=torch.float64)),\n",
       "             ('encoder_vsn.prescalers.future_covariate_2.bias',\n",
       "              tensor([-0.8913,  0.4613,  0.0715,  0.6433, -0.8310,  0.5854,  0.5017, -0.6182],\n",
       "                     device='cuda:0', dtype=torch.float64)),\n",
       "             ('encoder_vsn.prescalers.future_covariate_3.weight',\n",
       "              tensor([[-0.3022],\n",
       "                      [-0.8079],\n",
       "                      [ 0.6690],\n",
       "                      [ 0.7872],\n",
       "                      [-0.5774],\n",
       "                      [ 0.3385],\n",
       "                      [ 0.9097],\n",
       "                      [-0.9086]], device='cuda:0', dtype=torch.float64)),\n",
       "             ('encoder_vsn.prescalers.future_covariate_3.bias',\n",
       "              tensor([-0.4442,  0.1406,  1.0164, -0.9030,  0.8972,  0.7680, -0.6526,  0.2512],\n",
       "                     device='cuda:0', dtype=torch.float64)),\n",
       "             ('decoder_vsn.flattened_grn.resample_norm.mask',\n",
       "              tensor([-0.0570, -0.0477, -0.0881,  0.0735], device='cuda:0',\n",
       "                     dtype=torch.float64)),\n",
       "             ('decoder_vsn.flattened_grn.resample_norm.norm.weight',\n",
       "              tensor([1.0731, 0.7391, 0.9194, 0.7319], device='cuda:0', dtype=torch.float64)),\n",
       "             ('decoder_vsn.flattened_grn.resample_norm.norm.bias',\n",
       "              tensor([ 0.0682, -0.0544, -0.0733,  0.2151], device='cuda:0',\n",
       "                     dtype=torch.float64)),\n",
       "             ('decoder_vsn.flattened_grn.fc1.weight',\n",
       "              tensor([[-0.5071, -0.0392, -0.1256,  0.3125, -0.0209,  0.1330, -0.1731,  0.0468,\n",
       "                        0.2976, -0.2515,  0.0420, -0.0820, -0.1928, -0.2171,  0.2320, -0.2818,\n",
       "                       -0.6404, -0.2563, -0.1274,  0.1203, -0.0488,  0.2052, -0.0784, -0.2042,\n",
       "                       -0.1074,  0.2680,  0.5698, -0.2136,  0.0500, -0.0998,  0.1037,  0.5741],\n",
       "                      [ 0.1806, -0.1309,  0.1810,  0.0360, -0.1255,  0.1399, -0.2605,  0.0119,\n",
       "                       -0.4749, -0.3484,  0.0706,  0.1907,  0.2513, -0.3700,  0.1353,  0.2201,\n",
       "                       -0.1443,  0.0537,  0.1573,  0.2075,  0.0115,  0.1223, -0.0254, -0.3165,\n",
       "                       -0.3024, -0.0382,  0.0393, -0.0038, -0.1406, -0.0033,  0.1880, -0.1805],\n",
       "                      [-0.1025,  0.0985, -0.2999,  0.2263, -0.1735,  0.0569, -0.3178,  0.2173,\n",
       "                       -0.1299,  0.0038, -0.4179, -0.1360, -0.1259, -0.0560,  0.0625, -0.0659,\n",
       "                        0.3544, -0.0629, -0.2662, -0.3109, -0.1694,  0.0076, -0.3906, -0.3282,\n",
       "                       -0.2684,  0.3151, -0.2179,  0.0988, -0.0172,  0.0056,  0.1426,  0.1216],\n",
       "                      [ 0.2693, -0.3261,  0.4844,  0.2499,  0.2353,  0.3771, -0.1660,  0.3198,\n",
       "                       -0.0523,  0.0200,  0.6206, -0.1793,  0.4420, -0.0185, -0.0644, -0.3237,\n",
       "                       -0.0042, -0.3713, -0.0648, -0.0578, -0.1658, -0.0339,  0.0169,  0.2145,\n",
       "                        0.3688, -0.0709, -0.0345, -0.3744,  0.3857, -0.3161,  0.1338,  0.1579]],\n",
       "                     device='cuda:0', dtype=torch.float64)),\n",
       "             ('decoder_vsn.flattened_grn.fc1.bias',\n",
       "              tensor([ 0.0966,  0.0096,  0.0060, -0.0395], device='cuda:0',\n",
       "                     dtype=torch.float64)),\n",
       "             ('decoder_vsn.flattened_grn.context.weight',\n",
       "              tensor([[-0.3216, -0.3775, -1.0310,  0.4631],\n",
       "                      [-0.0466, -0.7358,  0.1422,  0.4964],\n",
       "                      [ 0.0736,  0.1731,  0.4588, -0.2863],\n",
       "                      [ 0.7177, -0.4234,  0.5160, -0.3650]], device='cuda:0',\n",
       "                     dtype=torch.float64)),\n",
       "             ('decoder_vsn.flattened_grn.fc2.weight',\n",
       "              tensor([[ 0.3188,  0.0962,  0.0936, -0.1722],\n",
       "                      [ 0.3988,  0.7561,  1.3239, -0.3316],\n",
       "                      [ 1.1466, -0.7566, -1.0941, -0.2658],\n",
       "                      [-0.7489, -1.2512,  0.8542, -0.3390]], device='cuda:0',\n",
       "                     dtype=torch.float64)),\n",
       "             ('decoder_vsn.flattened_grn.fc2.bias',\n",
       "              tensor([ 0.0769,  0.0554,  0.0875, -0.0591], device='cuda:0',\n",
       "                     dtype=torch.float64)),\n",
       "             ('decoder_vsn.flattened_grn.gate_norm.glu.fc.weight',\n",
       "              tensor([[ 0.6872,  0.5820,  0.6330, -0.8035],\n",
       "                      [-0.5077,  0.6756, -0.4706,  0.4195],\n",
       "                      [-0.7194, -0.0906,  0.1787, -0.2816],\n",
       "                      [ 0.3034, -0.5699,  0.2203,  0.1457],\n",
       "                      [ 0.4903,  0.1243,  0.4351, -0.0478],\n",
       "                      [-0.7379, -0.5936, -0.6422, -0.2727],\n",
       "                      [ 0.1223,  0.5882, -0.5603,  0.6375],\n",
       "                      [-1.0414,  0.1257, -0.6669, -0.2089]], device='cuda:0',\n",
       "                     dtype=torch.float64)),\n",
       "             ('decoder_vsn.flattened_grn.gate_norm.glu.fc.bias',\n",
       "              tensor([ 0.0953,  0.0217, -0.0386,  0.1163,  0.0868, -0.1268, -0.0504, -0.2123],\n",
       "                     device='cuda:0', dtype=torch.float64)),\n",
       "             ('decoder_vsn.flattened_grn.gate_norm.add_norm.norm.weight',\n",
       "              tensor([1.1864, 0.8841, 0.9591, 1.1278], device='cuda:0', dtype=torch.float64)),\n",
       "             ('decoder_vsn.flattened_grn.gate_norm.add_norm.norm.bias',\n",
       "              tensor([ 0.1210, -0.1485, -0.1003, -0.2452], device='cuda:0',\n",
       "                     dtype=torch.float64)),\n",
       "             ('decoder_vsn.single_variable_grns.future_covariate_0.resample_norm.mask',\n",
       "              tensor([ 0.0863,  0.0815, -0.0781, -0.0795], device='cuda:0',\n",
       "                     dtype=torch.float64)),\n",
       "             ('decoder_vsn.single_variable_grns.future_covariate_0.resample_norm.norm.weight',\n",
       "              tensor([1.3030, 0.9652, 0.9598, 0.8998], device='cuda:0', dtype=torch.float64)),\n",
       "             ('decoder_vsn.single_variable_grns.future_covariate_0.resample_norm.norm.bias',\n",
       "              tensor([-0.0452, -0.1970,  0.1287,  0.1497], device='cuda:0',\n",
       "                     dtype=torch.float64)),\n",
       "             ('decoder_vsn.single_variable_grns.future_covariate_0.fc1.weight',\n",
       "              tensor([[-0.7823,  0.2400,  0.0253,  0.0951,  0.3389,  0.3932,  0.4596, -0.4363],\n",
       "                      [ 0.0913, -0.7744, -0.5969,  0.9645, -0.9251, -0.4953, -0.0636,  0.2225],\n",
       "                      [ 0.2195, -0.3721, -0.4211, -0.8372, -1.6182,  0.6318,  0.2891, -0.1490],\n",
       "                      [ 0.2174, -0.1808,  0.1168,  0.0099, -0.4582,  0.1203,  0.3518, -0.9140]],\n",
       "                     device='cuda:0', dtype=torch.float64)),\n",
       "             ('decoder_vsn.single_variable_grns.future_covariate_0.fc1.bias',\n",
       "              tensor([-0.0555, -0.0770, -0.1702, -0.2098], device='cuda:0',\n",
       "                     dtype=torch.float64)),\n",
       "             ('decoder_vsn.single_variable_grns.future_covariate_0.fc2.weight',\n",
       "              tensor([[ 1.2168, -0.1271, -0.5301,  0.0689],\n",
       "                      [-0.9073, -0.3644,  0.1370,  0.8226],\n",
       "                      [ 0.3500,  1.7984,  0.0834, -0.1442],\n",
       "                      [-0.4760, -0.7326, -1.5577, -0.5585]], device='cuda:0',\n",
       "                     dtype=torch.float64)),\n",
       "             ('decoder_vsn.single_variable_grns.future_covariate_0.fc2.bias',\n",
       "              tensor([ 0.0034, -0.0782, -0.0476,  0.2383], device='cuda:0',\n",
       "                     dtype=torch.float64)),\n",
       "             ('decoder_vsn.single_variable_grns.future_covariate_0.gate_norm.glu.fc.weight',\n",
       "              tensor([[-0.4134, -0.1897, -0.2072,  0.5293],\n",
       "                      [ 0.5261, -0.3170, -0.5841,  0.1258],\n",
       "                      [ 0.0880, -0.5941, -0.4075,  0.2426],\n",
       "                      [-0.0573,  0.0105, -0.3924,  0.3114],\n",
       "                      [ 0.6741, -0.1154,  0.2347, -0.4536],\n",
       "                      [-0.2177,  0.8022,  0.1844, -0.4804],\n",
       "                      [ 0.2851,  0.4488, -0.1577,  0.4095],\n",
       "                      [ 0.2104,  0.5902,  0.3279,  0.3202]], device='cuda:0',\n",
       "                     dtype=torch.float64)),\n",
       "             ('decoder_vsn.single_variable_grns.future_covariate_0.gate_norm.glu.fc.bias',\n",
       "              tensor([ 0.0070, -0.1618,  0.1979,  0.1936, -0.1392, -0.0559, -0.1259,  0.0781],\n",
       "                     device='cuda:0', dtype=torch.float64)),\n",
       "             ('decoder_vsn.single_variable_grns.future_covariate_0.gate_norm.add_norm.norm.weight',\n",
       "              tensor([1.2705, 1.0592, 1.0582, 0.9427], device='cuda:0', dtype=torch.float64)),\n",
       "             ('decoder_vsn.single_variable_grns.future_covariate_0.gate_norm.add_norm.norm.bias',\n",
       "              tensor([-0.0061, -0.1227,  0.1012,  0.0241], device='cuda:0',\n",
       "                     dtype=torch.float64)),\n",
       "             ('decoder_vsn.single_variable_grns.future_covariate_1.resample_norm.mask',\n",
       "              tensor([ 0.0161, -0.0185,  0.0288, -0.0979], device='cuda:0',\n",
       "                     dtype=torch.float64)),\n",
       "             ('decoder_vsn.single_variable_grns.future_covariate_1.resample_norm.norm.weight',\n",
       "              tensor([1.0152, 0.9825, 1.0256, 1.0681], device='cuda:0', dtype=torch.float64)),\n",
       "             ('decoder_vsn.single_variable_grns.future_covariate_1.resample_norm.norm.bias',\n",
       "              tensor([ 0.0151,  0.0065, -0.0292,  0.0623], device='cuda:0',\n",
       "                     dtype=torch.float64)),\n",
       "             ('decoder_vsn.single_variable_grns.future_covariate_1.fc1.weight',\n",
       "              tensor([[ 0.1648, -0.6827,  0.3738, -1.6149, -0.5389,  0.0535,  0.3242, -0.4773],\n",
       "                      [-0.1285, -0.1244, -0.4524,  0.6659,  0.8103, -0.0323,  0.1356, -0.5226],\n",
       "                      [-0.0635,  0.3437, -0.2237,  0.1385, -0.4309, -0.0587,  0.3327, -0.6091],\n",
       "                      [ 0.0065,  1.2100, -0.3649,  0.0906,  0.5938, -0.4645,  0.4269,  0.7244]],\n",
       "                     device='cuda:0', dtype=torch.float64)),\n",
       "             ('decoder_vsn.single_variable_grns.future_covariate_1.fc1.bias',\n",
       "              tensor([-0.0519, -0.0387,  0.0467, -0.0690], device='cuda:0',\n",
       "                     dtype=torch.float64)),\n",
       "             ('decoder_vsn.single_variable_grns.future_covariate_1.fc2.weight',\n",
       "              tensor([[-0.3037,  0.6703, -0.4171, -0.6075],\n",
       "                      [ 0.3380, -0.3020, -0.9668, -0.1055],\n",
       "                      [-0.4789,  0.5723, -0.5788, -0.8274],\n",
       "                      [ 0.7035,  0.7382, -1.3971,  1.0654]], device='cuda:0',\n",
       "                     dtype=torch.float64)),\n",
       "             ('decoder_vsn.single_variable_grns.future_covariate_1.fc2.bias',\n",
       "              tensor([-0.0268, -0.0577, -0.0407, -0.0429], device='cuda:0',\n",
       "                     dtype=torch.float64)),\n",
       "             ('decoder_vsn.single_variable_grns.future_covariate_1.gate_norm.glu.fc.weight',\n",
       "              tensor([[-6.6196e-01, -4.7905e-01,  4.2510e-02, -4.2155e-01],\n",
       "                      [ 6.7780e-01,  3.7091e-01,  4.7578e-01,  3.9851e-01],\n",
       "                      [ 3.4216e-01,  2.3073e-01,  6.0398e-01,  3.9410e-01],\n",
       "                      [-9.8917e-02, -3.5788e-01, -4.0275e-01, -2.4367e-01],\n",
       "                      [ 2.4094e-01,  3.7595e-01, -4.5859e-01,  4.3906e-01],\n",
       "                      [ 4.6500e-01,  7.5854e-01,  1.9872e-01, -5.6636e-03],\n",
       "                      [-1.7970e-01,  2.7074e-01,  4.8754e-01,  4.6265e-01],\n",
       "                      [-2.3252e-01,  2.4355e-01,  2.6769e-04,  4.3823e-01]], device='cuda:0',\n",
       "                     dtype=torch.float64)),\n",
       "             ('decoder_vsn.single_variable_grns.future_covariate_1.gate_norm.glu.fc.bias',\n",
       "              tensor([ 0.0134, -0.0013, -0.0310,  0.0867, -0.0021,  0.0281, -0.0429, -0.0537],\n",
       "                     device='cuda:0', dtype=torch.float64)),\n",
       "             ('decoder_vsn.single_variable_grns.future_covariate_1.gate_norm.add_norm.norm.weight',\n",
       "              tensor([0.9619, 0.9785, 0.8985, 1.0233], device='cuda:0', dtype=torch.float64)),\n",
       "             ('decoder_vsn.single_variable_grns.future_covariate_1.gate_norm.add_norm.norm.bias',\n",
       "              tensor([-0.0370,  0.0128,  0.0102,  0.0629], device='cuda:0',\n",
       "                     dtype=torch.float64)),\n",
       "             ('decoder_vsn.single_variable_grns.future_covariate_2.resample_norm.mask',\n",
       "              tensor([ 0.1103, -0.0673, -0.0127,  0.0334], device='cuda:0',\n",
       "                     dtype=torch.float64)),\n",
       "             ('decoder_vsn.single_variable_grns.future_covariate_2.resample_norm.norm.weight',\n",
       "              tensor([1.0445, 0.9600, 0.9977, 1.0420], device='cuda:0', dtype=torch.float64)),\n",
       "             ('decoder_vsn.single_variable_grns.future_covariate_2.resample_norm.norm.bias',\n",
       "              tensor([-0.1567,  0.0599,  0.0482, -0.0563], device='cuda:0',\n",
       "                     dtype=torch.float64)),\n",
       "             ('decoder_vsn.single_variable_grns.future_covariate_2.fc1.weight',\n",
       "              tensor([[-0.1094,  0.2623,  0.2924, -0.1395, -0.1398, -0.3189, -0.0524,  1.6460],\n",
       "                      [-1.1882,  1.0274,  0.0376, -0.4344, -0.0976,  0.0070,  0.1773, -0.3906],\n",
       "                      [-1.0223,  0.6816, -1.5696,  0.6605, -0.2723,  0.6466, -0.2870, -0.1815],\n",
       "                      [-0.0255, -0.1704, -0.4943,  0.4882, -0.3350,  0.3763, -0.0649, -0.8345]],\n",
       "                     device='cuda:0', dtype=torch.float64)),\n",
       "             ('decoder_vsn.single_variable_grns.future_covariate_2.fc1.bias',\n",
       "              tensor([ 0.0638,  0.0075, -0.0549,  0.0315], device='cuda:0',\n",
       "                     dtype=torch.float64)),\n",
       "             ('decoder_vsn.single_variable_grns.future_covariate_2.fc2.weight',\n",
       "              tensor([[-0.5188,  0.9398, -0.1468,  0.1060],\n",
       "                      [-0.5208,  0.5813,  1.0246,  0.4473],\n",
       "                      [-0.6271, -0.8089, -0.4060, -0.3218],\n",
       "                      [-0.0146, -0.1398, -0.4680,  0.7449]], device='cuda:0',\n",
       "                     dtype=torch.float64)),\n",
       "             ('decoder_vsn.single_variable_grns.future_covariate_2.fc2.bias',\n",
       "              tensor([-0.0019, -0.0439, -0.0275,  0.0509], device='cuda:0',\n",
       "                     dtype=torch.float64)),\n",
       "             ('decoder_vsn.single_variable_grns.future_covariate_2.gate_norm.glu.fc.weight',\n",
       "              tensor([[ 0.0183,  0.3905,  0.3575, -0.1328],\n",
       "                      [ 0.5423, -0.1210, -0.6962,  0.6382],\n",
       "                      [ 0.0684,  0.4093,  0.1774, -0.5636],\n",
       "                      [ 0.2020,  0.1659,  0.5946,  0.2027],\n",
       "                      [ 0.3339, -0.7266, -0.0024, -0.0620],\n",
       "                      [ 0.6166, -0.1504, -0.1540, -0.2618],\n",
       "                      [-0.6283, -0.2373, -0.5773,  0.2586],\n",
       "                      [-0.1406, -0.2035, -0.6252, -0.5357]], device='cuda:0',\n",
       "                     dtype=torch.float64)),\n",
       "             ('decoder_vsn.single_variable_grns.future_covariate_2.gate_norm.glu.fc.bias',\n",
       "              tensor([-0.0945,  0.0493,  0.0787, -0.0449, -0.0512,  0.0240, -0.0240, -0.3158],\n",
       "                     device='cuda:0', dtype=torch.float64)),\n",
       "             ('decoder_vsn.single_variable_grns.future_covariate_2.gate_norm.add_norm.norm.weight',\n",
       "              tensor([0.8834, 0.8467, 0.9356, 0.8627], device='cuda:0', dtype=torch.float64)),\n",
       "             ('decoder_vsn.single_variable_grns.future_covariate_2.gate_norm.add_norm.norm.bias',\n",
       "              tensor([ 0.0149,  0.0133, -0.0325,  0.0554], device='cuda:0',\n",
       "                     dtype=torch.float64)),\n",
       "             ('decoder_vsn.single_variable_grns.future_covariate_3.resample_norm.mask',\n",
       "              tensor([-0.0021, -0.0580,  0.0455,  0.0153], device='cuda:0',\n",
       "                     dtype=torch.float64)),\n",
       "             ('decoder_vsn.single_variable_grns.future_covariate_3.resample_norm.norm.weight',\n",
       "              tensor([0.9994, 0.9420, 1.0715, 1.0238], device='cuda:0', dtype=torch.float64)),\n",
       "             ('decoder_vsn.single_variable_grns.future_covariate_3.resample_norm.norm.bias',\n",
       "              tensor([-0.0160, -0.0435,  0.0994, -0.0332], device='cuda:0',\n",
       "                     dtype=torch.float64)),\n",
       "             ('decoder_vsn.single_variable_grns.future_covariate_3.fc1.weight',\n",
       "              tensor([[-0.1319, -1.0241, -0.0535,  1.0618,  0.2402,  0.0492,  0.0153,  0.1986],\n",
       "                      [-0.5124,  0.1387, -0.3896,  1.0662,  0.1460,  0.1007, -0.2179,  0.3977],\n",
       "                      [-0.1044,  0.1285,  0.1457,  0.0848,  1.0023, -0.4433, -0.1694,  0.2086],\n",
       "                      [ 0.6529, -0.3347,  0.1616, -0.4613, -0.7345,  0.3738, -0.2192,  0.1281]],\n",
       "                     device='cuda:0', dtype=torch.float64)),\n",
       "             ('decoder_vsn.single_variable_grns.future_covariate_3.fc1.bias',\n",
       "              tensor([-0.0536,  0.0683,  0.0840, -0.1486], device='cuda:0',\n",
       "                     dtype=torch.float64)),\n",
       "             ('decoder_vsn.single_variable_grns.future_covariate_3.fc2.weight',\n",
       "              tensor([[-0.3560,  0.0109, -1.3886,  0.8275],\n",
       "                      [ 0.3236,  0.7443, -0.4842, -1.2642],\n",
       "                      [-0.2554,  0.6698, -0.0835,  0.1667],\n",
       "                      [ 0.8663,  0.5024, -1.1068,  0.8422]], device='cuda:0',\n",
       "                     dtype=torch.float64)),\n",
       "             ('decoder_vsn.single_variable_grns.future_covariate_3.fc2.bias',\n",
       "              tensor([ 0.0124,  0.0764,  0.0991, -0.0520], device='cuda:0',\n",
       "                     dtype=torch.float64)),\n",
       "             ('decoder_vsn.single_variable_grns.future_covariate_3.gate_norm.glu.fc.weight',\n",
       "              tensor([[ 0.6236, -0.2199,  0.6280,  0.1556],\n",
       "                      [-0.5222, -0.5020, -0.4845, -0.1024],\n",
       "                      [ 0.2377,  0.0492,  0.1836,  0.3942],\n",
       "                      [-0.2238, -0.2676, -0.2879,  0.4827],\n",
       "                      [ 0.3709,  0.3734,  0.4877, -0.6455],\n",
       "                      [ 0.2309, -0.5632,  0.2220, -0.4051],\n",
       "                      [ 0.5236,  0.5996, -0.4277, -0.1553],\n",
       "                      [ 0.0670, -0.4264,  0.6906, -0.5172]], device='cuda:0',\n",
       "                     dtype=torch.float64)),\n",
       "             ('decoder_vsn.single_variable_grns.future_covariate_3.gate_norm.glu.fc.bias',\n",
       "              tensor([-0.0097, -0.0345,  0.1779, -0.0721, -0.0256, -0.1450,  0.0602, -0.0408],\n",
       "                     device='cuda:0', dtype=torch.float64)),\n",
       "             ('decoder_vsn.single_variable_grns.future_covariate_3.gate_norm.add_norm.norm.weight',\n",
       "              tensor([0.9572, 0.8592, 0.9388, 0.9593], device='cuda:0', dtype=torch.float64)),\n",
       "             ('decoder_vsn.single_variable_grns.future_covariate_3.gate_norm.add_norm.norm.bias',\n",
       "              tensor([ 0.0266, -0.1273,  0.0131,  0.0255], device='cuda:0',\n",
       "                     dtype=torch.float64)),\n",
       "             ('decoder_vsn.prescalers.future_covariate_0.weight',\n",
       "              tensor([[-0.2584],\n",
       "                      [ 0.4298],\n",
       "                      [ 0.9284],\n",
       "                      [-0.0628],\n",
       "                      [-0.3297],\n",
       "                      [-0.4497],\n",
       "                      [-0.9587],\n",
       "                      [-0.4528]], device='cuda:0', dtype=torch.float64)),\n",
       "             ('decoder_vsn.prescalers.future_covariate_0.bias',\n",
       "              tensor([ 0.1475,  0.8412, -0.8488,  0.7718, -0.0473, -0.7409, -0.2922, -0.4542],\n",
       "                     device='cuda:0', dtype=torch.float64)),\n",
       "             ('decoder_vsn.prescalers.future_covariate_1.weight',\n",
       "              tensor([[ 0.3186],\n",
       "                      [-0.5096],\n",
       "                      [ 0.2660],\n",
       "                      [ 0.7640],\n",
       "                      [-0.7751],\n",
       "                      [ 0.4495],\n",
       "                      [ 0.4212],\n",
       "                      [ 0.0873]], device='cuda:0', dtype=torch.float64)),\n",
       "             ('decoder_vsn.prescalers.future_covariate_1.bias',\n",
       "              tensor([ 0.8024, -0.8332, -0.2973, -0.0989, -0.9526, -0.6168,  0.7123, -0.1952],\n",
       "                     device='cuda:0', dtype=torch.float64)),\n",
       "             ('decoder_vsn.prescalers.future_covariate_2.weight',\n",
       "              tensor([[-0.1950],\n",
       "                      [-0.6748],\n",
       "                      [ 0.7198],\n",
       "                      [ 0.3690],\n",
       "                      [-0.6300],\n",
       "                      [ 0.0313],\n",
       "                      [ 0.5015],\n",
       "                      [ 0.3719]], device='cuda:0', dtype=torch.float64)),\n",
       "             ('decoder_vsn.prescalers.future_covariate_2.bias',\n",
       "              tensor([-0.8913,  0.4613,  0.0715,  0.6433, -0.8310,  0.5854,  0.5017, -0.6182],\n",
       "                     device='cuda:0', dtype=torch.float64)),\n",
       "             ('decoder_vsn.prescalers.future_covariate_3.weight',\n",
       "              tensor([[-0.3022],\n",
       "                      [-0.8079],\n",
       "                      [ 0.6690],\n",
       "                      [ 0.7872],\n",
       "                      [-0.5774],\n",
       "                      [ 0.3385],\n",
       "                      [ 0.9097],\n",
       "                      [-0.9086]], device='cuda:0', dtype=torch.float64)),\n",
       "             ('decoder_vsn.prescalers.future_covariate_3.bias',\n",
       "              tensor([-0.4442,  0.1406,  1.0164, -0.9030,  0.8972,  0.7680, -0.6526,  0.2512],\n",
       "                     device='cuda:0', dtype=torch.float64)),\n",
       "             ('static_context_grn.fc1.weight',\n",
       "              tensor([[-0.1322, -0.5094, -0.5966, -0.7524],\n",
       "                      [-1.0854, -0.6810, -0.9739, -0.4840],\n",
       "                      [ 0.1343,  0.3464,  0.1120, -0.9160],\n",
       "                      [ 0.4100,  0.0916, -0.3600,  0.0850]], device='cuda:0',\n",
       "                     dtype=torch.float64)),\n",
       "             ('static_context_grn.fc1.bias',\n",
       "              tensor([ 0.0110,  0.0166, -0.0095, -0.0137], device='cuda:0',\n",
       "                     dtype=torch.float64)),\n",
       "             ('static_context_grn.fc2.weight',\n",
       "              tensor([[-0.2334, -0.2654, -0.4721,  0.1756],\n",
       "                      [ 0.2513,  0.2989,  1.0643,  0.1934],\n",
       "                      [ 0.0980, -1.2484,  0.1605,  1.0030],\n",
       "                      [-0.3961, -0.8140, -0.2697,  0.0702]], device='cuda:0',\n",
       "                     dtype=torch.float64)),\n",
       "             ('static_context_grn.fc2.bias',\n",
       "              tensor([ 0.0058, -0.0053, -0.0101, -0.0125], device='cuda:0',\n",
       "                     dtype=torch.float64)),\n",
       "             ('static_context_grn.gate_norm.glu.fc.weight',\n",
       "              tensor([[-0.1382,  0.1284,  0.3042, -0.5501],\n",
       "                      [ 0.0371, -0.3110,  0.4958, -0.3903],\n",
       "                      [ 0.3364,  0.4754,  0.3020,  0.4846],\n",
       "                      [ 0.5266,  0.1848, -0.4408, -0.6331],\n",
       "                      [ 0.3488,  0.0458,  0.7610,  0.7387],\n",
       "                      [ 0.3164,  0.2462, -0.1549,  0.7303],\n",
       "                      [ 0.0276,  0.1885,  0.1219, -0.1405],\n",
       "                      [ 0.4977, -0.4882,  0.2839, -0.5717]], device='cuda:0',\n",
       "                     dtype=torch.float64)),\n",
       "             ('static_context_grn.gate_norm.glu.fc.bias',\n",
       "              tensor([ 1.0903e-03,  1.7509e-05, -1.4195e-02,  2.0953e-02, -5.7169e-02,\n",
       "                      -6.1932e-02,  6.8066e-02,  4.1962e-02], device='cuda:0',\n",
       "                     dtype=torch.float64)),\n",
       "             ('static_context_grn.gate_norm.add_norm.norm.weight',\n",
       "              tensor([1.0283, 1.0497, 1.1802, 1.1225], device='cuda:0', dtype=torch.float64)),\n",
       "             ('static_context_grn.gate_norm.add_norm.norm.bias',\n",
       "              tensor([-0.1069, -0.0944, -0.1108,  0.1207], device='cuda:0',\n",
       "                     dtype=torch.float64)),\n",
       "             ('static_context_hidden_encoder_grn.fc1.weight',\n",
       "              tensor([[-1.0726,  0.4534, -0.4738, -0.5696],\n",
       "                      [-0.5786, -0.5806, -0.8242, -0.3766],\n",
       "                      [-0.8380, -1.2783, -0.6980, -0.2762],\n",
       "                      [-0.3434,  0.0714,  0.2469,  0.9384]], device='cuda:0',\n",
       "                     dtype=torch.float64)),\n",
       "             ('static_context_hidden_encoder_grn.fc1.bias',\n",
       "              tensor([ 0.0139, -0.0059, -0.0076,  0.0095], device='cuda:0',\n",
       "                     dtype=torch.float64)),\n",
       "             ('static_context_hidden_encoder_grn.fc2.weight',\n",
       "              tensor([[ 0.9529,  0.3942, -0.1027,  0.3874],\n",
       "                      [-0.2235, -1.3217, -0.5234, -0.2230],\n",
       "                      [-0.5097,  0.1556, -1.5039,  0.3058],\n",
       "                      [ 0.1793,  0.2146,  0.5509, -0.6531]], device='cuda:0',\n",
       "                     dtype=torch.float64)),\n",
       "             ('static_context_hidden_encoder_grn.fc2.bias',\n",
       "              tensor([ 0.0142,  0.0078, -0.0049, -0.0076], device='cuda:0',\n",
       "                     dtype=torch.float64)),\n",
       "             ('static_context_hidden_encoder_grn.gate_norm.glu.fc.weight',\n",
       "              tensor([[ 0.4448, -0.4010, -0.1830,  0.3624],\n",
       "                      [ 0.0848, -0.5652,  0.3952,  0.4731],\n",
       "                      [ 0.4643,  0.3985,  0.5237, -0.6449],\n",
       "                      [-0.1453, -0.5265,  0.2428,  0.5877],\n",
       "                      [-0.5084, -0.1438, -0.0075, -0.4513],\n",
       "                      [ 0.4952,  0.2757, -0.0507,  0.3223],\n",
       "                      [-0.0257, -0.4337, -0.3056,  0.0810],\n",
       "                      [ 0.1751, -0.0905, -0.7435, -0.1629]], device='cuda:0',\n",
       "                     dtype=torch.float64)),\n",
       "             ('static_context_hidden_encoder_grn.gate_norm.glu.fc.bias',\n",
       "              tensor([ 0.0254, -0.0226,  0.0112, -0.0159,  0.0999,  0.0715, -0.0989,  0.0220],\n",
       "                     device='cuda:0', dtype=torch.float64)),\n",
       "             ('static_context_hidden_encoder_grn.gate_norm.add_norm.norm.weight',\n",
       "              tensor([1.0410, 1.0163, 1.0132, 0.9939], device='cuda:0', dtype=torch.float64)),\n",
       "             ('static_context_hidden_encoder_grn.gate_norm.add_norm.norm.bias',\n",
       "              tensor([ 0.0307, -0.0144,  0.0296,  0.0041], device='cuda:0',\n",
       "                     dtype=torch.float64)),\n",
       "             ('static_context_cell_encoder_grn.fc1.weight',\n",
       "              tensor([[ 0.0894,  0.0852,  0.7648, -0.9196],\n",
       "                      [-1.5929, -0.6717, -0.1419,  0.0769],\n",
       "                      [ 0.5326,  0.8721,  0.1975, -0.5205],\n",
       "                      [ 0.2062, -0.4856, -0.1845, -0.3037]], device='cuda:0',\n",
       "                     dtype=torch.float64)),\n",
       "             ('static_context_cell_encoder_grn.fc1.bias',\n",
       "              tensor([-0.0038, -0.0123, -0.0004, -0.0059], device='cuda:0',\n",
       "                     dtype=torch.float64)),\n",
       "             ('static_context_cell_encoder_grn.fc2.weight',\n",
       "              tensor([[-0.7651,  0.1092, -0.6188,  0.0292],\n",
       "                      [-1.7657,  0.3803, -0.2839, -0.2014],\n",
       "                      [-0.4710, -1.2398, -0.2230, -0.5446],\n",
       "                      [-1.0750,  0.7261, -1.3083, -0.4503]], device='cuda:0',\n",
       "                     dtype=torch.float64)),\n",
       "             ('static_context_cell_encoder_grn.fc2.bias',\n",
       "              tensor([ 0.0231, -0.0026,  0.0105, -0.0055], device='cuda:0',\n",
       "                     dtype=torch.float64)),\n",
       "             ('static_context_cell_encoder_grn.gate_norm.glu.fc.weight',\n",
       "              tensor([[ 0.6655,  0.3926,  0.6231, -0.5510],\n",
       "                      [ 0.6062, -0.2100,  0.7150, -0.0056],\n",
       "                      [ 0.5903, -0.6582,  0.0750,  0.5730],\n",
       "                      [ 0.1131, -0.1654, -0.7009, -0.2178],\n",
       "                      [ 0.5403,  0.5940, -0.0472,  0.1302],\n",
       "                      [-0.6384, -0.2936,  0.3257,  0.1049],\n",
       "                      [-0.3516, -0.2075,  0.3649,  0.2166],\n",
       "                      [ 0.0614,  0.6280, -0.2128, -0.4293]], device='cuda:0',\n",
       "                     dtype=torch.float64)),\n",
       "             ('static_context_cell_encoder_grn.gate_norm.glu.fc.bias',\n",
       "              tensor([-0.0076,  0.0173, -0.0145, -0.0240, -0.0374,  0.0343, -0.0289,  0.0334],\n",
       "                     device='cuda:0', dtype=torch.float64)),\n",
       "             ('static_context_cell_encoder_grn.gate_norm.add_norm.norm.weight',\n",
       "              tensor([0.9581, 0.9895, 1.0056, 1.0239], device='cuda:0', dtype=torch.float64)),\n",
       "             ('static_context_cell_encoder_grn.gate_norm.add_norm.norm.bias',\n",
       "              tensor([-0.0358, -0.0259, -0.0333, -0.0261], device='cuda:0',\n",
       "                     dtype=torch.float64)),\n",
       "             ('static_context_enrichment.fc1.weight',\n",
       "              tensor([[ 0.0737, -0.5811, -0.0394,  0.2296],\n",
       "                      [ 0.5234,  0.6048, -0.2583,  0.1848],\n",
       "                      [-0.6325, -0.7631,  0.4683, -0.3312],\n",
       "                      [ 0.0189,  0.9105, -0.7200, -0.6717]], device='cuda:0',\n",
       "                     dtype=torch.float64)),\n",
       "             ('static_context_enrichment.fc1.bias',\n",
       "              tensor([ 0.0018, -0.0016,  0.0072,  0.0025], device='cuda:0',\n",
       "                     dtype=torch.float64)),\n",
       "             ('static_context_enrichment.fc2.weight',\n",
       "              tensor([[ 1.1486,  0.0538, -0.4336,  1.0157],\n",
       "                      [-1.1434,  1.0525,  0.8842,  0.0750],\n",
       "                      [-0.4311, -0.1715,  0.8612, -0.4303],\n",
       "                      [-0.4630,  0.5992, -1.0014,  0.0991]], device='cuda:0',\n",
       "                     dtype=torch.float64)),\n",
       "             ('static_context_enrichment.fc2.bias',\n",
       "              tensor([ 0.0072, -0.0018,  0.0160,  0.0080], device='cuda:0',\n",
       "                     dtype=torch.float64)),\n",
       "             ('static_context_enrichment.gate_norm.glu.fc.weight',\n",
       "              tensor([[ 0.7861, -0.6982,  0.6350,  0.1625],\n",
       "                      [ 0.2921,  0.5549,  0.0804, -0.1623],\n",
       "                      [ 0.4616,  0.5730,  0.1854, -0.3987],\n",
       "                      [-0.2937,  0.1774, -0.2914,  0.1539],\n",
       "                      [-0.4129,  0.6114, -0.2883, -0.3415],\n",
       "                      [-0.4800,  0.3842, -0.3840, -0.3940],\n",
       "                      [ 0.6528,  0.0421, -0.2226, -0.5725],\n",
       "                      [-0.2987, -0.6550,  0.4290, -0.0738]], device='cuda:0',\n",
       "                     dtype=torch.float64)),\n",
       "             ('static_context_enrichment.gate_norm.glu.fc.bias',\n",
       "              tensor([ 0.0167, -0.0058,  0.0102, -0.0181,  0.0947, -0.1156, -0.0202,  0.0182],\n",
       "                     device='cuda:0', dtype=torch.float64)),\n",
       "             ('static_context_enrichment.gate_norm.add_norm.norm.weight',\n",
       "              tensor([1.0539, 0.9164, 0.9805, 0.9870], device='cuda:0', dtype=torch.float64)),\n",
       "             ('static_context_enrichment.gate_norm.add_norm.norm.bias',\n",
       "              tensor([ 0.0358, -0.0378,  0.0128, -0.0018], device='cuda:0',\n",
       "                     dtype=torch.float64)),\n",
       "             ('lstm_encoder.weight_ih_l0',\n",
       "              tensor([[ 0.1415, -0.0328, -0.3181,  0.4224],\n",
       "                      [ 0.0142, -0.2742, -0.2741, -0.0100],\n",
       "                      [ 0.2123, -0.3821,  0.2973, -0.4612],\n",
       "                      [ 0.2046,  0.2174, -0.1809, -0.0622],\n",
       "                      [-0.0065, -0.3058, -0.4996, -0.1237],\n",
       "                      [-0.1527, -0.1698,  0.1983, -0.0622],\n",
       "                      [-0.1259,  0.2190, -0.2279,  0.1310],\n",
       "                      [-0.3259, -0.0791, -0.0746, -0.0007],\n",
       "                      [ 0.3185,  0.2694, -0.0745,  0.3325],\n",
       "                      [-0.5639, -0.2133,  0.3356,  0.0480],\n",
       "                      [-0.2215, -0.0896, -0.2101,  0.1592],\n",
       "                      [-0.5084, -0.3962,  0.5447,  0.3058],\n",
       "                      [-0.4480, -0.1384, -0.1404,  0.3032],\n",
       "                      [-0.3904, -0.0037,  0.1580,  0.3655],\n",
       "                      [ 0.1180,  0.3846,  0.2679, -0.3009],\n",
       "                      [-0.4593,  0.5674, -0.5789, -0.2649]], device='cuda:0',\n",
       "                     dtype=torch.float64)),\n",
       "             ('lstm_encoder.weight_hh_l0',\n",
       "              tensor([[-0.0465,  0.2197, -0.1179, -0.4885],\n",
       "                      [ 0.1166,  0.0345, -0.1992, -0.5237],\n",
       "                      [-0.0711, -0.5022, -0.5271, -0.2089],\n",
       "                      [-0.4343,  0.0437,  0.3270,  0.0573],\n",
       "                      [ 0.4211,  0.2842, -0.2062,  0.1788],\n",
       "                      [-0.3025, -0.0845,  0.1033, -0.5060],\n",
       "                      [-0.2274,  0.2429, -0.0477, -0.1288],\n",
       "                      [ 0.2287,  0.3750,  0.3703,  0.3575],\n",
       "                      [-0.1163,  0.3734, -0.4450,  0.1248],\n",
       "                      [-0.4766,  0.1507,  0.5505,  0.4554],\n",
       "                      [ 0.2555, -0.1165, -0.2986, -0.2901],\n",
       "                      [-0.4987,  0.0254, -0.2088, -0.1084],\n",
       "                      [-0.2987,  0.2964,  0.3963, -0.1018],\n",
       "                      [-0.7476,  0.1425,  0.0880,  0.4174],\n",
       "                      [ 0.1856,  0.1049, -0.2734,  0.3438],\n",
       "                      [-0.1006,  0.2406,  0.0363,  0.3036]], device='cuda:0',\n",
       "                     dtype=torch.float64)),\n",
       "             ('lstm_encoder.bias_ih_l0',\n",
       "              tensor([ 0.1032,  0.1797, -0.4143,  0.3326,  0.4131,  0.0065, -0.1362, -0.2110,\n",
       "                      -0.0651,  0.0734,  0.3561,  0.2386, -0.2836, -0.0143, -0.1201,  0.2764],\n",
       "                     device='cuda:0', dtype=torch.float64)),\n",
       "             ('lstm_encoder.bias_hh_l0',\n",
       "              tensor([ 0.0695, -0.2484,  0.0278, -0.1525,  0.2128, -0.2474,  0.1968,  0.3006,\n",
       "                      -0.2431,  0.1285, -0.1198, -0.0897,  0.4520, -0.0160, -0.0800,  0.3964],\n",
       "                     device='cuda:0', dtype=torch.float64)),\n",
       "             ('lstm_decoder.weight_ih_l0',\n",
       "              tensor([[-0.0139, -0.4004,  0.5207,  0.2103],\n",
       "                      [-0.2887,  0.6115,  0.0030, -0.3166],\n",
       "                      [-0.3305,  0.3939, -0.2740,  0.2830],\n",
       "                      [ 0.0730,  0.0441,  0.5584,  0.2398],\n",
       "                      [-0.1196,  0.2149,  0.3839, -0.1371],\n",
       "                      [-0.4148,  0.5680, -0.4763,  0.2152],\n",
       "                      [-0.6169,  0.2655, -0.1634, -0.0687],\n",
       "                      [-0.0401,  0.2596,  0.0068, -0.0734],\n",
       "                      [-0.0963, -0.0765, -0.0645,  0.4566],\n",
       "                      [ 0.4561, -0.4932, -0.3711, -0.1254],\n",
       "                      [-0.0807,  0.3979, -0.2475,  0.3426],\n",
       "                      [-0.1893, -0.4895,  0.1779,  0.0461],\n",
       "                      [ 0.4186,  0.2307,  0.0875, -0.0836],\n",
       "                      [-0.0366,  0.5720, -0.2275,  0.0620],\n",
       "                      [-0.6410,  0.2610, -0.2659,  0.2264],\n",
       "                      [-0.4131, -0.0366, -0.2010,  0.0806]], device='cuda:0',\n",
       "                     dtype=torch.float64)),\n",
       "             ('lstm_decoder.weight_hh_l0',\n",
       "              tensor([[ 0.2397,  0.2590, -0.0088, -0.2028],\n",
       "                      [-0.5000, -0.9477, -0.2528, -0.6735],\n",
       "                      [-0.1818, -0.6931,  0.1905, -0.2336],\n",
       "                      [ 0.0223,  0.7498, -0.5283,  0.2839],\n",
       "                      [ 0.3211,  0.4022, -0.4606, -0.4527],\n",
       "                      [ 0.2491, -0.8166,  0.5149, -0.2732],\n",
       "                      [-0.3549, -0.3129, -0.1518,  0.0657],\n",
       "                      [ 0.3219,  0.3778,  0.2046,  0.3898],\n",
       "                      [-0.1854, -0.1168, -0.5029,  0.4265],\n",
       "                      [-0.0794,  0.0504, -0.4742,  0.0760],\n",
       "                      [ 0.0906, -0.7235,  0.3784, -0.0283],\n",
       "                      [ 0.0996,  0.0981, -0.0050, -0.1305],\n",
       "                      [-0.4710,  0.4620,  0.2379,  0.3396],\n",
       "                      [ 0.3556, -0.9931,  0.8321, -0.2606],\n",
       "                      [-0.3228, -0.6282, -0.1599, -0.0273],\n",
       "                      [-0.5489,  0.7713, -0.1545,  0.5103]], device='cuda:0',\n",
       "                     dtype=torch.float64)),\n",
       "             ('lstm_decoder.bias_ih_l0',\n",
       "              tensor([-0.4016,  0.5624,  0.2947, -0.5246,  0.3006,  0.5239,  0.3829, -0.3359,\n",
       "                       0.3060,  0.3689, -0.0811, -0.2188, -0.3341,  0.1289, -0.4012, -0.4771],\n",
       "                     device='cuda:0', dtype=torch.float64)),\n",
       "             ('lstm_decoder.bias_hh_l0',\n",
       "              tensor([-0.3008,  0.2249,  0.2608,  0.2783, -0.4349, -0.1853, -0.2376, -0.5543,\n",
       "                      -0.2324, -0.3249, -0.3636, -0.2498, -0.2252,  0.0447, -0.1205, -0.3407],\n",
       "                     device='cuda:0', dtype=torch.float64)),\n",
       "             ('post_lstm_gan.glu.fc.weight',\n",
       "              tensor([[-0.5451,  0.0255, -0.5073, -0.3372],\n",
       "                      [-0.4822, -0.2805,  0.1247, -0.3805],\n",
       "                      [ 0.2170, -0.3444,  0.4946,  0.3118],\n",
       "                      [ 0.0674, -0.6564,  0.2617,  0.4915],\n",
       "                      [-0.4711, -0.8491,  0.3653,  0.3112],\n",
       "                      [-0.5406, -0.0257, -0.6604, -0.3221],\n",
       "                      [ 0.2407,  0.3028,  0.3818,  0.3487],\n",
       "                      [-0.3311, -1.1095,  0.5374,  0.6848]], device='cuda:0',\n",
       "                     dtype=torch.float64)),\n",
       "             ('post_lstm_gan.glu.fc.bias',\n",
       "              tensor([ 0.0098, -0.1338,  0.0169,  0.0167,  0.0614, -0.0337, -0.0174, -0.0222],\n",
       "                     device='cuda:0', dtype=torch.float64)),\n",
       "             ('post_lstm_gan.add_norm.norm.weight',\n",
       "              tensor([1.2967, 0.9776, 0.9067, 0.9342], device='cuda:0', dtype=torch.float64)),\n",
       "             ('post_lstm_gan.add_norm.norm.bias',\n",
       "              tensor([ 0.0117, -0.1390,  0.0603,  0.0202], device='cuda:0',\n",
       "                     dtype=torch.float64)),\n",
       "             ('static_enrichment_grn.fc1.weight',\n",
       "              tensor([[ 0.1606, -0.3336, -1.3041,  0.8423],\n",
       "                      [-1.1878, -0.0596, -0.2470,  0.1461],\n",
       "                      [-0.9881,  0.1613,  0.4404,  0.3854],\n",
       "                      [-1.8920,  0.2201, -0.0257, -1.3702]], device='cuda:0',\n",
       "                     dtype=torch.float64)),\n",
       "             ('static_enrichment_grn.fc1.bias',\n",
       "              tensor([-0.0055, -0.0333,  0.0038,  0.0002], device='cuda:0',\n",
       "                     dtype=torch.float64)),\n",
       "             ('static_enrichment_grn.context.weight',\n",
       "              tensor([[-0.8395,  0.4897, -0.7158, -0.7285],\n",
       "                      [-0.8439,  0.3835, -0.0976,  0.1887],\n",
       "                      [-0.2225,  0.3995,  0.4007, -0.0192],\n",
       "                      [-0.0935,  0.0640,  0.2813, -0.6771]], device='cuda:0',\n",
       "                     dtype=torch.float64)),\n",
       "             ('static_enrichment_grn.fc2.weight',\n",
       "              tensor([[-0.4857,  0.7120, -1.0695, -0.3379],\n",
       "                      [-0.6856,  0.7336,  0.5568, -0.6486],\n",
       "                      [-1.1239, -0.3536,  0.5734,  0.0244],\n",
       "                      [-0.0130,  0.4716, -1.1890, -0.5271]], device='cuda:0',\n",
       "                     dtype=torch.float64)),\n",
       "             ('static_enrichment_grn.fc2.bias',\n",
       "              tensor([-0.0687,  0.0743, -0.0840, -0.0051], device='cuda:0',\n",
       "                     dtype=torch.float64)),\n",
       "             ('static_enrichment_grn.gate_norm.glu.fc.weight',\n",
       "              tensor([[ 0.4668,  0.3550, -0.3656, -0.1033],\n",
       "                      [-0.4339,  0.6767,  0.0076, -0.7753],\n",
       "                      [-0.0410,  0.2563,  0.5473, -0.3881],\n",
       "                      [ 0.2787,  0.4485, -0.5317, -0.5658],\n",
       "                      [ 0.4154, -0.6255, -0.0424,  0.4608],\n",
       "                      [ 0.6746,  0.2703, -0.1805,  0.0727],\n",
       "                      [ 0.6240,  0.2568, -0.4895,  0.3392],\n",
       "                      [ 0.8622,  0.2252,  0.0169, -0.0268]], device='cuda:0',\n",
       "                     dtype=torch.float64)),\n",
       "             ('static_enrichment_grn.gate_norm.glu.fc.bias',\n",
       "              tensor([-0.0006,  0.0212,  0.0755, -0.0667, -0.0141,  0.1213,  0.0701, -0.1445],\n",
       "                     device='cuda:0', dtype=torch.float64)),\n",
       "             ('static_enrichment_grn.gate_norm.add_norm.norm.weight',\n",
       "              tensor([1.1452, 0.9144, 0.9225, 1.0132], device='cuda:0', dtype=torch.float64)),\n",
       "             ('static_enrichment_grn.gate_norm.add_norm.norm.bias',\n",
       "              tensor([-0.0534,  0.0268,  0.0677, -0.0253], device='cuda:0',\n",
       "                     dtype=torch.float64)),\n",
       "             ('multihead_attn.v_layer.weight',\n",
       "              tensor([[ 0.3492, -0.6926, -1.0622, -0.7059]], device='cuda:0',\n",
       "                     dtype=torch.float64)),\n",
       "             ('multihead_attn.v_layer.bias',\n",
       "              tensor([0.0163], device='cuda:0', dtype=torch.float64)),\n",
       "             ('multihead_attn.q_layers.0.weight',\n",
       "              tensor([[-0.7989,  0.2029,  0.2496, -1.0323]], device='cuda:0',\n",
       "                     dtype=torch.float64)),\n",
       "             ('multihead_attn.q_layers.0.bias',\n",
       "              tensor([0.0772], device='cuda:0', dtype=torch.float64)),\n",
       "             ('multihead_attn.q_layers.1.weight',\n",
       "              tensor([[-0.0272, -0.4805,  1.0156,  0.0422]], device='cuda:0',\n",
       "                     dtype=torch.float64)),\n",
       "             ('multihead_attn.q_layers.1.bias',\n",
       "              tensor([-0.2031], device='cuda:0', dtype=torch.float64)),\n",
       "             ('multihead_attn.q_layers.2.weight',\n",
       "              tensor([[-0.4710,  0.5165,  0.2718,  0.4183]], device='cuda:0',\n",
       "                     dtype=torch.float64)),\n",
       "             ('multihead_attn.q_layers.2.bias',\n",
       "              tensor([-0.0161], device='cuda:0', dtype=torch.float64)),\n",
       "             ('multihead_attn.q_layers.3.weight',\n",
       "              tensor([[ 0.0879, -0.5063, -0.1149, -1.0429]], device='cuda:0',\n",
       "                     dtype=torch.float64)),\n",
       "             ('multihead_attn.q_layers.3.bias',\n",
       "              tensor([0.0304], device='cuda:0', dtype=torch.float64)),\n",
       "             ('multihead_attn.k_layers.0.weight',\n",
       "              tensor([[ 0.6793, -0.8936, -0.6811,  0.6665]], device='cuda:0',\n",
       "                     dtype=torch.float64)),\n",
       "             ('multihead_attn.k_layers.0.bias',\n",
       "              tensor([3.0518e-13], device='cuda:0', dtype=torch.float64)),\n",
       "             ('multihead_attn.k_layers.1.weight',\n",
       "              tensor([[0.1075, 0.2056, 1.2708, 0.1073]], device='cuda:0',\n",
       "                     dtype=torch.float64)),\n",
       "             ('multihead_attn.k_layers.1.bias',\n",
       "              tensor([6.0164e-14], device='cuda:0', dtype=torch.float64)),\n",
       "             ('multihead_attn.k_layers.2.weight',\n",
       "              tensor([[ 0.1661, -0.4897, -0.3969,  0.1938]], device='cuda:0',\n",
       "                     dtype=torch.float64)),\n",
       "             ('multihead_attn.k_layers.2.bias',\n",
       "              tensor([-8.7243e-14], device='cuda:0', dtype=torch.float64)),\n",
       "             ('multihead_attn.k_layers.3.weight',\n",
       "              tensor([[-0.1012,  1.0217,  0.6301, -0.3125]], device='cuda:0',\n",
       "                     dtype=torch.float64)),\n",
       "             ('multihead_attn.k_layers.3.bias',\n",
       "              tensor([-4.3748e-13], device='cuda:0', dtype=torch.float64)),\n",
       "             ('multihead_attn.w_h.weight',\n",
       "              tensor([[ 0.7883],\n",
       "                      [ 0.8180],\n",
       "                      [-0.4545],\n",
       "                      [-0.4450]], device='cuda:0', dtype=torch.float64)),\n",
       "             ('post_attn_gan.glu.fc.weight',\n",
       "              tensor([[-0.4423, -0.1351, -0.0096, -0.0099],\n",
       "                      [-0.3293, -0.0724,  0.1736,  0.5602],\n",
       "                      [-0.0827,  0.5037, -0.3624, -0.1005],\n",
       "                      [-0.2301, -0.0511,  0.6007,  0.2650],\n",
       "                      [-0.1862,  0.1136, -0.3976,  0.2680],\n",
       "                      [-0.2126, -0.6365, -0.4975,  0.4863],\n",
       "                      [-0.3129,  0.3687,  0.6549, -0.0697],\n",
       "                      [-0.5979,  0.6373, -0.1691,  0.3083]], device='cuda:0',\n",
       "                     dtype=torch.float64)),\n",
       "             ('post_attn_gan.glu.fc.bias',\n",
       "              tensor([-0.0436,  0.0485,  0.0316, -0.0106, -0.0089,  0.0930, -0.0185, -0.0435],\n",
       "                     device='cuda:0', dtype=torch.float64)),\n",
       "             ('post_attn_gan.add_norm.norm.weight',\n",
       "              tensor([1.2761, 0.9276, 0.8611, 1.0299], device='cuda:0', dtype=torch.float64)),\n",
       "             ('post_attn_gan.add_norm.norm.bias',\n",
       "              tensor([-0.0399,  0.0362,  0.0506,  0.0229], device='cuda:0',\n",
       "                     dtype=torch.float64)),\n",
       "             ('feed_forward_block.fc1.weight',\n",
       "              tensor([[-1.0091e+00,  4.0646e-05,  1.5738e+00, -1.3741e-01],\n",
       "                      [-1.9834e-01, -2.8746e-01, -7.1513e-01, -2.0346e-01],\n",
       "                      [-8.9256e-01, -1.1620e+00, -3.7099e-02,  2.4910e-01],\n",
       "                      [-1.4153e+00, -8.9004e-01, -1.9360e+00, -7.7234e-01]], device='cuda:0',\n",
       "                     dtype=torch.float64)),\n",
       "             ('feed_forward_block.fc1.bias',\n",
       "              tensor([ 0.0756, -0.0765, -0.1582, -0.0296], device='cuda:0',\n",
       "                     dtype=torch.float64)),\n",
       "             ('feed_forward_block.fc2.weight',\n",
       "              tensor([[-0.3558,  1.8179, -0.1473,  0.2701],\n",
       "                      [-0.8138,  0.1778, -1.4730,  1.0339],\n",
       "                      [ 0.3166, -0.4762, -0.8069,  0.5673],\n",
       "                      [-0.3792, -0.3188,  0.2290, -0.4213]], device='cuda:0',\n",
       "                     dtype=torch.float64)),\n",
       "             ('feed_forward_block.fc2.bias',\n",
       "              tensor([-0.0355, -0.0948,  0.1609, -0.1230], device='cuda:0',\n",
       "                     dtype=torch.float64)),\n",
       "             ('feed_forward_block.gate_norm.glu.fc.weight',\n",
       "              tensor([[-0.4143, -0.7397, -0.1048,  0.8011],\n",
       "                      [-0.4924, -0.5615, -0.2982,  0.1290],\n",
       "                      [-0.3850, -0.2285, -0.4932,  0.0109],\n",
       "                      [-0.0283, -0.4753, -0.5961,  0.0502],\n",
       "                      [ 0.4413, -0.4887,  0.4520, -0.6318],\n",
       "                      [-0.2196,  0.5949, -0.0884, -0.2007],\n",
       "                      [ 0.2087,  0.2626, -0.2504,  0.1662],\n",
       "                      [ 0.0569,  0.5148, -0.1749,  0.2533]], device='cuda:0',\n",
       "                     dtype=torch.float64)),\n",
       "             ('feed_forward_block.gate_norm.glu.fc.bias',\n",
       "              tensor([-0.0462,  0.0292,  0.0224, -0.0119,  0.1741, -0.0442, -0.1445, -0.0043],\n",
       "                     device='cuda:0', dtype=torch.float64)),\n",
       "             ('feed_forward_block.gate_norm.add_norm.norm.weight',\n",
       "              tensor([0.9850, 1.0152, 0.9919, 1.0624], device='cuda:0', dtype=torch.float64)),\n",
       "             ('feed_forward_block.gate_norm.add_norm.norm.bias',\n",
       "              tensor([-0.0576,  0.0335,  0.0372,  0.0232], device='cuda:0',\n",
       "                     dtype=torch.float64)),\n",
       "             ('pre_output_gan.glu.fc.weight',\n",
       "              tensor([[-0.6005,  0.2514,  0.1894, -0.2800],\n",
       "                      [ 0.0743, -0.5698,  0.4510,  0.5373],\n",
       "                      [ 0.6421, -0.2470, -0.6832,  0.3614],\n",
       "                      [-0.6415,  0.4687,  0.2969,  0.1160],\n",
       "                      [ 0.4100,  0.4595,  0.4540, -0.0641],\n",
       "                      [-0.0437, -0.3080,  0.4636,  0.1465],\n",
       "                      [-0.5383,  0.5048,  0.1688,  0.6341],\n",
       "                      [-0.1680, -0.5366,  0.6011,  0.1937]], device='cuda:0',\n",
       "                     dtype=torch.float64)),\n",
       "             ('pre_output_gan.glu.fc.bias',\n",
       "              tensor([ 0.0482, -0.1056,  0.0111, -0.0413, -0.0959, -0.0086,  0.0633,  0.1595],\n",
       "                     device='cuda:0', dtype=torch.float64)),\n",
       "             ('pre_output_gan.add_norm.norm.weight',\n",
       "              tensor([0.9572, 1.1474, 1.1784, 0.9718], device='cuda:0', dtype=torch.float64)),\n",
       "             ('pre_output_gan.add_norm.norm.bias',\n",
       "              tensor([ 0.0797,  0.0906, -0.0874,  0.0766], device='cuda:0',\n",
       "                     dtype=torch.float64)),\n",
       "             ('output_layer.weight',\n",
       "              tensor([[ 0.3461,  0.5135, -0.6490,  0.3471]], device='cuda:0',\n",
       "                     dtype=torch.float64)),\n",
       "             ('output_layer.bias',\n",
       "              tensor([-0.0899], device='cuda:0', dtype=torch.float64))])"
      ]
     },
     "execution_count": 52,
     "metadata": {},
     "output_type": "execute_result"
    }
   ],
   "source": [
    "model.load('sate_dict.pt')"
   ]
  },
  {
   "cell_type": "code",
   "execution_count": null,
   "metadata": {},
   "outputs": [
    {
     "name": "stderr",
     "output_type": "stream",
     "text": [
      "GPU available: True (cuda), used: True\n",
      "TPU available: False, using: 0 TPU cores\n",
      "HPU available: False, using: 0 HPUs\n",
      "LOCAL_RANK: 0 - CUDA_VISIBLE_DEVICES: [0]\n"
     ]
    },
    {
     "data": {
      "application/vnd.jupyter.widget-view+json": {
       "model_id": "1e9d3098d5684790b6d56fd627b01c2a",
       "version_major": 2,
       "version_minor": 0
      },
      "text/plain": [
       "Predicting: |          | 0/? [00:00<?, ?it/s]"
      ]
     },
     "metadata": {},
     "output_type": "display_data"
    },
    {
     "data": {
      "text/html": [
       "<div>\n",
       "<style scoped>\n",
       "    .dataframe tbody tr th:only-of-type {\n",
       "        vertical-align: middle;\n",
       "    }\n",
       "\n",
       "    .dataframe tbody tr th {\n",
       "        vertical-align: top;\n",
       "    }\n",
       "\n",
       "    .dataframe thead th {\n",
       "        text-align: right;\n",
       "    }\n",
       "</style>\n",
       "<table border=\"1\" class=\"dataframe\">\n",
       "  <thead>\n",
       "    <tr style=\"text-align: right;\">\n",
       "      <th>component</th>\n",
       "      <th>fred_PCEPI</th>\n",
       "    </tr>\n",
       "    <tr>\n",
       "      <th>observation_date</th>\n",
       "      <th></th>\n",
       "    </tr>\n",
       "  </thead>\n",
       "  <tbody>\n",
       "    <tr>\n",
       "      <th>2023-01-01</th>\n",
       "      <td>114.369289</td>\n",
       "    </tr>\n",
       "    <tr>\n",
       "      <th>2023-02-01</th>\n",
       "      <td>115.009689</td>\n",
       "    </tr>\n",
       "    <tr>\n",
       "      <th>2023-03-01</th>\n",
       "      <td>115.598042</td>\n",
       "    </tr>\n",
       "    <tr>\n",
       "      <th>2023-04-01</th>\n",
       "      <td>116.296947</td>\n",
       "    </tr>\n",
       "    <tr>\n",
       "      <th>2023-05-01</th>\n",
       "      <td>116.593628</td>\n",
       "    </tr>\n",
       "    <tr>\n",
       "      <th>2023-06-01</th>\n",
       "      <td>116.754337</td>\n",
       "    </tr>\n",
       "    <tr>\n",
       "      <th>2023-07-01</th>\n",
       "      <td>116.854588</td>\n",
       "    </tr>\n",
       "    <tr>\n",
       "      <th>2023-08-01</th>\n",
       "      <td>116.869020</td>\n",
       "    </tr>\n",
       "    <tr>\n",
       "      <th>2023-09-01</th>\n",
       "      <td>116.869794</td>\n",
       "    </tr>\n",
       "    <tr>\n",
       "      <th>2023-10-01</th>\n",
       "      <td>116.861457</td>\n",
       "    </tr>\n",
       "    <tr>\n",
       "      <th>2023-11-01</th>\n",
       "      <td>116.857285</td>\n",
       "    </tr>\n",
       "    <tr>\n",
       "      <th>2023-12-01</th>\n",
       "      <td>116.854387</td>\n",
       "    </tr>\n",
       "  </tbody>\n",
       "</table>\n",
       "</div>"
      ],
      "text/plain": [
       "component         fred_PCEPI\n",
       "observation_date            \n",
       "2023-01-01        114.369289\n",
       "2023-02-01        115.009689\n",
       "2023-03-01        115.598042\n",
       "2023-04-01        116.296947\n",
       "2023-05-01        116.593628\n",
       "2023-06-01        116.754337\n",
       "2023-07-01        116.854588\n",
       "2023-08-01        116.869020\n",
       "2023-09-01        116.869794\n",
       "2023-10-01        116.861457\n",
       "2023-11-01        116.857285\n",
       "2023-12-01        116.854387"
      ]
     },
     "execution_count": 85,
     "metadata": {},
     "output_type": "execute_result"
    }
   ],
   "source": [
    "scaler3.inverse_transform(model.predict(12,series=y_train,past_covariates=X_valid_past, future_covariates=X_valid_future)).to_dataframe()"
   ]
  }
 ],
 "metadata": {
  "kernelspec": {
   "display_name": "Python 3",
   "language": "python",
   "name": "python3"
  },
  "language_info": {
   "codemirror_mode": {
    "name": "ipython",
    "version": 3
   },
   "file_extension": ".py",
   "mimetype": "text/x-python",
   "name": "python",
   "nbconvert_exporter": "python",
   "pygments_lexer": "ipython3",
   "version": "3.12.2"
  }
 },
 "nbformat": 4,
 "nbformat_minor": 2
}
