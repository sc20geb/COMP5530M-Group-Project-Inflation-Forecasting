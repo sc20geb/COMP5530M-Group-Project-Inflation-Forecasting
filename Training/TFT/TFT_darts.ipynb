{
 "cells": [
  {
   "cell_type": "code",
   "execution_count": 2,
   "metadata": {},
   "outputs": [],
   "source": [
    "import pandas as pd\n",
    "from darts import TimeSeries\n",
    "from pathlib import Path"
   ]
  },
  {
   "cell_type": "code",
   "execution_count": 12,
   "metadata": {},
   "outputs": [
    {
     "data": {
      "text/plain": [
       "372"
      ]
     },
     "metadata": {},
     "output_type": "display_data"
    }
   ],
   "source": [
    "cwd=Path.cwd()\n",
    "data= pd.read_csv(cwd.parent.parent / 'Data' /'Train'/'train1990s.csv',parse_dates=[0],date_format='%m%Y')\n",
    "# display(data)\n",
    "\n",
    "\n",
    "series = TimeSeries.from_dataframe(data,time_col='observation_date')\n",
    "display(series.n_timesteps)\n",
    "# transformedCols=[]\n",
    "# for i in data.columns:\n",
    "#     match=re.findall(r'fred_.*_.*',i)\n",
    "#     if match!=[]:\n",
    "#         transformedCols.append(match[0])\n",
    "\n",
    "# unmodifiedDf= data.drop(transformedCols,axis=1)\n",
    "# split= round(unmodifiedDf.shape[0]*0.9)\n",
    "# train= unmodifiedDf.iloc[:split+1,:]\n",
    "# valid= unmodifiedDf.iloc[split+1:,:]"
   ]
  }
 ],
 "metadata": {
  "kernelspec": {
   "display_name": "Python 3",
   "language": "python",
   "name": "python3"
  },
  "language_info": {
   "codemirror_mode": {
    "name": "ipython",
    "version": 3
   },
   "file_extension": ".py",
   "mimetype": "text/x-python",
   "name": "python",
   "nbconvert_exporter": "python",
   "pygments_lexer": "ipython3",
   "version": "3.12.2"
  }
 },
 "nbformat": 4,
 "nbformat_minor": 2
}
