{
 "cells": [
  {
   "cell_type": "markdown",
   "metadata": {},
   "source": [
    "Data import step here!"
   ]
  },
  {
   "cell_type": "code",
   "execution_count": null,
   "metadata": {},
   "outputs": [],
   "source": [
    "import sys\n",
    "import os\n",
    "\n",
    "# Go up two levels from notebook (Training/MLR) to project root\n",
    "project_root = os.path.abspath(os.path.join(os.getcwd(), \"../..\"))\n",
    "sys.path.append(project_root)\n",
    "\n",
    "print(\"Project root added to sys.path:\", project_root)\n",
    "# Ensure the model save directory exists\n",
    "model_save_path = os.path.join('.')\n",
    "os.makedirs(model_save_path, exist_ok=True)  # Creates directory if it doesn't exist"
   ]
  },
  {
   "cell_type": "code",
   "execution_count": null,
   "metadata": {},
   "outputs": [],
   "source": [
    "import pandas as pd\n",
    "from sklearn.metrics import mean_squared_error\n",
    "import math\n",
    "import numpy as np\n",
    "from Training.Helper.dataPreprocessing import TRAIN_DATA_PATH_1990S, TEST_DATA_PATH_1990S\n",
    "# Define relative file paths for training and testing data\n",
    "date_col = 'observation_date'\n",
    "# Load and format training data (only using PCEPI)\n",
    "train_df = pd.read_csv(TRAIN_DATA_PATH_1990S)\n",
    "test_df = pd.read_csv(TEST_DATA_PATH_1990S)\n",
    "\n",
    "train_df[date_col] = pd.to_datetime(train_df[date_col], format='%m/%Y')\n",
    "train_df.set_index(date_col, inplace=True)\n",
    "\n",
    "test_df[date_col] = pd.to_datetime(test_df[date_col], format='%m/%Y')\n",
    "test_df.set_index(date_col, inplace=True)\n",
    "\n",
    "target_train = train_df[\"fred_PCEPI\"]\n",
    "test_train = test_df[\"fred_PCEPI\"]"
   ]
  },
  {
   "cell_type": "code",
   "execution_count": null,
   "metadata": {},
   "outputs": [],
   "source": [
    "total_target = pd.concat([target_train.iloc[[-1]],test_train])"
   ]
  },
  {
   "cell_type": "markdown",
   "metadata": {},
   "source": [
    "Model load"
   ]
  },
  {
   "cell_type": "code",
   "execution_count": null,
   "metadata": {},
   "outputs": [],
   "source": [
    "## import model\n",
    "\n",
    "from Naive_Model import NaiveModel\n",
    "\n",
    "# Example usage\n",
    "model = NaiveModel()\n"
   ]
  },
  {
   "cell_type": "markdown",
   "metadata": {},
   "source": [
    "### Predictions for test set:\n",
    "Predicting 1 month of data"
   ]
  },
  {
   "cell_type": "code",
   "execution_count": null,
   "metadata": {},
   "outputs": [],
   "source": [
    "def getPredictions(horizon):\n",
    "    preds_list = []\n",
    "    for i in range(0,12,horizon):\n",
    "        pred = model.predict(total_target[i],horizon)\n",
    "        preds_list= np.append(preds_list,pred)\n",
    "    return preds_list\n",
    "print(getPredictions(1))\n",
    "np.save(os.path.join(project_root, 'Predictions/Horizon1', 'Naive_horizon_1.npy'),getPredictions(1))\n",
    "print(getPredictions(3))\n",
    "np.save(os.path.join(project_root, 'Predictions/Horizon1', 'Naive_horizon_3.npy'),getPredictions(3))\n",
    "print(getPredictions(6))\n",
    "np.save(os.path.join(project_root, 'Predictions/Horizon1', 'Naive_horizon_6.npy'),getPredictions(6))\n",
    "print(getPredictions(12))\n",
    "np.save(os.path.join(project_root, 'Predictions/Horizon1', 'Naive_horizon_12.npy'),getPredictions(12))"
   ]
  }
 ],
 "metadata": {
  "kernelspec": {
   "display_name": "Python 3",
   "language": "python",
   "name": "python3"
  },
  "language_info": {
   "codemirror_mode": {
    "name": "ipython",
    "version": 3
   },
   "file_extension": ".py",
   "mimetype": "text/x-python",
   "name": "python",
   "nbconvert_exporter": "python",
   "pygments_lexer": "ipython3",
   "version": "3.11.2"
  }
 },
 "nbformat": 4,
 "nbformat_minor": 2
}
