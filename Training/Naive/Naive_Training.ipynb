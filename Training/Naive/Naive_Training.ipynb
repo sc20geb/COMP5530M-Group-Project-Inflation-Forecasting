{
 "cells": [
  {
   "cell_type": "markdown",
   "metadata": {},
   "source": [
    "Data import step here!"
   ]
  },
  {
   "cell_type": "code",
   "execution_count": null,
   "metadata": {},
   "outputs": [],
   "source": [
    "import pandas as pd\n",
    "from sklearn.metrics import mean_squared_error\n",
    "import math\n",
    "import numpy as np\n",
    "\n",
    "# Define relative file paths for training and testing data\n",
    "train_file = \"..\\\\..\\\\Data\\\\Train\\\\train1990s.csv\"\n",
    "\n",
    "# Load and format training data (only using PCEPI)\n",
    "train_df = pd.read_csv(train_file, parse_dates=['observation_date'], date_format=\"%m/%y%\").iloc[:,:2]"
   ]
  },
  {
   "cell_type": "code",
   "execution_count": null,
   "metadata": {},
   "outputs": [],
   "source": [
    "print(train_df.iloc[:,1:])"
   ]
  },
  {
   "cell_type": "markdown",
   "metadata": {},
   "source": [
    "Model load"
   ]
  },
  {
   "cell_type": "code",
   "execution_count": null,
   "metadata": {},
   "outputs": [],
   "source": [
    "## import model\n",
    "\n",
    "from Naive_Model import NaiveModel\n",
    "\n",
    "# Example usage\n",
    "model = NaiveModel()\n"
   ]
  },
  {
   "cell_type": "code",
   "execution_count": null,
   "metadata": {},
   "outputs": [],
   "source": [
    "fredSeries = train_df[\"fred_PCEPI\"]\n",
    "print(fredSeries)\n",
    "### Not too sure here for the data - need to wait for the standard"
   ]
  },
  {
   "cell_type": "markdown",
   "metadata": {},
   "source": [
    "Change n_step in terms of what you need"
   ]
  },
  {
   "cell_type": "code",
   "execution_count": null,
   "metadata": {},
   "outputs": [],
   "source": [
    "n_step = 10\n",
    "x_train = fredSeries[:-n_step]\n",
    "totalLen = len(fredSeries)\n",
    "y_train = fredSeries[totalLen-n_step:]"
   ]
  },
  {
   "cell_type": "code",
   "execution_count": null,
   "metadata": {},
   "outputs": [],
   "source": [
    "y_pred = model.predict(x_train,10) ## Predict the next n steps\n",
    "print(y_pred)"
   ]
  },
  {
   "cell_type": "code",
   "execution_count": null,
   "metadata": {},
   "outputs": [],
   "source": [
    "\n",
    "# Calculate MSE\n",
    "mse = mean_squared_error(y_train, y_pred)\n",
    "rmse = math.sqrt(mse)\n",
    "print(f\"Mean Squared Error: {mse}\")\n",
    "print(f\"Root Mean Squared Error: {rmse}\")"
   ]
  },
  {
   "cell_type": "markdown",
   "metadata": {},
   "source": [
    "# Evaluation on test set"
   ]
  },
  {
   "cell_type": "markdown",
   "metadata": {},
   "source": [
    "### Predictions for test set:\n",
    "Predicting on 1 3 6 12 time months"
   ]
  },
  {
   "cell_type": "code",
   "execution_count": null,
   "metadata": {},
   "outputs": [],
   "source": [
    "test_file = \"..\\\\..\\\\Data\\\\Test\\\\test1990s.csv\"\n",
    "test_df = pd.read_csv(test_file, parse_dates=['observation_date'], date_format=\"%m/%y%\").iloc[:,:2]\n",
    "print(test_df.iloc[:,1:])"
   ]
  },
  {
   "cell_type": "markdown",
   "metadata": {},
   "source": [
    "Predict the future values"
   ]
  },
  {
   "cell_type": "code",
   "execution_count": null,
   "metadata": {},
   "outputs": [],
   "source": [
    "fredSeries = test_df[\"fred_PCEPI\"]"
   ]
  },
  {
   "cell_type": "code",
   "execution_count": null,
   "metadata": {},
   "outputs": [],
   "source": [
    "n_steps = [1,3,6,12]\n",
    "\n",
    "for n_step in n_steps:\n",
    "    x_test = fredSeries[:-n_step]\n",
    "    totalLen = len(fredSeries)\n",
    "    y_test = fredSeries[totalLen-n_step:]\n",
    "    y_pred = model.predict(x_test,n_step) ## Predict the next n steps\n",
    "    print(y_pred)\n",
    "    np.save(f\"y_pred_{n_step}_forecast.npy\",y_pred)\n",
    "    \n",
    "    \n"
   ]
  },
  {
   "cell_type": "code",
   "execution_count": null,
   "metadata": {},
   "outputs": [],
   "source": []
  }
 ],
 "metadata": {
  "kernelspec": {
   "display_name": "Python 3",
   "language": "python",
   "name": "python3"
  },
  "language_info": {
   "codemirror_mode": {
    "name": "ipython",
    "version": 3
   },
   "file_extension": ".py",
   "mimetype": "text/x-python",
   "name": "python",
   "nbconvert_exporter": "python",
   "pygments_lexer": "ipython3",
   "version": "3.11.2"
  }
 },
 "nbformat": 4,
 "nbformat_minor": 2
}
