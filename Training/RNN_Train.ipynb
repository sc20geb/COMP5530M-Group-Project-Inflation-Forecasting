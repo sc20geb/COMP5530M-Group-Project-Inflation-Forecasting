{
 "cells": [
  {
   "cell_type": "code",
   "execution_count": 1,
   "metadata": {},
   "outputs": [
    {
     "name": "stderr",
     "output_type": "stream",
     "text": [
      "C:\\Users\\sandr\\AppData\\Local\\Temp\\ipykernel_22380\\3226215619.py:20: TqdmExperimentalWarning: Using `tqdm.autonotebook.tqdm` in notebook mode. Use `tqdm.tqdm` instead to force console mode (e.g. in jupyter console)\n",
      "  from tqdm.autonotebook import tqdm\n"
     ]
    }
   ],
   "source": [
    "import sys\n",
    "import os\n",
    "# Manually set the project root directory (adjust if needed)\n",
    "project_root = os.path.abspath(\"..\")  # Moves up one level to project root\n",
    "\n",
    "# Add the project directory to sys.path\n",
    "sys.path.append(project_root)\n",
    "\n",
    "import numpy as np\n",
    "import pandas as pd\n",
    "import matplotlib.pyplot as plt\n",
    "import torch\n",
    "import torch.nn as nn\n",
    "from torch.utils.data import DataLoader, TensorDataset\n",
    "import torch.optim as optim\n",
    "from sklearn.preprocessing import MinMaxScaler\n",
    "import pickle\n",
    "import time\n",
    "import glob\n",
    "from tqdm.autonotebook import tqdm\n",
    "from EarlyStopping import EarlyStopping  # Ensure EarlyStopping is available\n",
    "from Training.PyTorchModular import train_model, loss_curve\n",
    "from sklearn.metrics import mean_squared_error\n",
    "# Now import the RNN model\n",
    "from Models.RNN import RNNModel"
   ]
  },
  {
   "cell_type": "code",
   "execution_count": 2,
   "metadata": {},
   "outputs": [],
   "source": [
    "import shutil\n",
    "\n",
    "# **Ensure Model Save Path Exists**\n",
    "model_save_path = \"models/RNN\"\n",
    "os.makedirs(model_save_path, exist_ok=True)  # Create if not exists\n",
    "\n",
    "# **Delete all existing files in the RNN model directory**\n",
    "for file in os.listdir(model_save_path):\n",
    "    file_path = os.path.join(model_save_path, file)\n",
    "    if os.path.isfile(file_path) or os.path.islink(file_path):\n",
    "        os.unlink(file_path)  # Remove files and symlinks\n",
    "\n"
   ]
  },
  {
   "cell_type": "code",
   "execution_count": 3,
   "metadata": {},
   "outputs": [
    {
     "name": "stdout",
     "output_type": "stream",
     "text": [
      "Columns in dataset: Index(['observation_date', 'fred_PCEPI', 'fred_AAAFFM', 'fred_AAAFFM_PC1',\n",
      "       'fred_AHETPI', 'fred_AHETPI_LOG', 'fred_APU000072610_PCA',\n",
      "       'fred_APU000074714', 'fred_APU000074714_CCA', 'fred_APU000074714_CCH',\n",
      "       ...\n",
      "       'CMO-Historical-Data-Monthly_Food',\n",
      "       'CMO-Historical-Data-Monthly_Oils_and_meals',\n",
      "       'CMO-Historical-Data-Monthly_Grains',\n",
      "       'CMO-Historical-Data-Monthly_Other_foods',\n",
      "       'CMO-Historical-Data-Monthly_Raw_materials',\n",
      "       'CMO-Historical-Data-Monthly_Other_raw_materials',\n",
      "       'CMO-Historical-Data-Monthly_Fertilizers',\n",
      "       'CMO-Historical-Data-Monthly_Metals_minerals',\n",
      "       'CMO-Historical-Data-Monthly_Base metals',\n",
      "       'CMO-Historical-Data-Monthly_Precious_metals'],\n",
      "      dtype='object', length=356)\n",
      "Using 'observation_date' as Date column.\n"
     ]
    },
    {
     "data": {
      "application/vnd.jupyter.widget-view+json": {
       "model_id": "d108b0f0b1744b049cbb9fc7b2fa5865",
       "version_major": 2,
       "version_minor": 0
      },
      "text/plain": [
       "  0%|          | 0/50 [00:00<?, ?it/s]"
      ]
     },
     "metadata": {},
     "output_type": "display_data"
    },
    {
     "name": "stdout",
     "output_type": "stream",
     "text": [
      "\tBatch: 0\n",
      "Train Loss epoch 0: 0.05307284825377994\n",
      "Valid Loss epoch 0: 0.22421950101852417\n",
      "\tBatch: 0\n",
      "Train Loss epoch 1: 0.03281052741739485\n",
      "Valid Loss epoch 1: 0.029507495048973296\n",
      "\tBatch: 0\n",
      "Train Loss epoch 2: 0.006002033724346095\n",
      "Valid Loss epoch 2: 0.005513991850117843\n",
      "\tBatch: 0\n",
      "Train Loss epoch 3: 0.0017141338321380317\n",
      "Valid Loss epoch 3: 0.006079652864072058\n",
      "\tBatch: 0\n",
      "Train Loss epoch 4: 0.0007575196383792596\n",
      "Valid Loss epoch 4: 0.0006802979834093195\n",
      "\tBatch: 0\n",
      "Train Loss epoch 5: 0.0002629142755823624\n",
      "Valid Loss epoch 5: 0.001868067645571298\n",
      "\tBatch: 0\n",
      "Train Loss epoch 6: 0.0001467906428539815\n",
      "Valid Loss epoch 6: 0.0004130974476639595\n",
      "\tBatch: 0\n",
      "Train Loss epoch 7: 8.587074706964713e-05\n",
      "Valid Loss epoch 7: 0.0009334638663050202\n",
      "\tBatch: 0\n",
      "Train Loss epoch 8: 7.074789189371384e-05\n",
      "Valid Loss epoch 8: 0.0005095401106195317\n",
      "\tBatch: 0\n",
      "Train Loss epoch 9: 6.252146643722274e-05\n",
      "Valid Loss epoch 9: 0.0008137478467283978\n",
      "\tBatch: 0\n",
      "Train Loss epoch 10: 6.897515656116109e-05\n",
      "Valid Loss epoch 10: 0.0007524209989545246\n",
      "\tBatch: 0\n",
      "Train Loss epoch 11: 6.520464739878662e-05\n",
      "Valid Loss epoch 11: 0.0009244518846066461\n",
      "\tBatch: 0\n",
      "Train Loss epoch 12: 5.890052165745551e-05\n",
      "Valid Loss epoch 12: 0.0005479285868609117\n",
      "\tBatch: 0\n",
      "Train Loss epoch 13: 7.237334122894228e-05\n",
      "Valid Loss epoch 13: 0.0005463544447492394\n",
      "\tBatch: 0\n",
      "Train Loss epoch 14: 8.111066361177816e-05\n",
      "Valid Loss epoch 14: 0.00039828028335856896\n",
      "\tBatch: 0\n",
      "Train Loss epoch 15: 5.812034800732767e-05\n",
      "Valid Loss epoch 15: 0.0008976816122109691\n",
      "\tBatch: 0\n",
      "Train Loss epoch 16: 5.268860938182721e-05\n",
      "Valid Loss epoch 16: 0.0004658268169603414\n",
      "\tBatch: 0\n",
      "Train Loss epoch 17: 5.102927146557098e-05\n",
      "Valid Loss epoch 17: 0.0008384720810378591\n",
      "\tBatch: 0\n",
      "Train Loss epoch 18: 5.1341451277645923e-05\n",
      "Valid Loss epoch 18: 0.00042877294537093904\n",
      "\tBatch: 0\n",
      "Train Loss epoch 19: 5.0993641505354186e-05\n",
      "Valid Loss epoch 19: 0.000606447238371604\n",
      "Early stopping. counter: 15\n",
      "Best weights restored.\n",
      "Stopped at epoch: 19\n",
      "Best weights at epoch: 4\n"
     ]
    },
    {
     "data": {
      "image/png": "[encoded data removed]",
      "text/plain": [
       "<Figure size 432x288 with 1 Axes>"
      ]
     },
     "metadata": {
      "needs_background": "light"
     },
     "output_type": "display_data"
    },
    {
     "name": "stdout",
     "output_type": "stream",
     "text": [
      "Loading best model: models/RNN\\RNN_BEST_STOPPED_AT_4.pth\n"
     ]
    },
    {
     "data": {
      "text/plain": [
       "RNNModel(\n",
       "  (rnn): RNN(1, 64, num_layers=2, batch_first=True)\n",
       "  (fc): Linear(in_features=64, out_features=1, bias=True)\n",
       ")"
      ]
     },
     "execution_count": 3,
     "metadata": {},
     "output_type": "execute_result"
    }
   ],
   "source": [
    "\n",
    "\n",
    "# **Define relative file path for training data**\n",
    "train_file = \"..\\\\Data\\\\Train\\\\trains1990s.csv\"\n",
    "\n",
    "# **Load Training Data with Automatic Column Detection**\n",
    "train_df = pd.read_csv(train_file)\n",
    "print(\"Columns in dataset:\", train_df.columns)  # Debugging: Show available columns\n",
    "\n",
    "# **Find the correct date column**\n",
    "possible_date_cols = [\"Date\", \"date\", \"observation_date\", \"timestamp\"]\n",
    "for col in possible_date_cols:\n",
    "    if col in train_df.columns:\n",
    "        train_df[col] = pd.to_datetime(train_df[col])\n",
    "        train_df.set_index(col, inplace=True)\n",
    "        print(f\"Using '{col}' as Date column.\")\n",
    "        break\n",
    "else:\n",
    "    raise ValueError(\"No valid date column found in dataset!\")\n",
    "\n",
    "# **Rename Value Column (Check if it exists)**\n",
    "if \"Value\" in train_df.columns:\n",
    "    train_df.rename(columns={\"Value\": \"PCE\"}, inplace=True)\n",
    "elif \"fred_PCEPI\" in train_df.columns:\n",
    "    train_df.rename(columns={\"fred_PCEPI\": \"PCE\"}, inplace=True)\n",
    "else:\n",
    "    raise ValueError(\"No valid column found for PCE data!\")\n",
    "\n",
    "# **Normalize Data**\n",
    "scaler = MinMaxScaler()\n",
    "train_scaled = scaler.fit_transform(train_df[[\"PCE\"]])\n",
    "\n",
    "# **Convert the scaled data to a 1D array**\n",
    "train_series = train_scaled.flatten()\n",
    "\n",
    "# **Function to Create Sequences**\n",
    "def create_sequences(data, seq_length):\n",
    "    \"\"\"\n",
    "    Creates sequences of length `seq_length` as inputs and the subsequent value as the target.\n",
    "    \"\"\"\n",
    "    xs, ys = [], []\n",
    "    for i in range(len(data) - seq_length):\n",
    "        xs.append(data[i : i + seq_length])\n",
    "        ys.append(data[i + seq_length])\n",
    "    return np.array(xs), np.array(ys)\n",
    "\n",
    "# **Set Sequence Length**\n",
    "sequence_length = 12\n",
    "X, y = create_sequences(train_series, sequence_length)\n",
    "\n",
    "# **Train-Validation Split (80% Train, 20% Validation)**\n",
    "split_ratio = 0.8\n",
    "split_idx = int(len(X) * split_ratio)\n",
    "\n",
    "X_train, X_val = X[:split_idx], X[split_idx:]\n",
    "y_train, y_val = y[:split_idx], y[split_idx:]\n",
    "\n",
    "# **Convert Data to PyTorch Tensors**\n",
    "X_train_tensor = torch.tensor(X_train, dtype=torch.float32).unsqueeze(-1)\n",
    "y_train_tensor = torch.tensor(y_train, dtype=torch.float32).unsqueeze(-1)\n",
    "X_val_tensor = torch.tensor(X_val, dtype=torch.float32).unsqueeze(-1)\n",
    "y_val_tensor = torch.tensor(y_val, dtype=torch.float32).unsqueeze(-1)\n",
    "\n",
    "# **Create DataLoaders**\n",
    "batch_size = 32\n",
    "train_dataset = TensorDataset(X_train_tensor, y_train_tensor)\n",
    "val_dataset = TensorDataset(X_val_tensor, y_val_tensor)\n",
    "\n",
    "train_loader = DataLoader(train_dataset, batch_size=batch_size, shuffle=True)\n",
    "val_loader = DataLoader(val_dataset, batch_size=batch_size, shuffle=False)\n",
    "\n",
    "\n",
    "# **Train Model Using Modular Functions**\n",
    "device = torch.device(\"cuda\" if torch.cuda.is_available() else \"cpu\")\n",
    "rnn_model = RNNModel(input_size=1, hidden_size=64, num_layers=2).to(device)\n",
    "\n",
    "# **Define Loss Function and Optimizer**\n",
    "criterion = nn.MSELoss()\n",
    "optimizer = optim.Adam(rnn_model.parameters(), lr=0.001)\n",
    "\n",
    "# **Train the Model Using Modular Functions**\n",
    "train_data = train_model(\n",
    "    model=rnn_model,\n",
    "    maxEpochs=50,\n",
    "    modelSavePath=model_save_path,\n",
    "    modelName=\"RNN\",\n",
    "    dataLoaderTrain=train_loader,\n",
    "    dataLoaderValid=val_loader,\n",
    "    lossFn=criterion,\n",
    "    optimizer=optimizer,\n",
    "    device=device,\n",
    "    batchStatusUpdate=10,\n",
    "    verbose=True\n",
    ")\n",
    "\n",
    "# **Plot Training vs. Validation Loss**\n",
    "loss_curve(trainLoss=train_data[\"trainLoss\"], validLoss=train_data[\"validLoss\"], title=\"RNN Training vs. Validation Loss\")\n",
    "\n",
    "# **Find the best saved model dynamically**\n",
    "best_model_files = glob.glob(os.path.join(model_save_path, \"RNN_BEST_STOPPED_AT_*.pth\"))\n",
    "latest_model_path = os.path.join(model_save_path, \"RNN_latest.pth\")\n",
    "\n",
    "if best_model_files:\n",
    "    best_model_path = sorted(best_model_files)[-1]  # Pick the latest best-stopped model\n",
    "    print(f\"Loading best model: {best_model_path}\")\n",
    "elif os.path.exists(latest_model_path):\n",
    "    best_model_path = latest_model_path\n",
    "    print(f\"No early-stopped model found. Loading latest model instead: {best_model_path}\")\n",
    "else:\n",
    "    raise FileNotFoundError(\"No saved model found! Ensure training was completed successfully.\")\n",
    "\n",
    "# **Load the Best or Latest Model**\n",
    "best_rnn_model = RNNModel(input_size=1, hidden_size=64, num_layers=2).to(device)\n",
    "best_rnn_model.load_state_dict(torch.load(best_model_path))\n",
    "best_rnn_model.eval()\n"
   ]
  },
  {
   "cell_type": "code",
   "execution_count": 4,
   "metadata": {},
   "outputs": [
    {
     "name": "stdout",
     "output_type": "stream",
     "text": [
      "        Date  Actual PCE  Predicted PCE\n",
      "0 2015-01-01   96.653999      99.212814\n",
      "1 2015-02-01   96.825005      99.094009\n",
      "2 2015-03-01   97.007996      99.005455\n",
      "3 2015-04-01   97.094002      98.977776\n",
      "4 2015-05-01   97.326996      98.984703\n"
     ]
    },
    {
     "data": {
      "image/png": "[encoded data removed]",
      "text/plain": [
       "<Figure size 864x432 with 1 Axes>"
      ]
     },
     "metadata": {
      "needs_background": "light"
     },
     "output_type": "display_data"
    },
    {
     "name": "stdout",
     "output_type": "stream",
     "text": [
      "Root Mean Squared Error (RMSE) for RNN Model: 1.229453\n"
     ]
    }
   ],
   "source": [
    "# **Make Predictions on Validation Set**\n",
    "best_rnn_model.eval()\n",
    "rnn_predictions = []\n",
    "actuals = []\n",
    "\n",
    "with torch.no_grad():\n",
    "    for inputs, targets in val_loader:\n",
    "        inputs = inputs.to(device)\n",
    "        outputs = best_rnn_model(inputs)\n",
    "        rnn_predictions.append(outputs.cpu().numpy())\n",
    "        actuals.append(targets.cpu().numpy())\n",
    "\n",
    "# **Concatenate batches into single arrays**\n",
    "rnn_predictions = np.concatenate(rnn_predictions)\n",
    "actuals = np.concatenate(actuals)\n",
    "\n",
    "# **Inverse transform the normalized predictions and actual values back to the original scale**\n",
    "rnn_predictions_inv = scaler.inverse_transform(rnn_predictions)\n",
    "actuals_inv = scaler.inverse_transform(actuals)\n",
    "\n",
    "# **Extract the dates corresponding to the validation predictions**\n",
    "val_dates = train_df.index[split_idx + sequence_length:]\n",
    "\n",
    "# **Create a DataFrame for comparison**\n",
    "df_comparison = pd.DataFrame({\n",
    "    \"Date\": val_dates,\n",
    "    \"Actual PCE\": actuals_inv.flatten(),\n",
    "    \"Predicted PCE\": rnn_predictions_inv.flatten()\n",
    "})\n",
    "\n",
    "# **Display the first few rows of the comparison DataFrame**\n",
    "print(df_comparison.head())\n",
    "\n",
    "# **Plot the Actual vs. Predicted PCE values**\n",
    "plt.figure(figsize=(12, 6))\n",
    "plt.plot(df_comparison[\"Date\"], df_comparison[\"Actual PCE\"], label=\"Actual PCE\", marker=\"o\", linestyle=\"-\")\n",
    "plt.plot(df_comparison[\"Date\"], df_comparison[\"Predicted PCE\"], label=\"Predicted PCE (RNN)\", marker=\"x\", linestyle=\"--\")\n",
    "plt.xlabel(\"Date\")\n",
    "plt.ylabel(\"PCE\")\n",
    "plt.title(\"Comparison of Actual vs. Predicted PCE (RNN)\")\n",
    "plt.xticks(rotation=45)\n",
    "plt.legend()\n",
    "plt.grid(True)\n",
    "plt.show()\n",
    "\n",
    "# **Compute RMSE for Validation Predictions**\n",
    "rmse_rnn = np.sqrt(mean_squared_error(actuals_inv, rnn_predictions_inv))\n",
    "print(f\"Root Mean Squared Error (RMSE) for RNN Model: {rmse_rnn:.6f}\")\n"
   ]
  }
 ],
 "metadata": {
  "kernelspec": {
   "display_name": "base",
   "language": "python",
   "name": "python3"
  },
  "language_info": {
   "codemirror_mode": {
    "name": "ipython",
    "version": 3
   },
   "file_extension": ".py",
   "mimetype": "text/x-python",
   "name": "python",
   "nbconvert_exporter": "python",
   "pygments_lexer": "ipython3",
   "version": "3.9.12"
  }
 },
 "nbformat": 4,
 "nbformat_minor": 2
}
