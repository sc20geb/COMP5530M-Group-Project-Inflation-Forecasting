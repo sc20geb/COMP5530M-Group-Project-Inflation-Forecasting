{
 "cells": [
  {
   "cell_type": "code",
   "execution_count": null,
   "metadata": {},
   "outputs": [],
   "source": [
    "import pandas as pd\n",
    "from sklearn import linear_model\n",
    "\n",
    "# Define relative file paths for training and testing data\n",
    "train_file = \"..\\\\Data\\\\Train\\\\trains1990s.csv\"\n",
    "\n",
    "# Load and format training data (only using PCEPI, )\n",
    "train_df = pd.read_csv(train_file, parse_dates=['observation_date'], date_format=\"%m/%y%\").iloc[:,:2]\n",
    "train_df['group'] = 0\n",
    "train_df['time_idx'] = train_df.index"
   ]
  },
  {
   "cell_type": "code",
   "execution_count": null,
   "metadata": {},
   "outputs": [],
   "source": [
    "numVals = train_df.shape[0]\n",
    "\n",
    "valRatio = 0.2\n",
    "splitLoc = int(numVals*(1-valRatio))\n",
    "\n",
    "train = train_df.iloc[:splitLoc, :]\n",
    "val = train_df.iloc[splitLoc:, :]"
   ]
  },
  {
   "cell_type": "code",
   "execution_count": null,
   "metadata": {},
   "outputs": [],
   "source": [
    "from pytorch_forecasting import TimeSeriesDataSet\n",
    "\n",
    "trainDataset = TimeSeriesDataSet(\n",
    "    train,\n",
    "    group_ids=['group'],\n",
    "    target='fred_PCEPI',\n",
    "    time_idx='time_idx',\n",
    "    min_encoder_length=5,\n",
    "    max_encoder_length=5,\n",
    "    min_prediction_length=2,\n",
    "    max_prediction_length=2,\n",
    "    time_varying_unknown_reals=['fred_PCEPI'],\n",
    ")"
   ]
  },
  {
   "cell_type": "code",
   "execution_count": null,
   "metadata": {},
   "outputs": [],
   "source": [
    "from sklearn import linear_model\n",
    "\n",
    "regr = linear_model.LinearRegression()\n",
    "display(train.index.values.reshape(-1, 1).shape)\n",
    "#linear model on just PCEPI\n",
    "regr.fit(train.index.values.reshape(-1, 1), train['fred_PCEPI'])"
   ]
  },
  {
   "cell_type": "code",
   "execution_count": null,
   "metadata": {},
   "outputs": [],
   "source": [
    "valDates = val.index.values.reshape(-1, 1)\n",
    "y_hat = regr.predict(valDates)\n",
    "\n",
    "display(y_hat)"
   ]
  },
  {
   "cell_type": "code",
   "execution_count": null,
   "metadata": {},
   "outputs": [],
   "source": [
    "from matplotlib import pyplot as plt\n",
    "\n",
    "plt.plot(valDates, y_hat)\n",
    "plt.plot(valDates, val['fred_PCEPI'])\n",
    "plt.show()"
   ]
  },
  {
   "cell_type": "code",
   "execution_count": null,
   "metadata": {},
   "outputs": [],
   "source": [
    "trainDates = train.index.values.reshape(-1, 1)\n",
    "\n",
    "y_train_hat = regr.predict(trainDates)\n",
    "\n",
    "plt.plot(trainDates, y_train_hat)\n",
    "plt.plot(trainDates, train['fred_PCEPI'])\n",
    "plt.show()"
   ]
  },
  {
   "cell_type": "code",
   "execution_count": null,
   "metadata": {},
   "outputs": [],
   "source": [
    "import numpy as np\n",
    "y_hats = np.concatenate((y_train_hat, y_hat))\n",
    "display(y_hats.shape)"
   ]
  },
  {
   "cell_type": "code",
   "execution_count": null,
   "metadata": {},
   "outputs": [],
   "source": [
    "plt.figure(figsize=(20, 10))\n",
    "ax = plt.axes()\n",
    "ax.xaxis.set_major_locator(plt.MaxNLocator(10))\n",
    "plt.locator_params(axis='x', nbins=10)\n",
    "plt.plot(train_df['observation_date'], y_hats)\n",
    "plt.plot(train_df['observation_date'], train_df['fred_PCEPI'])\n",
    "ax.fill_between(train_df['observation_date'][splitLoc:], train_df['fred_PCEPI'][0], y_hats[-1], facecolor='green', step='pre', alpha=0.5)\n",
    "plt.title('Linear Regressor Predictions on PCEPI')\n",
    "plt.xlabel('Date')\n",
    "plt.ylabel('PCEPI')\n",
    "plt.show()"
   ]
  },
  {
   "cell_type": "code",
   "execution_count": null,
   "metadata": {},
   "outputs": [],
   "source": [
    "from sklearn.metrics import root_mean_squared_error\n",
    "\n",
    "linearValError = root_mean_squared_error(val['fred_PCEPI'], y_hat)\n",
    "linearTrainError = root_mean_squared_error(train['fred_PCEPI'], y_train_hat)\n",
    "#display(linearValError, linearTrainError)"
   ]
  },
  {
   "cell_type": "code",
   "execution_count": null,
   "metadata": {},
   "outputs": [],
   "source": [
    "print(f'Validation RMSE: {linearValError}')"
   ]
  }
 ],
 "metadata": {
  "kernelspec": {
   "display_name": ".venv",
   "language": "python",
   "name": "python3"
  },
  "language_info": {
   "codemirror_mode": {
    "name": "ipython",
    "version": 3
   },
   "file_extension": ".py",
   "mimetype": "text/x-python",
   "name": "python",
   "nbconvert_exporter": "python",
   "pygments_lexer": "ipython3",
   "version": "3.11.0"
  }
 },
 "nbformat": 4,
 "nbformat_minor": 2
}
