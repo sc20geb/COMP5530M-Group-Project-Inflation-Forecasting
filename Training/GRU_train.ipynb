{
 "cells": [
  {
   "cell_type": "markdown",
   "metadata": {},
   "source": [
    "Establish project and weights directories"
   ]
  },
  {
   "cell_type": "code",
   "execution_count": null,
   "metadata": {},
   "outputs": [],
   "source": [
    "import sys\n",
    "import os\n",
    "\n",
    "# Manually set the project root directory (adjust if needed)\n",
    "project_root = os.path.abspath(\"..\")  # Moves up one level to project root\n",
    "# Add the project directory to sys.path\n",
    "sys.path.append(project_root)\n",
    "\n",
    "# Ensure the directory exists\n",
    "model_save_path = os.path.join(project_root, 'Models', 'Weights', 'GRU')\n",
    "os.makedirs(model_save_path, exist_ok=True)  # Creates directory if it doesn't exist"
   ]
  },
  {
   "cell_type": "markdown",
   "metadata": {},
   "source": [
    "Load and preprocess data & Train the Model with Optuna"
   ]
  },
  {
   "cell_type": "code",
   "execution_count": null,
   "metadata": {},
   "outputs": [],
   "source": [
    "import torch\n",
    "from Models.GRU import GRUModel   # Import the GRU model\n",
    "# Import modularized functions\n",
    "from Helper.dataPreprocessing import load_data, prepare_dataloader, TRAIN_DATA_PATH_1990S\n",
    "from Helper.PyTorchModular import optuna_tune_and_train\n",
    "\n",
    "# Load and preprocess data\n",
    "config = {\"use_fft\": False, \"use_exog\": False}\n",
    "\n",
    "(X_train_seq, y_train_seq, X_valid_seq, y_valid_seq, X_test_seq, y_test_seq, observation_dates, y_scaler) = load_data(\n",
    "    TRAIN_DATA_PATH_1990S, sequence_length=12, config=config\n",
    ")\n",
    "\n",
    "X_train_seq = X_train_seq.reshape(X_train_seq.shape[0], X_train_seq.shape[1], 1)\n",
    "X_valid_seq = X_valid_seq.reshape(X_valid_seq.shape[0], X_valid_seq.shape[1], 1)\n",
    "\n",
    "y_train_seq = y_train_seq.reshape(-1, 1)\n",
    "y_valid_seq = y_valid_seq.reshape(-1, 1)\n",
    "\n",
    "batch_size = 32\n",
    "train_loader = prepare_dataloader(X_train_seq, y_train_seq, batch_size=batch_size)\n",
    "val_loader = prepare_dataloader(X_valid_seq, y_valid_seq, batch_size=batch_size)\n",
    "\n",
    "device = torch.device(\"cuda\" if torch.cuda.is_available() else \"cpu\")\n",
    "\n",
    "# Run Optuna & Train Model\n",
    "model, metadata = optuna_tune_and_train(\n",
    "    model_class=GRUModel, \n",
    "    train_loader=train_loader, \n",
    "    val_loader=val_loader, \n",
    "    device=device,\n",
    "    max_epochs=50,\n",
    "    model_save_path=model_save_path,\n",
    "    model_name=\"GRU_inflation\",\n",
    "    use_best_hyperparams=False,  # Set to False to force Optuna tuning every time\n",
    "    n_trials=20,\n",
    "    verbose=True\n",
    ")\n"
   ]
  },
  {
   "cell_type": "markdown",
   "metadata": {},
   "source": [
    "Make Predictions on Validation Set"
   ]
  },
  {
   "cell_type": "code",
   "execution_count": null,
   "metadata": {},
   "outputs": [],
   "source": [
    "from Evaluation.Helper.evaluation_helpers import evaluate_model\n",
    "\n",
    "# Evaluate Model\n",
    "df_comparison, rmse = evaluate_model(\n",
    "    model=model, \n",
    "    val_loader=val_loader, \n",
    "    y_scaler=y_scaler, \n",
    "    observation_dates=observation_dates, \n",
    "    device=device,\n",
    "    verbose=True\n",
    ")"
   ]
  }
 ],
 "metadata": {
  "kernelspec": {
   "display_name": ".venv",
   "language": "python",
   "name": "python3"
  },
  "language_info": {
   "codemirror_mode": {
    "name": "ipython",
    "version": 3
   },
   "file_extension": ".py",
   "mimetype": "text/x-python",
   "name": "python",
   "nbconvert_exporter": "python",
   "pygments_lexer": "ipython3",
   "version": "3.12.2"
  }
 },
 "nbformat": 4,
 "nbformat_minor": 2
}
