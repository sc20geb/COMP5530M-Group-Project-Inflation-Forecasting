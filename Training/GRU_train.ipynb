{
 "cells": [
  {
   "cell_type": "code",
   "execution_count": null,
   "metadata": {},
   "outputs": [],
   "source": [
    "import sys\n",
    "import os\n",
    "\n",
    "# Ensure the directory exists\n",
    "model_save_path = \"models\"\n",
    "os.makedirs(model_save_path, exist_ok=True)  # Creates directory if it doesn't exist\n",
    "\n",
    "\n",
    "# Manually set the project root directory (adjust if needed)\n",
    "project_root = os.path.abspath(\"..\")  # Moves up one level to project root\n",
    "\n",
    "# Add the project directory to sys.path\n",
    "sys.path.append(project_root)\n",
    "\n",
    "# Now import the GRU model\n",
    "from Models.GRU import GRUModel\n",
    "\n",
    "import numpy as np\n",
    "import pandas as pd\n",
    "import matplotlib.pyplot as plt\n",
    "import optuna\n",
    "import torch\n",
    "from torch.utils.data import DataLoader, TensorDataset\n",
    "import torch.optim as optim\n",
    "from sklearn.preprocessing import MinMaxScaler\n",
    "from Models.GRU import GRUModel   # Import the GRU model\n",
    "from Training.PyTorchModular import train_model\n",
    "import torch.nn as nn\n",
    "from sklearn.metrics import mean_squared_error\n",
    "\n",
    "\n",
    "import torch\n",
    "import torch.nn as nn\n",
    "import numpy as np\n",
    "import matplotlib.pyplot as plt\n",
    "import pandas as pd\n",
    "from sklearn.metrics import mean_squared_error\n",
    "from torch.utils.data import DataLoader, TensorDataset\n",
    "\n",
    "# Import modularized functions\n",
    "from dataPreprocessing import load_data, prepare_dataloader\n",
    "from PyTorchModular import optuna_tune_and_train,  evaluate_model\n",
    "from Models.GRU import GRUModel   "
   ]
  },
  {
   "cell_type": "markdown",
   "metadata": {},
   "source": [
    "Load and preprocess data & Train the Model with Optuna"
   ]
  },
  {
   "cell_type": "code",
   "execution_count": null,
   "metadata": {},
   "outputs": [],
   "source": [
    "\n",
    "# Load and preprocess data\n",
    "train_file = \"../Data/Train/trains1990s.csv\"\n",
    "config = {\"use_fft\": False, \"use_exog\": False}\n",
    "\n",
    "(X_train_seq, y_train_seq, X_valid_seq, y_valid_seq, X_test_seq, y_test_seq, observation_dates, y_scaler) = load_data(\n",
    "    train_file, sequence_length=12, config=config\n",
    ")\n",
    "\n",
    "X_train_seq = X_train_seq.reshape(X_train_seq.shape[0], X_train_seq.shape[1], 1)\n",
    "X_valid_seq = X_valid_seq.reshape(X_valid_seq.shape[0], X_valid_seq.shape[1], 1)\n",
    "\n",
    "y_train_seq = y_train_seq.reshape(-1, 1)\n",
    "y_valid_seq = y_valid_seq.reshape(-1, 1)\n",
    "\n",
    "batch_size = 32\n",
    "train_loader = prepare_dataloader(X_train_seq, y_train_seq, batch_size=batch_size)\n",
    "val_loader = prepare_dataloader(X_valid_seq, y_valid_seq, batch_size=batch_size)\n",
    "\n",
    "device = torch.device(\"cuda\" if torch.cuda.is_available() else \"cpu\")\n",
    "\n",
    "# Run Optuna & Train Model\n",
    "model, metadata = optuna_tune_and_train(\n",
    "    model_class=GRUModel, \n",
    "    train_loader=train_loader, \n",
    "    val_loader=val_loader, \n",
    "    device=device,\n",
    "    max_epochs=50,\n",
    "    model_save_path=\"models\",\n",
    "    model_name=\"GRU_inflation\",\n",
    "    use_best_hyperparams=False,  # Set to False to force Optuna tuning every time\n",
    "    n_trials=20\n",
    ")\n"
   ]
  },
  {
   "cell_type": "markdown",
   "metadata": {},
   "source": [
    "Make Predictions on Validation Set"
   ]
  },
  {
   "cell_type": "code",
   "execution_count": null,
   "metadata": {},
   "outputs": [],
   "source": [
    "# Evaluate Model\n",
    "df_comparison, rmse = evaluate_model(\n",
    "    model=model, \n",
    "    val_loader=val_loader, \n",
    "    y_scaler=y_scaler, \n",
    "    observation_dates=observation_dates, \n",
    "    device=device\n",
    ")"
   ]
  }
 ],
 "metadata": {
  "kernelspec": {
   "display_name": "base",
   "language": "python",
   "name": "python3"
  },
  "language_info": {
   "codemirror_mode": {
    "name": "ipython",
    "version": 3
   },
   "file_extension": ".py",
   "mimetype": "text/x-python",
   "name": "python",
   "nbconvert_exporter": "python",
   "pygments_lexer": "ipython3",
   "version": "3.9.12"
  }
 },
 "nbformat": 4,
 "nbformat_minor": 2
}
