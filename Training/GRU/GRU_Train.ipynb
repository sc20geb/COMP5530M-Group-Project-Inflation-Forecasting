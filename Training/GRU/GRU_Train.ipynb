{
 "cells": [
  {
   "cell_type": "code",
   "execution_count": null,
   "metadata": {},
   "outputs": [],
   "source": [
    "pip install torch optuna pandas numpy scikit-learn"
   ]
  },
  {
   "cell_type": "markdown",
   "metadata": {},
   "source": [
    "Setup and Project Root & Import Libraries"
   ]
  },
  {
   "cell_type": "code",
   "execution_count": null,
   "metadata": {},
   "outputs": [],
   "source": [
    "import sys, os\n",
    "# ==== Set Project Root ====\n",
    "project_root = os.path.abspath(os.path.join(os.getcwd(), \"../..\"))\n",
    "sys.path.append(project_root)\n",
    "\n",
    "# Ensure the model save directory exists\n",
    "model_save_path = os.path.join(project_root, 'Models', 'Weights', 'GRU')\n",
    "os.makedirs(model_save_path, exist_ok=True)\n",
    "\n",
    "import pandas as pd\n",
    "import numpy as np\n",
    "import torch\n",
    "from torch.utils.data import TensorDataset, DataLoader\n",
    "from sklearn.preprocessing import StandardScaler\n",
    "from Models.GRU import GRUModel  # Assuming GRU model is defined in Models/GRU.py\n",
    "from Training.Helper.PyTorchModular import optuna_tune_and_train  # Import Optuna function\n",
    "from Training.Helper.dataPreprocessing import create_sequences, add_lagged_features, add_rolling_features, add_time_features\n",
    "import torch.nn as nn\n",
    "from sklearn.metrics import mean_squared_error\n",
    "\n"
   ]
  },
  {
   "cell_type": "markdown",
   "metadata": {},
   "source": [
    "Load and Prepare Data & Feature Engineering"
   ]
  },
  {
   "cell_type": "code",
   "execution_count": null,
   "metadata": {},
   "outputs": [],
   "source": [
    "# ==== Load & Prepare CSV ====\n",
    "train_file = os.path.join(project_root, \"Data\", \"Train\", \"train1990s.csv\")\n",
    "df = pd.read_csv(train_file)\n",
    "df['ds'] = pd.to_datetime(df['observation_date'], format='%m/%Y')\n",
    "df = df.rename(columns={'fred_PCEPI': 'y'})\n",
    "\n",
    "\n",
    "# ==== Feature Engineering ====\n",
    "df['month'] = df['ds'].dt.month\n",
    "for k in range(1, 4):\n",
    "    df[f'sin_{k}'] = np.sin(2 * np.pi * k * df['month'] / 12)\n",
    "    df[f'cos_{k}'] = np.cos(2 * np.pi * k * df['month'] / 12)\n",
    "\n",
    "# Adding lag features\n",
    "df = add_lagged_features(df, target_cols=['y'], lags=[1, 3, 6])\n",
    "\n",
    "# Adding rolling features\n",
    "df = add_rolling_features(df, target_col='y', windows=[3, 6, 12])\n",
    "\n",
    "# Adding time-based features\n",
    "df = add_time_features(df, date_col='ds')\n",
    "\n",
    "df = df.dropna().reset_index(drop=True)\n"
   ]
  },
  {
   "cell_type": "markdown",
   "metadata": {},
   "source": [
    "Scaling and Sequence Preparation & DataLoaders"
   ]
  },
  {
   "cell_type": "code",
   "execution_count": null,
   "metadata": {},
   "outputs": [],
   "source": [
    "# ==== Scaling ====\n",
    "feature_cols = ['y'] + [col for col in df.columns if col.startswith(('sin_', 'cos_', 'y_lag_', 'rolling_'))]\n",
    "scaler = StandardScaler()\n",
    "\n",
    "scaled = scaler.fit_transform(df[feature_cols])\n",
    "scaled_df = pd.DataFrame(scaled, columns=feature_cols)\n",
    "\n",
    "# ==== Sequence Prep ====\n",
    "sequence_length = 12\n",
    "X, y = create_sequences(\n",
    "    scaled_df[feature_cols].values,\n",
    "    scaled_df['y'].values,\n",
    "    sequence_length\n",
    ")\n",
    "X = X.reshape((-1, sequence_length, len(feature_cols)))\n",
    "\n",
    "# ==== Train/Val Split ====\n",
    "split_idx = int(0.8 * len(X))\n",
    "X_train, y_train = X[:split_idx], y[:split_idx]\n",
    "X_val, y_val = X[split_idx:], y[split_idx:]\n",
    "\n",
    "# ==== DataLoaders ====\n",
    "batch_size = 32\n",
    "train_dataset = TensorDataset(torch.tensor(X_train).float(), torch.tensor(y_train).float())\n",
    "val_dataset = TensorDataset(torch.tensor(X_val).float(), torch.tensor(y_val).float())\n",
    "\n",
    "train_loader = DataLoader(train_dataset, batch_size=batch_size, shuffle=True)\n",
    "val_loader = DataLoader(val_dataset, batch_size=batch_size)\n"
   ]
  },
  {
   "cell_type": "markdown",
   "metadata": {},
   "source": [
    "Set Device and Train with Optuna & Prediction Logic"
   ]
  },
  {
   "cell_type": "code",
   "execution_count": null,
   "metadata": {},
   "outputs": [],
   "source": [
    "# ==== Device & Save Path ====\n",
    "device = torch.device(\"cuda\" if torch.cuda.is_available() else \"cpu\")\n",
    "os.makedirs(model_save_path, exist_ok=True)\n",
    "\n",
    "# ==== Use optuna_tune_and_train from PyTorchModular ====\n",
    "best_model, best_params = optuna_tune_and_train(\n",
    "    model_class=GRUModel,  # Pass the model class (GRUModel in this case)\n",
    "    train_loader=train_loader,\n",
    "    val_loader=val_loader,\n",
    "    device=device,\n",
    "    input_size=len(feature_cols),  # Pass input_size dynamically based on the number of features\n",
    "    max_epochs=50,  # Number of epochs\n",
    "    model_save_path=model_save_path,\n",
    "    model_name=\"GRU_exog_Optuna\",  # Model name for saving\n",
    "    n_trials=30,  # Number of Optuna trials\n",
    "    verbose=True  # Print progress\n",
    ")\n",
    "\n",
    "print(\"Training completed. Best hyperparameters:\", best_params)\n",
    "\n",
    "\n",
    "# ==== Prediction Logic ====\n",
    "\n",
    "# Function to load the model for inference\n",
    "def load_model(model_save_path, best_params, feature_cols, device):\n",
    "    best_model_path = os.path.join(model_save_path, \"GRU_exog_Optuna_best.pt\")\n",
    "    best_model = GRUModel(\n",
    "        input_size=len(feature_cols),\n",
    "        hidden_size=best_params['hidden_size'],\n",
    "        num_layers=best_params['num_layers'],\n",
    "        output_size=1,\n",
    "        dropout=best_params['dropout']\n",
    "    ).to(device)\n",
    "    best_model.load_state_dict(torch.load(best_model_path))\n",
    "    best_model.eval()\n",
    "    return best_model\n",
    "\n",
    "# Function to make predictions and inverse transform results\n",
    "def make_predictions(model, X_val, y_val, scaler, feature_cols, device):\n",
    "    with torch.no_grad():\n",
    "        y_pred = model(torch.tensor(X_val).float().to(device)).squeeze().cpu().numpy()\n",
    "\n",
    "    # Inverse transform results\n",
    "    y_val_original = scaler.inverse_transform(\n",
    "        np.hstack([y_val.reshape(-1, 1), np.zeros((len(y_val), len(feature_cols)-1))])\n",
    "    )[:, 0]\n",
    "\n",
    "    y_pred_original = scaler.inverse_transform(\n",
    "        np.hstack([y_pred.reshape(-1, 1), np.zeros((len(y_pred), len(feature_cols)-1))])\n",
    "    )[:, 0]\n",
    "    \n",
    "    return y_val_original, y_pred_original\n",
    "\n"
   ]
  },
  {
   "cell_type": "markdown",
   "metadata": {},
   "source": [
    "RMSE and Saving Predictions & Main Execution Function"
   ]
  },
  {
   "cell_type": "code",
   "execution_count": null,
   "metadata": {},
   "outputs": [],
   "source": [
    "# Function to calculate RMSE\n",
    "def calculate_rmse(y_val_original, y_pred_original):\n",
    "    return np.sqrt(mean_squared_error(y_val_original, y_pred_original))\n",
    "\n",
    "# Function to save predictions as GRU.npy\n",
    "def save_predictions(predictions, project_root):\n",
    "    pred_save_path = os.path.join(project_root, \"Predictions\", \"GRU.npy\")\n",
    "    np.save(pred_save_path, predictions)\n",
    "    print(f\"Saved GRU predictions to: {pred_save_path}\")\n",
    "\n",
    "# Function to trim the last N values of predictions and save the file\n",
    "def trim_and_save_predictions(predictions_path, n_trim=48):\n",
    "    gru_preds = np.load(predictions_path)\n",
    "    gru_preds_trimmed = gru_preds[-n_trim:]\n",
    "    np.save(predictions_path, gru_preds_trimmed)\n",
    "    print(f\"Trimmed GRU_exog.npy to {len(gru_preds_trimmed)} values and saved.\")\n",
    "\n",
    "\n",
    "# Main execution function for predictions\n",
    "def main(model_save_path, best_params, X_val, y_val, scaler, feature_cols, device, project_root):\n",
    "    # Load the trained model\n",
    "    model = load_model(model_save_path, best_params, feature_cols, device)\n",
    "\n",
    "    # Make predictions and inverse transform\n",
    "    y_val_original, y_pred_original = make_predictions(model, X_val, y_val, scaler, feature_cols, device)\n",
    "\n",
    "    # Calculate RMSE\n",
    "    rmse = calculate_rmse(y_val_original, y_pred_original)\n",
    "    print(f\"Validation RMSE: {rmse:.4f}\")\n",
    "\n",
    "    # Save predictions to GRU.npy\n",
    "    save_predictions(y_pred_original, project_root)\n",
    "\n",
    "    # Trim the last 48 values from the predictions and save\n",
    "    predictions_path = os.path.join(project_root, \"Predictions\", \"GRU.npy\")\n",
    "    trim_and_save_predictions(predictions_path, n_trim=48)\n",
    "\n",
    "# Assuming these variables are already defined: model_save_path, best_params, X_val, y_val, scaler, feature_cols, device, project_root\n",
    "main(model_save_path, best_params, X_val, y_val, scaler, feature_cols, device, project_root)\n",
    "\n"
   ]
  }
 ],
 "metadata": {
  "kernelspec": {
   "display_name": "Python 3",
   "language": "python",
   "name": "python3"
  },
  "language_info": {
   "codemirror_mode": {
    "name": "ipython",
    "version": 3
   },
   "file_extension": ".py",
   "mimetype": "text/x-python",
   "name": "python",
   "nbconvert_exporter": "python",
   "pygments_lexer": "ipython3",
   "version": "3.11.9"
  }
 },
 "nbformat": 4,
 "nbformat_minor": 2
}
