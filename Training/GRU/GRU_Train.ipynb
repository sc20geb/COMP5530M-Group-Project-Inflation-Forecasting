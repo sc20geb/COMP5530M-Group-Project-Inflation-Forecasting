{
 "cells": [
  {
   "cell_type": "markdown",
   "metadata": {},
   "source": [
    "Setup and Project Root & Import Libraries"
   ]
  },
  {
   "cell_type": "code",
   "execution_count": 1,
   "metadata": {},
   "outputs": [],
   "source": [
    "import sys, os\n",
    "# ==== Set Project Root ====\n",
    "project_root = os.path.abspath(os.path.join(os.getcwd(), \"..\", \"..\"))\n",
    "sys.path.append(project_root)\n",
    "\n",
    "# Ensure the model save directory exists\n",
    "model_save_path = os.path.join(project_root, 'Models', 'Weights', 'GRU')\n",
    "os.makedirs(model_save_path, exist_ok=True)\n",
    "\n",
    "import pandas as pd\n",
    "import numpy as np\n",
    "import torch\n",
    "from torch.utils.data import TensorDataset, DataLoader\n",
    "from sklearn.preprocessing import StandardScaler\n",
    "from Models.GRU import GRUModel  # Assuming GRU model is defined in Models/GRU.py\n",
    "from Training.Helper.PyTorchModular import optuna_tune_and_train, split_params  # Import Optuna function\n",
    "from Training.Helper.dataPreprocessing import create_sequences, add_lagged_features, add_rolling_features, add_time_features, add_dimension, TRAIN_DATA_SPLIT\n",
    "from Evaluation.Helper.evaluation_helpers import calc_metrics_arrays, make_evaluation_predictions\n"
   ]
  },
  {
   "cell_type": "markdown",
   "metadata": {},
   "source": [
    "Load and Prepare Data & Feature Engineering"
   ]
  },
  {
   "cell_type": "code",
   "execution_count": 2,
   "metadata": {},
   "outputs": [
    {
     "name": "stderr",
     "output_type": "stream",
     "text": [
      "2025-04-15 12:16:51,175 - INFO - Added time features: year, month, quarter. DataFrame shape: (408, 363)\n",
      "2025-04-15 12:16:51,182 - INFO - Added lagged features with lags [1, 3, 6] to target columns ['y']. DataFrame shape: (408, 372)\n",
      "2025-04-15 12:16:51,186 - INFO - Added rolling mean and standard deviation features to target column y. DataFrame shape: (408, 378)\n"
     ]
    }
   ],
   "source": [
    "# ==== Load & Prepare CSV ====\n",
    "train_file = os.path.join(project_root, \"Data\", \"Train\", \"train1990s.csv\")\n",
    "df = pd.read_csv(train_file)\n",
    "df['ds'] = pd.to_datetime(df['observation_date'], format='%m/%Y')\n",
    "df = df.rename(columns={'fred_PCEPI': 'y'})\n",
    "\n",
    "\n",
    "# ==== Feature Engineering ====\n",
    "\n",
    "# Adding time-based features\n",
    "df = add_time_features(df, date_col='ds')\n",
    "\n",
    "# Adding sine and cosine monthly features of various wavelengths (seasonality features)\n",
    "for k in range(1, 4):\n",
    "    df[f'sin_{k}'] = np.sin(2 * np.pi * k * df['month'] / 12)\n",
    "    df[f'cos_{k}'] = np.cos(2 * np.pi * k * df['month'] / 12)\n",
    "\n",
    "# Adding lag features\n",
    "df = add_lagged_features(df, target_cols=['y'], lags=[1, 3, 6])\n",
    "\n",
    "# Adding rolling features\n",
    "df = add_rolling_features(df, target_col='y', windows=[3, 6, 12])\n",
    "\n",
    "df = df.dropna().reset_index(drop=True)\n"
   ]
  },
  {
   "cell_type": "markdown",
   "metadata": {},
   "source": [
    "Scaling and Sequence Preparation & DataLoaders"
   ]
  },
  {
   "cell_type": "code",
   "execution_count": 3,
   "metadata": {},
   "outputs": [],
   "source": [
    "# ==== Scaling ====\n",
    "feature_cols = ['y'] + [col for col in df.columns if col.startswith(('sin_', 'cos_', 'y_lag_', 'rolling_'))]\n",
    "scaler = StandardScaler()\n",
    "\n",
    "scaled = scaler.fit_transform(df[feature_cols])\n",
    "scaled_df = pd.DataFrame(scaled, columns=feature_cols)\n",
    "\n",
    "# ==== Sequence Prep ====\n",
    "sequence_length = 12\n",
    "X, y = create_sequences(\n",
    "    scaled_df[feature_cols].values,\n",
    "    scaled_df['y'].values,\n",
    "    sequence_length\n",
    ")\n",
    "X = X.reshape((-1, sequence_length, len(feature_cols)))\n",
    "y = add_dimension(y)\n",
    "\n",
    "# ==== Train/Val Split ====\n",
    "split_idx = int(TRAIN_DATA_SPLIT * len(X))\n",
    "X_train, y_train = X[:split_idx], y[:split_idx]\n",
    "X_val, y_val = X[split_idx:], y[split_idx:]\n",
    "\n",
    "# ==== DataLoaders ====\n",
    "batch_size = 32\n",
    "train_dataset = TensorDataset(torch.tensor(X_train).float(), torch.tensor(y_train).float())\n",
    "val_dataset = TensorDataset(torch.tensor(X_val).float(), torch.tensor(y_val).float())\n",
    "\n",
    "train_loader = DataLoader(train_dataset, batch_size=batch_size, shuffle=True)\n",
    "val_loader = DataLoader(val_dataset, batch_size=batch_size)\n"
   ]
  },
  {
   "cell_type": "markdown",
   "metadata": {},
   "source": [
    "Set Device and Train with Optuna & Prediction Logic"
   ]
  },
  {
   "cell_type": "code",
   "execution_count": 4,
   "metadata": {},
   "outputs": [
    {
     "name": "stderr",
     "output_type": "stream",
     "text": [
      "[I 2025-04-15 12:16:51,239] A new study created in memory with name: GRU_exog_Optuna_hyperparameter_optimisation\n"
     ]
    },
    {
     "name": "stdout",
     "output_type": "stream",
     "text": [
      "Running Optuna hyperparameter tuning...\n"
     ]
    },
    {
     "name": "stderr",
     "output_type": "stream",
     "text": [
      "[I 2025-04-15 12:16:57,898] Trial 0 finished with value: 1.4602183242896936 and parameters: {'hidden_size': 218, 'num_layers': 3, 'lr': 0.04888332583074115}. Best is trial 0 with value: 1.4602183242896936.\n",
      "[I 2025-04-15 12:17:01,728] Trial 1 finished with value: 0.8360195872071502 and parameters: {'hidden_size': 106, 'num_layers': 4, 'lr': 0.05968982015929966}. Best is trial 1 with value: 0.8360195872071502.\n",
      "[I 2025-04-15 12:17:04,037] Trial 2 finished with value: 0.6604519943138222 and parameters: {'hidden_size': 72, 'num_layers': 3, 'lr': 0.062108916270227736}. Best is trial 2 with value: 0.6604519943138222.\n",
      "[I 2025-04-15 12:17:06,845] Trial 3 pruned. \n",
      "[I 2025-04-15 12:17:09,116] Trial 4 finished with value: 0.3705237763268607 and parameters: {'hidden_size': 67, 'num_layers': 3, 'lr': 0.03784785434564816}. Best is trial 4 with value: 0.3705237763268607.\n",
      "[I 2025-04-15 12:17:11,757] Trial 5 finished with value: 0.3500376676584219 and parameters: {'hidden_size': 37, 'num_layers': 4, 'lr': 0.025682683173716813}. Best is trial 5 with value: 0.3500376676584219.\n",
      "[I 2025-04-15 12:17:13,533] Trial 6 finished with value: 0.2593662994248526 and parameters: {'hidden_size': 92, 'num_layers': 2, 'lr': 0.025103883427707724}. Best is trial 6 with value: 0.2593662994248526.\n",
      "[I 2025-04-15 12:17:14,126] Trial 7 pruned. \n",
      "[I 2025-04-15 12:17:15,087] Trial 8 finished with value: 0.05718124164389325 and parameters: {'hidden_size': 104, 'num_layers': 1, 'lr': 0.008272915731794069}. Best is trial 8 with value: 0.05718124164389325.\n",
      "[I 2025-04-15 12:17:17,700] Trial 9 pruned. \n",
      "[I 2025-04-15 12:17:18,935] Trial 10 finished with value: 0.047165678499580976 and parameters: {'hidden_size': 164, 'num_layers': 1, 'lr': 0.000868375478252234}. Best is trial 10 with value: 0.047165678499580976.\n",
      "[I 2025-04-15 12:17:19,194] Trial 11 pruned. \n",
      "[I 2025-04-15 12:17:20,413] Trial 12 finished with value: 0.03643776960187144 and parameters: {'hidden_size': 158, 'num_layers': 1, 'lr': 0.001774912819787252}. Best is trial 12 with value: 0.03643776960187144.\n",
      "[I 2025-04-15 12:17:20,671] Trial 13 pruned. \n",
      "[I 2025-04-15 12:17:23,339] Trial 14 finished with value: 0.03524711621659143 and parameters: {'hidden_size': 182, 'num_layers': 2, 'lr': 0.0010172827476209224}. Best is trial 14 with value: 0.03524711621659143.\n",
      "[I 2025-04-15 12:17:24,513] Trial 15 pruned. \n",
      "[I 2025-04-15 12:17:26,697] Trial 16 pruned. \n",
      "[I 2025-04-15 12:17:27,856] Trial 17 pruned. \n",
      "[I 2025-04-15 12:17:29,042] Trial 18 pruned. \n",
      "[I 2025-04-15 12:17:29,651] Trial 19 pruned. \n",
      "[I 2025-04-15 12:17:30,037] Trial 20 pruned. \n",
      "[I 2025-04-15 12:17:30,347] Trial 21 pruned. \n",
      "[I 2025-04-15 12:17:31,558] Trial 22 finished with value: 0.028037460206390974 and parameters: {'hidden_size': 139, 'num_layers': 1, 'lr': 0.004923896136630399}. Best is trial 22 with value: 0.028037460206390974.\n",
      "[I 2025-04-15 12:17:32,436] Trial 23 pruned. \n",
      "[I 2025-04-15 12:17:32,935] Trial 24 pruned. \n",
      "[I 2025-04-15 12:17:33,587] Trial 25 pruned. \n",
      "[I 2025-04-15 12:17:34,938] Trial 26 finished with value: 0.02699066698551178 and parameters: {'hidden_size': 174, 'num_layers': 1, 'lr': 0.006809665134705732}. Best is trial 26 with value: 0.02699066698551178.\n",
      "[I 2025-04-15 12:17:36,620] Trial 27 pruned. \n",
      "[I 2025-04-15 12:17:37,101] Trial 28 pruned. \n",
      "[I 2025-04-15 12:17:37,741] Trial 29 pruned. \n"
     ]
    },
    {
     "name": "stdout",
     "output_type": "stream",
     "text": [
      "Best hyperparameters found: {'hidden_size': 174, 'num_layers': 1, 'lr': 0.006809665134705732}\n"
     ]
    },
    {
     "data": {
      "application/vnd.jupyter.widget-view+json": {
       "model_id": "fab218cb47dc4cbf831b971aa4ef73bc",
       "version_major": 2,
       "version_minor": 0
      },
      "text/plain": [
       "Training Progress:   0%|          | 0/50 [00:00<?, ?it/s]"
      ]
     },
     "metadata": {},
     "output_type": "display_data"
    },
    {
     "name": "stdout",
     "output_type": "stream",
     "text": [
      "Epoch 1/50 - Train Loss: 0.173992, Val Loss: 0.373919\n",
      "Best model saved at c:\\Users\\George\\source\\repos\\COMP5530M-Group-Project-Inflation-Forecasting\\Models\\Weights\\GRU\\GRU_exog_Optuna_BEST_STOPPED_AT_1.pth (Epoch 1)\n",
      "Epoch 2/50 - Train Loss: 0.017853, Val Loss: 0.016808\n",
      "Best model saved at c:\\Users\\George\\source\\repos\\COMP5530M-Group-Project-Inflation-Forecasting\\Models\\Weights\\GRU\\GRU_exog_Optuna_BEST_STOPPED_AT_2.pth (Epoch 2)\n",
      "Epoch 3/50 - Train Loss: 0.006545, Val Loss: 0.042206\n",
      "Epoch 4/50 - Train Loss: 0.001621, Val Loss: 0.027730\n",
      "Epoch 5/50 - Train Loss: 0.000813, Val Loss: 0.026658\n",
      "Epoch 6/50 - Train Loss: 0.000527, Val Loss: 0.030485\n",
      "Epoch 7/50 - Train Loss: 0.000373, Val Loss: 0.026964\n",
      "Epoch 8/50 - Train Loss: 0.000336, Val Loss: 0.027031\n",
      "Epoch 9/50 - Train Loss: 0.000356, Val Loss: 0.022902\n",
      "Epoch 10/50 - Train Loss: 0.000451, Val Loss: 0.026700\n",
      "Epoch 11/50 - Train Loss: 0.000417, Val Loss: 0.019283\n",
      "Epoch 12/50 - Train Loss: 0.000345, Val Loss: 0.024105\n",
      "Epoch 13/50 - Train Loss: 0.000407, Val Loss: 0.019205\n",
      "Epoch 14/50 - Train Loss: 0.000503, Val Loss: 0.028858\n",
      "Epoch 15/50 - Train Loss: 0.000485, Val Loss: 0.018492\n",
      "Epoch 16/50 - Train Loss: 0.000443, Val Loss: 0.013784\n",
      "Best model saved at c:\\Users\\George\\source\\repos\\COMP5530M-Group-Project-Inflation-Forecasting\\Models\\Weights\\GRU\\GRU_exog_Optuna_BEST_STOPPED_AT_16.pth (Epoch 16)\n",
      "Epoch 17/50 - Train Loss: 0.000429, Val Loss: 0.018014\n",
      "Epoch 18/50 - Train Loss: 0.000501, Val Loss: 0.022518\n",
      "Epoch 19/50 - Train Loss: 0.000466, Val Loss: 0.017736\n",
      "Epoch 20/50 - Train Loss: 0.000368, Val Loss: 0.016970\n",
      "Epoch 21/50 - Train Loss: 0.000478, Val Loss: 0.028813\n",
      "Epoch 22/50 - Train Loss: 0.000568, Val Loss: 0.014980\n",
      "Epoch 23/50 - Train Loss: 0.000523, Val Loss: 0.011124\n",
      "Best model saved at c:\\Users\\George\\source\\repos\\COMP5530M-Group-Project-Inflation-Forecasting\\Models\\Weights\\GRU\\GRU_exog_Optuna_BEST_STOPPED_AT_23.pth (Epoch 23)\n",
      "Epoch 24/50 - Train Loss: 0.000611, Val Loss: 0.013734\n",
      "Epoch 25/50 - Train Loss: 0.000490, Val Loss: 0.015367\n",
      "Epoch 26/50 - Train Loss: 0.000374, Val Loss: 0.016619\n",
      "Epoch 27/50 - Train Loss: 0.000444, Val Loss: 0.017594\n",
      "Epoch 28/50 - Train Loss: 0.000389, Val Loss: 0.010795\n",
      "Best model saved at c:\\Users\\George\\source\\repos\\COMP5530M-Group-Project-Inflation-Forecasting\\Models\\Weights\\GRU\\GRU_exog_Optuna_BEST_STOPPED_AT_28.pth (Epoch 28)\n",
      "Epoch 29/50 - Train Loss: 0.000484, Val Loss: 0.015105\n",
      "Epoch 30/50 - Train Loss: 0.000543, Val Loss: 0.017298\n",
      "Epoch 31/50 - Train Loss: 0.000595, Val Loss: 0.014937\n",
      "Epoch 32/50 - Train Loss: 0.000502, Val Loss: 0.008949\n",
      "Best model saved at c:\\Users\\George\\source\\repos\\COMP5530M-Group-Project-Inflation-Forecasting\\Models\\Weights\\GRU\\GRU_exog_Optuna_BEST_STOPPED_AT_32.pth (Epoch 32)\n",
      "Epoch 33/50 - Train Loss: 0.000626, Val Loss: 0.015207\n",
      "Epoch 34/50 - Train Loss: 0.000854, Val Loss: 0.021195\n",
      "Epoch 35/50 - Train Loss: 0.001009, Val Loss: 0.028632\n",
      "Epoch 36/50 - Train Loss: 0.000959, Val Loss: 0.022154\n",
      "Epoch 37/50 - Train Loss: 0.000672, Val Loss: 0.024665\n",
      "Epoch 38/50 - Train Loss: 0.000667, Val Loss: 0.017698\n",
      "Epoch 39/50 - Train Loss: 0.000644, Val Loss: 0.015155\n",
      "Epoch 40/50 - Train Loss: 0.000426, Val Loss: 0.010210\n",
      "Epoch 41/50 - Train Loss: 0.000413, Val Loss: 0.014401\n",
      "Epoch 42/50 - Train Loss: 0.000487, Val Loss: 0.013171\n",
      "Epoch 43/50 - Train Loss: 0.000793, Val Loss: 0.016394\n",
      "Epoch 44/50 - Train Loss: 0.000661, Val Loss: 0.013618\n",
      "Epoch 45/50 - Train Loss: 0.000640, Val Loss: 0.021603\n",
      "Epoch 46/50 - Train Loss: 0.000580, Val Loss: 0.016732\n",
      "Epoch 47/50 - Train Loss: 0.000400, Val Loss: 0.017772\n",
      "Early stopping. counter: 15\n",
      "Best weights restored.\n",
      "Early stopping at epoch 47. Best model restored.\n",
      "Model training complete and saved!\n",
      "Training completed. Best hyperparameters: {'hidden_size': 174, 'num_layers': 1, 'lr': 0.006809665134705732}\n"
     ]
    }
   ],
   "source": [
    "# ==== Device & Save Path ====\n",
    "device = torch.device(\"cuda\" if torch.cuda.is_available() else \"cpu\")\n",
    "os.makedirs(model_save_path, exist_ok=True)\n",
    "\n",
    "# ==== Use optuna_tune_and_train from PyTorchModular ====\n",
    "#best_model, best_params = optuna_tune_and_train(\n",
    "#    model_class=GRUModel,  # Pass the model class (GRUModel in this case)\n",
    "#    train_loader=train_loader,\n",
    "#    val_loader=val_loader,\n",
    "#    device=device,\n",
    "#    input_size=len(feature_cols), # Pass input_size dynamically based on the number of features\n",
    "#    max_epochs=50,  # Number of epochs\n",
    "#    model_save_path=model_save_path,\n",
    "#    model_name=\"GRU_exog_Optuna\",  # Model name for saving\n",
    "#    n_trials=30,  # Number of Optuna trials\n",
    "#    verbose=False  # Print progress\n",
    "#)\n",
    "\n",
    "model_invariates = {'input_size': len(feature_cols), 'output_size': 1}\n",
    "model_search_space={\"hidden_size\": (int, (32, 256)), \"num_layers\": (int, (1, 4))}\n",
    "optim_search_space={\"lr\": (float, (1e-5, 1e-1))}\n",
    "\n",
    "best_model, metadata, study = optuna_tune_and_train(\n",
    "    model_class=GRUModel, \n",
    "    train_loader=train_loader, \n",
    "    val_loader=val_loader, \n",
    "    device=device,\n",
    "    model_search_space=model_search_space,\n",
    "    # Pass input_size dynamically based on the number of features\n",
    "    model_invariates=model_invariates,\n",
    "    optim_search_space=optim_search_space,\n",
    "    max_epochs=50,\n",
    "    model_save_path=model_save_path,\n",
    "    model_name=\"GRU_exog_Optuna\",\n",
    "    n_trials=30,\n",
    "    return_study=True,\n",
    "    verbose=True\n",
    ")\n",
    "\n",
    "print(\"Training completed. Best hyperparameters:\", study.best_params)\n",
    "\n",
    "best_model_params, best_optimiser_params = split_params(study.best_params, model_search_space, optim_search_space)\n",
    "\n",
    "\n",
    "# ==== Prediction Logic ====\n",
    "\n",
    "# Function to load the model for inference\n",
    "def load_model(model_save_path, model_invariates, best_model_params, device):\n",
    "    best_model_path = os.path.join(model_save_path, \"GRU_exog_Optuna_best.pth\")\n",
    "    best_model = GRUModel(**model_invariates, **best_model_params).to(device)\n",
    "    best_model.load_state_dict(torch.load(best_model_path))\n",
    "    best_model.eval()\n",
    "    return best_model\n",
    "\n",
    "# Function to make predictions and inverse transform results\n",
    "def make_predictions(model, X_val, y_val, scaler, feature_cols, device):\n",
    "    with torch.no_grad():\n",
    "        y_pred = model(torch.tensor(X_val).float().to(device)).squeeze().cpu().numpy()\n",
    "\n",
    "    # Inverse transform results\n",
    "    y_val_original = scaler.inverse_transform(\n",
    "        np.hstack([y_val.reshape(-1, 1), np.zeros((len(y_val), len(feature_cols)-1))])\n",
    "    )[:, 0]\n",
    "\n",
    "    y_pred_original = scaler.inverse_transform(\n",
    "        np.hstack([y_pred.reshape(-1, 1), np.zeros((len(y_pred), len(feature_cols)-1))])\n",
    "    )[:, 0]\n",
    "    \n",
    "    return y_val_original, y_pred_original"
   ]
  },
  {
   "cell_type": "code",
   "execution_count": 5,
   "metadata": {},
   "outputs": [
    {
     "data": {
      "image/png": "[encoded data removed]",
      "text/plain": [
       "<Figure size 1000x500 with 1 Axes>"
      ]
     },
     "metadata": {},
     "output_type": "display_data"
    }
   ],
   "source": [
    "from Training.Helper.PyTorchModular import loss_curve\n",
    "\n",
    "# An interesting consideration - look at a graph showing the loss stats over time for the final training run\n",
    "loss_curve(metadata['trainLoss'], metadata['validLoss'], 'GRU Best Model Final Training vs. Validation Loss')"
   ]
  },
  {
   "cell_type": "markdown",
   "metadata": {},
   "source": [
    "RMSE and Saving Predictions & Main Execution Function"
   ]
  },
  {
   "cell_type": "code",
   "execution_count": 9,
   "metadata": {},
   "outputs": [
    {
     "data": {
      "text/html": [
       "<div>\n",
       "<style scoped>\n",
       "    .dataframe tbody tr th:only-of-type {\n",
       "        vertical-align: middle;\n",
       "    }\n",
       "\n",
       "    .dataframe tbody tr th {\n",
       "        vertical-align: top;\n",
       "    }\n",
       "\n",
       "    .dataframe thead th {\n",
       "        text-align: right;\n",
       "    }\n",
       "</style>\n",
       "<table border=\"1\" class=\"dataframe\">\n",
       "  <thead>\n",
       "    <tr style=\"text-align: right;\">\n",
       "      <th></th>\n",
       "      <th>RMSE</th>\n",
       "      <th>MAE</th>\n",
       "      <th>r2</th>\n",
       "    </tr>\n",
       "  </thead>\n",
       "  <tbody>\n",
       "    <tr>\n",
       "      <th>GRU</th>\n",
       "      <td>1.48356</td>\n",
       "      <td>1.110716</td>\n",
       "      <td>0.955593</td>\n",
       "    </tr>\n",
       "  </tbody>\n",
       "</table>\n",
       "</div>"
      ],
      "text/plain": [
       "        RMSE       MAE        r2\n",
       "GRU  1.48356  1.110716  0.955593"
      ]
     },
     "metadata": {},
     "output_type": "display_data"
    },
    {
     "name": "stdout",
     "output_type": "stream",
     "text": [
      "Trimmed GRU_exog.npy to 48 values and saved.\n"
     ]
    }
   ],
   "source": [
    "# Function to trim the last N values of predictions and save the file\n",
    "def trim_and_save_predictions(predictions_path, n_trim=48):\n",
    "    gru_preds = np.load(predictions_path)\n",
    "    gru_preds_trimmed = gru_preds[-n_trim:]\n",
    "    np.save(predictions_path, gru_preds_trimmed)\n",
    "    print(f\"Trimmed GRU_exog.npy to {len(gru_preds_trimmed)} values and saved.\")\n",
    "\n",
    "# Main execution function for predictions\n",
    "def main(model_save_path, model_invariates, best_model_params, val_loader, scaler, device, project_root):\n",
    "    # Load the trained model\n",
    "    model = load_model(model_save_path, model_invariates, best_model_params, device)\n",
    "\n",
    "    # Make predictions and inverse transform\n",
    "    y_pred_original, y_val_original = make_evaluation_predictions(model, val_loader, device=device, y_scaler=scaler, y_scaler_features=['y'])\n",
    "    \n",
    "    # Calculate metrics (change from default using 'metrics' keyword in calc_metrics_kwargs)\n",
    "    metrics = calc_metrics_arrays(y_val_original,  y_pred_original, model_names=['GRU'])\n",
    "    display(metrics)\n",
    "\n",
    "    # Save predictions to GRU.npy\n",
    "    pred_save_path = os.path.join(project_root, \"Predictions\", \"GRU.npy\")\n",
    "    np.save(pred_save_path, y_pred_original)\n",
    "\n",
    "    # Trim the last 48 values from the predictions and save\n",
    "    trim_and_save_predictions(pred_save_path, n_trim=48)\n",
    "\n",
    "# Assuming these variables are already defined: model_save_path, best_params, val_loader, scaler, feature_cols, device, project_root\n",
    "main(model_save_path, model_invariates, best_model_params, val_loader, scaler, device, project_root)"
   ]
  },
  {
   "cell_type": "code",
   "execution_count": null,
   "metadata": {},
   "outputs": [
    {
     "name": "stdout",
     "output_type": "stream",
     "text": [
      "Removed file at: c:\\Users\\George\\source\\repos\\COMP5530M-Group-Project-Inflation-Forecasting\\Models\\Weights\\GRU\\GRU_inflation_BEST_STOPPED_AT_1.pth\n",
      "Removed file at: c:\\Users\\George\\source\\repos\\COMP5530M-Group-Project-Inflation-Forecasting\\Models\\Weights\\GRU\\GRU_inflation_BEST_STOPPED_AT_16.pth\n",
      "Removed file at: c:\\Users\\George\\source\\repos\\COMP5530M-Group-Project-Inflation-Forecasting\\Models\\Weights\\GRU\\GRU_inflation_BEST_STOPPED_AT_2.pth\n",
      "Removed file at: c:\\Users\\George\\source\\repos\\COMP5530M-Group-Project-Inflation-Forecasting\\Models\\Weights\\GRU\\GRU_inflation_BEST_STOPPED_AT_22.pth\n",
      "Removed file at: c:\\Users\\George\\source\\repos\\COMP5530M-Group-Project-Inflation-Forecasting\\Models\\Weights\\GRU\\GRU_inflation_BEST_STOPPED_AT_31.pth\n",
      "Removed file at: c:\\Users\\George\\source\\repos\\COMP5530M-Group-Project-Inflation-Forecasting\\Models\\Weights\\GRU\\GRU_inflation_BEST_STOPPED_AT_6.pth\n",
      "Removed file at: c:\\Users\\George\\source\\repos\\COMP5530M-Group-Project-Inflation-Forecasting\\Models\\Weights\\GRU\\GRU_inflation_BEST_STOPPED_AT_7.pth\n",
      "Removed file at: c:\\Users\\George\\source\\repos\\COMP5530M-Group-Project-Inflation-Forecasting\\Models\\Weights\\GRU\\GRU_inflation_BEST_STOPPED_AT_8.pth\n",
      "Removed file at: c:\\Users\\George\\source\\repos\\COMP5530M-Group-Project-Inflation-Forecasting\\Models\\Weights\\GRU\\GRU_inflation_BEST_STOPPED_AT_9.pth\n"
     ]
    }
   ],
   "source": [
    "# In case this is found useful\n",
    "\n",
    "#from Training.Helper.weightFileCleaner import cleanWeightFiles\n",
    "\n",
    "#cleanWeightFiles('GRU_exog_optuna', dirPath=model_save_path, verbose=True)"
   ]
  }
 ],
 "metadata": {
  "kernelspec": {
   "display_name": ".venv",
   "language": "python",
   "name": "python3"
  },
  "language_info": {
   "codemirror_mode": {
    "name": "ipython",
    "version": 3
   },
   "file_extension": ".py",
   "mimetype": "text/x-python",
   "name": "python",
   "nbconvert_exporter": "python",
   "pygments_lexer": "ipython3",
   "version": "3.12.2"
  }
 },
 "nbformat": 4,
 "nbformat_minor": 2
}
