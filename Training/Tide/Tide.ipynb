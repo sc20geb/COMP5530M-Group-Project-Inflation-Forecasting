{
 "cells": [
  {
   "cell_type": "code",
   "execution_count": 1,
   "metadata": {},
   "outputs": [],
   "source": [
    "from darts.models import TiDEModel\n",
    "from darts.dataprocessing.transformers.scaler import Scaler\n",
    "from pytorch_lightning.callbacks.early_stopping import EarlyStopping as EarlyStopping_lightning\n",
    "from torch.optim import lr_scheduler"
   ]
  },
  {
   "cell_type": "code",
   "execution_count": 2,
   "metadata": {},
   "outputs": [
    {
     "name": "stdout",
     "output_type": "stream",
     "text": [
      "Project root added to sys.path: c:\\Users\\James\\COMP5530M-Group-Project-Inflation-Forecasting\n"
     ]
    }
   ],
   "source": [
    "import sys\n",
    "import os\n",
    "\n",
    "# Go up two levels from notebook (Training/MLR) to project root\n",
    "project_root = os.path.abspath(os.path.join(os.getcwd(), \"../..\"))\n",
    "sys.path.append(project_root)\n",
    "\n",
    "print(\"Project root added to sys.path:\", project_root)\n",
    "# Ensure the model save directory exists\n",
    "model_save_path = os.path.join('.')\n",
    "os.makedirs(model_save_path, exist_ok=True)  # Creates directory if it doesn't exist"
   ]
  },
  {
   "cell_type": "markdown",
   "metadata": {},
   "source": [
    "Data loading"
   ]
  },
  {
   "cell_type": "code",
   "execution_count": 3,
   "metadata": {},
   "outputs": [],
   "source": [
    "import pandas as pd\n",
    "from Training.Helper.dataPreprocessing import TRAIN_DATA_PATH_1990S, get_untransformed_exog\n",
    "date_col = 'observation_date'\n",
    "\n",
    "# Load and format training data (only using PCEPI)\n",
    "train_df = pd.read_csv(TRAIN_DATA_PATH_1990S)\n",
    "train_df = get_untransformed_exog(train_df)\n",
    "# Convert the date column to datetime format\n",
    "train_df[date_col] = pd.to_datetime(train_df[date_col], format='%m/%Y')\n",
    "\n",
    "# Set the date column as the index\n",
    "train_df.set_index(date_col, inplace=True)"
   ]
  },
  {
   "cell_type": "code",
   "execution_count": 4,
   "metadata": {},
   "outputs": [],
   "source": [
    "from Training.Helper.dataPreprocessing import rank_features_ccf\n",
    "\n",
    "# Ranks all non-date variables\n",
    "ranked_features = rank_features_ccf(train_df)\n",
    "\n",
    "# Define the number of features that should be used\n",
    "FEATURES_TO_USE = len(ranked_features) #ensure this is all features for Optuna to work properly\n",
    "used_features = ranked_features[:FEATURES_TO_USE]"
   ]
  },
  {
   "cell_type": "code",
   "execution_count": 5,
   "metadata": {},
   "outputs": [],
   "source": [
    "def get_ranked_df(train_df, ranked_features, features_to_use):\n",
    "    return train_df.loc[:,ranked_features[:features_to_use]]"
   ]
  },
  {
   "cell_type": "code",
   "execution_count": 6,
   "metadata": {},
   "outputs": [],
   "source": [
    "import numpy as np\n",
    "target_col = \"fred_log\"\n",
    "#target_col = \"fred_PCEPI\"\n",
    "train_df[\"fred_log\"] = np.log(train_df[\"fred_PCEPI\"])\n",
    "\n",
    "train_df_ranked = get_ranked_df(train_df, ranked_features, FEATURES_TO_USE)\n",
    "train_df_ranked[target_col] = train_df[target_col]"
   ]
  },
  {
   "cell_type": "code",
   "execution_count": 7,
   "metadata": {},
   "outputs": [],
   "source": [
    "from darts import TimeSeries\n",
    "\n",
    "def get_target_exogenous_series(train_df, target_col):\n",
    "    target_series = TimeSeries.from_series(train_df[target_col])\n",
    "\n",
    "    # Extract the exogenous variables (all columns except 'fred_PCEPI')\n",
    "    exogenous_variables = train_df.drop(columns=[target_col])\n",
    "    exogenous_series = TimeSeries.from_dataframe(exogenous_variables)\n",
    "    return target_series, exogenous_series"
   ]
  },
  {
   "cell_type": "code",
   "execution_count": 8,
   "metadata": {},
   "outputs": [],
   "source": [
    "from darts import TimeSeries\n",
    "\n",
    "target_series, exogenous_series = get_target_exogenous_series(train_df, target_col)"
   ]
  },
  {
   "cell_type": "code",
   "execution_count": 9,
   "metadata": {},
   "outputs": [],
   "source": [
    "target_series_ranked, exogenous_series_ranked = get_target_exogenous_series(train_df_ranked, target_col)"
   ]
  },
  {
   "cell_type": "markdown",
   "metadata": {},
   "source": [
    "Basic model"
   ]
  },
  {
   "cell_type": "code",
   "execution_count": 10,
   "metadata": {},
   "outputs": [
    {
     "name": "stderr",
     "output_type": "stream",
     "text": [
      "2025-04-23 03:22:06,230 - INFO - Train dataset contains 379 samples.\n",
      "2025-04-23 03:22:06,235 - INFO - Time series values are 64-bits; casting model to float64.\n",
      "GPU available: True (cuda), used: True\n",
      "TPU available: False, using: 0 TPU cores\n",
      "HPU available: False, using: 0 HPUs\n",
      "LOCAL_RANK: 0 - CUDA_VISIBLE_DEVICES: [0]\n",
      "\n",
      "  | Name                | Type             | Params | Mode \n",
      "-----------------------------------------------------------------\n",
      "0 | criterion           | MSELoss          | 0      | train\n",
      "1 | train_criterion     | MSELoss          | 0      | train\n",
      "2 | val_criterion       | MSELoss          | 0      | train\n",
      "3 | train_metrics       | MetricCollection | 0      | train\n",
      "4 | val_metrics         | MetricCollection | 0      | train\n",
      "5 | past_cov_projection | _ResidualBlock   | 18.3 K | train\n",
      "6 | encoders            | Sequential       | 47.5 K | train\n",
      "7 | decoders            | Sequential       | 41.3 K | train\n",
      "8 | temporal_decoder    | _ResidualBlock   | 594    | train\n",
      "9 | lookback_skip       | Linear           | 150    | train\n",
      "-----------------------------------------------------------------\n",
      "107 K     Trainable params\n",
      "0         Non-trainable params\n",
      "107 K     Total params\n",
      "0.431     Total estimated model params size (MB)\n",
      "36        Modules in train mode\n",
      "0         Modules in eval mode\n"
     ]
    },
    {
     "data": {
      "application/vnd.jupyter.widget-view+json": {
       "model_id": "148199f40f054a20802c442b9f73e78b",
       "version_major": 2,
       "version_minor": 0
      },
      "text/plain": [
       "Training: |          | 0/? [00:00<?, ?it/s]"
      ]
     },
     "metadata": {},
     "output_type": "display_data"
    },
    {
     "name": "stderr",
     "output_type": "stream",
     "text": [
      "`Trainer.fit` stopped: `max_epochs=100` reached.\n"
     ]
    },
    {
     "data": {
      "text/plain": [
       "TiDEModel(output_chunk_shift=0, num_encoder_layers=1, num_decoder_layers=1, decoder_output_dim=16, hidden_size=128, temporal_width_past=4, temporal_width_future=4, temporal_hidden_size_past=None, temporal_hidden_size_future=None, temporal_decoder_hidden=32, use_layer_norm=False, dropout=0.1, use_static_covariates=True, input_chunk_length=24, output_chunk_length=6)"
      ]
     },
     "execution_count": 10,
     "metadata": {},
     "output_type": "execute_result"
    }
   ],
   "source": [
    "model = TiDEModel(input_chunk_length=24, output_chunk_length=6)\n",
    "\n",
    "# Fit the model with the target series and exogenous variables\n",
    "model.fit(series=target_series,past_covariates=exogenous_series)"
   ]
  },
  {
   "cell_type": "code",
   "execution_count": 11,
   "metadata": {},
   "outputs": [
    {
     "name": "stderr",
     "output_type": "stream",
     "text": [
      "GPU available: True (cuda), used: True\n",
      "TPU available: False, using: 0 TPU cores\n",
      "HPU available: False, using: 0 HPUs\n",
      "LOCAL_RANK: 0 - CUDA_VISIBLE_DEVICES: [0]\n"
     ]
    },
    {
     "data": {
      "application/vnd.jupyter.widget-view+json": {
       "model_id": "f77d9df7085d412981560d2ee03c4d1f",
       "version_major": 2,
       "version_minor": 0
      },
      "text/plain": [
       "Predicting: |          | 0/? [00:00<?, ?it/s]"
      ]
     },
     "metadata": {},
     "output_type": "display_data"
    },
    {
     "data": {
      "text/plain": [
       "array([[  771.33022682],\n",
       "       [-1137.88941254],\n",
       "       [-2039.40915433],\n",
       "       [ 2398.08352231],\n",
       "       [ 1871.3918849 ],\n",
       "       [ 1404.03910962]])"
      ]
     },
     "execution_count": 11,
     "metadata": {},
     "output_type": "execute_result"
    }
   ],
   "source": [
    "pred = model.predict(6)\n",
    "pred.values()"
   ]
  },
  {
   "cell_type": "markdown",
   "metadata": {},
   "source": [
    "This is terrible"
   ]
  },
  {
   "cell_type": "code",
   "execution_count": 12,
   "metadata": {},
   "outputs": [
    {
     "name": "stderr",
     "output_type": "stream",
     "text": [
      "2025-04-23 03:22:18,713 - INFO - Train dataset contains 379 samples.\n",
      "2025-04-23 03:22:18,719 - INFO - Time series values are 64-bits; casting model to float64.\n",
      "GPU available: True (cuda), used: True\n",
      "TPU available: False, using: 0 TPU cores\n",
      "HPU available: False, using: 0 HPUs\n",
      "LOCAL_RANK: 0 - CUDA_VISIBLE_DEVICES: [0]\n",
      "\n",
      "  | Name                | Type             | Params | Mode \n",
      "-----------------------------------------------------------------\n",
      "0 | criterion           | MSELoss          | 0      | train\n",
      "1 | train_criterion     | MSELoss          | 0      | train\n",
      "2 | val_criterion       | MSELoss          | 0      | train\n",
      "3 | train_metrics       | MetricCollection | 0      | train\n",
      "4 | val_metrics         | MetricCollection | 0      | train\n",
      "5 | past_cov_projection | _ResidualBlock   | 18.2 K | train\n",
      "6 | encoders            | Sequential       | 47.5 K | train\n",
      "7 | decoders            | Sequential       | 41.3 K | train\n",
      "8 | temporal_decoder    | _ResidualBlock   | 594    | train\n",
      "9 | lookback_skip       | Linear           | 150    | train\n",
      "-----------------------------------------------------------------\n",
      "107 K     Trainable params\n",
      "0         Non-trainable params\n",
      "107 K     Total params\n",
      "0.431     Total estimated model params size (MB)\n",
      "36        Modules in train mode\n",
      "0         Modules in eval mode\n"
     ]
    },
    {
     "data": {
      "application/vnd.jupyter.widget-view+json": {
       "model_id": "544808d139254d87bd1f2b968681cb24",
       "version_major": 2,
       "version_minor": 0
      },
      "text/plain": [
       "Training: |          | 0/? [00:00<?, ?it/s]"
      ]
     },
     "metadata": {},
     "output_type": "display_data"
    },
    {
     "name": "stderr",
     "output_type": "stream",
     "text": [
      "`Trainer.fit` stopped: `max_epochs=100` reached.\n"
     ]
    },
    {
     "data": {
      "text/plain": [
       "TiDEModel(output_chunk_shift=0, num_encoder_layers=1, num_decoder_layers=1, decoder_output_dim=16, hidden_size=128, temporal_width_past=4, temporal_width_future=4, temporal_hidden_size_past=None, temporal_hidden_size_future=None, temporal_decoder_hidden=32, use_layer_norm=False, dropout=0.1, use_static_covariates=True, input_chunk_length=24, output_chunk_length=6)"
      ]
     },
     "execution_count": 12,
     "metadata": {},
     "output_type": "execute_result"
    }
   ],
   "source": [
    "model = TiDEModel(input_chunk_length=24, output_chunk_length=6)\n",
    "\n",
    "# Fit the model with the target series and exogenous variables\n",
    "model.fit(series=target_series_ranked,past_covariates=exogenous_series_ranked)"
   ]
  },
  {
   "cell_type": "code",
   "execution_count": 13,
   "metadata": {},
   "outputs": [
    {
     "name": "stderr",
     "output_type": "stream",
     "text": [
      "GPU available: True (cuda), used: True\n",
      "TPU available: False, using: 0 TPU cores\n",
      "HPU available: False, using: 0 HPUs\n",
      "LOCAL_RANK: 0 - CUDA_VISIBLE_DEVICES: [0]\n"
     ]
    },
    {
     "data": {
      "application/vnd.jupyter.widget-view+json": {
       "model_id": "d68a1e31287b47888aad7ae2fdf03a20",
       "version_major": 2,
       "version_minor": 0
      },
      "text/plain": [
       "Predicting: |          | 0/? [00:00<?, ?it/s]"
      ]
     },
     "metadata": {},
     "output_type": "display_data"
    },
    {
     "data": {
      "text/plain": [
       "array([[-2602.28059773],\n",
       "       [ -124.55474469],\n",
       "       [-1006.49332446],\n",
       "       [-2328.21797977],\n",
       "       [ -202.26882821],\n",
       "       [ 1321.43611995]])"
      ]
     },
     "execution_count": 13,
     "metadata": {},
     "output_type": "execute_result"
    }
   ],
   "source": [
    "pred = model.predict(6)\n",
    "pred.values()"
   ]
  },
  {
   "cell_type": "markdown",
   "metadata": {},
   "source": [
    "This is a lot more reasonable - indicating that having too many features causes the model problems."
   ]
  },
  {
   "cell_type": "markdown",
   "metadata": {},
   "source": [
    "Split validation and training then scale"
   ]
  },
  {
   "cell_type": "code",
   "execution_count": 14,
   "metadata": {},
   "outputs": [],
   "source": [
    "def fit_transform_TimeSeries(train_ts, val_ts, scaler):\n",
    "    scaled_train = scaler.fit_transform(train_ts)\n",
    "    scaled_val = scaler.transform(val_ts)\n",
    "    return scaled_train, scaled_val, scaler"
   ]
  },
  {
   "cell_type": "code",
   "execution_count": 15,
   "metadata": {},
   "outputs": [],
   "source": [
    "from Training.Helper.dataPreprocessing import TRAIN_DATA_SPLIT\n",
    "from sklearn.preprocessing import RobustScaler\n",
    "def split_and_scale_TimeSeries(target_series, exogenous_series):\n",
    "    train_target, val_target = target_series.split_after(TRAIN_DATA_SPLIT)\n",
    "    train_exo, val_exo = exogenous_series.split_after(TRAIN_DATA_SPLIT)\n",
    "    \n",
    "    # default uses sklearn's MinMaxScaler\n",
    "    scaled_train_target, scaled_val_target, targetScaler = fit_transform_TimeSeries(train_target, val_target, Scaler(RobustScaler()))\n",
    "    scaled_train_exo, scaled_val_exo, exoScaler = fit_transform_TimeSeries(train_exo, val_exo, Scaler(RobustScaler()))\n",
    "    return scaled_train_target, scaled_train_exo, scaled_val_target, scaled_val_exo, targetScaler, exoScaler"
   ]
  },
  {
   "cell_type": "code",
   "execution_count": 16,
   "metadata": {},
   "outputs": [],
   "source": [
    "scaled_train_target, scaled_train_exo, scaled_val_target, scaled_val_exo, targetScaler, exoScaler = split_and_scale_TimeSeries(target_series, exogenous_series)\n",
    "scaled_train_target_r, scaled_train_exo_r, scaled_val_target_r, scaled_val_exo_r, targetScaler_r, exoScaler_r = split_and_scale_TimeSeries(target_series_ranked, exogenous_series_ranked)"
   ]
  },
  {
   "cell_type": "code",
   "execution_count": 17,
   "metadata": {},
   "outputs": [],
   "source": [
    "# needed for the plot of unscaled series later\n",
    "train_target, val_target = target_series.split_after(TRAIN_DATA_SPLIT)"
   ]
  },
  {
   "cell_type": "code",
   "execution_count": 18,
   "metadata": {},
   "outputs": [
    {
     "data": {
      "text/plain": [
       "<Axes: xlabel='observation_date'>"
      ]
     },
     "execution_count": 18,
     "metadata": {},
     "output_type": "execute_result"
    },
    {
     "data": {
      "image/png": "[encoded data removed]",
      "text/plain": [
       "<Figure size 640x480 with 1 Axes>"
      ]
     },
     "metadata": {},
     "output_type": "display_data"
    }
   ],
   "source": [
    "scaled_train_target.plot(label=\"train\")\n",
    "scaled_val_target.plot(label=\"val\")"
   ]
  },
  {
   "cell_type": "markdown",
   "metadata": {},
   "source": [
    "Basic model"
   ]
  },
  {
   "cell_type": "code",
   "execution_count": 19,
   "metadata": {},
   "outputs": [],
   "source": [
    "OUT_LENGTH = 12\n",
    "\n",
    "early_stopper = EarlyStopping_lightning(\n",
    "    monitor='val_loss',\n",
    "    patience=10,\n",
    "    min_delta=1e-3,\n",
    "    mode='min'\n",
    ")\n",
    "lr_scheduler_kwargs = {\n",
    "    \"gamma\": 0.999,\n",
    "}\n",
    "model = TiDEModel(\n",
    "    input_chunk_length=48,\n",
    "    output_chunk_length=OUT_LENGTH,\n",
    "    pl_trainer_kwargs={\"callbacks\": [early_stopper]},\n",
    "    optimizer_kwargs={\"lr\": 1e-3},\n",
    "    lr_scheduler_cls= lr_scheduler.ExponentialLR,\n",
    "    lr_scheduler_kwargs = {\"gamma\": 0.999},\n",
    "    use_reversible_instance_norm = True\n",
    ")"
   ]
  },
  {
   "cell_type": "code",
   "execution_count": 20,
   "metadata": {},
   "outputs": [
    {
     "name": "stderr",
     "output_type": "stream",
     "text": [
      "2025-04-23 03:22:31,650 - INFO - Train dataset contains 267 samples.\n",
      "2025-04-23 03:22:31,655 - INFO - Time series values are 64-bits; casting model to float64.\n",
      "GPU available: True (cuda), used: True\n",
      "TPU available: False, using: 0 TPU cores\n",
      "HPU available: False, using: 0 HPUs\n",
      "LOCAL_RANK: 0 - CUDA_VISIBLE_DEVICES: [0]\n",
      "\n",
      "   | Name                | Type             | Params | Mode \n",
      "------------------------------------------------------------------\n",
      "0  | criterion           | MSELoss          | 0      | train\n",
      "1  | train_criterion     | MSELoss          | 0      | train\n",
      "2  | val_criterion       | MSELoss          | 0      | train\n",
      "3  | train_metrics       | MetricCollection | 0      | train\n",
      "4  | val_metrics         | MetricCollection | 0      | train\n",
      "5  | rin                 | RINorm           | 2      | train\n",
      "6  | past_cov_projection | _ResidualBlock   | 18.3 K | train\n",
      "7  | encoders            | Sequential       | 78.2 K | train\n",
      "8  | decoders            | Sequential       | 66.0 K | train\n",
      "9  | temporal_decoder    | _ResidualBlock   | 594    | train\n",
      "10 | lookback_skip       | Linear           | 588    | train\n",
      "------------------------------------------------------------------\n",
      "163 K     Trainable params\n",
      "0         Non-trainable params\n",
      "163 K     Total params\n",
      "0.655     Total estimated model params size (MB)\n",
      "37        Modules in train mode\n",
      "0         Modules in eval mode\n"
     ]
    },
    {
     "data": {
      "application/vnd.jupyter.widget-view+json": {
       "model_id": "0637278b6cd6402aac897ba9b7bab899",
       "version_major": 2,
       "version_minor": 0
      },
      "text/plain": [
       "Sanity Checking: |          | 0/? [00:00<?, ?it/s]"
      ]
     },
     "metadata": {},
     "output_type": "display_data"
    },
    {
     "data": {
      "application/vnd.jupyter.widget-view+json": {
       "model_id": "5603366744d64720a819d9a54b7d687b",
       "version_major": 2,
       "version_minor": 0
      },
      "text/plain": [
       "Training: |          | 0/? [00:00<?, ?it/s]"
      ]
     },
     "metadata": {},
     "output_type": "display_data"
    },
    {
     "data": {
      "application/vnd.jupyter.widget-view+json": {
       "model_id": "22986ca1e9ae45cf9f9b51b1745f8819",
       "version_major": 2,
       "version_minor": 0
      },
      "text/plain": [
       "Validation: |          | 0/? [00:00<?, ?it/s]"
      ]
     },
     "metadata": {},
     "output_type": "display_data"
    },
    {
     "data": {
      "application/vnd.jupyter.widget-view+json": {
       "model_id": "535b5142dec1412ebbc55648b2bab657",
       "version_major": 2,
       "version_minor": 0
      },
      "text/plain": [
       "Validation: |          | 0/? [00:00<?, ?it/s]"
      ]
     },
     "metadata": {},
     "output_type": "display_data"
    },
    {
     "data": {
      "application/vnd.jupyter.widget-view+json": {
       "model_id": "ad9bd81beb9a4b3392a6226f37d7aa51",
       "version_major": 2,
       "version_minor": 0
      },
      "text/plain": [
       "Validation: |          | 0/? [00:00<?, ?it/s]"
      ]
     },
     "metadata": {},
     "output_type": "display_data"
    },
    {
     "data": {
      "application/vnd.jupyter.widget-view+json": {
       "model_id": "a8d4801a0e5945b59e0c112d0af4f23e",
       "version_major": 2,
       "version_minor": 0
      },
      "text/plain": [
       "Validation: |          | 0/? [00:00<?, ?it/s]"
      ]
     },
     "metadata": {},
     "output_type": "display_data"
    },
    {
     "data": {
      "application/vnd.jupyter.widget-view+json": {
       "model_id": "ead0b8aa4ee347b78d3e43ecf5fc59e7",
       "version_major": 2,
       "version_minor": 0
      },
      "text/plain": [
       "Validation: |          | 0/? [00:00<?, ?it/s]"
      ]
     },
     "metadata": {},
     "output_type": "display_data"
    },
    {
     "data": {
      "application/vnd.jupyter.widget-view+json": {
       "model_id": "4d401d9c7b74460087a90b58c920fb44",
       "version_major": 2,
       "version_minor": 0
      },
      "text/plain": [
       "Validation: |          | 0/? [00:00<?, ?it/s]"
      ]
     },
     "metadata": {},
     "output_type": "display_data"
    },
    {
     "data": {
      "application/vnd.jupyter.widget-view+json": {
       "model_id": "c4acb3617664411a998d11bb7ce7a4a6",
       "version_major": 2,
       "version_minor": 0
      },
      "text/plain": [
       "Validation: |          | 0/? [00:00<?, ?it/s]"
      ]
     },
     "metadata": {},
     "output_type": "display_data"
    },
    {
     "data": {
      "application/vnd.jupyter.widget-view+json": {
       "model_id": "0bc178659b8e4e2ea7546595f98c5053",
       "version_major": 2,
       "version_minor": 0
      },
      "text/plain": [
       "Validation: |          | 0/? [00:00<?, ?it/s]"
      ]
     },
     "metadata": {},
     "output_type": "display_data"
    },
    {
     "data": {
      "application/vnd.jupyter.widget-view+json": {
       "model_id": "1f3c3011fa2b47a6bbba5ac9c04df232",
       "version_major": 2,
       "version_minor": 0
      },
      "text/plain": [
       "Validation: |          | 0/? [00:00<?, ?it/s]"
      ]
     },
     "metadata": {},
     "output_type": "display_data"
    },
    {
     "data": {
      "application/vnd.jupyter.widget-view+json": {
       "model_id": "4899ac5665bf4f2fadb1bdb026a8cecf",
       "version_major": 2,
       "version_minor": 0
      },
      "text/plain": [
       "Validation: |          | 0/? [00:00<?, ?it/s]"
      ]
     },
     "metadata": {},
     "output_type": "display_data"
    },
    {
     "data": {
      "application/vnd.jupyter.widget-view+json": {
       "model_id": "d0fb321cfef94d7886af6e60480e0e1e",
       "version_major": 2,
       "version_minor": 0
      },
      "text/plain": [
       "Validation: |          | 0/? [00:00<?, ?it/s]"
      ]
     },
     "metadata": {},
     "output_type": "display_data"
    },
    {
     "data": {
      "application/vnd.jupyter.widget-view+json": {
       "model_id": "37a5140d00f54d5e8f088b66e1ef7a6a",
       "version_major": 2,
       "version_minor": 0
      },
      "text/plain": [
       "Validation: |          | 0/? [00:00<?, ?it/s]"
      ]
     },
     "metadata": {},
     "output_type": "display_data"
    }
   ],
   "source": [
    "import copy\n",
    "\n",
    "model.fit(series=scaled_train_target,past_covariates=scaled_train_exo,val_series=scaled_val_target,val_past_covariates=scaled_val_exo,verbose=True)\n",
    "# Make a copy of the model for potential later use\n",
    "original_model = copy.deepcopy(model)"
   ]
  },
  {
   "cell_type": "code",
   "execution_count": 21,
   "metadata": {},
   "outputs": [
    {
     "name": "stderr",
     "output_type": "stream",
     "text": [
      "GPU available: True (cuda), used: True\n",
      "TPU available: False, using: 0 TPU cores\n",
      "HPU available: False, using: 0 HPUs\n",
      "LOCAL_RANK: 0 - CUDA_VISIBLE_DEVICES: [0]\n"
     ]
    }
   ],
   "source": [
    "# prediction_size must be <= OUT_LENGTH\n",
    "prediction_size = OUT_LENGTH\n",
    "predictions = model.predict(prediction_size, verbose=False)\n",
    "transformed_predictions = targetScaler.inverse_transform(predictions)"
   ]
  },
  {
   "cell_type": "code",
   "execution_count": 22,
   "metadata": {},
   "outputs": [
    {
     "data": {
      "text/plain": [
       "12"
      ]
     },
     "execution_count": 22,
     "metadata": {},
     "output_type": "execute_result"
    }
   ],
   "source": [
    "model.output_chunk_length"
   ]
  },
  {
   "cell_type": "code",
   "execution_count": 23,
   "metadata": {},
   "outputs": [
    {
     "name": "stdout",
     "output_type": "stream",
     "text": [
      "Metrics for first model without hyperparameter optimisation:\n"
     ]
    },
    {
     "data": {
      "text/html": [
       "<div>\n",
       "<style scoped>\n",
       "    .dataframe tbody tr th:only-of-type {\n",
       "        vertical-align: middle;\n",
       "    }\n",
       "\n",
       "    .dataframe tbody tr th {\n",
       "        vertical-align: top;\n",
       "    }\n",
       "\n",
       "    .dataframe thead th {\n",
       "        text-align: right;\n",
       "    }\n",
       "</style>\n",
       "<table border=\"1\" class=\"dataframe\">\n",
       "  <thead>\n",
       "    <tr style=\"text-align: right;\">\n",
       "      <th></th>\n",
       "      <th>RMSE</th>\n",
       "      <th>MAE</th>\n",
       "      <th>r2</th>\n",
       "    </tr>\n",
       "  </thead>\n",
       "  <tbody>\n",
       "    <tr>\n",
       "      <th>TiDE</th>\n",
       "      <td>0.011621</td>\n",
       "      <td>0.01059</td>\n",
       "      <td>-2.686475</td>\n",
       "    </tr>\n",
       "  </tbody>\n",
       "</table>\n",
       "</div>"
      ],
      "text/plain": [
       "          RMSE      MAE        r2\n",
       "TiDE  0.011621  0.01059 -2.686475"
      ]
     },
     "metadata": {},
     "output_type": "display_data"
    },
    {
     "data": {
      "image/png": "[encoded data removed]",
      "text/plain": [
       "<Figure size 640x480 with 1 Axes>"
      ]
     },
     "metadata": {},
     "output_type": "display_data"
    }
   ],
   "source": [
    "from darts.metrics import mse\n",
    "from Evaluation.Helper.evaluation_helpers import calc_metrics_arrays\n",
    "\n",
    "train_target[-prediction_size:].plot(label='train')\n",
    "val_target[:prediction_size].plot(label='val')\n",
    "transformed_predictions.plot(label='predictions')\n",
    "original_model_metrics = calc_metrics_arrays(val_target[:prediction_size].values(), transformed_predictions.values(), model_names=['TiDE'])\n",
    "print('Metrics for first model without hyperparameter optimisation:')\n",
    "display(original_model_metrics)"
   ]
  },
  {
   "cell_type": "markdown",
   "metadata": {},
   "source": [
    "The discontinuity in the above plot between the ground-truth training and validation sets looks incorrect, but that is simply because a natural slight downturn occurred between the two months in question at the end of the training period and the beginning of the validation period respectively."
   ]
  },
  {
   "cell_type": "markdown",
   "metadata": {},
   "source": [
    "Not that good so optuna test"
   ]
  },
  {
   "cell_type": "code",
   "execution_count": 24,
   "metadata": {},
   "outputs": [],
   "source": [
    "# This is currently not used, but could be switched to\n",
    "split_date = pd.Timestamp('2022-12')\n",
    "op_train , op_val = target_series.split_after(split_date)\n",
    "op_train_exo , op_val_exo = exogenous_series.split_after(split_date)"
   ]
  },
  {
   "cell_type": "code",
   "execution_count": 25,
   "metadata": {},
   "outputs": [],
   "source": [
    "from darts.metrics import mse\n",
    "from Training.Helper.PyTorchModular import optuna_trial_get_kwargs\n",
    "\n",
    "def get_optuna_ranked_series(trial, scaled_train_exo, scaled_val_exo, ranked_features):\n",
    "    n_features = optuna_trial_get_kwargs(trial, {'n': (int, 1, scaled_train_exo.n_components)})['n']\n",
    "    return scaled_train_exo.drop_columns(ranked_features[n_features:]), scaled_val_exo.drop_columns(ranked_features[n_features:])"
   ]
  },
  {
   "cell_type": "code",
   "execution_count": 26,
   "metadata": {},
   "outputs": [],
   "source": [
    "import optuna\n",
    "from darts.metrics import mse\n",
    "from Training.Helper.PyTorchModular import optuna_trial_get_kwargs\n",
    "\n",
    "model_search_space = {\n",
    "    'input_chunk_length': (int, 24, 60),\n",
    "    'num_encoder_layers': (int, 1, 3),\n",
    "    'num_decoder_layers': (int, 1, 3),\n",
    "    'hidden_size': (int, 64, 512),\n",
    "    'dropout': (float, 0.1, 0.5, {'log': True}),\n",
    "    'optimizer_kwargs': {\"lr\": (float, 1e-4, 1e-2)},\n",
    "    'lr_scheduler_kwargs': {\"gamma\": (float, 0.9, 1.0)},\n",
    "    'use_reversible_instance_norm': ('categorical', [True, False]),\n",
    "}\n",
    "\n",
    "# Controlling input chunk length for now to decrease the size of the search space\n",
    "model_invariates = {\n",
    "    #'input_chunk_length': 48,\n",
    "    'output_chunk_length': 12,\n",
    "    'lr_scheduler_cls': lr_scheduler.ExponentialLR,\n",
    "    'pl_trainer_kwargs': {\"callbacks\": [early_stopper]}\n",
    "}\n",
    "\n",
    "def objective(trial):\n",
    "\n",
    "    model_kwargs = optuna_trial_get_kwargs(trial, model_search_space)\n",
    "\n",
    "    scaled_train_exo_ranked, scaled_val_exo_ranked = get_optuna_ranked_series(trial, scaled_train_exo_r, scaled_val_exo_r, ranked_features)\n",
    "\n",
    "    # Initialize the TiDEModel with suggested hyperparameters\n",
    "    model = TiDEModel(**model_kwargs, **model_invariates)\n",
    "\n",
    "    # Fit the model\n",
    "    model.fit(series = scaled_train_target,\n",
    "              past_covariates = scaled_train_exo_ranked,\n",
    "              val_series = scaled_val_target,\n",
    "              val_past_covariates = scaled_val_exo_ranked,\n",
    "              epochs=1000,\n",
    "              verbose = False)\n",
    "\n",
    "    # Evaluate the model\n",
    "    # (this is an alternative option for evaluation, where the model must predict the final prediction_size elements of the validation data having been given all other validation data;\n",
    "    #  if switching to this method, ensure that final prediction is performed with the same setup (this is currently done just by predicting the next n values))\n",
    "    #scaled_val_predictions = model.predict(n=prediction_size,series=scaled_val_target[:-prediction_size],past_covariates=scaled_val_exo[:-prediction_size], verbose=False)]\n",
    "    #val_predictions = targetScaler.inverse_transform(scaled_val_predictions, verbose=False)\n",
    "    #error = mse(val_target[-prediction_size:], val_predictions, verbose=False)\n",
    "\n",
    "    # Raw output is scaled, so inverse transform to become comparable with validation set\n",
    "    scaled_val_predictions = model.predict(n=prediction_size, verbose=False)\n",
    "    val_predictions = targetScaler.inverse_transform(scaled_val_predictions, verbose=False)\n",
    "    # Only uses the first prediction_size values of val_target, since this is the size of the prediction made by the model\n",
    "    error = mse(val_target[:prediction_size], val_predictions, verbose=False)\n",
    "    return error"
   ]
  },
  {
   "cell_type": "code",
   "execution_count": 27,
   "metadata": {},
   "outputs": [
    {
     "name": "stderr",
     "output_type": "stream",
     "text": [
      "[I 2025-04-23 03:22:34,103] A new study created in memory with name: no-name-b15e7b3a-25d5-4bf7-81b1-278acbb809c5\n",
      "2025-04-23 03:22:34,126 - INFO - Train dataset contains 283 samples.\n",
      "2025-04-23 03:22:34,149 - INFO - Time series values are 64-bits; casting model to float64.\n",
      "GPU available: True (cuda), used: True\n",
      "TPU available: False, using: 0 TPU cores\n",
      "HPU available: False, using: 0 HPUs\n",
      "LOCAL_RANK: 0 - CUDA_VISIBLE_DEVICES: [0]\n",
      "GPU available: True (cuda), used: True\n",
      "TPU available: False, using: 0 TPU cores\n",
      "HPU available: False, using: 0 HPUs\n",
      "LOCAL_RANK: 0 - CUDA_VISIBLE_DEVICES: [0]\n",
      "[I 2025-04-23 03:22:34,419] Trial 0 finished with value: 0.00666073565570513 and parameters: {'input_chunk_length': 32, 'num_encoder_layers': 3, 'num_decoder_layers': 2, 'hidden_size': 417, 'dropout': 0.4161886109561189, 'lr': 0.000703724512485597, 'gamma': 0.9825522615263359, 'use_reversible_instance_norm': False, 'n': 31}. Best is trial 0 with value: 0.00666073565570513.\n",
      "2025-04-23 03:22:34,436 - INFO - Train dataset contains 273 samples.\n",
      "2025-04-23 03:22:34,451 - INFO - Time series values are 64-bits; casting model to float64.\n",
      "GPU available: True (cuda), used: True\n",
      "TPU available: False, using: 0 TPU cores\n",
      "HPU available: False, using: 0 HPUs\n",
      "LOCAL_RANK: 0 - CUDA_VISIBLE_DEVICES: [0]\n",
      "GPU available: True (cuda), used: True\n",
      "TPU available: False, using: 0 TPU cores\n",
      "HPU available: False, using: 0 HPUs\n",
      "LOCAL_RANK: 0 - CUDA_VISIBLE_DEVICES: [0]\n",
      "[I 2025-04-23 03:22:34,740] Trial 1 finished with value: 222963.77784116915 and parameters: {'input_chunk_length': 42, 'num_encoder_layers': 3, 'num_decoder_layers': 2, 'hidden_size': 401, 'dropout': 0.10444417112466782, 'lr': 0.007643112014754626, 'gamma': 0.9128171149091744, 'use_reversible_instance_norm': False, 'n': 131}. Best is trial 0 with value: 0.00666073565570513.\n",
      "2025-04-23 03:22:34,761 - INFO - Train dataset contains 280 samples.\n",
      "2025-04-23 03:22:34,766 - INFO - Time series values are 64-bits; casting model to float64.\n",
      "GPU available: True (cuda), used: True\n",
      "TPU available: False, using: 0 TPU cores\n",
      "HPU available: False, using: 0 HPUs\n",
      "LOCAL_RANK: 0 - CUDA_VISIBLE_DEVICES: [0]\n",
      "GPU available: True (cuda), used: True\n",
      "TPU available: False, using: 0 TPU cores\n",
      "HPU available: False, using: 0 HPUs\n",
      "LOCAL_RANK: 0 - CUDA_VISIBLE_DEVICES: [0]\n",
      "[I 2025-04-23 03:22:34,966] Trial 2 finished with value: 0.01997402123159642 and parameters: {'input_chunk_length': 35, 'num_encoder_layers': 3, 'num_decoder_layers': 2, 'hidden_size': 99, 'dropout': 0.12415091876090395, 'lr': 0.004179658696209529, 'gamma': 0.9394115230107529, 'use_reversible_instance_norm': False, 'n': 44}. Best is trial 0 with value: 0.00666073565570513.\n",
      "2025-04-23 03:22:34,983 - INFO - Train dataset contains 268 samples.\n",
      "2025-04-23 03:22:34,989 - INFO - Time series values are 64-bits; casting model to float64.\n",
      "GPU available: True (cuda), used: True\n",
      "TPU available: False, using: 0 TPU cores\n",
      "HPU available: False, using: 0 HPUs\n",
      "LOCAL_RANK: 0 - CUDA_VISIBLE_DEVICES: [0]\n",
      "GPU available: True (cuda), used: True\n",
      "TPU available: False, using: 0 TPU cores\n",
      "HPU available: False, using: 0 HPUs\n",
      "LOCAL_RANK: 0 - CUDA_VISIBLE_DEVICES: [0]\n",
      "[I 2025-04-23 03:22:35,179] Trial 3 finished with value: 0.12805789613612298 and parameters: {'input_chunk_length': 47, 'num_encoder_layers': 1, 'num_decoder_layers': 2, 'hidden_size': 275, 'dropout': 0.48773923016845827, 'lr': 0.006813190233279886, 'gamma': 0.9804522776644394, 'use_reversible_instance_norm': False, 'n': 82}. Best is trial 0 with value: 0.00666073565570513.\n",
      "2025-04-23 03:22:35,192 - INFO - Train dataset contains 275 samples.\n",
      "2025-04-23 03:22:35,198 - INFO - Time series values are 64-bits; casting model to float64.\n",
      "GPU available: True (cuda), used: True\n",
      "TPU available: False, using: 0 TPU cores\n",
      "HPU available: False, using: 0 HPUs\n",
      "LOCAL_RANK: 0 - CUDA_VISIBLE_DEVICES: [0]\n",
      "GPU available: True (cuda), used: True\n",
      "TPU available: False, using: 0 TPU cores\n",
      "HPU available: False, using: 0 HPUs\n",
      "LOCAL_RANK: 0 - CUDA_VISIBLE_DEVICES: [0]\n",
      "[I 2025-04-23 03:22:36,556] Trial 4 finished with value: 0.0001470792736053372 and parameters: {'input_chunk_length': 40, 'num_encoder_layers': 3, 'num_decoder_layers': 2, 'hidden_size': 112, 'dropout': 0.1269982476758021, 'lr': 0.003247964788970619, 'gamma': 0.995868250639728, 'use_reversible_instance_norm': True, 'n': 39}. Best is trial 4 with value: 0.0001470792736053372.\n"
     ]
    }
   ],
   "source": [
    "# Create an Optuna study and optimize\n",
    "study = optuna.create_study(direction='minimize')\n",
    "study.optimize(objective, n_trials=5)"
   ]
  },
  {
   "cell_type": "code",
   "execution_count": 28,
   "metadata": {},
   "outputs": [
    {
     "name": "stderr",
     "output_type": "stream",
     "text": [
      "[I 2025-04-23 03:22:36,568] A new study created in memory with name: TiDEModel_hyperparameter_optimisation\n",
      "2025-04-23 03:22:36,580 - INFO - Train dataset contains 267 samples.\n",
      "2025-04-23 03:22:36,586 - INFO - Time series values are 64-bits; casting model to float64.\n",
      "GPU available: True (cuda), used: True\n",
      "TPU available: False, using: 0 TPU cores\n",
      "HPU available: False, using: 0 HPUs\n",
      "LOCAL_RANK: 0 - CUDA_VISIBLE_DEVICES: [0]\n",
      "GPU available: True (cuda), used: True\n",
      "TPU available: False, using: 0 TPU cores\n",
      "HPU available: False, using: 0 HPUs\n",
      "LOCAL_RANK: 0 - CUDA_VISIBLE_DEVICES: [0]\n",
      "[I 2025-04-23 03:22:36,790] Trial 0 finished with value: 0.5695340040605061 and parameters: {'input_chunk_length': 48, 'num_encoder_layers': 2, 'num_decoder_layers': 1, 'hidden_size': 166, 'dropout': 0.18824817201710511, 'lr': 0.0061703731763954285, 'gamma': 0.9481131152188793, 'use_reversible_instance_norm': False}. Best is trial 0 with value: 0.5695340040605061.\n",
      "2025-04-23 03:22:36,799 - INFO - Train dataset contains 267 samples.\n",
      "2025-04-23 03:22:36,810 - INFO - Time series values are 64-bits; casting model to float64.\n",
      "GPU available: True (cuda), used: True\n",
      "TPU available: False, using: 0 TPU cores\n",
      "HPU available: False, using: 0 HPUs\n",
      "LOCAL_RANK: 0 - CUDA_VISIBLE_DEVICES: [0]\n",
      "GPU available: True (cuda), used: True\n",
      "TPU available: False, using: 0 TPU cores\n",
      "HPU available: False, using: 0 HPUs\n",
      "LOCAL_RANK: 0 - CUDA_VISIBLE_DEVICES: [0]\n",
      "[I 2025-04-23 03:22:37,079] Trial 1 finished with value: 0.21432562793638885 and parameters: {'input_chunk_length': 48, 'num_encoder_layers': 2, 'num_decoder_layers': 2, 'hidden_size': 331, 'dropout': 0.1351585081412336, 'lr': 0.005554602334550344, 'gamma': 0.9538295053713931, 'use_reversible_instance_norm': True}. Best is trial 1 with value: 0.21432562793638885.\n",
      "2025-04-23 03:22:37,091 - INFO - Train dataset contains 261 samples.\n",
      "2025-04-23 03:22:37,108 - INFO - Time series values are 64-bits; casting model to float64.\n",
      "GPU available: True (cuda), used: True\n",
      "TPU available: False, using: 0 TPU cores\n",
      "HPU available: False, using: 0 HPUs\n",
      "LOCAL_RANK: 0 - CUDA_VISIBLE_DEVICES: [0]\n",
      "GPU available: True (cuda), used: True\n",
      "TPU available: False, using: 0 TPU cores\n",
      "HPU available: False, using: 0 HPUs\n",
      "LOCAL_RANK: 0 - CUDA_VISIBLE_DEVICES: [0]\n",
      "[I 2025-04-23 03:22:37,383] Trial 2 finished with value: 6.376655693565884 and parameters: {'input_chunk_length': 54, 'num_encoder_layers': 2, 'num_decoder_layers': 3, 'hidden_size': 400, 'dropout': 0.1866374080693189, 'lr': 0.006063595649034582, 'gamma': 0.9633644808305843, 'use_reversible_instance_norm': False}. Best is trial 1 with value: 0.21432562793638885.\n",
      "2025-04-23 03:22:37,396 - INFO - Train dataset contains 271 samples.\n",
      "2025-04-23 03:22:37,409 - INFO - Time series values are 64-bits; casting model to float64.\n",
      "GPU available: True (cuda), used: True\n",
      "TPU available: False, using: 0 TPU cores\n",
      "HPU available: False, using: 0 HPUs\n",
      "LOCAL_RANK: 0 - CUDA_VISIBLE_DEVICES: [0]\n",
      "GPU available: True (cuda), used: True\n",
      "TPU available: False, using: 0 TPU cores\n",
      "HPU available: False, using: 0 HPUs\n",
      "LOCAL_RANK: 0 - CUDA_VISIBLE_DEVICES: [0]\n",
      "[I 2025-04-23 03:22:37,736] Trial 3 finished with value: 0.008183043495507168 and parameters: {'input_chunk_length': 44, 'num_encoder_layers': 3, 'num_decoder_layers': 2, 'hidden_size': 350, 'dropout': 0.3826867014574321, 'lr': 0.0003510926070747816, 'gamma': 0.9773408925779775, 'use_reversible_instance_norm': True}. Best is trial 3 with value: 0.008183043495507168.\n",
      "2025-04-23 03:22:37,759 - INFO - Train dataset contains 265 samples.\n",
      "2025-04-23 03:22:37,779 - INFO - Time series values are 64-bits; casting model to float64.\n",
      "GPU available: True (cuda), used: True\n",
      "TPU available: False, using: 0 TPU cores\n",
      "HPU available: False, using: 0 HPUs\n",
      "LOCAL_RANK: 0 - CUDA_VISIBLE_DEVICES: [0]\n",
      "GPU available: True (cuda), used: True\n",
      "TPU available: False, using: 0 TPU cores\n",
      "HPU available: False, using: 0 HPUs\n",
      "LOCAL_RANK: 0 - CUDA_VISIBLE_DEVICES: [0]\n",
      "[I 2025-04-23 03:22:38,121] Trial 4 finished with value: 0.011983933400074831 and parameters: {'input_chunk_length': 50, 'num_encoder_layers': 2, 'num_decoder_layers': 3, 'hidden_size': 437, 'dropout': 0.28358715443684723, 'lr': 0.00392399239408059, 'gamma': 0.9036568710319347, 'use_reversible_instance_norm': True}. Best is trial 3 with value: 0.008183043495507168.\n",
      "2025-04-23 03:22:38,135 - INFO - Train dataset contains 271 samples.\n",
      "2025-04-23 03:22:38,148 - INFO - Time series values are 64-bits; casting model to float64.\n",
      "GPU available: True (cuda), used: True\n",
      "TPU available: False, using: 0 TPU cores\n",
      "HPU available: False, using: 0 HPUs\n",
      "LOCAL_RANK: 0 - CUDA_VISIBLE_DEVICES: [0]\n"
     ]
    }
   ],
   "source": [
    "# Testing the generalised function - works for now but no find-best-feature-split functionality\n",
    "from Training.Helper.PyTorchModular import optuna_tune_and_train_darts\n",
    "\n",
    "amazing_model = optuna_tune_and_train_darts(TiDEModel,\n",
    "                                            scaled_train_target, scaled_val_target, scaled_train_exo, scaled_val_exo,\n",
    "                                            model_search_space, model_invariates,\n",
    "                                            n_trials=5, n_epochs_per_trial=50)"
   ]
  },
  {
   "cell_type": "code",
   "execution_count": 29,
   "metadata": {},
   "outputs": [
    {
     "data": {
      "text/plain": [
       "{'input_chunk_length': 40,\n",
       " 'num_encoder_layers': 3,\n",
       " 'num_decoder_layers': 2,\n",
       " 'hidden_size': 112,\n",
       " 'dropout': 0.1269982476758021,\n",
       " 'lr': 0.003247964788970619,\n",
       " 'gamma': 0.995868250639728,\n",
       " 'use_reversible_instance_norm': True,\n",
       " 'n': 39}"
      ]
     },
     "execution_count": 29,
     "metadata": {},
     "output_type": "execute_result"
    }
   ],
   "source": [
    "study.best_params"
   ]
  },
  {
   "cell_type": "code",
   "execution_count": 30,
   "metadata": {},
   "outputs": [
    {
     "name": "stdout",
     "output_type": "stream",
     "text": [
      "Best hyperparameters:\n"
     ]
    },
    {
     "data": {
      "text/plain": [
       "{'input_chunk_length': 40,\n",
       " 'num_encoder_layers': 3,\n",
       " 'num_decoder_layers': 2,\n",
       " 'hidden_size': 112,\n",
       " 'dropout': 0.1269982476758021,\n",
       " 'optimizer_kwargs': {'lr': 0.003247964788970619},\n",
       " 'lr_scheduler_kwargs': {'gamma': 0.995868250639728},\n",
       " 'use_reversible_instance_norm': True}"
      ]
     },
     "metadata": {},
     "output_type": "display_data"
    },
    {
     "name": "stdout",
     "output_type": "stream",
     "text": [
      "Best number of features to include: 39\n"
     ]
    }
   ],
   "source": [
    "from Training.Helper.PyTorchModular import reformat_best_params\n",
    "# Retrieve the best hyperparameters\n",
    "best_params = study.best_params\n",
    "# Get the 'n' parameter out of the best_params dictionary and extract just the value\n",
    "best_n_features = reformat_best_params(best_params, {'n': (int, (1, 2))})['n']\n",
    "# Format parameters returned by study into the same style as the search space definition (can be passed straight into model as kwargs)\n",
    "best_params = reformat_best_params(best_params, model_search_space)\n",
    "print('Best hyperparameters:')\n",
    "display(best_params)\n",
    "print('Best number of features to include:', best_n_features)"
   ]
  },
  {
   "cell_type": "markdown",
   "metadata": {},
   "source": [
    "### Load the best parameters into a model and test"
   ]
  },
  {
   "cell_type": "code",
   "execution_count": 31,
   "metadata": {},
   "outputs": [],
   "source": [
    "# Initialize the TiDEModel with suggested hyperparameters\n",
    "best_model = TiDEModel(**best_params, **model_invariates)"
   ]
  },
  {
   "cell_type": "code",
   "execution_count": 32,
   "metadata": {},
   "outputs": [],
   "source": [
    "# Fossilised suggested hyperparameters\n",
    "    # Define early stopping callback\n",
    "#early_stopper = EarlyStopping_lightning(\n",
    "#    monitor='val_loss',\n",
    "#    patience=10,\n",
    "#    min_delta=1e-3,\n",
    "#    mode='min'\n",
    "#)\n",
    "#model = TiDEModel(\n",
    "#    input_chunk_length=29,\n",
    "#    output_chunk_length=12,\n",
    "#    num_encoder_layers=3,\n",
    "#    num_decoder_layers=2,\n",
    "#    hidden_size=443,\n",
    "#    dropout= 0.19411763114257125,\n",
    "#    optimizer_kwargs={\"lr\": 0.00014544898516544107},\n",
    "#    lr_scheduler_cls=torch.optim.lr_scheduler.ExponentialLR,\n",
    "#    lr_scheduler_kwargs={\"gamma\": 0.9645025339005199},\n",
    "#    pl_trainer_kwargs={\"callbacks\": [early_stopper]},\n",
    "#)"
   ]
  },
  {
   "cell_type": "code",
   "execution_count": 33,
   "metadata": {},
   "outputs": [
    {
     "name": "stderr",
     "output_type": "stream",
     "text": [
      "2025-04-23 03:22:38,686 - INFO - Train dataset contains 275 samples.\n",
      "2025-04-23 03:22:38,693 - INFO - Time series values are 64-bits; casting model to float64.\n",
      "GPU available: True (cuda), used: True\n",
      "TPU available: False, using: 0 TPU cores\n",
      "HPU available: False, using: 0 HPUs\n",
      "LOCAL_RANK: 0 - CUDA_VISIBLE_DEVICES: [0]\n",
      "\n",
      "   | Name                | Type             | Params | Mode \n",
      "------------------------------------------------------------------\n",
      "0  | criterion           | MSELoss          | 0      | train\n",
      "1  | train_criterion     | MSELoss          | 0      | train\n",
      "2  | val_criterion       | MSELoss          | 0      | train\n",
      "3  | train_metrics       | MetricCollection | 0      | train\n",
      "4  | val_metrics         | MetricCollection | 0      | train\n",
      "5  | rin                 | RINorm           | 2      | train\n",
      "6  | past_cov_projection | _ResidualBlock   | 5.2 K  | train\n",
      "7  | encoders            | Sequential       | 133 K  | train\n",
      "8  | decoders            | Sequential       | 94.0 K | train\n",
      "9  | temporal_decoder    | _ResidualBlock   | 594    | train\n",
      "10 | lookback_skip       | Linear           | 492    | train\n",
      "------------------------------------------------------------------\n",
      "233 K     Trainable params\n",
      "0         Non-trainable params\n",
      "233 K     Total params\n",
      "0.936     Total estimated model params size (MB)\n",
      "58        Modules in train mode\n",
      "0         Modules in eval mode\n"
     ]
    },
    {
     "data": {
      "application/vnd.jupyter.widget-view+json": {
       "model_id": "5aa93d7255b14d1998273f1f535e2d0f",
       "version_major": 2,
       "version_minor": 0
      },
      "text/plain": [
       "Sanity Checking: |          | 0/? [00:00<?, ?it/s]"
      ]
     },
     "metadata": {},
     "output_type": "display_data"
    },
    {
     "data": {
      "application/vnd.jupyter.widget-view+json": {
       "model_id": "0c2b0c337ec94fd6958ea5b09df79ec7",
       "version_major": 2,
       "version_minor": 0
      },
      "text/plain": [
       "Training: |          | 0/? [00:00<?, ?it/s]"
      ]
     },
     "metadata": {},
     "output_type": "display_data"
    },
    {
     "data": {
      "application/vnd.jupyter.widget-view+json": {
       "model_id": "7b4c289b2aed4172977fbeba566ca1dd",
       "version_major": 2,
       "version_minor": 0
      },
      "text/plain": [
       "Validation: |          | 0/? [00:00<?, ?it/s]"
      ]
     },
     "metadata": {},
     "output_type": "display_data"
    },
    {
     "data": {
      "text/plain": [
       "TiDEModel(output_chunk_shift=0, num_encoder_layers=3, num_decoder_layers=2, decoder_output_dim=16, hidden_size=112, temporal_width_past=4, temporal_width_future=4, temporal_hidden_size_past=None, temporal_hidden_size_future=None, temporal_decoder_hidden=32, use_layer_norm=False, dropout=0.1269982476758021, use_static_covariates=True, input_chunk_length=40, optimizer_kwargs={'lr': 0.003247964788970619}, lr_scheduler_kwargs={'gamma': 0.995868250639728}, use_reversible_instance_norm=True, output_chunk_length=12, lr_scheduler_cls=<class 'torch.optim.lr_scheduler.ExponentialLR'>, pl_trainer_kwargs={'callbacks': [<pytorch_lightning.callbacks.early_stopping.EarlyStopping object at 0x000001C4692560D0>]})"
      ]
     },
     "execution_count": 33,
     "metadata": {},
     "output_type": "execute_result"
    }
   ],
   "source": [
    "# Fit the model\n",
    "#best_model.fit(series=scaled_train_target,past_covariates=scaled_train_exo, val_series=scaled_val_target, val_past_covariates=scaled_val_exo)\n",
    "best_model.fit(series=scaled_train_target,\n",
    "               past_covariates=scaled_train_exo.drop_columns(ranked_features[best_n_features:]),\n",
    "               val_series=scaled_val_target,\n",
    "               val_past_covariates=scaled_val_exo.drop_columns(ranked_features[best_n_features:]))"
   ]
  },
  {
   "cell_type": "code",
   "execution_count": 34,
   "metadata": {},
   "outputs": [
    {
     "name": "stderr",
     "output_type": "stream",
     "text": [
      "GPU available: True (cuda), used: True\n",
      "TPU available: False, using: 0 TPU cores\n",
      "HPU available: False, using: 0 HPUs\n",
      "LOCAL_RANK: 0 - CUDA_VISIBLE_DEVICES: [0]\n"
     ]
    },
    {
     "data": {
      "application/vnd.jupyter.widget-view+json": {
       "model_id": "f3bf01155c2a491ab1e8608c93acc20f",
       "version_major": 2,
       "version_minor": 0
      },
      "text/plain": [
       "Predicting: |          | 0/? [00:00<?, ?it/s]"
      ]
     },
     "metadata": {},
     "output_type": "display_data"
    }
   ],
   "source": [
    "# Predict over the test horizon\n",
    "TEST_HORIZON = 12\n",
    "val_predictions = best_model.predict(n=TEST_HORIZON)\n",
    "transformed_predictions = targetScaler.inverse_transform(val_predictions)"
   ]
  },
  {
   "cell_type": "code",
   "execution_count": 35,
   "metadata": {},
   "outputs": [
    {
     "data": {
      "text/plain": [
       "<Axes: title={'center': 'Actual vs. TiDE Predicted PCE'}, xlabel='Date', ylabel='Inflation'>"
      ]
     },
     "execution_count": 35,
     "metadata": {},
     "output_type": "execute_result"
    },
    {
     "data": {
      "image/png": "[encoded data removed]",
      "text/plain": [
       "<Figure size 1200x600 with 1 Axes>"
      ]
     },
     "metadata": {},
     "output_type": "display_data"
    }
   ],
   "source": [
    "from Evaluation.Helper.evaluation_helpers import display_results\n",
    "\n",
    "actuals = val_target[:TEST_HORIZON].values()\n",
    "preds = transformed_predictions.values()\n",
    "\n",
    "display_results(actuals, preds, val_target[:TEST_HORIZON].time_index, 'TiDE')"
   ]
  },
  {
   "cell_type": "code",
   "execution_count": 36,
   "metadata": {},
   "outputs": [
    {
     "name": "stdout",
     "output_type": "stream",
     "text": [
      "Optuna trained model metrics on validation set:\n"
     ]
    },
    {
     "data": {
      "text/html": [
       "<div>\n",
       "<style scoped>\n",
       "    .dataframe tbody tr th:only-of-type {\n",
       "        vertical-align: middle;\n",
       "    }\n",
       "\n",
       "    .dataframe tbody tr th {\n",
       "        vertical-align: top;\n",
       "    }\n",
       "\n",
       "    .dataframe thead th {\n",
       "        text-align: right;\n",
       "    }\n",
       "</style>\n",
       "<table border=\"1\" class=\"dataframe\">\n",
       "  <thead>\n",
       "    <tr style=\"text-align: right;\">\n",
       "      <th></th>\n",
       "      <th>RMSE</th>\n",
       "      <th>MAE</th>\n",
       "      <th>r2</th>\n",
       "    </tr>\n",
       "  </thead>\n",
       "  <tbody>\n",
       "    <tr>\n",
       "      <th>TiDE</th>\n",
       "      <td>0.015731</td>\n",
       "      <td>0.014578</td>\n",
       "      <td>-5.755519</td>\n",
       "    </tr>\n",
       "  </tbody>\n",
       "</table>\n",
       "</div>"
      ],
      "text/plain": [
       "          RMSE       MAE        r2\n",
       "TiDE  0.015731  0.014578 -5.755519"
      ]
     },
     "metadata": {},
     "output_type": "display_data"
    }
   ],
   "source": [
    "# Evaluate the model\n",
    "print(f'Optuna trained model metrics on validation set:')\n",
    "best_model_metrics = calc_metrics_arrays(actuals, preds, model_names=['TiDE'])\n",
    "display(best_model_metrics)"
   ]
  },
  {
   "cell_type": "code",
   "execution_count": 37,
   "metadata": {},
   "outputs": [
    {
     "data": {
      "text/html": [
       "<div>\n",
       "<style scoped>\n",
       "    .dataframe tbody tr th:only-of-type {\n",
       "        vertical-align: middle;\n",
       "    }\n",
       "\n",
       "    .dataframe tbody tr th {\n",
       "        vertical-align: top;\n",
       "    }\n",
       "\n",
       "    .dataframe thead th {\n",
       "        text-align: right;\n",
       "    }\n",
       "</style>\n",
       "<table border=\"1\" class=\"dataframe\">\n",
       "  <thead>\n",
       "    <tr style=\"text-align: right;\">\n",
       "      <th></th>\n",
       "      <th>RMSE</th>\n",
       "      <th>MAE</th>\n",
       "      <th>r2</th>\n",
       "    </tr>\n",
       "  </thead>\n",
       "  <tbody>\n",
       "    <tr>\n",
       "      <th>TiDE</th>\n",
       "      <td>0.011621</td>\n",
       "      <td>0.01059</td>\n",
       "      <td>-2.686475</td>\n",
       "    </tr>\n",
       "  </tbody>\n",
       "</table>\n",
       "</div>"
      ],
      "text/plain": [
       "          RMSE      MAE        r2\n",
       "TiDE  0.011621  0.01059 -2.686475"
      ]
     },
     "metadata": {},
     "output_type": "display_data"
    },
    {
     "data": {
      "text/html": [
       "<div>\n",
       "<style scoped>\n",
       "    .dataframe tbody tr th:only-of-type {\n",
       "        vertical-align: middle;\n",
       "    }\n",
       "\n",
       "    .dataframe tbody tr th {\n",
       "        vertical-align: top;\n",
       "    }\n",
       "\n",
       "    .dataframe thead th {\n",
       "        text-align: right;\n",
       "    }\n",
       "</style>\n",
       "<table border=\"1\" class=\"dataframe\">\n",
       "  <thead>\n",
       "    <tr style=\"text-align: right;\">\n",
       "      <th></th>\n",
       "      <th>RMSE</th>\n",
       "      <th>MAE</th>\n",
       "      <th>r2</th>\n",
       "    </tr>\n",
       "  </thead>\n",
       "  <tbody>\n",
       "    <tr>\n",
       "      <th>TiDE</th>\n",
       "      <td>0.015731</td>\n",
       "      <td>0.014578</td>\n",
       "      <td>-5.755519</td>\n",
       "    </tr>\n",
       "  </tbody>\n",
       "</table>\n",
       "</div>"
      ],
      "text/plain": [
       "          RMSE       MAE        r2\n",
       "TiDE  0.015731  0.014578 -5.755519"
      ]
     },
     "metadata": {},
     "output_type": "display_data"
    }
   ],
   "source": [
    "display(original_model_metrics, best_model_metrics)"
   ]
  },
  {
   "cell_type": "code",
   "execution_count": 38,
   "metadata": {},
   "outputs": [],
   "source": [
    "# Find the model from the that has the best RMSE and take that as the best\n",
    "ranked_best = True\n",
    "if original_model_metrics.values.flatten()[0] < best_model_metrics.values.flatten()[0]:\n",
    "    best_model = original_model\n",
    "    ranked_best = False"
   ]
  },
  {
   "cell_type": "code",
   "execution_count": 39,
   "metadata": {},
   "outputs": [],
   "source": [
    "best_model.save(\"tide.pkl\")"
   ]
  },
  {
   "cell_type": "markdown",
   "metadata": {},
   "source": [
    "Go from here if wanting to load model"
   ]
  },
  {
   "cell_type": "code",
   "execution_count": 40,
   "metadata": {},
   "outputs": [],
   "source": [
    "from darts.models import TiDEModel\n",
    "\n",
    "# Load the model from the file\n",
    "model = TiDEModel.load(\"tide.pkl\")"
   ]
  },
  {
   "cell_type": "code",
   "execution_count": 41,
   "metadata": {},
   "outputs": [
    {
     "name": "stderr",
     "output_type": "stream",
     "text": [
      "GPU available: True (cuda), used: True\n",
      "TPU available: False, using: 0 TPU cores\n",
      "HPU available: False, using: 0 HPUs\n",
      "LOCAL_RANK: 0 - CUDA_VISIBLE_DEVICES: [0]\n"
     ]
    },
    {
     "data": {
      "application/vnd.jupyter.widget-view+json": {
       "model_id": "156b3d7ca6794fc5a323182ec519eca8",
       "version_major": 2,
       "version_minor": 0
      },
      "text/plain": [
       "Predicting: |          | 0/? [00:00<?, ?it/s]"
      ]
     },
     "metadata": {},
     "output_type": "display_data"
    },
    {
     "name": "stdout",
     "output_type": "stream",
     "text": [
      "Final predictions:\n",
      "[[135.89352122]\n",
      " [133.42910773]\n",
      " [132.20698218]\n",
      " [137.08988397]\n",
      " [135.00405271]\n",
      " [136.01725458]\n",
      " [136.10679743]\n",
      " [136.80301935]\n",
      " [136.49644376]\n",
      " [137.45004408]\n",
      " [136.04155301]\n",
      " [137.58245661]]\n"
     ]
    }
   ],
   "source": [
    "# Finally, predict 12 months into the future from the end of the training dataset\n",
    "scaled_total = targetScaler.transform(target_series)\n",
    "scaled_total_exo = exoScaler.transform(exogenous_series)\n",
    "\n",
    "if ranked_best:\n",
    "    scaled_total_exo = scaled_total_exo.drop_columns(ranked_features[best_n_features:])\n",
    "\n",
    "# may error here if the \n",
    "pred = model.predict(TEST_HORIZON,series=scaled_total,past_covariates=scaled_total_exo)\n",
    "finalout = targetScaler.inverse_transform(pred)\n",
    "final = np.exp(finalout.values())\n",
    "print(f'Final predictions:\\n{final}')"
   ]
  },
  {
   "cell_type": "code",
   "execution_count": 42,
   "metadata": {},
   "outputs": [],
   "source": [
    "import numpy as np\n",
    "np.save(os.path.join(project_root, 'Predictions', 'Tide.npy'), finalout.values().flatten())"
   ]
  },
  {
   "cell_type": "code",
   "execution_count": 43,
   "metadata": {},
   "outputs": [
    {
     "name": "stderr",
     "output_type": "stream",
     "text": [
      "GPU available: True (cuda), used: True\n",
      "TPU available: False, using: 0 TPU cores\n",
      "HPU available: False, using: 0 HPUs\n",
      "LOCAL_RANK: 0 - CUDA_VISIBLE_DEVICES: [0]\n"
     ]
    },
    {
     "data": {
      "application/vnd.jupyter.widget-view+json": {
       "model_id": "65a433c3b09d462586585d2efcbabab2",
       "version_major": 2,
       "version_minor": 0
      },
      "text/plain": [
       "Predicting: |          | 0/? [00:00<?, ?it/s]"
      ]
     },
     "metadata": {},
     "output_type": "display_data"
    },
    {
     "name": "stderr",
     "output_type": "stream",
     "text": [
      "2025-04-23 03:22:39,994 - ERROR - ValueError: For the given forecasting horizon `n=3`, the provided past covariates at dataset index `0` do not extend far enough into the future. As `n <= output_chunk_length` the past covariates must end at time step `2024-03-01 00:00:00`, whereas now they end at time step `2023-12-01 00:00:00`.\n"
     ]
    },
    {
     "ename": "ValueError",
     "evalue": "For the given forecasting horizon `n=3`, the provided past covariates at dataset index `0` do not extend far enough into the future. As `n <= output_chunk_length` the past covariates must end at time step `2024-03-01 00:00:00`, whereas now they end at time step `2023-12-01 00:00:00`.",
     "output_type": "error",
     "traceback": [
      "\u001b[1;31m---------------------------------------------------------------------------\u001b[0m",
      "\u001b[1;31mValueError\u001b[0m                                Traceback (most recent call last)",
      "Cell \u001b[1;32mIn[43], line 3\u001b[0m\n\u001b[0;32m      1\u001b[0m horizion3 \u001b[38;5;241m=\u001b[39m []\n\u001b[0;32m      2\u001b[0m \u001b[38;5;28;01mfor\u001b[39;00m i \u001b[38;5;129;01min\u001b[39;00m \u001b[38;5;28mrange\u001b[39m(\u001b[38;5;241m4\u001b[39m):\n\u001b[1;32m----> 3\u001b[0m     pred \u001b[38;5;241m=\u001b[39m \u001b[43mmodel\u001b[49m\u001b[38;5;241;43m.\u001b[39;49m\u001b[43mpredict\u001b[49m\u001b[43m(\u001b[49m\u001b[43mn\u001b[49m\u001b[38;5;241;43m=\u001b[39;49m\u001b[38;5;241;43m3\u001b[39;49m\u001b[43m,\u001b[49m\u001b[43mseries\u001b[49m\u001b[38;5;241;43m=\u001b[39;49m\u001b[43mscaled_total\u001b[49m\u001b[43m,\u001b[49m\u001b[43mpast_covariates\u001b[49m\u001b[38;5;241;43m=\u001b[39;49m\u001b[43mscaled_total_exo\u001b[49m\u001b[43m)\u001b[49m\n\u001b[0;32m      4\u001b[0m     horizion3\u001b[38;5;241m.\u001b[39mappend(pred)\n\u001b[0;32m      6\u001b[0m     \u001b[38;5;66;03m# Extend the series with the latest prediction for next iteration\u001b[39;00m\n",
      "File \u001b[1;32mc:\\Users\\James\\AppData\\Local\\Programs\\Python\\Python311\\Lib\\site-packages\\darts\\utils\\torch.py:80\u001b[0m, in \u001b[0;36mrandom_method.<locals>.decorator\u001b[1;34m(self, *args, **kwargs)\u001b[0m\n\u001b[0;32m     78\u001b[0m \u001b[38;5;28;01mwith\u001b[39;00m fork_rng():\n\u001b[0;32m     79\u001b[0m     manual_seed(\u001b[38;5;28mself\u001b[39m\u001b[38;5;241m.\u001b[39m_random_instance\u001b[38;5;241m.\u001b[39mrandint(\u001b[38;5;241m0\u001b[39m, high\u001b[38;5;241m=\u001b[39mMAX_TORCH_SEED_VALUE))\n\u001b[1;32m---> 80\u001b[0m     \u001b[38;5;28;01mreturn\u001b[39;00m \u001b[43mdecorated\u001b[49m\u001b[43m(\u001b[49m\u001b[38;5;28;43mself\u001b[39;49m\u001b[43m,\u001b[49m\u001b[43m \u001b[49m\u001b[38;5;241;43m*\u001b[39;49m\u001b[43margs\u001b[49m\u001b[43m,\u001b[49m\u001b[43m \u001b[49m\u001b[38;5;241;43m*\u001b[39;49m\u001b[38;5;241;43m*\u001b[39;49m\u001b[43mkwargs\u001b[49m\u001b[43m)\u001b[49m\n",
      "File \u001b[1;32mc:\\Users\\James\\AppData\\Local\\Programs\\Python\\Python311\\Lib\\site-packages\\darts\\models\\forecasting\\torch_forecasting_model.py:1530\u001b[0m, in \u001b[0;36mTorchForecastingModel.predict\u001b[1;34m(self, n, series, past_covariates, future_covariates, trainer, batch_size, verbose, n_jobs, roll_size, num_samples, dataloader_kwargs, mc_dropout, predict_likelihood_parameters, show_warnings)\u001b[0m\n\u001b[0;32m   1511\u001b[0m \u001b[38;5;28msuper\u001b[39m()\u001b[38;5;241m.\u001b[39mpredict(\n\u001b[0;32m   1512\u001b[0m     n,\n\u001b[0;32m   1513\u001b[0m     series,\n\u001b[1;32m   (...)\u001b[0m\n\u001b[0;32m   1518\u001b[0m     show_warnings\u001b[38;5;241m=\u001b[39mshow_warnings,\n\u001b[0;32m   1519\u001b[0m )\n\u001b[0;32m   1521\u001b[0m dataset \u001b[38;5;241m=\u001b[39m \u001b[38;5;28mself\u001b[39m\u001b[38;5;241m.\u001b[39m_build_inference_dataset(\n\u001b[0;32m   1522\u001b[0m     target\u001b[38;5;241m=\u001b[39mseries,\n\u001b[0;32m   1523\u001b[0m     n\u001b[38;5;241m=\u001b[39mn,\n\u001b[1;32m   (...)\u001b[0m\n\u001b[0;32m   1527\u001b[0m     bounds\u001b[38;5;241m=\u001b[39m\u001b[38;5;28;01mNone\u001b[39;00m,\n\u001b[0;32m   1528\u001b[0m )\n\u001b[1;32m-> 1530\u001b[0m predictions \u001b[38;5;241m=\u001b[39m \u001b[38;5;28;43mself\u001b[39;49m\u001b[38;5;241;43m.\u001b[39;49m\u001b[43mpredict_from_dataset\u001b[49m\u001b[43m(\u001b[49m\n\u001b[0;32m   1531\u001b[0m \u001b[43m    \u001b[49m\u001b[43mn\u001b[49m\u001b[43m,\u001b[49m\n\u001b[0;32m   1532\u001b[0m \u001b[43m    \u001b[49m\u001b[43mdataset\u001b[49m\u001b[43m,\u001b[49m\n\u001b[0;32m   1533\u001b[0m \u001b[43m    \u001b[49m\u001b[43mtrainer\u001b[49m\u001b[38;5;241;43m=\u001b[39;49m\u001b[43mtrainer\u001b[49m\u001b[43m,\u001b[49m\n\u001b[0;32m   1534\u001b[0m \u001b[43m    \u001b[49m\u001b[43mverbose\u001b[49m\u001b[38;5;241;43m=\u001b[39;49m\u001b[43mverbose\u001b[49m\u001b[43m,\u001b[49m\n\u001b[0;32m   1535\u001b[0m \u001b[43m    \u001b[49m\u001b[43mbatch_size\u001b[49m\u001b[38;5;241;43m=\u001b[39;49m\u001b[43mbatch_size\u001b[49m\u001b[43m,\u001b[49m\n\u001b[0;32m   1536\u001b[0m \u001b[43m    \u001b[49m\u001b[43mn_jobs\u001b[49m\u001b[38;5;241;43m=\u001b[39;49m\u001b[43mn_jobs\u001b[49m\u001b[43m,\u001b[49m\n\u001b[0;32m   1537\u001b[0m \u001b[43m    \u001b[49m\u001b[43mroll_size\u001b[49m\u001b[38;5;241;43m=\u001b[39;49m\u001b[43mroll_size\u001b[49m\u001b[43m,\u001b[49m\n\u001b[0;32m   1538\u001b[0m \u001b[43m    \u001b[49m\u001b[43mnum_samples\u001b[49m\u001b[38;5;241;43m=\u001b[39;49m\u001b[43mnum_samples\u001b[49m\u001b[43m,\u001b[49m\n\u001b[0;32m   1539\u001b[0m \u001b[43m    \u001b[49m\u001b[43mdataloader_kwargs\u001b[49m\u001b[38;5;241;43m=\u001b[39;49m\u001b[43mdataloader_kwargs\u001b[49m\u001b[43m,\u001b[49m\n\u001b[0;32m   1540\u001b[0m \u001b[43m    \u001b[49m\u001b[43mmc_dropout\u001b[49m\u001b[38;5;241;43m=\u001b[39;49m\u001b[43mmc_dropout\u001b[49m\u001b[43m,\u001b[49m\n\u001b[0;32m   1541\u001b[0m \u001b[43m    \u001b[49m\u001b[43mpredict_likelihood_parameters\u001b[49m\u001b[38;5;241;43m=\u001b[39;49m\u001b[43mpredict_likelihood_parameters\u001b[49m\u001b[43m,\u001b[49m\n\u001b[0;32m   1542\u001b[0m \u001b[43m\u001b[49m\u001b[43m)\u001b[49m\n\u001b[0;32m   1544\u001b[0m \u001b[38;5;28;01mreturn\u001b[39;00m predictions[\u001b[38;5;241m0\u001b[39m] \u001b[38;5;28;01mif\u001b[39;00m called_with_single_series \u001b[38;5;28;01melse\u001b[39;00m predictions\n",
      "File \u001b[1;32mc:\\Users\\James\\AppData\\Local\\Programs\\Python\\Python311\\Lib\\site-packages\\darts\\utils\\torch.py:80\u001b[0m, in \u001b[0;36mrandom_method.<locals>.decorator\u001b[1;34m(self, *args, **kwargs)\u001b[0m\n\u001b[0;32m     78\u001b[0m \u001b[38;5;28;01mwith\u001b[39;00m fork_rng():\n\u001b[0;32m     79\u001b[0m     manual_seed(\u001b[38;5;28mself\u001b[39m\u001b[38;5;241m.\u001b[39m_random_instance\u001b[38;5;241m.\u001b[39mrandint(\u001b[38;5;241m0\u001b[39m, high\u001b[38;5;241m=\u001b[39mMAX_TORCH_SEED_VALUE))\n\u001b[1;32m---> 80\u001b[0m     \u001b[38;5;28;01mreturn\u001b[39;00m \u001b[43mdecorated\u001b[49m\u001b[43m(\u001b[49m\u001b[38;5;28;43mself\u001b[39;49m\u001b[43m,\u001b[49m\u001b[43m \u001b[49m\u001b[38;5;241;43m*\u001b[39;49m\u001b[43margs\u001b[49m\u001b[43m,\u001b[49m\u001b[43m \u001b[49m\u001b[38;5;241;43m*\u001b[39;49m\u001b[38;5;241;43m*\u001b[39;49m\u001b[43mkwargs\u001b[49m\u001b[43m)\u001b[49m\n",
      "File \u001b[1;32mc:\\Users\\James\\AppData\\Local\\Programs\\Python\\Python311\\Lib\\site-packages\\darts\\models\\forecasting\\torch_forecasting_model.py:1623\u001b[0m, in \u001b[0;36mTorchForecastingModel.predict_from_dataset\u001b[1;34m(self, n, input_series_dataset, trainer, batch_size, verbose, n_jobs, roll_size, num_samples, dataloader_kwargs, mc_dropout, predict_likelihood_parameters)\u001b[0m\n\u001b[0;32m   1620\u001b[0m \u001b[38;5;28mself\u001b[39m\u001b[38;5;241m.\u001b[39m_verify_inference_dataset_type(input_series_dataset)\n\u001b[0;32m   1622\u001b[0m \u001b[38;5;66;03m# check that covariates and dimensions are matching what we had during training\u001b[39;00m\n\u001b[1;32m-> 1623\u001b[0m \u001b[38;5;28mself\u001b[39m\u001b[38;5;241m.\u001b[39m_verify_predict_sample(\u001b[43minput_series_dataset\u001b[49m\u001b[43m[\u001b[49m\u001b[38;5;241;43m0\u001b[39;49m\u001b[43m]\u001b[49m)\n\u001b[0;32m   1625\u001b[0m \u001b[38;5;28;01mif\u001b[39;00m roll_size \u001b[38;5;129;01mis\u001b[39;00m \u001b[38;5;28;01mNone\u001b[39;00m:\n\u001b[0;32m   1626\u001b[0m     roll_size \u001b[38;5;241m=\u001b[39m \u001b[38;5;28mself\u001b[39m\u001b[38;5;241m.\u001b[39moutput_chunk_length\n",
      "File \u001b[1;32mc:\\Users\\James\\AppData\\Local\\Programs\\Python\\Python311\\Lib\\site-packages\\darts\\utils\\data\\inference_dataset.py:711\u001b[0m, in \u001b[0;36mMixedCovariatesInferenceDataset.__getitem__\u001b[1;34m(self, idx)\u001b[0m\n\u001b[0;32m    692\u001b[0m \u001b[38;5;28;01mdef\u001b[39;00m\u001b[38;5;250m \u001b[39m\u001b[38;5;21m__getitem__\u001b[39m(\n\u001b[0;32m    693\u001b[0m     \u001b[38;5;28mself\u001b[39m, idx\n\u001b[0;32m    694\u001b[0m ) \u001b[38;5;241m-\u001b[39m\u001b[38;5;241m>\u001b[39m \u001b[38;5;28mtuple\u001b[39m[\n\u001b[1;32m   (...)\u001b[0m\n\u001b[0;32m    702\u001b[0m     Union[pd\u001b[38;5;241m.\u001b[39mTimestamp, \u001b[38;5;28mint\u001b[39m],\n\u001b[0;32m    703\u001b[0m ]:\n\u001b[0;32m    704\u001b[0m     (\n\u001b[0;32m    705\u001b[0m         past_target,\n\u001b[0;32m    706\u001b[0m         past_covariate,\n\u001b[0;32m    707\u001b[0m         future_past_covariate,\n\u001b[0;32m    708\u001b[0m         static_covariate,\n\u001b[0;32m    709\u001b[0m         ts_target,\n\u001b[0;32m    710\u001b[0m         pred_point,\n\u001b[1;32m--> 711\u001b[0m     ) \u001b[38;5;241m=\u001b[39m \u001b[38;5;28;43mself\u001b[39;49m\u001b[38;5;241;43m.\u001b[39;49m\u001b[43mds_past\u001b[49m\u001b[43m[\u001b[49m\u001b[43midx\u001b[49m\u001b[43m]\u001b[49m\n\u001b[0;32m    712\u001b[0m     _, historic_future_covariate, future_covariate, _, _, _ \u001b[38;5;241m=\u001b[39m \u001b[38;5;28mself\u001b[39m\u001b[38;5;241m.\u001b[39mds_future[idx]\n\u001b[0;32m    713\u001b[0m     \u001b[38;5;28;01mreturn\u001b[39;00m (\n\u001b[0;32m    714\u001b[0m         past_target,\n\u001b[0;32m    715\u001b[0m         past_covariate,\n\u001b[1;32m   (...)\u001b[0m\n\u001b[0;32m    721\u001b[0m         pred_point,\n\u001b[0;32m    722\u001b[0m     )\n",
      "File \u001b[1;32mc:\\Users\\James\\AppData\\Local\\Programs\\Python\\Python311\\Lib\\site-packages\\darts\\utils\\data\\inference_dataset.py:419\u001b[0m, in \u001b[0;36mPastCovariatesInferenceDataset.__getitem__\u001b[1;34m(self, idx)\u001b[0m\n\u001b[0;32m    409\u001b[0m \u001b[38;5;28;01mdef\u001b[39;00m\u001b[38;5;250m \u001b[39m\u001b[38;5;21m__getitem__\u001b[39m(\n\u001b[0;32m    410\u001b[0m     \u001b[38;5;28mself\u001b[39m, idx: \u001b[38;5;28mint\u001b[39m\n\u001b[0;32m    411\u001b[0m ) \u001b[38;5;241m-\u001b[39m\u001b[38;5;241m>\u001b[39m \u001b[38;5;28mtuple\u001b[39m[\n\u001b[1;32m   (...)\u001b[0m\n\u001b[0;32m    417\u001b[0m     Union[pd\u001b[38;5;241m.\u001b[39mTimestamp, \u001b[38;5;28mint\u001b[39m],\n\u001b[0;32m    418\u001b[0m ]:\n\u001b[1;32m--> 419\u001b[0m     \u001b[38;5;28;01mreturn\u001b[39;00m \u001b[38;5;28;43mself\u001b[39;49m\u001b[38;5;241;43m.\u001b[39;49m\u001b[43mds\u001b[49m\u001b[43m[\u001b[49m\u001b[43midx\u001b[49m\u001b[43m]\u001b[49m\n",
      "File \u001b[1;32mc:\\Users\\James\\AppData\\Local\\Programs\\Python\\Python311\\Lib\\site-packages\\darts\\utils\\data\\inference_dataset.py:292\u001b[0m, in \u001b[0;36mGenericInferenceDataset.__getitem__\u001b[1;34m(self, idx)\u001b[0m\n\u001b[0;32m    287\u001b[0m covariate_series \u001b[38;5;241m=\u001b[39m (\n\u001b[0;32m    288\u001b[0m     \u001b[38;5;28;01mNone\u001b[39;00m \u001b[38;5;28;01mif\u001b[39;00m \u001b[38;5;28mself\u001b[39m\u001b[38;5;241m.\u001b[39mcovariates \u001b[38;5;129;01mis\u001b[39;00m \u001b[38;5;28;01mNone\u001b[39;00m \u001b[38;5;28;01melse\u001b[39;00m \u001b[38;5;28mself\u001b[39m\u001b[38;5;241m.\u001b[39mcovariates[series_idx]\n\u001b[0;32m    289\u001b[0m )\n\u001b[0;32m    290\u001b[0m \u001b[38;5;28;01mif\u001b[39;00m covariate_series \u001b[38;5;129;01mis\u001b[39;00m \u001b[38;5;129;01mnot\u001b[39;00m \u001b[38;5;28;01mNone\u001b[39;00m:\n\u001b[0;32m    291\u001b[0m     \u001b[38;5;66;03m# get start and end indices (integer) of the covariates including historic and future parts\u001b[39;00m\n\u001b[1;32m--> 292\u001b[0m     covariate_start, covariate_end \u001b[38;5;241m=\u001b[39m \u001b[38;5;28;43mself\u001b[39;49m\u001b[38;5;241;43m.\u001b[39;49m\u001b[43m_covariate_indexer\u001b[49m\u001b[43m(\u001b[49m\n\u001b[0;32m    293\u001b[0m \u001b[43m        \u001b[49m\u001b[43mtarget_idx\u001b[49m\u001b[38;5;241;43m=\u001b[39;49m\u001b[43mseries_idx\u001b[49m\u001b[43m,\u001b[49m\n\u001b[0;32m    294\u001b[0m \u001b[43m        \u001b[49m\u001b[43mpast_start\u001b[49m\u001b[38;5;241;43m=\u001b[39;49m\u001b[43mtarget_series\u001b[49m\u001b[38;5;241;43m.\u001b[39;49m\u001b[43mtime_index\u001b[49m\u001b[43m[\u001b[49m\u001b[43mtarget_start_idx\u001b[49m\u001b[43m]\u001b[49m\u001b[43m,\u001b[49m\n\u001b[0;32m    295\u001b[0m \u001b[43m        \u001b[49m\u001b[43mpast_end\u001b[49m\u001b[38;5;241;43m=\u001b[39;49m\u001b[43mpast_end\u001b[49m\u001b[43m,\u001b[49m\n\u001b[0;32m    296\u001b[0m \u001b[43m        \u001b[49m\u001b[43mcovariate_series\u001b[49m\u001b[38;5;241;43m=\u001b[39;49m\u001b[43mcovariate_series\u001b[49m\u001b[43m,\u001b[49m\n\u001b[0;32m    297\u001b[0m \u001b[43m        \u001b[49m\u001b[43mcovariate_type\u001b[49m\u001b[38;5;241;43m=\u001b[39;49m\u001b[38;5;28;43mself\u001b[39;49m\u001b[38;5;241;43m.\u001b[39;49m\u001b[43mcovariate_type\u001b[49m\u001b[43m,\u001b[49m\n\u001b[0;32m    298\u001b[0m \u001b[43m        \u001b[49m\u001b[43minput_chunk_length\u001b[49m\u001b[38;5;241;43m=\u001b[39;49m\u001b[38;5;28;43mself\u001b[39;49m\u001b[38;5;241;43m.\u001b[39;49m\u001b[43minput_chunk_length\u001b[49m\u001b[43m,\u001b[49m\n\u001b[0;32m    299\u001b[0m \u001b[43m        \u001b[49m\u001b[43moutput_chunk_length\u001b[49m\u001b[38;5;241;43m=\u001b[39;49m\u001b[38;5;28;43mself\u001b[39;49m\u001b[38;5;241;43m.\u001b[39;49m\u001b[43moutput_chunk_length\u001b[49m\u001b[43m,\u001b[49m\n\u001b[0;32m    300\u001b[0m \u001b[43m        \u001b[49m\u001b[43moutput_chunk_shift\u001b[49m\u001b[38;5;241;43m=\u001b[39;49m\u001b[38;5;28;43mself\u001b[39;49m\u001b[38;5;241;43m.\u001b[39;49m\u001b[43moutput_chunk_shift\u001b[49m\u001b[43m,\u001b[49m\n\u001b[0;32m    301\u001b[0m \u001b[43m        \u001b[49m\u001b[43mn\u001b[49m\u001b[38;5;241;43m=\u001b[39;49m\u001b[38;5;28;43mself\u001b[39;49m\u001b[38;5;241;43m.\u001b[39;49m\u001b[43mn\u001b[49m\u001b[43m,\u001b[49m\n\u001b[0;32m    302\u001b[0m \u001b[43m    \u001b[49m\u001b[43m)\u001b[49m\n\u001b[0;32m    304\u001b[0m     \u001b[38;5;66;03m# extract covariate values and split into a past (historic) and future part\u001b[39;00m\n\u001b[0;32m    305\u001b[0m     covariate \u001b[38;5;241m=\u001b[39m covariate_series\u001b[38;5;241m.\u001b[39mrandom_component_values(copy\u001b[38;5;241m=\u001b[39m\u001b[38;5;28;01mFalse\u001b[39;00m)[\n\u001b[0;32m    306\u001b[0m         covariate_start:covariate_end\n\u001b[0;32m    307\u001b[0m     ]\n",
      "File \u001b[1;32mc:\\Users\\James\\AppData\\Local\\Programs\\Python\\Python311\\Lib\\site-packages\\darts\\utils\\data\\inference_dataset.py:109\u001b[0m, in \u001b[0;36mInferenceDataset._covariate_indexer\u001b[1;34m(target_idx, past_start, past_end, covariate_series, covariate_type, input_chunk_length, output_chunk_length, output_chunk_shift, n)\u001b[0m\n\u001b[0;32m     99\u001b[0m     raise_log(\n\u001b[0;32m    100\u001b[0m         \u001b[38;5;167;01mValueError\u001b[39;00m(\n\u001b[0;32m    101\u001b[0m             \u001b[38;5;124mf\u001b[39m\u001b[38;5;124m\"\u001b[39m\u001b[38;5;124mFor the given forecasting case, the provided \u001b[39m\u001b[38;5;132;01m{\u001b[39;00mmain_covariate_type\u001b[38;5;241m.\u001b[39mvalue\u001b[38;5;132;01m}\u001b[39;00m\u001b[38;5;124m covariates at \u001b[39m\u001b[38;5;124m\"\u001b[39m\n\u001b[1;32m   (...)\u001b[0m\n\u001b[0;32m    106\u001b[0m         logger\u001b[38;5;241m=\u001b[39mlogger,\n\u001b[0;32m    107\u001b[0m     )\n\u001b[0;32m    108\u001b[0m \u001b[38;5;28;01mif\u001b[39;00m \u001b[38;5;129;01mnot\u001b[39;00m covariate_series\u001b[38;5;241m.\u001b[39mend_time() \u001b[38;5;241m>\u001b[39m\u001b[38;5;241m=\u001b[39m future_end:\n\u001b[1;32m--> 109\u001b[0m     \u001b[43mraise_log\u001b[49m\u001b[43m(\u001b[49m\n\u001b[0;32m    110\u001b[0m \u001b[43m        \u001b[49m\u001b[38;5;167;43;01mValueError\u001b[39;49;00m\u001b[43m(\u001b[49m\n\u001b[0;32m    111\u001b[0m \u001b[43m            \u001b[49m\u001b[38;5;124;43mf\u001b[39;49m\u001b[38;5;124;43m\"\u001b[39;49m\u001b[38;5;124;43mFor the given forecasting horizon `n=\u001b[39;49m\u001b[38;5;132;43;01m{\u001b[39;49;00m\u001b[43mn\u001b[49m\u001b[38;5;132;43;01m}\u001b[39;49;00m\u001b[38;5;124;43m`, the provided \u001b[39;49m\u001b[38;5;132;43;01m{\u001b[39;49;00m\u001b[43mmain_covariate_type\u001b[49m\u001b[38;5;241;43m.\u001b[39;49m\u001b[43mvalue\u001b[49m\u001b[38;5;132;43;01m}\u001b[39;49;00m\u001b[38;5;124;43m covariates \u001b[39;49m\u001b[38;5;124;43m\"\u001b[39;49m\n\u001b[0;32m    112\u001b[0m \u001b[43m            \u001b[49m\u001b[38;5;124;43mf\u001b[39;49m\u001b[38;5;124;43m\"\u001b[39;49m\u001b[38;5;124;43mat dataset index `\u001b[39;49m\u001b[38;5;132;43;01m{\u001b[39;49;00m\u001b[43mtarget_idx\u001b[49m\u001b[38;5;132;43;01m}\u001b[39;49;00m\u001b[38;5;124;43m` do not extend far enough into the future. As `\u001b[39;49m\u001b[38;5;124;43m\"\u001b[39;49m\n\u001b[0;32m    113\u001b[0m \u001b[43m            \u001b[49m\u001b[38;5;124;43mf\u001b[39;49m\u001b[38;5;124;43m\"\u001b[39;49m\u001b[38;5;132;43;01m{\u001b[39;49;00m\u001b[38;5;124;43m'\u001b[39;49m\u001b[38;5;124;43mn > output_chunk_length\u001b[39;49m\u001b[38;5;124;43m'\u001b[39;49m\u001b[38;5;250;43m \u001b[39;49m\u001b[38;5;28;43;01mif\u001b[39;49;00m\u001b[38;5;250;43m \u001b[39;49m\u001b[43mn\u001b[49m\u001b[38;5;250;43m \u001b[39;49m\u001b[38;5;241;43m>\u001b[39;49m\u001b[38;5;250;43m \u001b[39;49m\u001b[43moutput_chunk_length\u001b[49m\u001b[38;5;250;43m \u001b[39;49m\u001b[38;5;28;43;01melse\u001b[39;49;00m\u001b[38;5;250;43m \u001b[39;49m\u001b[38;5;124;43m'\u001b[39;49m\u001b[38;5;124;43mn <= output_chunk_length\u001b[39;49m\u001b[38;5;124;43m'\u001b[39;49m\u001b[38;5;132;43;01m}\u001b[39;49;00m\u001b[38;5;124;43m\"\u001b[39;49m\n\u001b[0;32m    114\u001b[0m \u001b[43m            \u001b[49m\u001b[38;5;124;43mf\u001b[39;49m\u001b[38;5;124;43m\"\u001b[39;49m\u001b[38;5;124;43m` the \u001b[39;49m\u001b[38;5;132;43;01m{\u001b[39;49;00m\u001b[43mmain_covariate_type\u001b[49m\u001b[38;5;241;43m.\u001b[39;49m\u001b[43mvalue\u001b[49m\u001b[38;5;132;43;01m}\u001b[39;49;00m\u001b[38;5;124;43m covariates must end at time step `\u001b[39;49m\u001b[38;5;132;43;01m{\u001b[39;49;00m\u001b[43mfuture_end\u001b[49m\u001b[38;5;132;43;01m}\u001b[39;49;00m\u001b[38;5;124;43m`, \u001b[39;49m\u001b[38;5;124;43m\"\u001b[39;49m\n\u001b[0;32m    115\u001b[0m \u001b[43m            \u001b[49m\u001b[38;5;124;43mf\u001b[39;49m\u001b[38;5;124;43m\"\u001b[39;49m\u001b[38;5;124;43mwhereas now they end at time step `\u001b[39;49m\u001b[38;5;132;43;01m{\u001b[39;49;00m\u001b[43mcovariate_series\u001b[49m\u001b[38;5;241;43m.\u001b[39;49m\u001b[43mend_time\u001b[49m\u001b[43m(\u001b[49m\u001b[43m)\u001b[49m\u001b[38;5;132;43;01m}\u001b[39;49;00m\u001b[38;5;124;43m`.\u001b[39;49m\u001b[38;5;124;43m\"\u001b[39;49m\n\u001b[0;32m    116\u001b[0m \u001b[43m        \u001b[49m\u001b[43m)\u001b[49m\u001b[43m,\u001b[49m\n\u001b[0;32m    117\u001b[0m \u001b[43m        \u001b[49m\u001b[43mlogger\u001b[49m\u001b[38;5;241;43m=\u001b[39;49m\u001b[43mlogger\u001b[49m\u001b[43m,\u001b[49m\n\u001b[0;32m    118\u001b[0m \u001b[43m    \u001b[49m\u001b[43m)\u001b[49m\n\u001b[0;32m    120\u001b[0m \u001b[38;5;66;03m# extract the index position (integer index) from time_index value\u001b[39;00m\n\u001b[0;32m    121\u001b[0m covariate_start \u001b[38;5;241m=\u001b[39m covariate_series\u001b[38;5;241m.\u001b[39mtime_index\u001b[38;5;241m.\u001b[39mget_loc(past_start)\n",
      "File \u001b[1;32mc:\\Users\\James\\AppData\\Local\\Programs\\Python\\Python311\\Lib\\site-packages\\darts\\logging.py:132\u001b[0m, in \u001b[0;36mraise_log\u001b[1;34m(exception, logger)\u001b[0m\n\u001b[0;32m    129\u001b[0m message \u001b[38;5;241m=\u001b[39m \u001b[38;5;28mstr\u001b[39m(exception)\n\u001b[0;32m    130\u001b[0m logger\u001b[38;5;241m.\u001b[39merror(exception_type \u001b[38;5;241m+\u001b[39m \u001b[38;5;124m\"\u001b[39m\u001b[38;5;124m: \u001b[39m\u001b[38;5;124m\"\u001b[39m \u001b[38;5;241m+\u001b[39m message)\n\u001b[1;32m--> 132\u001b[0m \u001b[38;5;28;01mraise\u001b[39;00m exception\n",
      "\u001b[1;31mValueError\u001b[0m: For the given forecasting horizon `n=3`, the provided past covariates at dataset index `0` do not extend far enough into the future. As `n <= output_chunk_length` the past covariates must end at time step `2024-03-01 00:00:00`, whereas now they end at time step `2023-12-01 00:00:00`."
     ]
    }
   ],
   "source": [
    "horizion3 = []\n",
    "for i in range(4):\n",
    "    pred = model.predict(n=3,series=scaled_total,past_covariates=scaled_total_exo)\n",
    "    horizion3.append(pred)\n",
    "    \n",
    "    # Extend the series with the latest prediction for next iteration\n",
    "    scaled_total = scaled_total.append(pred)"
   ]
  }
 ],
 "metadata": {
  "kernelspec": {
   "display_name": "Python 3",
   "language": "python",
   "name": "python3"
  },
  "language_info": {
   "codemirror_mode": {
    "name": "ipython",
    "version": 3
   },
   "file_extension": ".py",
   "mimetype": "text/x-python",
   "name": "python",
   "nbconvert_exporter": "python",
   "pygments_lexer": "ipython3",
   "version": "3.11.2"
  }
 },
 "nbformat": 4,
 "nbformat_minor": 2
}
