{
 "cells": [
  {
   "cell_type": "code",
   "execution_count": 23,
   "metadata": {},
   "outputs": [],
   "source": [
    "from darts.models import TiDEModel\n",
    "from darts.dataprocessing.transformers.scaler import Scaler\n",
    "from pytorch_lightning.callbacks.early_stopping import EarlyStopping as EarlyStopping_lightning\n",
    "from torch.optim import lr_scheduler"
   ]
  },
  {
   "cell_type": "code",
   "execution_count": 24,
   "metadata": {},
   "outputs": [
    {
     "name": "stdout",
     "output_type": "stream",
     "text": [
      "Project root added to sys.path: c:\\Users\\James\\COMP5530M-Group-Project-Inflation-Forecasting\n"
     ]
    }
   ],
   "source": [
    "import sys\n",
    "import os\n",
    "\n",
    "# Go up two levels from notebook (Training/MLR) to project root\n",
    "project_root = os.path.abspath(os.path.join(os.getcwd(), \"../..\"))\n",
    "sys.path.append(project_root)\n",
    "\n",
    "print(\"Project root added to sys.path:\", project_root)\n",
    "# Ensure the model save directory exists\n",
    "model_save_path = os.path.join('.')\n",
    "os.makedirs(model_save_path, exist_ok=True)  # Creates directory if it doesn't exist"
   ]
  },
  {
   "cell_type": "markdown",
   "metadata": {},
   "source": [
    "Data loading"
   ]
  },
  {
   "cell_type": "code",
   "execution_count": 25,
   "metadata": {},
   "outputs": [],
   "source": [
    "import pandas as pd\n",
    "from Training.Helper.dataPreprocessing import TRAIN_DATA_PATH_1990S, get_untransformed_exog\n",
    "date_col = 'observation_date'\n",
    "\n",
    "# Load and format training data (only using PCEPI)\n",
    "train_df = pd.read_csv(TRAIN_DATA_PATH_1990S)\n",
    "train_df = get_untransformed_exog(train_df)\n",
    "# Convert the date column to datetime format\n",
    "train_df[date_col] = pd.to_datetime(train_df[date_col], format='%m/%Y')\n",
    "\n",
    "# Set the date column as the index\n",
    "train_df.set_index(date_col, inplace=True)"
   ]
  },
  {
   "cell_type": "code",
   "execution_count": 26,
   "metadata": {},
   "outputs": [],
   "source": [
    "from Training.Helper.dataPreprocessing import rank_features_ccf\n",
    "\n",
    "# Ranks all non-date variables\n",
    "ranked_features = rank_features_ccf(train_df)\n",
    "\n",
    "# Define the number of features that should be used\n",
    "FEATURES_TO_USE = len(ranked_features) #ensure this is all features for Optuna to work properly\n",
    "used_features = ranked_features[:FEATURES_TO_USE]"
   ]
  },
  {
   "cell_type": "code",
   "execution_count": 27,
   "metadata": {},
   "outputs": [],
   "source": [
    "def get_ranked_df(train_df, ranked_features, features_to_use):\n",
    "    return train_df.loc[:,ranked_features[:features_to_use]]"
   ]
  },
  {
   "cell_type": "code",
   "execution_count": 28,
   "metadata": {},
   "outputs": [],
   "source": [
    "import numpy as np\n",
    "target_col = \"fred_log\"\n",
    "train_df[\"fred_log\"] = np.log(train_df[\"fred_PCEPI\"])\n",
    "\n",
    "train_df_ranked = get_ranked_df(train_df, ranked_features, FEATURES_TO_USE)\n",
    "train_df_ranked[target_col] = train_df[target_col]"
   ]
  },
  {
   "cell_type": "code",
   "execution_count": 29,
   "metadata": {},
   "outputs": [],
   "source": [
    "from darts import TimeSeries\n",
    "\n",
    "def get_target_exogenous_series(train_df, target_col):\n",
    "    target_series = TimeSeries.from_series(train_df[target_col])\n",
    "\n",
    "    # Extract the exogenous variables (all columns except 'fred_PCEPI')\n",
    "    exogenous_variables = train_df.drop(columns=[target_col])\n",
    "    exogenous_series = TimeSeries.from_dataframe(exogenous_variables)\n",
    "    return target_series, exogenous_series"
   ]
  },
  {
   "cell_type": "code",
   "execution_count": 33,
   "metadata": {},
   "outputs": [],
   "source": [
    "from darts import TimeSeries\n",
    "\n",
    "target_series, exogenous_series = get_target_exogenous_series(train_df, target_col)"
   ]
  },
  {
   "cell_type": "code",
   "execution_count": 34,
   "metadata": {},
   "outputs": [],
   "source": [
    "target_series_ranked, exogenous_series_ranked = get_target_exogenous_series(train_df_ranked, target_col)"
   ]
  },
  {
   "cell_type": "markdown",
   "metadata": {},
   "source": [
    "Basic model"
   ]
  },
  {
   "cell_type": "code",
   "execution_count": 35,
   "metadata": {},
   "outputs": [
    {
     "name": "stderr",
     "output_type": "stream",
     "text": [
      "2025-04-23 01:23:21,613 - INFO - Train dataset contains 379 samples.\n",
      "2025-04-23 01:23:21,619 - INFO - Time series values are 64-bits; casting model to float64.\n",
      "GPU available: True (cuda), used: True\n",
      "TPU available: False, using: 0 TPU cores\n",
      "HPU available: False, using: 0 HPUs\n",
      "LOCAL_RANK: 0 - CUDA_VISIBLE_DEVICES: [0]\n",
      "\n",
      "  | Name                | Type             | Params | Mode \n",
      "-----------------------------------------------------------------\n",
      "0 | criterion           | MSELoss          | 0      | train\n",
      "1 | train_criterion     | MSELoss          | 0      | train\n",
      "2 | val_criterion       | MSELoss          | 0      | train\n",
      "3 | train_metrics       | MetricCollection | 0      | train\n",
      "4 | val_metrics         | MetricCollection | 0      | train\n",
      "5 | past_cov_projection | _ResidualBlock   | 18.3 K | train\n",
      "6 | encoders            | Sequential       | 47.5 K | train\n",
      "7 | decoders            | Sequential       | 41.3 K | train\n",
      "8 | temporal_decoder    | _ResidualBlock   | 594    | train\n",
      "9 | lookback_skip       | Linear           | 150    | train\n",
      "-----------------------------------------------------------------\n",
      "107 K     Trainable params\n",
      "0         Non-trainable params\n",
      "107 K     Total params\n",
      "0.431     Total estimated model params size (MB)\n",
      "36        Modules in train mode\n",
      "0         Modules in eval mode\n"
     ]
    },
    {
     "data": {
      "application/vnd.jupyter.widget-view+json": {
       "model_id": "95afc075f3b14349961a9df9ca63ca05",
       "version_major": 2,
       "version_minor": 0
      },
      "text/plain": [
       "Training: |          | 0/? [00:00<?, ?it/s]"
      ]
     },
     "metadata": {},
     "output_type": "display_data"
    },
    {
     "name": "stderr",
     "output_type": "stream",
     "text": [
      "`Trainer.fit` stopped: `max_epochs=100` reached.\n"
     ]
    },
    {
     "data": {
      "text/plain": [
       "TiDEModel(output_chunk_shift=0, num_encoder_layers=1, num_decoder_layers=1, decoder_output_dim=16, hidden_size=128, temporal_width_past=4, temporal_width_future=4, temporal_hidden_size_past=None, temporal_hidden_size_future=None, temporal_decoder_hidden=32, use_layer_norm=False, dropout=0.1, use_static_covariates=True, input_chunk_length=24, output_chunk_length=6)"
      ]
     },
     "execution_count": 35,
     "metadata": {},
     "output_type": "execute_result"
    }
   ],
   "source": [
    "model = TiDEModel(input_chunk_length=24, output_chunk_length=6)\n",
    "\n",
    "# Fit the model with the target series and exogenous variables\n",
    "model.fit(series=target_series,past_covariates=exogenous_series)"
   ]
  },
  {
   "cell_type": "code",
   "execution_count": 36,
   "metadata": {},
   "outputs": [
    {
     "name": "stderr",
     "output_type": "stream",
     "text": [
      "GPU available: True (cuda), used: True\n",
      "TPU available: False, using: 0 TPU cores\n",
      "HPU available: False, using: 0 HPUs\n",
      "LOCAL_RANK: 0 - CUDA_VISIBLE_DEVICES: [0]\n"
     ]
    },
    {
     "data": {
      "application/vnd.jupyter.widget-view+json": {
       "model_id": "54cfd74e6bc34330ae61925e52546c37",
       "version_major": 2,
       "version_minor": 0
      },
      "text/plain": [
       "Predicting: |          | 0/? [00:00<?, ?it/s]"
      ]
     },
     "metadata": {},
     "output_type": "display_data"
    },
    {
     "data": {
      "text/plain": [
       "array([[ 2704.6916761 ],\n",
       "       [-4273.74765659],\n",
       "       [ 2118.94651485],\n",
       "       [  262.53569578],\n",
       "       [  109.6996872 ],\n",
       "       [  295.16909184]])"
      ]
     },
     "execution_count": 36,
     "metadata": {},
     "output_type": "execute_result"
    }
   ],
   "source": [
    "pred = model.predict(6)\n",
    "pred.values()"
   ]
  },
  {
   "cell_type": "markdown",
   "metadata": {},
   "source": [
    "This is terrible"
   ]
  },
  {
   "cell_type": "code",
   "execution_count": 37,
   "metadata": {},
   "outputs": [
    {
     "name": "stderr",
     "output_type": "stream",
     "text": [
      "2025-04-23 01:23:40,617 - INFO - Train dataset contains 379 samples.\n",
      "2025-04-23 01:23:40,623 - INFO - Time series values are 64-bits; casting model to float64.\n",
      "GPU available: True (cuda), used: True\n",
      "TPU available: False, using: 0 TPU cores\n",
      "HPU available: False, using: 0 HPUs\n",
      "LOCAL_RANK: 0 - CUDA_VISIBLE_DEVICES: [0]\n",
      "\n",
      "  | Name                | Type             | Params | Mode \n",
      "-----------------------------------------------------------------\n",
      "0 | criterion           | MSELoss          | 0      | train\n",
      "1 | train_criterion     | MSELoss          | 0      | train\n",
      "2 | val_criterion       | MSELoss          | 0      | train\n",
      "3 | train_metrics       | MetricCollection | 0      | train\n",
      "4 | val_metrics         | MetricCollection | 0      | train\n",
      "5 | past_cov_projection | _ResidualBlock   | 18.2 K | train\n",
      "6 | encoders            | Sequential       | 47.5 K | train\n",
      "7 | decoders            | Sequential       | 41.3 K | train\n",
      "8 | temporal_decoder    | _ResidualBlock   | 594    | train\n",
      "9 | lookback_skip       | Linear           | 150    | train\n",
      "-----------------------------------------------------------------\n",
      "107 K     Trainable params\n",
      "0         Non-trainable params\n",
      "107 K     Total params\n",
      "0.431     Total estimated model params size (MB)\n",
      "36        Modules in train mode\n",
      "0         Modules in eval mode\n"
     ]
    },
    {
     "data": {
      "application/vnd.jupyter.widget-view+json": {
       "model_id": "47b55fdf5a154f9aa1af5b2c21d2ace8",
       "version_major": 2,
       "version_minor": 0
      },
      "text/plain": [
       "Training: |          | 0/? [00:00<?, ?it/s]"
      ]
     },
     "metadata": {},
     "output_type": "display_data"
    },
    {
     "name": "stderr",
     "output_type": "stream",
     "text": [
      "`Trainer.fit` stopped: `max_epochs=100` reached.\n"
     ]
    },
    {
     "data": {
      "text/plain": [
       "TiDEModel(output_chunk_shift=0, num_encoder_layers=1, num_decoder_layers=1, decoder_output_dim=16, hidden_size=128, temporal_width_past=4, temporal_width_future=4, temporal_hidden_size_past=None, temporal_hidden_size_future=None, temporal_decoder_hidden=32, use_layer_norm=False, dropout=0.1, use_static_covariates=True, input_chunk_length=24, output_chunk_length=6)"
      ]
     },
     "execution_count": 37,
     "metadata": {},
     "output_type": "execute_result"
    }
   ],
   "source": [
    "model = TiDEModel(input_chunk_length=24, output_chunk_length=6)\n",
    "\n",
    "# Fit the model with the target series and exogenous variables\n",
    "model.fit(series=target_series_ranked,past_covariates=exogenous_series_ranked)"
   ]
  },
  {
   "cell_type": "code",
   "execution_count": 38,
   "metadata": {},
   "outputs": [
    {
     "name": "stderr",
     "output_type": "stream",
     "text": [
      "GPU available: True (cuda), used: True\n",
      "TPU available: False, using: 0 TPU cores\n",
      "HPU available: False, using: 0 HPUs\n",
      "LOCAL_RANK: 0 - CUDA_VISIBLE_DEVICES: [0]\n"
     ]
    },
    {
     "data": {
      "application/vnd.jupyter.widget-view+json": {
       "model_id": "87467eaf111e453da0bd242196f5024a",
       "version_major": 2,
       "version_minor": 0
      },
      "text/plain": [
       "Predicting: |          | 0/? [00:00<?, ?it/s]"
      ]
     },
     "metadata": {},
     "output_type": "display_data"
    },
    {
     "data": {
      "text/plain": [
       "array([[1943.35566076],\n",
       "       [1934.54087601],\n",
       "       [-347.80358351],\n",
       "       [1050.08923098],\n",
       "       [1307.27749736],\n",
       "       [ 924.6260535 ]])"
      ]
     },
     "execution_count": 38,
     "metadata": {},
     "output_type": "execute_result"
    }
   ],
   "source": [
    "pred = model.predict(6)\n",
    "pred.values()"
   ]
  },
  {
   "cell_type": "markdown",
   "metadata": {},
   "source": [
    "This is a lot more reasonable - indicating that having too many features causes the model problems."
   ]
  },
  {
   "cell_type": "markdown",
   "metadata": {},
   "source": [
    "Split validation and training then scale"
   ]
  },
  {
   "cell_type": "code",
   "execution_count": 39,
   "metadata": {},
   "outputs": [],
   "source": [
    "def fit_transform_TimeSeries(train_ts, val_ts, scaler):\n",
    "    scaled_train = scaler.fit_transform(train_ts)\n",
    "    scaled_val = scaler.transform(val_ts)\n",
    "    return scaled_train, scaled_val, scaler"
   ]
  },
  {
   "cell_type": "code",
   "execution_count": 40,
   "metadata": {},
   "outputs": [],
   "source": [
    "from Training.Helper.dataPreprocessing import TRAIN_DATA_SPLIT\n",
    "def split_and_scale_TimeSeries(target_series, exogenous_series):\n",
    "    train_target, val_target = target_series.split_after(TRAIN_DATA_SPLIT)\n",
    "    train_exo, val_exo = exogenous_series.split_after(TRAIN_DATA_SPLIT)\n",
    "    \n",
    "    # default uses sklearn's MinMaxScaler\n",
    "    scaled_train_target, scaled_val_target, targetScaler = fit_transform_TimeSeries(train_target, val_target, Scaler())\n",
    "    scaled_train_exo, scaled_val_exo, exoScaler = fit_transform_TimeSeries(train_exo, val_exo, Scaler())\n",
    "    return scaled_train_target, scaled_train_exo, scaled_val_target, scaled_val_exo, targetScaler, exoScaler"
   ]
  },
  {
   "cell_type": "code",
   "execution_count": 41,
   "metadata": {},
   "outputs": [],
   "source": [
    "scaled_train_target, scaled_train_exo, scaled_val_target, scaled_val_exo, targetScaler, exoScaler = split_and_scale_TimeSeries(target_series, exogenous_series)\n",
    "scaled_train_target_r, scaled_train_exo_r, scaled_val_target_r, scaled_val_exo_r, targetScaler_r, exoScaler_r = split_and_scale_TimeSeries(target_series_ranked, exogenous_series_ranked)"
   ]
  },
  {
   "cell_type": "code",
   "execution_count": 21,
   "metadata": {},
   "outputs": [],
   "source": [
    "# needed for the plot of unscaled series later\n",
    "train_target, val_target = target_series.split_after(TRAIN_DATA_SPLIT)"
   ]
  },
  {
   "cell_type": "code",
   "execution_count": 43,
   "metadata": {},
   "outputs": [
    {
     "data": {
      "text/plain": [
       "<Axes: xlabel='observation_date'>"
      ]
     },
     "execution_count": 43,
     "metadata": {},
     "output_type": "execute_result"
    },
    {
     "data": {
      "image/png": "[encoded data removed]",
      "text/plain": [
       "<Figure size 640x480 with 1 Axes>"
      ]
     },
     "metadata": {},
     "output_type": "display_data"
    }
   ],
   "source": [
    "scaled_train_target.plot(label=\"train\")\n",
    "scaled_val_target.plot(label=\"val\")"
   ]
  },
  {
   "cell_type": "markdown",
   "metadata": {},
   "source": [
    "Basic model"
   ]
  },
  {
   "cell_type": "code",
   "execution_count": 44,
   "metadata": {},
   "outputs": [],
   "source": [
    "OUT_LENGTH = 12\n",
    "\n",
    "early_stopper = EarlyStopping_lightning(\n",
    "    monitor='val_loss',\n",
    "    patience=10,\n",
    "    min_delta=1e-3,\n",
    "    mode='min'\n",
    ")\n",
    "lr_scheduler_kwargs = {\n",
    "    \"gamma\": 0.999,\n",
    "}\n",
    "model = TiDEModel(\n",
    "    input_chunk_length=48,\n",
    "    output_chunk_length=OUT_LENGTH,\n",
    "    pl_trainer_kwargs={\"callbacks\": [early_stopper]},\n",
    "    optimizer_kwargs={\"lr\": 1e-3},\n",
    "    lr_scheduler_cls= lr_scheduler.ExponentialLR,\n",
    "    lr_scheduler_kwargs = {\"gamma\": 0.999},\n",
    "    use_reversible_instance_norm = True\n",
    ")"
   ]
  },
  {
   "cell_type": "code",
   "execution_count": 45,
   "metadata": {},
   "outputs": [
    {
     "name": "stderr",
     "output_type": "stream",
     "text": [
      "2025-04-23 01:24:55,953 - INFO - Train dataset contains 267 samples.\n",
      "2025-04-23 01:24:55,957 - INFO - Time series values are 64-bits; casting model to float64.\n",
      "GPU available: True (cuda), used: True\n",
      "TPU available: False, using: 0 TPU cores\n",
      "HPU available: False, using: 0 HPUs\n",
      "LOCAL_RANK: 0 - CUDA_VISIBLE_DEVICES: [0]\n",
      "\n",
      "   | Name                | Type             | Params | Mode \n",
      "------------------------------------------------------------------\n",
      "0  | criterion           | MSELoss          | 0      | train\n",
      "1  | train_criterion     | MSELoss          | 0      | train\n",
      "2  | val_criterion       | MSELoss          | 0      | train\n",
      "3  | train_metrics       | MetricCollection | 0      | train\n",
      "4  | val_metrics         | MetricCollection | 0      | train\n",
      "5  | rin                 | RINorm           | 2      | train\n",
      "6  | past_cov_projection | _ResidualBlock   | 18.3 K | train\n",
      "7  | encoders            | Sequential       | 78.2 K | train\n",
      "8  | decoders            | Sequential       | 66.0 K | train\n",
      "9  | temporal_decoder    | _ResidualBlock   | 594    | train\n",
      "10 | lookback_skip       | Linear           | 588    | train\n",
      "------------------------------------------------------------------\n",
      "163 K     Trainable params\n",
      "0         Non-trainable params\n",
      "163 K     Total params\n",
      "0.655     Total estimated model params size (MB)\n",
      "37        Modules in train mode\n",
      "0         Modules in eval mode\n"
     ]
    },
    {
     "data": {
      "application/vnd.jupyter.widget-view+json": {
       "model_id": "4b179898d39844f5900b38c952eb6f0f",
       "version_major": 2,
       "version_minor": 0
      },
      "text/plain": [
       "Sanity Checking: |          | 0/? [00:00<?, ?it/s]"
      ]
     },
     "metadata": {},
     "output_type": "display_data"
    },
    {
     "data": {
      "application/vnd.jupyter.widget-view+json": {
       "model_id": "83787ddde7134f008a161167de319c32",
       "version_major": 2,
       "version_minor": 0
      },
      "text/plain": [
       "Training: |          | 0/? [00:00<?, ?it/s]"
      ]
     },
     "metadata": {},
     "output_type": "display_data"
    },
    {
     "data": {
      "application/vnd.jupyter.widget-view+json": {
       "model_id": "06a4bac5c3a54fb2b96a8d7c907891fe",
       "version_major": 2,
       "version_minor": 0
      },
      "text/plain": [
       "Validation: |          | 0/? [00:00<?, ?it/s]"
      ]
     },
     "metadata": {},
     "output_type": "display_data"
    },
    {
     "data": {
      "application/vnd.jupyter.widget-view+json": {
       "model_id": "fc7f9915767a4f63b2f3d3e99ad17d22",
       "version_major": 2,
       "version_minor": 0
      },
      "text/plain": [
       "Validation: |          | 0/? [00:00<?, ?it/s]"
      ]
     },
     "metadata": {},
     "output_type": "display_data"
    },
    {
     "data": {
      "application/vnd.jupyter.widget-view+json": {
       "model_id": "95ca9046b0ce44eeb48f3adcd6eef19d",
       "version_major": 2,
       "version_minor": 0
      },
      "text/plain": [
       "Validation: |          | 0/? [00:00<?, ?it/s]"
      ]
     },
     "metadata": {},
     "output_type": "display_data"
    },
    {
     "data": {
      "application/vnd.jupyter.widget-view+json": {
       "model_id": "b9d327eab26e479280aa309295136b01",
       "version_major": 2,
       "version_minor": 0
      },
      "text/plain": [
       "Validation: |          | 0/? [00:00<?, ?it/s]"
      ]
     },
     "metadata": {},
     "output_type": "display_data"
    },
    {
     "data": {
      "application/vnd.jupyter.widget-view+json": {
       "model_id": "ac29abfa8b954617a16c1d95e0951df8",
       "version_major": 2,
       "version_minor": 0
      },
      "text/plain": [
       "Validation: |          | 0/? [00:00<?, ?it/s]"
      ]
     },
     "metadata": {},
     "output_type": "display_data"
    },
    {
     "data": {
      "application/vnd.jupyter.widget-view+json": {
       "model_id": "4a9d90b0ad6f47b5a2bb74b5c704e412",
       "version_major": 2,
       "version_minor": 0
      },
      "text/plain": [
       "Validation: |          | 0/? [00:00<?, ?it/s]"
      ]
     },
     "metadata": {},
     "output_type": "display_data"
    },
    {
     "data": {
      "application/vnd.jupyter.widget-view+json": {
       "model_id": "02085cfdbf0b4af7a3009c736336805b",
       "version_major": 2,
       "version_minor": 0
      },
      "text/plain": [
       "Validation: |          | 0/? [00:00<?, ?it/s]"
      ]
     },
     "metadata": {},
     "output_type": "display_data"
    },
    {
     "data": {
      "application/vnd.jupyter.widget-view+json": {
       "model_id": "1adcabcabb4247828ce283b598f902e7",
       "version_major": 2,
       "version_minor": 0
      },
      "text/plain": [
       "Validation: |          | 0/? [00:00<?, ?it/s]"
      ]
     },
     "metadata": {},
     "output_type": "display_data"
    },
    {
     "data": {
      "application/vnd.jupyter.widget-view+json": {
       "model_id": "8db01a1e54e44457866e32d410f810d3",
       "version_major": 2,
       "version_minor": 0
      },
      "text/plain": [
       "Validation: |          | 0/? [00:00<?, ?it/s]"
      ]
     },
     "metadata": {},
     "output_type": "display_data"
    },
    {
     "data": {
      "application/vnd.jupyter.widget-view+json": {
       "model_id": "bf9da32a988943b6adb5b7e09cc8aa4f",
       "version_major": 2,
       "version_minor": 0
      },
      "text/plain": [
       "Validation: |          | 0/? [00:00<?, ?it/s]"
      ]
     },
     "metadata": {},
     "output_type": "display_data"
    },
    {
     "data": {
      "application/vnd.jupyter.widget-view+json": {
       "model_id": "a99cbe9b6bf0449b918fd81d986efc2c",
       "version_major": 2,
       "version_minor": 0
      },
      "text/plain": [
       "Validation: |          | 0/? [00:00<?, ?it/s]"
      ]
     },
     "metadata": {},
     "output_type": "display_data"
    },
    {
     "data": {
      "application/vnd.jupyter.widget-view+json": {
       "model_id": "9411fb208bfa46b7884c1156b721e9b2",
       "version_major": 2,
       "version_minor": 0
      },
      "text/plain": [
       "Validation: |          | 0/? [00:00<?, ?it/s]"
      ]
     },
     "metadata": {},
     "output_type": "display_data"
    },
    {
     "data": {
      "application/vnd.jupyter.widget-view+json": {
       "model_id": "fe46d931e66c46c2a653e6f47fbb7ed5",
       "version_major": 2,
       "version_minor": 0
      },
      "text/plain": [
       "Validation: |          | 0/? [00:00<?, ?it/s]"
      ]
     },
     "metadata": {},
     "output_type": "display_data"
    },
    {
     "data": {
      "application/vnd.jupyter.widget-view+json": {
       "model_id": "79a69412b695480ea2dc695ac4d9d295",
       "version_major": 2,
       "version_minor": 0
      },
      "text/plain": [
       "Validation: |          | 0/? [00:00<?, ?it/s]"
      ]
     },
     "metadata": {},
     "output_type": "display_data"
    },
    {
     "data": {
      "application/vnd.jupyter.widget-view+json": {
       "model_id": "153dd26ffb1f4b63a9f788fb23313b4b",
       "version_major": 2,
       "version_minor": 0
      },
      "text/plain": [
       "Validation: |          | 0/? [00:00<?, ?it/s]"
      ]
     },
     "metadata": {},
     "output_type": "display_data"
    },
    {
     "data": {
      "application/vnd.jupyter.widget-view+json": {
       "model_id": "798e7a159aa44a8ea1be07d07212a618",
       "version_major": 2,
       "version_minor": 0
      },
      "text/plain": [
       "Validation: |          | 0/? [00:00<?, ?it/s]"
      ]
     },
     "metadata": {},
     "output_type": "display_data"
    }
   ],
   "source": [
    "import copy\n",
    "\n",
    "model.fit(series=scaled_train_target,past_covariates=scaled_train_exo,val_series=scaled_val_target,val_past_covariates=scaled_val_exo,verbose=True)\n",
    "# Make a copy of the model for potential later use\n",
    "original_model = copy.deepcopy(model)"
   ]
  },
  {
   "cell_type": "code",
   "execution_count": 46,
   "metadata": {},
   "outputs": [
    {
     "name": "stderr",
     "output_type": "stream",
     "text": [
      "GPU available: True (cuda), used: True\n",
      "TPU available: False, using: 0 TPU cores\n",
      "HPU available: False, using: 0 HPUs\n",
      "LOCAL_RANK: 0 - CUDA_VISIBLE_DEVICES: [0]\n"
     ]
    }
   ],
   "source": [
    "# prediction_size must be <= OUT_LENGTH\n",
    "prediction_size = OUT_LENGTH\n",
    "predictions = model.predict(prediction_size, verbose=False)\n",
    "transformed_predictions = targetScaler.inverse_transform(predictions)"
   ]
  },
  {
   "cell_type": "code",
   "execution_count": 47,
   "metadata": {},
   "outputs": [
    {
     "data": {
      "text/plain": [
       "12"
      ]
     },
     "execution_count": 47,
     "metadata": {},
     "output_type": "execute_result"
    }
   ],
   "source": [
    "model.output_chunk_length"
   ]
  },
  {
   "cell_type": "code",
   "execution_count": 48,
   "metadata": {},
   "outputs": [
    {
     "name": "stdout",
     "output_type": "stream",
     "text": [
      "Metrics for first model without hyperparameter optimisation:\n"
     ]
    },
    {
     "data": {
      "text/html": [
       "<div>\n",
       "<style scoped>\n",
       "    .dataframe tbody tr th:only-of-type {\n",
       "        vertical-align: middle;\n",
       "    }\n",
       "\n",
       "    .dataframe tbody tr th {\n",
       "        vertical-align: top;\n",
       "    }\n",
       "\n",
       "    .dataframe thead th {\n",
       "        text-align: right;\n",
       "    }\n",
       "</style>\n",
       "<table border=\"1\" class=\"dataframe\">\n",
       "  <thead>\n",
       "    <tr style=\"text-align: right;\">\n",
       "      <th></th>\n",
       "      <th>RMSE</th>\n",
       "      <th>MAE</th>\n",
       "      <th>r2</th>\n",
       "    </tr>\n",
       "  </thead>\n",
       "  <tbody>\n",
       "    <tr>\n",
       "      <th>TiDE</th>\n",
       "      <td>0.008559</td>\n",
       "      <td>0.007736</td>\n",
       "      <td>-1.000011</td>\n",
       "    </tr>\n",
       "  </tbody>\n",
       "</table>\n",
       "</div>"
      ],
      "text/plain": [
       "          RMSE       MAE        r2\n",
       "TiDE  0.008559  0.007736 -1.000011"
      ]
     },
     "metadata": {},
     "output_type": "display_data"
    },
    {
     "data": {
      "image/png": "[encoded data removed]",
      "text/plain": [
       "<Figure size 640x480 with 1 Axes>"
      ]
     },
     "metadata": {},
     "output_type": "display_data"
    }
   ],
   "source": [
    "from darts.metrics import mse\n",
    "from Evaluation.Helper.evaluation_helpers import calc_metrics_arrays\n",
    "\n",
    "train_target[-prediction_size:].plot(label='train')\n",
    "val_target[:prediction_size].plot(label='val')\n",
    "transformed_predictions.plot(label='predictions')\n",
    "original_model_metrics = calc_metrics_arrays(val_target[:prediction_size].values(), transformed_predictions.values(), model_names=['TiDE'])\n",
    "print('Metrics for first model without hyperparameter optimisation:')\n",
    "display(original_model_metrics)"
   ]
  },
  {
   "cell_type": "markdown",
   "metadata": {},
   "source": [
    "The discontinuity in the above plot between the ground-truth training and validation sets looks incorrect, but that is simply because a natural slight downturn occurred between the two months in question at the end of the training period and the beginning of the validation period respectively."
   ]
  },
  {
   "cell_type": "markdown",
   "metadata": {},
   "source": [
    "Not that good so optuna test"
   ]
  },
  {
   "cell_type": "code",
   "execution_count": 49,
   "metadata": {},
   "outputs": [],
   "source": [
    "# This is currently not used, but could be switched to\n",
    "split_date = pd.Timestamp('2022-12')\n",
    "op_train , op_val = target_series.split_after(split_date)\n",
    "op_train_exo , op_val_exo = exogenous_series.split_after(split_date)"
   ]
  },
  {
   "cell_type": "code",
   "execution_count": 50,
   "metadata": {},
   "outputs": [],
   "source": [
    "from darts.metrics import mse\n",
    "from Training.Helper.PyTorchModular import optuna_trial_get_kwargs\n",
    "\n",
    "def get_optuna_ranked_series(trial, scaled_train_exo, scaled_val_exo, ranked_features):\n",
    "    n_features = optuna_trial_get_kwargs(trial, {'n': (int, 1, scaled_train_exo.n_components)})['n']\n",
    "    return scaled_train_exo.drop_columns(ranked_features[n_features:]), scaled_val_exo.drop_columns(ranked_features[n_features:])"
   ]
  },
  {
   "cell_type": "code",
   "execution_count": 51,
   "metadata": {},
   "outputs": [],
   "source": [
    "import optuna\n",
    "from darts.metrics import mse\n",
    "from Training.Helper.PyTorchModular import optuna_trial_get_kwargs\n",
    "\n",
    "model_search_space = {\n",
    "    'input_chunk_length': (int, 24, 60),\n",
    "    'num_encoder_layers': (int, 1, 3),\n",
    "    'num_decoder_layers': (int, 1, 3),\n",
    "    'hidden_size': (int, 64, 512),\n",
    "    'dropout': (float, 0.1, 0.5, {'log': True}),\n",
    "    'optimizer_kwargs': {\"lr\": (float, 1e-4, 1e-2)},\n",
    "    'lr_scheduler_kwargs': {\"gamma\": (float, 0.9, 1.0)},\n",
    "    'use_reversible_instance_norm': ('categorical', [True, False]),\n",
    "}\n",
    "\n",
    "# Controlling input chunk length for now to decrease the size of the search space\n",
    "model_invariates = {\n",
    "    #'input_chunk_length': 48,\n",
    "    'output_chunk_length': 12,\n",
    "    'lr_scheduler_cls': lr_scheduler.ExponentialLR,\n",
    "    'pl_trainer_kwargs': {\"callbacks\": [early_stopper]}\n",
    "}\n",
    "\n",
    "def objective(trial):\n",
    "\n",
    "    model_kwargs = optuna_trial_get_kwargs(trial, model_search_space)\n",
    "\n",
    "    scaled_train_exo_ranked, scaled_val_exo_ranked = get_optuna_ranked_series(trial, scaled_train_exo_r, scaled_val_exo_r, ranked_features)\n",
    "\n",
    "    # Initialize the TiDEModel with suggested hyperparameters\n",
    "    model = TiDEModel(**model_kwargs, **model_invariates)\n",
    "\n",
    "    # Fit the model\n",
    "    model.fit(series = scaled_train_target,\n",
    "              past_covariates = scaled_train_exo_ranked,\n",
    "              val_series = scaled_val_target,\n",
    "              val_past_covariates = scaled_val_exo_ranked,\n",
    "              epochs=1000,\n",
    "              verbose = False)\n",
    "\n",
    "    # Evaluate the model\n",
    "    # (this is an alternative option for evaluation, where the model must predict the final prediction_size elements of the validation data having been given all other validation data;\n",
    "    #  if switching to this method, ensure that final prediction is performed with the same setup (this is currently done just by predicting the next n values))\n",
    "    #scaled_val_predictions = model.predict(n=prediction_size,series=scaled_val_target[:-prediction_size],past_covariates=scaled_val_exo[:-prediction_size], verbose=False)]\n",
    "    #val_predictions = targetScaler.inverse_transform(scaled_val_predictions, verbose=False)\n",
    "    #error = mse(val_target[-prediction_size:], val_predictions, verbose=False)\n",
    "\n",
    "    # Raw output is scaled, so inverse transform to become comparable with validation set\n",
    "    scaled_val_predictions = model.predict(n=prediction_size, verbose=False)\n",
    "    val_predictions = targetScaler.inverse_transform(scaled_val_predictions, verbose=False)\n",
    "    # Only uses the first prediction_size values of val_target, since this is the size of the prediction made by the model\n",
    "    error = mse(val_target[:prediction_size], val_predictions, verbose=False)\n",
    "    return error"
   ]
  },
  {
   "cell_type": "code",
   "execution_count": 52,
   "metadata": {},
   "outputs": [
    {
     "name": "stderr",
     "output_type": "stream",
     "text": [
      "[I 2025-04-23 01:25:13,216] A new study created in memory with name: no-name-388177a2-138a-4cc1-8c5a-166d6205438c\n",
      "2025-04-23 01:25:13,230 - INFO - Train dataset contains 269 samples.\n",
      "2025-04-23 01:25:13,236 - INFO - Time series values are 64-bits; casting model to float64.\n",
      "GPU available: True (cuda), used: True\n",
      "TPU available: False, using: 0 TPU cores\n",
      "HPU available: False, using: 0 HPUs\n",
      "LOCAL_RANK: 0 - CUDA_VISIBLE_DEVICES: [0]\n",
      "GPU available: True (cuda), used: True\n",
      "TPU available: False, using: 0 TPU cores\n",
      "HPU available: False, using: 0 HPUs\n",
      "LOCAL_RANK: 0 - CUDA_VISIBLE_DEVICES: [0]\n",
      "[I 2025-04-23 01:25:13,581] Trial 0 finished with value: 0.2883117935814283 and parameters: {'input_chunk_length': 46, 'num_encoder_layers': 2, 'num_decoder_layers': 1, 'hidden_size': 237, 'dropout': 0.26506265933349155, 'lr': 0.005239910017214985, 'gamma': 0.97392621751701, 'use_reversible_instance_norm': False, 'n': 98}. Best is trial 0 with value: 0.2883117935814283.\n",
      "2025-04-23 01:25:13,595 - INFO - Train dataset contains 283 samples.\n",
      "2025-04-23 01:25:13,605 - INFO - Time series values are 64-bits; casting model to float64.\n",
      "GPU available: True (cuda), used: True\n",
      "TPU available: False, using: 0 TPU cores\n",
      "HPU available: False, using: 0 HPUs\n",
      "LOCAL_RANK: 0 - CUDA_VISIBLE_DEVICES: [0]\n",
      "GPU available: True (cuda), used: True\n",
      "TPU available: False, using: 0 TPU cores\n",
      "HPU available: False, using: 0 HPUs\n",
      "LOCAL_RANK: 0 - CUDA_VISIBLE_DEVICES: [0]\n",
      "[I 2025-04-23 01:25:13,823] Trial 1 finished with value: 3.1583261496318307 and parameters: {'input_chunk_length': 32, 'num_encoder_layers': 2, 'num_decoder_layers': 2, 'hidden_size': 266, 'dropout': 0.10772216733746841, 'lr': 0.007211964024774793, 'gamma': 0.919472772479281, 'use_reversible_instance_norm': False, 'n': 133}. Best is trial 0 with value: 0.2883117935814283.\n",
      "2025-04-23 01:25:13,839 - INFO - Train dataset contains 260 samples.\n",
      "2025-04-23 01:25:13,848 - INFO - Time series values are 64-bits; casting model to float64.\n",
      "GPU available: True (cuda), used: True\n",
      "TPU available: False, using: 0 TPU cores\n",
      "HPU available: False, using: 0 HPUs\n",
      "LOCAL_RANK: 0 - CUDA_VISIBLE_DEVICES: [0]\n",
      "GPU available: True (cuda), used: True\n",
      "TPU available: False, using: 0 TPU cores\n",
      "HPU available: False, using: 0 HPUs\n",
      "LOCAL_RANK: 0 - CUDA_VISIBLE_DEVICES: [0]\n",
      "[I 2025-04-23 01:25:14,136] Trial 2 finished with value: 0.00040384843349475756 and parameters: {'input_chunk_length': 55, 'num_encoder_layers': 3, 'num_decoder_layers': 3, 'hidden_size': 211, 'dropout': 0.11753180782877559, 'lr': 0.0018104000394722826, 'gamma': 0.9989199169640082, 'use_reversible_instance_norm': True, 'n': 18}. Best is trial 2 with value: 0.00040384843349475756.\n",
      "2025-04-23 01:25:14,152 - INFO - Train dataset contains 287 samples.\n",
      "2025-04-23 01:25:14,164 - INFO - Time series values are 64-bits; casting model to float64.\n",
      "GPU available: True (cuda), used: True\n",
      "TPU available: False, using: 0 TPU cores\n",
      "HPU available: False, using: 0 HPUs\n",
      "LOCAL_RANK: 0 - CUDA_VISIBLE_DEVICES: [0]\n",
      "GPU available: True (cuda), used: True\n",
      "TPU available: False, using: 0 TPU cores\n",
      "HPU available: False, using: 0 HPUs\n",
      "LOCAL_RANK: 0 - CUDA_VISIBLE_DEVICES: [0]\n",
      "[I 2025-04-23 01:25:14,399] Trial 3 finished with value: 1.2733681497131792 and parameters: {'input_chunk_length': 28, 'num_encoder_layers': 2, 'num_decoder_layers': 3, 'hidden_size': 304, 'dropout': 0.11018704908660097, 'lr': 0.004861977851849055, 'gamma': 0.9793447750536382, 'use_reversible_instance_norm': False, 'n': 70}. Best is trial 2 with value: 0.00040384843349475756.\n",
      "2025-04-23 01:25:14,414 - INFO - Train dataset contains 275 samples.\n",
      "2025-04-23 01:25:14,421 - INFO - Time series values are 64-bits; casting model to float64.\n",
      "GPU available: True (cuda), used: True\n",
      "TPU available: False, using: 0 TPU cores\n",
      "HPU available: False, using: 0 HPUs\n",
      "LOCAL_RANK: 0 - CUDA_VISIBLE_DEVICES: [0]\n",
      "GPU available: True (cuda), used: True\n",
      "TPU available: False, using: 0 TPU cores\n",
      "HPU available: False, using: 0 HPUs\n",
      "LOCAL_RANK: 0 - CUDA_VISIBLE_DEVICES: [0]\n",
      "[I 2025-04-23 01:25:14,637] Trial 4 finished with value: 0.0004750800608607475 and parameters: {'input_chunk_length': 40, 'num_encoder_layers': 1, 'num_decoder_layers': 3, 'hidden_size': 163, 'dropout': 0.4706957067538798, 'lr': 0.009147229278899612, 'gamma': 0.9500270291872133, 'use_reversible_instance_norm': True, 'n': 115}. Best is trial 2 with value: 0.00040384843349475756.\n"
     ]
    }
   ],
   "source": [
    "# Create an Optuna study and optimize\n",
    "study = optuna.create_study(direction='minimize')\n",
    "study.optimize(objective, n_trials=5)"
   ]
  },
  {
   "cell_type": "code",
   "execution_count": 53,
   "metadata": {},
   "outputs": [
    {
     "name": "stderr",
     "output_type": "stream",
     "text": [
      "[I 2025-04-23 01:25:24,394] A new study created in memory with name: TiDEModel_hyperparameter_optimisation\n",
      "2025-04-23 01:25:24,405 - INFO - Train dataset contains 275 samples.\n",
      "2025-04-23 01:25:24,411 - INFO - Time series values are 64-bits; casting model to float64.\n",
      "GPU available: True (cuda), used: True\n",
      "TPU available: False, using: 0 TPU cores\n",
      "HPU available: False, using: 0 HPUs\n",
      "LOCAL_RANK: 0 - CUDA_VISIBLE_DEVICES: [0]\n",
      "GPU available: True (cuda), used: True\n",
      "TPU available: False, using: 0 TPU cores\n",
      "HPU available: False, using: 0 HPUs\n",
      "LOCAL_RANK: 0 - CUDA_VISIBLE_DEVICES: [0]\n",
      "[I 2025-04-23 01:25:24,832] Trial 0 finished with value: 6.676443923072913 and parameters: {'input_chunk_length': 40, 'num_encoder_layers': 3, 'num_decoder_layers': 1, 'hidden_size': 248, 'dropout': 0.261556857729578, 'lr': 0.009017029178584083, 'gamma': 0.9550869196098072, 'use_reversible_instance_norm': False}. Best is trial 0 with value: 6.676443923072913.\n",
      "2025-04-23 01:25:24,842 - INFO - Train dataset contains 257 samples.\n",
      "2025-04-23 01:25:24,852 - INFO - Time series values are 64-bits; casting model to float64.\n",
      "GPU available: True (cuda), used: True\n",
      "TPU available: False, using: 0 TPU cores\n",
      "HPU available: False, using: 0 HPUs\n",
      "LOCAL_RANK: 0 - CUDA_VISIBLE_DEVICES: [0]\n",
      "GPU available: True (cuda), used: True\n",
      "TPU available: False, using: 0 TPU cores\n",
      "HPU available: False, using: 0 HPUs\n",
      "LOCAL_RANK: 0 - CUDA_VISIBLE_DEVICES: [0]\n",
      "[I 2025-04-23 01:25:25,201] Trial 1 finished with value: 0.7184961549741457 and parameters: {'input_chunk_length': 58, 'num_encoder_layers': 1, 'num_decoder_layers': 2, 'hidden_size': 452, 'dropout': 0.1761613835542227, 'lr': 0.00586140778293916, 'gamma': 0.900592373923699, 'use_reversible_instance_norm': True}. Best is trial 1 with value: 0.7184961549741457.\n",
      "2025-04-23 01:25:25,213 - INFO - Train dataset contains 261 samples.\n",
      "2025-04-23 01:25:25,220 - INFO - Time series values are 64-bits; casting model to float64.\n",
      "GPU available: True (cuda), used: True\n",
      "TPU available: False, using: 0 TPU cores\n",
      "HPU available: False, using: 0 HPUs\n",
      "LOCAL_RANK: 0 - CUDA_VISIBLE_DEVICES: [0]\n",
      "GPU available: True (cuda), used: True\n",
      "TPU available: False, using: 0 TPU cores\n",
      "HPU available: False, using: 0 HPUs\n",
      "LOCAL_RANK: 0 - CUDA_VISIBLE_DEVICES: [0]\n",
      "[I 2025-04-23 01:25:25,440] Trial 2 finished with value: 0.0006432573575421902 and parameters: {'input_chunk_length': 54, 'num_encoder_layers': 3, 'num_decoder_layers': 1, 'hidden_size': 141, 'dropout': 0.3316916563437894, 'lr': 0.004579860311292117, 'gamma': 0.9008275140526214, 'use_reversible_instance_norm': True}. Best is trial 2 with value: 0.0006432573575421902.\n",
      "2025-04-23 01:25:25,450 - INFO - Train dataset contains 259 samples.\n",
      "2025-04-23 01:25:25,458 - INFO - Time series values are 64-bits; casting model to float64.\n",
      "GPU available: True (cuda), used: True\n",
      "TPU available: False, using: 0 TPU cores\n",
      "HPU available: False, using: 0 HPUs\n",
      "LOCAL_RANK: 0 - CUDA_VISIBLE_DEVICES: [0]\n",
      "GPU available: True (cuda), used: True\n",
      "TPU available: False, using: 0 TPU cores\n",
      "HPU available: False, using: 0 HPUs\n",
      "LOCAL_RANK: 0 - CUDA_VISIBLE_DEVICES: [0]\n",
      "[I 2025-04-23 01:25:25,674] Trial 3 finished with value: 3465.8968806537305 and parameters: {'input_chunk_length': 56, 'num_encoder_layers': 2, 'num_decoder_layers': 1, 'hidden_size': 356, 'dropout': 0.13709227144452607, 'lr': 0.009113327275790162, 'gamma': 0.9802976455068612, 'use_reversible_instance_norm': False}. Best is trial 2 with value: 0.0006432573575421902.\n",
      "2025-04-23 01:25:25,686 - INFO - Train dataset contains 261 samples.\n",
      "2025-04-23 01:25:25,691 - INFO - Time series values are 64-bits; casting model to float64.\n",
      "GPU available: True (cuda), used: True\n",
      "TPU available: False, using: 0 TPU cores\n",
      "HPU available: False, using: 0 HPUs\n",
      "LOCAL_RANK: 0 - CUDA_VISIBLE_DEVICES: [0]\n",
      "GPU available: True (cuda), used: True\n",
      "TPU available: False, using: 0 TPU cores\n",
      "HPU available: False, using: 0 HPUs\n",
      "LOCAL_RANK: 0 - CUDA_VISIBLE_DEVICES: [0]\n",
      "[I 2025-04-23 01:25:25,884] Trial 4 finished with value: 0.00046930230131182147 and parameters: {'input_chunk_length': 54, 'num_encoder_layers': 2, 'num_decoder_layers': 1, 'hidden_size': 93, 'dropout': 0.3977782364999961, 'lr': 0.0033226963728207166, 'gamma': 0.9566487762848033, 'use_reversible_instance_norm': True}. Best is trial 4 with value: 0.00046930230131182147.\n",
      "2025-04-23 01:25:25,893 - INFO - Train dataset contains 261 samples.\n",
      "2025-04-23 01:25:25,897 - INFO - Time series values are 64-bits; casting model to float64.\n",
      "GPU available: True (cuda), used: True\n",
      "TPU available: False, using: 0 TPU cores\n",
      "HPU available: False, using: 0 HPUs\n",
      "LOCAL_RANK: 0 - CUDA_VISIBLE_DEVICES: [0]\n"
     ]
    }
   ],
   "source": [
    "# Testing the generalised function - works for now but no find-best-feature-split functionality\n",
    "from Training.Helper.PyTorchModular import optuna_tune_and_train_darts\n",
    "\n",
    "amazing_model = optuna_tune_and_train_darts(TiDEModel,\n",
    "                                            scaled_train_target, scaled_val_target, scaled_train_exo, scaled_val_exo,\n",
    "                                            model_search_space, model_invariates,\n",
    "                                            n_trials=5, n_epochs_per_trial=50)"
   ]
  },
  {
   "cell_type": "code",
   "execution_count": 54,
   "metadata": {},
   "outputs": [
    {
     "data": {
      "text/plain": [
       "{'input_chunk_length': 55,\n",
       " 'num_encoder_layers': 3,\n",
       " 'num_decoder_layers': 3,\n",
       " 'hidden_size': 211,\n",
       " 'dropout': 0.11753180782877559,\n",
       " 'lr': 0.0018104000394722826,\n",
       " 'gamma': 0.9989199169640082,\n",
       " 'use_reversible_instance_norm': True,\n",
       " 'n': 18}"
      ]
     },
     "execution_count": 54,
     "metadata": {},
     "output_type": "execute_result"
    }
   ],
   "source": [
    "study.best_params"
   ]
  },
  {
   "cell_type": "code",
   "execution_count": 55,
   "metadata": {},
   "outputs": [
    {
     "name": "stdout",
     "output_type": "stream",
     "text": [
      "Best hyperparameters:\n"
     ]
    },
    {
     "data": {
      "text/plain": [
       "{'input_chunk_length': 55,\n",
       " 'num_encoder_layers': 3,\n",
       " 'num_decoder_layers': 3,\n",
       " 'hidden_size': 211,\n",
       " 'dropout': 0.11753180782877559,\n",
       " 'optimizer_kwargs': {'lr': 0.0018104000394722826},\n",
       " 'lr_scheduler_kwargs': {'gamma': 0.9989199169640082},\n",
       " 'use_reversible_instance_norm': True}"
      ]
     },
     "metadata": {},
     "output_type": "display_data"
    },
    {
     "name": "stdout",
     "output_type": "stream",
     "text": [
      "Best number of features to include: 18\n"
     ]
    }
   ],
   "source": [
    "from Training.Helper.PyTorchModular import reformat_best_params\n",
    "# Retrieve the best hyperparameters\n",
    "best_params = study.best_params\n",
    "# Get the 'n' parameter out of the best_params dictionary and extract just the value\n",
    "best_n_features = reformat_best_params(best_params, {'n': (int, (1, 2))})['n']\n",
    "# Format parameters returned by study into the same style as the search space definition (can be passed straight into model as kwargs)\n",
    "best_params = reformat_best_params(best_params, model_search_space)\n",
    "print('Best hyperparameters:')\n",
    "display(best_params)\n",
    "print('Best number of features to include:', best_n_features)"
   ]
  },
  {
   "cell_type": "markdown",
   "metadata": {},
   "source": [
    "### Load the best parameters into a model and test"
   ]
  },
  {
   "cell_type": "code",
   "execution_count": 56,
   "metadata": {},
   "outputs": [],
   "source": [
    "# Initialize the TiDEModel with suggested hyperparameters\n",
    "best_model = TiDEModel(**best_params, **model_invariates)"
   ]
  },
  {
   "cell_type": "code",
   "execution_count": null,
   "metadata": {},
   "outputs": [],
   "source": [
    "# Fossilised suggested hyperparameters\n",
    "    # Define early stopping callback\n",
    "#early_stopper = EarlyStopping_lightning(\n",
    "#    monitor='val_loss',\n",
    "#    patience=10,\n",
    "#    min_delta=1e-3,\n",
    "#    mode='min'\n",
    "#)\n",
    "#model = TiDEModel(\n",
    "#    input_chunk_length=29,\n",
    "#    output_chunk_length=12,\n",
    "#    num_encoder_layers=3,\n",
    "#    num_decoder_layers=2,\n",
    "#    hidden_size=443,\n",
    "#    dropout= 0.19411763114257125,\n",
    "#    optimizer_kwargs={\"lr\": 0.00014544898516544107},\n",
    "#    lr_scheduler_cls=torch.optim.lr_scheduler.ExponentialLR,\n",
    "#    lr_scheduler_kwargs={\"gamma\": 0.9645025339005199},\n",
    "#    pl_trainer_kwargs={\"callbacks\": [early_stopper]},\n",
    "#)"
   ]
  },
  {
   "cell_type": "code",
   "execution_count": 57,
   "metadata": {},
   "outputs": [
    {
     "name": "stderr",
     "output_type": "stream",
     "text": [
      "2025-04-23 01:25:34,556 - INFO - Train dataset contains 260 samples.\n",
      "2025-04-23 01:25:34,564 - INFO - Time series values are 64-bits; casting model to float64.\n",
      "GPU available: True (cuda), used: True\n",
      "TPU available: False, using: 0 TPU cores\n",
      "HPU available: False, using: 0 HPUs\n",
      "LOCAL_RANK: 0 - CUDA_VISIBLE_DEVICES: [0]\n",
      "\n",
      "   | Name                | Type             | Params | Mode \n",
      "------------------------------------------------------------------\n",
      "0  | criterion           | MSELoss          | 0      | train\n",
      "1  | train_criterion     | MSELoss          | 0      | train\n",
      "2  | val_criterion       | MSELoss          | 0      | train\n",
      "3  | train_metrics       | MetricCollection | 0      | train\n",
      "4  | val_metrics         | MetricCollection | 0      | train\n",
      "5  | rin                 | RINorm           | 2      | train\n",
      "6  | past_cov_projection | _ResidualBlock   | 5.1 K  | train\n",
      "7  | encoders            | Sequential       | 429 K  | train\n",
      "8  | decoders            | Sequential       | 394 K  | train\n",
      "9  | temporal_decoder    | _ResidualBlock   | 594    | train\n",
      "10 | lookback_skip       | Linear           | 672    | train\n",
      "------------------------------------------------------------------\n",
      "830 K     Trainable params\n",
      "0         Non-trainable params\n",
      "830 K     Total params\n",
      "3.322     Total estimated model params size (MB)\n",
      "65        Modules in train mode\n",
      "0         Modules in eval mode\n"
     ]
    },
    {
     "data": {
      "application/vnd.jupyter.widget-view+json": {
       "model_id": "bb8752ff0c0048baba6a763fcfcc1908",
       "version_major": 2,
       "version_minor": 0
      },
      "text/plain": [
       "Sanity Checking: |          | 0/? [00:00<?, ?it/s]"
      ]
     },
     "metadata": {},
     "output_type": "display_data"
    },
    {
     "data": {
      "application/vnd.jupyter.widget-view+json": {
       "model_id": "08833aebfca8495287f5054368225aca",
       "version_major": 2,
       "version_minor": 0
      },
      "text/plain": [
       "Training: |          | 0/? [00:00<?, ?it/s]"
      ]
     },
     "metadata": {},
     "output_type": "display_data"
    },
    {
     "data": {
      "application/vnd.jupyter.widget-view+json": {
       "model_id": "6c3ff14e544d496291db20f98f4504b0",
       "version_major": 2,
       "version_minor": 0
      },
      "text/plain": [
       "Validation: |          | 0/? [00:00<?, ?it/s]"
      ]
     },
     "metadata": {},
     "output_type": "display_data"
    },
    {
     "data": {
      "text/plain": [
       "TiDEModel(output_chunk_shift=0, num_encoder_layers=3, num_decoder_layers=3, decoder_output_dim=16, hidden_size=211, temporal_width_past=4, temporal_width_future=4, temporal_hidden_size_past=None, temporal_hidden_size_future=None, temporal_decoder_hidden=32, use_layer_norm=False, dropout=0.11753180782877559, use_static_covariates=True, input_chunk_length=55, optimizer_kwargs={'lr': 0.0018104000394722826}, lr_scheduler_kwargs={'gamma': 0.9989199169640082}, use_reversible_instance_norm=True, output_chunk_length=12, lr_scheduler_cls=<class 'torch.optim.lr_scheduler.ExponentialLR'>, pl_trainer_kwargs={'callbacks': [<pytorch_lightning.callbacks.early_stopping.EarlyStopping object at 0x00000168E66B5B10>]})"
      ]
     },
     "execution_count": 57,
     "metadata": {},
     "output_type": "execute_result"
    }
   ],
   "source": [
    "# Fit the model\n",
    "#best_model.fit(series=scaled_train_target,past_covariates=scaled_train_exo, val_series=scaled_val_target, val_past_covariates=scaled_val_exo)\n",
    "best_model.fit(series=scaled_train_target,\n",
    "               past_covariates=scaled_train_exo.drop_columns(ranked_features[best_n_features:]),\n",
    "               val_series=scaled_val_target,\n",
    "               val_past_covariates=scaled_val_exo.drop_columns(ranked_features[best_n_features:]))"
   ]
  },
  {
   "cell_type": "code",
   "execution_count": 58,
   "metadata": {},
   "outputs": [
    {
     "name": "stderr",
     "output_type": "stream",
     "text": [
      "GPU available: True (cuda), used: True\n",
      "TPU available: False, using: 0 TPU cores\n",
      "HPU available: False, using: 0 HPUs\n",
      "LOCAL_RANK: 0 - CUDA_VISIBLE_DEVICES: [0]\n"
     ]
    },
    {
     "data": {
      "application/vnd.jupyter.widget-view+json": {
       "model_id": "c69a27bd1311444cb2f541d92b0a0e28",
       "version_major": 2,
       "version_minor": 0
      },
      "text/plain": [
       "Predicting: |          | 0/? [00:00<?, ?it/s]"
      ]
     },
     "metadata": {},
     "output_type": "display_data"
    }
   ],
   "source": [
    "# Predict over the test horizon\n",
    "TEST_HORIZON = 12\n",
    "val_predictions = best_model.predict(n=TEST_HORIZON)\n",
    "transformed_predictions = targetScaler.inverse_transform(val_predictions)"
   ]
  },
  {
   "cell_type": "code",
   "execution_count": 59,
   "metadata": {},
   "outputs": [
    {
     "data": {
      "text/plain": [
       "<Axes: title={'center': 'Actual vs. TiDE Predicted PCE'}, xlabel='Date', ylabel='Inflation'>"
      ]
     },
     "execution_count": 59,
     "metadata": {},
     "output_type": "execute_result"
    },
    {
     "data": {
      "image/png": "[encoded data removed]",
      "text/plain": [
       "<Figure size 1200x600 with 1 Axes>"
      ]
     },
     "metadata": {},
     "output_type": "display_data"
    }
   ],
   "source": [
    "from Evaluation.Helper.evaluation_helpers import display_results\n",
    "\n",
    "actuals = val_target[:TEST_HORIZON].values()\n",
    "preds = transformed_predictions.values()\n",
    "\n",
    "display_results(actuals, preds, val_target[:TEST_HORIZON].time_index, 'TiDE')"
   ]
  },
  {
   "cell_type": "code",
   "execution_count": 60,
   "metadata": {},
   "outputs": [
    {
     "name": "stdout",
     "output_type": "stream",
     "text": [
      "Optuna trained model metrics on validation set:\n"
     ]
    },
    {
     "data": {
      "text/html": [
       "<div>\n",
       "<style scoped>\n",
       "    .dataframe tbody tr th:only-of-type {\n",
       "        vertical-align: middle;\n",
       "    }\n",
       "\n",
       "    .dataframe tbody tr th {\n",
       "        vertical-align: top;\n",
       "    }\n",
       "\n",
       "    .dataframe thead th {\n",
       "        text-align: right;\n",
       "    }\n",
       "</style>\n",
       "<table border=\"1\" class=\"dataframe\">\n",
       "  <thead>\n",
       "    <tr style=\"text-align: right;\">\n",
       "      <th></th>\n",
       "      <th>RMSE</th>\n",
       "      <th>MAE</th>\n",
       "      <th>r2</th>\n",
       "    </tr>\n",
       "  </thead>\n",
       "  <tbody>\n",
       "    <tr>\n",
       "      <th>TiDE</th>\n",
       "      <td>0.023417</td>\n",
       "      <td>0.022499</td>\n",
       "      <td>-13.969171</td>\n",
       "    </tr>\n",
       "  </tbody>\n",
       "</table>\n",
       "</div>"
      ],
      "text/plain": [
       "          RMSE       MAE         r2\n",
       "TiDE  0.023417  0.022499 -13.969171"
      ]
     },
     "metadata": {},
     "output_type": "display_data"
    }
   ],
   "source": [
    "# Evaluate the model\n",
    "print(f'Optuna trained model metrics on validation set:')\n",
    "best_model_metrics = calc_metrics_arrays(actuals, preds, model_names=['TiDE'])\n",
    "display(best_model_metrics)"
   ]
  },
  {
   "cell_type": "code",
   "execution_count": 61,
   "metadata": {},
   "outputs": [
    {
     "data": {
      "text/html": [
       "<div>\n",
       "<style scoped>\n",
       "    .dataframe tbody tr th:only-of-type {\n",
       "        vertical-align: middle;\n",
       "    }\n",
       "\n",
       "    .dataframe tbody tr th {\n",
       "        vertical-align: top;\n",
       "    }\n",
       "\n",
       "    .dataframe thead th {\n",
       "        text-align: right;\n",
       "    }\n",
       "</style>\n",
       "<table border=\"1\" class=\"dataframe\">\n",
       "  <thead>\n",
       "    <tr style=\"text-align: right;\">\n",
       "      <th></th>\n",
       "      <th>RMSE</th>\n",
       "      <th>MAE</th>\n",
       "      <th>r2</th>\n",
       "    </tr>\n",
       "  </thead>\n",
       "  <tbody>\n",
       "    <tr>\n",
       "      <th>TiDE</th>\n",
       "      <td>0.008559</td>\n",
       "      <td>0.007736</td>\n",
       "      <td>-1.000011</td>\n",
       "    </tr>\n",
       "  </tbody>\n",
       "</table>\n",
       "</div>"
      ],
      "text/plain": [
       "          RMSE       MAE        r2\n",
       "TiDE  0.008559  0.007736 -1.000011"
      ]
     },
     "metadata": {},
     "output_type": "display_data"
    },
    {
     "data": {
      "text/html": [
       "<div>\n",
       "<style scoped>\n",
       "    .dataframe tbody tr th:only-of-type {\n",
       "        vertical-align: middle;\n",
       "    }\n",
       "\n",
       "    .dataframe tbody tr th {\n",
       "        vertical-align: top;\n",
       "    }\n",
       "\n",
       "    .dataframe thead th {\n",
       "        text-align: right;\n",
       "    }\n",
       "</style>\n",
       "<table border=\"1\" class=\"dataframe\">\n",
       "  <thead>\n",
       "    <tr style=\"text-align: right;\">\n",
       "      <th></th>\n",
       "      <th>RMSE</th>\n",
       "      <th>MAE</th>\n",
       "      <th>r2</th>\n",
       "    </tr>\n",
       "  </thead>\n",
       "  <tbody>\n",
       "    <tr>\n",
       "      <th>TiDE</th>\n",
       "      <td>0.023417</td>\n",
       "      <td>0.022499</td>\n",
       "      <td>-13.969171</td>\n",
       "    </tr>\n",
       "  </tbody>\n",
       "</table>\n",
       "</div>"
      ],
      "text/plain": [
       "          RMSE       MAE         r2\n",
       "TiDE  0.023417  0.022499 -13.969171"
      ]
     },
     "metadata": {},
     "output_type": "display_data"
    }
   ],
   "source": [
    "display(original_model_metrics, best_model_metrics)"
   ]
  },
  {
   "cell_type": "code",
   "execution_count": 62,
   "metadata": {},
   "outputs": [],
   "source": [
    "# Find the model from the that has the best RMSE and take that as the best\n",
    "ranked_best = True\n",
    "if original_model_metrics.values.flatten()[0] < best_model_metrics.values.flatten()[0]:\n",
    "    best_model = original_model\n",
    "    ranked_best = False"
   ]
  },
  {
   "cell_type": "code",
   "execution_count": 63,
   "metadata": {},
   "outputs": [],
   "source": [
    "best_model.save(\"tide.pkl\")"
   ]
  },
  {
   "cell_type": "markdown",
   "metadata": {},
   "source": [
    "Go from here if wanting to load model"
   ]
  },
  {
   "cell_type": "code",
   "execution_count": 64,
   "metadata": {},
   "outputs": [],
   "source": [
    "from darts.models import TiDEModel\n",
    "\n",
    "# Load the model from the file\n",
    "model = TiDEModel.load(\"tide.pkl\")"
   ]
  },
  {
   "cell_type": "code",
   "execution_count": 69,
   "metadata": {},
   "outputs": [
    {
     "name": "stderr",
     "output_type": "stream",
     "text": [
      "GPU available: True (cuda), used: True\n",
      "TPU available: False, using: 0 TPU cores\n",
      "HPU available: False, using: 0 HPUs\n",
      "LOCAL_RANK: 0 - CUDA_VISIBLE_DEVICES: [0]\n"
     ]
    },
    {
     "data": {
      "application/vnd.jupyter.widget-view+json": {
       "model_id": "b17a940ad6174a0387b4636148b553bb",
       "version_major": 2,
       "version_minor": 0
      },
      "text/plain": [
       "Predicting: |          | 0/? [00:00<?, ?it/s]"
      ]
     },
     "metadata": {},
     "output_type": "display_data"
    },
    {
     "name": "stdout",
     "output_type": "stream",
     "text": [
      "Final predictions:\n",
      "[[128.9403985 ]\n",
      " [129.70668867]\n",
      " [129.43715806]\n",
      " [130.0205677 ]\n",
      " [132.50812789]\n",
      " [128.51098996]\n",
      " [131.66130405]\n",
      " [134.55196149]\n",
      " [132.23473999]\n",
      " [132.37335953]\n",
      " [134.46545348]\n",
      " [133.23723062]]\n"
     ]
    }
   ],
   "source": [
    "# Finally, predict 12 months into the future from the end of the training dataset\n",
    "scaled_total = targetScaler.transform(target_series)\n",
    "scaled_total_exo = exoScaler.transform(exogenous_series)\n",
    "\n",
    "if ranked_best:\n",
    "    scaled_total_exo = scaled_total_exo.drop_columns(ranked_features[best_n_features:])\n",
    "\n",
    "# may error here if the \n",
    "pred = model.predict(TEST_HORIZON,series=scaled_total,past_covariates=scaled_total_exo)\n",
    "finalout = targetScaler.inverse_transform(pred)\n",
    "final = np.exp(finalout.values())\n",
    "print(f'Final predictions:\\n{final}')"
   ]
  },
  {
   "cell_type": "code",
   "execution_count": 43,
   "metadata": {},
   "outputs": [],
   "source": [
    "import numpy as np\n",
    "np.save(os.path.join(project_root, 'Predictions', 'Tide.npy'), finalout.values().flatten())"
   ]
  },
  {
   "cell_type": "code",
   "execution_count": 72,
   "metadata": {},
   "outputs": [
    {
     "name": "stderr",
     "output_type": "stream",
     "text": [
      "GPU available: True (cuda), used: True\n",
      "TPU available: False, using: 0 TPU cores\n",
      "HPU available: False, using: 0 HPUs\n",
      "LOCAL_RANK: 0 - CUDA_VISIBLE_DEVICES: [0]\n"
     ]
    },
    {
     "data": {
      "application/vnd.jupyter.widget-view+json": {
       "model_id": "40bbcf81c4de4a1e9828f61388c25cd4",
       "version_major": 2,
       "version_minor": 0
      },
      "text/plain": [
       "Predicting: |          | 0/? [00:00<?, ?it/s]"
      ]
     },
     "metadata": {},
     "output_type": "display_data"
    },
    {
     "name": "stderr",
     "output_type": "stream",
     "text": [
      "2025-04-23 02:21:22,907 - ERROR - ValueError: For the given forecasting horizon `n=3`, the provided past covariates at dataset index `0` do not extend far enough into the future. As `n <= output_chunk_length` the past covariates must end at time step `2024-03-01 00:00:00`, whereas now they end at time step `2023-12-01 00:00:00`.\n"
     ]
    },
    {
     "ename": "ValueError",
     "evalue": "For the given forecasting horizon `n=3`, the provided past covariates at dataset index `0` do not extend far enough into the future. As `n <= output_chunk_length` the past covariates must end at time step `2024-03-01 00:00:00`, whereas now they end at time step `2023-12-01 00:00:00`.",
     "output_type": "error",
     "traceback": [
      "\u001b[1;31m---------------------------------------------------------------------------\u001b[0m",
      "\u001b[1;31mValueError\u001b[0m                                Traceback (most recent call last)",
      "Cell \u001b[1;32mIn[72], line 3\u001b[0m\n\u001b[0;32m      1\u001b[0m horizion3 \u001b[38;5;241m=\u001b[39m []\n\u001b[0;32m      2\u001b[0m \u001b[38;5;28;01mfor\u001b[39;00m i \u001b[38;5;129;01min\u001b[39;00m \u001b[38;5;28mrange\u001b[39m(\u001b[38;5;241m4\u001b[39m):\n\u001b[1;32m----> 3\u001b[0m     pred \u001b[38;5;241m=\u001b[39m \u001b[43mmodel\u001b[49m\u001b[38;5;241;43m.\u001b[39;49m\u001b[43mpredict\u001b[49m\u001b[43m(\u001b[49m\u001b[43mn\u001b[49m\u001b[38;5;241;43m=\u001b[39;49m\u001b[38;5;241;43m3\u001b[39;49m\u001b[43m,\u001b[49m\u001b[43mseries\u001b[49m\u001b[38;5;241;43m=\u001b[39;49m\u001b[43mscaled_total\u001b[49m\u001b[43m,\u001b[49m\u001b[43mpast_covariates\u001b[49m\u001b[38;5;241;43m=\u001b[39;49m\u001b[43mscaled_total_exo\u001b[49m\u001b[43m)\u001b[49m\n\u001b[0;32m      4\u001b[0m     horizion3\u001b[38;5;241m.\u001b[39mappend(pred)\n\u001b[0;32m      6\u001b[0m     \u001b[38;5;66;03m# Extend the series with the latest prediction for next iteration\u001b[39;00m\n",
      "File \u001b[1;32mc:\\Users\\James\\AppData\\Local\\Programs\\Python\\Python311\\Lib\\site-packages\\darts\\utils\\torch.py:80\u001b[0m, in \u001b[0;36mrandom_method.<locals>.decorator\u001b[1;34m(self, *args, **kwargs)\u001b[0m\n\u001b[0;32m     78\u001b[0m \u001b[38;5;28;01mwith\u001b[39;00m fork_rng():\n\u001b[0;32m     79\u001b[0m     manual_seed(\u001b[38;5;28mself\u001b[39m\u001b[38;5;241m.\u001b[39m_random_instance\u001b[38;5;241m.\u001b[39mrandint(\u001b[38;5;241m0\u001b[39m, high\u001b[38;5;241m=\u001b[39mMAX_TORCH_SEED_VALUE))\n\u001b[1;32m---> 80\u001b[0m     \u001b[38;5;28;01mreturn\u001b[39;00m \u001b[43mdecorated\u001b[49m\u001b[43m(\u001b[49m\u001b[38;5;28;43mself\u001b[39;49m\u001b[43m,\u001b[49m\u001b[43m \u001b[49m\u001b[38;5;241;43m*\u001b[39;49m\u001b[43margs\u001b[49m\u001b[43m,\u001b[49m\u001b[43m \u001b[49m\u001b[38;5;241;43m*\u001b[39;49m\u001b[38;5;241;43m*\u001b[39;49m\u001b[43mkwargs\u001b[49m\u001b[43m)\u001b[49m\n",
      "File \u001b[1;32mc:\\Users\\James\\AppData\\Local\\Programs\\Python\\Python311\\Lib\\site-packages\\darts\\models\\forecasting\\torch_forecasting_model.py:1530\u001b[0m, in \u001b[0;36mTorchForecastingModel.predict\u001b[1;34m(self, n, series, past_covariates, future_covariates, trainer, batch_size, verbose, n_jobs, roll_size, num_samples, dataloader_kwargs, mc_dropout, predict_likelihood_parameters, show_warnings)\u001b[0m\n\u001b[0;32m   1511\u001b[0m \u001b[38;5;28msuper\u001b[39m()\u001b[38;5;241m.\u001b[39mpredict(\n\u001b[0;32m   1512\u001b[0m     n,\n\u001b[0;32m   1513\u001b[0m     series,\n\u001b[1;32m   (...)\u001b[0m\n\u001b[0;32m   1518\u001b[0m     show_warnings\u001b[38;5;241m=\u001b[39mshow_warnings,\n\u001b[0;32m   1519\u001b[0m )\n\u001b[0;32m   1521\u001b[0m dataset \u001b[38;5;241m=\u001b[39m \u001b[38;5;28mself\u001b[39m\u001b[38;5;241m.\u001b[39m_build_inference_dataset(\n\u001b[0;32m   1522\u001b[0m     target\u001b[38;5;241m=\u001b[39mseries,\n\u001b[0;32m   1523\u001b[0m     n\u001b[38;5;241m=\u001b[39mn,\n\u001b[1;32m   (...)\u001b[0m\n\u001b[0;32m   1527\u001b[0m     bounds\u001b[38;5;241m=\u001b[39m\u001b[38;5;28;01mNone\u001b[39;00m,\n\u001b[0;32m   1528\u001b[0m )\n\u001b[1;32m-> 1530\u001b[0m predictions \u001b[38;5;241m=\u001b[39m \u001b[38;5;28;43mself\u001b[39;49m\u001b[38;5;241;43m.\u001b[39;49m\u001b[43mpredict_from_dataset\u001b[49m\u001b[43m(\u001b[49m\n\u001b[0;32m   1531\u001b[0m \u001b[43m    \u001b[49m\u001b[43mn\u001b[49m\u001b[43m,\u001b[49m\n\u001b[0;32m   1532\u001b[0m \u001b[43m    \u001b[49m\u001b[43mdataset\u001b[49m\u001b[43m,\u001b[49m\n\u001b[0;32m   1533\u001b[0m \u001b[43m    \u001b[49m\u001b[43mtrainer\u001b[49m\u001b[38;5;241;43m=\u001b[39;49m\u001b[43mtrainer\u001b[49m\u001b[43m,\u001b[49m\n\u001b[0;32m   1534\u001b[0m \u001b[43m    \u001b[49m\u001b[43mverbose\u001b[49m\u001b[38;5;241;43m=\u001b[39;49m\u001b[43mverbose\u001b[49m\u001b[43m,\u001b[49m\n\u001b[0;32m   1535\u001b[0m \u001b[43m    \u001b[49m\u001b[43mbatch_size\u001b[49m\u001b[38;5;241;43m=\u001b[39;49m\u001b[43mbatch_size\u001b[49m\u001b[43m,\u001b[49m\n\u001b[0;32m   1536\u001b[0m \u001b[43m    \u001b[49m\u001b[43mn_jobs\u001b[49m\u001b[38;5;241;43m=\u001b[39;49m\u001b[43mn_jobs\u001b[49m\u001b[43m,\u001b[49m\n\u001b[0;32m   1537\u001b[0m \u001b[43m    \u001b[49m\u001b[43mroll_size\u001b[49m\u001b[38;5;241;43m=\u001b[39;49m\u001b[43mroll_size\u001b[49m\u001b[43m,\u001b[49m\n\u001b[0;32m   1538\u001b[0m \u001b[43m    \u001b[49m\u001b[43mnum_samples\u001b[49m\u001b[38;5;241;43m=\u001b[39;49m\u001b[43mnum_samples\u001b[49m\u001b[43m,\u001b[49m\n\u001b[0;32m   1539\u001b[0m \u001b[43m    \u001b[49m\u001b[43mdataloader_kwargs\u001b[49m\u001b[38;5;241;43m=\u001b[39;49m\u001b[43mdataloader_kwargs\u001b[49m\u001b[43m,\u001b[49m\n\u001b[0;32m   1540\u001b[0m \u001b[43m    \u001b[49m\u001b[43mmc_dropout\u001b[49m\u001b[38;5;241;43m=\u001b[39;49m\u001b[43mmc_dropout\u001b[49m\u001b[43m,\u001b[49m\n\u001b[0;32m   1541\u001b[0m \u001b[43m    \u001b[49m\u001b[43mpredict_likelihood_parameters\u001b[49m\u001b[38;5;241;43m=\u001b[39;49m\u001b[43mpredict_likelihood_parameters\u001b[49m\u001b[43m,\u001b[49m\n\u001b[0;32m   1542\u001b[0m \u001b[43m\u001b[49m\u001b[43m)\u001b[49m\n\u001b[0;32m   1544\u001b[0m \u001b[38;5;28;01mreturn\u001b[39;00m predictions[\u001b[38;5;241m0\u001b[39m] \u001b[38;5;28;01mif\u001b[39;00m called_with_single_series \u001b[38;5;28;01melse\u001b[39;00m predictions\n",
      "File \u001b[1;32mc:\\Users\\James\\AppData\\Local\\Programs\\Python\\Python311\\Lib\\site-packages\\darts\\utils\\torch.py:80\u001b[0m, in \u001b[0;36mrandom_method.<locals>.decorator\u001b[1;34m(self, *args, **kwargs)\u001b[0m\n\u001b[0;32m     78\u001b[0m \u001b[38;5;28;01mwith\u001b[39;00m fork_rng():\n\u001b[0;32m     79\u001b[0m     manual_seed(\u001b[38;5;28mself\u001b[39m\u001b[38;5;241m.\u001b[39m_random_instance\u001b[38;5;241m.\u001b[39mrandint(\u001b[38;5;241m0\u001b[39m, high\u001b[38;5;241m=\u001b[39mMAX_TORCH_SEED_VALUE))\n\u001b[1;32m---> 80\u001b[0m     \u001b[38;5;28;01mreturn\u001b[39;00m \u001b[43mdecorated\u001b[49m\u001b[43m(\u001b[49m\u001b[38;5;28;43mself\u001b[39;49m\u001b[43m,\u001b[49m\u001b[43m \u001b[49m\u001b[38;5;241;43m*\u001b[39;49m\u001b[43margs\u001b[49m\u001b[43m,\u001b[49m\u001b[43m \u001b[49m\u001b[38;5;241;43m*\u001b[39;49m\u001b[38;5;241;43m*\u001b[39;49m\u001b[43mkwargs\u001b[49m\u001b[43m)\u001b[49m\n",
      "File \u001b[1;32mc:\\Users\\James\\AppData\\Local\\Programs\\Python\\Python311\\Lib\\site-packages\\darts\\models\\forecasting\\torch_forecasting_model.py:1623\u001b[0m, in \u001b[0;36mTorchForecastingModel.predict_from_dataset\u001b[1;34m(self, n, input_series_dataset, trainer, batch_size, verbose, n_jobs, roll_size, num_samples, dataloader_kwargs, mc_dropout, predict_likelihood_parameters)\u001b[0m\n\u001b[0;32m   1620\u001b[0m \u001b[38;5;28mself\u001b[39m\u001b[38;5;241m.\u001b[39m_verify_inference_dataset_type(input_series_dataset)\n\u001b[0;32m   1622\u001b[0m \u001b[38;5;66;03m# check that covariates and dimensions are matching what we had during training\u001b[39;00m\n\u001b[1;32m-> 1623\u001b[0m \u001b[38;5;28mself\u001b[39m\u001b[38;5;241m.\u001b[39m_verify_predict_sample(\u001b[43minput_series_dataset\u001b[49m\u001b[43m[\u001b[49m\u001b[38;5;241;43m0\u001b[39;49m\u001b[43m]\u001b[49m)\n\u001b[0;32m   1625\u001b[0m \u001b[38;5;28;01mif\u001b[39;00m roll_size \u001b[38;5;129;01mis\u001b[39;00m \u001b[38;5;28;01mNone\u001b[39;00m:\n\u001b[0;32m   1626\u001b[0m     roll_size \u001b[38;5;241m=\u001b[39m \u001b[38;5;28mself\u001b[39m\u001b[38;5;241m.\u001b[39moutput_chunk_length\n",
      "File \u001b[1;32mc:\\Users\\James\\AppData\\Local\\Programs\\Python\\Python311\\Lib\\site-packages\\darts\\utils\\data\\inference_dataset.py:711\u001b[0m, in \u001b[0;36mMixedCovariatesInferenceDataset.__getitem__\u001b[1;34m(self, idx)\u001b[0m\n\u001b[0;32m    692\u001b[0m \u001b[38;5;28;01mdef\u001b[39;00m\u001b[38;5;250m \u001b[39m\u001b[38;5;21m__getitem__\u001b[39m(\n\u001b[0;32m    693\u001b[0m     \u001b[38;5;28mself\u001b[39m, idx\n\u001b[0;32m    694\u001b[0m ) \u001b[38;5;241m-\u001b[39m\u001b[38;5;241m>\u001b[39m \u001b[38;5;28mtuple\u001b[39m[\n\u001b[1;32m   (...)\u001b[0m\n\u001b[0;32m    702\u001b[0m     Union[pd\u001b[38;5;241m.\u001b[39mTimestamp, \u001b[38;5;28mint\u001b[39m],\n\u001b[0;32m    703\u001b[0m ]:\n\u001b[0;32m    704\u001b[0m     (\n\u001b[0;32m    705\u001b[0m         past_target,\n\u001b[0;32m    706\u001b[0m         past_covariate,\n\u001b[0;32m    707\u001b[0m         future_past_covariate,\n\u001b[0;32m    708\u001b[0m         static_covariate,\n\u001b[0;32m    709\u001b[0m         ts_target,\n\u001b[0;32m    710\u001b[0m         pred_point,\n\u001b[1;32m--> 711\u001b[0m     ) \u001b[38;5;241m=\u001b[39m \u001b[38;5;28;43mself\u001b[39;49m\u001b[38;5;241;43m.\u001b[39;49m\u001b[43mds_past\u001b[49m\u001b[43m[\u001b[49m\u001b[43midx\u001b[49m\u001b[43m]\u001b[49m\n\u001b[0;32m    712\u001b[0m     _, historic_future_covariate, future_covariate, _, _, _ \u001b[38;5;241m=\u001b[39m \u001b[38;5;28mself\u001b[39m\u001b[38;5;241m.\u001b[39mds_future[idx]\n\u001b[0;32m    713\u001b[0m     \u001b[38;5;28;01mreturn\u001b[39;00m (\n\u001b[0;32m    714\u001b[0m         past_target,\n\u001b[0;32m    715\u001b[0m         past_covariate,\n\u001b[1;32m   (...)\u001b[0m\n\u001b[0;32m    721\u001b[0m         pred_point,\n\u001b[0;32m    722\u001b[0m     )\n",
      "File \u001b[1;32mc:\\Users\\James\\AppData\\Local\\Programs\\Python\\Python311\\Lib\\site-packages\\darts\\utils\\data\\inference_dataset.py:419\u001b[0m, in \u001b[0;36mPastCovariatesInferenceDataset.__getitem__\u001b[1;34m(self, idx)\u001b[0m\n\u001b[0;32m    409\u001b[0m \u001b[38;5;28;01mdef\u001b[39;00m\u001b[38;5;250m \u001b[39m\u001b[38;5;21m__getitem__\u001b[39m(\n\u001b[0;32m    410\u001b[0m     \u001b[38;5;28mself\u001b[39m, idx: \u001b[38;5;28mint\u001b[39m\n\u001b[0;32m    411\u001b[0m ) \u001b[38;5;241m-\u001b[39m\u001b[38;5;241m>\u001b[39m \u001b[38;5;28mtuple\u001b[39m[\n\u001b[1;32m   (...)\u001b[0m\n\u001b[0;32m    417\u001b[0m     Union[pd\u001b[38;5;241m.\u001b[39mTimestamp, \u001b[38;5;28mint\u001b[39m],\n\u001b[0;32m    418\u001b[0m ]:\n\u001b[1;32m--> 419\u001b[0m     \u001b[38;5;28;01mreturn\u001b[39;00m \u001b[38;5;28;43mself\u001b[39;49m\u001b[38;5;241;43m.\u001b[39;49m\u001b[43mds\u001b[49m\u001b[43m[\u001b[49m\u001b[43midx\u001b[49m\u001b[43m]\u001b[49m\n",
      "File \u001b[1;32mc:\\Users\\James\\AppData\\Local\\Programs\\Python\\Python311\\Lib\\site-packages\\darts\\utils\\data\\inference_dataset.py:292\u001b[0m, in \u001b[0;36mGenericInferenceDataset.__getitem__\u001b[1;34m(self, idx)\u001b[0m\n\u001b[0;32m    287\u001b[0m covariate_series \u001b[38;5;241m=\u001b[39m (\n\u001b[0;32m    288\u001b[0m     \u001b[38;5;28;01mNone\u001b[39;00m \u001b[38;5;28;01mif\u001b[39;00m \u001b[38;5;28mself\u001b[39m\u001b[38;5;241m.\u001b[39mcovariates \u001b[38;5;129;01mis\u001b[39;00m \u001b[38;5;28;01mNone\u001b[39;00m \u001b[38;5;28;01melse\u001b[39;00m \u001b[38;5;28mself\u001b[39m\u001b[38;5;241m.\u001b[39mcovariates[series_idx]\n\u001b[0;32m    289\u001b[0m )\n\u001b[0;32m    290\u001b[0m \u001b[38;5;28;01mif\u001b[39;00m covariate_series \u001b[38;5;129;01mis\u001b[39;00m \u001b[38;5;129;01mnot\u001b[39;00m \u001b[38;5;28;01mNone\u001b[39;00m:\n\u001b[0;32m    291\u001b[0m     \u001b[38;5;66;03m# get start and end indices (integer) of the covariates including historic and future parts\u001b[39;00m\n\u001b[1;32m--> 292\u001b[0m     covariate_start, covariate_end \u001b[38;5;241m=\u001b[39m \u001b[38;5;28;43mself\u001b[39;49m\u001b[38;5;241;43m.\u001b[39;49m\u001b[43m_covariate_indexer\u001b[49m\u001b[43m(\u001b[49m\n\u001b[0;32m    293\u001b[0m \u001b[43m        \u001b[49m\u001b[43mtarget_idx\u001b[49m\u001b[38;5;241;43m=\u001b[39;49m\u001b[43mseries_idx\u001b[49m\u001b[43m,\u001b[49m\n\u001b[0;32m    294\u001b[0m \u001b[43m        \u001b[49m\u001b[43mpast_start\u001b[49m\u001b[38;5;241;43m=\u001b[39;49m\u001b[43mtarget_series\u001b[49m\u001b[38;5;241;43m.\u001b[39;49m\u001b[43mtime_index\u001b[49m\u001b[43m[\u001b[49m\u001b[43mtarget_start_idx\u001b[49m\u001b[43m]\u001b[49m\u001b[43m,\u001b[49m\n\u001b[0;32m    295\u001b[0m \u001b[43m        \u001b[49m\u001b[43mpast_end\u001b[49m\u001b[38;5;241;43m=\u001b[39;49m\u001b[43mpast_end\u001b[49m\u001b[43m,\u001b[49m\n\u001b[0;32m    296\u001b[0m \u001b[43m        \u001b[49m\u001b[43mcovariate_series\u001b[49m\u001b[38;5;241;43m=\u001b[39;49m\u001b[43mcovariate_series\u001b[49m\u001b[43m,\u001b[49m\n\u001b[0;32m    297\u001b[0m \u001b[43m        \u001b[49m\u001b[43mcovariate_type\u001b[49m\u001b[38;5;241;43m=\u001b[39;49m\u001b[38;5;28;43mself\u001b[39;49m\u001b[38;5;241;43m.\u001b[39;49m\u001b[43mcovariate_type\u001b[49m\u001b[43m,\u001b[49m\n\u001b[0;32m    298\u001b[0m \u001b[43m        \u001b[49m\u001b[43minput_chunk_length\u001b[49m\u001b[38;5;241;43m=\u001b[39;49m\u001b[38;5;28;43mself\u001b[39;49m\u001b[38;5;241;43m.\u001b[39;49m\u001b[43minput_chunk_length\u001b[49m\u001b[43m,\u001b[49m\n\u001b[0;32m    299\u001b[0m \u001b[43m        \u001b[49m\u001b[43moutput_chunk_length\u001b[49m\u001b[38;5;241;43m=\u001b[39;49m\u001b[38;5;28;43mself\u001b[39;49m\u001b[38;5;241;43m.\u001b[39;49m\u001b[43moutput_chunk_length\u001b[49m\u001b[43m,\u001b[49m\n\u001b[0;32m    300\u001b[0m \u001b[43m        \u001b[49m\u001b[43moutput_chunk_shift\u001b[49m\u001b[38;5;241;43m=\u001b[39;49m\u001b[38;5;28;43mself\u001b[39;49m\u001b[38;5;241;43m.\u001b[39;49m\u001b[43moutput_chunk_shift\u001b[49m\u001b[43m,\u001b[49m\n\u001b[0;32m    301\u001b[0m \u001b[43m        \u001b[49m\u001b[43mn\u001b[49m\u001b[38;5;241;43m=\u001b[39;49m\u001b[38;5;28;43mself\u001b[39;49m\u001b[38;5;241;43m.\u001b[39;49m\u001b[43mn\u001b[49m\u001b[43m,\u001b[49m\n\u001b[0;32m    302\u001b[0m \u001b[43m    \u001b[49m\u001b[43m)\u001b[49m\n\u001b[0;32m    304\u001b[0m     \u001b[38;5;66;03m# extract covariate values and split into a past (historic) and future part\u001b[39;00m\n\u001b[0;32m    305\u001b[0m     covariate \u001b[38;5;241m=\u001b[39m covariate_series\u001b[38;5;241m.\u001b[39mrandom_component_values(copy\u001b[38;5;241m=\u001b[39m\u001b[38;5;28;01mFalse\u001b[39;00m)[\n\u001b[0;32m    306\u001b[0m         covariate_start:covariate_end\n\u001b[0;32m    307\u001b[0m     ]\n",
      "File \u001b[1;32mc:\\Users\\James\\AppData\\Local\\Programs\\Python\\Python311\\Lib\\site-packages\\darts\\utils\\data\\inference_dataset.py:109\u001b[0m, in \u001b[0;36mInferenceDataset._covariate_indexer\u001b[1;34m(target_idx, past_start, past_end, covariate_series, covariate_type, input_chunk_length, output_chunk_length, output_chunk_shift, n)\u001b[0m\n\u001b[0;32m     99\u001b[0m     raise_log(\n\u001b[0;32m    100\u001b[0m         \u001b[38;5;167;01mValueError\u001b[39;00m(\n\u001b[0;32m    101\u001b[0m             \u001b[38;5;124mf\u001b[39m\u001b[38;5;124m\"\u001b[39m\u001b[38;5;124mFor the given forecasting case, the provided \u001b[39m\u001b[38;5;132;01m{\u001b[39;00mmain_covariate_type\u001b[38;5;241m.\u001b[39mvalue\u001b[38;5;132;01m}\u001b[39;00m\u001b[38;5;124m covariates at \u001b[39m\u001b[38;5;124m\"\u001b[39m\n\u001b[1;32m   (...)\u001b[0m\n\u001b[0;32m    106\u001b[0m         logger\u001b[38;5;241m=\u001b[39mlogger,\n\u001b[0;32m    107\u001b[0m     )\n\u001b[0;32m    108\u001b[0m \u001b[38;5;28;01mif\u001b[39;00m \u001b[38;5;129;01mnot\u001b[39;00m covariate_series\u001b[38;5;241m.\u001b[39mend_time() \u001b[38;5;241m>\u001b[39m\u001b[38;5;241m=\u001b[39m future_end:\n\u001b[1;32m--> 109\u001b[0m     \u001b[43mraise_log\u001b[49m\u001b[43m(\u001b[49m\n\u001b[0;32m    110\u001b[0m \u001b[43m        \u001b[49m\u001b[38;5;167;43;01mValueError\u001b[39;49;00m\u001b[43m(\u001b[49m\n\u001b[0;32m    111\u001b[0m \u001b[43m            \u001b[49m\u001b[38;5;124;43mf\u001b[39;49m\u001b[38;5;124;43m\"\u001b[39;49m\u001b[38;5;124;43mFor the given forecasting horizon `n=\u001b[39;49m\u001b[38;5;132;43;01m{\u001b[39;49;00m\u001b[43mn\u001b[49m\u001b[38;5;132;43;01m}\u001b[39;49;00m\u001b[38;5;124;43m`, the provided \u001b[39;49m\u001b[38;5;132;43;01m{\u001b[39;49;00m\u001b[43mmain_covariate_type\u001b[49m\u001b[38;5;241;43m.\u001b[39;49m\u001b[43mvalue\u001b[49m\u001b[38;5;132;43;01m}\u001b[39;49;00m\u001b[38;5;124;43m covariates \u001b[39;49m\u001b[38;5;124;43m\"\u001b[39;49m\n\u001b[0;32m    112\u001b[0m \u001b[43m            \u001b[49m\u001b[38;5;124;43mf\u001b[39;49m\u001b[38;5;124;43m\"\u001b[39;49m\u001b[38;5;124;43mat dataset index `\u001b[39;49m\u001b[38;5;132;43;01m{\u001b[39;49;00m\u001b[43mtarget_idx\u001b[49m\u001b[38;5;132;43;01m}\u001b[39;49;00m\u001b[38;5;124;43m` do not extend far enough into the future. As `\u001b[39;49m\u001b[38;5;124;43m\"\u001b[39;49m\n\u001b[0;32m    113\u001b[0m \u001b[43m            \u001b[49m\u001b[38;5;124;43mf\u001b[39;49m\u001b[38;5;124;43m\"\u001b[39;49m\u001b[38;5;132;43;01m{\u001b[39;49;00m\u001b[38;5;124;43m'\u001b[39;49m\u001b[38;5;124;43mn > output_chunk_length\u001b[39;49m\u001b[38;5;124;43m'\u001b[39;49m\u001b[38;5;250;43m \u001b[39;49m\u001b[38;5;28;43;01mif\u001b[39;49;00m\u001b[38;5;250;43m \u001b[39;49m\u001b[43mn\u001b[49m\u001b[38;5;250;43m \u001b[39;49m\u001b[38;5;241;43m>\u001b[39;49m\u001b[38;5;250;43m \u001b[39;49m\u001b[43moutput_chunk_length\u001b[49m\u001b[38;5;250;43m \u001b[39;49m\u001b[38;5;28;43;01melse\u001b[39;49;00m\u001b[38;5;250;43m \u001b[39;49m\u001b[38;5;124;43m'\u001b[39;49m\u001b[38;5;124;43mn <= output_chunk_length\u001b[39;49m\u001b[38;5;124;43m'\u001b[39;49m\u001b[38;5;132;43;01m}\u001b[39;49;00m\u001b[38;5;124;43m\"\u001b[39;49m\n\u001b[0;32m    114\u001b[0m \u001b[43m            \u001b[49m\u001b[38;5;124;43mf\u001b[39;49m\u001b[38;5;124;43m\"\u001b[39;49m\u001b[38;5;124;43m` the \u001b[39;49m\u001b[38;5;132;43;01m{\u001b[39;49;00m\u001b[43mmain_covariate_type\u001b[49m\u001b[38;5;241;43m.\u001b[39;49m\u001b[43mvalue\u001b[49m\u001b[38;5;132;43;01m}\u001b[39;49;00m\u001b[38;5;124;43m covariates must end at time step `\u001b[39;49m\u001b[38;5;132;43;01m{\u001b[39;49;00m\u001b[43mfuture_end\u001b[49m\u001b[38;5;132;43;01m}\u001b[39;49;00m\u001b[38;5;124;43m`, \u001b[39;49m\u001b[38;5;124;43m\"\u001b[39;49m\n\u001b[0;32m    115\u001b[0m \u001b[43m            \u001b[49m\u001b[38;5;124;43mf\u001b[39;49m\u001b[38;5;124;43m\"\u001b[39;49m\u001b[38;5;124;43mwhereas now they end at time step `\u001b[39;49m\u001b[38;5;132;43;01m{\u001b[39;49;00m\u001b[43mcovariate_series\u001b[49m\u001b[38;5;241;43m.\u001b[39;49m\u001b[43mend_time\u001b[49m\u001b[43m(\u001b[49m\u001b[43m)\u001b[49m\u001b[38;5;132;43;01m}\u001b[39;49;00m\u001b[38;5;124;43m`.\u001b[39;49m\u001b[38;5;124;43m\"\u001b[39;49m\n\u001b[0;32m    116\u001b[0m \u001b[43m        \u001b[49m\u001b[43m)\u001b[49m\u001b[43m,\u001b[49m\n\u001b[0;32m    117\u001b[0m \u001b[43m        \u001b[49m\u001b[43mlogger\u001b[49m\u001b[38;5;241;43m=\u001b[39;49m\u001b[43mlogger\u001b[49m\u001b[43m,\u001b[49m\n\u001b[0;32m    118\u001b[0m \u001b[43m    \u001b[49m\u001b[43m)\u001b[49m\n\u001b[0;32m    120\u001b[0m \u001b[38;5;66;03m# extract the index position (integer index) from time_index value\u001b[39;00m\n\u001b[0;32m    121\u001b[0m covariate_start \u001b[38;5;241m=\u001b[39m covariate_series\u001b[38;5;241m.\u001b[39mtime_index\u001b[38;5;241m.\u001b[39mget_loc(past_start)\n",
      "File \u001b[1;32mc:\\Users\\James\\AppData\\Local\\Programs\\Python\\Python311\\Lib\\site-packages\\darts\\logging.py:132\u001b[0m, in \u001b[0;36mraise_log\u001b[1;34m(exception, logger)\u001b[0m\n\u001b[0;32m    129\u001b[0m message \u001b[38;5;241m=\u001b[39m \u001b[38;5;28mstr\u001b[39m(exception)\n\u001b[0;32m    130\u001b[0m logger\u001b[38;5;241m.\u001b[39merror(exception_type \u001b[38;5;241m+\u001b[39m \u001b[38;5;124m\"\u001b[39m\u001b[38;5;124m: \u001b[39m\u001b[38;5;124m\"\u001b[39m \u001b[38;5;241m+\u001b[39m message)\n\u001b[1;32m--> 132\u001b[0m \u001b[38;5;28;01mraise\u001b[39;00m exception\n",
      "\u001b[1;31mValueError\u001b[0m: For the given forecasting horizon `n=3`, the provided past covariates at dataset index `0` do not extend far enough into the future. As `n <= output_chunk_length` the past covariates must end at time step `2024-03-01 00:00:00`, whereas now they end at time step `2023-12-01 00:00:00`."
     ]
    }
   ],
   "source": [
    "horizion3 = []\n",
    "for i in range(4):\n",
    "    pred = model.predict(n=3,series=scaled_total,past_covariates=scaled_total_exo)\n",
    "    horizion3.append(pred)\n",
    "    \n",
    "    # Extend the series with the latest prediction for next iteration\n",
    "    scaled_total = scaled_total.append(pred)"
   ]
  }
 ],
 "metadata": {
  "kernelspec": {
   "display_name": "Python 3",
   "language": "python",
   "name": "python3"
  },
  "language_info": {
   "codemirror_mode": {
    "name": "ipython",
    "version": 3
   },
   "file_extension": ".py",
   "mimetype": "text/x-python",
   "name": "python",
   "nbconvert_exporter": "python",
   "pygments_lexer": "ipython3",
   "version": "3.11.2"
  }
 },
 "nbformat": 4,
 "nbformat_minor": 2
}
